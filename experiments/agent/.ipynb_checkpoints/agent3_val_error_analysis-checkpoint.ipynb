{
 "cells": [
  {
   "cell_type": "markdown",
   "id": "67ff4e07-d350-4a19-aaf1-64cf99d5d9fa",
   "metadata": {},
   "source": [
    "# Анализ ошибок ошибок сильного бейзлайна и версии агента 3"
   ]
  },
  {
   "cell_type": "code",
   "execution_count": 1,
   "id": "0e195fbe-1b95-429e-92e6-02dbd0a8ae7d",
   "metadata": {
    "tags": []
   },
   "outputs": [],
   "source": [
    "import pandas as pd\n",
    "import sys\n",
    "import os\n",
    "\n",
    "# Добавляем путь к проекту, чтобы можно было импортировать из utils\n",
    "try:\n",
    "    CURRENT_DIR = os.path.dirname(os.path.abspath(__file__))\n",
    "except NameError:\n",
    "    CURRENT_DIR = os.getcwd()\n",
    "    \n",
    "BASE_DIR = os.path.abspath(os.path.join(CURRENT_DIR, \"..\", \"..\"))\n",
    "if BASE_DIR not in sys.path:\n",
    "    sys.path.insert(0, BASE_DIR)\n",
    "from utils.config import AGENT_RESULTS_DIR, EXPERIMENTS_DIR, RELEVANCE_COL  \n",
    "from utils.inspector import inspect_row\n",
    "from utils.unify_columns import unify_df"
   ]
  },
  {
   "cell_type": "code",
   "execution_count": 2,
   "id": "870d0145-68b9-40ac-bc60-c27a75ddfc92",
   "metadata": {
    "tags": []
   },
   "outputs": [],
   "source": [
    "df_baseline_val = pd.read_csv(os.path.join(EXPERIMENTS_DIR, \"baseline_val_predictions.csv\"))\n",
    "df_val1 = pd.read_csv(os.path.join(AGENT_RESULTS_DIR, \"agent_val_predictions_v1.csv\"))\n",
    "df_val2 = pd.read_csv(os.path.join(AGENT_RESULTS_DIR, \"agent_val_predictions_v2.csv\"))\n",
    "df_val3 = pd.read_csv(os.path.join(AGENT_RESULTS_DIR, \"agent_val_predictions_v3.csv\"))\n",
    "df_baseline_test = pd.read_csv(os.path.join(EXPERIMENTS_DIR, \"baseline_test_predictions.csv\"))\n",
    "df_test1 = pd.read_csv(os.path.join(AGENT_RESULTS_DIR, \"agent_test_predictions_v1.csv\"))\n",
    "df_test2 = pd.read_csv(os.path.join(AGENT_RESULTS_DIR, \"agent_test_predictions_v2.csv\"))\n",
    "df_test3 = pd.read_csv(os.path.join(AGENT_RESULTS_DIR, \"agent_test_predictions_v3.csv\"))"
   ]
  },
  {
   "cell_type": "code",
   "execution_count": 3,
   "id": "59a2acc6-4044-469d-ae30-24388b913b4e",
   "metadata": {},
   "outputs": [],
   "source": [
    "# Применяем ко всем датасетам\n",
    "for df_name in ['df_val1', 'df_val2', 'df_val3', 'df_baseline_val', 'df_test1', 'df_test2', 'df_test3', 'df_baseline_test']:\n",
    "    globals()[df_name] = unify_df(globals()[df_name])\n",
    "\n",
    "for df_name in ['df_val1', 'df_val2', 'df_val3', 'df_baseline_val', 'df_test1', 'df_test2', 'df_test3', 'df_baseline_test']:\n",
    "    df = globals()[df_name]\n",
    "    if 'model_response' in df.columns:\n",
    "        globals()[df_name] = df.drop(columns=['model_response'])"
   ]
  },
  {
   "cell_type": "code",
   "execution_count": 4,
   "id": "acb529f2-b43a-46ea-ad61-eb023585318e",
   "metadata": {
    "scrolled": true
   },
   "outputs": [],
   "source": [
    "exclude_cols = ['agent_log', 'pred_relevance']\n",
    "\n",
    "def clean_df(df):\n",
    "    return df.drop(columns=exclude_cols, errors='ignore').fillna('nan')\n",
    "\n",
    "assert all(\n",
    "    clean_df(df_val1).equals(clean_df(df))\n",
    "    for df in [df_val2, df_val3, df_baseline_val]\n",
    "), \"Валидационные датасеты не идентичны\"\n",
    "\n",
    "assert all(\n",
    "    clean_df(df_test1).equals(clean_df(df))\n",
    "    for df in [df_test2, df_test3, df_baseline_test]\n",
    "), \"Тестовые датасеты не идентичны\""
   ]
  },
  {
   "cell_type": "code",
   "execution_count": 5,
   "id": "d58017b4-4cfa-4147-8e47-a0f0bb6b8bed",
   "metadata": {},
   "outputs": [
    {
     "data": {
      "text/html": [
       "<div>\n",
       "<style scoped>\n",
       "    .dataframe tbody tr th:only-of-type {\n",
       "        vertical-align: middle;\n",
       "    }\n",
       "\n",
       "    .dataframe tbody tr th {\n",
       "        vertical-align: top;\n",
       "    }\n",
       "\n",
       "    .dataframe thead th {\n",
       "        text-align: right;\n",
       "    }\n",
       "</style>\n",
       "<table border=\"1\" class=\"dataframe\">\n",
       "  <thead>\n",
       "    <tr style=\"text-align: right;\">\n",
       "      <th></th>\n",
       "      <th>rows</th>\n",
       "      <th>columns</th>\n",
       "    </tr>\n",
       "  </thead>\n",
       "  <tbody>\n",
       "    <tr>\n",
       "      <th>размер валидации</th>\n",
       "      <td>299</td>\n",
       "      <td>10</td>\n",
       "    </tr>\n",
       "    <tr>\n",
       "      <th>размер теста</th>\n",
       "      <td>500</td>\n",
       "      <td>10</td>\n",
       "    </tr>\n",
       "  </tbody>\n",
       "</table>\n",
       "</div>"
      ],
      "text/plain": [
       "                  rows  columns\n",
       "размер валидации   299       10\n",
       "размер теста       500       10"
      ]
     },
     "execution_count": 5,
     "metadata": {},
     "output_type": "execute_result"
    }
   ],
   "source": [
    "shapes = {\n",
    "    \"размер валидации\": df_baseline_val.shape,\n",
    "    \"размер теста\": df_baseline_test.shape,\n",
    "}\n",
    "\n",
    "shape_df = pd.DataFrame(shapes, index=[\"rows\", \"columns\"]).T\n",
    "shape_df"
   ]
  },
  {
   "cell_type": "code",
   "execution_count": 6,
   "id": "54546558-24eb-42e0-a214-fad1aca35c7b",
   "metadata": {},
   "outputs": [
    {
     "data": {
      "text/html": [
       "<div>\n",
       "<style scoped>\n",
       "    .dataframe tbody tr th:only-of-type {\n",
       "        vertical-align: middle;\n",
       "    }\n",
       "\n",
       "    .dataframe tbody tr th {\n",
       "        vertical-align: top;\n",
       "    }\n",
       "\n",
       "    .dataframe thead th {\n",
       "        text-align: right;\n",
       "    }\n",
       "</style>\n",
       "<table border=\"1\" class=\"dataframe\">\n",
       "  <thead>\n",
       "    <tr style=\"text-align: right;\">\n",
       "      <th>relevance_new</th>\n",
       "      <th>1.0</th>\n",
       "      <th>0.0</th>\n",
       "    </tr>\n",
       "  </thead>\n",
       "  <tbody>\n",
       "    <tr>\n",
       "      <th>распределение таргета на валидации</th>\n",
       "      <td>57.53</td>\n",
       "      <td>42.47</td>\n",
       "    </tr>\n",
       "    <tr>\n",
       "      <th>распределение таргета на тесте</th>\n",
       "      <td>63.40</td>\n",
       "      <td>36.60</td>\n",
       "    </tr>\n",
       "  </tbody>\n",
       "</table>\n",
       "</div>"
      ],
      "text/plain": [
       "relevance_new                         1.0    0.0\n",
       "распределение таргета на валидации  57.53  42.47\n",
       "распределение таргета на тесте      63.40  36.60"
      ]
     },
     "execution_count": 6,
     "metadata": {},
     "output_type": "execute_result"
    }
   ],
   "source": [
    "dfs = {\n",
    "    \"распределение таргета на валидации\": df_baseline_val,\n",
    "    \"распределение таргета на тесте\": df_test1,\n",
    "}\n",
    "\n",
    "balance_table = pd.DataFrame({\n",
    "    name: df['relevance_new'].value_counts(normalize=True)\n",
    "    for name, df in dfs.items()\n",
    "}).fillna(0).T\n",
    "\n",
    "balance_table = (balance_table * 100).round(2)\n",
    "balance_table"
   ]
  },
  {
   "cell_type": "code",
   "execution_count": 7,
   "id": "ae87bd60-47d2-4a39-953d-6e26502002ef",
   "metadata": {},
   "outputs": [
    {
     "data": {
      "text/html": [
       "<div>\n",
       "<style scoped>\n",
       "    .dataframe tbody tr th:only-of-type {\n",
       "        vertical-align: middle;\n",
       "    }\n",
       "\n",
       "    .dataframe tbody tr th {\n",
       "        vertical-align: top;\n",
       "    }\n",
       "\n",
       "    .dataframe thead th {\n",
       "        text-align: right;\n",
       "    }\n",
       "</style>\n",
       "<table border=\"1\" class=\"dataframe\">\n",
       "  <thead>\n",
       "    <tr style=\"text-align: right;\">\n",
       "      <th>pred_relevance</th>\n",
       "      <th>1.0</th>\n",
       "      <th>0.0</th>\n",
       "    </tr>\n",
       "  </thead>\n",
       "  <tbody>\n",
       "    <tr>\n",
       "      <th>распределение таргета на валидации</th>\n",
       "      <td>66.22</td>\n",
       "      <td>33.78</td>\n",
       "    </tr>\n",
       "    <tr>\n",
       "      <th>распределение таргета на тесте</th>\n",
       "      <td>70.20</td>\n",
       "      <td>29.80</td>\n",
       "    </tr>\n",
       "  </tbody>\n",
       "</table>\n",
       "</div>"
      ],
      "text/plain": [
       "pred_relevance                        1.0    0.0\n",
       "распределение таргета на валидации  66.22  33.78\n",
       "распределение таргета на тесте      70.20  29.80"
      ]
     },
     "execution_count": 7,
     "metadata": {},
     "output_type": "execute_result"
    }
   ],
   "source": [
    "pred_balance_table = pd.DataFrame({\n",
    "    name: df['pred_relevance'].value_counts(normalize=True)\n",
    "    for name, df in dfs.items()\n",
    "}).fillna(0).T\n",
    "\n",
    "pred_balance_table = (pred_balance_table * 100).round(2)\n",
    "pred_balance_table"
   ]
  },
  {
   "cell_type": "code",
   "execution_count": 8,
   "id": "aa16af73-7689-40ea-9ac1-95f21b84d4ce",
   "metadata": {},
   "outputs": [
    {
     "name": "stdout",
     "output_type": "stream",
     "text": [
      "=== Сравнение бейзлайна и версий агента ===\n",
      "\n"
     ]
    },
    {
     "data": {
      "text/html": [
       "<div>\n",
       "<style scoped>\n",
       "    .dataframe tbody tr th:only-of-type {\n",
       "        vertical-align: middle;\n",
       "    }\n",
       "\n",
       "    .dataframe tbody tr th {\n",
       "        vertical-align: top;\n",
       "    }\n",
       "\n",
       "    .dataframe thead th {\n",
       "        text-align: right;\n",
       "    }\n",
       "</style>\n",
       "<table border=\"1\" class=\"dataframe\">\n",
       "  <thead>\n",
       "    <tr style=\"text-align: right;\">\n",
       "      <th></th>\n",
       "      <th>split</th>\n",
       "      <th>model</th>\n",
       "      <th>description</th>\n",
       "      <th>accuracy</th>\n",
       "    </tr>\n",
       "  </thead>\n",
       "  <tbody>\n",
       "    <tr>\n",
       "      <th>0</th>\n",
       "      <td>val</td>\n",
       "      <td>baseline</td>\n",
       "      <td>gpt + few-shot in-context learning prompt</td>\n",
       "      <td>0.6856</td>\n",
       "    </tr>\n",
       "    <tr>\n",
       "      <th>1</th>\n",
       "      <td>val</td>\n",
       "      <td>agent1</td>\n",
       "      <td>агент 1 версия</td>\n",
       "      <td>0.6957</td>\n",
       "    </tr>\n",
       "    <tr>\n",
       "      <th>2</th>\n",
       "      <td>val</td>\n",
       "      <td>agent2</td>\n",
       "      <td>агент 2 версия</td>\n",
       "      <td>0.6221</td>\n",
       "    </tr>\n",
       "    <tr>\n",
       "      <th>3</th>\n",
       "      <td>val</td>\n",
       "      <td>agent3</td>\n",
       "      <td>агент 3 версия</td>\n",
       "      <td>0.6288</td>\n",
       "    </tr>\n",
       "    <tr>\n",
       "      <th>4</th>\n",
       "      <td>test</td>\n",
       "      <td>baseline</td>\n",
       "      <td>gpt + few-shot in-context learning prompt</td>\n",
       "      <td>0.7840</td>\n",
       "    </tr>\n",
       "    <tr>\n",
       "      <th>5</th>\n",
       "      <td>test</td>\n",
       "      <td>agent1</td>\n",
       "      <td>агент 1 версия</td>\n",
       "      <td>0.7640</td>\n",
       "    </tr>\n",
       "    <tr>\n",
       "      <th>6</th>\n",
       "      <td>test</td>\n",
       "      <td>agent2</td>\n",
       "      <td>агент 2 версия</td>\n",
       "      <td>0.7360</td>\n",
       "    </tr>\n",
       "    <tr>\n",
       "      <th>7</th>\n",
       "      <td>test</td>\n",
       "      <td>agent3</td>\n",
       "      <td>агент 3 версия</td>\n",
       "      <td>0.7640</td>\n",
       "    </tr>\n",
       "  </tbody>\n",
       "</table>\n",
       "</div>"
      ],
      "text/plain": [
       "  split     model                                description  accuracy\n",
       "0   val  baseline  gpt + few-shot in-context learning prompt    0.6856\n",
       "1   val    agent1                             агент 1 версия    0.6957\n",
       "2   val    agent2                             агент 2 версия    0.6221\n",
       "3   val    agent3                             агент 3 версия    0.6288\n",
       "4  test  baseline  gpt + few-shot in-context learning prompt    0.7840\n",
       "5  test    agent1                             агент 1 версия    0.7640\n",
       "6  test    agent2                             агент 2 версия    0.7360\n",
       "7  test    agent3                             агент 3 версия    0.7640"
      ]
     },
     "execution_count": 8,
     "metadata": {},
     "output_type": "execute_result"
    }
   ],
   "source": [
    "metrics = [\n",
    "    (\"val\", \"baseline\", df_baseline_val, \"pred_relevance\", \"gpt + few-shot in-context learning prompt\"),\n",
    "    (\"val\", \"agent1\", df_val1, \"pred_relevance\", \"агент 1 версия\"),\n",
    "    (\"val\", \"agent2\", df_val2, \"pred_relevance\", \"агент 2 версия\"),\n",
    "    (\"val\", \"agent3\", df_val3, \"pred_relevance\", \"агент 3 версия\"),\n",
    "    (\"test\", \"baseline\", df_baseline_test, \"pred_relevance\", \"gpt + few-shot in-context learning prompt\"),\n",
    "    (\"test\", \"agent1\", df_test1, \"pred_relevance\", \"агент 1 версия\"),\n",
    "    (\"test\", \"agent2\", df_test2, \"pred_relevance\", \"агент 2 версия\"),\n",
    "    (\"test\", \"agent3\", df_test3, \"pred_relevance\", \"агент 3 версия\"),\n",
    "]\n",
    "\n",
    "rows = []\n",
    "\n",
    "for split, model, df, pred_col, desc in metrics:\n",
    "    acc = (df[RELEVANCE_COL] == df[pred_col]).mean()\n",
    "    rows.append({\"split\": split, \"model\": model, \"description\": desc, \"accuracy\": round(acc, 4)})\n",
    "\n",
    "acc_df = pd.DataFrame(rows)\n",
    "print('=== Сравнение бейзлайна и версий агента ===\\n')\n",
    "acc_df"
   ]
  },
  {
   "cell_type": "code",
   "execution_count": 9,
   "id": "f6817f1d-dbbd-4ce6-86e9-5ed8f6abf338",
   "metadata": {},
   "outputs": [],
   "source": [
    "def evaluate_models(df_baseline, df_agent1, df_agent2, df_agent3=None, name='val'):\n",
    "    id_col = 'permalink'\n",
    "    label_col = RELEVANCE_COL\n",
    "    pred_col = 'pred_relevance'\n",
    "\n",
    "    # Убедимся, что индекс уникальный\n",
    "    for df in (df_baseline, df_agent1, df_agent2) + ((df_agent3,) if df_agent3 is not None else ()):\n",
    "        if not df.index.is_unique:\n",
    "            df.reset_index(drop=True, inplace=True)\n",
    "\n",
    "    # Проверка совпадения id и меток\n",
    "    for df in (df_agent1, df_agent2) + ((df_agent3,) if df_agent3 is not None else ()):\n",
    "        assert (df[id_col].reset_index(drop=True) == df_baseline[id_col].reset_index(drop=True)).all(), f'{name}: ID не совпадают'\n",
    "        assert (df[label_col].reset_index(drop=True) == df_baseline[label_col].reset_index(drop=True)).all(), f'{name}: метки не совпадают'\n",
    "\n",
    "    df = df_baseline[[id_col, label_col]].copy()\n",
    "    df['baseline_pred'] = df_baseline[pred_col].values\n",
    "    df['agent1_pred'] = df_agent1[pred_col].values\n",
    "    df['agent2_pred'] = df_agent2[pred_col].values\n",
    "    if df_agent3 is not None:\n",
    "        df['agent3_pred'] = df_agent3[pred_col].values\n",
    "\n",
    "    # Ошибки предсказания\n",
    "    df['baseline_error'] = df['baseline_pred'] != df[label_col]\n",
    "    df['agent1_error'] = df['agent1_pred'] != df[label_col]\n",
    "    df['agent2_error'] = df['agent2_pred'] != df[label_col]\n",
    "    if df_agent3 is not None:\n",
    "        df['agent3_error'] = df['agent3_pred'] != df[label_col]\n",
    "\n",
    "    # Консенсус ошибок (все ошибаются и предсказания совпадают)\n",
    "    if df_agent3 is not None:\n",
    "        df['consensus'] = (\n",
    "            df['baseline_error'] &\n",
    "            df['agent1_error'] &\n",
    "            df['agent2_error'] &\n",
    "            df['agent3_error'] &\n",
    "            (df['baseline_pred'] == df['agent1_pred']) &\n",
    "            (df['baseline_pred'] == df['agent2_pred']) &\n",
    "            (df['baseline_pred'] == df['agent3_pred'])\n",
    "        )\n",
    "    else:\n",
    "        df['consensus'] = (\n",
    "            df['baseline_error'] &\n",
    "            df['agent1_error'] &\n",
    "            df['agent2_error'] &\n",
    "            (df['baseline_pred'] == df['agent1_pred']) &\n",
    "            (df['baseline_pred'] == df['agent2_pred'])\n",
    "        )\n",
    "\n",
    "    # Ошибки только одного агента\n",
    "    if df_agent3 is not None:\n",
    "        df['only_baseline_wrong'] = df['baseline_error'] & ~df['agent1_error'] & ~df['agent2_error'] & ~df['agent3_error']\n",
    "        df['only_agent1_wrong'] = ~df['baseline_error'] & df['agent1_error'] & ~df['agent2_error'] & ~df['agent3_error']\n",
    "        df['only_agent2_wrong'] = ~df['baseline_error'] & ~df['agent1_error'] & df['agent2_error'] & ~df['agent3_error']\n",
    "        df['only_agent3_wrong'] = ~df['baseline_error'] & ~df['agent1_error'] & ~df['agent2_error'] & df['agent3_error']\n",
    "    else:\n",
    "        df['only_baseline_wrong'] = df['baseline_error'] & ~df['agent1_error'] & ~df['agent2_error']\n",
    "        df['only_agent1_wrong'] = ~df['baseline_error'] & df['agent1_error'] & ~df['agent2_error']\n",
    "        df['only_agent2_wrong'] = ~df['baseline_error'] & ~df['agent1_error'] & df['agent2_error']\n",
    "\n",
    "    total = len(df)\n",
    "    summary = {\n",
    "        'baseline_errors': df['baseline_error'].sum(),\n",
    "        'agent1_errors': df['agent1_error'].sum(),\n",
    "        'agent2_errors': df['agent2_error'].sum(),\n",
    "        'consensus_errors': df['consensus'].sum(),\n",
    "        'consensus_fraction': df['consensus'].mean(),\n",
    "        'only_baseline_wrong': df['only_baseline_wrong'].sum(),\n",
    "        'only_agent1_wrong': df['only_agent1_wrong'].sum(),\n",
    "        'only_agent2_wrong': df['only_agent2_wrong'].sum(),\n",
    "    }\n",
    "    if df_agent3 is not None:\n",
    "        summary['agent3_errors'] = df['agent3_error'].sum()\n",
    "        summary['only_agent3_wrong'] = df['only_agent3_wrong'].sum()\n",
    "\n",
    "    print(f'\\n{name.upper()} SET')\n",
    "    print(f\"Total samples: {total}\")\n",
    "    print(f\"Baseline errors: {summary['baseline_errors']}\")\n",
    "    print(f\"Agent1 errors: {summary['agent1_errors']}\")\n",
    "    print(f\"Agent2 errors: {summary['agent2_errors']}\")\n",
    "    if df_agent3 is not None:\n",
    "        print(f\"Agent3 errors: {summary['agent3_errors']}\")\n",
    "    print(f\"Consensus errors: {summary['consensus_errors']} ({summary['consensus_fraction']:.2%})\")\n",
    "    print(f\"Only baseline wrong: {summary['only_baseline_wrong']}\")\n",
    "    print(f\"Only agent1 wrong: {summary['only_agent1_wrong']}\")\n",
    "    print(f\"Only agent2 wrong: {summary['only_agent2_wrong']}\")\n",
    "    if df_agent3 is not None:\n",
    "        print(f\"Only agent3 wrong: {summary['only_agent3_wrong']}\")\n",
    "\n",
    "    save_dir = os.path.join(CURRENT_DIR, 'analysis_errors', name)\n",
    "    os.makedirs(save_dir, exist_ok=True)\n",
    "\n",
    "    def save_rows(mask, source_df, suffix):\n",
    "        idxs = df[mask].index\n",
    "        full = source_df.loc[idxs].copy()\n",
    "        full.to_csv(os.path.join(save_dir, f'{suffix}.csv'), index=False)\n",
    "\n",
    "    consensus_idxs = df[df['consensus']].index\n",
    "    consensus_rows = df_baseline.loc[consensus_idxs].copy()\n",
    "    consensus_rows.to_csv(os.path.join(save_dir, 'consensus_errors.csv'), index=False)\n",
    "\n",
    "    save_rows(df['only_baseline_wrong'], df_baseline, 'only_baseline_wrong')\n",
    "    save_rows(df['only_agent1_wrong'], df_agent1, 'only_agent1_wrong')\n",
    "    save_rows(df['only_agent2_wrong'], df_agent2, 'only_agent2_wrong')\n",
    "    if df_agent3 is not None:\n",
    "        save_rows(df['only_agent3_wrong'], df_agent3, 'only_agent3_wrong')\n",
    "\n",
    "    for model_name, source_df in zip(\n",
    "        ['baseline', 'agent1', 'agent2'] + (['agent3'] if df_agent3 is not None else []),\n",
    "        [df_baseline, df_agent1, df_agent2] + ([df_agent3] if df_agent3 is not None else [])\n",
    "    ):\n",
    "        save_rows(df['consensus'], source_df, f'{model_name}_consensus_error')\n",
    "\n",
    "    ret = {\n",
    "        'name': name,\n",
    "        'summary': summary,\n",
    "        'df': df,\n",
    "        'consensus_errors': df[df['consensus']].copy(),\n",
    "        'only_baseline_wrong': df[df['only_baseline_wrong']].copy(),\n",
    "        'only_agent1_wrong': df[df['only_agent1_wrong']].copy(),\n",
    "        'only_agent2_wrong': df[df['only_agent2_wrong']].copy(),\n",
    "    }\n",
    "    if df_agent3 is not None:\n",
    "        ret['only_agent3_wrong'] = df[df['only_agent3_wrong']].copy()\n",
    "\n",
    "    return ret\n",
    "\n",
    "\n",
    "def evaluate_models_both(\n",
    "    df_baseline_val, df_val1, df_val2, df_val3,\n",
    "    df_baseline_test, df_test1, df_test2, df_test3\n",
    "):\n",
    "    res_val = evaluate_models(df_baseline_val, df_val1, df_val2, df_val3, name='val')\n",
    "    res_test = evaluate_models(df_baseline_test, df_test1, df_test2, df_test3, name='test')\n",
    "    return res_val, res_test"
   ]
  },
  {
   "cell_type": "code",
   "execution_count": 10,
   "id": "314cd06c-3379-48b1-9299-9eb059ff2fcf",
   "metadata": {},
   "outputs": [
    {
     "name": "stdout",
     "output_type": "stream",
     "text": [
      "\n",
      "VAL SET\n",
      "Total samples: 299\n",
      "Baseline errors: 94\n",
      "Agent1 errors: 91\n",
      "Agent2 errors: 113\n",
      "Agent3 errors: 111\n",
      "Consensus errors: 72 (24.08%)\n",
      "Only baseline wrong: 2\n",
      "Only agent1 wrong: 3\n",
      "Only agent2 wrong: 5\n",
      "Only agent3 wrong: 3\n",
      "\n",
      "TEST SET\n",
      "Total samples: 500\n",
      "Baseline errors: 108\n",
      "Agent1 errors: 118\n",
      "Agent2 errors: 132\n",
      "Agent3 errors: 118\n",
      "Consensus errors: 64 (12.80%)\n",
      "Only baseline wrong: 11\n",
      "Only agent1 wrong: 15\n",
      "Only agent2 wrong: 11\n",
      "Only agent3 wrong: 5\n"
     ]
    }
   ],
   "source": [
    "val_results, test_results = evaluate_models_both(\n",
    "    df_baseline_val, df_val1, df_val2, df_val3,\n",
    "    df_baseline_test, df_test1, df_test2, df_test3\n",
    ")"
   ]
  },
  {
   "cell_type": "code",
   "execution_count": 11,
   "id": "ad0035a3-f97c-4be9-8dbe-f428a20136bd",
   "metadata": {},
   "outputs": [
    {
     "name": "stdout",
     "output_type": "stream",
     "text": [
      "===Распределение предсказаний по консенсусным ошибкам (где все модели одинаково ошибаются)===\n",
      "\n"
     ]
    },
    {
     "data": {
      "text/html": [
       "<div>\n",
       "<style scoped>\n",
       "    .dataframe tbody tr th:only-of-type {\n",
       "        vertical-align: middle;\n",
       "    }\n",
       "\n",
       "    .dataframe tbody tr th {\n",
       "        vertical-align: top;\n",
       "    }\n",
       "\n",
       "    .dataframe thead th {\n",
       "        text-align: right;\n",
       "    }\n",
       "</style>\n",
       "<table border=\"1\" class=\"dataframe\">\n",
       "  <thead>\n",
       "    <tr style=\"text-align: right;\">\n",
       "      <th></th>\n",
       "      <th>predictions</th>\n",
       "      <th>Val - Baseline</th>\n",
       "      <th>Test - Baseline</th>\n",
       "    </tr>\n",
       "  </thead>\n",
       "  <tbody>\n",
       "    <tr>\n",
       "      <th>0</th>\n",
       "      <td>0.0</td>\n",
       "      <td>23</td>\n",
       "      <td>25</td>\n",
       "    </tr>\n",
       "    <tr>\n",
       "      <th>1</th>\n",
       "      <td>1.0</td>\n",
       "      <td>49</td>\n",
       "      <td>39</td>\n",
       "    </tr>\n",
       "  </tbody>\n",
       "</table>\n",
       "</div>"
      ],
      "text/plain": [
       "   predictions  Val - Baseline  Test - Baseline\n",
       "0          0.0              23               25\n",
       "1          1.0              49               39"
      ]
     },
     "execution_count": 11,
     "metadata": {},
     "output_type": "execute_result"
    }
   ],
   "source": [
    "val_baseline = val_results[\"consensus_errors\"][\"baseline_pred\"].value_counts()\n",
    "test_baseline = test_results[\"consensus_errors\"][\"baseline_pred\"].value_counts()\n",
    "summary = pd.DataFrame({\n",
    "    \"Val - Baseline\": val_baseline,\n",
    "    \"Test - Baseline\": test_baseline\n",
    "}).fillna(0).astype(int).sort_index()\n",
    "summary = summary.reset_index().rename(columns={\"baseline_pred\": \"predictions\"})\n",
    "print(\"===Распределение предсказаний по консенсусным ошибкам (где все модели одинаково ошибаются)===\\n\")\n",
    "summary"
   ]
  },
  {
   "cell_type": "markdown",
   "id": "67b42bf5-2cd5-4cf7-9f3c-4f5dfd22cde8",
   "metadata": {},
   "source": [
    "## Анализ ошибок агента 3"
   ]
  },
  {
   "cell_type": "code",
   "execution_count": 12,
   "id": "8f9889f8-efa8-410a-b5f5-24e606a37806",
   "metadata": {},
   "outputs": [
    {
     "data": {
      "text/plain": [
       "(3, 11)"
      ]
     },
     "execution_count": 12,
     "metadata": {},
     "output_type": "execute_result"
    }
   ],
   "source": [
    "file_path = os.path.join(CURRENT_DIR, \"analysis_errors\", \"val\", \"only_agent3_wrong.csv\")\n",
    "unique_error_agent3 = pd.read_csv(file_path)\n",
    "unique_error_agent3.shape"
   ]
  },
  {
   "cell_type": "code",
   "execution_count": 13,
   "id": "50692bdd-65a1-445c-9f02-2c9b749a582e",
   "metadata": {},
   "outputs": [],
   "source": [
    "assessors_errors_3 = [] \n",
    "model_errors_3 = []"
   ]
  },
  {
   "cell_type": "markdown",
   "id": "8ae1d805-fc5d-428f-ae2d-9e84a25ed742",
   "metadata": {},
   "source": [
    "### Латентная нерелевантность раскрыта агентом"
   ]
  },
  {
   "cell_type": "markdown",
   "id": "a4e18931-359a-4ffe-aff4-dc6d89287c64",
   "metadata": {},
   "source": [
    "Агент нашел информацию о том, что кафе временно закрыто!"
   ]
  },
  {
   "cell_type": "code",
   "execution_count": 14,
   "id": "b8105ba8-1276-4859-971e-2de818c2dd11",
   "metadata": {},
   "outputs": [],
   "source": [
    "assessors_errors_3.append(int(unique_error_agent3.loc[0]['permalink']))"
   ]
  },
  {
   "cell_type": "code",
   "execution_count": 15,
   "id": "aecd30f0-6530-4232-9949-d3981ed2a06b",
   "metadata": {},
   "outputs": [
    {
     "data": {
      "text/html": [
       "\n",
       "<div style=\"border:1px solid #ccc; padding:16px; border-radius:10px;\n",
       "            font-family:sans-serif; background-color:#f9f9f9; margin-bottom:20px\">\n",
       "  <h2>📌 Index: 0</h2>\n",
       "  <p><strong>Запрос:</strong><br>Еда с собой</p>\n",
       "  <p><strong>Адрес:</strong><br>Республика Крым, Феодосия, улица Куйбышева, 10А</p>\n",
       "  <p><strong>Название:</strong><br>Mr. Хинкалов; Mr. Khinkalov; Mr.Хинкалов</p>\n",
       "  <p><strong>ID Организации:</strong><br>78741305469</p>\n",
       "  <p><strong>Рубрика:</strong><br>Кафе</p>\n",
       "  <p><strong>Описание:</strong><br>Кафе Mr. Хинкалов предлагает широкий выбор грузинских и кавказских блюд, включая супы, салаты, мясные и рыбные блюда, хачапури и хинкали, а также напитки. | Долма | Хачапури по-аджарски | Хинкали (разные виды) | Цезаридзе с курицей | Суп харчо | Люля кебаб | Чай авторский | Лимонад фирменный</p>\n",
       "  <p><strong>Истинная релевантность:</strong> 1.0</p>\n",
       "  <p><strong>Отзывы:</strong><br>Организация занимается подачей блюд грузинской кухни, включая хинкали и хачапури, а также предоставляет услуги доставки. Отзывы преимущественно положительные: хвалят вкус еды, атмосферу и обслуживание, однако есть замечания по поводу долгого обслуживания и неудобств, связанных с расположением и временем работы. | 1. Хвалят нормальное качество хинкали | 2. Отмечают вкусноту блюд | 3. Положительно отзываются о грузинском салате | 4. Считают заведение хорошим | 5. Рекомендуют заведение | 6. Подчёркивают вкус зинкали | 7. Отмечают высокое качество приготовления | 8. Хвалят ассортимент | 9. Критикуют душноту, долгое обслуживание и невкусную еду | 10. Отмечают быстроту и вкусноту | 11. Рекомендуют заведение | 12. Подчёркивают соотношение вкуса и цены | 13. Отмечают дороговизну, но вкусноту | 14. Упоминают душноту летом, но нормальную кухню | 15. Подчёркивают вкусноту | 16. Отмечают регулярное посещение заведения | 17. Хвалят хинкали и вкус | 18. Подчёркивают качество хачапури по-аджарски | 19. Отмечают общее качество блюд | 20. Подчёркивают соотношение цены и качества | 21. Критикуют долгое обслуживание | 22. Хвалят низкие цены и вкус | 23. Рекомендуют кафе грузинской кухни | 24. Отмечают быструю и качественную доставку | 25. Подчёркивают уют и вкус | 26. Хвалят хинкали | 27. Отмечают атмосферу и вкус | 28. Критикуют мелкие недочёты | 29. Подчёркивают вкусные хинкали и уют | 30. Отмечают высокие оценки заведения | 31. Критикуют отсутствие свободных мест | 32. Хвалят кухню | 33. Подчёркивают вкусовые качества блюд | 34. Критикуют обслуживание и вкус хинкали с бараниной | 35. Отмечают стильный интерьер | 36. Критикуют невкусную еду, несмотря на низкую цену | 37. Хвалят вкус и фирменный лимонад | 38. Подчёркивают атмосферу и чистоту | 39. Отмечают профессионализм обслуживания | 40. Критикуют ожидание в полупустом зале</p>\n",
       "  <p><strong>Предсказание модели (pred_relevance):</strong><br>0.0</p>\n",
       "  \n",
       "        <details style=\"margin-top:10px;\">\n",
       "            <summary style=\"cursor:pointer;\"><strong>🧠 Agent log (раскрыть)</strong></summary>\n",
       "            <pre style=\"white-space:pre-wrap; background:#eee; padding:10px; border-radius:6px;\">\n",
       "{'need_search_decision': 'YES', 'search_prompt': '# llm_relevance_agent/agent/prompts/need_search_v2.txt\\n# Убран пункт ### Когда поиск не нужен (NO):\\\\n1. Рубрика явно соответствует или не соответствует запросу.\\n\\nОпредели, нужно ли искать дополнительную информацию об организации, чтобы достоверно определить её релевантность пользовательскому запросу.\\n\\nОтвет строго одним из двух вариантов:\\n- \"YES\" — если информации недостаточно для достоверной оценки.\\n- \"NO\" — если можно точно определить релевантность уже по имеющимся данным.\\n\\n### Когда нужен поиск (YES):\\n1. В запросе есть уточнения (время работы, конкретные услуги, цены, бренды).\\n2. Рубрика слишком общая, а запрос специфичный.\\n3. Неясно, предоставляет ли организация нужную услугу.\\n4. В запросе есть временные или географические ограничения.\\n\\n\\n### Когда поиск не нужен (NO):\\n1. Отзывы подтверждают ключевые требования из запроса — нужные услуги, условия или особенности.\\n2. Запрос общий, а информации достаточно.\\n\\n### Примеры:\\nПользовательский запрос: Шиномонтаж 24\\nОрганизация:\\nНазвание: Шиномонтаж\\nАдрес: Республика Калмыкия, Элиста, улица В.И. Ленина, 7, стр. 8А\\nРубрика: Шиномонтаж\\nОтзывы: Организация занимается шиномонтажом. Отзывы положительные: хвалят высокое качество работы.\\nОтвет: YES\\n\\nПользовательский запрос: где дешево поесть в санкт-петербурге 2017\\nОрганизация:\\nНазвание: Буше; Bushe; БУШЕ пекарня-кондитерская ООО\\nАдрес: Санкт-Петербург, Малая Морская улица, 7\\nРубрика: Пекарня\\nОтзывы: Организация занимается выпечкой и продажей кондитерских изделий, а также предлагает завтраки и другие блюда. Отзывы преимущественно положительные: хвалят вкус еды и напитков, атмосферу и обслуживание, но критикуют высокие цены и иногда медленную работу персонала. | 1. Критикуют состояние туалета. | 2. Отмечают, что кухня не работала. | 3. Хвалят заведение в общем. | 4. Считают цены высокими. | 5. Восхищаются круасанами.\\nОтвет: NO\\n\\n### Теперь оцени следующий пример:\\nПользовательский запрос: \"Еда с собой\"\\nОрганизация:\\nНазвание: Mr. Хинкалов; Mr. Khinkalov; Mr.Хинкалов\\nАдрес: Республика Крым, Феодосия, улица Куйбышева, 10А\\nРубрика: Кафе\\nОтзывы: Организация занимается подачей блюд грузинской кухни, включая хинкали и хачапури, а также предоставляет услуги доставки. Отзывы преимущественно положительные: хвалят вкус еды, атмосферу и обслуживание, однако есть замечания по поводу долгого обслуживания и неудобств, связанных с расположением и временем работы. | 1. Хвалят нормальное качество хинкали | 2. Отмечают вкусноту блюд | 3. Положительно отзываются о грузинском салате | 4. Считают заведение хорошим | 5. Рекомендуют заведение | 6. Подчёркивают вкус зинкали | 7. Отмечают высокое качество приготовления | 8. Хвалят ассортимент | 9. Критикуют душноту, долгое обслуживание и невкусную еду | 10. Отмечают быстроту и вкусноту | 11. Рекомендуют заведение | 12. Подчёркивают соотношение вкуса и цены | 13. Отмечают дороговизну, но вкусноту | 14. Упоминают душноту летом, но нормальную кухню | 15. Подчёркивают вкусноту | 16. Отмечают регулярное посещение заведения | 17. Хвалят хинкали и вкус | 18. Подчёркивают качество хачапури по-аджарски | 19. Отмечают общее качество блюд | 20. Подчёркивают соотношение цены и качества | 21. Критикуют долгое обслуживание | 22. Хвалят низкие цены и вкус | 23. Рекомендуют кафе грузинской кухни | 24. Отмечают быструю и качественную доставку | 25. Подчёркивают уют и вкус | 26. Хвалят хинкали | 27. Отмечают атмосферу и вкус | 28. Критикуют мелкие недочёты | 29. Подчёркивают вкусные хинкали и уют | 30. Отмечают высокие оценки заведения | 31. Критикуют отсутствие свободных мест | 32. Хвалят кухню | 33. Подчёркивают вкусовые качества блюд | 34. Критикуют обслуживание и вкус хинкали с бараниной | 35. Отмечают стильный интерьер | 36. Критикуют невкусную еду, несмотря на низкую цену | 37. Хвалят вкус и фирменный лимонад | 38. Подчёркивают атмосферу и чистоту | 39. Отмечают профессионализм обслуживания | 40. Критикуют ожидание в полупустом зале\\nОтвет:', 'search_query': 'Mr. Хинкалов Кафе Республика Крым, Феодосия, улица Куйбышева, 10А Еда с собой', 'search_results': 'Кафе «Mr. Хинкалов» по адресу Республика Крым, Феодосия, улица Куйбышева, 10А — временно не работает. Смотрите похожие места на Яндекс Картах.\\n\\nЗаказ и доставка вкусной еды по Феодосии. Мы рады предложить вам неповторимые блюда грузинской кухни, приготовленные с любовью и уважением к традициям.\\n\\nВ связи с закрытием кафе «Мистер Хинкалов» мы можем предложить вам воспользоваться вашими подарочными сертификатами у наших друзей — кафе «Старик Хинкалыч»,', 'classification_prompt': '# llm_relevance_agent/agent/prompts/classify_v2.txt\\n# Пункт 4 изменен\\n\\nТы — интеллектуальная система, которая определяет, насколько организация соответствует пользовательскому запросу.\\nОтветь строго одним из двух вариантов: \"RELEVANT_PLUS\" или \"IRRELEVANT\".\\n\\n### Правила оценки:\\n1. RELEVANT_PLUS — если организация явно удовлетворяет запросу.  \\n2. IRRELEVANT — если соответствия нет.  \\n3. В первую очередь анализируй пользовательский запрос и поля \"Рубрика\" и \"Адрес\".  \\n4. Используй отзывы и дополнительную информацию (поле \"Дополнительная информация\"), особенно если они содержат уникальные признаки, указанные в запросе.\\n5. Если в запросе указана **часть адреса** (например, улица, район или город), обязательно сверяй её с адресом организации. Несовпадение = IRRELEVANT.   \\n6. Если в запросе указан **конкретный номер отделения, филиала, школы, офиса и т.п.**, обязательно сверяй его с номером в названии организации. Несовпадение = IRRELEVANT.\\n7. Если в запросе указана **конкретная станция метро**, считай организацию RELEVANT_PLUS только если в адресе или описании явно указана та же станция метро или подтверждена близость к ней. При несоответствии — IRRELEVANT.\\n\\n### Примеры:\\nПользовательский запрос: шугаринг Красноярск  \\nОрганизация:  \\nНазвание: Студия красоты Дарлинг  \\nАдрес: Красноярск, микрорайон Взлётка, улица Весны, 3  \\nРубрика: Салон красоты  \\nОтзывы: Студия красоты «Дарлинг» предоставляет бьюти-услуги и продаёт парфюмерию и косметику.  \\nДополнительная информация: Предоставляет услуги шугаринга, депиляции, маникюра. Работает ежедневно с 9:00 до 21:00. Ответ: RELEVANT_PLUS\\n\\nПользовательский запрос: Шашлычная  \\nОрганизация:  \\nНазвание: Яндекс Лавка  \\nАдрес: Москва, улица Адмирала Макарова, 23, корп. 2  \\nРубрика: Доставка продуктов  \\nОтзывы: Организация занимается доставкой продуктов и еды, работает в формате даркстора.  \\nДополнительная информация: Сервис доставки продуктов на дом, работает через мобильное приложение.  \\nОтвет: IRRELEVANT\\n\\nПользовательский запрос: Отдел полиции № 7 \\nОрганизация:  \\nНазвание: Отдел полиции № 6 УМВД России по городу Уфе  \\nАдрес: Республика Башкортостан, Уфа, улица Лесотехникума, 92/2  \\nРубрика: Отделение полиции \\nОтзывы: Организация занимается обеспечением правопорядка и оказанием соответствующих услуг населению. Тональность отзывов смешанная: есть как положительные, так и отрицательные.  \\nДополнительная информация:   \\nОтвет: IRRELEVANT\\n\\n### Теперь оцени следующий пример:\\nПользовательский запрос: \"Еда с собой\"  \\nОрганизация:  \\nНазвание: Mr. Хинкалов; Mr. Khinkalov; Mr.Хинкалов  \\nАдрес: Республика Крым, Феодосия, улица Куйбышева, 10А  \\nРубрика: Кафе  \\nОтзывы: Организация занимается подачей блюд грузинской кухни, включая хинкали и хачапури, а также предоставляет услуги доставки. Отзывы преимущественно положительные: хвалят вкус еды, атмосферу и обслуживание, однако есть замечания по поводу долгого обслуживания и неудобств, связанных с расположением и временем работы. | 1. Хвалят нормальное качество хинкали | 2. Отмечают вкусноту блюд | 3. Положительно отзываются о грузинском салате | 4. Считают заведение хорошим | 5. Рекомендуют заведение | 6. Подчёркивают вкус зинкали | 7. Отмечают высокое качество приготовления | 8. Хвалят ассортимент | 9. Критикуют душноту, долгое обслуживание и невкусную еду | 10. Отмечают быстроту и вкусноту | 11. Рекомендуют заведение | 12. Подчёркивают соотношение вкуса и цены | 13. Отмечают дороговизну, но вкусноту | 14. Упоминают душноту летом, но нормальную кухню | 15. Подчёркивают вкусноту | 16. Отмечают регулярное посещение заведения | 17. Хвалят хинкали и вкус | 18. Подчёркивают качество хачапури по-аджарски | 19. Отмечают общее качество блюд | 20. Подчёркивают соотношение цены и качества | 21. Критикуют долгое обслуживание | 22. Хвалят низкие цены и вкус | 23. Рекомендуют кафе грузинской кухни | 24. Отмечают быструю и качественную доставку | 25. Подчёркивают уют и вкус | 26. Хвалят хинкали | 27. Отмечают атмосферу и вкус | 28. Критикуют мелкие недочёты | 29. Подчёркивают вкусные хинкали и уют | 30. Отмечают высокие оценки заведения | 31. Критикуют отсутствие свободных мест | 32. Хвалят кухню | 33. Подчёркивают вкусовые качества блюд | 34. Критикуют обслуживание и вкус хинкали с бараниной | 35. Отмечают стильный интерьер | 36. Критикуют невкусную еду, несмотря на низкую цену | 37. Хвалят вкус и фирменный лимонад | 38. Подчёркивают атмосферу и чистоту | 39. Отмечают профессионализм обслуживания | 40. Критикуют ожидание в полупустом зале  \\nДополнительная информация: Кафе «Mr. Хинкалов» по адресу Республика Крым, Феодосия, улица Куйбышева, 10А — временно не работает. Смотрите похожие места на Яндекс Картах.\\n\\nЗаказ и доставка вкусной еды по Феодосии. Мы рады предложить вам неповторимые блюда грузинской кухни, приготовленные с любовью и уважением к традициям.\\n\\nВ связи с закрытием кафе «Мистер Хинкалов» мы можем предложить вам воспользоваться вашими подарочными сертификатами у наших друзей — кафе «Старик Хинкалыч»,  \\nОтвет:\"\"\"\\n\\n\\n', 'classification_response': 'IRRELEVANT'}\n",
       "            </pre>\n",
       "        </details>\n",
       "        \n",
       "</div>\n"
      ],
      "text/plain": [
       "<IPython.core.display.HTML object>"
      ]
     },
     "metadata": {},
     "output_type": "display_data"
    }
   ],
   "source": [
    "inspect_row(unique_error_agent3, idx=0)"
   ]
  },
  {
   "cell_type": "markdown",
   "id": "4e533df7-71a5-4e64-a4ac-bca8aab72c3a",
   "metadata": {},
   "source": [
    "### Малоинформативный/общий запрос пользователя\n",
    "Очевидно модель сфокусировалась на скидках и акциях и дисконтных картах ЦУМа."
   ]
  },
  {
   "cell_type": "code",
   "execution_count": 16,
   "id": "f364d40d-64a2-4eba-b47d-06a92f20e0c2",
   "metadata": {},
   "outputs": [],
   "source": [
    "model_errors_3.append(int(unique_error_agent3.loc[1]['permalink']))"
   ]
  },
  {
   "cell_type": "code",
   "execution_count": 17,
   "id": "dca2d037-9b6a-4d41-b69a-97c87b38b7b2",
   "metadata": {},
   "outputs": [
    {
     "data": {
      "text/html": [
       "\n",
       "<div style=\"border:1px solid #ccc; padding:16px; border-radius:10px;\n",
       "            font-family:sans-serif; background-color:#f9f9f9; margin-bottom:20px\">\n",
       "  <h2>📌 Index: 1</h2>\n",
       "  <p><strong>Запрос:</strong><br>Дисконт</p>\n",
       "  <p><strong>Адрес:</strong><br>Москва, улица Петровка, 2</p>\n",
       "  <p><strong>Название:</strong><br>ЦУМ; TSUM; Центральний універсальний магазин; Магазин ЦУМ; Мультибренд ЦУМ; ТД ЦУМ; Торговый дом ЦУМ; Торговый центр ЦУМ; Универмаг Центральный; Центральный универсальный магазин; Cds; Central Department Store; Tsum; Tsum Department Store; Tsum Moscow; Tsum Trade House LLC; Tsum Trading House</p>\n",
       "  <p><strong>ID Организации:</strong><br>1334551857</p>\n",
       "  <p><strong>Рубрика:</strong><br>Торговый центр</p>\n",
       "  <p><strong>Описание:</strong><br>ЦУМ предлагает широкий ассортимент одежды и аксессуаров от известных брендов, включая верхнюю одежду, жакеты, свитера, обувь и сумки | куртка | жакет | свитер | кроссовки | ботинки | сумка | пальто | кардиган | кеды | шуба</p>\n",
       "  <p><strong>Истинная релевантность:</strong> 0.0</p>\n",
       "  <p><strong>Отзывы:</strong><br>Организация занимается розничной торговлей в формате универмага, располагается в центре Москвы. Отзывы смешанные: много положительных оценок внешнего вида и статуса магазина, но также есть критика высоких цен и качества обслуживания. Хвалят: красивое здание, широкий ассортимент топовых брендов, удобство расположения. Критикуют: высокие цены, недружелюбный персонал, ограниченный выбор по сравнению с прошлым.\n",
       "| 1. Нейтральная оценка торгового центра | 2. ЦУМ — любимый торговый центр | 3. Обычный торговый центр | 4. Критикуется большое количество людей | 5. Отмечается высокая стоимость товаров | 6. ЦУМ позиционируется как место силы | 7. Положительная оценка ЦУМа | 8. Замечания о доступности цен | 9. Подтверждение статуса ЦУМа | 10. Замечание о скучности ассортимента | 11. ЦУМ оценивается как топовое место | 12. Подчёркивается наличие множества брендов | 13. Лучшая оценка сервиса | 14. Утверждение о высоком уровне | 15. Замечание о завышенных ценах | 16. Отмечается широкий выбор парфюмерии | 17. Общая негативная оценка | 18. Критика персонала | 19. Подчёркивается качество товаров | 20. Критика низких цен и качества | 21. Позитивная оценка ценовой политики | 22. Отмечается широкий ассортимент | 23. Замечание о пафосе | 24. Критика высоких цен | 25. Позитивная оценка места | 26. Общая положительная оценка | 27. Замечание об удобстве | 28. Отмечаются классические черты ЦУМа | 29. Утверждение о классическом статусе | 30. Критика завышенных цен | 31. Подчёркивается красота здания | 32. Позитивная оценка ассортимента | 33. Общая высокая оценка магазина | 34. Замечание о дороговизне | 35. Позитивная оценка магазина | 36. Замечание о высоких ценах | 37. Общая положительная оценка | 38. Замечание об отсутствии скидок | 39. Подчёркивается наличие топовых брендов | 40. Критика недружелюбного персонала</p>\n",
       "  <p><strong>Предсказание модели (pred_relevance):</strong><br>1.0</p>\n",
       "  \n",
       "        <details style=\"margin-top:10px;\">\n",
       "            <summary style=\"cursor:pointer;\"><strong>🧠 Agent log (раскрыть)</strong></summary>\n",
       "            <pre style=\"white-space:pre-wrap; background:#eee; padding:10px; border-radius:6px;\">\n",
       "{'need_search_decision': 'YES', 'search_prompt': '# llm_relevance_agent/agent/prompts/need_search_v2.txt\\n# Убран пункт ### Когда поиск не нужен (NO):\\\\n1. Рубрика явно соответствует или не соответствует запросу.\\n\\nОпредели, нужно ли искать дополнительную информацию об организации, чтобы достоверно определить её релевантность пользовательскому запросу.\\n\\nОтвет строго одним из двух вариантов:\\n- \"YES\" — если информации недостаточно для достоверной оценки.\\n- \"NO\" — если можно точно определить релевантность уже по имеющимся данным.\\n\\n### Когда нужен поиск (YES):\\n1. В запросе есть уточнения (время работы, конкретные услуги, цены, бренды).\\n2. Рубрика слишком общая, а запрос специфичный.\\n3. Неясно, предоставляет ли организация нужную услугу.\\n4. В запросе есть временные или географические ограничения.\\n\\n\\n### Когда поиск не нужен (NO):\\n1. Отзывы подтверждают ключевые требования из запроса — нужные услуги, условия или особенности.\\n2. Запрос общий, а информации достаточно.\\n\\n### Примеры:\\nПользовательский запрос: Шиномонтаж 24\\nОрганизация:\\nНазвание: Шиномонтаж\\nАдрес: Республика Калмыкия, Элиста, улица В.И. Ленина, 7, стр. 8А\\nРубрика: Шиномонтаж\\nОтзывы: Организация занимается шиномонтажом. Отзывы положительные: хвалят высокое качество работы.\\nОтвет: YES\\n\\nПользовательский запрос: где дешево поесть в санкт-петербурге 2017\\nОрганизация:\\nНазвание: Буше; Bushe; БУШЕ пекарня-кондитерская ООО\\nАдрес: Санкт-Петербург, Малая Морская улица, 7\\nРубрика: Пекарня\\nОтзывы: Организация занимается выпечкой и продажей кондитерских изделий, а также предлагает завтраки и другие блюда. Отзывы преимущественно положительные: хвалят вкус еды и напитков, атмосферу и обслуживание, но критикуют высокие цены и иногда медленную работу персонала. | 1. Критикуют состояние туалета. | 2. Отмечают, что кухня не работала. | 3. Хвалят заведение в общем. | 4. Считают цены высокими. | 5. Восхищаются круасанами.\\nОтвет: NO\\n\\n### Теперь оцени следующий пример:\\nПользовательский запрос: \"Дисконт\"\\nОрганизация:\\nНазвание: ЦУМ; TSUM; Центральний універсальний магазин; Магазин ЦУМ; Мультибренд ЦУМ; ТД ЦУМ; Торговый дом ЦУМ; Торговый центр ЦУМ; Универмаг Центральный; Центральный универсальный магазин; Cds; Central Department Store; Tsum; Tsum Department Store; Tsum Moscow; Tsum Trade House LLC; Tsum Trading House\\nАдрес: Москва, улица Петровка, 2\\nРубрика: Торговый центр\\nОтзывы: Организация занимается розничной торговлей в формате универмага, располагается в центре Москвы. Отзывы смешанные: много положительных оценок внешнего вида и статуса магазина, но также есть критика высоких цен и качества обслуживания. Хвалят: красивое здание, широкий ассортимент топовых брендов, удобство расположения. Критикуют: высокие цены, недружелюбный персонал, ограниченный выбор по сравнению с прошлым.\\n| 1. Нейтральная оценка торгового центра | 2. ЦУМ — любимый торговый центр | 3. Обычный торговый центр | 4. Критикуется большое количество людей | 5. Отмечается высокая стоимость товаров | 6. ЦУМ позиционируется как место силы | 7. Положительная оценка ЦУМа | 8. Замечания о доступности цен | 9. Подтверждение статуса ЦУМа | 10. Замечание о скучности ассортимента | 11. ЦУМ оценивается как топовое место | 12. Подчёркивается наличие множества брендов | 13. Лучшая оценка сервиса | 14. Утверждение о высоком уровне | 15. Замечание о завышенных ценах | 16. Отмечается широкий выбор парфюмерии | 17. Общая негативная оценка | 18. Критика персонала | 19. Подчёркивается качество товаров | 20. Критика низких цен и качества | 21. Позитивная оценка ценовой политики | 22. Отмечается широкий ассортимент | 23. Замечание о пафосе | 24. Критика высоких цен | 25. Позитивная оценка места | 26. Общая положительная оценка | 27. Замечание об удобстве | 28. Отмечаются классические черты ЦУМа | 29. Утверждение о классическом статусе | 30. Критика завышенных цен | 31. Подчёркивается красота здания | 32. Позитивная оценка ассортимента | 33. Общая высокая оценка магазина | 34. Замечание о дороговизне | 35. Позитивная оценка магазина | 36. Замечание о высоких ценах | 37. Общая положительная оценка | 38. Замечание об отсутствии скидок | 39. Подчёркивается наличие топовых брендов | 40. Критика недружелюбного персонала\\nОтвет:', 'search_query': 'ЦУМ Торговый центр Москва, улица Петровка, 2 Дисконт', 'search_results': 'способ оплаты: дисконтная система скидок, наличными, оплата картой. доставка. акции: бонусы, акции. парковка для людей с инвалидностью. подарочный сертификат.\\n\\nЦУМ — интернет-магазин одежды, обуви, сумок и аксессуаров. Более 1000 модных брендов. Доставка в ПВЗ по всей России. Подарочные карты.\\n\\nЗаведите бонусную карту, оплачивайте покупки в интернет-магазине, получайте бонусы до 10% от суммы покупки и пользуйтесь другими привилегиями. Оформить карту', 'classification_prompt': '# llm_relevance_agent/agent/prompts/classify_v2.txt\\n# Пункт 4 изменен\\n\\nТы — интеллектуальная система, которая определяет, насколько организация соответствует пользовательскому запросу.\\nОтветь строго одним из двух вариантов: \"RELEVANT_PLUS\" или \"IRRELEVANT\".\\n\\n### Правила оценки:\\n1. RELEVANT_PLUS — если организация явно удовлетворяет запросу.  \\n2. IRRELEVANT — если соответствия нет.  \\n3. В первую очередь анализируй пользовательский запрос и поля \"Рубрика\" и \"Адрес\".  \\n4. Используй отзывы и дополнительную информацию (поле \"Дополнительная информация\"), особенно если они содержат уникальные признаки, указанные в запросе.\\n5. Если в запросе указана **часть адреса** (например, улица, район или город), обязательно сверяй её с адресом организации. Несовпадение = IRRELEVANT.   \\n6. Если в запросе указан **конкретный номер отделения, филиала, школы, офиса и т.п.**, обязательно сверяй его с номером в названии организации. Несовпадение = IRRELEVANT.\\n7. Если в запросе указана **конкретная станция метро**, считай организацию RELEVANT_PLUS только если в адресе или описании явно указана та же станция метро или подтверждена близость к ней. При несоответствии — IRRELEVANT.\\n\\n### Примеры:\\nПользовательский запрос: шугаринг Красноярск  \\nОрганизация:  \\nНазвание: Студия красоты Дарлинг  \\nАдрес: Красноярск, микрорайон Взлётка, улица Весны, 3  \\nРубрика: Салон красоты  \\nОтзывы: Студия красоты «Дарлинг» предоставляет бьюти-услуги и продаёт парфюмерию и косметику.  \\nДополнительная информация: Предоставляет услуги шугаринга, депиляции, маникюра. Работает ежедневно с 9:00 до 21:00. Ответ: RELEVANT_PLUS\\n\\nПользовательский запрос: Шашлычная  \\nОрганизация:  \\nНазвание: Яндекс Лавка  \\nАдрес: Москва, улица Адмирала Макарова, 23, корп. 2  \\nРубрика: Доставка продуктов  \\nОтзывы: Организация занимается доставкой продуктов и еды, работает в формате даркстора.  \\nДополнительная информация: Сервис доставки продуктов на дом, работает через мобильное приложение.  \\nОтвет: IRRELEVANT\\n\\nПользовательский запрос: Отдел полиции № 7 \\nОрганизация:  \\nНазвание: Отдел полиции № 6 УМВД России по городу Уфе  \\nАдрес: Республика Башкортостан, Уфа, улица Лесотехникума, 92/2  \\nРубрика: Отделение полиции \\nОтзывы: Организация занимается обеспечением правопорядка и оказанием соответствующих услуг населению. Тональность отзывов смешанная: есть как положительные, так и отрицательные.  \\nДополнительная информация:   \\nОтвет: IRRELEVANT\\n\\n### Теперь оцени следующий пример:\\nПользовательский запрос: \"Дисконт\"  \\nОрганизация:  \\nНазвание: ЦУМ; TSUM; Центральний універсальний магазин; Магазин ЦУМ; Мультибренд ЦУМ; ТД ЦУМ; Торговый дом ЦУМ; Торговый центр ЦУМ; Универмаг Центральный; Центральный универсальный магазин; Cds; Central Department Store; Tsum; Tsum Department Store; Tsum Moscow; Tsum Trade House LLC; Tsum Trading House  \\nАдрес: Москва, улица Петровка, 2  \\nРубрика: Торговый центр  \\nОтзывы: Организация занимается розничной торговлей в формате универмага, располагается в центре Москвы. Отзывы смешанные: много положительных оценок внешнего вида и статуса магазина, но также есть критика высоких цен и качества обслуживания. Хвалят: красивое здание, широкий ассортимент топовых брендов, удобство расположения. Критикуют: высокие цены, недружелюбный персонал, ограниченный выбор по сравнению с прошлым.\\n| 1. Нейтральная оценка торгового центра | 2. ЦУМ — любимый торговый центр | 3. Обычный торговый центр | 4. Критикуется большое количество людей | 5. Отмечается высокая стоимость товаров | 6. ЦУМ позиционируется как место силы | 7. Положительная оценка ЦУМа | 8. Замечания о доступности цен | 9. Подтверждение статуса ЦУМа | 10. Замечание о скучности ассортимента | 11. ЦУМ оценивается как топовое место | 12. Подчёркивается наличие множества брендов | 13. Лучшая оценка сервиса | 14. Утверждение о высоком уровне | 15. Замечание о завышенных ценах | 16. Отмечается широкий выбор парфюмерии | 17. Общая негативная оценка | 18. Критика персонала | 19. Подчёркивается качество товаров | 20. Критика низких цен и качества | 21. Позитивная оценка ценовой политики | 22. Отмечается широкий ассортимент | 23. Замечание о пафосе | 24. Критика высоких цен | 25. Позитивная оценка места | 26. Общая положительная оценка | 27. Замечание об удобстве | 28. Отмечаются классические черты ЦУМа | 29. Утверждение о классическом статусе | 30. Критика завышенных цен | 31. Подчёркивается красота здания | 32. Позитивная оценка ассортимента | 33. Общая высокая оценка магазина | 34. Замечание о дороговизне | 35. Позитивная оценка магазина | 36. Замечание о высоких ценах | 37. Общая положительная оценка | 38. Замечание об отсутствии скидок | 39. Подчёркивается наличие топовых брендов | 40. Критика недружелюбного персонала  \\nДополнительная информация: способ оплаты: дисконтная система скидок, наличными, оплата картой. доставка. акции: бонусы, акции. парковка для людей с инвалидностью. подарочный сертификат.\\n\\nЦУМ — интернет-магазин одежды, обуви, сумок и аксессуаров. Более 1000 модных брендов. Доставка в ПВЗ по всей России. Подарочные карты.\\n\\nЗаведите бонусную карту, оплачивайте покупки в интернет-магазине, получайте бонусы до 10% от суммы покупки и пользуйтесь другими привилегиями. Оформить карту  \\nОтвет:\"\"\"\\n\\n\\n', 'classification_response': 'RELEVANT_PLUS'}\n",
       "            </pre>\n",
       "        </details>\n",
       "        \n",
       "</div>\n"
      ],
      "text/plain": [
       "<IPython.core.display.HTML object>"
      ]
     },
     "metadata": {},
     "output_type": "display_data"
    }
   ],
   "source": [
    "inspect_row(unique_error_agent3, idx=1)"
   ]
  },
  {
   "cell_type": "markdown",
   "id": "b1c49eef-f901-4994-967d-66f59364a117",
   "metadata": {},
   "source": [
    "### Модель упустила важный модификатор в запросе"
   ]
  },
  {
   "cell_type": "markdown",
   "id": "16c0767a-5388-4ed7-a8a6-ff47c9bde86b",
   "metadata": {},
   "source": [
    "Рубрика клиника, но не поликлиника. "
   ]
  },
  {
   "cell_type": "code",
   "execution_count": 18,
   "id": "02e30649-d381-4b66-91ae-1631b7b802c5",
   "metadata": {},
   "outputs": [],
   "source": [
    "model_errors_3.append(int(unique_error_agent3.loc[2]['permalink']))"
   ]
  },
  {
   "cell_type": "code",
   "execution_count": 19,
   "id": "0aef636a-e1c9-4214-8f81-3f5165fc6a1b",
   "metadata": {},
   "outputs": [
    {
     "data": {
      "text/html": [
       "\n",
       "<div style=\"border:1px solid #ccc; padding:16px; border-radius:10px;\n",
       "            font-family:sans-serif; background-color:#f9f9f9; margin-bottom:20px\">\n",
       "  <h2>📌 Index: 2</h2>\n",
       "  <p><strong>Запрос:</strong><br>дерматологическая поликлиника в тольятти</p>\n",
       "  <p><strong>Адрес:</strong><br>Самарская область, Тольятти, улица Свердлова, 24А</p>\n",
       "  <p><strong>Название:</strong><br>Клиника холода Виталонг; Vitalong Cold clinic; Vitalong; Виталонг; Виталонг - клиника холода; Виталонг клиника Холода; Виталонг-Клиника Холода</p>\n",
       "  <p><strong>ID Организации:</strong><br>1117559810</p>\n",
       "  <p><strong>Рубрика:</strong><br>Медцентр , клиника</p>\n",
       "  <p><strong>Описание:</strong><br>Клиника холода Виталонг предоставляет широкий спектр медицинских услуг, включая криотерапию, инъекции, лабораторные анализы, массаж и физиотерапию | ЛКТ | ДКТ | Криодеструкция | Внутривенная инъекция | Взятие мазка | УЗИ | Электрофорез | Массаж | Прием врача | Постановка пиявки | Радиотермометрия | Удаление бородавки | Удаление папилломы | Перевязка | Дарсонвализация | Магнитотерапия | Физиотерапевтические процедуры | Лабораторные анализы | Консультация врача | Криосауна | СФТ</p>\n",
       "  <p><strong>Истинная релевантность:</strong> 0.0</p>\n",
       "  <p><strong>Отзывы:</strong><br>Клиника холода Виталонг занимается предоставлением медицинских услуг и лабораторных исследований. Тональность отзывов преимущественно положительная. Хвалят: профессионализм врачей, особенно ЛОР-врачей и мануальных терапевтов, качество обслуживания и индивидуальный подход. Критикуют: длительное ожидание приёма, высокую стоимость услуг, отдельные случаи недостаточной компетентности.\n",
       "\n",
       "| 1. Хвалят профессионализм специалистов | 2. Положительный отзыв о лор-враче Тереховой | 3. Отмечают компетентность лора и эффективность лечения холодом | 4. Общее положительное впечатление от клиники | 5. Подчёркивают внимательность персонала и квалификацию врачей | 6. Положительный отзыв о персонале и разнообразии процедур | 7. Повторное подтверждение высокого уровня специалистов | 8. Положительный отзыв о подходе к детям и конкретном враче | 9. Рекомендация врача Ольги | 10. Хвалят персонал и врача лора | 11. Общее удовлетворение работой клиники | 12. Благодарность за комплексный подход и результативное лечение | 13. Положительный отзыв о массажисте Ющенко | 14. Критика терапевта и подхода к лечению | 15. Благодарность за помощь и внимание специалистов | 16. Долгосрочное доверие к клинике и её специалистам | 17. Положительный отзыв о современном оборудовании и врачах | 18. Замечания по поводу персонала, оказывающего услуги детям | 19. Благодарность лор-врачу Тереховой и персоналу | 20. Удовлетворение от массажа и физиотерапии | 21. Положительный опыт с анализами крови | 22. Общее восхищение клиникой | 23. Положительный отзыв об остеопате и организации записи | 24. Подтверждение профессионализма сотрудников | 25. Удовлетворение общим впечатлением с упоминанием недостатка кабинетов | 26. Отзыв о доступности цен и вежливости персонала | 27. Долгосрочное сотрудничество с врачом и признание его мастерства | 28. Жалоба на неэффективное удаление бородавки | 29. Положительный отзыв о хирурге Баранове | 30. Удовлетворение работой лора Тереховой | 31. Благодарность за массаж и обслуживание | 32. Положительный отзыв с упоминанием адекватных цен | 33. Общее удовлетворение клиникой и персональным подходом | 34. Подчёркивание профессионализма и доброжелательности персонала | 35. Благодарность всему персоналу клиники | 36. Повторное обращение и удовлетворение уровнем услуг | 37. Положительный отзыв о диагностике и лечении ребёнка | 38. Рекомендация специалиста Ющенко и улучшение состояния после массажа | 39. Общее удовлетворение врачами и администраторами | 40. Положительный отзыв о массаже и атмосфере клиники</p>\n",
       "  <p><strong>Предсказание модели (pred_relevance):</strong><br>1.0</p>\n",
       "  \n",
       "        <details style=\"margin-top:10px;\">\n",
       "            <summary style=\"cursor:pointer;\"><strong>🧠 Agent log (раскрыть)</strong></summary>\n",
       "            <pre style=\"white-space:pre-wrap; background:#eee; padding:10px; border-radius:6px;\">\n",
       "{'need_search_decision': 'NO', 'search_prompt': '# llm_relevance_agent/agent/prompts/need_search_v2.txt\\n# Убран пункт ### Когда поиск не нужен (NO):\\\\n1. Рубрика явно соответствует или не соответствует запросу.\\n\\nОпредели, нужно ли искать дополнительную информацию об организации, чтобы достоверно определить её релевантность пользовательскому запросу.\\n\\nОтвет строго одним из двух вариантов:\\n- \"YES\" — если информации недостаточно для достоверной оценки.\\n- \"NO\" — если можно точно определить релевантность уже по имеющимся данным.\\n\\n### Когда нужен поиск (YES):\\n1. В запросе есть уточнения (время работы, конкретные услуги, цены, бренды).\\n2. Рубрика слишком общая, а запрос специфичный.\\n3. Неясно, предоставляет ли организация нужную услугу.\\n4. В запросе есть временные или географические ограничения.\\n\\n\\n### Когда поиск не нужен (NO):\\n1. Отзывы подтверждают ключевые требования из запроса — нужные услуги, условия или особенности.\\n2. Запрос общий, а информации достаточно.\\n\\n### Примеры:\\nПользовательский запрос: Шиномонтаж 24\\nОрганизация:\\nНазвание: Шиномонтаж\\nАдрес: Республика Калмыкия, Элиста, улица В.И. Ленина, 7, стр. 8А\\nРубрика: Шиномонтаж\\nОтзывы: Организация занимается шиномонтажом. Отзывы положительные: хвалят высокое качество работы.\\nОтвет: YES\\n\\nПользовательский запрос: где дешево поесть в санкт-петербурге 2017\\nОрганизация:\\nНазвание: Буше; Bushe; БУШЕ пекарня-кондитерская ООО\\nАдрес: Санкт-Петербург, Малая Морская улица, 7\\nРубрика: Пекарня\\nОтзывы: Организация занимается выпечкой и продажей кондитерских изделий, а также предлагает завтраки и другие блюда. Отзывы преимущественно положительные: хвалят вкус еды и напитков, атмосферу и обслуживание, но критикуют высокие цены и иногда медленную работу персонала. | 1. Критикуют состояние туалета. | 2. Отмечают, что кухня не работала. | 3. Хвалят заведение в общем. | 4. Считают цены высокими. | 5. Восхищаются круасанами.\\nОтвет: NO\\n\\n### Теперь оцени следующий пример:\\nПользовательский запрос: \"дерматологическая поликлиника в тольятти\"\\nОрганизация:\\nНазвание: Клиника холода Виталонг; Vitalong Cold clinic; Vitalong; Виталонг; Виталонг - клиника холода; Виталонг клиника Холода; Виталонг-Клиника Холода\\nАдрес: Самарская область, Тольятти, улица Свердлова, 24А\\nРубрика: Медцентр , клиника\\nОтзывы: Клиника холода Виталонг занимается предоставлением медицинских услуг и лабораторных исследований. Тональность отзывов преимущественно положительная. Хвалят: профессионализм врачей, особенно ЛОР-врачей и мануальных терапевтов, качество обслуживания и индивидуальный подход. Критикуют: длительное ожидание приёма, высокую стоимость услуг, отдельные случаи недостаточной компетентности.\\n\\n| 1. Хвалят профессионализм специалистов | 2. Положительный отзыв о лор-враче Тереховой | 3. Отмечают компетентность лора и эффективность лечения холодом | 4. Общее положительное впечатление от клиники | 5. Подчёркивают внимательность персонала и квалификацию врачей | 6. Положительный отзыв о персонале и разнообразии процедур | 7. Повторное подтверждение высокого уровня специалистов | 8. Положительный отзыв о подходе к детям и конкретном враче | 9. Рекомендация врача Ольги | 10. Хвалят персонал и врача лора | 11. Общее удовлетворение работой клиники | 12. Благодарность за комплексный подход и результативное лечение | 13. Положительный отзыв о массажисте Ющенко | 14. Критика терапевта и подхода к лечению | 15. Благодарность за помощь и внимание специалистов | 16. Долгосрочное доверие к клинике и её специалистам | 17. Положительный отзыв о современном оборудовании и врачах | 18. Замечания по поводу персонала, оказывающего услуги детям | 19. Благодарность лор-врачу Тереховой и персоналу | 20. Удовлетворение от массажа и физиотерапии | 21. Положительный опыт с анализами крови | 22. Общее восхищение клиникой | 23. Положительный отзыв об остеопате и организации записи | 24. Подтверждение профессионализма сотрудников | 25. Удовлетворение общим впечатлением с упоминанием недостатка кабинетов | 26. Отзыв о доступности цен и вежливости персонала | 27. Долгосрочное сотрудничество с врачом и признание его мастерства | 28. Жалоба на неэффективное удаление бородавки | 29. Положительный отзыв о хирурге Баранове | 30. Удовлетворение работой лора Тереховой | 31. Благодарность за массаж и обслуживание | 32. Положительный отзыв с упоминанием адекватных цен | 33. Общее удовлетворение клиникой и персональным подходом | 34. Подчёркивание профессионализма и доброжелательности персонала | 35. Благодарность всему персоналу клиники | 36. Повторное обращение и удовлетворение уровнем услуг | 37. Положительный отзыв о диагностике и лечении ребёнка | 38. Рекомендация специалиста Ющенко и улучшение состояния после массажа | 39. Общее удовлетворение врачами и администраторами | 40. Положительный отзыв о массаже и атмосфере клиники\\nОтвет:', 'classification_prompt': '# llm_relevance_agent/agent/prompts/classify_v2.txt\\n# Пункт 4 изменен\\n\\nТы — интеллектуальная система, которая определяет, насколько организация соответствует пользовательскому запросу.\\nОтветь строго одним из двух вариантов: \"RELEVANT_PLUS\" или \"IRRELEVANT\".\\n\\n### Правила оценки:\\n1. RELEVANT_PLUS — если организация явно удовлетворяет запросу.  \\n2. IRRELEVANT — если соответствия нет.  \\n3. В первую очередь анализируй пользовательский запрос и поля \"Рубрика\" и \"Адрес\".  \\n4. Используй отзывы и дополнительную информацию (поле \"Дополнительная информация\"), особенно если они содержат уникальные признаки, указанные в запросе.\\n5. Если в запросе указана **часть адреса** (например, улица, район или город), обязательно сверяй её с адресом организации. Несовпадение = IRRELEVANT.   \\n6. Если в запросе указан **конкретный номер отделения, филиала, школы, офиса и т.п.**, обязательно сверяй его с номером в названии организации. Несовпадение = IRRELEVANT.\\n7. Если в запросе указана **конкретная станция метро**, считай организацию RELEVANT_PLUS только если в адресе или описании явно указана та же станция метро или подтверждена близость к ней. При несоответствии — IRRELEVANT.\\n\\n### Примеры:\\nПользовательский запрос: шугаринг Красноярск  \\nОрганизация:  \\nНазвание: Студия красоты Дарлинг  \\nАдрес: Красноярск, микрорайон Взлётка, улица Весны, 3  \\nРубрика: Салон красоты  \\nОтзывы: Студия красоты «Дарлинг» предоставляет бьюти-услуги и продаёт парфюмерию и косметику.  \\nДополнительная информация: Предоставляет услуги шугаринга, депиляции, маникюра. Работает ежедневно с 9:00 до 21:00. Ответ: RELEVANT_PLUS\\n\\nПользовательский запрос: Шашлычная  \\nОрганизация:  \\nНазвание: Яндекс Лавка  \\nАдрес: Москва, улица Адмирала Макарова, 23, корп. 2  \\nРубрика: Доставка продуктов  \\nОтзывы: Организация занимается доставкой продуктов и еды, работает в формате даркстора.  \\nДополнительная информация: Сервис доставки продуктов на дом, работает через мобильное приложение.  \\nОтвет: IRRELEVANT\\n\\nПользовательский запрос: Отдел полиции № 7 \\nОрганизация:  \\nНазвание: Отдел полиции № 6 УМВД России по городу Уфе  \\nАдрес: Республика Башкортостан, Уфа, улица Лесотехникума, 92/2  \\nРубрика: Отделение полиции \\nОтзывы: Организация занимается обеспечением правопорядка и оказанием соответствующих услуг населению. Тональность отзывов смешанная: есть как положительные, так и отрицательные.  \\nДополнительная информация:   \\nОтвет: IRRELEVANT\\n\\n### Теперь оцени следующий пример:\\nПользовательский запрос: \"дерматологическая поликлиника в тольятти\"  \\nОрганизация:  \\nНазвание: Клиника холода Виталонг; Vitalong Cold clinic; Vitalong; Виталонг; Виталонг - клиника холода; Виталонг клиника Холода; Виталонг-Клиника Холода  \\nАдрес: Самарская область, Тольятти, улица Свердлова, 24А  \\nРубрика: Медцентр , клиника  \\nОтзывы: Клиника холода Виталонг занимается предоставлением медицинских услуг и лабораторных исследований. Тональность отзывов преимущественно положительная. Хвалят: профессионализм врачей, особенно ЛОР-врачей и мануальных терапевтов, качество обслуживания и индивидуальный подход. Критикуют: длительное ожидание приёма, высокую стоимость услуг, отдельные случаи недостаточной компетентности.\\n\\n| 1. Хвалят профессионализм специалистов | 2. Положительный отзыв о лор-враче Тереховой | 3. Отмечают компетентность лора и эффективность лечения холодом | 4. Общее положительное впечатление от клиники | 5. Подчёркивают внимательность персонала и квалификацию врачей | 6. Положительный отзыв о персонале и разнообразии процедур | 7. Повторное подтверждение высокого уровня специалистов | 8. Положительный отзыв о подходе к детям и конкретном враче | 9. Рекомендация врача Ольги | 10. Хвалят персонал и врача лора | 11. Общее удовлетворение работой клиники | 12. Благодарность за комплексный подход и результативное лечение | 13. Положительный отзыв о массажисте Ющенко | 14. Критика терапевта и подхода к лечению | 15. Благодарность за помощь и внимание специалистов | 16. Долгосрочное доверие к клинике и её специалистам | 17. Положительный отзыв о современном оборудовании и врачах | 18. Замечания по поводу персонала, оказывающего услуги детям | 19. Благодарность лор-врачу Тереховой и персоналу | 20. Удовлетворение от массажа и физиотерапии | 21. Положительный опыт с анализами крови | 22. Общее восхищение клиникой | 23. Положительный отзыв об остеопате и организации записи | 24. Подтверждение профессионализма сотрудников | 25. Удовлетворение общим впечатлением с упоминанием недостатка кабинетов | 26. Отзыв о доступности цен и вежливости персонала | 27. Долгосрочное сотрудничество с врачом и признание его мастерства | 28. Жалоба на неэффективное удаление бородавки | 29. Положительный отзыв о хирурге Баранове | 30. Удовлетворение работой лора Тереховой | 31. Благодарность за массаж и обслуживание | 32. Положительный отзыв с упоминанием адекватных цен | 33. Общее удовлетворение клиникой и персональным подходом | 34. Подчёркивание профессионализма и доброжелательности персонала | 35. Благодарность всему персоналу клиники | 36. Повторное обращение и удовлетворение уровнем услуг | 37. Положительный отзыв о диагностике и лечении ребёнка | 38. Рекомендация специалиста Ющенко и улучшение состояния после массажа | 39. Общее удовлетворение врачами и администраторами | 40. Положительный отзыв о массаже и атмосфере клиники  \\nДополнительная информация: —  \\nОтвет:\"\"\"\\n\\n\\n', 'classification_response': 'RELEVANT_PLUS'}\n",
       "            </pre>\n",
       "        </details>\n",
       "        \n",
       "</div>\n"
      ],
      "text/plain": [
       "<IPython.core.display.HTML object>"
      ]
     },
     "metadata": {},
     "output_type": "display_data"
    }
   ],
   "source": [
    "inspect_row(unique_error_agent3, idx=2)"
   ]
  },
  {
   "cell_type": "code",
   "execution_count": 20,
   "id": "a451a797-be2d-412f-8972-56803047191b",
   "metadata": {},
   "outputs": [
    {
     "name": "stdout",
     "output_type": "stream",
     "text": [
      "Всего уникальных ошибок агента 3: 3\n",
      "Из них модельных ошибок: 2 (66.7%)\n",
      "Ошибок аннотаций: 1 (33.3%)\n"
     ]
    }
   ],
   "source": [
    "total_unique = len(unique_error_agent3)\n",
    "num_model_errors = len(model_errors_3)\n",
    "num_assessor_errors = len(assessors_errors_3)\n",
    "\n",
    "print(f\"Всего уникальных ошибок агента 3: {total_unique}\")\n",
    "print(f\"Из них модельных ошибок: {num_model_errors} ({num_model_errors / total_unique:.1%})\")\n",
    "print(f\"Ошибок аннотаций: {num_assessor_errors} ({num_assessor_errors / total_unique:.1%})\")\n",
    "\n",
    "# Проверка: пересекаются ли model_errors и assessors_errors (не должно быть)\n",
    "intersection = set(model_errors_3) & set(assessors_errors_3)\n",
    "if intersection:\n",
    "    print(f\"⚠️ Пересечения в списках model_errors и assessors_errors: {len(intersection)}\")"
   ]
  },
  {
   "cell_type": "markdown",
   "id": "07d68d1f-7178-4bd9-96ac-9e4baaf93259",
   "metadata": {},
   "source": [
    "# Анализ консенсусных ошибок на валидации"
   ]
  },
  {
   "cell_type": "code",
   "execution_count": 21,
   "id": "76331cfc-00e6-41e1-83e2-c3b18c27b039",
   "metadata": {},
   "outputs": [],
   "source": [
    "model_consensus_errors = []\n",
    "assessors_errors_consensus = []"
   ]
  },
  {
   "cell_type": "code",
   "execution_count": 22,
   "id": "a7bfa86b-343b-489b-8312-bc8c05e07c16",
   "metadata": {},
   "outputs": [
    {
     "data": {
      "text/plain": [
       "'Количество примеров на валидации, в которых ошибаются и агенты и бейзлайн: 72'"
      ]
     },
     "execution_count": 22,
     "metadata": {},
     "output_type": "execute_result"
    }
   ],
   "source": [
    "file_path = os.path.join(CURRENT_DIR, \"analysis_errors\", \"val\", \"agent3_consensus_error.csv\")\n",
    "agent3_consensus_error = pd.read_csv(file_path)\n",
    "f'Количество примеров на валидации, в которых ошибаются и агенты и бейзлайн: {agent3_consensus_error.shape[0]}'"
   ]
  },
  {
   "cell_type": "markdown",
   "id": "5020a951-0a9d-41a7-ba65-30ceab3f572b",
   "metadata": {},
   "source": [
    "Ошибка асессора. Elasti_city. Студия растяжки и фитнеса. ул Кастанаевская, д 39. Модель распознает по названию."
   ]
  },
  {
   "cell_type": "code",
   "execution_count": 23,
   "id": "1544cc44-b07a-4d81-b912-4e9dd4c937e4",
   "metadata": {},
   "outputs": [],
   "source": [
    "assessors_errors_consensus.append(int(agent3_consensus_error.loc[0]['permalink']))"
   ]
  },
  {
   "cell_type": "code",
   "execution_count": 24,
   "id": "87f6d594-7cfc-47cb-a959-87b06b95d0c0",
   "metadata": {},
   "outputs": [
    {
     "data": {
      "text/html": [
       "\n",
       "<div style=\"border:1px solid #ccc; padding:16px; border-radius:10px;\n",
       "            font-family:sans-serif; background-color:#f9f9f9; margin-bottom:20px\">\n",
       "  <h2>📌 Index: 0</h2>\n",
       "  <p><strong>Запрос:</strong><br>стретчинг в москве</p>\n",
       "  <p><strong>Адрес:</strong><br>Москва, Кастанаевская улица, 39</p>\n",
       "  <p><strong>Название:</strong><br>Elasti_city; Elasti city</p>\n",
       "  <p><strong>ID Организации:</strong><br>147723830462</p>\n",
       "  <p><strong>Рубрика:</strong><br>Фитнес-клуб</p>\n",
       "  <p><strong>Описание:</strong><br>Фитнес-клуб и студия йоги, предлагающие пробные занятия, разовые посещения и абонементы разной стоимости | пробное занятие | разовое посещение | абонемент 5000 руб. | абонемент 10000 руб. | абонемент 15000 руб.</p>\n",
       "  <p><strong>Истинная релевантность:</strong> 0.0</p>\n",
       "  <p><strong>Отзывы:</strong><br>Организация занимается предоставлением услуг фитнес-клуба и студии йоги. Отзывы преимущественно положительные: пользователи хвалят профессиональных тренеров, дружелюбную атмосферу и индивидуальный подход. Критикуют небольшое пространство студии и систему оплаты.\n",
       "\n",
       "| 1. Хвалят профессионализм учителей. | 2. Отмечают прекрасный результат от занятий: улучшение гибкости и общего самочувствия. | 3. Подчёркивают дружественную атмосферу, маленькие группы и профессионализм тренеров. | 4. Положительно оценивают работу тренера и приятную атмосферу. | 5. Критикуют отсутствие тренировок для мужчин. | 6. Отмечают комфорт и отзывчивость тренеров. | 7. Считают место удобным из-за расположения и спокойной атмосферы. | 8. Хвалят контроль техники и сбалансированные тренировки. | 9. Описывают уютную и комфортную атмосферу, профессионализм тренеров. | 10. Рекомендуют студию после пробного занятия на функциональный фитнес. | 11. Указывают на плюсы и минусы студии, включая неудобную систему оплаты и чистоту. | 12. Критикуют невозможность дозвониться до клуба. | 13. Отмечают доброжелательность и готовность помочь тренеров. | 14. Подчёркивают удобное расположение и благодарность тренерам. | 15. Хвалят расположение, тренеров и цены на абонементы. | 16. Рекомендуют занятия стрейчингом и отмечают отсутствие мужчин в клубе. | 17. Описывают приятные впечатления от групповых занятий и тренеров. | 18. Отмечают разнообразие тренировок и удобную онлайн-запись. | 19. Подчёркивают приятную атмосферу и внимание тренеров. | 20. Считают соотношение цены и качества идеальным. | 21. Рекомендуют студию за профессионализм тренеров и позитивную атмосферу. | 22. Отмечают удобное расположение студии. | 23. Хвалят гибкость, осанку и настроение после занятий.</p>\n",
       "  <p><strong>Предсказание модели (pred_relevance):</strong><br>1.0</p>\n",
       "  \n",
       "        <details style=\"margin-top:10px;\">\n",
       "            <summary style=\"cursor:pointer;\"><strong>🧠 Agent log (раскрыть)</strong></summary>\n",
       "            <pre style=\"white-space:pre-wrap; background:#eee; padding:10px; border-radius:6px;\">\n",
       "{'need_search_decision': 'NO', 'search_prompt': '# llm_relevance_agent/agent/prompts/need_search_v2.txt\\n# Убран пункт ### Когда поиск не нужен (NO):\\\\n1. Рубрика явно соответствует или не соответствует запросу.\\n\\nОпредели, нужно ли искать дополнительную информацию об организации, чтобы достоверно определить её релевантность пользовательскому запросу.\\n\\nОтвет строго одним из двух вариантов:\\n- \"YES\" — если информации недостаточно для достоверной оценки.\\n- \"NO\" — если можно точно определить релевантность уже по имеющимся данным.\\n\\n### Когда нужен поиск (YES):\\n1. В запросе есть уточнения (время работы, конкретные услуги, цены, бренды).\\n2. Рубрика слишком общая, а запрос специфичный.\\n3. Неясно, предоставляет ли организация нужную услугу.\\n4. В запросе есть временные или географические ограничения.\\n\\n\\n### Когда поиск не нужен (NO):\\n1. Отзывы подтверждают ключевые требования из запроса — нужные услуги, условия или особенности.\\n2. Запрос общий, а информации достаточно.\\n\\n### Примеры:\\nПользовательский запрос: Шиномонтаж 24\\nОрганизация:\\nНазвание: Шиномонтаж\\nАдрес: Республика Калмыкия, Элиста, улица В.И. Ленина, 7, стр. 8А\\nРубрика: Шиномонтаж\\nОтзывы: Организация занимается шиномонтажом. Отзывы положительные: хвалят высокое качество работы.\\nОтвет: YES\\n\\nПользовательский запрос: где дешево поесть в санкт-петербурге 2017\\nОрганизация:\\nНазвание: Буше; Bushe; БУШЕ пекарня-кондитерская ООО\\nАдрес: Санкт-Петербург, Малая Морская улица, 7\\nРубрика: Пекарня\\nОтзывы: Организация занимается выпечкой и продажей кондитерских изделий, а также предлагает завтраки и другие блюда. Отзывы преимущественно положительные: хвалят вкус еды и напитков, атмосферу и обслуживание, но критикуют высокие цены и иногда медленную работу персонала. | 1. Критикуют состояние туалета. | 2. Отмечают, что кухня не работала. | 3. Хвалят заведение в общем. | 4. Считают цены высокими. | 5. Восхищаются круасанами.\\nОтвет: NO\\n\\n### Теперь оцени следующий пример:\\nПользовательский запрос: \"стретчинг в москве\"\\nОрганизация:\\nНазвание: Elasti_city; Elasti city\\nАдрес: Москва, Кастанаевская улица, 39\\nРубрика: Фитнес-клуб\\nОтзывы: Организация занимается предоставлением услуг фитнес-клуба и студии йоги. Отзывы преимущественно положительные: пользователи хвалят профессиональных тренеров, дружелюбную атмосферу и индивидуальный подход. Критикуют небольшое пространство студии и систему оплаты.\\n\\n| 1. Хвалят профессионализм учителей. | 2. Отмечают прекрасный результат от занятий: улучшение гибкости и общего самочувствия. | 3. Подчёркивают дружественную атмосферу, маленькие группы и профессионализм тренеров. | 4. Положительно оценивают работу тренера и приятную атмосферу. | 5. Критикуют отсутствие тренировок для мужчин. | 6. Отмечают комфорт и отзывчивость тренеров. | 7. Считают место удобным из-за расположения и спокойной атмосферы. | 8. Хвалят контроль техники и сбалансированные тренировки. | 9. Описывают уютную и комфортную атмосферу, профессионализм тренеров. | 10. Рекомендуют студию после пробного занятия на функциональный фитнес. | 11. Указывают на плюсы и минусы студии, включая неудобную систему оплаты и чистоту. | 12. Критикуют невозможность дозвониться до клуба. | 13. Отмечают доброжелательность и готовность помочь тренеров. | 14. Подчёркивают удобное расположение и благодарность тренерам. | 15. Хвалят расположение, тренеров и цены на абонементы. | 16. Рекомендуют занятия стрейчингом и отмечают отсутствие мужчин в клубе. | 17. Описывают приятные впечатления от групповых занятий и тренеров. | 18. Отмечают разнообразие тренировок и удобную онлайн-запись. | 19. Подчёркивают приятную атмосферу и внимание тренеров. | 20. Считают соотношение цены и качества идеальным. | 21. Рекомендуют студию за профессионализм тренеров и позитивную атмосферу. | 22. Отмечают удобное расположение студии. | 23. Хвалят гибкость, осанку и настроение после занятий.\\nОтвет:', 'classification_prompt': '# llm_relevance_agent/agent/prompts/classify_v2.txt\\n# Пункт 4 изменен\\n\\nТы — интеллектуальная система, которая определяет, насколько организация соответствует пользовательскому запросу.\\nОтветь строго одним из двух вариантов: \"RELEVANT_PLUS\" или \"IRRELEVANT\".\\n\\n### Правила оценки:\\n1. RELEVANT_PLUS — если организация явно удовлетворяет запросу.  \\n2. IRRELEVANT — если соответствия нет.  \\n3. В первую очередь анализируй пользовательский запрос и поля \"Рубрика\" и \"Адрес\".  \\n4. Используй отзывы и дополнительную информацию (поле \"Дополнительная информация\"), особенно если они содержат уникальные признаки, указанные в запросе.\\n5. Если в запросе указана **часть адреса** (например, улица, район или город), обязательно сверяй её с адресом организации. Несовпадение = IRRELEVANT.   \\n6. Если в запросе указан **конкретный номер отделения, филиала, школы, офиса и т.п.**, обязательно сверяй его с номером в названии организации. Несовпадение = IRRELEVANT.\\n7. Если в запросе указана **конкретная станция метро**, считай организацию RELEVANT_PLUS только если в адресе или описании явно указана та же станция метро или подтверждена близость к ней. При несоответствии — IRRELEVANT.\\n\\n### Примеры:\\nПользовательский запрос: шугаринг Красноярск  \\nОрганизация:  \\nНазвание: Студия красоты Дарлинг  \\nАдрес: Красноярск, микрорайон Взлётка, улица Весны, 3  \\nРубрика: Салон красоты  \\nОтзывы: Студия красоты «Дарлинг» предоставляет бьюти-услуги и продаёт парфюмерию и косметику.  \\nДополнительная информация: Предоставляет услуги шугаринга, депиляции, маникюра. Работает ежедневно с 9:00 до 21:00. Ответ: RELEVANT_PLUS\\n\\nПользовательский запрос: Шашлычная  \\nОрганизация:  \\nНазвание: Яндекс Лавка  \\nАдрес: Москва, улица Адмирала Макарова, 23, корп. 2  \\nРубрика: Доставка продуктов  \\nОтзывы: Организация занимается доставкой продуктов и еды, работает в формате даркстора.  \\nДополнительная информация: Сервис доставки продуктов на дом, работает через мобильное приложение.  \\nОтвет: IRRELEVANT\\n\\nПользовательский запрос: Отдел полиции № 7 \\nОрганизация:  \\nНазвание: Отдел полиции № 6 УМВД России по городу Уфе  \\nАдрес: Республика Башкортостан, Уфа, улица Лесотехникума, 92/2  \\nРубрика: Отделение полиции \\nОтзывы: Организация занимается обеспечением правопорядка и оказанием соответствующих услуг населению. Тональность отзывов смешанная: есть как положительные, так и отрицательные.  \\nДополнительная информация:   \\nОтвет: IRRELEVANT\\n\\n### Теперь оцени следующий пример:\\nПользовательский запрос: \"стретчинг в москве\"  \\nОрганизация:  \\nНазвание: Elasti_city; Elasti city  \\nАдрес: Москва, Кастанаевская улица, 39  \\nРубрика: Фитнес-клуб  \\nОтзывы: Организация занимается предоставлением услуг фитнес-клуба и студии йоги. Отзывы преимущественно положительные: пользователи хвалят профессиональных тренеров, дружелюбную атмосферу и индивидуальный подход. Критикуют небольшое пространство студии и систему оплаты.\\n\\n| 1. Хвалят профессионализм учителей. | 2. Отмечают прекрасный результат от занятий: улучшение гибкости и общего самочувствия. | 3. Подчёркивают дружественную атмосферу, маленькие группы и профессионализм тренеров. | 4. Положительно оценивают работу тренера и приятную атмосферу. | 5. Критикуют отсутствие тренировок для мужчин. | 6. Отмечают комфорт и отзывчивость тренеров. | 7. Считают место удобным из-за расположения и спокойной атмосферы. | 8. Хвалят контроль техники и сбалансированные тренировки. | 9. Описывают уютную и комфортную атмосферу, профессионализм тренеров. | 10. Рекомендуют студию после пробного занятия на функциональный фитнес. | 11. Указывают на плюсы и минусы студии, включая неудобную систему оплаты и чистоту. | 12. Критикуют невозможность дозвониться до клуба. | 13. Отмечают доброжелательность и готовность помочь тренеров. | 14. Подчёркивают удобное расположение и благодарность тренерам. | 15. Хвалят расположение, тренеров и цены на абонементы. | 16. Рекомендуют занятия стрейчингом и отмечают отсутствие мужчин в клубе. | 17. Описывают приятные впечатления от групповых занятий и тренеров. | 18. Отмечают разнообразие тренировок и удобную онлайн-запись. | 19. Подчёркивают приятную атмосферу и внимание тренеров. | 20. Считают соотношение цены и качества идеальным. | 21. Рекомендуют студию за профессионализм тренеров и позитивную атмосферу. | 22. Отмечают удобное расположение студии. | 23. Хвалят гибкость, осанку и настроение после занятий.  \\nДополнительная информация: —  \\nОтвет:\"\"\"\\n\\n\\n', 'classification_response': 'RELEVANT_PLUS'}\n",
       "            </pre>\n",
       "        </details>\n",
       "        \n",
       "</div>\n"
      ],
      "text/plain": [
       "<IPython.core.display.HTML object>"
      ]
     },
     "metadata": {},
     "output_type": "display_data"
    }
   ],
   "source": [
    "inspect_row(agent3_consensus_error, idx=0)"
   ]
  },
  {
   "cell_type": "markdown",
   "id": "1757f3e9-0103-4139-9b6f-b1a07e43fddb",
   "metadata": {},
   "source": [
    "### Модель упустила важный модификатор в запросе"
   ]
  },
  {
   "cell_type": "markdown",
   "id": "5aa82e8f-cc87-4a85-abad-eec9c271ad22",
   "metadata": {},
   "source": [
    "Похоже, модель посчитала совпадение по адресу и тематике достаточно весомым, не выявила, что организация не удовлетворяет требование дежурности."
   ]
  },
  {
   "cell_type": "markdown",
   "id": "ea3f1e5f-bfc0-433b-9be8-b0bd629037df",
   "metadata": {},
   "source": [
    "Возможно, стоит добавить патч в промт и явно учитывать ключевые уточнения в запросе — например, \"дежурная\", \"круглосуточная\", \"24 часа\" — и требовать подтверждения этих условий в описании/отзывах."
   ]
  },
  {
   "cell_type": "code",
   "execution_count": 25,
   "id": "76381fe0-ecd6-4496-8821-8af35afd336f",
   "metadata": {},
   "outputs": [],
   "source": [
    "model_consensus_errors.append(int(agent3_consensus_error.loc[1]['permalink']))"
   ]
  },
  {
   "cell_type": "code",
   "execution_count": 26,
   "id": "aee629ec-7ff9-494c-aa5b-c6f4c8871aa9",
   "metadata": {},
   "outputs": [
    {
     "data": {
      "text/html": [
       "\n",
       "<div style=\"border:1px solid #ccc; padding:16px; border-radius:10px;\n",
       "            font-family:sans-serif; background-color:#f9f9f9; margin-bottom:20px\">\n",
       "  <h2>📌 Index: 1</h2>\n",
       "  <p><strong>Запрос:</strong><br>дежурная стоматология севастополь</p>\n",
       "  <p><strong>Адрес:</strong><br>Севастополь, Античный проспект, 8В</p>\n",
       "  <p><strong>Название:</strong><br>Атмосфера; Atmosfera; Стоматология Атмосфера; Stomatologia Atmosfera</p>\n",
       "  <p><strong>ID Организации:</strong><br>82384383021</p>\n",
       "  <p><strong>Рубрика:</strong><br>Стоматологическая клиника</p>\n",
       "  <p><strong>Описание:</strong><br>Стоматологическая клиника «Атмосфера» предоставляет широкий спектр услуг, включая ортодонтическое лечение, профессиональную гигиену полости рта, удаление зубов, изготовление оттисков и другие стоматологические процедуры | консультация ортодонта | лечение элайнерами | профессиональная гигиена полости рта | удаление зуба | изготовление оттиска | ортодонтический аппарат | съёмная пластинка | приём стоматолога-ортопеда | приём стоматолога-терапевта</p>\n",
       "  <p><strong>Истинная релевантность:</strong> 0.0</p>\n",
       "  <p><strong>Отзывы:</strong><br>Организация занимается стоматологическими услугами, включая лечение, удаление зубов и установку имплантов. Тональность отзывов положительная: пользователи хвалят профессионализм врачей, качество обслуживания и приятную атмосферу в клинике. | 1. Хвалят профессионализм и вежливость персонала. | 2. Отмечают высокое качество лечения и адекватную цену. | 3. Похвала врачам и персоналу за внимательность и профессионализм. | 4. Подчёркивают безболезненность процедур и высокий уровень сервиса. | 5. Благодарность за качественное удаление кариеса и профессионализм врача. | 6. Отмечают комфорт и качество лечения у конкретных врачей. | 7. Похвала за быстрое и качественное удаление зуба. | 8. Хвалят современное оборудование и профессионализм специалистов. | 9. Благодарность врачу за внимательное отношение и качественное лечение. | 10. Подчёркивают индивидуальный подход и профессионализм врачей.</p>\n",
       "  <p><strong>Предсказание модели (pred_relevance):</strong><br>1.0</p>\n",
       "  \n",
       "        <details style=\"margin-top:10px;\">\n",
       "            <summary style=\"cursor:pointer;\"><strong>🧠 Agent log (раскрыть)</strong></summary>\n",
       "            <pre style=\"white-space:pre-wrap; background:#eee; padding:10px; border-radius:6px;\">\n",
       "{'need_search_decision': 'NO', 'search_prompt': '# llm_relevance_agent/agent/prompts/need_search_v2.txt\\n# Убран пункт ### Когда поиск не нужен (NO):\\\\n1. Рубрика явно соответствует или не соответствует запросу.\\n\\nОпредели, нужно ли искать дополнительную информацию об организации, чтобы достоверно определить её релевантность пользовательскому запросу.\\n\\nОтвет строго одним из двух вариантов:\\n- \"YES\" — если информации недостаточно для достоверной оценки.\\n- \"NO\" — если можно точно определить релевантность уже по имеющимся данным.\\n\\n### Когда нужен поиск (YES):\\n1. В запросе есть уточнения (время работы, конкретные услуги, цены, бренды).\\n2. Рубрика слишком общая, а запрос специфичный.\\n3. Неясно, предоставляет ли организация нужную услугу.\\n4. В запросе есть временные или географические ограничения.\\n\\n\\n### Когда поиск не нужен (NO):\\n1. Отзывы подтверждают ключевые требования из запроса — нужные услуги, условия или особенности.\\n2. Запрос общий, а информации достаточно.\\n\\n### Примеры:\\nПользовательский запрос: Шиномонтаж 24\\nОрганизация:\\nНазвание: Шиномонтаж\\nАдрес: Республика Калмыкия, Элиста, улица В.И. Ленина, 7, стр. 8А\\nРубрика: Шиномонтаж\\nОтзывы: Организация занимается шиномонтажом. Отзывы положительные: хвалят высокое качество работы.\\nОтвет: YES\\n\\nПользовательский запрос: где дешево поесть в санкт-петербурге 2017\\nОрганизация:\\nНазвание: Буше; Bushe; БУШЕ пекарня-кондитерская ООО\\nАдрес: Санкт-Петербург, Малая Морская улица, 7\\nРубрика: Пекарня\\nОтзывы: Организация занимается выпечкой и продажей кондитерских изделий, а также предлагает завтраки и другие блюда. Отзывы преимущественно положительные: хвалят вкус еды и напитков, атмосферу и обслуживание, но критикуют высокие цены и иногда медленную работу персонала. | 1. Критикуют состояние туалета. | 2. Отмечают, что кухня не работала. | 3. Хвалят заведение в общем. | 4. Считают цены высокими. | 5. Восхищаются круасанами.\\nОтвет: NO\\n\\n### Теперь оцени следующий пример:\\nПользовательский запрос: \"дежурная стоматология севастополь\"\\nОрганизация:\\nНазвание: Атмосфера; Atmosfera; Стоматология Атмосфера; Stomatologia Atmosfera\\nАдрес: Севастополь, Античный проспект, 8В\\nРубрика: Стоматологическая клиника\\nОтзывы: Организация занимается стоматологическими услугами, включая лечение, удаление зубов и установку имплантов. Тональность отзывов положительная: пользователи хвалят профессионализм врачей, качество обслуживания и приятную атмосферу в клинике. | 1. Хвалят профессионализм и вежливость персонала. | 2. Отмечают высокое качество лечения и адекватную цену. | 3. Похвала врачам и персоналу за внимательность и профессионализм. | 4. Подчёркивают безболезненность процедур и высокий уровень сервиса. | 5. Благодарность за качественное удаление кариеса и профессионализм врача. | 6. Отмечают комфорт и качество лечения у конкретных врачей. | 7. Похвала за быстрое и качественное удаление зуба. | 8. Хвалят современное оборудование и профессионализм специалистов. | 9. Благодарность врачу за внимательное отношение и качественное лечение. | 10. Подчёркивают индивидуальный подход и профессионализм врачей.\\nОтвет:', 'classification_prompt': '# llm_relevance_agent/agent/prompts/classify_v2.txt\\n# Пункт 4 изменен\\n\\nТы — интеллектуальная система, которая определяет, насколько организация соответствует пользовательскому запросу.\\nОтветь строго одним из двух вариантов: \"RELEVANT_PLUS\" или \"IRRELEVANT\".\\n\\n### Правила оценки:\\n1. RELEVANT_PLUS — если организация явно удовлетворяет запросу.  \\n2. IRRELEVANT — если соответствия нет.  \\n3. В первую очередь анализируй пользовательский запрос и поля \"Рубрика\" и \"Адрес\".  \\n4. Используй отзывы и дополнительную информацию (поле \"Дополнительная информация\"), особенно если они содержат уникальные признаки, указанные в запросе.\\n5. Если в запросе указана **часть адреса** (например, улица, район или город), обязательно сверяй её с адресом организации. Несовпадение = IRRELEVANT.   \\n6. Если в запросе указан **конкретный номер отделения, филиала, школы, офиса и т.п.**, обязательно сверяй его с номером в названии организации. Несовпадение = IRRELEVANT.\\n7. Если в запросе указана **конкретная станция метро**, считай организацию RELEVANT_PLUS только если в адресе или описании явно указана та же станция метро или подтверждена близость к ней. При несоответствии — IRRELEVANT.\\n\\n### Примеры:\\nПользовательский запрос: шугаринг Красноярск  \\nОрганизация:  \\nНазвание: Студия красоты Дарлинг  \\nАдрес: Красноярск, микрорайон Взлётка, улица Весны, 3  \\nРубрика: Салон красоты  \\nОтзывы: Студия красоты «Дарлинг» предоставляет бьюти-услуги и продаёт парфюмерию и косметику.  \\nДополнительная информация: Предоставляет услуги шугаринга, депиляции, маникюра. Работает ежедневно с 9:00 до 21:00. Ответ: RELEVANT_PLUS\\n\\nПользовательский запрос: Шашлычная  \\nОрганизация:  \\nНазвание: Яндекс Лавка  \\nАдрес: Москва, улица Адмирала Макарова, 23, корп. 2  \\nРубрика: Доставка продуктов  \\nОтзывы: Организация занимается доставкой продуктов и еды, работает в формате даркстора.  \\nДополнительная информация: Сервис доставки продуктов на дом, работает через мобильное приложение.  \\nОтвет: IRRELEVANT\\n\\nПользовательский запрос: Отдел полиции № 7 \\nОрганизация:  \\nНазвание: Отдел полиции № 6 УМВД России по городу Уфе  \\nАдрес: Республика Башкортостан, Уфа, улица Лесотехникума, 92/2  \\nРубрика: Отделение полиции \\nОтзывы: Организация занимается обеспечением правопорядка и оказанием соответствующих услуг населению. Тональность отзывов смешанная: есть как положительные, так и отрицательные.  \\nДополнительная информация:   \\nОтвет: IRRELEVANT\\n\\n### Теперь оцени следующий пример:\\nПользовательский запрос: \"дежурная стоматология севастополь\"  \\nОрганизация:  \\nНазвание: Атмосфера; Atmosfera; Стоматология Атмосфера; Stomatologia Atmosfera  \\nАдрес: Севастополь, Античный проспект, 8В  \\nРубрика: Стоматологическая клиника  \\nОтзывы: Организация занимается стоматологическими услугами, включая лечение, удаление зубов и установку имплантов. Тональность отзывов положительная: пользователи хвалят профессионализм врачей, качество обслуживания и приятную атмосферу в клинике. | 1. Хвалят профессионализм и вежливость персонала. | 2. Отмечают высокое качество лечения и адекватную цену. | 3. Похвала врачам и персоналу за внимательность и профессионализм. | 4. Подчёркивают безболезненность процедур и высокий уровень сервиса. | 5. Благодарность за качественное удаление кариеса и профессионализм врача. | 6. Отмечают комфорт и качество лечения у конкретных врачей. | 7. Похвала за быстрое и качественное удаление зуба. | 8. Хвалят современное оборудование и профессионализм специалистов. | 9. Благодарность врачу за внимательное отношение и качественное лечение. | 10. Подчёркивают индивидуальный подход и профессионализм врачей.  \\nДополнительная информация: —  \\nОтвет:\"\"\"\\n\\n\\n', 'classification_response': 'RELEVANT_PLUS'}\n",
       "            </pre>\n",
       "        </details>\n",
       "        \n",
       "</div>\n"
      ],
      "text/plain": [
       "<IPython.core.display.HTML object>"
      ]
     },
     "metadata": {},
     "output_type": "display_data"
    }
   ],
   "source": [
    "inspect_row(agent3_consensus_error, idx=1)"
   ]
  },
  {
   "cell_type": "markdown",
   "id": "7536b773-9832-4eb4-8b87-cbc7504e260c",
   "metadata": {},
   "source": [
    "### Малоинформативный/общий запрос пользователя"
   ]
  },
  {
   "cell_type": "markdown",
   "id": "9a0297ea-85e4-447b-b61f-694776192a4b",
   "metadata": {},
   "source": [
    "В запросе «центр рязань» слово «центр» очень общее, а рубрика организации — «Медцентр, клиника». +  \n",
    "В запросе есть «рязань», адрес организации тоже в Рязани — это усилило уверенность модели, что организация релевантна."
   ]
  },
  {
   "cell_type": "code",
   "execution_count": 27,
   "id": "ae493a21-cfec-4341-b343-3cf00f7924f5",
   "metadata": {},
   "outputs": [],
   "source": [
    "model_consensus_errors.append(int(agent3_consensus_error.loc[2]['permalink']))"
   ]
  },
  {
   "cell_type": "code",
   "execution_count": 28,
   "id": "fa5f9e3a-2487-4572-b657-5ea769fef5bf",
   "metadata": {},
   "outputs": [
    {
     "data": {
      "text/html": [
       "\n",
       "<div style=\"border:1px solid #ccc; padding:16px; border-radius:10px;\n",
       "            font-family:sans-serif; background-color:#f9f9f9; margin-bottom:20px\">\n",
       "  <h2>📌 Index: 2</h2>\n",
       "  <p><strong>Запрос:</strong><br>центр рязань</p>\n",
       "  <p><strong>Адрес:</strong><br>Рязань, Окский проезд, 4, корп. 1</p>\n",
       "  <p><strong>Название:</strong><br>Начало; Nachalo</p>\n",
       "  <p><strong>ID Организации:</strong><br>50346991306</p>\n",
       "  <p><strong>Рубрика:</strong><br>Медцентр , клиника</p>\n",
       "  <p><strong>Описание:</strong><br>Медицинская организация «Начало» предоставляет услуги врачей различных специальностей. | Чалей Е. А. | Фролова И. О. | Лебедев В. В. | Юдина О. В. | Лебедева Н. В.</p>\n",
       "  <p><strong>Истинная релевантность:</strong> 0.0</p>\n",
       "  <p><strong>Отзывы:</strong><br>Организация занимается медицинским обслуживанием, включая педиатрию и вакцинацию. Тональность отзывов в основном положительная, хвалят квалификацию врачей, уют и подход к детям. Критикуют сложности с записью и работу администраторов. | 1. Хвалят клинику. | 2. Хвалят специалистов. | 3. Отмечают сброс звонков на удержание. | 4. Рекомендуют клинику и специалистов. | 5. Подчёркивают быстрый приём. | 6. Отмечают отказ в приёме при необходимости. | 7. Хвалят уют и персонал. | 8. Рекомендуют для прививок и осмотров. | 9. Критикуют назначенное лечение. | 10. Подчёркивают профессионализм врачей. | 11. Отмечают проблемы с записью и администраторами. | 12. Хвалят внимательность и профессионализм сотрудников. | 13. Критикуют высокие цены. | 14. Отмечают сложности с дозвоном и игнорирование звонков. | 15. Рекомендуют за вежливость и квалификацию. | 16. Подчёркивают проблемы с записью к специалистам. | 17. Хвалят подход к детям и отсутствие лишних назначений. | 18. Критикуют отсутствие клиентоориентированности. | 19. Отмечают очереди и неудобство с бахилами. | 20. Рекомендуют педиатра и общую атмосферу. | 21. Критикуют администраторов за недоброжелательность. | 22. Подчёркивают сложности с выполнением рекомендаций из-за записи. | 23. Рекомендуют конкретного врача и общий опыт. | 24. Хвалят благотворительные приёмы и компетентность врача. | 25. Отмечают дружелюбие и квалификацию врачей. | 26. Рекомендуют за современное оборудование и атмосферу. | 27. Подчёркивают удобство и уют для детей. | 28. Хвалят педиатра и его подход к детям.</p>\n",
       "  <p><strong>Предсказание модели (pred_relevance):</strong><br>1.0</p>\n",
       "  \n",
       "        <details style=\"margin-top:10px;\">\n",
       "            <summary style=\"cursor:pointer;\"><strong>🧠 Agent log (раскрыть)</strong></summary>\n",
       "            <pre style=\"white-space:pre-wrap; background:#eee; padding:10px; border-radius:6px;\">\n",
       "{'need_search_decision': 'NO', 'search_prompt': '# llm_relevance_agent/agent/prompts/need_search_v2.txt\\n# Убран пункт ### Когда поиск не нужен (NO):\\\\n1. Рубрика явно соответствует или не соответствует запросу.\\n\\nОпредели, нужно ли искать дополнительную информацию об организации, чтобы достоверно определить её релевантность пользовательскому запросу.\\n\\nОтвет строго одним из двух вариантов:\\n- \"YES\" — если информации недостаточно для достоверной оценки.\\n- \"NO\" — если можно точно определить релевантность уже по имеющимся данным.\\n\\n### Когда нужен поиск (YES):\\n1. В запросе есть уточнения (время работы, конкретные услуги, цены, бренды).\\n2. Рубрика слишком общая, а запрос специфичный.\\n3. Неясно, предоставляет ли организация нужную услугу.\\n4. В запросе есть временные или географические ограничения.\\n\\n\\n### Когда поиск не нужен (NO):\\n1. Отзывы подтверждают ключевые требования из запроса — нужные услуги, условия или особенности.\\n2. Запрос общий, а информации достаточно.\\n\\n### Примеры:\\nПользовательский запрос: Шиномонтаж 24\\nОрганизация:\\nНазвание: Шиномонтаж\\nАдрес: Республика Калмыкия, Элиста, улица В.И. Ленина, 7, стр. 8А\\nРубрика: Шиномонтаж\\nОтзывы: Организация занимается шиномонтажом. Отзывы положительные: хвалят высокое качество работы.\\nОтвет: YES\\n\\nПользовательский запрос: где дешево поесть в санкт-петербурге 2017\\nОрганизация:\\nНазвание: Буше; Bushe; БУШЕ пекарня-кондитерская ООО\\nАдрес: Санкт-Петербург, Малая Морская улица, 7\\nРубрика: Пекарня\\nОтзывы: Организация занимается выпечкой и продажей кондитерских изделий, а также предлагает завтраки и другие блюда. Отзывы преимущественно положительные: хвалят вкус еды и напитков, атмосферу и обслуживание, но критикуют высокие цены и иногда медленную работу персонала. | 1. Критикуют состояние туалета. | 2. Отмечают, что кухня не работала. | 3. Хвалят заведение в общем. | 4. Считают цены высокими. | 5. Восхищаются круасанами.\\nОтвет: NO\\n\\n### Теперь оцени следующий пример:\\nПользовательский запрос: \"центр рязань\"\\nОрганизация:\\nНазвание: Начало; Nachalo\\nАдрес: Рязань, Окский проезд, 4, корп. 1\\nРубрика: Медцентр , клиника\\nОтзывы: Организация занимается медицинским обслуживанием, включая педиатрию и вакцинацию. Тональность отзывов в основном положительная, хвалят квалификацию врачей, уют и подход к детям. Критикуют сложности с записью и работу администраторов. | 1. Хвалят клинику. | 2. Хвалят специалистов. | 3. Отмечают сброс звонков на удержание. | 4. Рекомендуют клинику и специалистов. | 5. Подчёркивают быстрый приём. | 6. Отмечают отказ в приёме при необходимости. | 7. Хвалят уют и персонал. | 8. Рекомендуют для прививок и осмотров. | 9. Критикуют назначенное лечение. | 10. Подчёркивают профессионализм врачей. | 11. Отмечают проблемы с записью и администраторами. | 12. Хвалят внимательность и профессионализм сотрудников. | 13. Критикуют высокие цены. | 14. Отмечают сложности с дозвоном и игнорирование звонков. | 15. Рекомендуют за вежливость и квалификацию. | 16. Подчёркивают проблемы с записью к специалистам. | 17. Хвалят подход к детям и отсутствие лишних назначений. | 18. Критикуют отсутствие клиентоориентированности. | 19. Отмечают очереди и неудобство с бахилами. | 20. Рекомендуют педиатра и общую атмосферу. | 21. Критикуют администраторов за недоброжелательность. | 22. Подчёркивают сложности с выполнением рекомендаций из-за записи. | 23. Рекомендуют конкретного врача и общий опыт. | 24. Хвалят благотворительные приёмы и компетентность врача. | 25. Отмечают дружелюбие и квалификацию врачей. | 26. Рекомендуют за современное оборудование и атмосферу. | 27. Подчёркивают удобство и уют для детей. | 28. Хвалят педиатра и его подход к детям.\\nОтвет:', 'classification_prompt': '# llm_relevance_agent/agent/prompts/classify_v2.txt\\n# Пункт 4 изменен\\n\\nТы — интеллектуальная система, которая определяет, насколько организация соответствует пользовательскому запросу.\\nОтветь строго одним из двух вариантов: \"RELEVANT_PLUS\" или \"IRRELEVANT\".\\n\\n### Правила оценки:\\n1. RELEVANT_PLUS — если организация явно удовлетворяет запросу.  \\n2. IRRELEVANT — если соответствия нет.  \\n3. В первую очередь анализируй пользовательский запрос и поля \"Рубрика\" и \"Адрес\".  \\n4. Используй отзывы и дополнительную информацию (поле \"Дополнительная информация\"), особенно если они содержат уникальные признаки, указанные в запросе.\\n5. Если в запросе указана **часть адреса** (например, улица, район или город), обязательно сверяй её с адресом организации. Несовпадение = IRRELEVANT.   \\n6. Если в запросе указан **конкретный номер отделения, филиала, школы, офиса и т.п.**, обязательно сверяй его с номером в названии организации. Несовпадение = IRRELEVANT.\\n7. Если в запросе указана **конкретная станция метро**, считай организацию RELEVANT_PLUS только если в адресе или описании явно указана та же станция метро или подтверждена близость к ней. При несоответствии — IRRELEVANT.\\n\\n### Примеры:\\nПользовательский запрос: шугаринг Красноярск  \\nОрганизация:  \\nНазвание: Студия красоты Дарлинг  \\nАдрес: Красноярск, микрорайон Взлётка, улица Весны, 3  \\nРубрика: Салон красоты  \\nОтзывы: Студия красоты «Дарлинг» предоставляет бьюти-услуги и продаёт парфюмерию и косметику.  \\nДополнительная информация: Предоставляет услуги шугаринга, депиляции, маникюра. Работает ежедневно с 9:00 до 21:00. Ответ: RELEVANT_PLUS\\n\\nПользовательский запрос: Шашлычная  \\nОрганизация:  \\nНазвание: Яндекс Лавка  \\nАдрес: Москва, улица Адмирала Макарова, 23, корп. 2  \\nРубрика: Доставка продуктов  \\nОтзывы: Организация занимается доставкой продуктов и еды, работает в формате даркстора.  \\nДополнительная информация: Сервис доставки продуктов на дом, работает через мобильное приложение.  \\nОтвет: IRRELEVANT\\n\\nПользовательский запрос: Отдел полиции № 7 \\nОрганизация:  \\nНазвание: Отдел полиции № 6 УМВД России по городу Уфе  \\nАдрес: Республика Башкортостан, Уфа, улица Лесотехникума, 92/2  \\nРубрика: Отделение полиции \\nОтзывы: Организация занимается обеспечением правопорядка и оказанием соответствующих услуг населению. Тональность отзывов смешанная: есть как положительные, так и отрицательные.  \\nДополнительная информация:   \\nОтвет: IRRELEVANT\\n\\n### Теперь оцени следующий пример:\\nПользовательский запрос: \"центр рязань\"  \\nОрганизация:  \\nНазвание: Начало; Nachalo  \\nАдрес: Рязань, Окский проезд, 4, корп. 1  \\nРубрика: Медцентр , клиника  \\nОтзывы: Организация занимается медицинским обслуживанием, включая педиатрию и вакцинацию. Тональность отзывов в основном положительная, хвалят квалификацию врачей, уют и подход к детям. Критикуют сложности с записью и работу администраторов. | 1. Хвалят клинику. | 2. Хвалят специалистов. | 3. Отмечают сброс звонков на удержание. | 4. Рекомендуют клинику и специалистов. | 5. Подчёркивают быстрый приём. | 6. Отмечают отказ в приёме при необходимости. | 7. Хвалят уют и персонал. | 8. Рекомендуют для прививок и осмотров. | 9. Критикуют назначенное лечение. | 10. Подчёркивают профессионализм врачей. | 11. Отмечают проблемы с записью и администраторами. | 12. Хвалят внимательность и профессионализм сотрудников. | 13. Критикуют высокие цены. | 14. Отмечают сложности с дозвоном и игнорирование звонков. | 15. Рекомендуют за вежливость и квалификацию. | 16. Подчёркивают проблемы с записью к специалистам. | 17. Хвалят подход к детям и отсутствие лишних назначений. | 18. Критикуют отсутствие клиентоориентированности. | 19. Отмечают очереди и неудобство с бахилами. | 20. Рекомендуют педиатра и общую атмосферу. | 21. Критикуют администраторов за недоброжелательность. | 22. Подчёркивают сложности с выполнением рекомендаций из-за записи. | 23. Рекомендуют конкретного врача и общий опыт. | 24. Хвалят благотворительные приёмы и компетентность врача. | 25. Отмечают дружелюбие и квалификацию врачей. | 26. Рекомендуют за современное оборудование и атмосферу. | 27. Подчёркивают удобство и уют для детей. | 28. Хвалят педиатра и его подход к детям.  \\nДополнительная информация: —  \\nОтвет:\"\"\"\\n\\n\\n', 'classification_response': 'RELEVANT_PLUS'}\n",
       "            </pre>\n",
       "        </details>\n",
       "        \n",
       "</div>\n"
      ],
      "text/plain": [
       "<IPython.core.display.HTML object>"
      ]
     },
     "metadata": {},
     "output_type": "display_data"
    }
   ],
   "source": [
    "inspect_row(agent3_consensus_error, idx=2)"
   ]
  },
  {
   "cell_type": "markdown",
   "id": "8ff3eca3-e745-4f54-84b9-a3304262e355",
   "metadata": {},
   "source": [
    "### Справочный/агрегирующий запрос"
   ]
  },
  {
   "cell_type": "markdown",
   "id": "01295345-2c35-43c8-bc6a-b82db9104937",
   "metadata": {},
   "source": [
    "В целом указан зоомагазин. Скорее ошибка асессора. Точно какая-то релевантность есть!"
   ]
  },
  {
   "cell_type": "code",
   "execution_count": 29,
   "id": "0ca8c52a-d53c-4d5d-8956-cdcecb44c289",
   "metadata": {},
   "outputs": [],
   "source": [
    "assessors_errors_consensus.append(int(agent3_consensus_error.loc[3]['permalink']))"
   ]
  },
  {
   "cell_type": "code",
   "execution_count": 30,
   "id": "5f294f5c-577f-4890-9f7c-34e27a73a3ae",
   "metadata": {},
   "outputs": [
    {
     "data": {
      "text/html": [
       "\n",
       "<div style=\"border:1px solid #ccc; padding:16px; border-radius:10px;\n",
       "            font-family:sans-serif; background-color:#f9f9f9; margin-bottom:20px\">\n",
       "  <h2>📌 Index: 3</h2>\n",
       "  <p><strong>Запрос:</strong><br>сочи магазины зоо номера телефонов</p>\n",
       "  <p><strong>Адрес:</strong><br>Краснодарский край, Сочи, жилой район Адлер, улица Голубые Дали, 58/11с6</p>\n",
       "  <p><strong>Название:</strong><br>Фауна; Zoo shop; Зоомагазин</p>\n",
       "  <p><strong>ID Организации:</strong><br>39635130831</p>\n",
       "  <p><strong>Рубрика:</strong><br>Зоомагазин</p>\n",
       "  <p><strong>Описание:</strong><br>—</p>\n",
       "  <p><strong>Истинная релевантность:</strong> 0.0</p>\n",
       "  <p><strong>Отзывы:</strong><br>Организация занимается продажей товаров для животных, включая корма и экипировку. Отзывы в основном положительные: пользователи хвалят ассортимент, цены и обслуживание. Критикуется неудобное расположение и один случай грубого обслуживания. | 1. Хвалят зоомагазин и профессионализм продавца | 2. Отмечают хорошие цены и широкий выбор товаров | 3. Не нашли нужный товар, но продавец был любезен и предложил альтернативу | 4. Положительный опыт покупки, удобно расположен рядом с домом | 5. Продавец дал полезные советы | 6. Можно взять корм на развес по более выгодной цене | 7. Критикуют хамского продавца и неудобный процесс получения карты | 8. Удобно и доступно, широкий выбор товаров | 9. Есть из чего выбрать | 10. Уютный магазин с хорошим ассортиментом и приятными ценами | 11. Тесновато, но много корма и вкусностей для животных | 12. Хороший выбор экипировки для маленьких собак | 13. Практически всё есть в наличии | 14. Разнообразные корма для кошек на развес | 15. Нормальные цены | 16. Удобное расположение рядом с домом, широкий выбор товаров | 17. Критикуют беспорядок в магазине и несоответствие цен на сайте | 18. Нормальный ассортимент</p>\n",
       "  <p><strong>Предсказание модели (pred_relevance):</strong><br>1.0</p>\n",
       "  \n",
       "        <details style=\"margin-top:10px;\">\n",
       "            <summary style=\"cursor:pointer;\"><strong>🧠 Agent log (раскрыть)</strong></summary>\n",
       "            <pre style=\"white-space:pre-wrap; background:#eee; padding:10px; border-radius:6px;\">\n",
       "{'need_search_decision': 'YES', 'search_prompt': '# llm_relevance_agent/agent/prompts/need_search_v2.txt\\n# Убран пункт ### Когда поиск не нужен (NO):\\\\n1. Рубрика явно соответствует или не соответствует запросу.\\n\\nОпредели, нужно ли искать дополнительную информацию об организации, чтобы достоверно определить её релевантность пользовательскому запросу.\\n\\nОтвет строго одним из двух вариантов:\\n- \"YES\" — если информации недостаточно для достоверной оценки.\\n- \"NO\" — если можно точно определить релевантность уже по имеющимся данным.\\n\\n### Когда нужен поиск (YES):\\n1. В запросе есть уточнения (время работы, конкретные услуги, цены, бренды).\\n2. Рубрика слишком общая, а запрос специфичный.\\n3. Неясно, предоставляет ли организация нужную услугу.\\n4. В запросе есть временные или географические ограничения.\\n\\n\\n### Когда поиск не нужен (NO):\\n1. Отзывы подтверждают ключевые требования из запроса — нужные услуги, условия или особенности.\\n2. Запрос общий, а информации достаточно.\\n\\n### Примеры:\\nПользовательский запрос: Шиномонтаж 24\\nОрганизация:\\nНазвание: Шиномонтаж\\nАдрес: Республика Калмыкия, Элиста, улица В.И. Ленина, 7, стр. 8А\\nРубрика: Шиномонтаж\\nОтзывы: Организация занимается шиномонтажом. Отзывы положительные: хвалят высокое качество работы.\\nОтвет: YES\\n\\nПользовательский запрос: где дешево поесть в санкт-петербурге 2017\\nОрганизация:\\nНазвание: Буше; Bushe; БУШЕ пекарня-кондитерская ООО\\nАдрес: Санкт-Петербург, Малая Морская улица, 7\\nРубрика: Пекарня\\nОтзывы: Организация занимается выпечкой и продажей кондитерских изделий, а также предлагает завтраки и другие блюда. Отзывы преимущественно положительные: хвалят вкус еды и напитков, атмосферу и обслуживание, но критикуют высокие цены и иногда медленную работу персонала. | 1. Критикуют состояние туалета. | 2. Отмечают, что кухня не работала. | 3. Хвалят заведение в общем. | 4. Считают цены высокими. | 5. Восхищаются круасанами.\\nОтвет: NO\\n\\n### Теперь оцени следующий пример:\\nПользовательский запрос: \"сочи магазины зоо номера телефонов\"\\nОрганизация:\\nНазвание: Фауна; Zoo shop; Зоомагазин\\nАдрес: Краснодарский край, Сочи, жилой район Адлер, улица Голубые Дали, 58/11с6\\nРубрика: Зоомагазин\\nОтзывы: Организация занимается продажей товаров для животных, включая корма и экипировку. Отзывы в основном положительные: пользователи хвалят ассортимент, цены и обслуживание. Критикуется неудобное расположение и один случай грубого обслуживания. | 1. Хвалят зоомагазин и профессионализм продавца | 2. Отмечают хорошие цены и широкий выбор товаров | 3. Не нашли нужный товар, но продавец был любезен и предложил альтернативу | 4. Положительный опыт покупки, удобно расположен рядом с домом | 5. Продавец дал полезные советы | 6. Можно взять корм на развес по более выгодной цене | 7. Критикуют хамского продавца и неудобный процесс получения карты | 8. Удобно и доступно, широкий выбор товаров | 9. Есть из чего выбрать | 10. Уютный магазин с хорошим ассортиментом и приятными ценами | 11. Тесновато, но много корма и вкусностей для животных | 12. Хороший выбор экипировки для маленьких собак | 13. Практически всё есть в наличии | 14. Разнообразные корма для кошек на развес | 15. Нормальные цены | 16. Удобное расположение рядом с домом, широкий выбор товаров | 17. Критикуют беспорядок в магазине и несоответствие цен на сайте | 18. Нормальный ассортимент\\nОтвет:', 'search_query': 'Фауна Зоомагазин Краснодарский край, Сочи, жилой район Адлер, улица Голубые Дали, 58/11с6 сочи магазины зоо номера телефонов', 'search_results': 'Зоомагазин «Фауна» по адресу Краснодарский край, Сочи, жилой район Адлер, улица Голубые Дали, 58/11с6, ☎️ +7 938 494 42 79. Читать 18 отзывов, смотреть 11\\n\\nМагазин зоотоваров Мир Фауны в Адлерском внутригородском районе (полный адрес: Сочи, Голубые Дали, 58/11 ст1) ⭐️ фотографии и ☎️ телефон, часы работы и\\n\\nМир Фауны, сеть магазинов зоотоваров: адреса со входами на карте, отзывы, фото, номера телефонов, время работы и как доехать ... Адлер м-н, Адлерский район, Сочи,', 'classification_prompt': '# llm_relevance_agent/agent/prompts/classify_v2.txt\\n# Пункт 4 изменен\\n\\nТы — интеллектуальная система, которая определяет, насколько организация соответствует пользовательскому запросу.\\nОтветь строго одним из двух вариантов: \"RELEVANT_PLUS\" или \"IRRELEVANT\".\\n\\n### Правила оценки:\\n1. RELEVANT_PLUS — если организация явно удовлетворяет запросу.  \\n2. IRRELEVANT — если соответствия нет.  \\n3. В первую очередь анализируй пользовательский запрос и поля \"Рубрика\" и \"Адрес\".  \\n4. Используй отзывы и дополнительную информацию (поле \"Дополнительная информация\"), особенно если они содержат уникальные признаки, указанные в запросе.\\n5. Если в запросе указана **часть адреса** (например, улица, район или город), обязательно сверяй её с адресом организации. Несовпадение = IRRELEVANT.   \\n6. Если в запросе указан **конкретный номер отделения, филиала, школы, офиса и т.п.**, обязательно сверяй его с номером в названии организации. Несовпадение = IRRELEVANT.\\n7. Если в запросе указана **конкретная станция метро**, считай организацию RELEVANT_PLUS только если в адресе или описании явно указана та же станция метро или подтверждена близость к ней. При несоответствии — IRRELEVANT.\\n\\n### Примеры:\\nПользовательский запрос: шугаринг Красноярск  \\nОрганизация:  \\nНазвание: Студия красоты Дарлинг  \\nАдрес: Красноярск, микрорайон Взлётка, улица Весны, 3  \\nРубрика: Салон красоты  \\nОтзывы: Студия красоты «Дарлинг» предоставляет бьюти-услуги и продаёт парфюмерию и косметику.  \\nДополнительная информация: Предоставляет услуги шугаринга, депиляции, маникюра. Работает ежедневно с 9:00 до 21:00. Ответ: RELEVANT_PLUS\\n\\nПользовательский запрос: Шашлычная  \\nОрганизация:  \\nНазвание: Яндекс Лавка  \\nАдрес: Москва, улица Адмирала Макарова, 23, корп. 2  \\nРубрика: Доставка продуктов  \\nОтзывы: Организация занимается доставкой продуктов и еды, работает в формате даркстора.  \\nДополнительная информация: Сервис доставки продуктов на дом, работает через мобильное приложение.  \\nОтвет: IRRELEVANT\\n\\nПользовательский запрос: Отдел полиции № 7 \\nОрганизация:  \\nНазвание: Отдел полиции № 6 УМВД России по городу Уфе  \\nАдрес: Республика Башкортостан, Уфа, улица Лесотехникума, 92/2  \\nРубрика: Отделение полиции \\nОтзывы: Организация занимается обеспечением правопорядка и оказанием соответствующих услуг населению. Тональность отзывов смешанная: есть как положительные, так и отрицательные.  \\nДополнительная информация:   \\nОтвет: IRRELEVANT\\n\\n### Теперь оцени следующий пример:\\nПользовательский запрос: \"сочи магазины зоо номера телефонов\"  \\nОрганизация:  \\nНазвание: Фауна; Zoo shop; Зоомагазин  \\nАдрес: Краснодарский край, Сочи, жилой район Адлер, улица Голубые Дали, 58/11с6  \\nРубрика: Зоомагазин  \\nОтзывы: Организация занимается продажей товаров для животных, включая корма и экипировку. Отзывы в основном положительные: пользователи хвалят ассортимент, цены и обслуживание. Критикуется неудобное расположение и один случай грубого обслуживания. | 1. Хвалят зоомагазин и профессионализм продавца | 2. Отмечают хорошие цены и широкий выбор товаров | 3. Не нашли нужный товар, но продавец был любезен и предложил альтернативу | 4. Положительный опыт покупки, удобно расположен рядом с домом | 5. Продавец дал полезные советы | 6. Можно взять корм на развес по более выгодной цене | 7. Критикуют хамского продавца и неудобный процесс получения карты | 8. Удобно и доступно, широкий выбор товаров | 9. Есть из чего выбрать | 10. Уютный магазин с хорошим ассортиментом и приятными ценами | 11. Тесновато, но много корма и вкусностей для животных | 12. Хороший выбор экипировки для маленьких собак | 13. Практически всё есть в наличии | 14. Разнообразные корма для кошек на развес | 15. Нормальные цены | 16. Удобное расположение рядом с домом, широкий выбор товаров | 17. Критикуют беспорядок в магазине и несоответствие цен на сайте | 18. Нормальный ассортимент  \\nДополнительная информация: Зоомагазин «Фауна» по адресу Краснодарский край, Сочи, жилой район Адлер, улица Голубые Дали, 58/11с6, ☎️ +7 938 494 42 79. Читать 18 отзывов, смотреть 11\\n\\nМагазин зоотоваров Мир Фауны в Адлерском внутригородском районе (полный адрес: Сочи, Голубые Дали, 58/11 ст1) ⭐️ фотографии и ☎️ телефон, часы работы и\\n\\nМир Фауны, сеть магазинов зоотоваров: адреса со входами на карте, отзывы, фото, номера телефонов, время работы и как доехать ... Адлер м-н, Адлерский район, Сочи,  \\nОтвет:\"\"\"\\n\\n\\n', 'classification_response': 'RELEVANT_PLUS'}\n",
       "            </pre>\n",
       "        </details>\n",
       "        \n",
       "</div>\n"
      ],
      "text/plain": [
       "<IPython.core.display.HTML object>"
      ]
     },
     "metadata": {},
     "output_type": "display_data"
    }
   ],
   "source": [
    "inspect_row(agent3_consensus_error, idx=3)"
   ]
  },
  {
   "cell_type": "markdown",
   "id": "a430e7c4-95eb-4b22-abc4-991b9ce46b90",
   "metadata": {},
   "source": [
    "### Модель упустила важный модификатор в запросе"
   ]
  },
  {
   "cell_type": "markdown",
   "id": "4b656aeb-37df-4fb5-b8f1-2ac81796c886",
   "metadata": {},
   "source": [
    "Может, необходимо уточнить промт и в явном виде подсветить модели правило о формате услуге.\n"
   ]
  },
  {
   "cell_type": "code",
   "execution_count": 31,
   "id": "9d781234-4f70-49c1-a3e2-ef8d1834eb41",
   "metadata": {},
   "outputs": [],
   "source": [
    "model_consensus_errors.append(int(agent3_consensus_error.loc[4]['permalink']))"
   ]
  },
  {
   "cell_type": "code",
   "execution_count": 32,
   "id": "67ebfc6b-0868-4612-b784-0da7f740b6ac",
   "metadata": {},
   "outputs": [
    {
     "data": {
      "text/html": [
       "\n",
       "<div style=\"border:1px solid #ccc; padding:16px; border-radius:10px;\n",
       "            font-family:sans-serif; background-color:#f9f9f9; margin-bottom:20px\">\n",
       "  <h2>📌 Index: 4</h2>\n",
       "  <p><strong>Запрос:</strong><br>шиномонтаж на колесах череповец</p>\n",
       "  <p><strong>Адрес:</strong><br>Вологодская область, Череповец, Северное шоссе, 14</p>\n",
       "  <p><strong>Название:</strong><br>Шиномонтажная мастерская; Шиномонтаж</p>\n",
       "  <p><strong>ID Организации:</strong><br>219333709839</p>\n",
       "  <p><strong>Рубрика:</strong><br>Шиномонтаж</p>\n",
       "  <p><strong>Описание:</strong><br>—</p>\n",
       "  <p><strong>Истинная релевантность:</strong> 0.0</p>\n",
       "  <p><strong>Отзывы:</strong><br>Организация занимается шиномонтажом. Отзывы смешанные: есть положительные оценки качества работы и сервиса, но также есть жалобы на высокие цены, некомпетентность сотрудников и проблемы с графиком работы. Хвалят: качество работы, скорость обслуживания. Критикуют: высокие цены, непрофессионализм сотрудников, проблемы с доступностью услуг. | 1. Отмечают готовность идти на встречу | 2. Хвалят качество работы и справедливую цену | 3. Критикуют высокие цены и дополнительные скрытые расходы | 4. Положительный отзыв о сервисе | 5. Жалуются на некомпетентность и проблемы с персоналом | 6. Упоминают ограниченный спектр услуг | 7. Положительный отзыв о мастере | 8. Жалуются на недоступность услуг и проблемы с коммуникацией | 9. Положительный отзыв | 10. Хвалят скорость и качество работы | 11. Повторный положительный отзыв о сервисе | 12. Указывают на несоответствие графика работы фактическому времени работы | 13. Положительный отзыв об итогах обслуживания</p>\n",
       "  <p><strong>Предсказание модели (pred_relevance):</strong><br>1.0</p>\n",
       "  \n",
       "        <details style=\"margin-top:10px;\">\n",
       "            <summary style=\"cursor:pointer;\"><strong>🧠 Agent log (раскрыть)</strong></summary>\n",
       "            <pre style=\"white-space:pre-wrap; background:#eee; padding:10px; border-radius:6px;\">\n",
       "{'need_search_decision': 'YES', 'search_prompt': '# llm_relevance_agent/agent/prompts/need_search_v2.txt\\n# Убран пункт ### Когда поиск не нужен (NO):\\\\n1. Рубрика явно соответствует или не соответствует запросу.\\n\\nОпредели, нужно ли искать дополнительную информацию об организации, чтобы достоверно определить её релевантность пользовательскому запросу.\\n\\nОтвет строго одним из двух вариантов:\\n- \"YES\" — если информации недостаточно для достоверной оценки.\\n- \"NO\" — если можно точно определить релевантность уже по имеющимся данным.\\n\\n### Когда нужен поиск (YES):\\n1. В запросе есть уточнения (время работы, конкретные услуги, цены, бренды).\\n2. Рубрика слишком общая, а запрос специфичный.\\n3. Неясно, предоставляет ли организация нужную услугу.\\n4. В запросе есть временные или географические ограничения.\\n\\n\\n### Когда поиск не нужен (NO):\\n1. Отзывы подтверждают ключевые требования из запроса — нужные услуги, условия или особенности.\\n2. Запрос общий, а информации достаточно.\\n\\n### Примеры:\\nПользовательский запрос: Шиномонтаж 24\\nОрганизация:\\nНазвание: Шиномонтаж\\nАдрес: Республика Калмыкия, Элиста, улица В.И. Ленина, 7, стр. 8А\\nРубрика: Шиномонтаж\\nОтзывы: Организация занимается шиномонтажом. Отзывы положительные: хвалят высокое качество работы.\\nОтвет: YES\\n\\nПользовательский запрос: где дешево поесть в санкт-петербурге 2017\\nОрганизация:\\nНазвание: Буше; Bushe; БУШЕ пекарня-кондитерская ООО\\nАдрес: Санкт-Петербург, Малая Морская улица, 7\\nРубрика: Пекарня\\nОтзывы: Организация занимается выпечкой и продажей кондитерских изделий, а также предлагает завтраки и другие блюда. Отзывы преимущественно положительные: хвалят вкус еды и напитков, атмосферу и обслуживание, но критикуют высокие цены и иногда медленную работу персонала. | 1. Критикуют состояние туалета. | 2. Отмечают, что кухня не работала. | 3. Хвалят заведение в общем. | 4. Считают цены высокими. | 5. Восхищаются круасанами.\\nОтвет: NO\\n\\n### Теперь оцени следующий пример:\\nПользовательский запрос: \"шиномонтаж на колесах череповец\"\\nОрганизация:\\nНазвание: Шиномонтажная мастерская; Шиномонтаж\\nАдрес: Вологодская область, Череповец, Северное шоссе, 14\\nРубрика: Шиномонтаж\\nОтзывы: Организация занимается шиномонтажом. Отзывы смешанные: есть положительные оценки качества работы и сервиса, но также есть жалобы на высокие цены, некомпетентность сотрудников и проблемы с графиком работы. Хвалят: качество работы, скорость обслуживания. Критикуют: высокие цены, непрофессионализм сотрудников, проблемы с доступностью услуг. | 1. Отмечают готовность идти на встречу | 2. Хвалят качество работы и справедливую цену | 3. Критикуют высокие цены и дополнительные скрытые расходы | 4. Положительный отзыв о сервисе | 5. Жалуются на некомпетентность и проблемы с персоналом | 6. Упоминают ограниченный спектр услуг | 7. Положительный отзыв о мастере | 8. Жалуются на недоступность услуг и проблемы с коммуникацией | 9. Положительный отзыв | 10. Хвалят скорость и качество работы | 11. Повторный положительный отзыв о сервисе | 12. Указывают на несоответствие графика работы фактическому времени работы | 13. Положительный отзыв об итогах обслуживания\\nОтвет:', 'search_query': 'Шиномонтажная мастерская Шиномонтаж Вологодская область, Череповец, Северное шоссе, 14 шиномонтаж на колесах череповец', 'search_results': '\\u200bРеклама\\u200b0+. Шиномонтаж. \\u200bШиномонтаж. Контакты · Инфо · Отзывы · Цены · Фото1 · Северное шоссе, 14. Северный район, Череповец, Вологодская область, 160860.\\n\\nРейтинг 4,0 на основе 35 оценок и 15 отзывов о шиномонтаже «Шиномонтажная мастерская», Вологодская область, Череповец, Северное шоссе, 14.\\n\\nКаков график работы Шиномонтажной мастерской на Северном шоссе, 14? Режим приёма клиентов следующий: Пн-вс: 09:00 - 22:00.', 'classification_prompt': '# llm_relevance_agent/agent/prompts/classify_v2.txt\\n# Пункт 4 изменен\\n\\nТы — интеллектуальная система, которая определяет, насколько организация соответствует пользовательскому запросу.\\nОтветь строго одним из двух вариантов: \"RELEVANT_PLUS\" или \"IRRELEVANT\".\\n\\n### Правила оценки:\\n1. RELEVANT_PLUS — если организация явно удовлетворяет запросу.  \\n2. IRRELEVANT — если соответствия нет.  \\n3. В первую очередь анализируй пользовательский запрос и поля \"Рубрика\" и \"Адрес\".  \\n4. Используй отзывы и дополнительную информацию (поле \"Дополнительная информация\"), особенно если они содержат уникальные признаки, указанные в запросе.\\n5. Если в запросе указана **часть адреса** (например, улица, район или город), обязательно сверяй её с адресом организации. Несовпадение = IRRELEVANT.   \\n6. Если в запросе указан **конкретный номер отделения, филиала, школы, офиса и т.п.**, обязательно сверяй его с номером в названии организации. Несовпадение = IRRELEVANT.\\n7. Если в запросе указана **конкретная станция метро**, считай организацию RELEVANT_PLUS только если в адресе или описании явно указана та же станция метро или подтверждена близость к ней. При несоответствии — IRRELEVANT.\\n\\n### Примеры:\\nПользовательский запрос: шугаринг Красноярск  \\nОрганизация:  \\nНазвание: Студия красоты Дарлинг  \\nАдрес: Красноярск, микрорайон Взлётка, улица Весны, 3  \\nРубрика: Салон красоты  \\nОтзывы: Студия красоты «Дарлинг» предоставляет бьюти-услуги и продаёт парфюмерию и косметику.  \\nДополнительная информация: Предоставляет услуги шугаринга, депиляции, маникюра. Работает ежедневно с 9:00 до 21:00. Ответ: RELEVANT_PLUS\\n\\nПользовательский запрос: Шашлычная  \\nОрганизация:  \\nНазвание: Яндекс Лавка  \\nАдрес: Москва, улица Адмирала Макарова, 23, корп. 2  \\nРубрика: Доставка продуктов  \\nОтзывы: Организация занимается доставкой продуктов и еды, работает в формате даркстора.  \\nДополнительная информация: Сервис доставки продуктов на дом, работает через мобильное приложение.  \\nОтвет: IRRELEVANT\\n\\nПользовательский запрос: Отдел полиции № 7 \\nОрганизация:  \\nНазвание: Отдел полиции № 6 УМВД России по городу Уфе  \\nАдрес: Республика Башкортостан, Уфа, улица Лесотехникума, 92/2  \\nРубрика: Отделение полиции \\nОтзывы: Организация занимается обеспечением правопорядка и оказанием соответствующих услуг населению. Тональность отзывов смешанная: есть как положительные, так и отрицательные.  \\nДополнительная информация:   \\nОтвет: IRRELEVANT\\n\\n### Теперь оцени следующий пример:\\nПользовательский запрос: \"шиномонтаж на колесах череповец\"  \\nОрганизация:  \\nНазвание: Шиномонтажная мастерская; Шиномонтаж  \\nАдрес: Вологодская область, Череповец, Северное шоссе, 14  \\nРубрика: Шиномонтаж  \\nОтзывы: Организация занимается шиномонтажом. Отзывы смешанные: есть положительные оценки качества работы и сервиса, но также есть жалобы на высокие цены, некомпетентность сотрудников и проблемы с графиком работы. Хвалят: качество работы, скорость обслуживания. Критикуют: высокие цены, непрофессионализм сотрудников, проблемы с доступностью услуг. | 1. Отмечают готовность идти на встречу | 2. Хвалят качество работы и справедливую цену | 3. Критикуют высокие цены и дополнительные скрытые расходы | 4. Положительный отзыв о сервисе | 5. Жалуются на некомпетентность и проблемы с персоналом | 6. Упоминают ограниченный спектр услуг | 7. Положительный отзыв о мастере | 8. Жалуются на недоступность услуг и проблемы с коммуникацией | 9. Положительный отзыв | 10. Хвалят скорость и качество работы | 11. Повторный положительный отзыв о сервисе | 12. Указывают на несоответствие графика работы фактическому времени работы | 13. Положительный отзыв об итогах обслуживания  \\nДополнительная информация: \\u200bРеклама\\u200b0+. Шиномонтаж. \\u200bШиномонтаж. Контакты · Инфо · Отзывы · Цены · Фото1 · Северное шоссе, 14. Северный район, Череповец, Вологодская область, 160860.\\n\\nРейтинг 4,0 на основе 35 оценок и 15 отзывов о шиномонтаже «Шиномонтажная мастерская», Вологодская область, Череповец, Северное шоссе, 14.\\n\\nКаков график работы Шиномонтажной мастерской на Северном шоссе, 14? Режим приёма клиентов следующий: Пн-вс: 09:00 - 22:00.  \\nОтвет:\"\"\"\\n\\n\\n', 'classification_response': 'RELEVANT_PLUS'}\n",
       "            </pre>\n",
       "        </details>\n",
       "        \n",
       "</div>\n"
      ],
      "text/plain": [
       "<IPython.core.display.HTML object>"
      ]
     },
     "metadata": {},
     "output_type": "display_data"
    }
   ],
   "source": [
    "inspect_row(agent3_consensus_error, idx=4)"
   ]
  },
  {
   "cell_type": "markdown",
   "id": "666f160c-c27e-4af8-bfc8-6e53ac5b08a7",
   "metadata": {},
   "source": [
    "Учтено указание на адрес в запросе. Ошибка асессора. "
   ]
  },
  {
   "cell_type": "code",
   "execution_count": 33,
   "id": "b8e2291d-c895-4f52-99f5-e15e936708fe",
   "metadata": {},
   "outputs": [],
   "source": [
    "assessors_errors_consensus.append(int(agent3_consensus_error.loc[5]['permalink']))"
   ]
  },
  {
   "cell_type": "code",
   "execution_count": 34,
   "id": "4ff3899f-786e-4b43-80f5-e1b50423c39e",
   "metadata": {},
   "outputs": [
    {
     "data": {
      "text/html": [
       "\n",
       "<div style=\"border:1px solid #ccc; padding:16px; border-radius:10px;\n",
       "            font-family:sans-serif; background-color:#f9f9f9; margin-bottom:20px\">\n",
       "  <h2>📌 Index: 5</h2>\n",
       "  <p><strong>Запрос:</strong><br>где вкусно и недорого поесть на невском проспекте в санкт-петербурге</p>\n",
       "  <p><strong>Адрес:</strong><br>Санкт-Петербург, проспект Просвещения, 19</p>\n",
       "  <p><strong>Название:</strong><br>Вкусно — и точка; Vkusno — i tochka; McDonald's; McDonalds; Мак; МакДак; Макавто; Макдак; Макдоналдс; Макдональдс</p>\n",
       "  <p><strong>ID Организации:</strong><br>209986321255</p>\n",
       "  <p><strong>Рубрика:</strong><br>Быстрое питание</p>\n",
       "  <p><strong>Описание:</strong><br>«Вкусно — и точка» предлагает широкий ассортимент блюд быстрого питания, включая бургеры, стрипсы, картофель фри и различные напитки. | Биг Спешиал | Биг Хит | Чикен Премьер | Картофель Фри | Стрипсы | Капучино | Чай Липтон | Яблочный Шорли | Гамбургер | Чизбургер</p>\n",
       "  <p><strong>Истинная релевантность:</strong> 1.0</p>\n",
       "  <p><strong>Отзывы:</strong><br>Организация занимается быстрым питанием, аналогично Макдоналдсу. Отзывы смешанные: много критики по поводу долгого ожидания и качества обслуживания, но также есть положительные отзывы о вкусе еды. Хвалят: вкус блюд. Критикуют: очереди, медленное обслуживание, ошибки в заказах, некомпетентность персонала.\n",
       "| 1. Критикуют неудобные стаканчики | 2. Пользователь доволен | 3. Положительное мнение, считают место крутым | 4. Сравнивают с обычным «Макдоналдсом» | 5. Жалуются на долгое ожидание (20 минут) | 6. Отмечают долгое ожидание | 7. Критикуют малое количество посадочных мест | 8. Жалуются на холодную и сухую еду | 9. Пользователь отравился | 10. Жалуются на невкусную картошку и долгое ожидание (30 минут) | 11. Положительное мнение с замечанием о высоких ценах | 12. Пользователю понравилось | 13. Жалуются на длительное время приготовления чизбургеров | 14. Предупреждают о длительном ожидании заказа | 15. Положительное мнение | 16. Хвалят манговый коктейль | 17. Положительное мнение | 18. Хвалят обслуживание и вкус | 19. Критикуют работу доставки | 20. Критикуют охранника за выгон посетителя | 21. Жалуются на медленное обслуживание при доставке | 22. Жалуются на качество еды и ошибки в заказе | 23. Критикуют огромные очереди и медленное обслуживание | 24. Положительное мнение о вкусе | 25. Критикуют ошибку в заказе и отсутствие коктейля из-за сдачи | 26. Отрицательное мнение о качестве еды и обслуживании | 27. Жалуются на очереди и нехватку мест | 28. Критикуют длительное ожидание рожка и отсутствие мест | 29. Положительное мнение о вкусе, но критикуют отношение к клиентам и грязные подносы | 30. Жалуются на длительное ожидание наггетсов | 31. Друг пользователя отравился | 32. Критикуют качество приготовления и обслуживание | 33. Положительное мнение о скорости и качестве обслуживания | 34. Жалуются на высокие цены и качество еды | 35. Критикуют персонал и длительное ожидание | 36. Критикуют персонал и медленное обслуживание | 37. Ставят оценку 3 звезды за длительное ожидание |</p>\n",
       "  <p><strong>Предсказание модели (pred_relevance):</strong><br>0.0</p>\n",
       "  \n",
       "        <details style=\"margin-top:10px;\">\n",
       "            <summary style=\"cursor:pointer;\"><strong>🧠 Agent log (раскрыть)</strong></summary>\n",
       "            <pre style=\"white-space:pre-wrap; background:#eee; padding:10px; border-radius:6px;\">\n",
       "{'need_search_decision': 'YES', 'search_prompt': '# llm_relevance_agent/agent/prompts/need_search_v2.txt\\n# Убран пункт ### Когда поиск не нужен (NO):\\\\n1. Рубрика явно соответствует или не соответствует запросу.\\n\\nОпредели, нужно ли искать дополнительную информацию об организации, чтобы достоверно определить её релевантность пользовательскому запросу.\\n\\nОтвет строго одним из двух вариантов:\\n- \"YES\" — если информации недостаточно для достоверной оценки.\\n- \"NO\" — если можно точно определить релевантность уже по имеющимся данным.\\n\\n### Когда нужен поиск (YES):\\n1. В запросе есть уточнения (время работы, конкретные услуги, цены, бренды).\\n2. Рубрика слишком общая, а запрос специфичный.\\n3. Неясно, предоставляет ли организация нужную услугу.\\n4. В запросе есть временные или географические ограничения.\\n\\n\\n### Когда поиск не нужен (NO):\\n1. Отзывы подтверждают ключевые требования из запроса — нужные услуги, условия или особенности.\\n2. Запрос общий, а информации достаточно.\\n\\n### Примеры:\\nПользовательский запрос: Шиномонтаж 24\\nОрганизация:\\nНазвание: Шиномонтаж\\nАдрес: Республика Калмыкия, Элиста, улица В.И. Ленина, 7, стр. 8А\\nРубрика: Шиномонтаж\\nОтзывы: Организация занимается шиномонтажом. Отзывы положительные: хвалят высокое качество работы.\\nОтвет: YES\\n\\nПользовательский запрос: где дешево поесть в санкт-петербурге 2017\\nОрганизация:\\nНазвание: Буше; Bushe; БУШЕ пекарня-кондитерская ООО\\nАдрес: Санкт-Петербург, Малая Морская улица, 7\\nРубрика: Пекарня\\nОтзывы: Организация занимается выпечкой и продажей кондитерских изделий, а также предлагает завтраки и другие блюда. Отзывы преимущественно положительные: хвалят вкус еды и напитков, атмосферу и обслуживание, но критикуют высокие цены и иногда медленную работу персонала. | 1. Критикуют состояние туалета. | 2. Отмечают, что кухня не работала. | 3. Хвалят заведение в общем. | 4. Считают цены высокими. | 5. Восхищаются круасанами.\\nОтвет: NO\\n\\n### Теперь оцени следующий пример:\\nПользовательский запрос: \"где вкусно и недорого поесть на невском проспекте в санкт-петербурге\"\\nОрганизация:\\nНазвание: Вкусно — и точка; Vkusno — i tochka; McDonald\\'s; McDonalds; Мак; МакДак; Макавто; Макдак; Макдоналдс; Макдональдс\\nАдрес: Санкт-Петербург, проспект Просвещения, 19\\nРубрика: Быстрое питание\\nОтзывы: Организация занимается быстрым питанием, аналогично Макдоналдсу. Отзывы смешанные: много критики по поводу долгого ожидания и качества обслуживания, но также есть положительные отзывы о вкусе еды. Хвалят: вкус блюд. Критикуют: очереди, медленное обслуживание, ошибки в заказах, некомпетентность персонала.\\n| 1. Критикуют неудобные стаканчики | 2. Пользователь доволен | 3. Положительное мнение, считают место крутым | 4. Сравнивают с обычным «Макдоналдсом» | 5. Жалуются на долгое ожидание (20 минут) | 6. Отмечают долгое ожидание | 7. Критикуют малое количество посадочных мест | 8. Жалуются на холодную и сухую еду | 9. Пользователь отравился | 10. Жалуются на невкусную картошку и долгое ожидание (30 минут) | 11. Положительное мнение с замечанием о высоких ценах | 12. Пользователю понравилось | 13. Жалуются на длительное время приготовления чизбургеров | 14. Предупреждают о длительном ожидании заказа | 15. Положительное мнение | 16. Хвалят манговый коктейль | 17. Положительное мнение | 18. Хвалят обслуживание и вкус | 19. Критикуют работу доставки | 20. Критикуют охранника за выгон посетителя | 21. Жалуются на медленное обслуживание при доставке | 22. Жалуются на качество еды и ошибки в заказе | 23. Критикуют огромные очереди и медленное обслуживание | 24. Положительное мнение о вкусе | 25. Критикуют ошибку в заказе и отсутствие коктейля из-за сдачи | 26. Отрицательное мнение о качестве еды и обслуживании | 27. Жалуются на очереди и нехватку мест | 28. Критикуют длительное ожидание рожка и отсутствие мест | 29. Положительное мнение о вкусе, но критикуют отношение к клиентам и грязные подносы | 30. Жалуются на длительное ожидание наггетсов | 31. Друг пользователя отравился | 32. Критикуют качество приготовления и обслуживание | 33. Положительное мнение о скорости и качестве обслуживания | 34. Жалуются на высокие цены и качество еды | 35. Критикуют персонал и длительное ожидание | 36. Критикуют персонал и медленное обслуживание | 37. Ставят оценку 3 звезды за длительное ожидание |\\nОтвет:', 'search_query': 'Вкусно — и точка Быстрое питание Санкт-Петербург, проспект Просвещения, 19 где вкусно и недорого поесть на невском проспекте в санкт-петербурге', 'search_results': '', 'classification_prompt': '# llm_relevance_agent/agent/prompts/classify_v2.txt\\n# Пункт 4 изменен\\n\\nТы — интеллектуальная система, которая определяет, насколько организация соответствует пользовательскому запросу.\\nОтветь строго одним из двух вариантов: \"RELEVANT_PLUS\" или \"IRRELEVANT\".\\n\\n### Правила оценки:\\n1. RELEVANT_PLUS — если организация явно удовлетворяет запросу.  \\n2. IRRELEVANT — если соответствия нет.  \\n3. В первую очередь анализируй пользовательский запрос и поля \"Рубрика\" и \"Адрес\".  \\n4. Используй отзывы и дополнительную информацию (поле \"Дополнительная информация\"), особенно если они содержат уникальные признаки, указанные в запросе.\\n5. Если в запросе указана **часть адреса** (например, улица, район или город), обязательно сверяй её с адресом организации. Несовпадение = IRRELEVANT.   \\n6. Если в запросе указан **конкретный номер отделения, филиала, школы, офиса и т.п.**, обязательно сверяй его с номером в названии организации. Несовпадение = IRRELEVANT.\\n7. Если в запросе указана **конкретная станция метро**, считай организацию RELEVANT_PLUS только если в адресе или описании явно указана та же станция метро или подтверждена близость к ней. При несоответствии — IRRELEVANT.\\n\\n### Примеры:\\nПользовательский запрос: шугаринг Красноярск  \\nОрганизация:  \\nНазвание: Студия красоты Дарлинг  \\nАдрес: Красноярск, микрорайон Взлётка, улица Весны, 3  \\nРубрика: Салон красоты  \\nОтзывы: Студия красоты «Дарлинг» предоставляет бьюти-услуги и продаёт парфюмерию и косметику.  \\nДополнительная информация: Предоставляет услуги шугаринга, депиляции, маникюра. Работает ежедневно с 9:00 до 21:00. Ответ: RELEVANT_PLUS\\n\\nПользовательский запрос: Шашлычная  \\nОрганизация:  \\nНазвание: Яндекс Лавка  \\nАдрес: Москва, улица Адмирала Макарова, 23, корп. 2  \\nРубрика: Доставка продуктов  \\nОтзывы: Организация занимается доставкой продуктов и еды, работает в формате даркстора.  \\nДополнительная информация: Сервис доставки продуктов на дом, работает через мобильное приложение.  \\nОтвет: IRRELEVANT\\n\\nПользовательский запрос: Отдел полиции № 7 \\nОрганизация:  \\nНазвание: Отдел полиции № 6 УМВД России по городу Уфе  \\nАдрес: Республика Башкортостан, Уфа, улица Лесотехникума, 92/2  \\nРубрика: Отделение полиции \\nОтзывы: Организация занимается обеспечением правопорядка и оказанием соответствующих услуг населению. Тональность отзывов смешанная: есть как положительные, так и отрицательные.  \\nДополнительная информация:   \\nОтвет: IRRELEVANT\\n\\n### Теперь оцени следующий пример:\\nПользовательский запрос: \"где вкусно и недорого поесть на невском проспекте в санкт-петербурге\"  \\nОрганизация:  \\nНазвание: Вкусно — и точка; Vkusno — i tochka; McDonald\\'s; McDonalds; Мак; МакДак; Макавто; Макдак; Макдоналдс; Макдональдс  \\nАдрес: Санкт-Петербург, проспект Просвещения, 19  \\nРубрика: Быстрое питание  \\nОтзывы: Организация занимается быстрым питанием, аналогично Макдоналдсу. Отзывы смешанные: много критики по поводу долгого ожидания и качества обслуживания, но также есть положительные отзывы о вкусе еды. Хвалят: вкус блюд. Критикуют: очереди, медленное обслуживание, ошибки в заказах, некомпетентность персонала.\\n| 1. Критикуют неудобные стаканчики | 2. Пользователь доволен | 3. Положительное мнение, считают место крутым | 4. Сравнивают с обычным «Макдоналдсом» | 5. Жалуются на долгое ожидание (20 минут) | 6. Отмечают долгое ожидание | 7. Критикуют малое количество посадочных мест | 8. Жалуются на холодную и сухую еду | 9. Пользователь отравился | 10. Жалуются на невкусную картошку и долгое ожидание (30 минут) | 11. Положительное мнение с замечанием о высоких ценах | 12. Пользователю понравилось | 13. Жалуются на длительное время приготовления чизбургеров | 14. Предупреждают о длительном ожидании заказа | 15. Положительное мнение | 16. Хвалят манговый коктейль | 17. Положительное мнение | 18. Хвалят обслуживание и вкус | 19. Критикуют работу доставки | 20. Критикуют охранника за выгон посетителя | 21. Жалуются на медленное обслуживание при доставке | 22. Жалуются на качество еды и ошибки в заказе | 23. Критикуют огромные очереди и медленное обслуживание | 24. Положительное мнение о вкусе | 25. Критикуют ошибку в заказе и отсутствие коктейля из-за сдачи | 26. Отрицательное мнение о качестве еды и обслуживании | 27. Жалуются на очереди и нехватку мест | 28. Критикуют длительное ожидание рожка и отсутствие мест | 29. Положительное мнение о вкусе, но критикуют отношение к клиентам и грязные подносы | 30. Жалуются на длительное ожидание наггетсов | 31. Друг пользователя отравился | 32. Критикуют качество приготовления и обслуживание | 33. Положительное мнение о скорости и качестве обслуживания | 34. Жалуются на высокие цены и качество еды | 35. Критикуют персонал и длительное ожидание | 36. Критикуют персонал и медленное обслуживание | 37. Ставят оценку 3 звезды за длительное ожидание |  \\nДополнительная информация: —  \\nОтвет:\"\"\"\\n\\n\\n', 'classification_response': 'IRRELEVANT'}\n",
       "            </pre>\n",
       "        </details>\n",
       "        \n",
       "</div>\n"
      ],
      "text/plain": [
       "<IPython.core.display.HTML object>"
      ]
     },
     "metadata": {},
     "output_type": "display_data"
    }
   ],
   "source": [
    "inspect_row(agent3_consensus_error, idx=5)"
   ]
  },
  {
   "cell_type": "code",
   "execution_count": 35,
   "id": "854367fd-7706-41e9-9207-d49a57576608",
   "metadata": {},
   "outputs": [],
   "source": [
    "model_consensus_errors.append(int(agent3_consensus_error.loc[6]['permalink']))"
   ]
  },
  {
   "cell_type": "code",
   "execution_count": 36,
   "id": "f2c56e3b-50e4-401a-bd00-972c5c79a3a3",
   "metadata": {},
   "outputs": [
    {
     "data": {
      "text/html": [
       "\n",
       "<div style=\"border:1px solid #ccc; padding:16px; border-radius:10px;\n",
       "            font-family:sans-serif; background-color:#f9f9f9; margin-bottom:20px\">\n",
       "  <h2>📌 Index: 6</h2>\n",
       "  <p><strong>Запрос:</strong><br>подкачка колес</p>\n",
       "  <p><strong>Адрес:</strong><br>Москва, Тимирязевская улица, 2/3</p>\n",
       "  <p><strong>Название:</strong><br>Наш монтаж; Nashmontazh 24</p>\n",
       "  <p><strong>ID Организации:</strong><br>43382789817</p>\n",
       "  <p><strong>Рубрика:</strong><br>Шиномонтаж</p>\n",
       "  <p><strong>Описание:</strong><br>—</p>\n",
       "  <p><strong>Истинная релевантность:</strong> 0.0</p>\n",
       "  <p><strong>Отзывы:</strong><br>Организация занимается шиномонтажем и обслуживанием автокондиционеров. Тональность отзывов смешанная: есть как положительные, так и отрицательные. Хвалят быстрое обслуживание и профессионализм сотрудников. Критикуют высокие цены, несоответствие цен на сайте и в реальности, требование оплаты только наличными, а также недобросовестное обслуживание.\n",
       "\n",
       "| 1. Критикуют высокие цены | 2. Отмечают профессиональное обслуживание, но указывают на ограничение оплаты наличными | 3. Довольны быстрым обслуживанием без навязывания услуг | 4. Считают монтаж обычным | 5. Критикуют несоответствие цен в интернете и реальности | 6. Благодарны за помощь с балансировкой | 7. Считают цены высокими, но отмечают профессионализм мастера | 8. Указывают на ограничение оплаты наличными | 9. Критикуют некачественное обслуживание и старые инструменты | 10. Отмечают доброжелательность работников | 11. Жалуются на некачественную работу | 12. Довольны адекватными ценами и быстрым обслуживанием | 13. Критикуют несоответствие объявленных и фактических цен | 14. Жалуются на отказ в услуге из-за технического нюанса | 15. Отмечают быстрое обслуживание | 16. Критикуют недостоверную информацию о графике работы | 17. Рекомендуют за качественное обслуживание | 18. Жалуются на несоответствие прайса на сайте и реальных цен, а также на ограничение оплаты наличными | 19. Отмечают быструю работу и благодарность мастеру | 20. Довольны быстрым и качественным обслуживанием | 21. Критикуют некорректную информацию о графике работы | 22. Рекомендуют за профессионализм | 23. Жалуются на очереди и недостоверную информацию на сайте | 24. Довольны качеством работы | 25. Критикуют недобросовестное информирование и высокие цены | 26. Жалуются на маркетинговые уловки и обман | 27. Рекомендуют за быстрое и качественное обслуживание | 28. Довольны быстрой работой | 29. Отмечают удобство и быстроту обслуживания | 30. Благодарны за помощь в сложной ситуации | 31. Жалуются на очереди | 32. Довольны честным ценообразованием и качеством работы | 33. Рекомендуют за хорошее обслуживание и круглосуточную работу | 34. Критикуют сервис и состояние мастерской | 35. Довольны профессиональным обслуживанием | 36. Жалуются на отсутствие альтернативных способов оплаты | 37. Рекомендуют за быструю и качественную работу | 38. Критикуют низкое качество обслуживания и хамство персонала | 39. Жалуются на неожиданное объявление об обеде | 40. Рекомендуют за профессионализм и качество работы</p>\n",
       "  <p><strong>Предсказание модели (pred_relevance):</strong><br>1.0</p>\n",
       "  \n",
       "        <details style=\"margin-top:10px;\">\n",
       "            <summary style=\"cursor:pointer;\"><strong>🧠 Agent log (раскрыть)</strong></summary>\n",
       "            <pre style=\"white-space:pre-wrap; background:#eee; padding:10px; border-radius:6px;\">\n",
       "{'need_search_decision': 'YES', 'search_prompt': '# llm_relevance_agent/agent/prompts/need_search_v2.txt\\n# Убран пункт ### Когда поиск не нужен (NO):\\\\n1. Рубрика явно соответствует или не соответствует запросу.\\n\\nОпредели, нужно ли искать дополнительную информацию об организации, чтобы достоверно определить её релевантность пользовательскому запросу.\\n\\nОтвет строго одним из двух вариантов:\\n- \"YES\" — если информации недостаточно для достоверной оценки.\\n- \"NO\" — если можно точно определить релевантность уже по имеющимся данным.\\n\\n### Когда нужен поиск (YES):\\n1. В запросе есть уточнения (время работы, конкретные услуги, цены, бренды).\\n2. Рубрика слишком общая, а запрос специфичный.\\n3. Неясно, предоставляет ли организация нужную услугу.\\n4. В запросе есть временные или географические ограничения.\\n\\n\\n### Когда поиск не нужен (NO):\\n1. Отзывы подтверждают ключевые требования из запроса — нужные услуги, условия или особенности.\\n2. Запрос общий, а информации достаточно.\\n\\n### Примеры:\\nПользовательский запрос: Шиномонтаж 24\\nОрганизация:\\nНазвание: Шиномонтаж\\nАдрес: Республика Калмыкия, Элиста, улица В.И. Ленина, 7, стр. 8А\\nРубрика: Шиномонтаж\\nОтзывы: Организация занимается шиномонтажом. Отзывы положительные: хвалят высокое качество работы.\\nОтвет: YES\\n\\nПользовательский запрос: где дешево поесть в санкт-петербурге 2017\\nОрганизация:\\nНазвание: Буше; Bushe; БУШЕ пекарня-кондитерская ООО\\nАдрес: Санкт-Петербург, Малая Морская улица, 7\\nРубрика: Пекарня\\nОтзывы: Организация занимается выпечкой и продажей кондитерских изделий, а также предлагает завтраки и другие блюда. Отзывы преимущественно положительные: хвалят вкус еды и напитков, атмосферу и обслуживание, но критикуют высокие цены и иногда медленную работу персонала. | 1. Критикуют состояние туалета. | 2. Отмечают, что кухня не работала. | 3. Хвалят заведение в общем. | 4. Считают цены высокими. | 5. Восхищаются круасанами.\\nОтвет: NO\\n\\n### Теперь оцени следующий пример:\\nПользовательский запрос: \"подкачка колес\"\\nОрганизация:\\nНазвание: Наш монтаж; Nashmontazh 24\\nАдрес: Москва, Тимирязевская улица, 2/3\\nРубрика: Шиномонтаж\\nОтзывы: Организация занимается шиномонтажем и обслуживанием автокондиционеров. Тональность отзывов смешанная: есть как положительные, так и отрицательные. Хвалят быстрое обслуживание и профессионализм сотрудников. Критикуют высокие цены, несоответствие цен на сайте и в реальности, требование оплаты только наличными, а также недобросовестное обслуживание.\\n\\n| 1. Критикуют высокие цены | 2. Отмечают профессиональное обслуживание, но указывают на ограничение оплаты наличными | 3. Довольны быстрым обслуживанием без навязывания услуг | 4. Считают монтаж обычным | 5. Критикуют несоответствие цен в интернете и реальности | 6. Благодарны за помощь с балансировкой | 7. Считают цены высокими, но отмечают профессионализм мастера | 8. Указывают на ограничение оплаты наличными | 9. Критикуют некачественное обслуживание и старые инструменты | 10. Отмечают доброжелательность работников | 11. Жалуются на некачественную работу | 12. Довольны адекватными ценами и быстрым обслуживанием | 13. Критикуют несоответствие объявленных и фактических цен | 14. Жалуются на отказ в услуге из-за технического нюанса | 15. Отмечают быстрое обслуживание | 16. Критикуют недостоверную информацию о графике работы | 17. Рекомендуют за качественное обслуживание | 18. Жалуются на несоответствие прайса на сайте и реальных цен, а также на ограничение оплаты наличными | 19. Отмечают быструю работу и благодарность мастеру | 20. Довольны быстрым и качественным обслуживанием | 21. Критикуют некорректную информацию о графике работы | 22. Рекомендуют за профессионализм | 23. Жалуются на очереди и недостоверную информацию на сайте | 24. Довольны качеством работы | 25. Критикуют недобросовестное информирование и высокие цены | 26. Жалуются на маркетинговые уловки и обман | 27. Рекомендуют за быстрое и качественное обслуживание | 28. Довольны быстрой работой | 29. Отмечают удобство и быстроту обслуживания | 30. Благодарны за помощь в сложной ситуации | 31. Жалуются на очереди | 32. Довольны честным ценообразованием и качеством работы | 33. Рекомендуют за хорошее обслуживание и круглосуточную работу | 34. Критикуют сервис и состояние мастерской | 35. Довольны профессиональным обслуживанием | 36. Жалуются на отсутствие альтернативных способов оплаты | 37. Рекомендуют за быструю и качественную работу | 38. Критикуют низкое качество обслуживания и хамство персонала | 39. Жалуются на неожиданное объявление об обеде | 40. Рекомендуют за профессионализм и качество работы\\nОтвет:', 'search_query': 'Наш монтаж Шиномонтаж Москва, Тимирязевская улица, 2/3 подкачка колес', 'search_results': 'Шиномонтаж «Наш монтаж» по адресу Москва, Тимирязевская улица, 2/3, метро «Дмитровская» — написать в whatsapp, ☎ +7 495 740 55 56.\\n\\nЗаправка кондиционера. 2 500 р. ; Правка дисков. 1 500 р. ; Ремонт прокола. 1 100 р. ; Ремонт бокового пореза. 1 700 р. ; Дополнительные услуги. 100 р.\\n\\nЦены шиномонтажной мастерской Наш монтаж · Монтаж/демонтаж220 ₽ · Балансировка 1-го колеса255 ₽ · Правка дисков1000 ₽ · Комплекс2600 ₽ · Работы одного колеса650 ₽', 'classification_prompt': '# llm_relevance_agent/agent/prompts/classify_v2.txt\\n# Пункт 4 изменен\\n\\nТы — интеллектуальная система, которая определяет, насколько организация соответствует пользовательскому запросу.\\nОтветь строго одним из двух вариантов: \"RELEVANT_PLUS\" или \"IRRELEVANT\".\\n\\n### Правила оценки:\\n1. RELEVANT_PLUS — если организация явно удовлетворяет запросу.  \\n2. IRRELEVANT — если соответствия нет.  \\n3. В первую очередь анализируй пользовательский запрос и поля \"Рубрика\" и \"Адрес\".  \\n4. Используй отзывы и дополнительную информацию (поле \"Дополнительная информация\"), особенно если они содержат уникальные признаки, указанные в запросе.\\n5. Если в запросе указана **часть адреса** (например, улица, район или город), обязательно сверяй её с адресом организации. Несовпадение = IRRELEVANT.   \\n6. Если в запросе указан **конкретный номер отделения, филиала, школы, офиса и т.п.**, обязательно сверяй его с номером в названии организации. Несовпадение = IRRELEVANT.\\n7. Если в запросе указана **конкретная станция метро**, считай организацию RELEVANT_PLUS только если в адресе или описании явно указана та же станция метро или подтверждена близость к ней. При несоответствии — IRRELEVANT.\\n\\n### Примеры:\\nПользовательский запрос: шугаринг Красноярск  \\nОрганизация:  \\nНазвание: Студия красоты Дарлинг  \\nАдрес: Красноярск, микрорайон Взлётка, улица Весны, 3  \\nРубрика: Салон красоты  \\nОтзывы: Студия красоты «Дарлинг» предоставляет бьюти-услуги и продаёт парфюмерию и косметику.  \\nДополнительная информация: Предоставляет услуги шугаринга, депиляции, маникюра. Работает ежедневно с 9:00 до 21:00. Ответ: RELEVANT_PLUS\\n\\nПользовательский запрос: Шашлычная  \\nОрганизация:  \\nНазвание: Яндекс Лавка  \\nАдрес: Москва, улица Адмирала Макарова, 23, корп. 2  \\nРубрика: Доставка продуктов  \\nОтзывы: Организация занимается доставкой продуктов и еды, работает в формате даркстора.  \\nДополнительная информация: Сервис доставки продуктов на дом, работает через мобильное приложение.  \\nОтвет: IRRELEVANT\\n\\nПользовательский запрос: Отдел полиции № 7 \\nОрганизация:  \\nНазвание: Отдел полиции № 6 УМВД России по городу Уфе  \\nАдрес: Республика Башкортостан, Уфа, улица Лесотехникума, 92/2  \\nРубрика: Отделение полиции \\nОтзывы: Организация занимается обеспечением правопорядка и оказанием соответствующих услуг населению. Тональность отзывов смешанная: есть как положительные, так и отрицательные.  \\nДополнительная информация:   \\nОтвет: IRRELEVANT\\n\\n### Теперь оцени следующий пример:\\nПользовательский запрос: \"подкачка колес\"  \\nОрганизация:  \\nНазвание: Наш монтаж; Nashmontazh 24  \\nАдрес: Москва, Тимирязевская улица, 2/3  \\nРубрика: Шиномонтаж  \\nОтзывы: Организация занимается шиномонтажем и обслуживанием автокондиционеров. Тональность отзывов смешанная: есть как положительные, так и отрицательные. Хвалят быстрое обслуживание и профессионализм сотрудников. Критикуют высокие цены, несоответствие цен на сайте и в реальности, требование оплаты только наличными, а также недобросовестное обслуживание.\\n\\n| 1. Критикуют высокие цены | 2. Отмечают профессиональное обслуживание, но указывают на ограничение оплаты наличными | 3. Довольны быстрым обслуживанием без навязывания услуг | 4. Считают монтаж обычным | 5. Критикуют несоответствие цен в интернете и реальности | 6. Благодарны за помощь с балансировкой | 7. Считают цены высокими, но отмечают профессионализм мастера | 8. Указывают на ограничение оплаты наличными | 9. Критикуют некачественное обслуживание и старые инструменты | 10. Отмечают доброжелательность работников | 11. Жалуются на некачественную работу | 12. Довольны адекватными ценами и быстрым обслуживанием | 13. Критикуют несоответствие объявленных и фактических цен | 14. Жалуются на отказ в услуге из-за технического нюанса | 15. Отмечают быстрое обслуживание | 16. Критикуют недостоверную информацию о графике работы | 17. Рекомендуют за качественное обслуживание | 18. Жалуются на несоответствие прайса на сайте и реальных цен, а также на ограничение оплаты наличными | 19. Отмечают быструю работу и благодарность мастеру | 20. Довольны быстрым и качественным обслуживанием | 21. Критикуют некорректную информацию о графике работы | 22. Рекомендуют за профессионализм | 23. Жалуются на очереди и недостоверную информацию на сайте | 24. Довольны качеством работы | 25. Критикуют недобросовестное информирование и высокие цены | 26. Жалуются на маркетинговые уловки и обман | 27. Рекомендуют за быстрое и качественное обслуживание | 28. Довольны быстрой работой | 29. Отмечают удобство и быстроту обслуживания | 30. Благодарны за помощь в сложной ситуации | 31. Жалуются на очереди | 32. Довольны честным ценообразованием и качеством работы | 33. Рекомендуют за хорошее обслуживание и круглосуточную работу | 34. Критикуют сервис и состояние мастерской | 35. Довольны профессиональным обслуживанием | 36. Жалуются на отсутствие альтернативных способов оплаты | 37. Рекомендуют за быструю и качественную работу | 38. Критикуют низкое качество обслуживания и хамство персонала | 39. Жалуются на неожиданное объявление об обеде | 40. Рекомендуют за профессионализм и качество работы  \\nДополнительная информация: Шиномонтаж «Наш монтаж» по адресу Москва, Тимирязевская улица, 2/3, метро «Дмитровская» — написать в whatsapp, ☎ +7 495 740 55 56.\\n\\nЗаправка кондиционера. 2 500 р. ; Правка дисков. 1 500 р. ; Ремонт прокола. 1 100 р. ; Ремонт бокового пореза. 1 700 р. ; Дополнительные услуги. 100 р.\\n\\nЦены шиномонтажной мастерской Наш монтаж · Монтаж/демонтаж220 ₽ · Балансировка 1-го колеса255 ₽ · Правка дисков1000 ₽ · Комплекс2600 ₽ · Работы одного колеса650 ₽  \\nОтвет:\"\"\"\\n\\n\\n', 'classification_response': 'RELEVANT_PLUS'}\n",
       "            </pre>\n",
       "        </details>\n",
       "        \n",
       "</div>\n"
      ],
      "text/plain": [
       "<IPython.core.display.HTML object>"
      ]
     },
     "metadata": {},
     "output_type": "display_data"
    }
   ],
   "source": [
    "inspect_row(agent3_consensus_error, idx=6)"
   ]
  },
  {
   "cell_type": "code",
   "execution_count": 37,
   "id": "2cf41a19-6051-410b-a7f7-3d6699f350ab",
   "metadata": {},
   "outputs": [],
   "source": [
    "assessors_errors_consensus.append(int(agent3_consensus_error.loc[7]['permalink']))"
   ]
  },
  {
   "cell_type": "code",
   "execution_count": 38,
   "id": "1faf0b6e-a0df-451d-befa-abf43ed06f41",
   "metadata": {},
   "outputs": [
    {
     "data": {
      "text/html": [
       "\n",
       "<div style=\"border:1px solid #ccc; padding:16px; border-radius:10px;\n",
       "            font-family:sans-serif; background-color:#f9f9f9; margin-bottom:20px\">\n",
       "  <h2>📌 Index: 7</h2>\n",
       "  <p><strong>Запрос:</strong><br>производители холодильного оборудования в москве и московской области</p>\n",
       "  <p><strong>Адрес:</strong><br>Москва, Осташковская улица, 14, стр. 5</p>\n",
       "  <p><strong>Название:</strong><br>Фригодизайн™; Frigodesign; Фригодизайн</p>\n",
       "  <p><strong>ID Организации:</strong><br>1132647747</p>\n",
       "  <p><strong>Рубрика:</strong><br>Промышленное холодильное оборудование</p>\n",
       "  <p><strong>Описание:</strong><br>Организация предлагает промышленное и торговое холодильное оборудование, включая холодильные камеры, чиллеры, тепловые насосы и системы мониторинга | компрессорные холодильные станции | промышленные холодильные камеры | чиллеры | системы мониторинга и диспетчеризации | скороморозильные агрегаты | тепловые насосы | холодильные установки контейнерного типа</p>\n",
       "  <p><strong>Истинная релевантность:</strong> 0.0</p>\n",
       "  <p><strong>Отзывы:</strong><br>Организация занимается промышленным холодильным и торговым оборудованием. Отзывы исключительно положительные: хвалят профессионализм, качество работы, уровень сервиса и внимание к деталям. | 1. Удовлетворены работой компании, проект климатической камеры функционирует без нареканий | 2. Отмечают вежливый и квалифицированный персонал, быстрое обслуживание и хороший сервис | 3. Довольны выполнением нестандартного запроса в срок, подчёркивают внимание к деталям | 4. Благодарят за отличную работу и высокий уровень сервиса | 5. Приятно удивлены работой менеджеров, все пожелания учтены | 6. Считают компанию лучшей по качеству и надёжности, планируют продолжать сотрудничество</p>\n",
       "  <p><strong>Предсказание модели (pred_relevance):</strong><br>1.0</p>\n",
       "  \n",
       "        <details style=\"margin-top:10px;\">\n",
       "            <summary style=\"cursor:pointer;\"><strong>🧠 Agent log (раскрыть)</strong></summary>\n",
       "            <pre style=\"white-space:pre-wrap; background:#eee; padding:10px; border-radius:6px;\">\n",
       "{'need_search_decision': 'NO', 'search_prompt': '# llm_relevance_agent/agent/prompts/need_search_v2.txt\\n# Убран пункт ### Когда поиск не нужен (NO):\\\\n1. Рубрика явно соответствует или не соответствует запросу.\\n\\nОпредели, нужно ли искать дополнительную информацию об организации, чтобы достоверно определить её релевантность пользовательскому запросу.\\n\\nОтвет строго одним из двух вариантов:\\n- \"YES\" — если информации недостаточно для достоверной оценки.\\n- \"NO\" — если можно точно определить релевантность уже по имеющимся данным.\\n\\n### Когда нужен поиск (YES):\\n1. В запросе есть уточнения (время работы, конкретные услуги, цены, бренды).\\n2. Рубрика слишком общая, а запрос специфичный.\\n3. Неясно, предоставляет ли организация нужную услугу.\\n4. В запросе есть временные или географические ограничения.\\n\\n\\n### Когда поиск не нужен (NO):\\n1. Отзывы подтверждают ключевые требования из запроса — нужные услуги, условия или особенности.\\n2. Запрос общий, а информации достаточно.\\n\\n### Примеры:\\nПользовательский запрос: Шиномонтаж 24\\nОрганизация:\\nНазвание: Шиномонтаж\\nАдрес: Республика Калмыкия, Элиста, улица В.И. Ленина, 7, стр. 8А\\nРубрика: Шиномонтаж\\nОтзывы: Организация занимается шиномонтажом. Отзывы положительные: хвалят высокое качество работы.\\nОтвет: YES\\n\\nПользовательский запрос: где дешево поесть в санкт-петербурге 2017\\nОрганизация:\\nНазвание: Буше; Bushe; БУШЕ пекарня-кондитерская ООО\\nАдрес: Санкт-Петербург, Малая Морская улица, 7\\nРубрика: Пекарня\\nОтзывы: Организация занимается выпечкой и продажей кондитерских изделий, а также предлагает завтраки и другие блюда. Отзывы преимущественно положительные: хвалят вкус еды и напитков, атмосферу и обслуживание, но критикуют высокие цены и иногда медленную работу персонала. | 1. Критикуют состояние туалета. | 2. Отмечают, что кухня не работала. | 3. Хвалят заведение в общем. | 4. Считают цены высокими. | 5. Восхищаются круасанами.\\nОтвет: NO\\n\\n### Теперь оцени следующий пример:\\nПользовательский запрос: \"производители холодильного оборудования в москве и московской области\"\\nОрганизация:\\nНазвание: Фригодизайн™; Frigodesign; Фригодизайн\\nАдрес: Москва, Осташковская улица, 14, стр. 5\\nРубрика: Промышленное холодильное оборудование\\nОтзывы: Организация занимается промышленным холодильным и торговым оборудованием. Отзывы исключительно положительные: хвалят профессионализм, качество работы, уровень сервиса и внимание к деталям. | 1. Удовлетворены работой компании, проект климатической камеры функционирует без нареканий | 2. Отмечают вежливый и квалифицированный персонал, быстрое обслуживание и хороший сервис | 3. Довольны выполнением нестандартного запроса в срок, подчёркивают внимание к деталям | 4. Благодарят за отличную работу и высокий уровень сервиса | 5. Приятно удивлены работой менеджеров, все пожелания учтены | 6. Считают компанию лучшей по качеству и надёжности, планируют продолжать сотрудничество\\nОтвет:', 'classification_prompt': '# llm_relevance_agent/agent/prompts/classify_v2.txt\\n# Пункт 4 изменен\\n\\nТы — интеллектуальная система, которая определяет, насколько организация соответствует пользовательскому запросу.\\nОтветь строго одним из двух вариантов: \"RELEVANT_PLUS\" или \"IRRELEVANT\".\\n\\n### Правила оценки:\\n1. RELEVANT_PLUS — если организация явно удовлетворяет запросу.  \\n2. IRRELEVANT — если соответствия нет.  \\n3. В первую очередь анализируй пользовательский запрос и поля \"Рубрика\" и \"Адрес\".  \\n4. Используй отзывы и дополнительную информацию (поле \"Дополнительная информация\"), особенно если они содержат уникальные признаки, указанные в запросе.\\n5. Если в запросе указана **часть адреса** (например, улица, район или город), обязательно сверяй её с адресом организации. Несовпадение = IRRELEVANT.   \\n6. Если в запросе указан **конкретный номер отделения, филиала, школы, офиса и т.п.**, обязательно сверяй его с номером в названии организации. Несовпадение = IRRELEVANT.\\n7. Если в запросе указана **конкретная станция метро**, считай организацию RELEVANT_PLUS только если в адресе или описании явно указана та же станция метро или подтверждена близость к ней. При несоответствии — IRRELEVANT.\\n\\n### Примеры:\\nПользовательский запрос: шугаринг Красноярск  \\nОрганизация:  \\nНазвание: Студия красоты Дарлинг  \\nАдрес: Красноярск, микрорайон Взлётка, улица Весны, 3  \\nРубрика: Салон красоты  \\nОтзывы: Студия красоты «Дарлинг» предоставляет бьюти-услуги и продаёт парфюмерию и косметику.  \\nДополнительная информация: Предоставляет услуги шугаринга, депиляции, маникюра. Работает ежедневно с 9:00 до 21:00. Ответ: RELEVANT_PLUS\\n\\nПользовательский запрос: Шашлычная  \\nОрганизация:  \\nНазвание: Яндекс Лавка  \\nАдрес: Москва, улица Адмирала Макарова, 23, корп. 2  \\nРубрика: Доставка продуктов  \\nОтзывы: Организация занимается доставкой продуктов и еды, работает в формате даркстора.  \\nДополнительная информация: Сервис доставки продуктов на дом, работает через мобильное приложение.  \\nОтвет: IRRELEVANT\\n\\nПользовательский запрос: Отдел полиции № 7 \\nОрганизация:  \\nНазвание: Отдел полиции № 6 УМВД России по городу Уфе  \\nАдрес: Республика Башкортостан, Уфа, улица Лесотехникума, 92/2  \\nРубрика: Отделение полиции \\nОтзывы: Организация занимается обеспечением правопорядка и оказанием соответствующих услуг населению. Тональность отзывов смешанная: есть как положительные, так и отрицательные.  \\nДополнительная информация:   \\nОтвет: IRRELEVANT\\n\\n### Теперь оцени следующий пример:\\nПользовательский запрос: \"производители холодильного оборудования в москве и московской области\"  \\nОрганизация:  \\nНазвание: Фригодизайн™; Frigodesign; Фригодизайн  \\nАдрес: Москва, Осташковская улица, 14, стр. 5  \\nРубрика: Промышленное холодильное оборудование  \\nОтзывы: Организация занимается промышленным холодильным и торговым оборудованием. Отзывы исключительно положительные: хвалят профессионализм, качество работы, уровень сервиса и внимание к деталям. | 1. Удовлетворены работой компании, проект климатической камеры функционирует без нареканий | 2. Отмечают вежливый и квалифицированный персонал, быстрое обслуживание и хороший сервис | 3. Довольны выполнением нестандартного запроса в срок, подчёркивают внимание к деталям | 4. Благодарят за отличную работу и высокий уровень сервиса | 5. Приятно удивлены работой менеджеров, все пожелания учтены | 6. Считают компанию лучшей по качеству и надёжности, планируют продолжать сотрудничество  \\nДополнительная информация: —  \\nОтвет:\"\"\"\\n\\n\\n', 'classification_response': 'RELEVANT_PLUS'}\n",
       "            </pre>\n",
       "        </details>\n",
       "        \n",
       "</div>\n"
      ],
      "text/plain": [
       "<IPython.core.display.HTML object>"
      ]
     },
     "metadata": {},
     "output_type": "display_data"
    }
   ],
   "source": [
    "inspect_row(agent3_consensus_error, idx=7)"
   ]
  },
  {
   "cell_type": "markdown",
   "id": "d34fb5a4-de75-41e5-b895-d5b2534eb596",
   "metadata": {},
   "source": [
    "### Малоинформативный/общий запрос пользователя\n",
    "Тут совпали и географический признак и в целом в рубрику попадает. Скорее ошибка асессора, на мой взгляд, какой-то процент релевантности точно есть"
   ]
  },
  {
   "cell_type": "code",
   "execution_count": 39,
   "id": "c5729514-296c-41d7-95c3-894efa6dfd9b",
   "metadata": {},
   "outputs": [],
   "source": [
    "assessors_errors_consensus.append(int(agent3_consensus_error.loc[8]['permalink']))"
   ]
  },
  {
   "cell_type": "code",
   "execution_count": 40,
   "id": "086f4d24-f74f-4be1-a79b-d6de112f4807",
   "metadata": {},
   "outputs": [
    {
     "data": {
      "text/html": [
       "\n",
       "<div style=\"border:1px solid #ccc; padding:16px; border-radius:10px;\n",
       "            font-family:sans-serif; background-color:#f9f9f9; margin-bottom:20px\">\n",
       "  <h2>📌 Index: 8</h2>\n",
       "  <p><strong>Запрос:</strong><br>детский центр воронеж</p>\n",
       "  <p><strong>Адрес:</strong><br>Воронеж, Московский проспект, 97А, корп. 1</p>\n",
       "  <p><strong>Название:</strong><br>Ваmbini-Club; Баmбinic-Club; Bambini-Club; Бамбини клуб; Bambini Club; Bambini-club</p>\n",
       "  <p><strong>ID Организации:</strong><br>48292943852</p>\n",
       "  <p><strong>Рубрика:</strong><br>Детский сад , ясли</p>\n",
       "  <p><strong>Описание:</strong><br>Ваmbini-Club предлагает услуги по развитию и подготовке детей к школе, а также занятия по вокалу и работу с музыкальным инструментом | вокал | синтезатор | полный день | подготовка к школе</p>\n",
       "  <p><strong>Истинная релевантность:</strong> 0.0</p>\n",
       "  <p><strong>Отзывы:</strong><br>Организация занимается воспитанием и развитием детей, предоставляя разнообразные занятия и индивидуальный подход. Тональность отзывов преимущественно положительная, но есть и отрицательные. Хвалят: профессионализм сотрудников, атмосферу в саду, разнообразие занятий. Критикуют: качество питания, поведение отдельных воспитателей.\n",
       "\n",
       "1. Хвалят профессиональный подход и чуткое отношение к детям.\n",
       "2. Отмечают высокий уровень профессионализма и интерьера детского сада.\n",
       "3. Критикуют безответственное отношение к детям и накрученные отзывы.\n",
       "4. Недовольство однообразным питанием и обманом руководства.\n",
       "5. Положительный опыт адаптации ребёнка и интересные программы в детском саду.\n",
       "6. Воспитатели внимательны и занимаются с детьми, вкусно кормят.\n",
       "7. Благодарность за тёплую атмосферу и профессионализм.\n",
       "8. Положительный отзыв о работе детского сада и готовности ребёнка к школе.\n",
       "9. Удовлетворённость работой детского сада, благодарность за профессионализм.\n",
       "10. Отрицательный отзыв о конкретном воспитателе и сомнения в профессионализме.\n",
       "11. Положительный опыт посещения детского сада, адаптация ребёнка и разнообразие занятий.\n",
       "12. Благодарность за уютную атмосферу и разнообразные занятия.\n",
       "13. Положительный отзыв об индивидуальном подходе и разнообразии занятий.\n",
       "14. Удовлетворённость качеством обучения и атмосферой в детском саду.\n",
       "15. Благодарность за помощь в адаптации и развитии ребёнка.\n",
       "16. Положительный отзыв о педагогических подходах и атмосфере.\n",
       "17. Удовлетворённость организацией и творческим подходом воспитателей.\n",
       "18. Благодарность за развитие социальных навыков и обучение ребёнка.\n",
       "19. Положительный отзыв о разнообразии занятий и подготовке к школе.</p>\n",
       "  <p><strong>Предсказание модели (pred_relevance):</strong><br>1.0</p>\n",
       "  \n",
       "        <details style=\"margin-top:10px;\">\n",
       "            <summary style=\"cursor:pointer;\"><strong>🧠 Agent log (раскрыть)</strong></summary>\n",
       "            <pre style=\"white-space:pre-wrap; background:#eee; padding:10px; border-radius:6px;\">\n",
       "{'need_search_decision': 'NO', 'search_prompt': '# llm_relevance_agent/agent/prompts/need_search_v2.txt\\n# Убран пункт ### Когда поиск не нужен (NO):\\\\n1. Рубрика явно соответствует или не соответствует запросу.\\n\\nОпредели, нужно ли искать дополнительную информацию об организации, чтобы достоверно определить её релевантность пользовательскому запросу.\\n\\nОтвет строго одним из двух вариантов:\\n- \"YES\" — если информации недостаточно для достоверной оценки.\\n- \"NO\" — если можно точно определить релевантность уже по имеющимся данным.\\n\\n### Когда нужен поиск (YES):\\n1. В запросе есть уточнения (время работы, конкретные услуги, цены, бренды).\\n2. Рубрика слишком общая, а запрос специфичный.\\n3. Неясно, предоставляет ли организация нужную услугу.\\n4. В запросе есть временные или географические ограничения.\\n\\n\\n### Когда поиск не нужен (NO):\\n1. Отзывы подтверждают ключевые требования из запроса — нужные услуги, условия или особенности.\\n2. Запрос общий, а информации достаточно.\\n\\n### Примеры:\\nПользовательский запрос: Шиномонтаж 24\\nОрганизация:\\nНазвание: Шиномонтаж\\nАдрес: Республика Калмыкия, Элиста, улица В.И. Ленина, 7, стр. 8А\\nРубрика: Шиномонтаж\\nОтзывы: Организация занимается шиномонтажом. Отзывы положительные: хвалят высокое качество работы.\\nОтвет: YES\\n\\nПользовательский запрос: где дешево поесть в санкт-петербурге 2017\\nОрганизация:\\nНазвание: Буше; Bushe; БУШЕ пекарня-кондитерская ООО\\nАдрес: Санкт-Петербург, Малая Морская улица, 7\\nРубрика: Пекарня\\nОтзывы: Организация занимается выпечкой и продажей кондитерских изделий, а также предлагает завтраки и другие блюда. Отзывы преимущественно положительные: хвалят вкус еды и напитков, атмосферу и обслуживание, но критикуют высокие цены и иногда медленную работу персонала. | 1. Критикуют состояние туалета. | 2. Отмечают, что кухня не работала. | 3. Хвалят заведение в общем. | 4. Считают цены высокими. | 5. Восхищаются круасанами.\\nОтвет: NO\\n\\n### Теперь оцени следующий пример:\\nПользовательский запрос: \"детский центр воронеж\"\\nОрганизация:\\nНазвание: Ваmbini-Club; Баmбinic-Club; Bambini-Club; Бамбини клуб; Bambini Club; Bambini-club\\nАдрес: Воронеж, Московский проспект, 97А, корп. 1\\nРубрика: Детский сад , ясли\\nОтзывы: Организация занимается воспитанием и развитием детей, предоставляя разнообразные занятия и индивидуальный подход. Тональность отзывов преимущественно положительная, но есть и отрицательные. Хвалят: профессионализм сотрудников, атмосферу в саду, разнообразие занятий. Критикуют: качество питания, поведение отдельных воспитателей.\\n\\n1. Хвалят профессиональный подход и чуткое отношение к детям.\\n2. Отмечают высокий уровень профессионализма и интерьера детского сада.\\n3. Критикуют безответственное отношение к детям и накрученные отзывы.\\n4. Недовольство однообразным питанием и обманом руководства.\\n5. Положительный опыт адаптации ребёнка и интересные программы в детском саду.\\n6. Воспитатели внимательны и занимаются с детьми, вкусно кормят.\\n7. Благодарность за тёплую атмосферу и профессионализм.\\n8. Положительный отзыв о работе детского сада и готовности ребёнка к школе.\\n9. Удовлетворённость работой детского сада, благодарность за профессионализм.\\n10. Отрицательный отзыв о конкретном воспитателе и сомнения в профессионализме.\\n11. Положительный опыт посещения детского сада, адаптация ребёнка и разнообразие занятий.\\n12. Благодарность за уютную атмосферу и разнообразные занятия.\\n13. Положительный отзыв об индивидуальном подходе и разнообразии занятий.\\n14. Удовлетворённость качеством обучения и атмосферой в детском саду.\\n15. Благодарность за помощь в адаптации и развитии ребёнка.\\n16. Положительный отзыв о педагогических подходах и атмосфере.\\n17. Удовлетворённость организацией и творческим подходом воспитателей.\\n18. Благодарность за развитие социальных навыков и обучение ребёнка.\\n19. Положительный отзыв о разнообразии занятий и подготовке к школе.\\nОтвет:', 'classification_prompt': '# llm_relevance_agent/agent/prompts/classify_v2.txt\\n# Пункт 4 изменен\\n\\nТы — интеллектуальная система, которая определяет, насколько организация соответствует пользовательскому запросу.\\nОтветь строго одним из двух вариантов: \"RELEVANT_PLUS\" или \"IRRELEVANT\".\\n\\n### Правила оценки:\\n1. RELEVANT_PLUS — если организация явно удовлетворяет запросу.  \\n2. IRRELEVANT — если соответствия нет.  \\n3. В первую очередь анализируй пользовательский запрос и поля \"Рубрика\" и \"Адрес\".  \\n4. Используй отзывы и дополнительную информацию (поле \"Дополнительная информация\"), особенно если они содержат уникальные признаки, указанные в запросе.\\n5. Если в запросе указана **часть адреса** (например, улица, район или город), обязательно сверяй её с адресом организации. Несовпадение = IRRELEVANT.   \\n6. Если в запросе указан **конкретный номер отделения, филиала, школы, офиса и т.п.**, обязательно сверяй его с номером в названии организации. Несовпадение = IRRELEVANT.\\n7. Если в запросе указана **конкретная станция метро**, считай организацию RELEVANT_PLUS только если в адресе или описании явно указана та же станция метро или подтверждена близость к ней. При несоответствии — IRRELEVANT.\\n\\n### Примеры:\\nПользовательский запрос: шугаринг Красноярск  \\nОрганизация:  \\nНазвание: Студия красоты Дарлинг  \\nАдрес: Красноярск, микрорайон Взлётка, улица Весны, 3  \\nРубрика: Салон красоты  \\nОтзывы: Студия красоты «Дарлинг» предоставляет бьюти-услуги и продаёт парфюмерию и косметику.  \\nДополнительная информация: Предоставляет услуги шугаринга, депиляции, маникюра. Работает ежедневно с 9:00 до 21:00. Ответ: RELEVANT_PLUS\\n\\nПользовательский запрос: Шашлычная  \\nОрганизация:  \\nНазвание: Яндекс Лавка  \\nАдрес: Москва, улица Адмирала Макарова, 23, корп. 2  \\nРубрика: Доставка продуктов  \\nОтзывы: Организация занимается доставкой продуктов и еды, работает в формате даркстора.  \\nДополнительная информация: Сервис доставки продуктов на дом, работает через мобильное приложение.  \\nОтвет: IRRELEVANT\\n\\nПользовательский запрос: Отдел полиции № 7 \\nОрганизация:  \\nНазвание: Отдел полиции № 6 УМВД России по городу Уфе  \\nАдрес: Республика Башкортостан, Уфа, улица Лесотехникума, 92/2  \\nРубрика: Отделение полиции \\nОтзывы: Организация занимается обеспечением правопорядка и оказанием соответствующих услуг населению. Тональность отзывов смешанная: есть как положительные, так и отрицательные.  \\nДополнительная информация:   \\nОтвет: IRRELEVANT\\n\\n### Теперь оцени следующий пример:\\nПользовательский запрос: \"детский центр воронеж\"  \\nОрганизация:  \\nНазвание: Ваmbini-Club; Баmбinic-Club; Bambini-Club; Бамбини клуб; Bambini Club; Bambini-club  \\nАдрес: Воронеж, Московский проспект, 97А, корп. 1  \\nРубрика: Детский сад , ясли  \\nОтзывы: Организация занимается воспитанием и развитием детей, предоставляя разнообразные занятия и индивидуальный подход. Тональность отзывов преимущественно положительная, но есть и отрицательные. Хвалят: профессионализм сотрудников, атмосферу в саду, разнообразие занятий. Критикуют: качество питания, поведение отдельных воспитателей.\\n\\n1. Хвалят профессиональный подход и чуткое отношение к детям.\\n2. Отмечают высокий уровень профессионализма и интерьера детского сада.\\n3. Критикуют безответственное отношение к детям и накрученные отзывы.\\n4. Недовольство однообразным питанием и обманом руководства.\\n5. Положительный опыт адаптации ребёнка и интересные программы в детском саду.\\n6. Воспитатели внимательны и занимаются с детьми, вкусно кормят.\\n7. Благодарность за тёплую атмосферу и профессионализм.\\n8. Положительный отзыв о работе детского сада и готовности ребёнка к школе.\\n9. Удовлетворённость работой детского сада, благодарность за профессионализм.\\n10. Отрицательный отзыв о конкретном воспитателе и сомнения в профессионализме.\\n11. Положительный опыт посещения детского сада, адаптация ребёнка и разнообразие занятий.\\n12. Благодарность за уютную атмосферу и разнообразные занятия.\\n13. Положительный отзыв об индивидуальном подходе и разнообразии занятий.\\n14. Удовлетворённость качеством обучения и атмосферой в детском саду.\\n15. Благодарность за помощь в адаптации и развитии ребёнка.\\n16. Положительный отзыв о педагогических подходах и атмосфере.\\n17. Удовлетворённость организацией и творческим подходом воспитателей.\\n18. Благодарность за развитие социальных навыков и обучение ребёнка.\\n19. Положительный отзыв о разнообразии занятий и подготовке к школе.  \\nДополнительная информация: —  \\nОтвет:\"\"\"\\n\\n\\n', 'classification_response': 'RELEVANT_PLUS'}\n",
       "            </pre>\n",
       "        </details>\n",
       "        \n",
       "</div>\n"
      ],
      "text/plain": [
       "<IPython.core.display.HTML object>"
      ]
     },
     "metadata": {},
     "output_type": "display_data"
    }
   ],
   "source": [
    "inspect_row(agent3_consensus_error, idx=8)"
   ]
  },
  {
   "cell_type": "markdown",
   "id": "36c45813-3e9b-4b47-a63b-eb4db32123a7",
   "metadata": {},
   "source": [
    "Высокие цены точно отмечены в отзыве - модель не игнорирует"
   ]
  },
  {
   "cell_type": "code",
   "execution_count": 41,
   "id": "32938a9f-d80f-4aec-9bb3-d0cd5ae87b89",
   "metadata": {},
   "outputs": [],
   "source": [
    "assessors_errors_consensus.append(int(agent3_consensus_error.loc[9]['permalink']))"
   ]
  },
  {
   "cell_type": "code",
   "execution_count": 42,
   "id": "61219785-8e0b-4aef-a983-9785f4a8a7d8",
   "metadata": {},
   "outputs": [
    {
     "data": {
      "text/html": [
       "\n",
       "<div style=\"border:1px solid #ccc; padding:16px; border-radius:10px;\n",
       "            font-family:sans-serif; background-color:#f9f9f9; margin-bottom:20px\">\n",
       "  <h2>📌 Index: 9</h2>\n",
       "  <p><strong>Запрос:</strong><br>где дешево поесть в санкт-петербурге 2017</p>\n",
       "  <p><strong>Адрес:</strong><br>Санкт-Петербург, Малая Морская улица, 7</p>\n",
       "  <p><strong>Название:</strong><br>Буше; Bushe; БУШЕ пекарня-кондитерская ООО; Буше пекарня-кондитерская; Bush</p>\n",
       "  <p><strong>ID Организации:</strong><br>1023261511</p>\n",
       "  <p><strong>Рубрика:</strong><br>Пекарня</p>\n",
       "  <p><strong>Описание:</strong><br>Пекарня «Буше» предлагает широкий ассортимент выпечки, десертов, сэндвичей и горячих блюд, а также различные виды кофе и чая | пирожное Баваруа | пирожное Мильфёй | торт Ле Сантье | круассан буше | сэндвич с лососем | омлет с форелью | сырники с ягодами | бриошь с беконом | суп сливочный с лососем | паста Казаречче с креветками | хлеб ржаной | кофе американо | чай Матча Латте</p>\n",
       "  <p><strong>Истинная релевантность:</strong> 1.0</p>\n",
       "  <p><strong>Отзывы:</strong><br>Организация занимается выпечкой и продажей кондитерских изделий, а также предлагает завтраки и другие блюда. Отзывы преимущественно положительные: хвалят вкус еды и напитков, атмосферу и обслуживание, но критикуют высокие цены и иногда медленную работу персонала. | 1. Критикуют состояние туалета. | 2. Отмечают, что кухня не работала. | 3. Хвалят заведение в общем. | 4. Считают цены высокими. | 5. Восхищаются круасанами. | 6. Говорят, что всё вкусно. | 7. Выражают общее недовольство. | 8. Критикуют грязь и холодный кофе. | 9. Отмечают вкусные пирожные. | 10. Рекомендуют кафе. | 11. Подчёркивают вкусную еду и высокие цены. | 12. Отмечают пыль и чистоту. | 13. Хвалят завтраки. | 14. Высоко оценивают капучино. | 15. Рекомендуют кофе. | 16. Считают соотношение цены и качества соответствующим. | 17. Подчёркивают вкусный завтрак. | 18. Отмечают работу персонала и близость к транспорту. | 19. Отмечают высокие цены, но подтверждают вкус еды. | 20. Выражают общее удовлетворение.</p>\n",
       "  <p><strong>Предсказание модели (pred_relevance):</strong><br>0.0</p>\n",
       "  \n",
       "        <details style=\"margin-top:10px;\">\n",
       "            <summary style=\"cursor:pointer;\"><strong>🧠 Agent log (раскрыть)</strong></summary>\n",
       "            <pre style=\"white-space:pre-wrap; background:#eee; padding:10px; border-radius:6px;\">\n",
       "{'need_search_decision': 'NO', 'search_prompt': '# llm_relevance_agent/agent/prompts/need_search_v2.txt\\n# Убран пункт ### Когда поиск не нужен (NO):\\\\n1. Рубрика явно соответствует или не соответствует запросу.\\n\\nОпредели, нужно ли искать дополнительную информацию об организации, чтобы достоверно определить её релевантность пользовательскому запросу.\\n\\nОтвет строго одним из двух вариантов:\\n- \"YES\" — если информации недостаточно для достоверной оценки.\\n- \"NO\" — если можно точно определить релевантность уже по имеющимся данным.\\n\\n### Когда нужен поиск (YES):\\n1. В запросе есть уточнения (время работы, конкретные услуги, цены, бренды).\\n2. Рубрика слишком общая, а запрос специфичный.\\n3. Неясно, предоставляет ли организация нужную услугу.\\n4. В запросе есть временные или географические ограничения.\\n\\n\\n### Когда поиск не нужен (NO):\\n1. Отзывы подтверждают ключевые требования из запроса — нужные услуги, условия или особенности.\\n2. Запрос общий, а информации достаточно.\\n\\n### Примеры:\\nПользовательский запрос: Шиномонтаж 24\\nОрганизация:\\nНазвание: Шиномонтаж\\nАдрес: Республика Калмыкия, Элиста, улица В.И. Ленина, 7, стр. 8А\\nРубрика: Шиномонтаж\\nОтзывы: Организация занимается шиномонтажом. Отзывы положительные: хвалят высокое качество работы.\\nОтвет: YES\\n\\nПользовательский запрос: где дешево поесть в санкт-петербурге 2017\\nОрганизация:\\nНазвание: Буше; Bushe; БУШЕ пекарня-кондитерская ООО\\nАдрес: Санкт-Петербург, Малая Морская улица, 7\\nРубрика: Пекарня\\nОтзывы: Организация занимается выпечкой и продажей кондитерских изделий, а также предлагает завтраки и другие блюда. Отзывы преимущественно положительные: хвалят вкус еды и напитков, атмосферу и обслуживание, но критикуют высокие цены и иногда медленную работу персонала. | 1. Критикуют состояние туалета. | 2. Отмечают, что кухня не работала. | 3. Хвалят заведение в общем. | 4. Считают цены высокими. | 5. Восхищаются круасанами.\\nОтвет: NO\\n\\n### Теперь оцени следующий пример:\\nПользовательский запрос: \"где дешево поесть в санкт-петербурге 2017\"\\nОрганизация:\\nНазвание: Буше; Bushe; БУШЕ пекарня-кондитерская ООО; Буше пекарня-кондитерская; Bush\\nАдрес: Санкт-Петербург, Малая Морская улица, 7\\nРубрика: Пекарня\\nОтзывы: Организация занимается выпечкой и продажей кондитерских изделий, а также предлагает завтраки и другие блюда. Отзывы преимущественно положительные: хвалят вкус еды и напитков, атмосферу и обслуживание, но критикуют высокие цены и иногда медленную работу персонала. | 1. Критикуют состояние туалета. | 2. Отмечают, что кухня не работала. | 3. Хвалят заведение в общем. | 4. Считают цены высокими. | 5. Восхищаются круасанами. | 6. Говорят, что всё вкусно. | 7. Выражают общее недовольство. | 8. Критикуют грязь и холодный кофе. | 9. Отмечают вкусные пирожные. | 10. Рекомендуют кафе. | 11. Подчёркивают вкусную еду и высокие цены. | 12. Отмечают пыль и чистоту. | 13. Хвалят завтраки. | 14. Высоко оценивают капучино. | 15. Рекомендуют кофе. | 16. Считают соотношение цены и качества соответствующим. | 17. Подчёркивают вкусный завтрак. | 18. Отмечают работу персонала и близость к транспорту. | 19. Отмечают высокие цены, но подтверждают вкус еды. | 20. Выражают общее удовлетворение.\\nОтвет:', 'classification_prompt': '# llm_relevance_agent/agent/prompts/classify_v2.txt\\n# Пункт 4 изменен\\n\\nТы — интеллектуальная система, которая определяет, насколько организация соответствует пользовательскому запросу.\\nОтветь строго одним из двух вариантов: \"RELEVANT_PLUS\" или \"IRRELEVANT\".\\n\\n### Правила оценки:\\n1. RELEVANT_PLUS — если организация явно удовлетворяет запросу.  \\n2. IRRELEVANT — если соответствия нет.  \\n3. В первую очередь анализируй пользовательский запрос и поля \"Рубрика\" и \"Адрес\".  \\n4. Используй отзывы и дополнительную информацию (поле \"Дополнительная информация\"), особенно если они содержат уникальные признаки, указанные в запросе.\\n5. Если в запросе указана **часть адреса** (например, улица, район или город), обязательно сверяй её с адресом организации. Несовпадение = IRRELEVANT.   \\n6. Если в запросе указан **конкретный номер отделения, филиала, школы, офиса и т.п.**, обязательно сверяй его с номером в названии организации. Несовпадение = IRRELEVANT.\\n7. Если в запросе указана **конкретная станция метро**, считай организацию RELEVANT_PLUS только если в адресе или описании явно указана та же станция метро или подтверждена близость к ней. При несоответствии — IRRELEVANT.\\n\\n### Примеры:\\nПользовательский запрос: шугаринг Красноярск  \\nОрганизация:  \\nНазвание: Студия красоты Дарлинг  \\nАдрес: Красноярск, микрорайон Взлётка, улица Весны, 3  \\nРубрика: Салон красоты  \\nОтзывы: Студия красоты «Дарлинг» предоставляет бьюти-услуги и продаёт парфюмерию и косметику.  \\nДополнительная информация: Предоставляет услуги шугаринга, депиляции, маникюра. Работает ежедневно с 9:00 до 21:00. Ответ: RELEVANT_PLUS\\n\\nПользовательский запрос: Шашлычная  \\nОрганизация:  \\nНазвание: Яндекс Лавка  \\nАдрес: Москва, улица Адмирала Макарова, 23, корп. 2  \\nРубрика: Доставка продуктов  \\nОтзывы: Организация занимается доставкой продуктов и еды, работает в формате даркстора.  \\nДополнительная информация: Сервис доставки продуктов на дом, работает через мобильное приложение.  \\nОтвет: IRRELEVANT\\n\\nПользовательский запрос: Отдел полиции № 7 \\nОрганизация:  \\nНазвание: Отдел полиции № 6 УМВД России по городу Уфе  \\nАдрес: Республика Башкортостан, Уфа, улица Лесотехникума, 92/2  \\nРубрика: Отделение полиции \\nОтзывы: Организация занимается обеспечением правопорядка и оказанием соответствующих услуг населению. Тональность отзывов смешанная: есть как положительные, так и отрицательные.  \\nДополнительная информация:   \\nОтвет: IRRELEVANT\\n\\n### Теперь оцени следующий пример:\\nПользовательский запрос: \"где дешево поесть в санкт-петербурге 2017\"  \\nОрганизация:  \\nНазвание: Буше; Bushe; БУШЕ пекарня-кондитерская ООО; Буше пекарня-кондитерская; Bush  \\nАдрес: Санкт-Петербург, Малая Морская улица, 7  \\nРубрика: Пекарня  \\nОтзывы: Организация занимается выпечкой и продажей кондитерских изделий, а также предлагает завтраки и другие блюда. Отзывы преимущественно положительные: хвалят вкус еды и напитков, атмосферу и обслуживание, но критикуют высокие цены и иногда медленную работу персонала. | 1. Критикуют состояние туалета. | 2. Отмечают, что кухня не работала. | 3. Хвалят заведение в общем. | 4. Считают цены высокими. | 5. Восхищаются круасанами. | 6. Говорят, что всё вкусно. | 7. Выражают общее недовольство. | 8. Критикуют грязь и холодный кофе. | 9. Отмечают вкусные пирожные. | 10. Рекомендуют кафе. | 11. Подчёркивают вкусную еду и высокие цены. | 12. Отмечают пыль и чистоту. | 13. Хвалят завтраки. | 14. Высоко оценивают капучино. | 15. Рекомендуют кофе. | 16. Считают соотношение цены и качества соответствующим. | 17. Подчёркивают вкусный завтрак. | 18. Отмечают работу персонала и близость к транспорту. | 19. Отмечают высокие цены, но подтверждают вкус еды. | 20. Выражают общее удовлетворение.  \\nДополнительная информация: —  \\nОтвет:\"\"\"\\n\\n\\n', 'classification_response': 'IRRELEVANT'}\n",
       "            </pre>\n",
       "        </details>\n",
       "        \n",
       "</div>\n"
      ],
      "text/plain": [
       "<IPython.core.display.HTML object>"
      ]
     },
     "metadata": {},
     "output_type": "display_data"
    }
   ],
   "source": [
    "inspect_row(agent3_consensus_error, idx=9)"
   ]
  },
  {
   "cell_type": "markdown",
   "id": "441c69b0-779b-4e54-b2cf-cbc66c06306e",
   "metadata": {},
   "source": [
    "### Модель упустила важный модификатор в запросе"
   ]
  },
  {
   "cell_type": "markdown",
   "id": "fe84a246-3569-4467-a508-1063b179e7a3",
   "metadata": {},
   "source": [
    "Как в случае с \"обучением женских стрижек\" тут модель проигнорировала модификатор \"выкуп\""
   ]
  },
  {
   "cell_type": "code",
   "execution_count": 43,
   "id": "30ec02e2-80b3-4c45-afb0-cd93c3208de1",
   "metadata": {},
   "outputs": [],
   "source": [
    "model_consensus_errors.append(int(agent3_consensus_error.loc[10]['permalink']))"
   ]
  },
  {
   "cell_type": "code",
   "execution_count": 44,
   "id": "ec3beb7b-2872-41e5-b154-ba03016d45eb",
   "metadata": {},
   "outputs": [
    {
     "data": {
      "text/html": [
       "\n",
       "<div style=\"border:1px solid #ccc; padding:16px; border-radius:10px;\n",
       "            font-family:sans-serif; background-color:#f9f9f9; margin-bottom:20px\">\n",
       "  <h2>📌 Index: 10</h2>\n",
       "  <p><strong>Запрос:</strong><br>выкуп элитных швейцарских часов</p>\n",
       "  <p><strong>Адрес:</strong><br>Санкт-Петербург, Литейный проспект, 27</p>\n",
       "  <p><strong>Название:</strong><br>Status; Магазин Status; Магазин Статус; Сервисный центр Статус; Статус; Статус сервисный центр; Швейцарские Часы Status на Литейном; Status Swiss Watch on Liteiny Avenue</p>\n",
       "  <p><strong>ID Организации:</strong><br>117427119042</p>\n",
       "  <p><strong>Рубрика:</strong><br>Магазин часов</p>\n",
       "  <p><strong>Описание:</strong><br>Магазин часов Status предлагает широкий выбор браслетов и ремешков для различных брендов | браслеты Lotus | браслеты Paul Hewitt | ремешки Breitling | ремешки Tissot | ремешки Hirsch | ремешки Maurice Lacroix | ремешки Frederique Constant | ремешки RADO | ремешки Tag Heuer | ремешки Balmain.</p>\n",
       "  <p><strong>Истинная релевантность:</strong> 0.0</p>\n",
       "  <p><strong>Отзывы:</strong><br>Организация занимается продажей и ремонтом часов, имеет широкий ассортимент брендов и аксессуаров. Отзывы в основном положительные: хвалят профессионализм персонала, качество обслуживания и ремонта, удобство сервиса. Критикуют высокие цены на некоторые услуги и отдельные случаи некачественного обслуживания. | 1. Пользователь доволен услугами магазина | 2. Хвалят профессионализм сотрудников | 3. Пользователь отмечает отличное обслуживание | 4. Пользователь удовлетворён посещением магазина | 5. Критикуют подход к клиенту и сервис | 6. Пользователь выражает общее удовлетворение | 7. Отмечают хороший выбор, но поведение охранника вызывает вопросы | 8. Хвалят уровень замены батарейки | 9. Пользователь рекомендует магазин | 10. Отмечают наличие аксессуаров премиум-класса | 11. Пользователь выражает удовлетворение | 12. Критикуют высокую цену на ремонт | 13. Хвалят оперативность и качество сервиса | 14. Рекомендуют магазин для замены ремешка и батарейки | 15. Критикуют агрессивное поведение сотрудника | 16. Отмечают соответствие цены и качества | 17. Благодарность персоналу за помощь в выборе часов | 18. Рекомендуют удобный магазин с сервисом | 19. Критикуют поведение продавца | 20. Пользователь делится положительным опытом покупки | 21. Хвалят грамотность продавцов и помощь в выборе | 22. Пользователь благодарен консультанту за помощь | 23. Рекомендация одного из лучших салонов для премиальных часов | 24. Критикуют отсутствие запчастей для Swatch | 25. Пользователь уверен в качестве магазина | 26. Хвалят консультацию и рекомендуют сервисный центр | 27. Отмечают уменьшение выбора и повышение цен | 28. Пользователь доволен соотношением цены и качества</p>\n",
       "  <p><strong>Предсказание модели (pred_relevance):</strong><br>1.0</p>\n",
       "  \n",
       "        <details style=\"margin-top:10px;\">\n",
       "            <summary style=\"cursor:pointer;\"><strong>🧠 Agent log (раскрыть)</strong></summary>\n",
       "            <pre style=\"white-space:pre-wrap; background:#eee; padding:10px; border-radius:6px;\">\n",
       "{'need_search_decision': 'YES', 'search_prompt': '# llm_relevance_agent/agent/prompts/need_search_v2.txt\\n# Убран пункт ### Когда поиск не нужен (NO):\\\\n1. Рубрика явно соответствует или не соответствует запросу.\\n\\nОпредели, нужно ли искать дополнительную информацию об организации, чтобы достоверно определить её релевантность пользовательскому запросу.\\n\\nОтвет строго одним из двух вариантов:\\n- \"YES\" — если информации недостаточно для достоверной оценки.\\n- \"NO\" — если можно точно определить релевантность уже по имеющимся данным.\\n\\n### Когда нужен поиск (YES):\\n1. В запросе есть уточнения (время работы, конкретные услуги, цены, бренды).\\n2. Рубрика слишком общая, а запрос специфичный.\\n3. Неясно, предоставляет ли организация нужную услугу.\\n4. В запросе есть временные или географические ограничения.\\n\\n\\n### Когда поиск не нужен (NO):\\n1. Отзывы подтверждают ключевые требования из запроса — нужные услуги, условия или особенности.\\n2. Запрос общий, а информации достаточно.\\n\\n### Примеры:\\nПользовательский запрос: Шиномонтаж 24\\nОрганизация:\\nНазвание: Шиномонтаж\\nАдрес: Республика Калмыкия, Элиста, улица В.И. Ленина, 7, стр. 8А\\nРубрика: Шиномонтаж\\nОтзывы: Организация занимается шиномонтажом. Отзывы положительные: хвалят высокое качество работы.\\nОтвет: YES\\n\\nПользовательский запрос: где дешево поесть в санкт-петербурге 2017\\nОрганизация:\\nНазвание: Буше; Bushe; БУШЕ пекарня-кондитерская ООО\\nАдрес: Санкт-Петербург, Малая Морская улица, 7\\nРубрика: Пекарня\\nОтзывы: Организация занимается выпечкой и продажей кондитерских изделий, а также предлагает завтраки и другие блюда. Отзывы преимущественно положительные: хвалят вкус еды и напитков, атмосферу и обслуживание, но критикуют высокие цены и иногда медленную работу персонала. | 1. Критикуют состояние туалета. | 2. Отмечают, что кухня не работала. | 3. Хвалят заведение в общем. | 4. Считают цены высокими. | 5. Восхищаются круасанами.\\nОтвет: NO\\n\\n### Теперь оцени следующий пример:\\nПользовательский запрос: \"выкуп элитных швейцарских часов\"\\nОрганизация:\\nНазвание: Status; Магазин Status; Магазин Статус; Сервисный центр Статус; Статус; Статус сервисный центр; Швейцарские Часы Status на Литейном; Status Swiss Watch on Liteiny Avenue\\nАдрес: Санкт-Петербург, Литейный проспект, 27\\nРубрика: Магазин часов\\nОтзывы: Организация занимается продажей и ремонтом часов, имеет широкий ассортимент брендов и аксессуаров. Отзывы в основном положительные: хвалят профессионализм персонала, качество обслуживания и ремонта, удобство сервиса. Критикуют высокие цены на некоторые услуги и отдельные случаи некачественного обслуживания. | 1. Пользователь доволен услугами магазина | 2. Хвалят профессионализм сотрудников | 3. Пользователь отмечает отличное обслуживание | 4. Пользователь удовлетворён посещением магазина | 5. Критикуют подход к клиенту и сервис | 6. Пользователь выражает общее удовлетворение | 7. Отмечают хороший выбор, но поведение охранника вызывает вопросы | 8. Хвалят уровень замены батарейки | 9. Пользователь рекомендует магазин | 10. Отмечают наличие аксессуаров премиум-класса | 11. Пользователь выражает удовлетворение | 12. Критикуют высокую цену на ремонт | 13. Хвалят оперативность и качество сервиса | 14. Рекомендуют магазин для замены ремешка и батарейки | 15. Критикуют агрессивное поведение сотрудника | 16. Отмечают соответствие цены и качества | 17. Благодарность персоналу за помощь в выборе часов | 18. Рекомендуют удобный магазин с сервисом | 19. Критикуют поведение продавца | 20. Пользователь делится положительным опытом покупки | 21. Хвалят грамотность продавцов и помощь в выборе | 22. Пользователь благодарен консультанту за помощь | 23. Рекомендация одного из лучших салонов для премиальных часов | 24. Критикуют отсутствие запчастей для Swatch | 25. Пользователь уверен в качестве магазина | 26. Хвалят консультацию и рекомендуют сервисный центр | 27. Отмечают уменьшение выбора и повышение цен | 28. Пользователь доволен соотношением цены и качества\\nОтвет:', 'search_query': 'Status Магазин часов Санкт-Петербург, Литейный проспект, 27 выкуп элитных швейцарских часов', 'search_results': 'Магазин часов Status по адресу Санкт-Петербург, Литейный проспект, 27, метро «Чернышевская», ☎️ +7 812 200 46 37. Читать 178 отзывов, смотреть 27 фото\\n\\nВ наших салонах представлены лучшие модели швейцарских часов. ЛИТЕЙНЫЙ ПР. Д.27 С 11:00 ДО 21:00 БЕЗ ПЕРЕРЫВА И ВЫХОДНЫХ. +7 (812) 200-46-37 · info@status-watch\\n\\nИнтернет-магазин швейцарских часов, бесплатная доставка по России. Продажа и сервисное обслуживание мужских и женских часов Breitling, TAG Heuer,', 'classification_prompt': '# llm_relevance_agent/agent/prompts/classify_v2.txt\\n# Пункт 4 изменен\\n\\nТы — интеллектуальная система, которая определяет, насколько организация соответствует пользовательскому запросу.\\nОтветь строго одним из двух вариантов: \"RELEVANT_PLUS\" или \"IRRELEVANT\".\\n\\n### Правила оценки:\\n1. RELEVANT_PLUS — если организация явно удовлетворяет запросу.  \\n2. IRRELEVANT — если соответствия нет.  \\n3. В первую очередь анализируй пользовательский запрос и поля \"Рубрика\" и \"Адрес\".  \\n4. Используй отзывы и дополнительную информацию (поле \"Дополнительная информация\"), особенно если они содержат уникальные признаки, указанные в запросе.\\n5. Если в запросе указана **часть адреса** (например, улица, район или город), обязательно сверяй её с адресом организации. Несовпадение = IRRELEVANT.   \\n6. Если в запросе указан **конкретный номер отделения, филиала, школы, офиса и т.п.**, обязательно сверяй его с номером в названии организации. Несовпадение = IRRELEVANT.\\n7. Если в запросе указана **конкретная станция метро**, считай организацию RELEVANT_PLUS только если в адресе или описании явно указана та же станция метро или подтверждена близость к ней. При несоответствии — IRRELEVANT.\\n\\n### Примеры:\\nПользовательский запрос: шугаринг Красноярск  \\nОрганизация:  \\nНазвание: Студия красоты Дарлинг  \\nАдрес: Красноярск, микрорайон Взлётка, улица Весны, 3  \\nРубрика: Салон красоты  \\nОтзывы: Студия красоты «Дарлинг» предоставляет бьюти-услуги и продаёт парфюмерию и косметику.  \\nДополнительная информация: Предоставляет услуги шугаринга, депиляции, маникюра. Работает ежедневно с 9:00 до 21:00. Ответ: RELEVANT_PLUS\\n\\nПользовательский запрос: Шашлычная  \\nОрганизация:  \\nНазвание: Яндекс Лавка  \\nАдрес: Москва, улица Адмирала Макарова, 23, корп. 2  \\nРубрика: Доставка продуктов  \\nОтзывы: Организация занимается доставкой продуктов и еды, работает в формате даркстора.  \\nДополнительная информация: Сервис доставки продуктов на дом, работает через мобильное приложение.  \\nОтвет: IRRELEVANT\\n\\nПользовательский запрос: Отдел полиции № 7 \\nОрганизация:  \\nНазвание: Отдел полиции № 6 УМВД России по городу Уфе  \\nАдрес: Республика Башкортостан, Уфа, улица Лесотехникума, 92/2  \\nРубрика: Отделение полиции \\nОтзывы: Организация занимается обеспечением правопорядка и оказанием соответствующих услуг населению. Тональность отзывов смешанная: есть как положительные, так и отрицательные.  \\nДополнительная информация:   \\nОтвет: IRRELEVANT\\n\\n### Теперь оцени следующий пример:\\nПользовательский запрос: \"выкуп элитных швейцарских часов\"  \\nОрганизация:  \\nНазвание: Status; Магазин Status; Магазин Статус; Сервисный центр Статус; Статус; Статус сервисный центр; Швейцарские Часы Status на Литейном; Status Swiss Watch on Liteiny Avenue  \\nАдрес: Санкт-Петербург, Литейный проспект, 27  \\nРубрика: Магазин часов  \\nОтзывы: Организация занимается продажей и ремонтом часов, имеет широкий ассортимент брендов и аксессуаров. Отзывы в основном положительные: хвалят профессионализм персонала, качество обслуживания и ремонта, удобство сервиса. Критикуют высокие цены на некоторые услуги и отдельные случаи некачественного обслуживания. | 1. Пользователь доволен услугами магазина | 2. Хвалят профессионализм сотрудников | 3. Пользователь отмечает отличное обслуживание | 4. Пользователь удовлетворён посещением магазина | 5. Критикуют подход к клиенту и сервис | 6. Пользователь выражает общее удовлетворение | 7. Отмечают хороший выбор, но поведение охранника вызывает вопросы | 8. Хвалят уровень замены батарейки | 9. Пользователь рекомендует магазин | 10. Отмечают наличие аксессуаров премиум-класса | 11. Пользователь выражает удовлетворение | 12. Критикуют высокую цену на ремонт | 13. Хвалят оперативность и качество сервиса | 14. Рекомендуют магазин для замены ремешка и батарейки | 15. Критикуют агрессивное поведение сотрудника | 16. Отмечают соответствие цены и качества | 17. Благодарность персоналу за помощь в выборе часов | 18. Рекомендуют удобный магазин с сервисом | 19. Критикуют поведение продавца | 20. Пользователь делится положительным опытом покупки | 21. Хвалят грамотность продавцов и помощь в выборе | 22. Пользователь благодарен консультанту за помощь | 23. Рекомендация одного из лучших салонов для премиальных часов | 24. Критикуют отсутствие запчастей для Swatch | 25. Пользователь уверен в качестве магазина | 26. Хвалят консультацию и рекомендуют сервисный центр | 27. Отмечают уменьшение выбора и повышение цен | 28. Пользователь доволен соотношением цены и качества  \\nДополнительная информация: Магазин часов Status по адресу Санкт-Петербург, Литейный проспект, 27, метро «Чернышевская», ☎️ +7 812 200 46 37. Читать 178 отзывов, смотреть 27 фото\\n\\nВ наших салонах представлены лучшие модели швейцарских часов. ЛИТЕЙНЫЙ ПР. Д.27 С 11:00 ДО 21:00 БЕЗ ПЕРЕРЫВА И ВЫХОДНЫХ. +7 (812) 200-46-37 · info@status-watch\\n\\nИнтернет-магазин швейцарских часов, бесплатная доставка по России. Продажа и сервисное обслуживание мужских и женских часов Breitling, TAG Heuer,  \\nОтвет:\"\"\"\\n\\n\\n', 'classification_response': 'RELEVANT_PLUS'}\n",
       "            </pre>\n",
       "        </details>\n",
       "        \n",
       "</div>\n"
      ],
      "text/plain": [
       "<IPython.core.display.HTML object>"
      ]
     },
     "metadata": {},
     "output_type": "display_data"
    }
   ],
   "source": [
    "inspect_row(agent3_consensus_error, idx=10)"
   ]
  },
  {
   "cell_type": "markdown",
   "id": "96e16966-cedb-438e-bcd3-73b7c40ddaba",
   "metadata": {},
   "source": [
    "В поисковике есть указание на страны, а значит релевантность точно не нулевая... Запрос удовлетворяет организации при перепроверки"
   ]
  },
  {
   "cell_type": "code",
   "execution_count": 45,
   "id": "eec2e417-1441-4869-ba48-080cf9226fbc",
   "metadata": {},
   "outputs": [],
   "source": [
    "assessors_errors_consensus.append(int(agent3_consensus_error.loc[11]['permalink']))"
   ]
  },
  {
   "cell_type": "code",
   "execution_count": 46,
   "id": "f3b5b192-06aa-4841-98f4-c7f74e12fcc4",
   "metadata": {},
   "outputs": [
    {
     "data": {
      "text/html": [
       "\n",
       "<div style=\"border:1px solid #ccc; padding:16px; border-radius:10px;\n",
       "            font-family:sans-serif; background-color:#f9f9f9; margin-bottom:20px\">\n",
       "  <h2>📌 Index: 11</h2>\n",
       "  <p><strong>Запрос:</strong><br>купить тур в сочи с перелетом из москвы</p>\n",
       "  <p><strong>Адрес:</strong><br>Москва, Нижегородская улица, 2, корп. 1</p>\n",
       "  <p><strong>Название:</strong><br>Апельсин Тревел; Apelsin Travel; Apelsin.Travel; Турагентство Apelsin Travel</p>\n",
       "  <p><strong>ID Организации:</strong><br>1213121906</p>\n",
       "  <p><strong>Рубрика:</strong><br>Турагентство</p>\n",
       "  <p><strong>Описание:</strong><br>—</p>\n",
       "  <p><strong>Истинная релевантность:</strong> 0.0</p>\n",
       "  <p><strong>Отзывы:</strong><br>Организация занимается подбором и оформлением туров, включая покупку железнодорожных билетов. Отзывы в основном положительные: хвалят профессионализм сотрудников, индивидуальный подход и широкий выбор туров. Критикуют отсутствие сотрудников в офисе в рабочее время и случаи некорректного обслуживания. | 1. Хвалят вкусную еду | 2. Отмечают клиентоориентированность и профессионализм сотрудников | 3. Благодарность менеджеру Елене за надёжное сотрудничество | 4. Критикуют отсутствие информации по туру после оплаты, подозревают обман | 5. Благодарность за прекрасно организованный отпуск в Египте | 6. Благодарность Екатерине за рекомендации и хороший отдых в Таиланде | 7. Критикуют непонятные условия покупки тура на сайте | 8. Отмечают большой выбор горящих туров и приятные цены | 9. Благодарность за оперативную помощь в подборе тура | 10. Хвалят профессионализм и внимание сотрудников | 11. Отмечают квалифицированность сотрудников и готовность помочь | 12. Критикуют отсутствие сотрудников в офисе и хамство | 13. Благодарность Елене и Екатерине за удачный тур | 14. Хвалят подбор туров и оперативность | 15. Благодарность за профессиональную помощь и внимание | 16. Отмечают внимательность и профессионализм сотрудников | 17. Хвалят оперативное решение вопросов и индивидуальный подход | 18. Благодарность за идеальный подбор места отдыха в Египте | 19. Отмечают отличное оформление туров и сопровождение во время поездки | 20. Благодарность за помощь в подборе комбинированного тура | 21. Хвалят удобную систему оплаты | 22. Благодарность за подборку тура и сравнение с другим агентством | 23. Критикуют сотрудника Наталью за игнорирование | 24. Хвалят профессионализм Екатерины и Елены | 25. Благодарность за организацию отдыха в Дубае | 26. Хвалят оперативность и профессионализм Горюшковой Елены | 27. Благодарность за подбор тура в Шарм Эль Шейх | 28. Хвалят квалифицированных специалистов и рекомендуют агентство | 29. Благодарность персоналу за прекрасный отдых | 30. Хвалят удобное расположение и отзывчивый персонал | 31. Отмечают чёткость и качество услуг | 32. Благодарность за оперативный подбор тура в Турцию | 33. Хвалят помощь в выборе отеля и оформлении тура | 34. Рекомендация отеля и благодарность за помощь | 35. Хвалят оперативную помощь в подборе отелей | 36. Благодарность менеджеру Екатерине за помощь в подборе тура</p>\n",
       "  <p><strong>Предсказание модели (pred_relevance):</strong><br>1.0</p>\n",
       "  \n",
       "        <details style=\"margin-top:10px;\">\n",
       "            <summary style=\"cursor:pointer;\"><strong>🧠 Agent log (раскрыть)</strong></summary>\n",
       "            <pre style=\"white-space:pre-wrap; background:#eee; padding:10px; border-radius:6px;\">\n",
       "{'need_search_decision': 'YES', 'search_prompt': '# llm_relevance_agent/agent/prompts/need_search_v2.txt\\n# Убран пункт ### Когда поиск не нужен (NO):\\\\n1. Рубрика явно соответствует или не соответствует запросу.\\n\\nОпредели, нужно ли искать дополнительную информацию об организации, чтобы достоверно определить её релевантность пользовательскому запросу.\\n\\nОтвет строго одним из двух вариантов:\\n- \"YES\" — если информации недостаточно для достоверной оценки.\\n- \"NO\" — если можно точно определить релевантность уже по имеющимся данным.\\n\\n### Когда нужен поиск (YES):\\n1. В запросе есть уточнения (время работы, конкретные услуги, цены, бренды).\\n2. Рубрика слишком общая, а запрос специфичный.\\n3. Неясно, предоставляет ли организация нужную услугу.\\n4. В запросе есть временные или географические ограничения.\\n\\n\\n### Когда поиск не нужен (NO):\\n1. Отзывы подтверждают ключевые требования из запроса — нужные услуги, условия или особенности.\\n2. Запрос общий, а информации достаточно.\\n\\n### Примеры:\\nПользовательский запрос: Шиномонтаж 24\\nОрганизация:\\nНазвание: Шиномонтаж\\nАдрес: Республика Калмыкия, Элиста, улица В.И. Ленина, 7, стр. 8А\\nРубрика: Шиномонтаж\\nОтзывы: Организация занимается шиномонтажом. Отзывы положительные: хвалят высокое качество работы.\\nОтвет: YES\\n\\nПользовательский запрос: где дешево поесть в санкт-петербурге 2017\\nОрганизация:\\nНазвание: Буше; Bushe; БУШЕ пекарня-кондитерская ООО\\nАдрес: Санкт-Петербург, Малая Морская улица, 7\\nРубрика: Пекарня\\nОтзывы: Организация занимается выпечкой и продажей кондитерских изделий, а также предлагает завтраки и другие блюда. Отзывы преимущественно положительные: хвалят вкус еды и напитков, атмосферу и обслуживание, но критикуют высокие цены и иногда медленную работу персонала. | 1. Критикуют состояние туалета. | 2. Отмечают, что кухня не работала. | 3. Хвалят заведение в общем. | 4. Считают цены высокими. | 5. Восхищаются круасанами.\\nОтвет: NO\\n\\n### Теперь оцени следующий пример:\\nПользовательский запрос: \"купить тур в сочи с перелетом из москвы\"\\nОрганизация:\\nНазвание: Апельсин Тревел; Apelsin Travel; Apelsin.Travel; Турагентство Apelsin Travel\\nАдрес: Москва, Нижегородская улица, 2, корп. 1\\nРубрика: Турагентство\\nОтзывы: Организация занимается подбором и оформлением туров, включая покупку железнодорожных билетов. Отзывы в основном положительные: хвалят профессионализм сотрудников, индивидуальный подход и широкий выбор туров. Критикуют отсутствие сотрудников в офисе в рабочее время и случаи некорректного обслуживания. | 1. Хвалят вкусную еду | 2. Отмечают клиентоориентированность и профессионализм сотрудников | 3. Благодарность менеджеру Елене за надёжное сотрудничество | 4. Критикуют отсутствие информации по туру после оплаты, подозревают обман | 5. Благодарность за прекрасно организованный отпуск в Египте | 6. Благодарность Екатерине за рекомендации и хороший отдых в Таиланде | 7. Критикуют непонятные условия покупки тура на сайте | 8. Отмечают большой выбор горящих туров и приятные цены | 9. Благодарность за оперативную помощь в подборе тура | 10. Хвалят профессионализм и внимание сотрудников | 11. Отмечают квалифицированность сотрудников и готовность помочь | 12. Критикуют отсутствие сотрудников в офисе и хамство | 13. Благодарность Елене и Екатерине за удачный тур | 14. Хвалят подбор туров и оперативность | 15. Благодарность за профессиональную помощь и внимание | 16. Отмечают внимательность и профессионализм сотрудников | 17. Хвалят оперативное решение вопросов и индивидуальный подход | 18. Благодарность за идеальный подбор места отдыха в Египте | 19. Отмечают отличное оформление туров и сопровождение во время поездки | 20. Благодарность за помощь в подборе комбинированного тура | 21. Хвалят удобную систему оплаты | 22. Благодарность за подборку тура и сравнение с другим агентством | 23. Критикуют сотрудника Наталью за игнорирование | 24. Хвалят профессионализм Екатерины и Елены | 25. Благодарность за организацию отдыха в Дубае | 26. Хвалят оперативность и профессионализм Горюшковой Елены | 27. Благодарность за подбор тура в Шарм Эль Шейх | 28. Хвалят квалифицированных специалистов и рекомендуют агентство | 29. Благодарность персоналу за прекрасный отдых | 30. Хвалят удобное расположение и отзывчивый персонал | 31. Отмечают чёткость и качество услуг | 32. Благодарность за оперативный подбор тура в Турцию | 33. Хвалят помощь в выборе отеля и оформлении тура | 34. Рекомендация отеля и благодарность за помощь | 35. Хвалят оперативную помощь в подборе отелей | 36. Благодарность менеджеру Екатерине за помощь в подборе тура\\nОтвет:', 'search_query': 'Апельсин Тревел Турагентство Москва, Нижегородская улица, 2, корп. 1 купить тур в сочи с перелетом из москвы', 'search_results': 'Турагентство «Апельсин Тревел» — «Хорошее место» по оценкам пользователей — по адресу Москва, Нижегородская улица, 2, корп. 1, метро «Пролетарская», ☎️\\n\\nПоиск туров Горящие туры Страны и отели Круизы Поддержка туристов Где купить? Отзывы Вопросы и ответы Блог Новости. О нас. О нас Сотрудники Реквизиты\\n\\nСайт Агента является информационной посреднической площадкой и за информацию и фотографические изображения размещенную туроператорами на страницах сайта, так же', 'classification_prompt': '# llm_relevance_agent/agent/prompts/classify_v2.txt\\n# Пункт 4 изменен\\n\\nТы — интеллектуальная система, которая определяет, насколько организация соответствует пользовательскому запросу.\\nОтветь строго одним из двух вариантов: \"RELEVANT_PLUS\" или \"IRRELEVANT\".\\n\\n### Правила оценки:\\n1. RELEVANT_PLUS — если организация явно удовлетворяет запросу.  \\n2. IRRELEVANT — если соответствия нет.  \\n3. В первую очередь анализируй пользовательский запрос и поля \"Рубрика\" и \"Адрес\".  \\n4. Используй отзывы и дополнительную информацию (поле \"Дополнительная информация\"), особенно если они содержат уникальные признаки, указанные в запросе.\\n5. Если в запросе указана **часть адреса** (например, улица, район или город), обязательно сверяй её с адресом организации. Несовпадение = IRRELEVANT.   \\n6. Если в запросе указан **конкретный номер отделения, филиала, школы, офиса и т.п.**, обязательно сверяй его с номером в названии организации. Несовпадение = IRRELEVANT.\\n7. Если в запросе указана **конкретная станция метро**, считай организацию RELEVANT_PLUS только если в адресе или описании явно указана та же станция метро или подтверждена близость к ней. При несоответствии — IRRELEVANT.\\n\\n### Примеры:\\nПользовательский запрос: шугаринг Красноярск  \\nОрганизация:  \\nНазвание: Студия красоты Дарлинг  \\nАдрес: Красноярск, микрорайон Взлётка, улица Весны, 3  \\nРубрика: Салон красоты  \\nОтзывы: Студия красоты «Дарлинг» предоставляет бьюти-услуги и продаёт парфюмерию и косметику.  \\nДополнительная информация: Предоставляет услуги шугаринга, депиляции, маникюра. Работает ежедневно с 9:00 до 21:00. Ответ: RELEVANT_PLUS\\n\\nПользовательский запрос: Шашлычная  \\nОрганизация:  \\nНазвание: Яндекс Лавка  \\nАдрес: Москва, улица Адмирала Макарова, 23, корп. 2  \\nРубрика: Доставка продуктов  \\nОтзывы: Организация занимается доставкой продуктов и еды, работает в формате даркстора.  \\nДополнительная информация: Сервис доставки продуктов на дом, работает через мобильное приложение.  \\nОтвет: IRRELEVANT\\n\\nПользовательский запрос: Отдел полиции № 7 \\nОрганизация:  \\nНазвание: Отдел полиции № 6 УМВД России по городу Уфе  \\nАдрес: Республика Башкортостан, Уфа, улица Лесотехникума, 92/2  \\nРубрика: Отделение полиции \\nОтзывы: Организация занимается обеспечением правопорядка и оказанием соответствующих услуг населению. Тональность отзывов смешанная: есть как положительные, так и отрицательные.  \\nДополнительная информация:   \\nОтвет: IRRELEVANT\\n\\n### Теперь оцени следующий пример:\\nПользовательский запрос: \"купить тур в сочи с перелетом из москвы\"  \\nОрганизация:  \\nНазвание: Апельсин Тревел; Apelsin Travel; Apelsin.Travel; Турагентство Apelsin Travel  \\nАдрес: Москва, Нижегородская улица, 2, корп. 1  \\nРубрика: Турагентство  \\nОтзывы: Организация занимается подбором и оформлением туров, включая покупку железнодорожных билетов. Отзывы в основном положительные: хвалят профессионализм сотрудников, индивидуальный подход и широкий выбор туров. Критикуют отсутствие сотрудников в офисе в рабочее время и случаи некорректного обслуживания. | 1. Хвалят вкусную еду | 2. Отмечают клиентоориентированность и профессионализм сотрудников | 3. Благодарность менеджеру Елене за надёжное сотрудничество | 4. Критикуют отсутствие информации по туру после оплаты, подозревают обман | 5. Благодарность за прекрасно организованный отпуск в Египте | 6. Благодарность Екатерине за рекомендации и хороший отдых в Таиланде | 7. Критикуют непонятные условия покупки тура на сайте | 8. Отмечают большой выбор горящих туров и приятные цены | 9. Благодарность за оперативную помощь в подборе тура | 10. Хвалят профессионализм и внимание сотрудников | 11. Отмечают квалифицированность сотрудников и готовность помочь | 12. Критикуют отсутствие сотрудников в офисе и хамство | 13. Благодарность Елене и Екатерине за удачный тур | 14. Хвалят подбор туров и оперативность | 15. Благодарность за профессиональную помощь и внимание | 16. Отмечают внимательность и профессионализм сотрудников | 17. Хвалят оперативное решение вопросов и индивидуальный подход | 18. Благодарность за идеальный подбор места отдыха в Египте | 19. Отмечают отличное оформление туров и сопровождение во время поездки | 20. Благодарность за помощь в подборе комбинированного тура | 21. Хвалят удобную систему оплаты | 22. Благодарность за подборку тура и сравнение с другим агентством | 23. Критикуют сотрудника Наталью за игнорирование | 24. Хвалят профессионализм Екатерины и Елены | 25. Благодарность за организацию отдыха в Дубае | 26. Хвалят оперативность и профессионализм Горюшковой Елены | 27. Благодарность за подбор тура в Шарм Эль Шейх | 28. Хвалят квалифицированных специалистов и рекомендуют агентство | 29. Благодарность персоналу за прекрасный отдых | 30. Хвалят удобное расположение и отзывчивый персонал | 31. Отмечают чёткость и качество услуг | 32. Благодарность за оперативный подбор тура в Турцию | 33. Хвалят помощь в выборе отеля и оформлении тура | 34. Рекомендация отеля и благодарность за помощь | 35. Хвалят оперативную помощь в подборе отелей | 36. Благодарность менеджеру Екатерине за помощь в подборе тура  \\nДополнительная информация: Турагентство «Апельсин Тревел» — «Хорошее место» по оценкам пользователей — по адресу Москва, Нижегородская улица, 2, корп. 1, метро «Пролетарская», ☎️\\n\\nПоиск туров Горящие туры Страны и отели Круизы Поддержка туристов Где купить? Отзывы Вопросы и ответы Блог Новости. О нас. О нас Сотрудники Реквизиты\\n\\nСайт Агента является информационной посреднической площадкой и за информацию и фотографические изображения размещенную туроператорами на страницах сайта, так же  \\nОтвет:\"\"\"\\n\\n\\n', 'classification_response': 'RELEVANT_PLUS'}\n",
       "            </pre>\n",
       "        </details>\n",
       "        \n",
       "</div>\n"
      ],
      "text/plain": [
       "<IPython.core.display.HTML object>"
      ]
     },
     "metadata": {},
     "output_type": "display_data"
    }
   ],
   "source": [
    "inspect_row(agent3_consensus_error, idx=11)"
   ]
  },
  {
   "cell_type": "markdown",
   "id": "4b48fa97-8888-4eaa-90a2-836c8d9f107f",
   "metadata": {},
   "source": [
    "### Модель упустила важный модификатор \n",
    "возможно, тут нужно сначала парсить запрос, искать в нем ключевые слова (круглосуточный, 24 часа...) и менять запрос в поисковик, чтобы точно искать часы работы"
   ]
  },
  {
   "cell_type": "code",
   "execution_count": 47,
   "id": "2542f35d-9584-4904-ba35-ac18e7e1f17b",
   "metadata": {},
   "outputs": [],
   "source": [
    "model_consensus_errors.append(int(agent3_consensus_error.loc[12]['permalink']))"
   ]
  },
  {
   "cell_type": "code",
   "execution_count": 48,
   "id": "a1ff585e-8f12-4631-a996-205b34bfd770",
   "metadata": {},
   "outputs": [
    {
     "data": {
      "text/html": [
       "\n",
       "<div style=\"border:1px solid #ccc; padding:16px; border-radius:10px;\n",
       "            font-family:sans-serif; background-color:#f9f9f9; margin-bottom:20px\">\n",
       "  <h2>📌 Index: 12</h2>\n",
       "  <p><strong>Запрос:</strong><br>круглосуточный магазин</p>\n",
       "  <p><strong>Адрес:</strong><br>Москва, 3-я Гражданская улица, 70</p>\n",
       "  <p><strong>Название:</strong><br>Дикси; Diksi; Супермаркет Дикси; Dixi; Dixy</p>\n",
       "  <p><strong>ID Организации:</strong><br>1260020173</p>\n",
       "  <p><strong>Рубрика:</strong><br>Супермаркет</p>\n",
       "  <p><strong>Описание:</strong><br>Дикси — супермаркет, предлагающий широкий ассортимент продуктов питания и товаров первой необходимости, включая крупы, макаронные изделия, сладости, мясные и рыбные изделия, молочные продукты, а также средства личной гигиены | гречка | макароны | рис | масло подсолнечное | лапша | готовый завтрак | чечевица | туалетная бумага | мыло | молоко | корм для животных | пельмени | креветки | мороженое | наггетсы | смесь замороженная | пицца | кордон блю | конфеты | торт | печенье | говядина тушеная | огурцы маринованные | горошек зеленый | дезодорант | крем для рук | чай | кофе | сливки | сыр | масло сливочное | сметана</p>\n",
       "  <p><strong>Истинная релевантность:</strong> 0.0</p>\n",
       "  <p><strong>Отзывы:</strong><br>Организация занимается розничной торговлей, предоставляя широкий ассортимент продуктов и товаров. Отзывы смешанные: много положительных отзывов о расположении, ассортименте и чистоте, но также есть критика касательно цен, качества товаров и поведения персонала. Хвалят: расположение, ассортимент, чистоту, скидки. Критикуют: высокие цены, плохое качество товаров, грубое отношение персонала, проблемы с самообслуживанием и доставкой.\n",
       "\n",
       "1. Критикуют грубое отношение продавщицы.\n",
       "2. Цены не соответствуют качеству товаров.\n",
       "3. Отмечают наличие всех необходимых товаров.\n",
       "4. Положительно оценивают магазин в целом.\n",
       "5. Критикуют отсутствие обслуживания и грубость кассира.\n",
       "6. Жалуются на хамское отношение к покупателям.\n",
       "7. Оценка магазина на 4 из 5.\n",
       "8. Положительно отзываются о магазине.\n",
       "9. Магазин удобен для своей категории.\n",
       "10. Отмечается удобство магазина.\n",
       "11. Жалуются на грубое отношение сотрудников.\n",
       "12. Выражают любовь к магазину.\n",
       "13. Подчёркивают хороший ассортимент.\n",
       "14. Отмечают чистоту и удобное расположение.\n",
       "15. Критикуют некомпетентность продавцов.\n",
       "16. Магазин является любимым местом для покупок.\n",
       "17. Часто посещают магазин, всё нравится.\n",
       "18. Отмечают приветливых работников и удобное расположение.\n",
       "19. Жалуются на постоянные очереди и одну работающую кассу.\n",
       "20. Критикуют запах в магазине и ограниченный выбор.\n",
       "21. Положительный отзыв о качестве продуктов и приветливом персонале.\n",
       "22. Критикуют неадекватное поведение сотрудников.\n",
       "23. Жалуются на проблемы с весами и сервисом самообслуживания.\n",
       "24. Положительный отзыв об общем состоянии магазина.\n",
       "25. Жалуются на неудобное расположение проходов и работу сотрудников.\n",
       "26. Отрицательный опыт с персоналом и условиями в магазине.\n",
       "27. Положительный отзыв от случайного посетителя.\n",
       "28. Общий положительный отзыв о магазине.</p>\n",
       "  <p><strong>Предсказание модели (pred_relevance):</strong><br>1.0</p>\n",
       "  \n",
       "        <details style=\"margin-top:10px;\">\n",
       "            <summary style=\"cursor:pointer;\"><strong>🧠 Agent log (раскрыть)</strong></summary>\n",
       "            <pre style=\"white-space:pre-wrap; background:#eee; padding:10px; border-radius:6px;\">\n",
       "{'need_search_decision': 'YES', 'search_prompt': '# llm_relevance_agent/agent/prompts/need_search_v2.txt\\n# Убран пункт ### Когда поиск не нужен (NO):\\\\n1. Рубрика явно соответствует или не соответствует запросу.\\n\\nОпредели, нужно ли искать дополнительную информацию об организации, чтобы достоверно определить её релевантность пользовательскому запросу.\\n\\nОтвет строго одним из двух вариантов:\\n- \"YES\" — если информации недостаточно для достоверной оценки.\\n- \"NO\" — если можно точно определить релевантность уже по имеющимся данным.\\n\\n### Когда нужен поиск (YES):\\n1. В запросе есть уточнения (время работы, конкретные услуги, цены, бренды).\\n2. Рубрика слишком общая, а запрос специфичный.\\n3. Неясно, предоставляет ли организация нужную услугу.\\n4. В запросе есть временные или географические ограничения.\\n\\n\\n### Когда поиск не нужен (NO):\\n1. Отзывы подтверждают ключевые требования из запроса — нужные услуги, условия или особенности.\\n2. Запрос общий, а информации достаточно.\\n\\n### Примеры:\\nПользовательский запрос: Шиномонтаж 24\\nОрганизация:\\nНазвание: Шиномонтаж\\nАдрес: Республика Калмыкия, Элиста, улица В.И. Ленина, 7, стр. 8А\\nРубрика: Шиномонтаж\\nОтзывы: Организация занимается шиномонтажом. Отзывы положительные: хвалят высокое качество работы.\\nОтвет: YES\\n\\nПользовательский запрос: где дешево поесть в санкт-петербурге 2017\\nОрганизация:\\nНазвание: Буше; Bushe; БУШЕ пекарня-кондитерская ООО\\nАдрес: Санкт-Петербург, Малая Морская улица, 7\\nРубрика: Пекарня\\nОтзывы: Организация занимается выпечкой и продажей кондитерских изделий, а также предлагает завтраки и другие блюда. Отзывы преимущественно положительные: хвалят вкус еды и напитков, атмосферу и обслуживание, но критикуют высокие цены и иногда медленную работу персонала. | 1. Критикуют состояние туалета. | 2. Отмечают, что кухня не работала. | 3. Хвалят заведение в общем. | 4. Считают цены высокими. | 5. Восхищаются круасанами.\\nОтвет: NO\\n\\n### Теперь оцени следующий пример:\\nПользовательский запрос: \"круглосуточный магазин\"\\nОрганизация:\\nНазвание: Дикси; Diksi; Супермаркет Дикси; Dixi; Dixy\\nАдрес: Москва, 3-я Гражданская улица, 70\\nРубрика: Супермаркет\\nОтзывы: Организация занимается розничной торговлей, предоставляя широкий ассортимент продуктов и товаров. Отзывы смешанные: много положительных отзывов о расположении, ассортименте и чистоте, но также есть критика касательно цен, качества товаров и поведения персонала. Хвалят: расположение, ассортимент, чистоту, скидки. Критикуют: высокие цены, плохое качество товаров, грубое отношение персонала, проблемы с самообслуживанием и доставкой.\\n\\n1. Критикуют грубое отношение продавщицы.\\n2. Цены не соответствуют качеству товаров.\\n3. Отмечают наличие всех необходимых товаров.\\n4. Положительно оценивают магазин в целом.\\n5. Критикуют отсутствие обслуживания и грубость кассира.\\n6. Жалуются на хамское отношение к покупателям.\\n7. Оценка магазина на 4 из 5.\\n8. Положительно отзываются о магазине.\\n9. Магазин удобен для своей категории.\\n10. Отмечается удобство магазина.\\n11. Жалуются на грубое отношение сотрудников.\\n12. Выражают любовь к магазину.\\n13. Подчёркивают хороший ассортимент.\\n14. Отмечают чистоту и удобное расположение.\\n15. Критикуют некомпетентность продавцов.\\n16. Магазин является любимым местом для покупок.\\n17. Часто посещают магазин, всё нравится.\\n18. Отмечают приветливых работников и удобное расположение.\\n19. Жалуются на постоянные очереди и одну работающую кассу.\\n20. Критикуют запах в магазине и ограниченный выбор.\\n21. Положительный отзыв о качестве продуктов и приветливом персонале.\\n22. Критикуют неадекватное поведение сотрудников.\\n23. Жалуются на проблемы с весами и сервисом самообслуживания.\\n24. Положительный отзыв об общем состоянии магазина.\\n25. Жалуются на неудобное расположение проходов и работу сотрудников.\\n26. Отрицательный опыт с персоналом и условиями в магазине.\\n27. Положительный отзыв от случайного посетителя.\\n28. Общий положительный отзыв о магазине.\\nОтвет:', 'search_query': 'Дикси Супермаркет Москва, 3-я Гражданская улица, 70 круглосуточный магазин', 'search_results': 'Супермаркет «Дикси» по адресу Москва, 3-я Гражданская улица, 70, метро «Преображенская площадь», ☎ показать телефоны. Читать 297 отзывов, смотреть 29 фото,\\n\\nДикси, супермаркет: адреса со входами на карте, отзывы, фото, номера телефонов, время работы и как доехать. Розница, Пандус, Доступный вход для людей с\\n\\n296 отзывов ; Персонал · 42% · 111 отзывов ; Кассы · 18% · 60 отзывов ; Выбор товаров · 82% · 52 отзыва ; Скидки и акции · 83% · 48 отзывов ; Чистота · 43% · 45 отзывов.', 'classification_prompt': '# llm_relevance_agent/agent/prompts/classify_v2.txt\\n# Пункт 4 изменен\\n\\nТы — интеллектуальная система, которая определяет, насколько организация соответствует пользовательскому запросу.\\nОтветь строго одним из двух вариантов: \"RELEVANT_PLUS\" или \"IRRELEVANT\".\\n\\n### Правила оценки:\\n1. RELEVANT_PLUS — если организация явно удовлетворяет запросу.  \\n2. IRRELEVANT — если соответствия нет.  \\n3. В первую очередь анализируй пользовательский запрос и поля \"Рубрика\" и \"Адрес\".  \\n4. Используй отзывы и дополнительную информацию (поле \"Дополнительная информация\"), особенно если они содержат уникальные признаки, указанные в запросе.\\n5. Если в запросе указана **часть адреса** (например, улица, район или город), обязательно сверяй её с адресом организации. Несовпадение = IRRELEVANT.   \\n6. Если в запросе указан **конкретный номер отделения, филиала, школы, офиса и т.п.**, обязательно сверяй его с номером в названии организации. Несовпадение = IRRELEVANT.\\n7. Если в запросе указана **конкретная станция метро**, считай организацию RELEVANT_PLUS только если в адресе или описании явно указана та же станция метро или подтверждена близость к ней. При несоответствии — IRRELEVANT.\\n\\n### Примеры:\\nПользовательский запрос: шугаринг Красноярск  \\nОрганизация:  \\nНазвание: Студия красоты Дарлинг  \\nАдрес: Красноярск, микрорайон Взлётка, улица Весны, 3  \\nРубрика: Салон красоты  \\nОтзывы: Студия красоты «Дарлинг» предоставляет бьюти-услуги и продаёт парфюмерию и косметику.  \\nДополнительная информация: Предоставляет услуги шугаринга, депиляции, маникюра. Работает ежедневно с 9:00 до 21:00. Ответ: RELEVANT_PLUS\\n\\nПользовательский запрос: Шашлычная  \\nОрганизация:  \\nНазвание: Яндекс Лавка  \\nАдрес: Москва, улица Адмирала Макарова, 23, корп. 2  \\nРубрика: Доставка продуктов  \\nОтзывы: Организация занимается доставкой продуктов и еды, работает в формате даркстора.  \\nДополнительная информация: Сервис доставки продуктов на дом, работает через мобильное приложение.  \\nОтвет: IRRELEVANT\\n\\nПользовательский запрос: Отдел полиции № 7 \\nОрганизация:  \\nНазвание: Отдел полиции № 6 УМВД России по городу Уфе  \\nАдрес: Республика Башкортостан, Уфа, улица Лесотехникума, 92/2  \\nРубрика: Отделение полиции \\nОтзывы: Организация занимается обеспечением правопорядка и оказанием соответствующих услуг населению. Тональность отзывов смешанная: есть как положительные, так и отрицательные.  \\nДополнительная информация:   \\nОтвет: IRRELEVANT\\n\\n### Теперь оцени следующий пример:\\nПользовательский запрос: \"круглосуточный магазин\"  \\nОрганизация:  \\nНазвание: Дикси; Diksi; Супермаркет Дикси; Dixi; Dixy  \\nАдрес: Москва, 3-я Гражданская улица, 70  \\nРубрика: Супермаркет  \\nОтзывы: Организация занимается розничной торговлей, предоставляя широкий ассортимент продуктов и товаров. Отзывы смешанные: много положительных отзывов о расположении, ассортименте и чистоте, но также есть критика касательно цен, качества товаров и поведения персонала. Хвалят: расположение, ассортимент, чистоту, скидки. Критикуют: высокие цены, плохое качество товаров, грубое отношение персонала, проблемы с самообслуживанием и доставкой.\\n\\n1. Критикуют грубое отношение продавщицы.\\n2. Цены не соответствуют качеству товаров.\\n3. Отмечают наличие всех необходимых товаров.\\n4. Положительно оценивают магазин в целом.\\n5. Критикуют отсутствие обслуживания и грубость кассира.\\n6. Жалуются на хамское отношение к покупателям.\\n7. Оценка магазина на 4 из 5.\\n8. Положительно отзываются о магазине.\\n9. Магазин удобен для своей категории.\\n10. Отмечается удобство магазина.\\n11. Жалуются на грубое отношение сотрудников.\\n12. Выражают любовь к магазину.\\n13. Подчёркивают хороший ассортимент.\\n14. Отмечают чистоту и удобное расположение.\\n15. Критикуют некомпетентность продавцов.\\n16. Магазин является любимым местом для покупок.\\n17. Часто посещают магазин, всё нравится.\\n18. Отмечают приветливых работников и удобное расположение.\\n19. Жалуются на постоянные очереди и одну работающую кассу.\\n20. Критикуют запах в магазине и ограниченный выбор.\\n21. Положительный отзыв о качестве продуктов и приветливом персонале.\\n22. Критикуют неадекватное поведение сотрудников.\\n23. Жалуются на проблемы с весами и сервисом самообслуживания.\\n24. Положительный отзыв об общем состоянии магазина.\\n25. Жалуются на неудобное расположение проходов и работу сотрудников.\\n26. Отрицательный опыт с персоналом и условиями в магазине.\\n27. Положительный отзыв от случайного посетителя.\\n28. Общий положительный отзыв о магазине.  \\nДополнительная информация: Супермаркет «Дикси» по адресу Москва, 3-я Гражданская улица, 70, метро «Преображенская площадь», ☎ показать телефоны. Читать 297 отзывов, смотреть 29 фото,\\n\\nДикси, супермаркет: адреса со входами на карте, отзывы, фото, номера телефонов, время работы и как доехать. Розница, Пандус, Доступный вход для людей с\\n\\n296 отзывов ; Персонал · 42% · 111 отзывов ; Кассы · 18% · 60 отзывов ; Выбор товаров · 82% · 52 отзыва ; Скидки и акции · 83% · 48 отзывов ; Чистота · 43% · 45 отзывов.  \\nОтвет:\"\"\"\\n\\n\\n', 'classification_response': 'RELEVANT_PLUS'}\n",
       "            </pre>\n",
       "        </details>\n",
       "        \n",
       "</div>\n"
      ],
      "text/plain": [
       "<IPython.core.display.HTML object>"
      ]
     },
     "metadata": {},
     "output_type": "display_data"
    }
   ],
   "source": [
    "inspect_row(agent3_consensus_error, idx=12)"
   ]
  },
  {
   "cell_type": "markdown",
   "id": "e8133b15-ad47-4abf-85fc-fbc173d686b5",
   "metadata": {},
   "source": [
    "### Модели не хватило информации"
   ]
  },
  {
   "cell_type": "code",
   "execution_count": 49,
   "id": "8bd0d407-a44c-4856-abba-839ee019025e",
   "metadata": {},
   "outputs": [],
   "source": [
    "model_consensus_errors.append(int(agent3_consensus_error.loc[13]['permalink']))"
   ]
  },
  {
   "cell_type": "code",
   "execution_count": 50,
   "id": "40df17c8-631c-467f-9ef9-529f87fe2b47",
   "metadata": {},
   "outputs": [
    {
     "data": {
      "text/html": [
       "\n",
       "<div style=\"border:1px solid #ccc; padding:16px; border-radius:10px;\n",
       "            font-family:sans-serif; background-color:#f9f9f9; margin-bottom:20px\">\n",
       "  <h2>📌 Index: 13</h2>\n",
       "  <p><strong>Запрос:</strong><br>тетеплый плинтус 30мм высота на профиль окна</p>\n",
       "  <p><strong>Адрес:</strong><br>Воронежская область, Рамонский район, Яменское сельское поселение, посёлок Солнечный, Парковая улица, 5</p>\n",
       "  <p><strong>Название:</strong><br>Лемана Про; Lemana Pro; Leroy Merlin; Леруа Мерлен</p>\n",
       "  <p><strong>ID Организации:</strong><br>1583592856</p>\n",
       "  <p><strong>Рубрика:</strong><br>Строительный магазин</p>\n",
       "  <p><strong>Описание:</strong><br>Лемана Про предлагает широкий ассортимент товаров для строительства, ремонта и обустройства дома, включая строительные материалы, отделочные изделия, мебель и инструменты | ванна | гипсокартон | обои | профиль | качели садовые | клей для обоев | малярная лента | краска для потолков | краска для стен | каркас напольный | ламинат | подстолье | лист рифлёный | наличник | зеркало | плита ОСП | перфоратор | ящик | инсталляция с унитазом | труба полипропиленовая | полотенцесушитель | радиатор | стеллаж | панель светодиодная | светильник | унитаз | клей для плитки | шкаф распашной | штукатурка гипсовая | водонагреватель | пылесос строительный.</p>\n",
       "  <p><strong>Истинная релевантность:</strong> 1.0</p>\n",
       "  <p><strong>Отзывы:</strong><br>Организация «Лемана Про» занимается продажей строительных материалов, товаров для дома и сада. Отзывы в основном положительные: пользователи хвалят большой ассортимент и удобство магазина, но критикуют высокие цены и некоторые организационные моменты. | 1. Хвалят общий положительный опыт посещения магазина | 2. Отмечают удобную доставку | 3. Выражают общее удовлетворение магазином | 4. Критикуют состояние туалета | 5. Выражают любовь к магазину | 6. Подчёркивают большой размер магазина | 7. Считают, что раньше было лучше | 8. Критикуют равнодушие сотрудников | 9. Подчёркивают широкий ассортимент | 10. Подтверждают наличие всего необходимого | 11. Отмечают неплохую общую оценку магазина | 12. Выражают восторг от магазина | 13. Подчёркивают компетентность и отзывчивость сотрудников | 14. Отмечают хорошее обслуживание юридических лиц | 15. Критикуют повышение цен после ребрендинга | 16. Хвалят удобное расположение и большую парковку | 17. Критикуют завышенные цены на многие позиции | 18. Отмечают достаточное количество товаров по нормальным ценам | 19. Подчёркивают огромный выбор товаров | 20. Критикуют нехватку кассиров и большие очереди | 21. Отмечают, что не всё всегда в наличии | 22. Хвалят приветливый персонал | 23. Критикуют отсутствие ценового преимущества | 24. Подчёркивают современный формат магазина | 25. Отмечают возможность найти всё необходимое | 26. Критикуют длительность погрузки | 27. Подчёркивают широкий ассортимент продукции | 28. Критикуют высокие цены | 29. Критикуют отсутствие некоторых товаров | 30. Подчёркивают удобство магазина | 31. Критикуют сложности с доступом к разгрузке | 32. Подчёркивают наличие всего в магазине</p>\n",
       "  <p><strong>Предсказание модели (pred_relevance):</strong><br>0.0</p>\n",
       "  \n",
       "        <details style=\"margin-top:10px;\">\n",
       "            <summary style=\"cursor:pointer;\"><strong>🧠 Agent log (раскрыть)</strong></summary>\n",
       "            <pre style=\"white-space:pre-wrap; background:#eee; padding:10px; border-radius:6px;\">\n",
       "{'need_search_decision': 'YES', 'search_prompt': '# llm_relevance_agent/agent/prompts/need_search_v2.txt\\n# Убран пункт ### Когда поиск не нужен (NO):\\\\n1. Рубрика явно соответствует или не соответствует запросу.\\n\\nОпредели, нужно ли искать дополнительную информацию об организации, чтобы достоверно определить её релевантность пользовательскому запросу.\\n\\nОтвет строго одним из двух вариантов:\\n- \"YES\" — если информации недостаточно для достоверной оценки.\\n- \"NO\" — если можно точно определить релевантность уже по имеющимся данным.\\n\\n### Когда нужен поиск (YES):\\n1. В запросе есть уточнения (время работы, конкретные услуги, цены, бренды).\\n2. Рубрика слишком общая, а запрос специфичный.\\n3. Неясно, предоставляет ли организация нужную услугу.\\n4. В запросе есть временные или географические ограничения.\\n\\n\\n### Когда поиск не нужен (NO):\\n1. Отзывы подтверждают ключевые требования из запроса — нужные услуги, условия или особенности.\\n2. Запрос общий, а информации достаточно.\\n\\n### Примеры:\\nПользовательский запрос: Шиномонтаж 24\\nОрганизация:\\nНазвание: Шиномонтаж\\nАдрес: Республика Калмыкия, Элиста, улица В.И. Ленина, 7, стр. 8А\\nРубрика: Шиномонтаж\\nОтзывы: Организация занимается шиномонтажом. Отзывы положительные: хвалят высокое качество работы.\\nОтвет: YES\\n\\nПользовательский запрос: где дешево поесть в санкт-петербурге 2017\\nОрганизация:\\nНазвание: Буше; Bushe; БУШЕ пекарня-кондитерская ООО\\nАдрес: Санкт-Петербург, Малая Морская улица, 7\\nРубрика: Пекарня\\nОтзывы: Организация занимается выпечкой и продажей кондитерских изделий, а также предлагает завтраки и другие блюда. Отзывы преимущественно положительные: хвалят вкус еды и напитков, атмосферу и обслуживание, но критикуют высокие цены и иногда медленную работу персонала. | 1. Критикуют состояние туалета. | 2. Отмечают, что кухня не работала. | 3. Хвалят заведение в общем. | 4. Считают цены высокими. | 5. Восхищаются круасанами.\\nОтвет: NO\\n\\n### Теперь оцени следующий пример:\\nПользовательский запрос: \"тетеплый плинтус 30мм высота на профиль окна\"\\nОрганизация:\\nНазвание: Лемана Про; Lemana Pro; Leroy Merlin; Леруа Мерлен\\nАдрес: Воронежская область, Рамонский район, Яменское сельское поселение, посёлок Солнечный, Парковая улица, 5\\nРубрика: Строительный магазин\\nОтзывы: Организация «Лемана Про» занимается продажей строительных материалов, товаров для дома и сада. Отзывы в основном положительные: пользователи хвалят большой ассортимент и удобство магазина, но критикуют высокие цены и некоторые организационные моменты. | 1. Хвалят общий положительный опыт посещения магазина | 2. Отмечают удобную доставку | 3. Выражают общее удовлетворение магазином | 4. Критикуют состояние туалета | 5. Выражают любовь к магазину | 6. Подчёркивают большой размер магазина | 7. Считают, что раньше было лучше | 8. Критикуют равнодушие сотрудников | 9. Подчёркивают широкий ассортимент | 10. Подтверждают наличие всего необходимого | 11. Отмечают неплохую общую оценку магазина | 12. Выражают восторг от магазина | 13. Подчёркивают компетентность и отзывчивость сотрудников | 14. Отмечают хорошее обслуживание юридических лиц | 15. Критикуют повышение цен после ребрендинга | 16. Хвалят удобное расположение и большую парковку | 17. Критикуют завышенные цены на многие позиции | 18. Отмечают достаточное количество товаров по нормальным ценам | 19. Подчёркивают огромный выбор товаров | 20. Критикуют нехватку кассиров и большие очереди | 21. Отмечают, что не всё всегда в наличии | 22. Хвалят приветливый персонал | 23. Критикуют отсутствие ценового преимущества | 24. Подчёркивают современный формат магазина | 25. Отмечают возможность найти всё необходимое | 26. Критикуют длительность погрузки | 27. Подчёркивают широкий ассортимент продукции | 28. Критикуют высокие цены | 29. Критикуют отсутствие некоторых товаров | 30. Подчёркивают удобство магазина | 31. Критикуют сложности с доступом к разгрузке | 32. Подчёркивают наличие всего в магазине\\nОтвет:', 'search_query': 'Лемана Про Строительный магазин Воронежская область, Рамонский район, Яменское сельское поселение, посёлок Солнечный, Парковая улица, 5 тетеплый плинтус 30мм высота на профиль окна', 'search_results': '\\u200bПарковая, 5\\u200bЛемана про (2 филиала). пос. Солнечный, Рамонский район, Воронежская область, 396005. 1 этаж. Показать вход. Рассмотреть. Проехать. Ежедневно с 08:\\n\\nРейтинг 5,0 на основе 19916 оценок и 5028 отзывов о строительном магазине «Лемана Про», Воронежская область, Рамонский район, Яменское сельское поселение,\\n\\nНачните с Лемана ПРО! Мы предлагаем бесплатное проектирование таких проектов, как: - Фундамент на сваях; - Заборы на заказ; - Кровля на заказ; - Окна на заказ.', 'classification_prompt': '# llm_relevance_agent/agent/prompts/classify_v2.txt\\n# Пункт 4 изменен\\n\\nТы — интеллектуальная система, которая определяет, насколько организация соответствует пользовательскому запросу.\\nОтветь строго одним из двух вариантов: \"RELEVANT_PLUS\" или \"IRRELEVANT\".\\n\\n### Правила оценки:\\n1. RELEVANT_PLUS — если организация явно удовлетворяет запросу.  \\n2. IRRELEVANT — если соответствия нет.  \\n3. В первую очередь анализируй пользовательский запрос и поля \"Рубрика\" и \"Адрес\".  \\n4. Используй отзывы и дополнительную информацию (поле \"Дополнительная информация\"), особенно если они содержат уникальные признаки, указанные в запросе.\\n5. Если в запросе указана **часть адреса** (например, улица, район или город), обязательно сверяй её с адресом организации. Несовпадение = IRRELEVANT.   \\n6. Если в запросе указан **конкретный номер отделения, филиала, школы, офиса и т.п.**, обязательно сверяй его с номером в названии организации. Несовпадение = IRRELEVANT.\\n7. Если в запросе указана **конкретная станция метро**, считай организацию RELEVANT_PLUS только если в адресе или описании явно указана та же станция метро или подтверждена близость к ней. При несоответствии — IRRELEVANT.\\n\\n### Примеры:\\nПользовательский запрос: шугаринг Красноярск  \\nОрганизация:  \\nНазвание: Студия красоты Дарлинг  \\nАдрес: Красноярск, микрорайон Взлётка, улица Весны, 3  \\nРубрика: Салон красоты  \\nОтзывы: Студия красоты «Дарлинг» предоставляет бьюти-услуги и продаёт парфюмерию и косметику.  \\nДополнительная информация: Предоставляет услуги шугаринга, депиляции, маникюра. Работает ежедневно с 9:00 до 21:00. Ответ: RELEVANT_PLUS\\n\\nПользовательский запрос: Шашлычная  \\nОрганизация:  \\nНазвание: Яндекс Лавка  \\nАдрес: Москва, улица Адмирала Макарова, 23, корп. 2  \\nРубрика: Доставка продуктов  \\nОтзывы: Организация занимается доставкой продуктов и еды, работает в формате даркстора.  \\nДополнительная информация: Сервис доставки продуктов на дом, работает через мобильное приложение.  \\nОтвет: IRRELEVANT\\n\\nПользовательский запрос: Отдел полиции № 7 \\nОрганизация:  \\nНазвание: Отдел полиции № 6 УМВД России по городу Уфе  \\nАдрес: Республика Башкортостан, Уфа, улица Лесотехникума, 92/2  \\nРубрика: Отделение полиции \\nОтзывы: Организация занимается обеспечением правопорядка и оказанием соответствующих услуг населению. Тональность отзывов смешанная: есть как положительные, так и отрицательные.  \\nДополнительная информация:   \\nОтвет: IRRELEVANT\\n\\n### Теперь оцени следующий пример:\\nПользовательский запрос: \"тетеплый плинтус 30мм высота на профиль окна\"  \\nОрганизация:  \\nНазвание: Лемана Про; Lemana Pro; Leroy Merlin; Леруа Мерлен  \\nАдрес: Воронежская область, Рамонский район, Яменское сельское поселение, посёлок Солнечный, Парковая улица, 5  \\nРубрика: Строительный магазин  \\nОтзывы: Организация «Лемана Про» занимается продажей строительных материалов, товаров для дома и сада. Отзывы в основном положительные: пользователи хвалят большой ассортимент и удобство магазина, но критикуют высокие цены и некоторые организационные моменты. | 1. Хвалят общий положительный опыт посещения магазина | 2. Отмечают удобную доставку | 3. Выражают общее удовлетворение магазином | 4. Критикуют состояние туалета | 5. Выражают любовь к магазину | 6. Подчёркивают большой размер магазина | 7. Считают, что раньше было лучше | 8. Критикуют равнодушие сотрудников | 9. Подчёркивают широкий ассортимент | 10. Подтверждают наличие всего необходимого | 11. Отмечают неплохую общую оценку магазина | 12. Выражают восторг от магазина | 13. Подчёркивают компетентность и отзывчивость сотрудников | 14. Отмечают хорошее обслуживание юридических лиц | 15. Критикуют повышение цен после ребрендинга | 16. Хвалят удобное расположение и большую парковку | 17. Критикуют завышенные цены на многие позиции | 18. Отмечают достаточное количество товаров по нормальным ценам | 19. Подчёркивают огромный выбор товаров | 20. Критикуют нехватку кассиров и большие очереди | 21. Отмечают, что не всё всегда в наличии | 22. Хвалят приветливый персонал | 23. Критикуют отсутствие ценового преимущества | 24. Подчёркивают современный формат магазина | 25. Отмечают возможность найти всё необходимое | 26. Критикуют длительность погрузки | 27. Подчёркивают широкий ассортимент продукции | 28. Критикуют высокие цены | 29. Критикуют отсутствие некоторых товаров | 30. Подчёркивают удобство магазина | 31. Критикуют сложности с доступом к разгрузке | 32. Подчёркивают наличие всего в магазине  \\nДополнительная информация: \\u200bПарковая, 5\\u200bЛемана про (2 филиала). пос. Солнечный, Рамонский район, Воронежская область, 396005. 1 этаж. Показать вход. Рассмотреть. Проехать. Ежедневно с 08:\\n\\nРейтинг 5,0 на основе 19916 оценок и 5028 отзывов о строительном магазине «Лемана Про», Воронежская область, Рамонский район, Яменское сельское поселение,\\n\\nНачните с Лемана ПРО! Мы предлагаем бесплатное проектирование таких проектов, как: - Фундамент на сваях; - Заборы на заказ; - Кровля на заказ; - Окна на заказ.  \\nОтвет:\"\"\"\\n\\n\\n', 'classification_response': 'IRRELEVANT'}\n",
       "            </pre>\n",
       "        </details>\n",
       "        \n",
       "</div>\n"
      ],
      "text/plain": [
       "<IPython.core.display.HTML object>"
      ]
     },
     "metadata": {},
     "output_type": "display_data"
    }
   ],
   "source": [
    "inspect_row(agent3_consensus_error, idx=13)"
   ]
  },
  {
   "cell_type": "markdown",
   "id": "404d5264-efb9-43e3-a2e1-e1d49efbadb3",
   "metadata": {},
   "source": [
    "### Ничего не найдено в запросе \n",
    "(раньше попадали строки с missing)"
   ]
  },
  {
   "cell_type": "code",
   "execution_count": 51,
   "id": "1339afc7-29be-42c8-87d3-299aaa643d25",
   "metadata": {},
   "outputs": [],
   "source": [
    "model_consensus_errors.append(int(agent3_consensus_error.loc[14]['permalink']))"
   ]
  },
  {
   "cell_type": "code",
   "execution_count": 52,
   "id": "06d958ae-b477-4479-a2e0-bf02402b10d1",
   "metadata": {},
   "outputs": [
    {
     "data": {
      "text/html": [
       "\n",
       "<div style=\"border:1px solid #ccc; padding:16px; border-radius:10px;\n",
       "            font-family:sans-serif; background-color:#f9f9f9; margin-bottom:20px\">\n",
       "  <h2>📌 Index: 14</h2>\n",
       "  <p><strong>Запрос:</strong><br>зал для кроссфита</p>\n",
       "  <p><strong>Адрес:</strong><br>Республика Башкортостан, Уфа, бульвар Тухвата Янаби, 47</p>\n",
       "  <p><strong>Название:</strong><br>Лейтай; Leitai</p>\n",
       "  <p><strong>ID Организации:</strong><br>60891450032</p>\n",
       "  <p><strong>Рубрика:</strong><br>Спортивный клуб , секция</p>\n",
       "  <p><strong>Описание:</strong><br>Спортивный клуб «Лейтай» предлагает занятия в спортивной школе и школе танцев, включая персональные тренировки | персональная тренировка</p>\n",
       "  <p><strong>Истинная релевантность:</strong> 1.0</p>\n",
       "  <p><strong>Отзывы:</strong><br>Организация «Лейтай» занимается проведением спортивных занятий, включая тайский бокс и ушу. Отзывы смешанные: несколько положительных и отрицательных. Хвалят: тренеров, отношение к детям, результаты соревнований. Критикуют: вытягивание дополнительных денег, неорганизованность занятий, проблемы с расписанием.\n",
       "| 1. Рекомендует клуб | 2. Положительный отзыв о клубе | 3. Критикует вытягивание денег и организацию занятий | 4. Жалоба на вынужденное приобретение карты и невыдачу денег | 5. Разочарование из-за плохой организации и отсутствия внимания тренера | 6. Положительный отзыв о тренере и результатах, защита платного обучения | 7. Хороший клуб, хвалит тренера и чистоту | 8. Благодарность за результативные тренировки и поддержку | 9. Хороший спортклуб, хвалит профессионального тренера | 10. Положительный отзыв о добром тренере | 11. Хвалят соляную пещеру и тренировки по ушу | 12. Хороший клуб с удобным графиком | 13. Хвалит добрых и отзывчивых тренеров | 14. Проблема с дозвоном по телефону</p>\n",
       "  <p><strong>Предсказание модели (pred_relevance):</strong><br>0.0</p>\n",
       "  \n",
       "        <details style=\"margin-top:10px;\">\n",
       "            <summary style=\"cursor:pointer;\"><strong>🧠 Agent log (раскрыть)</strong></summary>\n",
       "            <pre style=\"white-space:pre-wrap; background:#eee; padding:10px; border-radius:6px;\">\n",
       "{'need_search_decision': 'YES', 'search_prompt': '# llm_relevance_agent/agent/prompts/need_search_v2.txt\\n# Убран пункт ### Когда поиск не нужен (NO):\\\\n1. Рубрика явно соответствует или не соответствует запросу.\\n\\nОпредели, нужно ли искать дополнительную информацию об организации, чтобы достоверно определить её релевантность пользовательскому запросу.\\n\\nОтвет строго одним из двух вариантов:\\n- \"YES\" — если информации недостаточно для достоверной оценки.\\n- \"NO\" — если можно точно определить релевантность уже по имеющимся данным.\\n\\n### Когда нужен поиск (YES):\\n1. В запросе есть уточнения (время работы, конкретные услуги, цены, бренды).\\n2. Рубрика слишком общая, а запрос специфичный.\\n3. Неясно, предоставляет ли организация нужную услугу.\\n4. В запросе есть временные или географические ограничения.\\n\\n\\n### Когда поиск не нужен (NO):\\n1. Отзывы подтверждают ключевые требования из запроса — нужные услуги, условия или особенности.\\n2. Запрос общий, а информации достаточно.\\n\\n### Примеры:\\nПользовательский запрос: Шиномонтаж 24\\nОрганизация:\\nНазвание: Шиномонтаж\\nАдрес: Республика Калмыкия, Элиста, улица В.И. Ленина, 7, стр. 8А\\nРубрика: Шиномонтаж\\nОтзывы: Организация занимается шиномонтажом. Отзывы положительные: хвалят высокое качество работы.\\nОтвет: YES\\n\\nПользовательский запрос: где дешево поесть в санкт-петербурге 2017\\nОрганизация:\\nНазвание: Буше; Bushe; БУШЕ пекарня-кондитерская ООО\\nАдрес: Санкт-Петербург, Малая Морская улица, 7\\nРубрика: Пекарня\\nОтзывы: Организация занимается выпечкой и продажей кондитерских изделий, а также предлагает завтраки и другие блюда. Отзывы преимущественно положительные: хвалят вкус еды и напитков, атмосферу и обслуживание, но критикуют высокие цены и иногда медленную работу персонала. | 1. Критикуют состояние туалета. | 2. Отмечают, что кухня не работала. | 3. Хвалят заведение в общем. | 4. Считают цены высокими. | 5. Восхищаются круасанами.\\nОтвет: NO\\n\\n### Теперь оцени следующий пример:\\nПользовательский запрос: \"зал для кроссфита\"\\nОрганизация:\\nНазвание: Лейтай; Leitai\\nАдрес: Республика Башкортостан, Уфа, бульвар Тухвата Янаби, 47\\nРубрика: Спортивный клуб , секция\\nОтзывы: Организация «Лейтай» занимается проведением спортивных занятий, включая тайский бокс и ушу. Отзывы смешанные: несколько положительных и отрицательных. Хвалят: тренеров, отношение к детям, результаты соревнований. Критикуют: вытягивание дополнительных денег, неорганизованность занятий, проблемы с расписанием.\\n| 1. Рекомендует клуб | 2. Положительный отзыв о клубе | 3. Критикует вытягивание денег и организацию занятий | 4. Жалоба на вынужденное приобретение карты и невыдачу денег | 5. Разочарование из-за плохой организации и отсутствия внимания тренера | 6. Положительный отзыв о тренере и результатах, защита платного обучения | 7. Хороший клуб, хвалит тренера и чистоту | 8. Благодарность за результативные тренировки и поддержку | 9. Хороший спортклуб, хвалит профессионального тренера | 10. Положительный отзыв о добром тренере | 11. Хвалят соляную пещеру и тренировки по ушу | 12. Хороший клуб с удобным графиком | 13. Хвалит добрых и отзывчивых тренеров | 14. Проблема с дозвоном по телефону\\nОтвет:', 'search_query': 'Лейтай Спортивный клуб , секция Республика Башкортостан, Уфа, бульвар Тухвата Янаби, 47 зал для кроссфита', 'search_results': '', 'classification_prompt': '# llm_relevance_agent/agent/prompts/classify_v2.txt\\n# Пункт 4 изменен\\n\\nТы — интеллектуальная система, которая определяет, насколько организация соответствует пользовательскому запросу.\\nОтветь строго одним из двух вариантов: \"RELEVANT_PLUS\" или \"IRRELEVANT\".\\n\\n### Правила оценки:\\n1. RELEVANT_PLUS — если организация явно удовлетворяет запросу.  \\n2. IRRELEVANT — если соответствия нет.  \\n3. В первую очередь анализируй пользовательский запрос и поля \"Рубрика\" и \"Адрес\".  \\n4. Используй отзывы и дополнительную информацию (поле \"Дополнительная информация\"), особенно если они содержат уникальные признаки, указанные в запросе.\\n5. Если в запросе указана **часть адреса** (например, улица, район или город), обязательно сверяй её с адресом организации. Несовпадение = IRRELEVANT.   \\n6. Если в запросе указан **конкретный номер отделения, филиала, школы, офиса и т.п.**, обязательно сверяй его с номером в названии организации. Несовпадение = IRRELEVANT.\\n7. Если в запросе указана **конкретная станция метро**, считай организацию RELEVANT_PLUS только если в адресе или описании явно указана та же станция метро или подтверждена близость к ней. При несоответствии — IRRELEVANT.\\n\\n### Примеры:\\nПользовательский запрос: шугаринг Красноярск  \\nОрганизация:  \\nНазвание: Студия красоты Дарлинг  \\nАдрес: Красноярск, микрорайон Взлётка, улица Весны, 3  \\nРубрика: Салон красоты  \\nОтзывы: Студия красоты «Дарлинг» предоставляет бьюти-услуги и продаёт парфюмерию и косметику.  \\nДополнительная информация: Предоставляет услуги шугаринга, депиляции, маникюра. Работает ежедневно с 9:00 до 21:00. Ответ: RELEVANT_PLUS\\n\\nПользовательский запрос: Шашлычная  \\nОрганизация:  \\nНазвание: Яндекс Лавка  \\nАдрес: Москва, улица Адмирала Макарова, 23, корп. 2  \\nРубрика: Доставка продуктов  \\nОтзывы: Организация занимается доставкой продуктов и еды, работает в формате даркстора.  \\nДополнительная информация: Сервис доставки продуктов на дом, работает через мобильное приложение.  \\nОтвет: IRRELEVANT\\n\\nПользовательский запрос: Отдел полиции № 7 \\nОрганизация:  \\nНазвание: Отдел полиции № 6 УМВД России по городу Уфе  \\nАдрес: Республика Башкортостан, Уфа, улица Лесотехникума, 92/2  \\nРубрика: Отделение полиции \\nОтзывы: Организация занимается обеспечением правопорядка и оказанием соответствующих услуг населению. Тональность отзывов смешанная: есть как положительные, так и отрицательные.  \\nДополнительная информация:   \\nОтвет: IRRELEVANT\\n\\n### Теперь оцени следующий пример:\\nПользовательский запрос: \"зал для кроссфита\"  \\nОрганизация:  \\nНазвание: Лейтай; Leitai  \\nАдрес: Республика Башкортостан, Уфа, бульвар Тухвата Янаби, 47  \\nРубрика: Спортивный клуб , секция  \\nОтзывы: Организация «Лейтай» занимается проведением спортивных занятий, включая тайский бокс и ушу. Отзывы смешанные: несколько положительных и отрицательных. Хвалят: тренеров, отношение к детям, результаты соревнований. Критикуют: вытягивание дополнительных денег, неорганизованность занятий, проблемы с расписанием.\\n| 1. Рекомендует клуб | 2. Положительный отзыв о клубе | 3. Критикует вытягивание денег и организацию занятий | 4. Жалоба на вынужденное приобретение карты и невыдачу денег | 5. Разочарование из-за плохой организации и отсутствия внимания тренера | 6. Положительный отзыв о тренере и результатах, защита платного обучения | 7. Хороший клуб, хвалит тренера и чистоту | 8. Благодарность за результативные тренировки и поддержку | 9. Хороший спортклуб, хвалит профессионального тренера | 10. Положительный отзыв о добром тренере | 11. Хвалят соляную пещеру и тренировки по ушу | 12. Хороший клуб с удобным графиком | 13. Хвалит добрых и отзывчивых тренеров | 14. Проблема с дозвоном по телефону  \\nДополнительная информация: —  \\nОтвет:\"\"\"\\n\\n\\n', 'classification_response': 'IRRELEVANT'}\n",
       "            </pre>\n",
       "        </details>\n",
       "        \n",
       "</div>\n"
      ],
      "text/plain": [
       "<IPython.core.display.HTML object>"
      ]
     },
     "metadata": {},
     "output_type": "display_data"
    }
   ],
   "source": [
    "inspect_row(agent3_consensus_error, idx=14)"
   ]
  },
  {
   "cell_type": "markdown",
   "id": "3d1090d9-efe3-4367-9c11-d2a565a2355b",
   "metadata": {},
   "source": [
    "Учтены все ключевые факторы в запросе - ошибка асессора! "
   ]
  },
  {
   "cell_type": "code",
   "execution_count": 53,
   "id": "9c996d2f-bf06-4ae4-9da5-562f857534f0",
   "metadata": {},
   "outputs": [],
   "source": [
    "assessors_errors_consensus.append(int(agent3_consensus_error.loc[15]['permalink']))"
   ]
  },
  {
   "cell_type": "code",
   "execution_count": 54,
   "id": "f92aee73-8569-4a2f-9e07-c3b0a0ea6398",
   "metadata": {},
   "outputs": [
    {
     "data": {
      "text/html": [
       "\n",
       "<div style=\"border:1px solid #ccc; padding:16px; border-radius:10px;\n",
       "            font-family:sans-serif; background-color:#f9f9f9; margin-bottom:20px\">\n",
       "  <h2>📌 Index: 15</h2>\n",
       "  <p><strong>Запрос:</strong><br>отели керчи с бассейном</p>\n",
       "  <p><strong>Адрес:</strong><br>Республика Крым, Керчь, улица Галины Петровой, 37Г</p>\n",
       "  <p><strong>Название:</strong><br>Дельфиниум; Delfinium</p>\n",
       "  <p><strong>ID Организации:</strong><br>111032017890</p>\n",
       "  <p><strong>Рубрика:</strong><br>Гостевой дом</p>\n",
       "  <p><strong>Описание:</strong><br>Гостевой дом «Дельфиниум» предлагает различные варианты размещения в гостевых комнатах с удобствами и собственной кухней | 3-х местная гостевая с удобствами | 4-х местная гостевая с удобствами | 4-х и 5-ти местная 2-х комнатная гостевая с удобствами | 4-х местная гостевая с собственной кухней</p>\n",
       "  <p><strong>Истинная релевантность:</strong> 0.0</p>\n",
       "  <p><strong>Отзывы:</strong><br>Гостевой дом «Дельфиниум» предлагает проживание в номерах со всеми удобствами, расположен недалеко от моря и имеет собственную территорию с бассейном и столовой. Тональность отзывов преимущественно положительная, но есть и критика. Хвалят: близость к морю, чистоту номеров, приветливый персонал, вкусную еду. Критикуют: проблемы с Wi-Fi, состояние бассейна, необходимость улучшения уборки.\n",
       "\n",
       "| 1. Есть аспекты, требующие улучшения | 2. Всё понравилось, позитивный отзыв | 3. Всё отлично, позитивный отзыв | 4. Критикуется грязный бассейн | 5. Хвалят место для семейного отдыха и близость к пляжу | 6. Положительный отзыв о сервисе и близости к пляжу, рекомендация | 7. Отмечаются проблемы с Wi-Fi из-за большого количества подключённых пользователей | 8. Описание комнат и удобств, близость к пляжу и наличие бассейна для детей | 9. Хвалят отель, столовую и близость к пляжу | 10. Положительный отзыв об уюте, чистоте и вкусной кухне | 11. Критикуются проблемы с сантехникой и ограничениями по времени использования бассейна | 12. Положительный отзыв от постоянных гостей | 13. Хвалят хозяев, наличие столовой и близость к морю | 14. Положительный отзыв о семейном отдыхе и вкусной еде | 15. Смешанный отзыв о хорошем расположении и проблемах с уборкой номера | 16. Положительный отзыв о комфорте и удобствах | 17. Критикуется состояние горничных и чистота | 18. Положительный отзыв о бассейне и вкусной еде | 19. Хвалят персонал и комфортабельные номера | 20. Положительный отзыв о двухкомнатном номере и удобствах для детей | 21. Смешанный отзыв с акцентом на чистоту и удобства, но с критикой состояния бассейна и детской площадки | 22. Описание удобств и инфраструктуры, включая бассейн и столовую | 23. Положительный отзыв о десятилетнем опыте отдыха и вкусной кухне | 24. Положительный отзыв о приёме и удобстве | 25. Положительный отзыв о спокойствии и семейном отдыхе | 26. Положительный отзыв о повторном отдыхе и удобствах для детей | 27. Положительный отзыв о приветливом персонале и чистоте | 28. Положительный отзыв о расположении и вкусной еде | 29. Положительный отзыв о кухне, но с замечанием о персонале | 30. Описание простых номеров и удобства на территории | 31. Положительный отзыв постоянных гостей и вкусной еды | 32. Критика запаха канализации и качества воды | 33. Смешанный отзыв с упоминанием проблем с кондиционером и мутного бассейна | 34. Положительный отзыв о чистоте и удобствах, возможность самостоятельного приготовления пищи | 35. Положительный отзыв о комфорте и чистоте | 36. Положительный отзыв о чистых номерах и удобствах на территории | 37. Положительный отзыв о приятной хозяйке и расположении | 38. Положительный отзыв о близости к морю и возможности размещения большой семьи | 39. Положительный отзыв о доме отдыха и большой ухоженной территории | 40. Положительный отзыв о соотношении цены и качества, наличии парковки |</p>\n",
       "  <p><strong>Предсказание модели (pred_relevance):</strong><br>1.0</p>\n",
       "  \n",
       "        <details style=\"margin-top:10px;\">\n",
       "            <summary style=\"cursor:pointer;\"><strong>🧠 Agent log (раскрыть)</strong></summary>\n",
       "            <pre style=\"white-space:pre-wrap; background:#eee; padding:10px; border-radius:6px;\">\n",
       "{'need_search_decision': 'YES', 'search_prompt': '# llm_relevance_agent/agent/prompts/need_search_v2.txt\\n# Убран пункт ### Когда поиск не нужен (NO):\\\\n1. Рубрика явно соответствует или не соответствует запросу.\\n\\nОпредели, нужно ли искать дополнительную информацию об организации, чтобы достоверно определить её релевантность пользовательскому запросу.\\n\\nОтвет строго одним из двух вариантов:\\n- \"YES\" — если информации недостаточно для достоверной оценки.\\n- \"NO\" — если можно точно определить релевантность уже по имеющимся данным.\\n\\n### Когда нужен поиск (YES):\\n1. В запросе есть уточнения (время работы, конкретные услуги, цены, бренды).\\n2. Рубрика слишком общая, а запрос специфичный.\\n3. Неясно, предоставляет ли организация нужную услугу.\\n4. В запросе есть временные или географические ограничения.\\n\\n\\n### Когда поиск не нужен (NO):\\n1. Отзывы подтверждают ключевые требования из запроса — нужные услуги, условия или особенности.\\n2. Запрос общий, а информации достаточно.\\n\\n### Примеры:\\nПользовательский запрос: Шиномонтаж 24\\nОрганизация:\\nНазвание: Шиномонтаж\\nАдрес: Республика Калмыкия, Элиста, улица В.И. Ленина, 7, стр. 8А\\nРубрика: Шиномонтаж\\nОтзывы: Организация занимается шиномонтажом. Отзывы положительные: хвалят высокое качество работы.\\nОтвет: YES\\n\\nПользовательский запрос: где дешево поесть в санкт-петербурге 2017\\nОрганизация:\\nНазвание: Буше; Bushe; БУШЕ пекарня-кондитерская ООО\\nАдрес: Санкт-Петербург, Малая Морская улица, 7\\nРубрика: Пекарня\\nОтзывы: Организация занимается выпечкой и продажей кондитерских изделий, а также предлагает завтраки и другие блюда. Отзывы преимущественно положительные: хвалят вкус еды и напитков, атмосферу и обслуживание, но критикуют высокие цены и иногда медленную работу персонала. | 1. Критикуют состояние туалета. | 2. Отмечают, что кухня не работала. | 3. Хвалят заведение в общем. | 4. Считают цены высокими. | 5. Восхищаются круасанами.\\nОтвет: NO\\n\\n### Теперь оцени следующий пример:\\nПользовательский запрос: \"отели керчи с бассейном\"\\nОрганизация:\\nНазвание: Дельфиниум; Delfinium\\nАдрес: Республика Крым, Керчь, улица Галины Петровой, 37Г\\nРубрика: Гостевой дом\\nОтзывы: Гостевой дом «Дельфиниум» предлагает проживание в номерах со всеми удобствами, расположен недалеко от моря и имеет собственную территорию с бассейном и столовой. Тональность отзывов преимущественно положительная, но есть и критика. Хвалят: близость к морю, чистоту номеров, приветливый персонал, вкусную еду. Критикуют: проблемы с Wi-Fi, состояние бассейна, необходимость улучшения уборки.\\n\\n| 1. Есть аспекты, требующие улучшения | 2. Всё понравилось, позитивный отзыв | 3. Всё отлично, позитивный отзыв | 4. Критикуется грязный бассейн | 5. Хвалят место для семейного отдыха и близость к пляжу | 6. Положительный отзыв о сервисе и близости к пляжу, рекомендация | 7. Отмечаются проблемы с Wi-Fi из-за большого количества подключённых пользователей | 8. Описание комнат и удобств, близость к пляжу и наличие бассейна для детей | 9. Хвалят отель, столовую и близость к пляжу | 10. Положительный отзыв об уюте, чистоте и вкусной кухне | 11. Критикуются проблемы с сантехникой и ограничениями по времени использования бассейна | 12. Положительный отзыв от постоянных гостей | 13. Хвалят хозяев, наличие столовой и близость к морю | 14. Положительный отзыв о семейном отдыхе и вкусной еде | 15. Смешанный отзыв о хорошем расположении и проблемах с уборкой номера | 16. Положительный отзыв о комфорте и удобствах | 17. Критикуется состояние горничных и чистота | 18. Положительный отзыв о бассейне и вкусной еде | 19. Хвалят персонал и комфортабельные номера | 20. Положительный отзыв о двухкомнатном номере и удобствах для детей | 21. Смешанный отзыв с акцентом на чистоту и удобства, но с критикой состояния бассейна и детской площадки | 22. Описание удобств и инфраструктуры, включая бассейн и столовую | 23. Положительный отзыв о десятилетнем опыте отдыха и вкусной кухне | 24. Положительный отзыв о приёме и удобстве | 25. Положительный отзыв о спокойствии и семейном отдыхе | 26. Положительный отзыв о повторном отдыхе и удобствах для детей | 27. Положительный отзыв о приветливом персонале и чистоте | 28. Положительный отзыв о расположении и вкусной еде | 29. Положительный отзыв о кухне, но с замечанием о персонале | 30. Описание простых номеров и удобства на территории | 31. Положительный отзыв постоянных гостей и вкусной еды | 32. Критика запаха канализации и качества воды | 33. Смешанный отзыв с упоминанием проблем с кондиционером и мутного бассейна | 34. Положительный отзыв о чистоте и удобствах, возможность самостоятельного приготовления пищи | 35. Положительный отзыв о комфорте и чистоте | 36. Положительный отзыв о чистых номерах и удобствах на территории | 37. Положительный отзыв о приятной хозяйке и расположении | 38. Положительный отзыв о близости к морю и возможности размещения большой семьи | 39. Положительный отзыв о доме отдыха и большой ухоженной территории | 40. Положительный отзыв о соотношении цены и качества, наличии парковки |\\nОтвет:', 'search_query': 'Дельфиниум Гостевой дом Республика Крым, Керчь, улица Галины Петровой, 37Г отели керчи с бассейном', 'search_results': 'Для гостей виллы «Дельфиниум» в Керчи на территории оборудован просторный открытый бассейн с удобным входом в воду. Вы сможете поплавать в любое удобное время,\\n\\nНа территории есть бассейн, до песчаного пляжа всего пара минут пешей прогулки. Работает свое кафе с возможностью организации платного комплексного питания. По\\n\\n\"Дельфиниум\" предлагает комфортабельные комнаты в наем и расположен в окрестностях Керчи, в поселке Героевское (Героевка), в 120 метрах от моря, там,', 'classification_prompt': '# llm_relevance_agent/agent/prompts/classify_v2.txt\\n# Пункт 4 изменен\\n\\nТы — интеллектуальная система, которая определяет, насколько организация соответствует пользовательскому запросу.\\nОтветь строго одним из двух вариантов: \"RELEVANT_PLUS\" или \"IRRELEVANT\".\\n\\n### Правила оценки:\\n1. RELEVANT_PLUS — если организация явно удовлетворяет запросу.  \\n2. IRRELEVANT — если соответствия нет.  \\n3. В первую очередь анализируй пользовательский запрос и поля \"Рубрика\" и \"Адрес\".  \\n4. Используй отзывы и дополнительную информацию (поле \"Дополнительная информация\"), особенно если они содержат уникальные признаки, указанные в запросе.\\n5. Если в запросе указана **часть адреса** (например, улица, район или город), обязательно сверяй её с адресом организации. Несовпадение = IRRELEVANT.   \\n6. Если в запросе указан **конкретный номер отделения, филиала, школы, офиса и т.п.**, обязательно сверяй его с номером в названии организации. Несовпадение = IRRELEVANT.\\n7. Если в запросе указана **конкретная станция метро**, считай организацию RELEVANT_PLUS только если в адресе или описании явно указана та же станция метро или подтверждена близость к ней. При несоответствии — IRRELEVANT.\\n\\n### Примеры:\\nПользовательский запрос: шугаринг Красноярск  \\nОрганизация:  \\nНазвание: Студия красоты Дарлинг  \\nАдрес: Красноярск, микрорайон Взлётка, улица Весны, 3  \\nРубрика: Салон красоты  \\nОтзывы: Студия красоты «Дарлинг» предоставляет бьюти-услуги и продаёт парфюмерию и косметику.  \\nДополнительная информация: Предоставляет услуги шугаринга, депиляции, маникюра. Работает ежедневно с 9:00 до 21:00. Ответ: RELEVANT_PLUS\\n\\nПользовательский запрос: Шашлычная  \\nОрганизация:  \\nНазвание: Яндекс Лавка  \\nАдрес: Москва, улица Адмирала Макарова, 23, корп. 2  \\nРубрика: Доставка продуктов  \\nОтзывы: Организация занимается доставкой продуктов и еды, работает в формате даркстора.  \\nДополнительная информация: Сервис доставки продуктов на дом, работает через мобильное приложение.  \\nОтвет: IRRELEVANT\\n\\nПользовательский запрос: Отдел полиции № 7 \\nОрганизация:  \\nНазвание: Отдел полиции № 6 УМВД России по городу Уфе  \\nАдрес: Республика Башкортостан, Уфа, улица Лесотехникума, 92/2  \\nРубрика: Отделение полиции \\nОтзывы: Организация занимается обеспечением правопорядка и оказанием соответствующих услуг населению. Тональность отзывов смешанная: есть как положительные, так и отрицательные.  \\nДополнительная информация:   \\nОтвет: IRRELEVANT\\n\\n### Теперь оцени следующий пример:\\nПользовательский запрос: \"отели керчи с бассейном\"  \\nОрганизация:  \\nНазвание: Дельфиниум; Delfinium  \\nАдрес: Республика Крым, Керчь, улица Галины Петровой, 37Г  \\nРубрика: Гостевой дом  \\nОтзывы: Гостевой дом «Дельфиниум» предлагает проживание в номерах со всеми удобствами, расположен недалеко от моря и имеет собственную территорию с бассейном и столовой. Тональность отзывов преимущественно положительная, но есть и критика. Хвалят: близость к морю, чистоту номеров, приветливый персонал, вкусную еду. Критикуют: проблемы с Wi-Fi, состояние бассейна, необходимость улучшения уборки.\\n\\n| 1. Есть аспекты, требующие улучшения | 2. Всё понравилось, позитивный отзыв | 3. Всё отлично, позитивный отзыв | 4. Критикуется грязный бассейн | 5. Хвалят место для семейного отдыха и близость к пляжу | 6. Положительный отзыв о сервисе и близости к пляжу, рекомендация | 7. Отмечаются проблемы с Wi-Fi из-за большого количества подключённых пользователей | 8. Описание комнат и удобств, близость к пляжу и наличие бассейна для детей | 9. Хвалят отель, столовую и близость к пляжу | 10. Положительный отзыв об уюте, чистоте и вкусной кухне | 11. Критикуются проблемы с сантехникой и ограничениями по времени использования бассейна | 12. Положительный отзыв от постоянных гостей | 13. Хвалят хозяев, наличие столовой и близость к морю | 14. Положительный отзыв о семейном отдыхе и вкусной еде | 15. Смешанный отзыв о хорошем расположении и проблемах с уборкой номера | 16. Положительный отзыв о комфорте и удобствах | 17. Критикуется состояние горничных и чистота | 18. Положительный отзыв о бассейне и вкусной еде | 19. Хвалят персонал и комфортабельные номера | 20. Положительный отзыв о двухкомнатном номере и удобствах для детей | 21. Смешанный отзыв с акцентом на чистоту и удобства, но с критикой состояния бассейна и детской площадки | 22. Описание удобств и инфраструктуры, включая бассейн и столовую | 23. Положительный отзыв о десятилетнем опыте отдыха и вкусной кухне | 24. Положительный отзыв о приёме и удобстве | 25. Положительный отзыв о спокойствии и семейном отдыхе | 26. Положительный отзыв о повторном отдыхе и удобствах для детей | 27. Положительный отзыв о приветливом персонале и чистоте | 28. Положительный отзыв о расположении и вкусной еде | 29. Положительный отзыв о кухне, но с замечанием о персонале | 30. Описание простых номеров и удобства на территории | 31. Положительный отзыв постоянных гостей и вкусной еды | 32. Критика запаха канализации и качества воды | 33. Смешанный отзыв с упоминанием проблем с кондиционером и мутного бассейна | 34. Положительный отзыв о чистоте и удобствах, возможность самостоятельного приготовления пищи | 35. Положительный отзыв о комфорте и чистоте | 36. Положительный отзыв о чистых номерах и удобствах на территории | 37. Положительный отзыв о приятной хозяйке и расположении | 38. Положительный отзыв о близости к морю и возможности размещения большой семьи | 39. Положительный отзыв о доме отдыха и большой ухоженной территории | 40. Положительный отзыв о соотношении цены и качества, наличии парковки |  \\nДополнительная информация: Для гостей виллы «Дельфиниум» в Керчи на территории оборудован просторный открытый бассейн с удобным входом в воду. Вы сможете поплавать в любое удобное время,\\n\\nНа территории есть бассейн, до песчаного пляжа всего пара минут пешей прогулки. Работает свое кафе с возможностью организации платного комплексного питания. По\\n\\n\"Дельфиниум\" предлагает комфортабельные комнаты в наем и расположен в окрестностях Керчи, в поселке Героевское (Героевка), в 120 метрах от моря, там,  \\nОтвет:\"\"\"\\n\\n\\n', 'classification_response': 'RELEVANT_PLUS'}\n",
       "            </pre>\n",
       "        </details>\n",
       "        \n",
       "</div>\n"
      ],
      "text/plain": [
       "<IPython.core.display.HTML object>"
      ]
     },
     "metadata": {},
     "output_type": "display_data"
    }
   ],
   "source": [
    "inspect_row(agent3_consensus_error, idx=15)"
   ]
  },
  {
   "cell_type": "markdown",
   "id": "8994f789-8850-4009-9f63-f5be598af9a0",
   "metadata": {},
   "source": [
    "Спорный вопрос: это нужно сверять цены. Всё же релевантность какая-то есть: всякие отзывы есть. "
   ]
  },
  {
   "cell_type": "code",
   "execution_count": 55,
   "id": "fa0a80ad-23c8-4a00-ba69-11a9e6046413",
   "metadata": {},
   "outputs": [],
   "source": [
    "model_consensus_errors.append(int(agent3_consensus_error.loc[16]['permalink']))"
   ]
  },
  {
   "cell_type": "code",
   "execution_count": 56,
   "id": "0dc2e30c-97f4-4d14-af00-930cae5473d0",
   "metadata": {},
   "outputs": [
    {
     "data": {
      "text/html": [
       "\n",
       "<div style=\"border:1px solid #ccc; padding:16px; border-radius:10px;\n",
       "            font-family:sans-serif; background-color:#f9f9f9; margin-bottom:20px\">\n",
       "  <h2>📌 Index: 16</h2>\n",
       "  <p><strong>Запрос:</strong><br>уфа покушать вкусно и недорого</p>\n",
       "  <p><strong>Адрес:</strong><br>Республика Башкортостан, Уфа, улица Аксакова, 7</p>\n",
       "  <p><strong>Название:</strong><br>Баракат; Barakat</p>\n",
       "  <p><strong>ID Организации:</strong><br>178466274277</p>\n",
       "  <p><strong>Рубрика:</strong><br>Кафе</p>\n",
       "  <p><strong>Описание:</strong><br>—</p>\n",
       "  <p><strong>Истинная релевантность:</strong> 0.0</p>\n",
       "  <p><strong>Отзывы:</strong><br>Организация «Баракат» занимается обслуживанием посетителей в формате кафе или столовой, предлагая блюда халяль. Отзывы в основном положительные: хвалят вкусную еду, доступные цены и уютную атмосферу. Критикуют высокие цены, небольшие порции и иногда качество обслуживания.\n",
       "\n",
       "1. Только положительные впечатления.\n",
       "2. Вкусно.\n",
       "3. Отмечают высокие цены.\n",
       "4. Соотношение цены и качества вызывает вопросы.\n",
       "5. Еда не понравилась.\n",
       "6. Всё очень вкусно.\n",
       "7. Вкусная еда, хвалят сотрудников.\n",
       "8. Очень вкусно.\n",
       "9. Вкусная и недорогая еда.\n",
       "10. Вкусно.\n",
       "11. Наличие бесплатного Wi-Fi.\n",
       "12. Еда не вкусная.\n",
       "13. Еда безвкусная, но уютный зал.\n",
       "14. Вкусно и большой выбор.\n",
       "15. Блюда быстро остывают.\n",
       "16. Нет парковки, но в целом нормально.\n",
       "17. Однообразная еда.\n",
       "18. Цены повысились.\n",
       "19. Тесно, но съедобно.\n",
       "20. Вкусно кормят.\n",
       "21. Быстро и вкусно.\n",
       "22. Большой выбор, но нет салфеток, соли и перца на столах.\n",
       "23. Уютно, вкусно, доступно.\n",
       "24. Шикарное место.\n",
       "25. Хорошее место.\n",
       "26. Не рекомендуют из-за невкусной еды и грубого персонала.\n",
       "27. Вкусно, довольны.\n",
       "28. Прекрасное место.\n",
       "29. Хорошее кафе с вкусной едой по адекватной цене.\n",
       "30. Нравится наличие продуктов халяль.</p>\n",
       "  <p><strong>Предсказание модели (pred_relevance):</strong><br>1.0</p>\n",
       "  \n",
       "        <details style=\"margin-top:10px;\">\n",
       "            <summary style=\"cursor:pointer;\"><strong>🧠 Agent log (раскрыть)</strong></summary>\n",
       "            <pre style=\"white-space:pre-wrap; background:#eee; padding:10px; border-radius:6px;\">\n",
       "{'need_search_decision': 'NO', 'search_prompt': '# llm_relevance_agent/agent/prompts/need_search_v2.txt\\n# Убран пункт ### Когда поиск не нужен (NO):\\\\n1. Рубрика явно соответствует или не соответствует запросу.\\n\\nОпредели, нужно ли искать дополнительную информацию об организации, чтобы достоверно определить её релевантность пользовательскому запросу.\\n\\nОтвет строго одним из двух вариантов:\\n- \"YES\" — если информации недостаточно для достоверной оценки.\\n- \"NO\" — если можно точно определить релевантность уже по имеющимся данным.\\n\\n### Когда нужен поиск (YES):\\n1. В запросе есть уточнения (время работы, конкретные услуги, цены, бренды).\\n2. Рубрика слишком общая, а запрос специфичный.\\n3. Неясно, предоставляет ли организация нужную услугу.\\n4. В запросе есть временные или географические ограничения.\\n\\n\\n### Когда поиск не нужен (NO):\\n1. Отзывы подтверждают ключевые требования из запроса — нужные услуги, условия или особенности.\\n2. Запрос общий, а информации достаточно.\\n\\n### Примеры:\\nПользовательский запрос: Шиномонтаж 24\\nОрганизация:\\nНазвание: Шиномонтаж\\nАдрес: Республика Калмыкия, Элиста, улица В.И. Ленина, 7, стр. 8А\\nРубрика: Шиномонтаж\\nОтзывы: Организация занимается шиномонтажом. Отзывы положительные: хвалят высокое качество работы.\\nОтвет: YES\\n\\nПользовательский запрос: где дешево поесть в санкт-петербурге 2017\\nОрганизация:\\nНазвание: Буше; Bushe; БУШЕ пекарня-кондитерская ООО\\nАдрес: Санкт-Петербург, Малая Морская улица, 7\\nРубрика: Пекарня\\nОтзывы: Организация занимается выпечкой и продажей кондитерских изделий, а также предлагает завтраки и другие блюда. Отзывы преимущественно положительные: хвалят вкус еды и напитков, атмосферу и обслуживание, но критикуют высокие цены и иногда медленную работу персонала. | 1. Критикуют состояние туалета. | 2. Отмечают, что кухня не работала. | 3. Хвалят заведение в общем. | 4. Считают цены высокими. | 5. Восхищаются круасанами.\\nОтвет: NO\\n\\n### Теперь оцени следующий пример:\\nПользовательский запрос: \"уфа покушать вкусно и недорого\"\\nОрганизация:\\nНазвание: Баракат; Barakat\\nАдрес: Республика Башкортостан, Уфа, улица Аксакова, 7\\nРубрика: Кафе\\nОтзывы: Организация «Баракат» занимается обслуживанием посетителей в формате кафе или столовой, предлагая блюда халяль. Отзывы в основном положительные: хвалят вкусную еду, доступные цены и уютную атмосферу. Критикуют высокие цены, небольшие порции и иногда качество обслуживания.\\n\\n1. Только положительные впечатления.\\n2. Вкусно.\\n3. Отмечают высокие цены.\\n4. Соотношение цены и качества вызывает вопросы.\\n5. Еда не понравилась.\\n6. Всё очень вкусно.\\n7. Вкусная еда, хвалят сотрудников.\\n8. Очень вкусно.\\n9. Вкусная и недорогая еда.\\n10. Вкусно.\\n11. Наличие бесплатного Wi-Fi.\\n12. Еда не вкусная.\\n13. Еда безвкусная, но уютный зал.\\n14. Вкусно и большой выбор.\\n15. Блюда быстро остывают.\\n16. Нет парковки, но в целом нормально.\\n17. Однообразная еда.\\n18. Цены повысились.\\n19. Тесно, но съедобно.\\n20. Вкусно кормят.\\n21. Быстро и вкусно.\\n22. Большой выбор, но нет салфеток, соли и перца на столах.\\n23. Уютно, вкусно, доступно.\\n24. Шикарное место.\\n25. Хорошее место.\\n26. Не рекомендуют из-за невкусной еды и грубого персонала.\\n27. Вкусно, довольны.\\n28. Прекрасное место.\\n29. Хорошее кафе с вкусной едой по адекватной цене.\\n30. Нравится наличие продуктов халяль.\\nОтвет:', 'classification_prompt': '# llm_relevance_agent/agent/prompts/classify_v2.txt\\n# Пункт 4 изменен\\n\\nТы — интеллектуальная система, которая определяет, насколько организация соответствует пользовательскому запросу.\\nОтветь строго одним из двух вариантов: \"RELEVANT_PLUS\" или \"IRRELEVANT\".\\n\\n### Правила оценки:\\n1. RELEVANT_PLUS — если организация явно удовлетворяет запросу.  \\n2. IRRELEVANT — если соответствия нет.  \\n3. В первую очередь анализируй пользовательский запрос и поля \"Рубрика\" и \"Адрес\".  \\n4. Используй отзывы и дополнительную информацию (поле \"Дополнительная информация\"), особенно если они содержат уникальные признаки, указанные в запросе.\\n5. Если в запросе указана **часть адреса** (например, улица, район или город), обязательно сверяй её с адресом организации. Несовпадение = IRRELEVANT.   \\n6. Если в запросе указан **конкретный номер отделения, филиала, школы, офиса и т.п.**, обязательно сверяй его с номером в названии организации. Несовпадение = IRRELEVANT.\\n7. Если в запросе указана **конкретная станция метро**, считай организацию RELEVANT_PLUS только если в адресе или описании явно указана та же станция метро или подтверждена близость к ней. При несоответствии — IRRELEVANT.\\n\\n### Примеры:\\nПользовательский запрос: шугаринг Красноярск  \\nОрганизация:  \\nНазвание: Студия красоты Дарлинг  \\nАдрес: Красноярск, микрорайон Взлётка, улица Весны, 3  \\nРубрика: Салон красоты  \\nОтзывы: Студия красоты «Дарлинг» предоставляет бьюти-услуги и продаёт парфюмерию и косметику.  \\nДополнительная информация: Предоставляет услуги шугаринга, депиляции, маникюра. Работает ежедневно с 9:00 до 21:00. Ответ: RELEVANT_PLUS\\n\\nПользовательский запрос: Шашлычная  \\nОрганизация:  \\nНазвание: Яндекс Лавка  \\nАдрес: Москва, улица Адмирала Макарова, 23, корп. 2  \\nРубрика: Доставка продуктов  \\nОтзывы: Организация занимается доставкой продуктов и еды, работает в формате даркстора.  \\nДополнительная информация: Сервис доставки продуктов на дом, работает через мобильное приложение.  \\nОтвет: IRRELEVANT\\n\\nПользовательский запрос: Отдел полиции № 7 \\nОрганизация:  \\nНазвание: Отдел полиции № 6 УМВД России по городу Уфе  \\nАдрес: Республика Башкортостан, Уфа, улица Лесотехникума, 92/2  \\nРубрика: Отделение полиции \\nОтзывы: Организация занимается обеспечением правопорядка и оказанием соответствующих услуг населению. Тональность отзывов смешанная: есть как положительные, так и отрицательные.  \\nДополнительная информация:   \\nОтвет: IRRELEVANT\\n\\n### Теперь оцени следующий пример:\\nПользовательский запрос: \"уфа покушать вкусно и недорого\"  \\nОрганизация:  \\nНазвание: Баракат; Barakat  \\nАдрес: Республика Башкортостан, Уфа, улица Аксакова, 7  \\nРубрика: Кафе  \\nОтзывы: Организация «Баракат» занимается обслуживанием посетителей в формате кафе или столовой, предлагая блюда халяль. Отзывы в основном положительные: хвалят вкусную еду, доступные цены и уютную атмосферу. Критикуют высокие цены, небольшие порции и иногда качество обслуживания.\\n\\n1. Только положительные впечатления.\\n2. Вкусно.\\n3. Отмечают высокие цены.\\n4. Соотношение цены и качества вызывает вопросы.\\n5. Еда не понравилась.\\n6. Всё очень вкусно.\\n7. Вкусная еда, хвалят сотрудников.\\n8. Очень вкусно.\\n9. Вкусная и недорогая еда.\\n10. Вкусно.\\n11. Наличие бесплатного Wi-Fi.\\n12. Еда не вкусная.\\n13. Еда безвкусная, но уютный зал.\\n14. Вкусно и большой выбор.\\n15. Блюда быстро остывают.\\n16. Нет парковки, но в целом нормально.\\n17. Однообразная еда.\\n18. Цены повысились.\\n19. Тесно, но съедобно.\\n20. Вкусно кормят.\\n21. Быстро и вкусно.\\n22. Большой выбор, но нет салфеток, соли и перца на столах.\\n23. Уютно, вкусно, доступно.\\n24. Шикарное место.\\n25. Хорошее место.\\n26. Не рекомендуют из-за невкусной еды и грубого персонала.\\n27. Вкусно, довольны.\\n28. Прекрасное место.\\n29. Хорошее кафе с вкусной едой по адекватной цене.\\n30. Нравится наличие продуктов халяль.  \\nДополнительная информация: —  \\nОтвет:\"\"\"\\n\\n\\n', 'classification_response': 'RELEVANT_PLUS'}\n",
       "            </pre>\n",
       "        </details>\n",
       "        \n",
       "</div>\n"
      ],
      "text/plain": [
       "<IPython.core.display.HTML object>"
      ]
     },
     "metadata": {},
     "output_type": "display_data"
    }
   ],
   "source": [
    "inspect_row(agent3_consensus_error, idx=16)"
   ]
  },
  {
   "cell_type": "markdown",
   "id": "5847a3fa-f6d0-4081-a5f2-6356bac0f8b4",
   "metadata": {},
   "source": [
    "Сложно решить"
   ]
  },
  {
   "cell_type": "code",
   "execution_count": 57,
   "id": "1e2b45e0-974d-4daf-8488-4c656d2df58c",
   "metadata": {},
   "outputs": [],
   "source": [
    "model_consensus_errors.append(int(agent3_consensus_error.loc[17]['permalink']))"
   ]
  },
  {
   "cell_type": "code",
   "execution_count": 58,
   "id": "4e730184-ba3d-48d6-87e7-924a98b3a11b",
   "metadata": {},
   "outputs": [
    {
     "data": {
      "text/html": [
       "\n",
       "<div style=\"border:1px solid #ccc; padding:16px; border-radius:10px;\n",
       "            font-family:sans-serif; background-color:#f9f9f9; margin-bottom:20px\">\n",
       "  <h2>📌 Index: 17</h2>\n",
       "  <p><strong>Запрос:</strong><br>хорошая еда москва доставка</p>\n",
       "  <p><strong>Адрес:</strong><br>Москва, Цветной бульвар, 13</p>\n",
       "  <p><strong>Название:</strong><br>Бургер Кинг; Burger King; Бургер Кинг. Логист; Бургер рус; ООО Бургер рус; Ресторан быстрого питания Burger King; Ресторан быстрого питания Бургер Кинг</p>\n",
       "  <p><strong>ID Организации:</strong><br>1267136846</p>\n",
       "  <p><strong>Рубрика:</strong><br>Быстрое питание</p>\n",
       "  <p><strong>Описание:</strong><br>Бургер Кинг предлагает широкий ассортимент блюд быстрого питания, включая бургеры, роллы, картофель фри, а также десерты и напитки | Воппер | Острый Воппер | Гамбургер | Чизбургер | Фиш Бургер | Цезарь Кинг | Кинг Фри | Картофель Деревенский | Пирожок с вишней | Ванильный Латте | Клубничный Шейк | Горячий Брауни</p>\n",
       "  <p><strong>Истинная релевантность:</strong> 0.0</p>\n",
       "  <p><strong>Отзывы:</strong><br>Бургер Кинг — сеть быстрого питания с смешанными отзывами. Пользователи хвалят чистоту, быстрое обслуживание и вкус еды, но критикуют санитарные условия, персонал и качество некоторых блюд. | 1. Положительное мнение без деталей | 2. Хвалят чистоту, скорость обслуживания и наличие Wi-Fi | 3. Критикуют состояние помещения, требуется ремонт | 4. Общее удовлетворение без подробностей | 5. Положительное впечатление без конкретики | 6. Жалоба на неправильное блюдо | 7. Хвалят туалет | 8. Критикуют грязь | 9. Жалуются на плохую санитарию и грубого охранника | 10. Хвалят скорость, вкус и вежливость персонала | 11. Жалоба на замену подарка в детском меню | 12. Положительное мнение о персонале | 13. Хвалят расположение заведения | 14. Критикуют неработающие розетки | 15. Считают заведение лучшим | 16. Жалуются на тёплое пиво и сухую котлету | 17. Критикуют подачу холодной еды | 18. Положительное мнение без подробностей | 19. Хвалят вкус | 20. Критикуют кофе | 21. Хвалят быстрое приготовление | 22. Положительное мнение о вкусе | 23. Хвалят чистоту и уют | 24. Критикуют отсутствие кондиционеров | 25. Хвалят бургеры | 26. Общее положительное мнение | 27. Жалуются на толпу и долгое ожидание | 28. Нейтральное мнение с небольшой критикой | 29. Хвалят чистоту, вкус и быстрое обслуживание | 30. Критикуют грязь и странные ситуации в заведении | 31. Жалуются на отсутствие робуксов | 32. Хвалят вкусные бургеры | 33. Критикуют холодные булки и изжогу | 34. Необычная критика меню | 35. Жалуются на персонал и вкусовые качества | 36. Положительное мнение | 37. Критика персонала и порций | 38. Хвалят скорость | 39. Критикуют мух в зале | 40. Общее положительное мнение</p>\n",
       "  <p><strong>Предсказание модели (pred_relevance):</strong><br>1.0</p>\n",
       "  \n",
       "        <details style=\"margin-top:10px;\">\n",
       "            <summary style=\"cursor:pointer;\"><strong>🧠 Agent log (раскрыть)</strong></summary>\n",
       "            <pre style=\"white-space:pre-wrap; background:#eee; padding:10px; border-radius:6px;\">\n",
       "{'need_search_decision': 'YES', 'search_prompt': '# llm_relevance_agent/agent/prompts/need_search_v2.txt\\n# Убран пункт ### Когда поиск не нужен (NO):\\\\n1. Рубрика явно соответствует или не соответствует запросу.\\n\\nОпредели, нужно ли искать дополнительную информацию об организации, чтобы достоверно определить её релевантность пользовательскому запросу.\\n\\nОтвет строго одним из двух вариантов:\\n- \"YES\" — если информации недостаточно для достоверной оценки.\\n- \"NO\" — если можно точно определить релевантность уже по имеющимся данным.\\n\\n### Когда нужен поиск (YES):\\n1. В запросе есть уточнения (время работы, конкретные услуги, цены, бренды).\\n2. Рубрика слишком общая, а запрос специфичный.\\n3. Неясно, предоставляет ли организация нужную услугу.\\n4. В запросе есть временные или географические ограничения.\\n\\n\\n### Когда поиск не нужен (NO):\\n1. Отзывы подтверждают ключевые требования из запроса — нужные услуги, условия или особенности.\\n2. Запрос общий, а информации достаточно.\\n\\n### Примеры:\\nПользовательский запрос: Шиномонтаж 24\\nОрганизация:\\nНазвание: Шиномонтаж\\nАдрес: Республика Калмыкия, Элиста, улица В.И. Ленина, 7, стр. 8А\\nРубрика: Шиномонтаж\\nОтзывы: Организация занимается шиномонтажом. Отзывы положительные: хвалят высокое качество работы.\\nОтвет: YES\\n\\nПользовательский запрос: где дешево поесть в санкт-петербурге 2017\\nОрганизация:\\nНазвание: Буше; Bushe; БУШЕ пекарня-кондитерская ООО\\nАдрес: Санкт-Петербург, Малая Морская улица, 7\\nРубрика: Пекарня\\nОтзывы: Организация занимается выпечкой и продажей кондитерских изделий, а также предлагает завтраки и другие блюда. Отзывы преимущественно положительные: хвалят вкус еды и напитков, атмосферу и обслуживание, но критикуют высокие цены и иногда медленную работу персонала. | 1. Критикуют состояние туалета. | 2. Отмечают, что кухня не работала. | 3. Хвалят заведение в общем. | 4. Считают цены высокими. | 5. Восхищаются круасанами.\\nОтвет: NO\\n\\n### Теперь оцени следующий пример:\\nПользовательский запрос: \"хорошая еда москва доставка\"\\nОрганизация:\\nНазвание: Бургер Кинг; Burger King; Бургер Кинг. Логист; Бургер рус; ООО Бургер рус; Ресторан быстрого питания Burger King; Ресторан быстрого питания Бургер Кинг\\nАдрес: Москва, Цветной бульвар, 13\\nРубрика: Быстрое питание\\nОтзывы: Бургер Кинг — сеть быстрого питания с смешанными отзывами. Пользователи хвалят чистоту, быстрое обслуживание и вкус еды, но критикуют санитарные условия, персонал и качество некоторых блюд. | 1. Положительное мнение без деталей | 2. Хвалят чистоту, скорость обслуживания и наличие Wi-Fi | 3. Критикуют состояние помещения, требуется ремонт | 4. Общее удовлетворение без подробностей | 5. Положительное впечатление без конкретики | 6. Жалоба на неправильное блюдо | 7. Хвалят туалет | 8. Критикуют грязь | 9. Жалуются на плохую санитарию и грубого охранника | 10. Хвалят скорость, вкус и вежливость персонала | 11. Жалоба на замену подарка в детском меню | 12. Положительное мнение о персонале | 13. Хвалят расположение заведения | 14. Критикуют неработающие розетки | 15. Считают заведение лучшим | 16. Жалуются на тёплое пиво и сухую котлету | 17. Критикуют подачу холодной еды | 18. Положительное мнение без подробностей | 19. Хвалят вкус | 20. Критикуют кофе | 21. Хвалят быстрое приготовление | 22. Положительное мнение о вкусе | 23. Хвалят чистоту и уют | 24. Критикуют отсутствие кондиционеров | 25. Хвалят бургеры | 26. Общее положительное мнение | 27. Жалуются на толпу и долгое ожидание | 28. Нейтральное мнение с небольшой критикой | 29. Хвалят чистоту, вкус и быстрое обслуживание | 30. Критикуют грязь и странные ситуации в заведении | 31. Жалуются на отсутствие робуксов | 32. Хвалят вкусные бургеры | 33. Критикуют холодные булки и изжогу | 34. Необычная критика меню | 35. Жалуются на персонал и вкусовые качества | 36. Положительное мнение | 37. Критика персонала и порций | 38. Хвалят скорость | 39. Критикуют мух в зале | 40. Общее положительное мнение\\nОтвет:', 'search_query': 'Бургер Кинг Быстрое питание Москва, Цветной бульвар, 13 хорошая еда москва доставка', 'search_results': 'Быстрое питание «Бургер Кинг» по адресу Москва, Цветной бульвар, 13, метро «Цветной бульвар» — заказать, ☎️ +7 495 544 50 00 ... Доставка еды. Кофе с собой.\\n\\nВитрина ; Воппер. 289,99 р. ; Цезарь Ролл со стрипсами. 269,99 р. ; Наггетсы. 119,99 р. ; Кинг Фри стандартный. 109,99 р. ; Ангус Пармеджано. 439,99 р.\\n\\nОгненное Воппер Комбо на двоих. 1 004.99 ₽ ; Перекусить комбо Малое. 309.99 ₽ ; Перекусить комбо Стандартное. 339.99 ₽ ; Перекусить комбо Большое. 389.99 ₽.', 'classification_prompt': '# llm_relevance_agent/agent/prompts/classify_v2.txt\\n# Пункт 4 изменен\\n\\nТы — интеллектуальная система, которая определяет, насколько организация соответствует пользовательскому запросу.\\nОтветь строго одним из двух вариантов: \"RELEVANT_PLUS\" или \"IRRELEVANT\".\\n\\n### Правила оценки:\\n1. RELEVANT_PLUS — если организация явно удовлетворяет запросу.  \\n2. IRRELEVANT — если соответствия нет.  \\n3. В первую очередь анализируй пользовательский запрос и поля \"Рубрика\" и \"Адрес\".  \\n4. Используй отзывы и дополнительную информацию (поле \"Дополнительная информация\"), особенно если они содержат уникальные признаки, указанные в запросе.\\n5. Если в запросе указана **часть адреса** (например, улица, район или город), обязательно сверяй её с адресом организации. Несовпадение = IRRELEVANT.   \\n6. Если в запросе указан **конкретный номер отделения, филиала, школы, офиса и т.п.**, обязательно сверяй его с номером в названии организации. Несовпадение = IRRELEVANT.\\n7. Если в запросе указана **конкретная станция метро**, считай организацию RELEVANT_PLUS только если в адресе или описании явно указана та же станция метро или подтверждена близость к ней. При несоответствии — IRRELEVANT.\\n\\n### Примеры:\\nПользовательский запрос: шугаринг Красноярск  \\nОрганизация:  \\nНазвание: Студия красоты Дарлинг  \\nАдрес: Красноярск, микрорайон Взлётка, улица Весны, 3  \\nРубрика: Салон красоты  \\nОтзывы: Студия красоты «Дарлинг» предоставляет бьюти-услуги и продаёт парфюмерию и косметику.  \\nДополнительная информация: Предоставляет услуги шугаринга, депиляции, маникюра. Работает ежедневно с 9:00 до 21:00. Ответ: RELEVANT_PLUS\\n\\nПользовательский запрос: Шашлычная  \\nОрганизация:  \\nНазвание: Яндекс Лавка  \\nАдрес: Москва, улица Адмирала Макарова, 23, корп. 2  \\nРубрика: Доставка продуктов  \\nОтзывы: Организация занимается доставкой продуктов и еды, работает в формате даркстора.  \\nДополнительная информация: Сервис доставки продуктов на дом, работает через мобильное приложение.  \\nОтвет: IRRELEVANT\\n\\nПользовательский запрос: Отдел полиции № 7 \\nОрганизация:  \\nНазвание: Отдел полиции № 6 УМВД России по городу Уфе  \\nАдрес: Республика Башкортостан, Уфа, улица Лесотехникума, 92/2  \\nРубрика: Отделение полиции \\nОтзывы: Организация занимается обеспечением правопорядка и оказанием соответствующих услуг населению. Тональность отзывов смешанная: есть как положительные, так и отрицательные.  \\nДополнительная информация:   \\nОтвет: IRRELEVANT\\n\\n### Теперь оцени следующий пример:\\nПользовательский запрос: \"хорошая еда москва доставка\"  \\nОрганизация:  \\nНазвание: Бургер Кинг; Burger King; Бургер Кинг. Логист; Бургер рус; ООО Бургер рус; Ресторан быстрого питания Burger King; Ресторан быстрого питания Бургер Кинг  \\nАдрес: Москва, Цветной бульвар, 13  \\nРубрика: Быстрое питание  \\nОтзывы: Бургер Кинг — сеть быстрого питания с смешанными отзывами. Пользователи хвалят чистоту, быстрое обслуживание и вкус еды, но критикуют санитарные условия, персонал и качество некоторых блюд. | 1. Положительное мнение без деталей | 2. Хвалят чистоту, скорость обслуживания и наличие Wi-Fi | 3. Критикуют состояние помещения, требуется ремонт | 4. Общее удовлетворение без подробностей | 5. Положительное впечатление без конкретики | 6. Жалоба на неправильное блюдо | 7. Хвалят туалет | 8. Критикуют грязь | 9. Жалуются на плохую санитарию и грубого охранника | 10. Хвалят скорость, вкус и вежливость персонала | 11. Жалоба на замену подарка в детском меню | 12. Положительное мнение о персонале | 13. Хвалят расположение заведения | 14. Критикуют неработающие розетки | 15. Считают заведение лучшим | 16. Жалуются на тёплое пиво и сухую котлету | 17. Критикуют подачу холодной еды | 18. Положительное мнение без подробностей | 19. Хвалят вкус | 20. Критикуют кофе | 21. Хвалят быстрое приготовление | 22. Положительное мнение о вкусе | 23. Хвалят чистоту и уют | 24. Критикуют отсутствие кондиционеров | 25. Хвалят бургеры | 26. Общее положительное мнение | 27. Жалуются на толпу и долгое ожидание | 28. Нейтральное мнение с небольшой критикой | 29. Хвалят чистоту, вкус и быстрое обслуживание | 30. Критикуют грязь и странные ситуации в заведении | 31. Жалуются на отсутствие робуксов | 32. Хвалят вкусные бургеры | 33. Критикуют холодные булки и изжогу | 34. Необычная критика меню | 35. Жалуются на персонал и вкусовые качества | 36. Положительное мнение | 37. Критика персонала и порций | 38. Хвалят скорость | 39. Критикуют мух в зале | 40. Общее положительное мнение  \\nДополнительная информация: Быстрое питание «Бургер Кинг» по адресу Москва, Цветной бульвар, 13, метро «Цветной бульвар» — заказать, ☎️ +7 495 544 50 00 ... Доставка еды. Кофе с собой.\\n\\nВитрина ; Воппер. 289,99 р. ; Цезарь Ролл со стрипсами. 269,99 р. ; Наггетсы. 119,99 р. ; Кинг Фри стандартный. 109,99 р. ; Ангус Пармеджано. 439,99 р.\\n\\nОгненное Воппер Комбо на двоих. 1 004.99 ₽ ; Перекусить комбо Малое. 309.99 ₽ ; Перекусить комбо Стандартное. 339.99 ₽ ; Перекусить комбо Большое. 389.99 ₽.  \\nОтвет:\"\"\"\\n\\n\\n', 'classification_response': 'RELEVANT_PLUS'}\n",
       "            </pre>\n",
       "        </details>\n",
       "        \n",
       "</div>\n"
      ],
      "text/plain": [
       "<IPython.core.display.HTML object>"
      ]
     },
     "metadata": {},
     "output_type": "display_data"
    }
   ],
   "source": [
    "inspect_row(agent3_consensus_error, idx=17)"
   ]
  },
  {
   "cell_type": "markdown",
   "id": "d3e6bcfb-0e66-46d4-9d8e-2ab540faa25f",
   "metadata": {},
   "source": [
    "Учтена локация  в запросе"
   ]
  },
  {
   "cell_type": "code",
   "execution_count": 59,
   "id": "06799d50-8473-49cb-9038-4b91a5c885a5",
   "metadata": {},
   "outputs": [],
   "source": [
    "assessors_errors_consensus.append(int(agent3_consensus_error.loc[18]['permalink']))"
   ]
  },
  {
   "cell_type": "code",
   "execution_count": 60,
   "id": "604da431-f3bc-4986-a930-270376649693",
   "metadata": {},
   "outputs": [
    {
     "data": {
      "text/html": [
       "\n",
       "<div style=\"border:1px solid #ccc; padding:16px; border-radius:10px;\n",
       "            font-family:sans-serif; background-color:#f9f9f9; margin-bottom:20px\">\n",
       "  <h2>📌 Index: 18</h2>\n",
       "  <p><strong>Запрос:</strong><br>рестораны в тц океания</p>\n",
       "  <p><strong>Адрес:</strong><br>Москва, Мироновская улица, 33, стр. 28</p>\n",
       "  <p><strong>Название:</strong><br>Кавказский дворик; Kavkazsky Dvorik</p>\n",
       "  <p><strong>ID Организации:</strong><br>1004953355</p>\n",
       "  <p><strong>Рубрика:</strong><br>Ресторан</p>\n",
       "  <p><strong>Описание:</strong><br>Ресторан «Кавказский дворик» предлагает широкий выбор блюд кавказской и европейской кухни, включая шашлыки, люля-кебабы, супы, хачапури, манты, хинкали, салаты и десерты | шашлык из осетрины | люля-кебаб из баранины | суп-пюре из чечевицы | хачапури по-аджарски | плов «Чайханский» | салат «Цезарь» с семгой | десерты (наполеон, медовик) | шашлык из курицы | хинкали по-грузински | манты</p>\n",
       "  <p><strong>Истинная релевантность:</strong> 1.0</p>\n",
       "  <p><strong>Отзывы:</strong><br>Организация занимается предоставлением услуг в сфере общественного питания, специализируясь на кавказской кухне. Тональность отзывов преимущественно положительная: множество похвал в адрес кухни и атмосферы, однако есть замечания по поводу цен и уровня шума. Хвалят: вкусную еду, атмосферу, вежливый персонал. Критикуют: высокие цены, шум.\n",
       "\n",
       "1. Пользователь доволен местом.\n",
       "2. Пользователь отмечает всё отлично.\n",
       "3. Пользователь хвалит кухню.\n",
       "4. Пользователь недоволен вкусом еды.\n",
       "5. Пользователь считает место приятным.\n",
       "6. Пользователь упоминает о разборках в заведении.\n",
       "7. Пользователь называет ресторан шикарным.\n",
       "8. Пользователь хвалит вкусную кухню.\n",
       "9. Пользователь остался доволен всем.\n",
       "10. Пользователь считает кухню неплохой.\n",
       "11. Пользователь высоко оценивает вкус кухни.\n",
       "12. Пользователь доволен кухней.\n",
       "13. Пользователь отмечает высокие цены в чайхане.\n",
       "14. Пользователь хвалит весёлую атмосферу и вкусную еду.\n",
       "15. Пользователь восхищается заведением.\n",
       "16. Пользователь отмечает вкусную еду и весёлую атмосферу.\n",
       "17. Пользователь доволен всем.\n",
       "18. Пользователь хвалит атмосферу.\n",
       "19. Пользователь рекомендует заведение для людей старше 40 лет.\n",
       "20. Пользователь отмечает наличие живой музыки и вкусных шашлыков.\n",
       "21. Пользователь жалуется на то, что блюда стали слишком солёными.\n",
       "22. Пользователь хвалит красоту и вкус заведения.\n",
       "23. Пользователь доволен приготовленной едой.\n",
       "24. Пользователь рекомендует кухню.\n",
       "25. Пользователь хвалит приготовление барашка и вкус помидоров.\n",
       "26. Пользователь всегда доволен вкусом еды.</p>\n",
       "  <p><strong>Предсказание модели (pred_relevance):</strong><br>0.0</p>\n",
       "  \n",
       "        <details style=\"margin-top:10px;\">\n",
       "            <summary style=\"cursor:pointer;\"><strong>🧠 Agent log (раскрыть)</strong></summary>\n",
       "            <pre style=\"white-space:pre-wrap; background:#eee; padding:10px; border-radius:6px;\">\n",
       "{'need_search_decision': 'NO', 'search_prompt': '# llm_relevance_agent/agent/prompts/need_search_v2.txt\\n# Убран пункт ### Когда поиск не нужен (NO):\\\\n1. Рубрика явно соответствует или не соответствует запросу.\\n\\nОпредели, нужно ли искать дополнительную информацию об организации, чтобы достоверно определить её релевантность пользовательскому запросу.\\n\\nОтвет строго одним из двух вариантов:\\n- \"YES\" — если информации недостаточно для достоверной оценки.\\n- \"NO\" — если можно точно определить релевантность уже по имеющимся данным.\\n\\n### Когда нужен поиск (YES):\\n1. В запросе есть уточнения (время работы, конкретные услуги, цены, бренды).\\n2. Рубрика слишком общая, а запрос специфичный.\\n3. Неясно, предоставляет ли организация нужную услугу.\\n4. В запросе есть временные или географические ограничения.\\n\\n\\n### Когда поиск не нужен (NO):\\n1. Отзывы подтверждают ключевые требования из запроса — нужные услуги, условия или особенности.\\n2. Запрос общий, а информации достаточно.\\n\\n### Примеры:\\nПользовательский запрос: Шиномонтаж 24\\nОрганизация:\\nНазвание: Шиномонтаж\\nАдрес: Республика Калмыкия, Элиста, улица В.И. Ленина, 7, стр. 8А\\nРубрика: Шиномонтаж\\nОтзывы: Организация занимается шиномонтажом. Отзывы положительные: хвалят высокое качество работы.\\nОтвет: YES\\n\\nПользовательский запрос: где дешево поесть в санкт-петербурге 2017\\nОрганизация:\\nНазвание: Буше; Bushe; БУШЕ пекарня-кондитерская ООО\\nАдрес: Санкт-Петербург, Малая Морская улица, 7\\nРубрика: Пекарня\\nОтзывы: Организация занимается выпечкой и продажей кондитерских изделий, а также предлагает завтраки и другие блюда. Отзывы преимущественно положительные: хвалят вкус еды и напитков, атмосферу и обслуживание, но критикуют высокие цены и иногда медленную работу персонала. | 1. Критикуют состояние туалета. | 2. Отмечают, что кухня не работала. | 3. Хвалят заведение в общем. | 4. Считают цены высокими. | 5. Восхищаются круасанами.\\nОтвет: NO\\n\\n### Теперь оцени следующий пример:\\nПользовательский запрос: \"рестораны в тц океания\"\\nОрганизация:\\nНазвание: Кавказский дворик; Kavkazsky Dvorik\\nАдрес: Москва, Мироновская улица, 33, стр. 28\\nРубрика: Ресторан\\nОтзывы: Организация занимается предоставлением услуг в сфере общественного питания, специализируясь на кавказской кухне. Тональность отзывов преимущественно положительная: множество похвал в адрес кухни и атмосферы, однако есть замечания по поводу цен и уровня шума. Хвалят: вкусную еду, атмосферу, вежливый персонал. Критикуют: высокие цены, шум.\\n\\n1. Пользователь доволен местом.\\n2. Пользователь отмечает всё отлично.\\n3. Пользователь хвалит кухню.\\n4. Пользователь недоволен вкусом еды.\\n5. Пользователь считает место приятным.\\n6. Пользователь упоминает о разборках в заведении.\\n7. Пользователь называет ресторан шикарным.\\n8. Пользователь хвалит вкусную кухню.\\n9. Пользователь остался доволен всем.\\n10. Пользователь считает кухню неплохой.\\n11. Пользователь высоко оценивает вкус кухни.\\n12. Пользователь доволен кухней.\\n13. Пользователь отмечает высокие цены в чайхане.\\n14. Пользователь хвалит весёлую атмосферу и вкусную еду.\\n15. Пользователь восхищается заведением.\\n16. Пользователь отмечает вкусную еду и весёлую атмосферу.\\n17. Пользователь доволен всем.\\n18. Пользователь хвалит атмосферу.\\n19. Пользователь рекомендует заведение для людей старше 40 лет.\\n20. Пользователь отмечает наличие живой музыки и вкусных шашлыков.\\n21. Пользователь жалуется на то, что блюда стали слишком солёными.\\n22. Пользователь хвалит красоту и вкус заведения.\\n23. Пользователь доволен приготовленной едой.\\n24. Пользователь рекомендует кухню.\\n25. Пользователь хвалит приготовление барашка и вкус помидоров.\\n26. Пользователь всегда доволен вкусом еды.\\nОтвет:', 'classification_prompt': '# llm_relevance_agent/agent/prompts/classify_v2.txt\\n# Пункт 4 изменен\\n\\nТы — интеллектуальная система, которая определяет, насколько организация соответствует пользовательскому запросу.\\nОтветь строго одним из двух вариантов: \"RELEVANT_PLUS\" или \"IRRELEVANT\".\\n\\n### Правила оценки:\\n1. RELEVANT_PLUS — если организация явно удовлетворяет запросу.  \\n2. IRRELEVANT — если соответствия нет.  \\n3. В первую очередь анализируй пользовательский запрос и поля \"Рубрика\" и \"Адрес\".  \\n4. Используй отзывы и дополнительную информацию (поле \"Дополнительная информация\"), особенно если они содержат уникальные признаки, указанные в запросе.\\n5. Если в запросе указана **часть адреса** (например, улица, район или город), обязательно сверяй её с адресом организации. Несовпадение = IRRELEVANT.   \\n6. Если в запросе указан **конкретный номер отделения, филиала, школы, офиса и т.п.**, обязательно сверяй его с номером в названии организации. Несовпадение = IRRELEVANT.\\n7. Если в запросе указана **конкретная станция метро**, считай организацию RELEVANT_PLUS только если в адресе или описании явно указана та же станция метро или подтверждена близость к ней. При несоответствии — IRRELEVANT.\\n\\n### Примеры:\\nПользовательский запрос: шугаринг Красноярск  \\nОрганизация:  \\nНазвание: Студия красоты Дарлинг  \\nАдрес: Красноярск, микрорайон Взлётка, улица Весны, 3  \\nРубрика: Салон красоты  \\nОтзывы: Студия красоты «Дарлинг» предоставляет бьюти-услуги и продаёт парфюмерию и косметику.  \\nДополнительная информация: Предоставляет услуги шугаринга, депиляции, маникюра. Работает ежедневно с 9:00 до 21:00. Ответ: RELEVANT_PLUS\\n\\nПользовательский запрос: Шашлычная  \\nОрганизация:  \\nНазвание: Яндекс Лавка  \\nАдрес: Москва, улица Адмирала Макарова, 23, корп. 2  \\nРубрика: Доставка продуктов  \\nОтзывы: Организация занимается доставкой продуктов и еды, работает в формате даркстора.  \\nДополнительная информация: Сервис доставки продуктов на дом, работает через мобильное приложение.  \\nОтвет: IRRELEVANT\\n\\nПользовательский запрос: Отдел полиции № 7 \\nОрганизация:  \\nНазвание: Отдел полиции № 6 УМВД России по городу Уфе  \\nАдрес: Республика Башкортостан, Уфа, улица Лесотехникума, 92/2  \\nРубрика: Отделение полиции \\nОтзывы: Организация занимается обеспечением правопорядка и оказанием соответствующих услуг населению. Тональность отзывов смешанная: есть как положительные, так и отрицательные.  \\nДополнительная информация:   \\nОтвет: IRRELEVANT\\n\\n### Теперь оцени следующий пример:\\nПользовательский запрос: \"рестораны в тц океания\"  \\nОрганизация:  \\nНазвание: Кавказский дворик; Kavkazsky Dvorik  \\nАдрес: Москва, Мироновская улица, 33, стр. 28  \\nРубрика: Ресторан  \\nОтзывы: Организация занимается предоставлением услуг в сфере общественного питания, специализируясь на кавказской кухне. Тональность отзывов преимущественно положительная: множество похвал в адрес кухни и атмосферы, однако есть замечания по поводу цен и уровня шума. Хвалят: вкусную еду, атмосферу, вежливый персонал. Критикуют: высокие цены, шум.\\n\\n1. Пользователь доволен местом.\\n2. Пользователь отмечает всё отлично.\\n3. Пользователь хвалит кухню.\\n4. Пользователь недоволен вкусом еды.\\n5. Пользователь считает место приятным.\\n6. Пользователь упоминает о разборках в заведении.\\n7. Пользователь называет ресторан шикарным.\\n8. Пользователь хвалит вкусную кухню.\\n9. Пользователь остался доволен всем.\\n10. Пользователь считает кухню неплохой.\\n11. Пользователь высоко оценивает вкус кухни.\\n12. Пользователь доволен кухней.\\n13. Пользователь отмечает высокие цены в чайхане.\\n14. Пользователь хвалит весёлую атмосферу и вкусную еду.\\n15. Пользователь восхищается заведением.\\n16. Пользователь отмечает вкусную еду и весёлую атмосферу.\\n17. Пользователь доволен всем.\\n18. Пользователь хвалит атмосферу.\\n19. Пользователь рекомендует заведение для людей старше 40 лет.\\n20. Пользователь отмечает наличие живой музыки и вкусных шашлыков.\\n21. Пользователь жалуется на то, что блюда стали слишком солёными.\\n22. Пользователь хвалит красоту и вкус заведения.\\n23. Пользователь доволен приготовленной едой.\\n24. Пользователь рекомендует кухню.\\n25. Пользователь хвалит приготовление барашка и вкус помидоров.\\n26. Пользователь всегда доволен вкусом еды.  \\nДополнительная информация: —  \\nОтвет:\"\"\"\\n\\n\\n', 'classification_response': 'IRRELEVANT'}\n",
       "            </pre>\n",
       "        </details>\n",
       "        \n",
       "</div>\n"
      ],
      "text/plain": [
       "<IPython.core.display.HTML object>"
      ]
     },
     "metadata": {},
     "output_type": "display_data"
    }
   ],
   "source": [
    "inspect_row(agent3_consensus_error, idx=18)"
   ]
  },
  {
   "cell_type": "markdown",
   "id": "235d9d91-1e2d-4a62-bc1a-5b788c4e5d47",
   "metadata": {},
   "source": [
    "### Латентная релевантность раскрыта агентом"
   ]
  },
  {
   "cell_type": "markdown",
   "id": "ff70bc14-3d6d-452c-9d4c-49c65878a6af",
   "metadata": {},
   "source": [
    "В поисковике найдена необходимая информация"
   ]
  },
  {
   "cell_type": "code",
   "execution_count": 61,
   "id": "8a85c597-0683-4e50-8299-9e3bf2dc95cf",
   "metadata": {},
   "outputs": [],
   "source": [
    "assessors_errors_consensus.append(int(agent3_consensus_error.loc[19]['permalink']))"
   ]
  },
  {
   "cell_type": "code",
   "execution_count": 62,
   "id": "8870196a-53a6-419b-b425-f745d3e9c2de",
   "metadata": {},
   "outputs": [
    {
     "data": {
      "text/html": [
       "\n",
       "<div style=\"border:1px solid #ccc; padding:16px; border-radius:10px;\n",
       "            font-family:sans-serif; background-color:#f9f9f9; margin-bottom:20px\">\n",
       "  <h2>📌 Index: 19</h2>\n",
       "  <p><strong>Запрос:</strong><br>пионер газовый пистолет цена</p>\n",
       "  <p><strong>Адрес:</strong><br>Москва, Тимирязевская улица, 11, корп. 1</p>\n",
       "  <p><strong>Название:</strong><br>Артемида; Arms shop Artemida; Artemida; Артемида ООО; Мир Охоты; Оружейный салон Артемида; Охотничий магазин Артемида Охотник</p>\n",
       "  <p><strong>ID Организации:</strong><br>1037037829</p>\n",
       "  <p><strong>Рубрика:</strong><br>Оружие и средства самозащиты</p>\n",
       "  <p><strong>Описание:</strong><br>«Артемида» предлагает товары для охоты и отдыха, включая комплектующие для оружия, аксессуары и экипировку | приклад | цевьё | магазин Blaser | ремень ружейный | очки защитные | ключ Blaser | заглушка магазина | чехол мягкий | погон для ружья | патронташ.</p>\n",
       "  <p><strong>Истинная релевантность:</strong> 0.0</p>\n",
       "  <p><strong>Отзывы:</strong><br>Организация «Артемида» занимается продажей оружия, средств самозащиты, товаров для охоты и отдыха. Отзывы смешанные: есть положительные оценки ассортимента и работы персонала, но также много критики по поводу обслуживания и отношения к клиентам. Хвалят: большой выбор товаров, компетентность в некоторых случаях. Критикуют: плохое обслуживание, несоответствие информации на сайте реальному наличию и ценам, непрофессионализм некоторых сотрудников.\n",
       "\n",
       "| 1. Жалуются на то, что никто не отвечает на звонки | 2. Клиент доволен покупкой перцовых баллончиков | 3. Критикуют отсутствие клиентоориентированности и хамство персонала | 4. Хвалят вежливость и профессионализм персонала | 5. Жалуются на продажу старого оружия под видом нового | 6. Отмечают хороший выбор и клиентоориентированность | 7. Жалуются на резервирование товара на сайте и несоответствие реальности | 8. Критикуют отношение к клиентам и продажу забронированного товара | 9. Жалуются на отсутствие консультаций и плохое отношение | 10. Хвалят широкий выбор инструмента и компетентность персонала | 11. Критикуют изменение условий сделки и цен | 12. Жалуются на невнимание продавцов и уход без покупок | 13. Отмечают большой выбор и доступные цены | 14. Жалуются на долгое ожидание и внутренние ошибки | 15. Хвалят соответствие заказа на сайте и быструю оформление | 16. Жалуются на недружелюбное отношение и некомпетентность | 17. Отмечают адекватную цену, но критикуют обслуживание | 18. Жалуются на отсутствие консультации и некачественную покупку | 19. Хвалят выбор оружия и цены | 20. Критикуют высокие цены | 21. Отмечают хорошее обслуживание и большой выбор комиссионного оружия | 22. Хвалят вежливый персонал и помощь в выборе | 23. Жалуются на непрофессиональное поведение мастера | 24. Критикуют задержки с оформлением счёта и информацией об оплате | 25. Не рекомендуют мастерскую | 26. Отмечают широкий ассортимент | 27. Хвалят продавцов и квалифицированный подход | 28. Жалуются на невнимательное отношение в отделе огнестрельного оружия | 29. Положительно оценивают магазин | 30. Отмечают удобство выбора и разнообразие оружия |</p>\n",
       "  <p><strong>Предсказание модели (pred_relevance):</strong><br>1.0</p>\n",
       "  \n",
       "        <details style=\"margin-top:10px;\">\n",
       "            <summary style=\"cursor:pointer;\"><strong>🧠 Agent log (раскрыть)</strong></summary>\n",
       "            <pre style=\"white-space:pre-wrap; background:#eee; padding:10px; border-radius:6px;\">\n",
       "{'need_search_decision': 'YES', 'search_prompt': '# llm_relevance_agent/agent/prompts/need_search_v2.txt\\n# Убран пункт ### Когда поиск не нужен (NO):\\\\n1. Рубрика явно соответствует или не соответствует запросу.\\n\\nОпредели, нужно ли искать дополнительную информацию об организации, чтобы достоверно определить её релевантность пользовательскому запросу.\\n\\nОтвет строго одним из двух вариантов:\\n- \"YES\" — если информации недостаточно для достоверной оценки.\\n- \"NO\" — если можно точно определить релевантность уже по имеющимся данным.\\n\\n### Когда нужен поиск (YES):\\n1. В запросе есть уточнения (время работы, конкретные услуги, цены, бренды).\\n2. Рубрика слишком общая, а запрос специфичный.\\n3. Неясно, предоставляет ли организация нужную услугу.\\n4. В запросе есть временные или географические ограничения.\\n\\n\\n### Когда поиск не нужен (NO):\\n1. Отзывы подтверждают ключевые требования из запроса — нужные услуги, условия или особенности.\\n2. Запрос общий, а информации достаточно.\\n\\n### Примеры:\\nПользовательский запрос: Шиномонтаж 24\\nОрганизация:\\nНазвание: Шиномонтаж\\nАдрес: Республика Калмыкия, Элиста, улица В.И. Ленина, 7, стр. 8А\\nРубрика: Шиномонтаж\\nОтзывы: Организация занимается шиномонтажом. Отзывы положительные: хвалят высокое качество работы.\\nОтвет: YES\\n\\nПользовательский запрос: где дешево поесть в санкт-петербурге 2017\\nОрганизация:\\nНазвание: Буше; Bushe; БУШЕ пекарня-кондитерская ООО\\nАдрес: Санкт-Петербург, Малая Морская улица, 7\\nРубрика: Пекарня\\nОтзывы: Организация занимается выпечкой и продажей кондитерских изделий, а также предлагает завтраки и другие блюда. Отзывы преимущественно положительные: хвалят вкус еды и напитков, атмосферу и обслуживание, но критикуют высокие цены и иногда медленную работу персонала. | 1. Критикуют состояние туалета. | 2. Отмечают, что кухня не работала. | 3. Хвалят заведение в общем. | 4. Считают цены высокими. | 5. Восхищаются круасанами.\\nОтвет: NO\\n\\n### Теперь оцени следующий пример:\\nПользовательский запрос: \"пионер газовый пистолет цена\"\\nОрганизация:\\nНазвание: Артемида; Arms shop Artemida; Artemida; Артемида ООО; Мир Охоты; Оружейный салон Артемида; Охотничий магазин Артемида Охотник\\nАдрес: Москва, Тимирязевская улица, 11, корп. 1\\nРубрика: Оружие и средства самозащиты\\nОтзывы: Организация «Артемида» занимается продажей оружия, средств самозащиты, товаров для охоты и отдыха. Отзывы смешанные: есть положительные оценки ассортимента и работы персонала, но также много критики по поводу обслуживания и отношения к клиентам. Хвалят: большой выбор товаров, компетентность в некоторых случаях. Критикуют: плохое обслуживание, несоответствие информации на сайте реальному наличию и ценам, непрофессионализм некоторых сотрудников.\\n\\n| 1. Жалуются на то, что никто не отвечает на звонки | 2. Клиент доволен покупкой перцовых баллончиков | 3. Критикуют отсутствие клиентоориентированности и хамство персонала | 4. Хвалят вежливость и профессионализм персонала | 5. Жалуются на продажу старого оружия под видом нового | 6. Отмечают хороший выбор и клиентоориентированность | 7. Жалуются на резервирование товара на сайте и несоответствие реальности | 8. Критикуют отношение к клиентам и продажу забронированного товара | 9. Жалуются на отсутствие консультаций и плохое отношение | 10. Хвалят широкий выбор инструмента и компетентность персонала | 11. Критикуют изменение условий сделки и цен | 12. Жалуются на невнимание продавцов и уход без покупок | 13. Отмечают большой выбор и доступные цены | 14. Жалуются на долгое ожидание и внутренние ошибки | 15. Хвалят соответствие заказа на сайте и быструю оформление | 16. Жалуются на недружелюбное отношение и некомпетентность | 17. Отмечают адекватную цену, но критикуют обслуживание | 18. Жалуются на отсутствие консультации и некачественную покупку | 19. Хвалят выбор оружия и цены | 20. Критикуют высокие цены | 21. Отмечают хорошее обслуживание и большой выбор комиссионного оружия | 22. Хвалят вежливый персонал и помощь в выборе | 23. Жалуются на непрофессиональное поведение мастера | 24. Критикуют задержки с оформлением счёта и информацией об оплате | 25. Не рекомендуют мастерскую | 26. Отмечают широкий ассортимент | 27. Хвалят продавцов и квалифицированный подход | 28. Жалуются на невнимательное отношение в отделе огнестрельного оружия | 29. Положительно оценивают магазин | 30. Отмечают удобство выбора и разнообразие оружия |\\nОтвет:', 'search_query': 'Артемида Оружие и средства самозащиты Москва, Тимирязевская улица, 11, корп. 1 пионер газовый пистолет цена', 'search_results': 'Забронировать Аэрозольное устройство ПИОНЕР (под БАМ 18х51, 13х50) в Москве по доступной цене в оружейном интернет-магазине Артемида. В наличии новое или\\n\\nПионер единственное оружие, которое работает с большинством зарядов. В него ... Цена: 1 250 руб. Товар заказали: 178 раз(а). Добавить в корзину. Быстрый\\n\\nЦена 6740 руб. в корзину · Аэрозольный пистолет. Пионер с ЛЦУ · Аэрозольный пистолет Пионер с ЛЦУ. Цена', 'classification_prompt': '# llm_relevance_agent/agent/prompts/classify_v2.txt\\n# Пункт 4 изменен\\n\\nТы — интеллектуальная система, которая определяет, насколько организация соответствует пользовательскому запросу.\\nОтветь строго одним из двух вариантов: \"RELEVANT_PLUS\" или \"IRRELEVANT\".\\n\\n### Правила оценки:\\n1. RELEVANT_PLUS — если организация явно удовлетворяет запросу.  \\n2. IRRELEVANT — если соответствия нет.  \\n3. В первую очередь анализируй пользовательский запрос и поля \"Рубрика\" и \"Адрес\".  \\n4. Используй отзывы и дополнительную информацию (поле \"Дополнительная информация\"), особенно если они содержат уникальные признаки, указанные в запросе.\\n5. Если в запросе указана **часть адреса** (например, улица, район или город), обязательно сверяй её с адресом организации. Несовпадение = IRRELEVANT.   \\n6. Если в запросе указан **конкретный номер отделения, филиала, школы, офиса и т.п.**, обязательно сверяй его с номером в названии организации. Несовпадение = IRRELEVANT.\\n7. Если в запросе указана **конкретная станция метро**, считай организацию RELEVANT_PLUS только если в адресе или описании явно указана та же станция метро или подтверждена близость к ней. При несоответствии — IRRELEVANT.\\n\\n### Примеры:\\nПользовательский запрос: шугаринг Красноярск  \\nОрганизация:  \\nНазвание: Студия красоты Дарлинг  \\nАдрес: Красноярск, микрорайон Взлётка, улица Весны, 3  \\nРубрика: Салон красоты  \\nОтзывы: Студия красоты «Дарлинг» предоставляет бьюти-услуги и продаёт парфюмерию и косметику.  \\nДополнительная информация: Предоставляет услуги шугаринга, депиляции, маникюра. Работает ежедневно с 9:00 до 21:00. Ответ: RELEVANT_PLUS\\n\\nПользовательский запрос: Шашлычная  \\nОрганизация:  \\nНазвание: Яндекс Лавка  \\nАдрес: Москва, улица Адмирала Макарова, 23, корп. 2  \\nРубрика: Доставка продуктов  \\nОтзывы: Организация занимается доставкой продуктов и еды, работает в формате даркстора.  \\nДополнительная информация: Сервис доставки продуктов на дом, работает через мобильное приложение.  \\nОтвет: IRRELEVANT\\n\\nПользовательский запрос: Отдел полиции № 7 \\nОрганизация:  \\nНазвание: Отдел полиции № 6 УМВД России по городу Уфе  \\nАдрес: Республика Башкортостан, Уфа, улица Лесотехникума, 92/2  \\nРубрика: Отделение полиции \\nОтзывы: Организация занимается обеспечением правопорядка и оказанием соответствующих услуг населению. Тональность отзывов смешанная: есть как положительные, так и отрицательные.  \\nДополнительная информация:   \\nОтвет: IRRELEVANT\\n\\n### Теперь оцени следующий пример:\\nПользовательский запрос: \"пионер газовый пистолет цена\"  \\nОрганизация:  \\nНазвание: Артемида; Arms shop Artemida; Artemida; Артемида ООО; Мир Охоты; Оружейный салон Артемида; Охотничий магазин Артемида Охотник  \\nАдрес: Москва, Тимирязевская улица, 11, корп. 1  \\nРубрика: Оружие и средства самозащиты  \\nОтзывы: Организация «Артемида» занимается продажей оружия, средств самозащиты, товаров для охоты и отдыха. Отзывы смешанные: есть положительные оценки ассортимента и работы персонала, но также много критики по поводу обслуживания и отношения к клиентам. Хвалят: большой выбор товаров, компетентность в некоторых случаях. Критикуют: плохое обслуживание, несоответствие информации на сайте реальному наличию и ценам, непрофессионализм некоторых сотрудников.\\n\\n| 1. Жалуются на то, что никто не отвечает на звонки | 2. Клиент доволен покупкой перцовых баллончиков | 3. Критикуют отсутствие клиентоориентированности и хамство персонала | 4. Хвалят вежливость и профессионализм персонала | 5. Жалуются на продажу старого оружия под видом нового | 6. Отмечают хороший выбор и клиентоориентированность | 7. Жалуются на резервирование товара на сайте и несоответствие реальности | 8. Критикуют отношение к клиентам и продажу забронированного товара | 9. Жалуются на отсутствие консультаций и плохое отношение | 10. Хвалят широкий выбор инструмента и компетентность персонала | 11. Критикуют изменение условий сделки и цен | 12. Жалуются на невнимание продавцов и уход без покупок | 13. Отмечают большой выбор и доступные цены | 14. Жалуются на долгое ожидание и внутренние ошибки | 15. Хвалят соответствие заказа на сайте и быструю оформление | 16. Жалуются на недружелюбное отношение и некомпетентность | 17. Отмечают адекватную цену, но критикуют обслуживание | 18. Жалуются на отсутствие консультации и некачественную покупку | 19. Хвалят выбор оружия и цены | 20. Критикуют высокие цены | 21. Отмечают хорошее обслуживание и большой выбор комиссионного оружия | 22. Хвалят вежливый персонал и помощь в выборе | 23. Жалуются на непрофессиональное поведение мастера | 24. Критикуют задержки с оформлением счёта и информацией об оплате | 25. Не рекомендуют мастерскую | 26. Отмечают широкий ассортимент | 27. Хвалят продавцов и квалифицированный подход | 28. Жалуются на невнимательное отношение в отделе огнестрельного оружия | 29. Положительно оценивают магазин | 30. Отмечают удобство выбора и разнообразие оружия |  \\nДополнительная информация: Забронировать Аэрозольное устройство ПИОНЕР (под БАМ 18х51, 13х50) в Москве по доступной цене в оружейном интернет-магазине Артемида. В наличии новое или\\n\\nПионер единственное оружие, которое работает с большинством зарядов. В него ... Цена: 1 250 руб. Товар заказали: 178 раз(а). Добавить в корзину. Быстрый\\n\\nЦена 6740 руб. в корзину · Аэрозольный пистолет. Пионер с ЛЦУ · Аэрозольный пистолет Пионер с ЛЦУ. Цена  \\nОтвет:\"\"\"\\n\\n\\n', 'classification_response': 'RELEVANT_PLUS'}\n",
       "            </pre>\n",
       "        </details>\n",
       "        \n",
       "</div>\n"
      ],
      "text/plain": [
       "<IPython.core.display.HTML object>"
      ]
     },
     "metadata": {},
     "output_type": "display_data"
    }
   ],
   "source": [
    "inspect_row(agent3_consensus_error, idx=19)"
   ]
  },
  {
   "cell_type": "code",
   "execution_count": 63,
   "id": "732c2d59-9c1a-4867-8282-c4b6528e09fb",
   "metadata": {},
   "outputs": [],
   "source": [
    "model_consensus_errors.append(int(agent3_consensus_error.loc[20]['permalink']))"
   ]
  },
  {
   "cell_type": "code",
   "execution_count": 64,
   "id": "e1ede34a-6ddc-401b-bcd0-3b71e0b4df9c",
   "metadata": {},
   "outputs": [
    {
     "data": {
      "text/html": [
       "\n",
       "<div style=\"border:1px solid #ccc; padding:16px; border-radius:10px;\n",
       "            font-family:sans-serif; background-color:#f9f9f9; margin-bottom:20px\">\n",
       "  <h2>📌 Index: 20</h2>\n",
       "  <p><strong>Запрос:</strong><br>автосалон лада</p>\n",
       "  <p><strong>Адрес:</strong><br>Москва, Сормовская улица, 21А</p>\n",
       "  <p><strong>Название:</strong><br>АвтоГЕРМЕС сервис УАЗ; AvtoGERMES Uaz; АвтоГЕРМЕС УАЗ; АвтоГЕРМЕС; АвтоГЕРМЕС УАЗ - официальный дилер УАЗ</p>\n",
       "  <p><strong>ID Организации:</strong><br>120603898139</p>\n",
       "  <p><strong>Рубрика:</strong><br>Автосервис , автотехцентр</p>\n",
       "  <p><strong>Описание:</strong><br>АвтоГЕРМЕС сервис УАЗ предоставляет услуги по ремонту и техническому обслуживанию автомобилей УАЗ, включая диагностику, ремонт рулевого управления, двигателя, тормозной системы и других узлов | замена насоса ГУР | ремонт рулевой рейки | диагностика двигателя | замена тормозных колодок | ремонт генератора | замена масла в двигателе | диагностика тормозной системы | замена амортизаторов | ремонт топливной системы | техническое обслуживание (ТО)</p>\n",
       "  <p><strong>Истинная релевантность:</strong> 1.0</p>\n",
       "  <p><strong>Отзывы:</strong><br>АвтоГЕРМЕС сервис УАЗ занимается обслуживанием и ремонтом автомобилей, включая УАЗ и другие марки. Отзывы смешанные: много положительных оценок работы мастеров и сервиса, но также есть критика по поводу навязчивых продаж, несоответствия цен и проблем с коммуникацией. Хвалят: профессионализм мастеров, качество работы, быстрое обслуживание. Критикуют: навязчивые продажи дополнительных услуг, проблемы с ценами, некомпетентность менеджеров.\n",
       "\n",
       "| 1. Пользователь высоко оценивает сервис. | 2. Отмечается хороший уютный салон. | 3. Критикуется навязывание кредитов и несоответствие цен. | 4. Положительная оценка работы Лии на ТО. | 5. Персонал стремится ненавязчиво предложить дополнительные услуги. | 6. Высказываются обвинения в адрес менеджеров в обмане. | 7. Высокие оценки работы мастеров на ТО. | 8. Благодарность Жукову Валентину за помощь по гарантии. | 9. Упоминается прозрачность и качество сервиса. | 10. Положительный отзыв о работе Скокова Евгения. | 11. Замечания о не самом прозрачном сервисе. | 12. Подчёркивается профессионализм мастера Покатило. | 13. Благодарность за быстрое техобслуживание от Внучкова В. В. | 14. Отмечаются вежливость и медлительность персонала. | 15. Положительные впечатления от быстрого и дружелюбного обслуживания. | 16. Замечания о высоких ценах. | 17. Выражается благодарность Жукову Валентину за помощь. | 18. Положительная оценка обслуживания у Покатило Дмитрия. | 19. Отмечается проблема с отсутствием места для парковки перед салоном. | 20. Критика в адрес высоких цен и ориентации на определённый круг клиентов. | 21. Благодарность мастеру Покатило Дмитрию за быстрое обслуживание. | 22. Замечания о некомпетентности менеджеров. | 23. Положительные впечатления от профессионализма и приветливости менеджеров. | 24. Подчёркивается клиентоориентированность и бесплатные рекомендации по бюджетному решению проблем. | 25. Критика навязчивых попыток склонить к быстрой покупке. | 26. Благодарность Катаеву Андрею за качественное обслуживание. | 27. Замечания о проблемах с заказом голых машин без дополнительного оборудования. | 28. Положительные впечатления от обслуживания. | 29. Критика некомпетентности и плохой коммуникации при записи на обслуживание. | 30. Подчёркивается качественная работа и внимательное отношение к заказчикам. | 31. Благодарность Катаеву Андрею за отличное отношение и быструю работу. | 32. Положительные впечатления от обслуживания, замечание о неработающем вай-фай. |</p>\n",
       "  <p><strong>Предсказание модели (pred_relevance):</strong><br>0.0</p>\n",
       "  \n",
       "        <details style=\"margin-top:10px;\">\n",
       "            <summary style=\"cursor:pointer;\"><strong>🧠 Agent log (раскрыть)</strong></summary>\n",
       "            <pre style=\"white-space:pre-wrap; background:#eee; padding:10px; border-radius:6px;\">\n",
       "{'need_search_decision': 'YES', 'search_prompt': '# llm_relevance_agent/agent/prompts/need_search_v2.txt\\n# Убран пункт ### Когда поиск не нужен (NO):\\\\n1. Рубрика явно соответствует или не соответствует запросу.\\n\\nОпредели, нужно ли искать дополнительную информацию об организации, чтобы достоверно определить её релевантность пользовательскому запросу.\\n\\nОтвет строго одним из двух вариантов:\\n- \"YES\" — если информации недостаточно для достоверной оценки.\\n- \"NO\" — если можно точно определить релевантность уже по имеющимся данным.\\n\\n### Когда нужен поиск (YES):\\n1. В запросе есть уточнения (время работы, конкретные услуги, цены, бренды).\\n2. Рубрика слишком общая, а запрос специфичный.\\n3. Неясно, предоставляет ли организация нужную услугу.\\n4. В запросе есть временные или географические ограничения.\\n\\n\\n### Когда поиск не нужен (NO):\\n1. Отзывы подтверждают ключевые требования из запроса — нужные услуги, условия или особенности.\\n2. Запрос общий, а информации достаточно.\\n\\n### Примеры:\\nПользовательский запрос: Шиномонтаж 24\\nОрганизация:\\nНазвание: Шиномонтаж\\nАдрес: Республика Калмыкия, Элиста, улица В.И. Ленина, 7, стр. 8А\\nРубрика: Шиномонтаж\\nОтзывы: Организация занимается шиномонтажом. Отзывы положительные: хвалят высокое качество работы.\\nОтвет: YES\\n\\nПользовательский запрос: где дешево поесть в санкт-петербурге 2017\\nОрганизация:\\nНазвание: Буше; Bushe; БУШЕ пекарня-кондитерская ООО\\nАдрес: Санкт-Петербург, Малая Морская улица, 7\\nРубрика: Пекарня\\nОтзывы: Организация занимается выпечкой и продажей кондитерских изделий, а также предлагает завтраки и другие блюда. Отзывы преимущественно положительные: хвалят вкус еды и напитков, атмосферу и обслуживание, но критикуют высокие цены и иногда медленную работу персонала. | 1. Критикуют состояние туалета. | 2. Отмечают, что кухня не работала. | 3. Хвалят заведение в общем. | 4. Считают цены высокими. | 5. Восхищаются круасанами.\\nОтвет: NO\\n\\n### Теперь оцени следующий пример:\\nПользовательский запрос: \"автосалон лада\"\\nОрганизация:\\nНазвание: АвтоГЕРМЕС сервис УАЗ; AvtoGERMES Uaz; АвтоГЕРМЕС УАЗ; АвтоГЕРМЕС; АвтоГЕРМЕС УАЗ - официальный дилер УАЗ\\nАдрес: Москва, Сормовская улица, 21А\\nРубрика: Автосервис , автотехцентр\\nОтзывы: АвтоГЕРМЕС сервис УАЗ занимается обслуживанием и ремонтом автомобилей, включая УАЗ и другие марки. Отзывы смешанные: много положительных оценок работы мастеров и сервиса, но также есть критика по поводу навязчивых продаж, несоответствия цен и проблем с коммуникацией. Хвалят: профессионализм мастеров, качество работы, быстрое обслуживание. Критикуют: навязчивые продажи дополнительных услуг, проблемы с ценами, некомпетентность менеджеров.\\n\\n| 1. Пользователь высоко оценивает сервис. | 2. Отмечается хороший уютный салон. | 3. Критикуется навязывание кредитов и несоответствие цен. | 4. Положительная оценка работы Лии на ТО. | 5. Персонал стремится ненавязчиво предложить дополнительные услуги. | 6. Высказываются обвинения в адрес менеджеров в обмане. | 7. Высокие оценки работы мастеров на ТО. | 8. Благодарность Жукову Валентину за помощь по гарантии. | 9. Упоминается прозрачность и качество сервиса. | 10. Положительный отзыв о работе Скокова Евгения. | 11. Замечания о не самом прозрачном сервисе. | 12. Подчёркивается профессионализм мастера Покатило. | 13. Благодарность за быстрое техобслуживание от Внучкова В. В. | 14. Отмечаются вежливость и медлительность персонала. | 15. Положительные впечатления от быстрого и дружелюбного обслуживания. | 16. Замечания о высоких ценах. | 17. Выражается благодарность Жукову Валентину за помощь. | 18. Положительная оценка обслуживания у Покатило Дмитрия. | 19. Отмечается проблема с отсутствием места для парковки перед салоном. | 20. Критика в адрес высоких цен и ориентации на определённый круг клиентов. | 21. Благодарность мастеру Покатило Дмитрию за быстрое обслуживание. | 22. Замечания о некомпетентности менеджеров. | 23. Положительные впечатления от профессионализма и приветливости менеджеров. | 24. Подчёркивается клиентоориентированность и бесплатные рекомендации по бюджетному решению проблем. | 25. Критика навязчивых попыток склонить к быстрой покупке. | 26. Благодарность Катаеву Андрею за качественное обслуживание. | 27. Замечания о проблемах с заказом голых машин без дополнительного оборудования. | 28. Положительные впечатления от обслуживания. | 29. Критика некомпетентности и плохой коммуникации при записи на обслуживание. | 30. Подчёркивается качественная работа и внимательное отношение к заказчикам. | 31. Благодарность Катаеву Андрею за отличное отношение и быструю работу. | 32. Положительные впечатления от обслуживания, замечание о неработающем вай-фай. |\\nОтвет:', 'search_query': 'АвтоГЕРМЕС сервис УАЗ Автосервис , автотехцентр Москва, Сормовская улица, 21А автосалон лада', 'search_results': 'Автосервис, автотехцентр «АвтоГЕРМЕС сервис УАЗ» — «Хорошее место» по оценкам пользователей — по адресу Москва, Сормовская улица, 21А, метро «Юго-Восточная»\\n\\nПозвоните любому из наших продавцов-консультантов и назовите время, в которое Вы хотели бы подъехать для знакомства с автомобилями, попробовать автомобили на ходу, узнать условия персонального кредитования и осуществить окончательный выбор автомобиля. Помог в выборе автомобиля и в оформлении документов на его покупку - самый отзывчивый, приветливый и учтивый менеджер отдела продаж \" Chery\" Александр Гюлумян. Закажите звонок эксперта по оценке автомобилей и он свяжется с Вами в указанное Вами время. Столкнувшись с неприятной, но вполне жизненной ситуацией «умершего» безвозвратно двигателя немолодого автомобиля, было принято решение приобрести в срочном порядке автомобиль с пробегом, но на порядок выше по цене и статусу. Помог в выборе автомобиля и в оформлении документов на его покупку - самый отзывчивый, приветливый и учтивый менеджер отдела продаж \" Chery\" Александр Гюлумян.\\n\\nОт станции метро \"Рязанский проспект\": последний вагон из центра, выход 2. Выйти на Рязанский проспект. Далее на автобусе №491 до остановки «Сормовский проезд».', 'classification_prompt': '# llm_relevance_agent/agent/prompts/classify_v2.txt\\n# Пункт 4 изменен\\n\\nТы — интеллектуальная система, которая определяет, насколько организация соответствует пользовательскому запросу.\\nОтветь строго одним из двух вариантов: \"RELEVANT_PLUS\" или \"IRRELEVANT\".\\n\\n### Правила оценки:\\n1. RELEVANT_PLUS — если организация явно удовлетворяет запросу.  \\n2. IRRELEVANT — если соответствия нет.  \\n3. В первую очередь анализируй пользовательский запрос и поля \"Рубрика\" и \"Адрес\".  \\n4. Используй отзывы и дополнительную информацию (поле \"Дополнительная информация\"), особенно если они содержат уникальные признаки, указанные в запросе.\\n5. Если в запросе указана **часть адреса** (например, улица, район или город), обязательно сверяй её с адресом организации. Несовпадение = IRRELEVANT.   \\n6. Если в запросе указан **конкретный номер отделения, филиала, школы, офиса и т.п.**, обязательно сверяй его с номером в названии организации. Несовпадение = IRRELEVANT.\\n7. Если в запросе указана **конкретная станция метро**, считай организацию RELEVANT_PLUS только если в адресе или описании явно указана та же станция метро или подтверждена близость к ней. При несоответствии — IRRELEVANT.\\n\\n### Примеры:\\nПользовательский запрос: шугаринг Красноярск  \\nОрганизация:  \\nНазвание: Студия красоты Дарлинг  \\nАдрес: Красноярск, микрорайон Взлётка, улица Весны, 3  \\nРубрика: Салон красоты  \\nОтзывы: Студия красоты «Дарлинг» предоставляет бьюти-услуги и продаёт парфюмерию и косметику.  \\nДополнительная информация: Предоставляет услуги шугаринга, депиляции, маникюра. Работает ежедневно с 9:00 до 21:00. Ответ: RELEVANT_PLUS\\n\\nПользовательский запрос: Шашлычная  \\nОрганизация:  \\nНазвание: Яндекс Лавка  \\nАдрес: Москва, улица Адмирала Макарова, 23, корп. 2  \\nРубрика: Доставка продуктов  \\nОтзывы: Организация занимается доставкой продуктов и еды, работает в формате даркстора.  \\nДополнительная информация: Сервис доставки продуктов на дом, работает через мобильное приложение.  \\nОтвет: IRRELEVANT\\n\\nПользовательский запрос: Отдел полиции № 7 \\nОрганизация:  \\nНазвание: Отдел полиции № 6 УМВД России по городу Уфе  \\nАдрес: Республика Башкортостан, Уфа, улица Лесотехникума, 92/2  \\nРубрика: Отделение полиции \\nОтзывы: Организация занимается обеспечением правопорядка и оказанием соответствующих услуг населению. Тональность отзывов смешанная: есть как положительные, так и отрицательные.  \\nДополнительная информация:   \\nОтвет: IRRELEVANT\\n\\n### Теперь оцени следующий пример:\\nПользовательский запрос: \"автосалон лада\"  \\nОрганизация:  \\nНазвание: АвтоГЕРМЕС сервис УАЗ; AvtoGERMES Uaz; АвтоГЕРМЕС УАЗ; АвтоГЕРМЕС; АвтоГЕРМЕС УАЗ - официальный дилер УАЗ  \\nАдрес: Москва, Сормовская улица, 21А  \\nРубрика: Автосервис , автотехцентр  \\nОтзывы: АвтоГЕРМЕС сервис УАЗ занимается обслуживанием и ремонтом автомобилей, включая УАЗ и другие марки. Отзывы смешанные: много положительных оценок работы мастеров и сервиса, но также есть критика по поводу навязчивых продаж, несоответствия цен и проблем с коммуникацией. Хвалят: профессионализм мастеров, качество работы, быстрое обслуживание. Критикуют: навязчивые продажи дополнительных услуг, проблемы с ценами, некомпетентность менеджеров.\\n\\n| 1. Пользователь высоко оценивает сервис. | 2. Отмечается хороший уютный салон. | 3. Критикуется навязывание кредитов и несоответствие цен. | 4. Положительная оценка работы Лии на ТО. | 5. Персонал стремится ненавязчиво предложить дополнительные услуги. | 6. Высказываются обвинения в адрес менеджеров в обмане. | 7. Высокие оценки работы мастеров на ТО. | 8. Благодарность Жукову Валентину за помощь по гарантии. | 9. Упоминается прозрачность и качество сервиса. | 10. Положительный отзыв о работе Скокова Евгения. | 11. Замечания о не самом прозрачном сервисе. | 12. Подчёркивается профессионализм мастера Покатило. | 13. Благодарность за быстрое техобслуживание от Внучкова В. В. | 14. Отмечаются вежливость и медлительность персонала. | 15. Положительные впечатления от быстрого и дружелюбного обслуживания. | 16. Замечания о высоких ценах. | 17. Выражается благодарность Жукову Валентину за помощь. | 18. Положительная оценка обслуживания у Покатило Дмитрия. | 19. Отмечается проблема с отсутствием места для парковки перед салоном. | 20. Критика в адрес высоких цен и ориентации на определённый круг клиентов. | 21. Благодарность мастеру Покатило Дмитрию за быстрое обслуживание. | 22. Замечания о некомпетентности менеджеров. | 23. Положительные впечатления от профессионализма и приветливости менеджеров. | 24. Подчёркивается клиентоориентированность и бесплатные рекомендации по бюджетному решению проблем. | 25. Критика навязчивых попыток склонить к быстрой покупке. | 26. Благодарность Катаеву Андрею за качественное обслуживание. | 27. Замечания о проблемах с заказом голых машин без дополнительного оборудования. | 28. Положительные впечатления от обслуживания. | 29. Критика некомпетентности и плохой коммуникации при записи на обслуживание. | 30. Подчёркивается качественная работа и внимательное отношение к заказчикам. | 31. Благодарность Катаеву Андрею за отличное отношение и быструю работу. | 32. Положительные впечатления от обслуживания, замечание о неработающем вай-фай. |  \\nДополнительная информация: Автосервис, автотехцентр «АвтоГЕРМЕС сервис УАЗ» — «Хорошее место» по оценкам пользователей — по адресу Москва, Сормовская улица, 21А, метро «Юго-Восточная»\\n\\nПозвоните любому из наших продавцов-консультантов и назовите время, в которое Вы хотели бы подъехать для знакомства с автомобилями, попробовать автомобили на ходу, узнать условия персонального кредитования и осуществить окончательный выбор автомобиля. Помог в выборе автомобиля и в оформлении документов на его покупку - самый отзывчивый, приветливый и учтивый менеджер отдела продаж \" Chery\" Александр Гюлумян. Закажите звонок эксперта по оценке автомобилей и он свяжется с Вами в указанное Вами время. Столкнувшись с неприятной, но вполне жизненной ситуацией «умершего» безвозвратно двигателя немолодого автомобиля, было принято решение приобрести в срочном порядке автомобиль с пробегом, но на порядок выше по цене и статусу. Помог в выборе автомобиля и в оформлении документов на его покупку - самый отзывчивый, приветливый и учтивый менеджер отдела продаж \" Chery\" Александр Гюлумян.\\n\\nОт станции метро \"Рязанский проспект\": последний вагон из центра, выход 2. Выйти на Рязанский проспект. Далее на автобусе №491 до остановки «Сормовский проезд».  \\nОтвет:\"\"\"\\n\\n\\n', 'classification_response': 'IRRELEVANT'}\n",
       "            </pre>\n",
       "        </details>\n",
       "        \n",
       "</div>\n"
      ],
      "text/plain": [
       "<IPython.core.display.HTML object>"
      ]
     },
     "metadata": {},
     "output_type": "display_data"
    }
   ],
   "source": [
    "inspect_row(agent3_consensus_error, idx=20)"
   ]
  },
  {
   "cell_type": "code",
   "execution_count": 65,
   "id": "6a47c039-9456-4923-ac6b-4fd61440c9fa",
   "metadata": {},
   "outputs": [],
   "source": [
    "assessors_errors_consensus.append(int(agent3_consensus_error.loc[21]['permalink']))"
   ]
  },
  {
   "cell_type": "code",
   "execution_count": 66,
   "id": "9a12f301-b879-4dfc-8d0d-7634a68d93e3",
   "metadata": {},
   "outputs": [
    {
     "data": {
      "text/html": [
       "\n",
       "<div style=\"border:1px solid #ccc; padding:16px; border-radius:10px;\n",
       "            font-family:sans-serif; background-color:#f9f9f9; margin-bottom:20px\">\n",
       "  <h2>📌 Index: 21</h2>\n",
       "  <p><strong>Запрос:</strong><br>военые средние вузы</p>\n",
       "  <p><strong>Адрес:</strong><br>Астраханская область, Приволжский район, село Началово, улица Бебеля, 9</p>\n",
       "  <p><strong>Название:</strong><br>Казачий кадетский корпус имени атамана И. А. Бирюкова; Казачий кадетский корпус им. И. А. Бирюкова; ГАОУ АО Казачий Кадетский Корпус Имени Атамана И. А. Бирюкова; ГАОУ Астраханской области Казачий кадетский корпус им. атамана И. А. Бирюкова; ГАОУ Астраханской области Казачий кадетский корпус имени атамана И. А. Бирюкова; Кадетский корпус; Казачий кадетский корпус имени атамана И.А. Бирюкова</p>\n",
       "  <p><strong>ID Организации:</strong><br>104738937669</p>\n",
       "  <p><strong>Рубрика:</strong><br>Военная , кадетская школа</p>\n",
       "  <p><strong>Описание:</strong><br>—</p>\n",
       "  <p><strong>Истинная релевантность:</strong> 0.0</p>\n",
       "  <p><strong>Отзывы:</strong><br>Организация занимается обучением кадетов, готовит их к службе в военных вузах и воспитывает в духе патриотизма и казачьих традиций. Тональность отзывов преимущественно положительная: хвалят педагогический и офицерский состав, всестороннее развитие и дисциплину. Критикуют отдельные случаи некорректного поведения сотрудников и сложности с зачислением.\n",
       "\n",
       "1. Пользователь советует проверять здоровье ребёнка перед поступлением и высоко оценивает образование в кадетском корпусе.\n",
       "2. Выпускник хвалит корпус за твёрдые знания и умения, развитие силы воли и дисциплинированности.\n",
       "3. Выпускник отмечает хорошую подготовку к военному вузу и благодарит педагогический состав.\n",
       "4. Пользователь хвалит материальную базу и воспитательную работу в корпусе.\n",
       "5. Выпускник выражает благодарность за развитие личностных качеств и благодарит педагогов.\n",
       "6. Родитель рад поступлению сына в военный институт и благодарит руководство корпуса.\n",
       "7. Родитель доволен обучением сына в корпусе и отмечает поддержку учительского состава.\n",
       "8. Пользователь критикует несоблюдение обещаний и отсутствие обратной связи при поступлении.\n",
       "9. Выпускник выражает благодарность воспитателям и офицерам.\n",
       "10. Пользователь высказывает замечания по дисциплине кадетов вне корпуса.\n",
       "11. Пользователь критикует поведение офицера и выражает разочарование.\n",
       "12. Пользователь благодарит за качественное образование и образец мужества.\n",
       "13. Родитель отмечает положительные изменения в сыне благодаря обучению в корпусе.\n",
       "14. Родитель благодарит педагогический и воспитательский состав за работу.\n",
       "15. Пользователь считает корпус одним из лучших учебных заведений региона.\n",
       "16. Пользователь критикует заместителя директора по воспитательной части.\n",
       "17. Пользователь планирует, чтобы внук поступил в корпус, основываясь на отзывах.\n",
       "18. Пользователь хвалит педагогов и молодых людей, воспитанных корпусом.\n",
       "19. Пользователь отмечает красивые территории вокруг корпуса.\n",
       "20. Местный житель описывает слышимость маршировки и песен из корпуса.</p>\n",
       "  <p><strong>Предсказание модели (pred_relevance):</strong><br>1.0</p>\n",
       "  \n",
       "        <details style=\"margin-top:10px;\">\n",
       "            <summary style=\"cursor:pointer;\"><strong>🧠 Agent log (раскрыть)</strong></summary>\n",
       "            <pre style=\"white-space:pre-wrap; background:#eee; padding:10px; border-radius:6px;\">\n",
       "{'need_search_decision': 'NO', 'search_prompt': '# llm_relevance_agent/agent/prompts/need_search_v2.txt\\n# Убран пункт ### Когда поиск не нужен (NO):\\\\n1. Рубрика явно соответствует или не соответствует запросу.\\n\\nОпредели, нужно ли искать дополнительную информацию об организации, чтобы достоверно определить её релевантность пользовательскому запросу.\\n\\nОтвет строго одним из двух вариантов:\\n- \"YES\" — если информации недостаточно для достоверной оценки.\\n- \"NO\" — если можно точно определить релевантность уже по имеющимся данным.\\n\\n### Когда нужен поиск (YES):\\n1. В запросе есть уточнения (время работы, конкретные услуги, цены, бренды).\\n2. Рубрика слишком общая, а запрос специфичный.\\n3. Неясно, предоставляет ли организация нужную услугу.\\n4. В запросе есть временные или географические ограничения.\\n\\n\\n### Когда поиск не нужен (NO):\\n1. Отзывы подтверждают ключевые требования из запроса — нужные услуги, условия или особенности.\\n2. Запрос общий, а информации достаточно.\\n\\n### Примеры:\\nПользовательский запрос: Шиномонтаж 24\\nОрганизация:\\nНазвание: Шиномонтаж\\nАдрес: Республика Калмыкия, Элиста, улица В.И. Ленина, 7, стр. 8А\\nРубрика: Шиномонтаж\\nОтзывы: Организация занимается шиномонтажом. Отзывы положительные: хвалят высокое качество работы.\\nОтвет: YES\\n\\nПользовательский запрос: где дешево поесть в санкт-петербурге 2017\\nОрганизация:\\nНазвание: Буше; Bushe; БУШЕ пекарня-кондитерская ООО\\nАдрес: Санкт-Петербург, Малая Морская улица, 7\\nРубрика: Пекарня\\nОтзывы: Организация занимается выпечкой и продажей кондитерских изделий, а также предлагает завтраки и другие блюда. Отзывы преимущественно положительные: хвалят вкус еды и напитков, атмосферу и обслуживание, но критикуют высокие цены и иногда медленную работу персонала. | 1. Критикуют состояние туалета. | 2. Отмечают, что кухня не работала. | 3. Хвалят заведение в общем. | 4. Считают цены высокими. | 5. Восхищаются круасанами.\\nОтвет: NO\\n\\n### Теперь оцени следующий пример:\\nПользовательский запрос: \"военые средние вузы\"\\nОрганизация:\\nНазвание: Казачий кадетский корпус имени атамана И. А. Бирюкова; Казачий кадетский корпус им. И. А. Бирюкова; ГАОУ АО Казачий Кадетский Корпус Имени Атамана И. А. Бирюкова; ГАОУ Астраханской области Казачий кадетский корпус им. атамана И. А. Бирюкова; ГАОУ Астраханской области Казачий кадетский корпус имени атамана И. А. Бирюкова; Кадетский корпус; Казачий кадетский корпус имени атамана И.А. Бирюкова\\nАдрес: Астраханская область, Приволжский район, село Началово, улица Бебеля, 9\\nРубрика: Военная , кадетская школа\\nОтзывы: Организация занимается обучением кадетов, готовит их к службе в военных вузах и воспитывает в духе патриотизма и казачьих традиций. Тональность отзывов преимущественно положительная: хвалят педагогический и офицерский состав, всестороннее развитие и дисциплину. Критикуют отдельные случаи некорректного поведения сотрудников и сложности с зачислением.\\n\\n1. Пользователь советует проверять здоровье ребёнка перед поступлением и высоко оценивает образование в кадетском корпусе.\\n2. Выпускник хвалит корпус за твёрдые знания и умения, развитие силы воли и дисциплинированности.\\n3. Выпускник отмечает хорошую подготовку к военному вузу и благодарит педагогический состав.\\n4. Пользователь хвалит материальную базу и воспитательную работу в корпусе.\\n5. Выпускник выражает благодарность за развитие личностных качеств и благодарит педагогов.\\n6. Родитель рад поступлению сына в военный институт и благодарит руководство корпуса.\\n7. Родитель доволен обучением сына в корпусе и отмечает поддержку учительского состава.\\n8. Пользователь критикует несоблюдение обещаний и отсутствие обратной связи при поступлении.\\n9. Выпускник выражает благодарность воспитателям и офицерам.\\n10. Пользователь высказывает замечания по дисциплине кадетов вне корпуса.\\n11. Пользователь критикует поведение офицера и выражает разочарование.\\n12. Пользователь благодарит за качественное образование и образец мужества.\\n13. Родитель отмечает положительные изменения в сыне благодаря обучению в корпусе.\\n14. Родитель благодарит педагогический и воспитательский состав за работу.\\n15. Пользователь считает корпус одним из лучших учебных заведений региона.\\n16. Пользователь критикует заместителя директора по воспитательной части.\\n17. Пользователь планирует, чтобы внук поступил в корпус, основываясь на отзывах.\\n18. Пользователь хвалит педагогов и молодых людей, воспитанных корпусом.\\n19. Пользователь отмечает красивые территории вокруг корпуса.\\n20. Местный житель описывает слышимость маршировки и песен из корпуса.\\nОтвет:', 'classification_prompt': '# llm_relevance_agent/agent/prompts/classify_v2.txt\\n# Пункт 4 изменен\\n\\nТы — интеллектуальная система, которая определяет, насколько организация соответствует пользовательскому запросу.\\nОтветь строго одним из двух вариантов: \"RELEVANT_PLUS\" или \"IRRELEVANT\".\\n\\n### Правила оценки:\\n1. RELEVANT_PLUS — если организация явно удовлетворяет запросу.  \\n2. IRRELEVANT — если соответствия нет.  \\n3. В первую очередь анализируй пользовательский запрос и поля \"Рубрика\" и \"Адрес\".  \\n4. Используй отзывы и дополнительную информацию (поле \"Дополнительная информация\"), особенно если они содержат уникальные признаки, указанные в запросе.\\n5. Если в запросе указана **часть адреса** (например, улица, район или город), обязательно сверяй её с адресом организации. Несовпадение = IRRELEVANT.   \\n6. Если в запросе указан **конкретный номер отделения, филиала, школы, офиса и т.п.**, обязательно сверяй его с номером в названии организации. Несовпадение = IRRELEVANT.\\n7. Если в запросе указана **конкретная станция метро**, считай организацию RELEVANT_PLUS только если в адресе или описании явно указана та же станция метро или подтверждена близость к ней. При несоответствии — IRRELEVANT.\\n\\n### Примеры:\\nПользовательский запрос: шугаринг Красноярск  \\nОрганизация:  \\nНазвание: Студия красоты Дарлинг  \\nАдрес: Красноярск, микрорайон Взлётка, улица Весны, 3  \\nРубрика: Салон красоты  \\nОтзывы: Студия красоты «Дарлинг» предоставляет бьюти-услуги и продаёт парфюмерию и косметику.  \\nДополнительная информация: Предоставляет услуги шугаринга, депиляции, маникюра. Работает ежедневно с 9:00 до 21:00. Ответ: RELEVANT_PLUS\\n\\nПользовательский запрос: Шашлычная  \\nОрганизация:  \\nНазвание: Яндекс Лавка  \\nАдрес: Москва, улица Адмирала Макарова, 23, корп. 2  \\nРубрика: Доставка продуктов  \\nОтзывы: Организация занимается доставкой продуктов и еды, работает в формате даркстора.  \\nДополнительная информация: Сервис доставки продуктов на дом, работает через мобильное приложение.  \\nОтвет: IRRELEVANT\\n\\nПользовательский запрос: Отдел полиции № 7 \\nОрганизация:  \\nНазвание: Отдел полиции № 6 УМВД России по городу Уфе  \\nАдрес: Республика Башкортостан, Уфа, улица Лесотехникума, 92/2  \\nРубрика: Отделение полиции \\nОтзывы: Организация занимается обеспечением правопорядка и оказанием соответствующих услуг населению. Тональность отзывов смешанная: есть как положительные, так и отрицательные.  \\nДополнительная информация:   \\nОтвет: IRRELEVANT\\n\\n### Теперь оцени следующий пример:\\nПользовательский запрос: \"военые средние вузы\"  \\nОрганизация:  \\nНазвание: Казачий кадетский корпус имени атамана И. А. Бирюкова; Казачий кадетский корпус им. И. А. Бирюкова; ГАОУ АО Казачий Кадетский Корпус Имени Атамана И. А. Бирюкова; ГАОУ Астраханской области Казачий кадетский корпус им. атамана И. А. Бирюкова; ГАОУ Астраханской области Казачий кадетский корпус имени атамана И. А. Бирюкова; Кадетский корпус; Казачий кадетский корпус имени атамана И.А. Бирюкова  \\nАдрес: Астраханская область, Приволжский район, село Началово, улица Бебеля, 9  \\nРубрика: Военная , кадетская школа  \\nОтзывы: Организация занимается обучением кадетов, готовит их к службе в военных вузах и воспитывает в духе патриотизма и казачьих традиций. Тональность отзывов преимущественно положительная: хвалят педагогический и офицерский состав, всестороннее развитие и дисциплину. Критикуют отдельные случаи некорректного поведения сотрудников и сложности с зачислением.\\n\\n1. Пользователь советует проверять здоровье ребёнка перед поступлением и высоко оценивает образование в кадетском корпусе.\\n2. Выпускник хвалит корпус за твёрдые знания и умения, развитие силы воли и дисциплинированности.\\n3. Выпускник отмечает хорошую подготовку к военному вузу и благодарит педагогический состав.\\n4. Пользователь хвалит материальную базу и воспитательную работу в корпусе.\\n5. Выпускник выражает благодарность за развитие личностных качеств и благодарит педагогов.\\n6. Родитель рад поступлению сына в военный институт и благодарит руководство корпуса.\\n7. Родитель доволен обучением сына в корпусе и отмечает поддержку учительского состава.\\n8. Пользователь критикует несоблюдение обещаний и отсутствие обратной связи при поступлении.\\n9. Выпускник выражает благодарность воспитателям и офицерам.\\n10. Пользователь высказывает замечания по дисциплине кадетов вне корпуса.\\n11. Пользователь критикует поведение офицера и выражает разочарование.\\n12. Пользователь благодарит за качественное образование и образец мужества.\\n13. Родитель отмечает положительные изменения в сыне благодаря обучению в корпусе.\\n14. Родитель благодарит педагогический и воспитательский состав за работу.\\n15. Пользователь считает корпус одним из лучших учебных заведений региона.\\n16. Пользователь критикует заместителя директора по воспитательной части.\\n17. Пользователь планирует, чтобы внук поступил в корпус, основываясь на отзывах.\\n18. Пользователь хвалит педагогов и молодых людей, воспитанных корпусом.\\n19. Пользователь отмечает красивые территории вокруг корпуса.\\n20. Местный житель описывает слышимость маршировки и песен из корпуса.  \\nДополнительная информация: —  \\nОтвет:\"\"\"\\n\\n\\n', 'classification_response': 'RELEVANT_PLUS'}\n",
       "            </pre>\n",
       "        </details>\n",
       "        \n",
       "</div>\n"
      ],
      "text/plain": [
       "<IPython.core.display.HTML object>"
      ]
     },
     "metadata": {},
     "output_type": "display_data"
    }
   ],
   "source": [
    "inspect_row(agent3_consensus_error, idx=21)"
   ]
  },
  {
   "cell_type": "markdown",
   "id": "e8088370-8103-4785-bd93-c738ab4d7277",
   "metadata": {},
   "source": [
    "### ничего не найдено в запросе"
   ]
  },
  {
   "cell_type": "markdown",
   "id": "476e02bb-03e9-4661-8c02-f69ae02351b1",
   "metadata": {},
   "source": [
    "До корорекции поискового узла в результат поиска попоадали строки с Missing: (исправлено в 3 версии агента)"
   ]
  },
  {
   "cell_type": "code",
   "execution_count": 67,
   "id": "7ff4108e-33c3-4b59-9122-347b9a65fefa",
   "metadata": {},
   "outputs": [],
   "source": [
    "model_consensus_errors.append(int(agent3_consensus_error.loc[22]['permalink']))"
   ]
  },
  {
   "cell_type": "code",
   "execution_count": 68,
   "id": "b5508ca5-273c-43d3-b822-0dd043ab6a4e",
   "metadata": {},
   "outputs": [
    {
     "data": {
      "text/html": [
       "\n",
       "<div style=\"border:1px solid #ccc; padding:16px; border-radius:10px;\n",
       "            font-family:sans-serif; background-color:#f9f9f9; margin-bottom:20px\">\n",
       "  <h2>📌 Index: 22</h2>\n",
       "  <p><strong>Запрос:</strong><br>нововатутинская помещение</p>\n",
       "  <p><strong>Адрес:</strong><br>Москва, район Троицк, 3-я Нововатутинская улица, 2</p>\n",
       "  <p><strong>Название:</strong><br>Инвесттраст; Рост</p>\n",
       "  <p><strong>ID Организации:</strong><br>64591297931</p>\n",
       "  <p><strong>Рубрика:</strong><br>Квартиры в новостройках</p>\n",
       "  <p><strong>Описание:</strong><br>—</p>\n",
       "  <p><strong>Истинная релевантность:</strong> 0.0</p>\n",
       "  <p><strong>Отзывы:</strong><br>Организация занимается строительством квартир в новостройках. Отзывы смешанные: два положительных и один отрицательный. Хвалят своевременную сдачу квартир. Критикуют низкое качество строительства и проблемы с устранением дефектов. | 1. Хвалят застройщика за своевременную сдачу квартиры | 2. Критикуют застройщика за низкое качество и плохое устранение дефектов, упоминают проблемы на приёмке квартир | 3. Отмечают застройщика как хорошего, но указывают на проблемы с допуском сторонних провайдеров и операторов</p>\n",
       "  <p><strong>Предсказание модели (pred_relevance):</strong><br>1.0</p>\n",
       "  \n",
       "        <details style=\"margin-top:10px;\">\n",
       "            <summary style=\"cursor:pointer;\"><strong>🧠 Agent log (раскрыть)</strong></summary>\n",
       "            <pre style=\"white-space:pre-wrap; background:#eee; padding:10px; border-radius:6px;\">\n",
       "{'need_search_decision': 'YES', 'search_prompt': '# llm_relevance_agent/agent/prompts/need_search_v2.txt\\n# Убран пункт ### Когда поиск не нужен (NO):\\\\n1. Рубрика явно соответствует или не соответствует запросу.\\n\\nОпредели, нужно ли искать дополнительную информацию об организации, чтобы достоверно определить её релевантность пользовательскому запросу.\\n\\nОтвет строго одним из двух вариантов:\\n- \"YES\" — если информации недостаточно для достоверной оценки.\\n- \"NO\" — если можно точно определить релевантность уже по имеющимся данным.\\n\\n### Когда нужен поиск (YES):\\n1. В запросе есть уточнения (время работы, конкретные услуги, цены, бренды).\\n2. Рубрика слишком общая, а запрос специфичный.\\n3. Неясно, предоставляет ли организация нужную услугу.\\n4. В запросе есть временные или географические ограничения.\\n\\n\\n### Когда поиск не нужен (NO):\\n1. Отзывы подтверждают ключевые требования из запроса — нужные услуги, условия или особенности.\\n2. Запрос общий, а информации достаточно.\\n\\n### Примеры:\\nПользовательский запрос: Шиномонтаж 24\\nОрганизация:\\nНазвание: Шиномонтаж\\nАдрес: Республика Калмыкия, Элиста, улица В.И. Ленина, 7, стр. 8А\\nРубрика: Шиномонтаж\\nОтзывы: Организация занимается шиномонтажом. Отзывы положительные: хвалят высокое качество работы.\\nОтвет: YES\\n\\nПользовательский запрос: где дешево поесть в санкт-петербурге 2017\\nОрганизация:\\nНазвание: Буше; Bushe; БУШЕ пекарня-кондитерская ООО\\nАдрес: Санкт-Петербург, Малая Морская улица, 7\\nРубрика: Пекарня\\nОтзывы: Организация занимается выпечкой и продажей кондитерских изделий, а также предлагает завтраки и другие блюда. Отзывы преимущественно положительные: хвалят вкус еды и напитков, атмосферу и обслуживание, но критикуют высокие цены и иногда медленную работу персонала. | 1. Критикуют состояние туалета. | 2. Отмечают, что кухня не работала. | 3. Хвалят заведение в общем. | 4. Считают цены высокими. | 5. Восхищаются круасанами.\\nОтвет: NO\\n\\n### Теперь оцени следующий пример:\\nПользовательский запрос: \"нововатутинская помещение\"\\nОрганизация:\\nНазвание: Инвесттраст; Рост\\nАдрес: Москва, район Троицк, 3-я Нововатутинская улица, 2\\nРубрика: Квартиры в новостройках\\nОтзывы: Организация занимается строительством квартир в новостройках. Отзывы смешанные: два положительных и один отрицательный. Хвалят своевременную сдачу квартир. Критикуют низкое качество строительства и проблемы с устранением дефектов. | 1. Хвалят застройщика за своевременную сдачу квартиры | 2. Критикуют застройщика за низкое качество и плохое устранение дефектов, упоминают проблемы на приёмке квартир | 3. Отмечают застройщика как хорошего, но указывают на проблемы с допуском сторонних провайдеров и операторов\\nОтвет:', 'search_query': 'Инвесттраст Квартиры в новостройках Москва, район Троицк, 3-я Нововатутинская улица, 2 нововатутинская помещение', 'search_results': '', 'classification_prompt': '# llm_relevance_agent/agent/prompts/classify_v2.txt\\n# Пункт 4 изменен\\n\\nТы — интеллектуальная система, которая определяет, насколько организация соответствует пользовательскому запросу.\\nОтветь строго одним из двух вариантов: \"RELEVANT_PLUS\" или \"IRRELEVANT\".\\n\\n### Правила оценки:\\n1. RELEVANT_PLUS — если организация явно удовлетворяет запросу.  \\n2. IRRELEVANT — если соответствия нет.  \\n3. В первую очередь анализируй пользовательский запрос и поля \"Рубрика\" и \"Адрес\".  \\n4. Используй отзывы и дополнительную информацию (поле \"Дополнительная информация\"), особенно если они содержат уникальные признаки, указанные в запросе.\\n5. Если в запросе указана **часть адреса** (например, улица, район или город), обязательно сверяй её с адресом организации. Несовпадение = IRRELEVANT.   \\n6. Если в запросе указан **конкретный номер отделения, филиала, школы, офиса и т.п.**, обязательно сверяй его с номером в названии организации. Несовпадение = IRRELEVANT.\\n7. Если в запросе указана **конкретная станция метро**, считай организацию RELEVANT_PLUS только если в адресе или описании явно указана та же станция метро или подтверждена близость к ней. При несоответствии — IRRELEVANT.\\n\\n### Примеры:\\nПользовательский запрос: шугаринг Красноярск  \\nОрганизация:  \\nНазвание: Студия красоты Дарлинг  \\nАдрес: Красноярск, микрорайон Взлётка, улица Весны, 3  \\nРубрика: Салон красоты  \\nОтзывы: Студия красоты «Дарлинг» предоставляет бьюти-услуги и продаёт парфюмерию и косметику.  \\nДополнительная информация: Предоставляет услуги шугаринга, депиляции, маникюра. Работает ежедневно с 9:00 до 21:00. Ответ: RELEVANT_PLUS\\n\\nПользовательский запрос: Шашлычная  \\nОрганизация:  \\nНазвание: Яндекс Лавка  \\nАдрес: Москва, улица Адмирала Макарова, 23, корп. 2  \\nРубрика: Доставка продуктов  \\nОтзывы: Организация занимается доставкой продуктов и еды, работает в формате даркстора.  \\nДополнительная информация: Сервис доставки продуктов на дом, работает через мобильное приложение.  \\nОтвет: IRRELEVANT\\n\\nПользовательский запрос: Отдел полиции № 7 \\nОрганизация:  \\nНазвание: Отдел полиции № 6 УМВД России по городу Уфе  \\nАдрес: Республика Башкортостан, Уфа, улица Лесотехникума, 92/2  \\nРубрика: Отделение полиции \\nОтзывы: Организация занимается обеспечением правопорядка и оказанием соответствующих услуг населению. Тональность отзывов смешанная: есть как положительные, так и отрицательные.  \\nДополнительная информация:   \\nОтвет: IRRELEVANT\\n\\n### Теперь оцени следующий пример:\\nПользовательский запрос: \"нововатутинская помещение\"  \\nОрганизация:  \\nНазвание: Инвесттраст; Рост  \\nАдрес: Москва, район Троицк, 3-я Нововатутинская улица, 2  \\nРубрика: Квартиры в новостройках  \\nОтзывы: Организация занимается строительством квартир в новостройках. Отзывы смешанные: два положительных и один отрицательный. Хвалят своевременную сдачу квартир. Критикуют низкое качество строительства и проблемы с устранением дефектов. | 1. Хвалят застройщика за своевременную сдачу квартиры | 2. Критикуют застройщика за низкое качество и плохое устранение дефектов, упоминают проблемы на приёмке квартир | 3. Отмечают застройщика как хорошего, но указывают на проблемы с допуском сторонних провайдеров и операторов  \\nДополнительная информация: —  \\nОтвет:\"\"\"\\n\\n\\n', 'classification_response': 'RELEVANT_PLUS'}\n",
       "            </pre>\n",
       "        </details>\n",
       "        \n",
       "</div>\n"
      ],
      "text/plain": [
       "<IPython.core.display.HTML object>"
      ]
     },
     "metadata": {},
     "output_type": "display_data"
    }
   ],
   "source": [
    "inspect_row(agent3_consensus_error, idx=22)"
   ]
  },
  {
   "cell_type": "markdown",
   "id": "aae019f7-611b-4c29-ab32-86bcb493d25a",
   "metadata": {},
   "source": [
    "### Справочный/агрегирующий запрос"
   ]
  },
  {
   "cell_type": "markdown",
   "id": "92567905-3bce-41ea-a09a-5c66e310c498",
   "metadata": {},
   "source": [
    "Модель восприняла частичное тематическое совпадение как достаточное; не распознала ключевой объект интереса — \"сушилка\""
   ]
  },
  {
   "cell_type": "code",
   "execution_count": 69,
   "id": "42a3ac96-5cf6-4282-abe1-1d0f825fe152",
   "metadata": {},
   "outputs": [],
   "source": [
    "model_consensus_errors.append(int(agent3_consensus_error.loc[23]['permalink']))"
   ]
  },
  {
   "cell_type": "code",
   "execution_count": 70,
   "id": "29b8c915-bd6f-44fa-956e-0a1a302192b9",
   "metadata": {},
   "outputs": [
    {
     "data": {
      "text/html": [
       "\n",
       "<div style=\"border:1px solid #ccc; padding:16px; border-radius:10px;\n",
       "            font-family:sans-serif; background-color:#f9f9f9; margin-bottom:20px\">\n",
       "  <h2>📌 Index: 23</h2>\n",
       "  <p><strong>Запрос:</strong><br>адреса магазинов в липецке где можно купить сушилку для овощей и фруктов</p>\n",
       "  <p><strong>Адрес:</strong><br>Липецк, улица Плеханова, 31</p>\n",
       "  <p><strong>Название:</strong><br>Грядка; Gryadka</p>\n",
       "  <p><strong>ID Организации:</strong><br>142912370829</p>\n",
       "  <p><strong>Рубрика:</strong><br>Магазин овощей и фруктов</p>\n",
       "  <p><strong>Описание:</strong><br>Магазин «Грядка» предлагает свежие овощи, фрукты, а также орехи и сухофрукты | болгарский перец | манго | апельсин | яблоко | грецкий орех | чернослив | салат тепличный | микс-салат | салат Айсберг | шпинат</p>\n",
       "  <p><strong>Истинная релевантность:</strong> 0.0</p>\n",
       "  <p><strong>Отзывы:</strong><br>Организация занимается продажей овощей, фруктов, орехов и сухофруктов. Отзывы смешанные: есть как положительные, так и отрицательные. Хвалят свежесть продуктов, цены и удобное расположение. Критикуют качество товаров, обслуживание и случаи обвешивания.\n",
       "\n",
       "1. Критикуют высокие цены по сравнению с конкурентами при аналогичном качестве.\n",
       "2. Пользователь недоволен качеством кваса, сравнивая его с другим магазином.\n",
       "3. Хвалят свежие фрукты и удобное расположение магазина, рекомендуют его.\n",
       "4. Пользователь жалуется на сухие мандарины и отсутствие предупреждения об этом.\n",
       "5. Отмечают хорошие цены и акции, но неудобное время приёма товара.\n",
       "6. Пользователь указывает на расхождение в весе и просит завезти свежие шампиньоны.\n",
       "7. Рекомендуют сеть за свежие продукты и доступные цены, упоминают накопительную карту.\n",
       "8. Пользователь жалуется на неприятный вкус зелени и редиса.\n",
       "9. Критикуют плохое качество продуктов и грубое обслуживание.\n",
       "10. Нейтральный отзыв о обычном овощно-фруктовом киоске.\n",
       "11. Хвалят большой выбор свежих продуктов.\n",
       "12. Рекомендуют киоски за свежие овощи и фрукты.\n",
       "13. Пользователь отмечает неплохие овощи и фрукты, но оставляет желать лучшего цены.\n",
       "14. Хвалят удобство расположения киосков и ассортимент.\n",
       "15. Критикуют обслуживание и обвинения в обвешивании.\n",
       "16. Рекомендуют ларьки за удобный ценник и акционные товары.\n",
       "17. Хвалят свежие овощи и фрукты, а также приветливого продавца.\n",
       "18. Пользователь жалуется на обман с ценами и необходимость проверять чеки.\n",
       "19. Критикуют обслуживание и отношение к покупателям.\n",
       "20. Пользователь недоволен качеством продуктов, несмотря на милое обслуживание.\n",
       "21. Рекомендуют магазин за свежие продукты, скидки и хороших продавцов.</p>\n",
       "  <p><strong>Предсказание модели (pred_relevance):</strong><br>1.0</p>\n",
       "  \n",
       "        <details style=\"margin-top:10px;\">\n",
       "            <summary style=\"cursor:pointer;\"><strong>🧠 Agent log (раскрыть)</strong></summary>\n",
       "            <pre style=\"white-space:pre-wrap; background:#eee; padding:10px; border-radius:6px;\">\n",
       "{'need_search_decision': 'YES', 'search_prompt': '# llm_relevance_agent/agent/prompts/need_search_v2.txt\\n# Убран пункт ### Когда поиск не нужен (NO):\\\\n1. Рубрика явно соответствует или не соответствует запросу.\\n\\nОпредели, нужно ли искать дополнительную информацию об организации, чтобы достоверно определить её релевантность пользовательскому запросу.\\n\\nОтвет строго одним из двух вариантов:\\n- \"YES\" — если информации недостаточно для достоверной оценки.\\n- \"NO\" — если можно точно определить релевантность уже по имеющимся данным.\\n\\n### Когда нужен поиск (YES):\\n1. В запросе есть уточнения (время работы, конкретные услуги, цены, бренды).\\n2. Рубрика слишком общая, а запрос специфичный.\\n3. Неясно, предоставляет ли организация нужную услугу.\\n4. В запросе есть временные или географические ограничения.\\n\\n\\n### Когда поиск не нужен (NO):\\n1. Отзывы подтверждают ключевые требования из запроса — нужные услуги, условия или особенности.\\n2. Запрос общий, а информации достаточно.\\n\\n### Примеры:\\nПользовательский запрос: Шиномонтаж 24\\nОрганизация:\\nНазвание: Шиномонтаж\\nАдрес: Республика Калмыкия, Элиста, улица В.И. Ленина, 7, стр. 8А\\nРубрика: Шиномонтаж\\nОтзывы: Организация занимается шиномонтажом. Отзывы положительные: хвалят высокое качество работы.\\nОтвет: YES\\n\\nПользовательский запрос: где дешево поесть в санкт-петербурге 2017\\nОрганизация:\\nНазвание: Буше; Bushe; БУШЕ пекарня-кондитерская ООО\\nАдрес: Санкт-Петербург, Малая Морская улица, 7\\nРубрика: Пекарня\\nОтзывы: Организация занимается выпечкой и продажей кондитерских изделий, а также предлагает завтраки и другие блюда. Отзывы преимущественно положительные: хвалят вкус еды и напитков, атмосферу и обслуживание, но критикуют высокие цены и иногда медленную работу персонала. | 1. Критикуют состояние туалета. | 2. Отмечают, что кухня не работала. | 3. Хвалят заведение в общем. | 4. Считают цены высокими. | 5. Восхищаются круасанами.\\nОтвет: NO\\n\\n### Теперь оцени следующий пример:\\nПользовательский запрос: \"адреса магазинов в липецке где можно купить сушилку для овощей и фруктов\"\\nОрганизация:\\nНазвание: Грядка; Gryadka\\nАдрес: Липецк, улица Плеханова, 31\\nРубрика: Магазин овощей и фруктов\\nОтзывы: Организация занимается продажей овощей, фруктов, орехов и сухофруктов. Отзывы смешанные: есть как положительные, так и отрицательные. Хвалят свежесть продуктов, цены и удобное расположение. Критикуют качество товаров, обслуживание и случаи обвешивания.\\n\\n1. Критикуют высокие цены по сравнению с конкурентами при аналогичном качестве.\\n2. Пользователь недоволен качеством кваса, сравнивая его с другим магазином.\\n3. Хвалят свежие фрукты и удобное расположение магазина, рекомендуют его.\\n4. Пользователь жалуется на сухие мандарины и отсутствие предупреждения об этом.\\n5. Отмечают хорошие цены и акции, но неудобное время приёма товара.\\n6. Пользователь указывает на расхождение в весе и просит завезти свежие шампиньоны.\\n7. Рекомендуют сеть за свежие продукты и доступные цены, упоминают накопительную карту.\\n8. Пользователь жалуется на неприятный вкус зелени и редиса.\\n9. Критикуют плохое качество продуктов и грубое обслуживание.\\n10. Нейтральный отзыв о обычном овощно-фруктовом киоске.\\n11. Хвалят большой выбор свежих продуктов.\\n12. Рекомендуют киоски за свежие овощи и фрукты.\\n13. Пользователь отмечает неплохие овощи и фрукты, но оставляет желать лучшего цены.\\n14. Хвалят удобство расположения киосков и ассортимент.\\n15. Критикуют обслуживание и обвинения в обвешивании.\\n16. Рекомендуют ларьки за удобный ценник и акционные товары.\\n17. Хвалят свежие овощи и фрукты, а также приветливого продавца.\\n18. Пользователь жалуется на обман с ценами и необходимость проверять чеки.\\n19. Критикуют обслуживание и отношение к покупателям.\\n20. Пользователь недоволен качеством продуктов, несмотря на милое обслуживание.\\n21. Рекомендуют магазин за свежие продукты, скидки и хороших продавцов.\\nОтвет:', 'search_query': 'Грядка Магазин овощей и фруктов Липецк, улица Плеханова, 31 адреса магазинов в липецке где можно купить сушилку для овощей и фруктов', 'search_results': 'Магазин овощей и фруктов «Грядка» по адресу Липецк, улица Плеханова, 31, ☎️ +7 800 600 60 25. Читать 21 отзыв, смотреть 19 фото, панорамы, часы работы.\\n\\nМагазин овощей и фруктов, орехи, снеки, сухофрукты · ул. Студенческий Городок, 22 · Фото. Грядка (ул. Плеханова, 31), магазин овощей и фруктов в Липецке. Грядка.\\n\\nПрайс-лист Грядка, киоск по продаже овощей и фруктов в Липецке, Плехановский Пассаж, улица Плеханова, 31 на 2ГИС. ... Контакты · Инфо · Отзывы · Цены4 · Фото5.', 'classification_prompt': '# llm_relevance_agent/agent/prompts/classify_v2.txt\\n# Пункт 4 изменен\\n\\nТы — интеллектуальная система, которая определяет, насколько организация соответствует пользовательскому запросу.\\nОтветь строго одним из двух вариантов: \"RELEVANT_PLUS\" или \"IRRELEVANT\".\\n\\n### Правила оценки:\\n1. RELEVANT_PLUS — если организация явно удовлетворяет запросу.  \\n2. IRRELEVANT — если соответствия нет.  \\n3. В первую очередь анализируй пользовательский запрос и поля \"Рубрика\" и \"Адрес\".  \\n4. Используй отзывы и дополнительную информацию (поле \"Дополнительная информация\"), особенно если они содержат уникальные признаки, указанные в запросе.\\n5. Если в запросе указана **часть адреса** (например, улица, район или город), обязательно сверяй её с адресом организации. Несовпадение = IRRELEVANT.   \\n6. Если в запросе указан **конкретный номер отделения, филиала, школы, офиса и т.п.**, обязательно сверяй его с номером в названии организации. Несовпадение = IRRELEVANT.\\n7. Если в запросе указана **конкретная станция метро**, считай организацию RELEVANT_PLUS только если в адресе или описании явно указана та же станция метро или подтверждена близость к ней. При несоответствии — IRRELEVANT.\\n\\n### Примеры:\\nПользовательский запрос: шугаринг Красноярск  \\nОрганизация:  \\nНазвание: Студия красоты Дарлинг  \\nАдрес: Красноярск, микрорайон Взлётка, улица Весны, 3  \\nРубрика: Салон красоты  \\nОтзывы: Студия красоты «Дарлинг» предоставляет бьюти-услуги и продаёт парфюмерию и косметику.  \\nДополнительная информация: Предоставляет услуги шугаринга, депиляции, маникюра. Работает ежедневно с 9:00 до 21:00. Ответ: RELEVANT_PLUS\\n\\nПользовательский запрос: Шашлычная  \\nОрганизация:  \\nНазвание: Яндекс Лавка  \\nАдрес: Москва, улица Адмирала Макарова, 23, корп. 2  \\nРубрика: Доставка продуктов  \\nОтзывы: Организация занимается доставкой продуктов и еды, работает в формате даркстора.  \\nДополнительная информация: Сервис доставки продуктов на дом, работает через мобильное приложение.  \\nОтвет: IRRELEVANT\\n\\nПользовательский запрос: Отдел полиции № 7 \\nОрганизация:  \\nНазвание: Отдел полиции № 6 УМВД России по городу Уфе  \\nАдрес: Республика Башкортостан, Уфа, улица Лесотехникума, 92/2  \\nРубрика: Отделение полиции \\nОтзывы: Организация занимается обеспечением правопорядка и оказанием соответствующих услуг населению. Тональность отзывов смешанная: есть как положительные, так и отрицательные.  \\nДополнительная информация:   \\nОтвет: IRRELEVANT\\n\\n### Теперь оцени следующий пример:\\nПользовательский запрос: \"адреса магазинов в липецке где можно купить сушилку для овощей и фруктов\"  \\nОрганизация:  \\nНазвание: Грядка; Gryadka  \\nАдрес: Липецк, улица Плеханова, 31  \\nРубрика: Магазин овощей и фруктов  \\nОтзывы: Организация занимается продажей овощей, фруктов, орехов и сухофруктов. Отзывы смешанные: есть как положительные, так и отрицательные. Хвалят свежесть продуктов, цены и удобное расположение. Критикуют качество товаров, обслуживание и случаи обвешивания.\\n\\n1. Критикуют высокие цены по сравнению с конкурентами при аналогичном качестве.\\n2. Пользователь недоволен качеством кваса, сравнивая его с другим магазином.\\n3. Хвалят свежие фрукты и удобное расположение магазина, рекомендуют его.\\n4. Пользователь жалуется на сухие мандарины и отсутствие предупреждения об этом.\\n5. Отмечают хорошие цены и акции, но неудобное время приёма товара.\\n6. Пользователь указывает на расхождение в весе и просит завезти свежие шампиньоны.\\n7. Рекомендуют сеть за свежие продукты и доступные цены, упоминают накопительную карту.\\n8. Пользователь жалуется на неприятный вкус зелени и редиса.\\n9. Критикуют плохое качество продуктов и грубое обслуживание.\\n10. Нейтральный отзыв о обычном овощно-фруктовом киоске.\\n11. Хвалят большой выбор свежих продуктов.\\n12. Рекомендуют киоски за свежие овощи и фрукты.\\n13. Пользователь отмечает неплохие овощи и фрукты, но оставляет желать лучшего цены.\\n14. Хвалят удобство расположения киосков и ассортимент.\\n15. Критикуют обслуживание и обвинения в обвешивании.\\n16. Рекомендуют ларьки за удобный ценник и акционные товары.\\n17. Хвалят свежие овощи и фрукты, а также приветливого продавца.\\n18. Пользователь жалуется на обман с ценами и необходимость проверять чеки.\\n19. Критикуют обслуживание и отношение к покупателям.\\n20. Пользователь недоволен качеством продуктов, несмотря на милое обслуживание.\\n21. Рекомендуют магазин за свежие продукты, скидки и хороших продавцов.  \\nДополнительная информация: Магазин овощей и фруктов «Грядка» по адресу Липецк, улица Плеханова, 31, ☎️ +7 800 600 60 25. Читать 21 отзыв, смотреть 19 фото, панорамы, часы работы.\\n\\nМагазин овощей и фруктов, орехи, снеки, сухофрукты · ул. Студенческий Городок, 22 · Фото. Грядка (ул. Плеханова, 31), магазин овощей и фруктов в Липецке. Грядка.\\n\\nПрайс-лист Грядка, киоск по продаже овощей и фруктов в Липецке, Плехановский Пассаж, улица Плеханова, 31 на 2ГИС. ... Контакты · Инфо · Отзывы · Цены4 · Фото5.  \\nОтвет:\"\"\"\\n\\n\\n', 'classification_response': 'RELEVANT_PLUS'}\n",
       "            </pre>\n",
       "        </details>\n",
       "        \n",
       "</div>\n"
      ],
      "text/plain": [
       "<IPython.core.display.HTML object>"
      ]
     },
     "metadata": {},
     "output_type": "display_data"
    }
   ],
   "source": [
    "inspect_row(agent3_consensus_error, idx=23)"
   ]
  },
  {
   "cell_type": "markdown",
   "id": "c11de08f-d310-4f8f-b387-038718294768",
   "metadata": {},
   "source": [
    "### Латентная релевантность раскрыта агентом"
   ]
  },
  {
   "cell_type": "code",
   "execution_count": 71,
   "id": "f83e6525-3643-4f28-b516-1b4e612a5874",
   "metadata": {},
   "outputs": [],
   "source": [
    "assessors_errors_consensus.append(int(agent3_consensus_error.loc[24]['permalink']))"
   ]
  },
  {
   "cell_type": "code",
   "execution_count": 72,
   "id": "d519bf3e-c484-4c78-a8b3-78d81753e3ec",
   "metadata": {
    "collapsed": true,
    "jupyter": {
     "outputs_hidden": true
    }
   },
   "outputs": [
    {
     "data": {
      "text/html": [
       "\n",
       "<div style=\"border:1px solid #ccc; padding:16px; border-radius:10px;\n",
       "            font-family:sans-serif; background-color:#f9f9f9; margin-bottom:20px\">\n",
       "  <h2>📌 Index: 24</h2>\n",
       "  <p><strong>Запрос:</strong><br>рестораны москва сити</p>\n",
       "  <p><strong>Адрес:</strong><br>Москва, улица Большая Дмитровка, 7/5с2</p>\n",
       "  <p><strong>Название:</strong><br>Tehnikum; Техникум; Бистро Tehnikum; Ресторан Техникум</p>\n",
       "  <p><strong>ID Организации:</strong><br>1753926793</p>\n",
       "  <p><strong>Рубрика:</strong><br>Ресторан</p>\n",
       "  <p><strong>Описание:</strong><br>Ресторан Tehnikum предлагает широкий выбор блюд на завтрак, обеды и ужины, включая пасту, бургеры, роллы, пиццу, десерты и напитки. | блинный торт | скрэмбл | омлет | круассан | поке | ролл | пицца | буррата | смузи | эспрессо-тоник | тартар | брускетта | суши-сет | комбо обед | паста | бургер | дорадо | лазанья | шашлык | картофель фри | чизкейк</p>\n",
       "  <p><strong>Истинная релевантность:</strong> 1.0</p>\n",
       "  <p><strong>Отзывы:</strong><br>Организация занимается ресторанным бизнесом в центре Москвы. Тональность отзывов преимущественно положительная: пользователи хвалят вкусную еду, атмосферу и обслуживание. Критикуют некоторые аспекты, такие как теснота, шум и проблемы с сервисом. | 1. Пользователь доволен всем | 2. Хвалят вкус блюд | 3. Отмечают большие размеры тортов | 4. Высоко оценивают десерты | 5. Считают место топовым | 6. Подчёркивают вкус тортов | 7. Высоко оценивают уровень ресторана | 8. Отмечают вкусные десерты и поке | 9. Хвалят вкусные еда и напитки | 10. Подчёркивают качество приготовления | 11. Отмечают быстрое обслуживание и вкусную еду | 12. Упоминают о проблемах с чистотой туалета | 13. Хвалят завтраки | 14. Отмечают большие порции | 15. Подчёркивают вкусные коктейли и десерты | 16. Жалуются на отсутствие некоторых блюд в меню | 17. Критикуют тесноту | 18. Отмечают невкусную еду и шум | 19. Планируют вернуться в ресторан | 20. Хвалят атмосферу и местоположение | 21. Подчёркивают высокое качество авторской кухни | 22. Отмечают вежливый сервис | 23. Упоминают высокие цены | 24. Подчёркивают романтическую обстановку | 25. Жалуются на плохое обслуживание | 26. Хвалят качество еды | 27. Отмечают вкусный завтрак | 28. Подчёркивают популярность места | 29. Жалуются на проблемы с сезонным меню | 30. Отмечают вкус котлет из щуки | 31. Жалуются на темноту вечером | 32. Хвалят бургер и другие блюда | 33. Жалуются на долгое ожидание заказа | 34. Подчёркивают удобство самовывоза | 35. Хвалят персонал и качество обслуживания | 36. Отмечают уникальные блюда | 37. Подчёркивают полную посадку | 38. Жалуются на шум | 39. Отмечают адекватные цены | 40. Хвалят легендарное место</p>\n",
       "  <p><strong>Предсказание модели (pred_relevance):</strong><br>0.0</p>\n",
       "  \n",
       "        <details style=\"margin-top:10px;\">\n",
       "            <summary style=\"cursor:pointer;\"><strong>🧠 Agent log (раскрыть)</strong></summary>\n",
       "            <pre style=\"white-space:pre-wrap; background:#eee; padding:10px; border-radius:6px;\">\n",
       "{'need_search_decision': 'YES', 'search_prompt': '# llm_relevance_agent/agent/prompts/need_search_v2.txt\\n# Убран пункт ### Когда поиск не нужен (NO):\\\\n1. Рубрика явно соответствует или не соответствует запросу.\\n\\nОпредели, нужно ли искать дополнительную информацию об организации, чтобы достоверно определить её релевантность пользовательскому запросу.\\n\\nОтвет строго одним из двух вариантов:\\n- \"YES\" — если информации недостаточно для достоверной оценки.\\n- \"NO\" — если можно точно определить релевантность уже по имеющимся данным.\\n\\n### Когда нужен поиск (YES):\\n1. В запросе есть уточнения (время работы, конкретные услуги, цены, бренды).\\n2. Рубрика слишком общая, а запрос специфичный.\\n3. Неясно, предоставляет ли организация нужную услугу.\\n4. В запросе есть временные или географические ограничения.\\n\\n\\n### Когда поиск не нужен (NO):\\n1. Отзывы подтверждают ключевые требования из запроса — нужные услуги, условия или особенности.\\n2. Запрос общий, а информации достаточно.\\n\\n### Примеры:\\nПользовательский запрос: Шиномонтаж 24\\nОрганизация:\\nНазвание: Шиномонтаж\\nАдрес: Республика Калмыкия, Элиста, улица В.И. Ленина, 7, стр. 8А\\nРубрика: Шиномонтаж\\nОтзывы: Организация занимается шиномонтажом. Отзывы положительные: хвалят высокое качество работы.\\nОтвет: YES\\n\\nПользовательский запрос: где дешево поесть в санкт-петербурге 2017\\nОрганизация:\\nНазвание: Буше; Bushe; БУШЕ пекарня-кондитерская ООО\\nАдрес: Санкт-Петербург, Малая Морская улица, 7\\nРубрика: Пекарня\\nОтзывы: Организация занимается выпечкой и продажей кондитерских изделий, а также предлагает завтраки и другие блюда. Отзывы преимущественно положительные: хвалят вкус еды и напитков, атмосферу и обслуживание, но критикуют высокие цены и иногда медленную работу персонала. | 1. Критикуют состояние туалета. | 2. Отмечают, что кухня не работала. | 3. Хвалят заведение в общем. | 4. Считают цены высокими. | 5. Восхищаются круасанами.\\nОтвет: NO\\n\\n### Теперь оцени следующий пример:\\nПользовательский запрос: \"рестораны москва сити\"\\nОрганизация:\\nНазвание: Tehnikum; Техникум; Бистро Tehnikum; Ресторан Техникум\\nАдрес: Москва, улица Большая Дмитровка, 7/5с2\\nРубрика: Ресторан\\nОтзывы: Организация занимается ресторанным бизнесом в центре Москвы. Тональность отзывов преимущественно положительная: пользователи хвалят вкусную еду, атмосферу и обслуживание. Критикуют некоторые аспекты, такие как теснота, шум и проблемы с сервисом. | 1. Пользователь доволен всем | 2. Хвалят вкус блюд | 3. Отмечают большие размеры тортов | 4. Высоко оценивают десерты | 5. Считают место топовым | 6. Подчёркивают вкус тортов | 7. Высоко оценивают уровень ресторана | 8. Отмечают вкусные десерты и поке | 9. Хвалят вкусные еда и напитки | 10. Подчёркивают качество приготовления | 11. Отмечают быстрое обслуживание и вкусную еду | 12. Упоминают о проблемах с чистотой туалета | 13. Хвалят завтраки | 14. Отмечают большие порции | 15. Подчёркивают вкусные коктейли и десерты | 16. Жалуются на отсутствие некоторых блюд в меню | 17. Критикуют тесноту | 18. Отмечают невкусную еду и шум | 19. Планируют вернуться в ресторан | 20. Хвалят атмосферу и местоположение | 21. Подчёркивают высокое качество авторской кухни | 22. Отмечают вежливый сервис | 23. Упоминают высокие цены | 24. Подчёркивают романтическую обстановку | 25. Жалуются на плохое обслуживание | 26. Хвалят качество еды | 27. Отмечают вкусный завтрак | 28. Подчёркивают популярность места | 29. Жалуются на проблемы с сезонным меню | 30. Отмечают вкус котлет из щуки | 31. Жалуются на темноту вечером | 32. Хвалят бургер и другие блюда | 33. Жалуются на долгое ожидание заказа | 34. Подчёркивают удобство самовывоза | 35. Хвалят персонал и качество обслуживания | 36. Отмечают уникальные блюда | 37. Подчёркивают полную посадку | 38. Жалуются на шум | 39. Отмечают адекватные цены | 40. Хвалят легендарное место\\nОтвет:', 'search_query': 'Tehnikum Ресторан Москва, улица Большая Дмитровка, 7/5с2 рестораны москва сити', 'search_results': 'Ресторан Tehnikum — «Хорошее место» по оценкам пользователей — по адресу Москва, улица Большая Дмитровка, 7/5с2, метро «Охотный Ряд», ☎️ +7 499 136 73 36.\\n\\n«Техникум» на Большой Дмитровке - это ресторан в центре Москвы рядом с Большим Театром. В меню - морепродукты, мясо, пиццы, хумус с питой, и бургеры.\\n\\n«Техникум» - современные рестораны бистро в центре Москвы. В наших ресторанах есть вкусные завтраки, вегетарианское меню и летние веранды.', 'classification_prompt': '# llm_relevance_agent/agent/prompts/classify_v2.txt\\n# Пункт 4 изменен\\n\\nТы — интеллектуальная система, которая определяет, насколько организация соответствует пользовательскому запросу.\\nОтветь строго одним из двух вариантов: \"RELEVANT_PLUS\" или \"IRRELEVANT\".\\n\\n### Правила оценки:\\n1. RELEVANT_PLUS — если организация явно удовлетворяет запросу.  \\n2. IRRELEVANT — если соответствия нет.  \\n3. В первую очередь анализируй пользовательский запрос и поля \"Рубрика\" и \"Адрес\".  \\n4. Используй отзывы и дополнительную информацию (поле \"Дополнительная информация\"), особенно если они содержат уникальные признаки, указанные в запросе.\\n5. Если в запросе указана **часть адреса** (например, улица, район или город), обязательно сверяй её с адресом организации. Несовпадение = IRRELEVANT.   \\n6. Если в запросе указан **конкретный номер отделения, филиала, школы, офиса и т.п.**, обязательно сверяй его с номером в названии организации. Несовпадение = IRRELEVANT.\\n7. Если в запросе указана **конкретная станция метро**, считай организацию RELEVANT_PLUS только если в адресе или описании явно указана та же станция метро или подтверждена близость к ней. При несоответствии — IRRELEVANT.\\n\\n### Примеры:\\nПользовательский запрос: шугаринг Красноярск  \\nОрганизация:  \\nНазвание: Студия красоты Дарлинг  \\nАдрес: Красноярск, микрорайон Взлётка, улица Весны, 3  \\nРубрика: Салон красоты  \\nОтзывы: Студия красоты «Дарлинг» предоставляет бьюти-услуги и продаёт парфюмерию и косметику.  \\nДополнительная информация: Предоставляет услуги шугаринга, депиляции, маникюра. Работает ежедневно с 9:00 до 21:00. Ответ: RELEVANT_PLUS\\n\\nПользовательский запрос: Шашлычная  \\nОрганизация:  \\nНазвание: Яндекс Лавка  \\nАдрес: Москва, улица Адмирала Макарова, 23, корп. 2  \\nРубрика: Доставка продуктов  \\nОтзывы: Организация занимается доставкой продуктов и еды, работает в формате даркстора.  \\nДополнительная информация: Сервис доставки продуктов на дом, работает через мобильное приложение.  \\nОтвет: IRRELEVANT\\n\\nПользовательский запрос: Отдел полиции № 7 \\nОрганизация:  \\nНазвание: Отдел полиции № 6 УМВД России по городу Уфе  \\nАдрес: Республика Башкортостан, Уфа, улица Лесотехникума, 92/2  \\nРубрика: Отделение полиции \\nОтзывы: Организация занимается обеспечением правопорядка и оказанием соответствующих услуг населению. Тональность отзывов смешанная: есть как положительные, так и отрицательные.  \\nДополнительная информация:   \\nОтвет: IRRELEVANT\\n\\n### Теперь оцени следующий пример:\\nПользовательский запрос: \"рестораны москва сити\"  \\nОрганизация:  \\nНазвание: Tehnikum; Техникум; Бистро Tehnikum; Ресторан Техникум  \\nАдрес: Москва, улица Большая Дмитровка, 7/5с2  \\nРубрика: Ресторан  \\nОтзывы: Организация занимается ресторанным бизнесом в центре Москвы. Тональность отзывов преимущественно положительная: пользователи хвалят вкусную еду, атмосферу и обслуживание. Критикуют некоторые аспекты, такие как теснота, шум и проблемы с сервисом. | 1. Пользователь доволен всем | 2. Хвалят вкус блюд | 3. Отмечают большие размеры тортов | 4. Высоко оценивают десерты | 5. Считают место топовым | 6. Подчёркивают вкус тортов | 7. Высоко оценивают уровень ресторана | 8. Отмечают вкусные десерты и поке | 9. Хвалят вкусные еда и напитки | 10. Подчёркивают качество приготовления | 11. Отмечают быстрое обслуживание и вкусную еду | 12. Упоминают о проблемах с чистотой туалета | 13. Хвалят завтраки | 14. Отмечают большие порции | 15. Подчёркивают вкусные коктейли и десерты | 16. Жалуются на отсутствие некоторых блюд в меню | 17. Критикуют тесноту | 18. Отмечают невкусную еду и шум | 19. Планируют вернуться в ресторан | 20. Хвалят атмосферу и местоположение | 21. Подчёркивают высокое качество авторской кухни | 22. Отмечают вежливый сервис | 23. Упоминают высокие цены | 24. Подчёркивают романтическую обстановку | 25. Жалуются на плохое обслуживание | 26. Хвалят качество еды | 27. Отмечают вкусный завтрак | 28. Подчёркивают популярность места | 29. Жалуются на проблемы с сезонным меню | 30. Отмечают вкус котлет из щуки | 31. Жалуются на темноту вечером | 32. Хвалят бургер и другие блюда | 33. Жалуются на долгое ожидание заказа | 34. Подчёркивают удобство самовывоза | 35. Хвалят персонал и качество обслуживания | 36. Отмечают уникальные блюда | 37. Подчёркивают полную посадку | 38. Жалуются на шум | 39. Отмечают адекватные цены | 40. Хвалят легендарное место  \\nДополнительная информация: Ресторан Tehnikum — «Хорошее место» по оценкам пользователей — по адресу Москва, улица Большая Дмитровка, 7/5с2, метро «Охотный Ряд», ☎️ +7 499 136 73 36.\\n\\n«Техникум» на Большой Дмитровке - это ресторан в центре Москвы рядом с Большим Театром. В меню - морепродукты, мясо, пиццы, хумус с питой, и бургеры.\\n\\n«Техникум» - современные рестораны бистро в центре Москвы. В наших ресторанах есть вкусные завтраки, вегетарианское меню и летние веранды.  \\nОтвет:\"\"\"\\n\\n\\n', 'classification_response': 'IRRELEVANT'}\n",
       "            </pre>\n",
       "        </details>\n",
       "        \n",
       "</div>\n"
      ],
      "text/plain": [
       "<IPython.core.display.HTML object>"
      ]
     },
     "metadata": {},
     "output_type": "display_data"
    }
   ],
   "source": [
    "inspect_row(agent3_consensus_error, idx=24)"
   ]
  },
  {
   "cell_type": "code",
   "execution_count": 73,
   "id": "d33201d2-d435-48db-a4f4-cfc22e8fac5f",
   "metadata": {},
   "outputs": [],
   "source": [
    "assessors_errors_consensus.append(int(agent3_consensus_error.loc[25]['permalink']))"
   ]
  },
  {
   "cell_type": "code",
   "execution_count": 74,
   "id": "29b5ed19-206b-48c4-a9a5-fb8979e5bc3f",
   "metadata": {},
   "outputs": [
    {
     "data": {
      "text/html": [
       "\n",
       "<div style=\"border:1px solid #ccc; padding:16px; border-radius:10px;\n",
       "            font-family:sans-serif; background-color:#f9f9f9; margin-bottom:20px\">\n",
       "  <h2>📌 Index: 25</h2>\n",
       "  <p><strong>Запрос:</strong><br>организатор перевозок спб</p>\n",
       "  <p><strong>Адрес:</strong><br>Санкт-Петербург, Колпино, улица Братьев Радченко, 7/25А</p>\n",
       "  <p><strong>Название:</strong><br>Специализированный киоск СПб ГКУ Организатор перевозок, проездные билеты; Проездные билеты; Организатор перевозок, киоск по продаже билетов; СПб ГКУ Организатор Перевозок; Специализированный киоск СПб ГКУ Организатор перевозок</p>\n",
       "  <p><strong>ID Организации:</strong><br>174570976523</p>\n",
       "  <p><strong>Рубрика:</strong><br>Транспортная касса</p>\n",
       "  <p><strong>Описание:</strong><br>—</p>\n",
       "  <p><strong>Истинная релевантность:</strong> 0.0</p>\n",
       "  <p><strong>Отзывы:</strong><br>Организация занимается продажей и пополнением проездных билетов, в том числе «Подорожника». Отзывы смешанные: много негативных комментариев о грубом обслуживании и неудобном графике работы, но есть и положительные отзывы о быстроте обслуживания и удобстве расположения киоска. Хвалят: быстрое обслуживание, удобное расположение. Критикуют: грубое отношение сотрудников, отсутствие безналичной оплаты, нестабильный график работы.\n",
       "| 1. Критикуют грубых сотрудников | 2. Отмечают непостоянную работу киоска | 3. Говорят о возможности оплаты по карте | 4. Хвалят быстрое и вежливое обслуживание | 5. Жалуются на некомпетентного сотрудника | 6. Отмечают не всегда приветливых операторов | 7. Критикуют отсутствие оплаты по карте | 8. Хвалят приятную и вежливую девушку-оператора | 9. Отмечают появление терминала для оплаты картами | 10. Жалуются на непрофессиональное поведение сотрудника | 11. Критикуют культуру обслуживания | 12. Хвалят удобный график работы и приветливых операторов | 13. Критикуют нестабильную работу пунктов | 14. Жалуются на медленную работу оператора | 15. Хвалят удобное расположение и часы работы | 16. Жалуются на большие очереди | 17. Критикуют проблемы с активированием «Подорожника» | 18. Хвалят профессиональное обслуживание | 19. Подчёркивают удобный график работы | 20. Критикуют невозможность оплаты по карте и неудобный график | 21. Хвалят вежливого продавца и быстрое обслуживание | 22. Критикуют хамство сотрудника | 23. Подчёркивают удобство пополнения проездных | 24. Жалуются на отсутствие безналичной оплаты | 25. Хвалят стабильно работающий киоск и вежливых операторов | 26. Критикуют хамящего персонала и плохое отношение | 27. Жалуются на проблемы с активированием «Подорожника» и хамство | 28. Критикуют отказ в активации отложенного платежа | 29. Подчёркивают важность киоска для активации «Подорожника» | 30. Жалуются на неожиданные закрытия киоска | 31. Критикуют негибкий график работы и грубых кассиров | 32. Хвалят возможность пополнения карты | 33. Жалуются на неудобное время работы и перерыв | 34. Критикуют редкое время работы киоска | 35. Жалуются на отказ в продлении проездного | 36. Критикуют неудобное расположение и оплату только наличными | 37. Хвалят удобство расположения | 38. Подчёркивают необходимость активации карты в пункте | 39. Жалуются на хамское отношение сотрудника | 40. Критикуют отсутствие безналичной оплаты</p>\n",
       "  <p><strong>Предсказание модели (pred_relevance):</strong><br>1.0</p>\n",
       "  \n",
       "        <details style=\"margin-top:10px;\">\n",
       "            <summary style=\"cursor:pointer;\"><strong>🧠 Agent log (раскрыть)</strong></summary>\n",
       "            <pre style=\"white-space:pre-wrap; background:#eee; padding:10px; border-radius:6px;\">\n",
       "{'need_search_decision': 'YES', 'search_prompt': '# llm_relevance_agent/agent/prompts/need_search_v2.txt\\n# Убран пункт ### Когда поиск не нужен (NO):\\\\n1. Рубрика явно соответствует или не соответствует запросу.\\n\\nОпредели, нужно ли искать дополнительную информацию об организации, чтобы достоверно определить её релевантность пользовательскому запросу.\\n\\nОтвет строго одним из двух вариантов:\\n- \"YES\" — если информации недостаточно для достоверной оценки.\\n- \"NO\" — если можно точно определить релевантность уже по имеющимся данным.\\n\\n### Когда нужен поиск (YES):\\n1. В запросе есть уточнения (время работы, конкретные услуги, цены, бренды).\\n2. Рубрика слишком общая, а запрос специфичный.\\n3. Неясно, предоставляет ли организация нужную услугу.\\n4. В запросе есть временные или географические ограничения.\\n\\n\\n### Когда поиск не нужен (NO):\\n1. Отзывы подтверждают ключевые требования из запроса — нужные услуги, условия или особенности.\\n2. Запрос общий, а информации достаточно.\\n\\n### Примеры:\\nПользовательский запрос: Шиномонтаж 24\\nОрганизация:\\nНазвание: Шиномонтаж\\nАдрес: Республика Калмыкия, Элиста, улица В.И. Ленина, 7, стр. 8А\\nРубрика: Шиномонтаж\\nОтзывы: Организация занимается шиномонтажом. Отзывы положительные: хвалят высокое качество работы.\\nОтвет: YES\\n\\nПользовательский запрос: где дешево поесть в санкт-петербурге 2017\\nОрганизация:\\nНазвание: Буше; Bushe; БУШЕ пекарня-кондитерская ООО\\nАдрес: Санкт-Петербург, Малая Морская улица, 7\\nРубрика: Пекарня\\nОтзывы: Организация занимается выпечкой и продажей кондитерских изделий, а также предлагает завтраки и другие блюда. Отзывы преимущественно положительные: хвалят вкус еды и напитков, атмосферу и обслуживание, но критикуют высокие цены и иногда медленную работу персонала. | 1. Критикуют состояние туалета. | 2. Отмечают, что кухня не работала. | 3. Хвалят заведение в общем. | 4. Считают цены высокими. | 5. Восхищаются круасанами.\\nОтвет: NO\\n\\n### Теперь оцени следующий пример:\\nПользовательский запрос: \"организатор перевозок спб\"\\nОрганизация:\\nНазвание: Специализированный киоск СПб ГКУ Организатор перевозок, проездные билеты; Проездные билеты; Организатор перевозок, киоск по продаже билетов; СПб ГКУ Организатор Перевозок; Специализированный киоск СПб ГКУ Организатор перевозок\\nАдрес: Санкт-Петербург, Колпино, улица Братьев Радченко, 7/25А\\nРубрика: Транспортная касса\\nОтзывы: Организация занимается продажей и пополнением проездных билетов, в том числе «Подорожника». Отзывы смешанные: много негативных комментариев о грубом обслуживании и неудобном графике работы, но есть и положительные отзывы о быстроте обслуживания и удобстве расположения киоска. Хвалят: быстрое обслуживание, удобное расположение. Критикуют: грубое отношение сотрудников, отсутствие безналичной оплаты, нестабильный график работы.\\n| 1. Критикуют грубых сотрудников | 2. Отмечают непостоянную работу киоска | 3. Говорят о возможности оплаты по карте | 4. Хвалят быстрое и вежливое обслуживание | 5. Жалуются на некомпетентного сотрудника | 6. Отмечают не всегда приветливых операторов | 7. Критикуют отсутствие оплаты по карте | 8. Хвалят приятную и вежливую девушку-оператора | 9. Отмечают появление терминала для оплаты картами | 10. Жалуются на непрофессиональное поведение сотрудника | 11. Критикуют культуру обслуживания | 12. Хвалят удобный график работы и приветливых операторов | 13. Критикуют нестабильную работу пунктов | 14. Жалуются на медленную работу оператора | 15. Хвалят удобное расположение и часы работы | 16. Жалуются на большие очереди | 17. Критикуют проблемы с активированием «Подорожника» | 18. Хвалят профессиональное обслуживание | 19. Подчёркивают удобный график работы | 20. Критикуют невозможность оплаты по карте и неудобный график | 21. Хвалят вежливого продавца и быстрое обслуживание | 22. Критикуют хамство сотрудника | 23. Подчёркивают удобство пополнения проездных | 24. Жалуются на отсутствие безналичной оплаты | 25. Хвалят стабильно работающий киоск и вежливых операторов | 26. Критикуют хамящего персонала и плохое отношение | 27. Жалуются на проблемы с активированием «Подорожника» и хамство | 28. Критикуют отказ в активации отложенного платежа | 29. Подчёркивают важность киоска для активации «Подорожника» | 30. Жалуются на неожиданные закрытия киоска | 31. Критикуют негибкий график работы и грубых кассиров | 32. Хвалят возможность пополнения карты | 33. Жалуются на неудобное время работы и перерыв | 34. Критикуют редкое время работы киоска | 35. Жалуются на отказ в продлении проездного | 36. Критикуют неудобное расположение и оплату только наличными | 37. Хвалят удобство расположения | 38. Подчёркивают необходимость активации карты в пункте | 39. Жалуются на хамское отношение сотрудника | 40. Критикуют отсутствие безналичной оплаты\\nОтвет:', 'search_query': 'Специализированный киоск СПб ГКУ Организатор перевозок, проездные билеты Транспортная касса Санкт-Петербург, Колпино, улица Братьев Радченко, 7/25А организатор перевозок спб', 'search_results': 'Транспортная касса «Специализированный киоск СПб ГКУ Организатор перевозок, проездные билеты» по адресу Санкт-Петербург, Колпино, улица Братьев Радченко, 7/25А,\\n\\nСпециализированный киоск СПб ГКУ Организатор перевозок · 2,3 ; Проездные билеты · 4,3 ; Проездные билеты · 3,8 ; Транспортная касса · 4,0 ; Транспортная касса · 3,9.\\n\\nв кассах СПб ГКУ «Организатор перевозок» по адресам: Санкт-Петербург, ул. Рубинштейна, д. 32, лит. А (ст. м. «Достоевская»), пл. Ленина, д. 8/8 (ст', 'classification_prompt': '# llm_relevance_agent/agent/prompts/classify_v2.txt\\n# Пункт 4 изменен\\n\\nТы — интеллектуальная система, которая определяет, насколько организация соответствует пользовательскому запросу.\\nОтветь строго одним из двух вариантов: \"RELEVANT_PLUS\" или \"IRRELEVANT\".\\n\\n### Правила оценки:\\n1. RELEVANT_PLUS — если организация явно удовлетворяет запросу.  \\n2. IRRELEVANT — если соответствия нет.  \\n3. В первую очередь анализируй пользовательский запрос и поля \"Рубрика\" и \"Адрес\".  \\n4. Используй отзывы и дополнительную информацию (поле \"Дополнительная информация\"), особенно если они содержат уникальные признаки, указанные в запросе.\\n5. Если в запросе указана **часть адреса** (например, улица, район или город), обязательно сверяй её с адресом организации. Несовпадение = IRRELEVANT.   \\n6. Если в запросе указан **конкретный номер отделения, филиала, школы, офиса и т.п.**, обязательно сверяй его с номером в названии организации. Несовпадение = IRRELEVANT.\\n7. Если в запросе указана **конкретная станция метро**, считай организацию RELEVANT_PLUS только если в адресе или описании явно указана та же станция метро или подтверждена близость к ней. При несоответствии — IRRELEVANT.\\n\\n### Примеры:\\nПользовательский запрос: шугаринг Красноярск  \\nОрганизация:  \\nНазвание: Студия красоты Дарлинг  \\nАдрес: Красноярск, микрорайон Взлётка, улица Весны, 3  \\nРубрика: Салон красоты  \\nОтзывы: Студия красоты «Дарлинг» предоставляет бьюти-услуги и продаёт парфюмерию и косметику.  \\nДополнительная информация: Предоставляет услуги шугаринга, депиляции, маникюра. Работает ежедневно с 9:00 до 21:00. Ответ: RELEVANT_PLUS\\n\\nПользовательский запрос: Шашлычная  \\nОрганизация:  \\nНазвание: Яндекс Лавка  \\nАдрес: Москва, улица Адмирала Макарова, 23, корп. 2  \\nРубрика: Доставка продуктов  \\nОтзывы: Организация занимается доставкой продуктов и еды, работает в формате даркстора.  \\nДополнительная информация: Сервис доставки продуктов на дом, работает через мобильное приложение.  \\nОтвет: IRRELEVANT\\n\\nПользовательский запрос: Отдел полиции № 7 \\nОрганизация:  \\nНазвание: Отдел полиции № 6 УМВД России по городу Уфе  \\nАдрес: Республика Башкортостан, Уфа, улица Лесотехникума, 92/2  \\nРубрика: Отделение полиции \\nОтзывы: Организация занимается обеспечением правопорядка и оказанием соответствующих услуг населению. Тональность отзывов смешанная: есть как положительные, так и отрицательные.  \\nДополнительная информация:   \\nОтвет: IRRELEVANT\\n\\n### Теперь оцени следующий пример:\\nПользовательский запрос: \"организатор перевозок спб\"  \\nОрганизация:  \\nНазвание: Специализированный киоск СПб ГКУ Организатор перевозок, проездные билеты; Проездные билеты; Организатор перевозок, киоск по продаже билетов; СПб ГКУ Организатор Перевозок; Специализированный киоск СПб ГКУ Организатор перевозок  \\nАдрес: Санкт-Петербург, Колпино, улица Братьев Радченко, 7/25А  \\nРубрика: Транспортная касса  \\nОтзывы: Организация занимается продажей и пополнением проездных билетов, в том числе «Подорожника». Отзывы смешанные: много негативных комментариев о грубом обслуживании и неудобном графике работы, но есть и положительные отзывы о быстроте обслуживания и удобстве расположения киоска. Хвалят: быстрое обслуживание, удобное расположение. Критикуют: грубое отношение сотрудников, отсутствие безналичной оплаты, нестабильный график работы.\\n| 1. Критикуют грубых сотрудников | 2. Отмечают непостоянную работу киоска | 3. Говорят о возможности оплаты по карте | 4. Хвалят быстрое и вежливое обслуживание | 5. Жалуются на некомпетентного сотрудника | 6. Отмечают не всегда приветливых операторов | 7. Критикуют отсутствие оплаты по карте | 8. Хвалят приятную и вежливую девушку-оператора | 9. Отмечают появление терминала для оплаты картами | 10. Жалуются на непрофессиональное поведение сотрудника | 11. Критикуют культуру обслуживания | 12. Хвалят удобный график работы и приветливых операторов | 13. Критикуют нестабильную работу пунктов | 14. Жалуются на медленную работу оператора | 15. Хвалят удобное расположение и часы работы | 16. Жалуются на большие очереди | 17. Критикуют проблемы с активированием «Подорожника» | 18. Хвалят профессиональное обслуживание | 19. Подчёркивают удобный график работы | 20. Критикуют невозможность оплаты по карте и неудобный график | 21. Хвалят вежливого продавца и быстрое обслуживание | 22. Критикуют хамство сотрудника | 23. Подчёркивают удобство пополнения проездных | 24. Жалуются на отсутствие безналичной оплаты | 25. Хвалят стабильно работающий киоск и вежливых операторов | 26. Критикуют хамящего персонала и плохое отношение | 27. Жалуются на проблемы с активированием «Подорожника» и хамство | 28. Критикуют отказ в активации отложенного платежа | 29. Подчёркивают важность киоска для активации «Подорожника» | 30. Жалуются на неожиданные закрытия киоска | 31. Критикуют негибкий график работы и грубых кассиров | 32. Хвалят возможность пополнения карты | 33. Жалуются на неудобное время работы и перерыв | 34. Критикуют редкое время работы киоска | 35. Жалуются на отказ в продлении проездного | 36. Критикуют неудобное расположение и оплату только наличными | 37. Хвалят удобство расположения | 38. Подчёркивают необходимость активации карты в пункте | 39. Жалуются на хамское отношение сотрудника | 40. Критикуют отсутствие безналичной оплаты  \\nДополнительная информация: Транспортная касса «Специализированный киоск СПб ГКУ Организатор перевозок, проездные билеты» по адресу Санкт-Петербург, Колпино, улица Братьев Радченко, 7/25А,\\n\\nСпециализированный киоск СПб ГКУ Организатор перевозок · 2,3 ; Проездные билеты · 4,3 ; Проездные билеты · 3,8 ; Транспортная касса · 4,0 ; Транспортная касса · 3,9.\\n\\nв кассах СПб ГКУ «Организатор перевозок» по адресам: Санкт-Петербург, ул. Рубинштейна, д. 32, лит. А (ст. м. «Достоевская»), пл. Ленина, д. 8/8 (ст  \\nОтвет:\"\"\"\\n\\n\\n', 'classification_response': 'RELEVANT_PLUS'}\n",
       "            </pre>\n",
       "        </details>\n",
       "        \n",
       "</div>\n"
      ],
      "text/plain": [
       "<IPython.core.display.HTML object>"
      ]
     },
     "metadata": {},
     "output_type": "display_data"
    }
   ],
   "source": [
    "inspect_row(agent3_consensus_error, idx=25)"
   ]
  },
  {
   "cell_type": "markdown",
   "id": "9bfd7e35-527c-4c1f-9e8b-47c51df9b8a9",
   "metadata": {},
   "source": [
    "Все признаки из запроса учтены - ошибка асессора"
   ]
  },
  {
   "cell_type": "code",
   "execution_count": 75,
   "id": "1de0f3c9-05f3-484a-96ec-b8d1a0ab0e99",
   "metadata": {},
   "outputs": [],
   "source": [
    "assessors_errors_consensus.append(int(agent3_consensus_error.loc[26]['permalink']))"
   ]
  },
  {
   "cell_type": "code",
   "execution_count": 76,
   "id": "b846b07e-7c64-4948-9d92-a93229f3afd9",
   "metadata": {},
   "outputs": [
    {
     "data": {
      "text/html": [
       "\n",
       "<div style=\"border:1px solid #ccc; padding:16px; border-radius:10px;\n",
       "            font-family:sans-serif; background-color:#f9f9f9; margin-bottom:20px\">\n",
       "  <h2>📌 Index: 26</h2>\n",
       "  <p><strong>Запрос:</strong><br>пансионаты краснодарского края с собственным пляжем и шведским столом</p>\n",
       "  <p><strong>Адрес:</strong><br>Краснодарский край, Туапсинский муниципальный округ, село Небуг</p>\n",
       "  <p><strong>Название:</strong><br>Парк отель Небуг; Park Hotel Nebug; Парк Отель-Небуг; Парк-отель Небуг; Atelica Nebug; Park HotelNebug; Park-hotel Nebug</p>\n",
       "  <p><strong>ID Организации:</strong><br>1353004599</p>\n",
       "  <p><strong>Рубрика:</strong><br>Гостиница</p>\n",
       "  <p><strong>Описание:</strong><br>Парк-отель «Небуг» предлагает различные номера с видом на парк или море, включая категории «Стандарт», «Стандарт+» и «Люкс». | номер «Стандарт» с видом на парк | номер «Стандарт» с видом на море | номер «Стандарт+» с видом на парк | номер «Стандарт+» с видом на море | номер «Люкс» с видом на море | номер «Люкс улучшенный» с видом на море</p>\n",
       "  <p><strong>Истинная релевантность:</strong> 0.0</p>\n",
       "  <p><strong>Отзывы:</strong><br>Организация занимается предоставлением услуг проживания в отеле, имеет большую ухоженную территорию и предлагает питание. Отзывы смешанные: много положительных отзывов о территории, питании и атмосфере, но есть критика номеров, инфраструктуры и отношения персонала. | 1. Хвалят общую атмосферу отеля | 2. Отмечают красоту территории | 3. Говорят о тихом семейном отдыхе | 4. Критикуют отсутствие волейбола на пляже | 5. Рекомендуют отель для отдыха с детьми | 6. Упоминают проблемы с отключением воды | 7. Подчёркивают красоту природы и отеля | 8. Отмечают уют и чистоту отеля | 9. Критикуют состояние номеров и качество обслуживания | 10. Хвалят питание и территорию | 11. Упоминают проблему с плохим Wi-Fi | 12. Отмечают красивый вид и природу | 13. Критикуют спуск к морю и состояние номеров | 14. Хвалят вежливый персонал и питание | 15. Подчёркивают ухоженность территории и возможность отдыха с животными | 16. Критикуют устаревшую инфраструктуру и состояние номеров | 17. Отмечают проблемы с сервисом и дополнительные расходы | 18. Хвалят красивый парк и питание | 19. Упоминают каменистый заход в воду | 20. Критикуют отношение персонала и состояние пляжа | 21. Отмечают живописное место и питание | 22. Подчёркивают удобство и спокойствие | 23. Критикуют грязный город и пляжи | 24. Упоминают ограниченные возможности досуга | 25. Хвалят ландшафтный дизайн и питание</p>\n",
       "  <p><strong>Предсказание модели (pred_relevance):</strong><br>1.0</p>\n",
       "  \n",
       "        <details style=\"margin-top:10px;\">\n",
       "            <summary style=\"cursor:pointer;\"><strong>🧠 Agent log (раскрыть)</strong></summary>\n",
       "            <pre style=\"white-space:pre-wrap; background:#eee; padding:10px; border-radius:6px;\">\n",
       "{'need_search_decision': 'YES', 'search_prompt': '# llm_relevance_agent/agent/prompts/need_search_v2.txt\\n# Убран пункт ### Когда поиск не нужен (NO):\\\\n1. Рубрика явно соответствует или не соответствует запросу.\\n\\nОпредели, нужно ли искать дополнительную информацию об организации, чтобы достоверно определить её релевантность пользовательскому запросу.\\n\\nОтвет строго одним из двух вариантов:\\n- \"YES\" — если информации недостаточно для достоверной оценки.\\n- \"NO\" — если можно точно определить релевантность уже по имеющимся данным.\\n\\n### Когда нужен поиск (YES):\\n1. В запросе есть уточнения (время работы, конкретные услуги, цены, бренды).\\n2. Рубрика слишком общая, а запрос специфичный.\\n3. Неясно, предоставляет ли организация нужную услугу.\\n4. В запросе есть временные или географические ограничения.\\n\\n\\n### Когда поиск не нужен (NO):\\n1. Отзывы подтверждают ключевые требования из запроса — нужные услуги, условия или особенности.\\n2. Запрос общий, а информации достаточно.\\n\\n### Примеры:\\nПользовательский запрос: Шиномонтаж 24\\nОрганизация:\\nНазвание: Шиномонтаж\\nАдрес: Республика Калмыкия, Элиста, улица В.И. Ленина, 7, стр. 8А\\nРубрика: Шиномонтаж\\nОтзывы: Организация занимается шиномонтажом. Отзывы положительные: хвалят высокое качество работы.\\nОтвет: YES\\n\\nПользовательский запрос: где дешево поесть в санкт-петербурге 2017\\nОрганизация:\\nНазвание: Буше; Bushe; БУШЕ пекарня-кондитерская ООО\\nАдрес: Санкт-Петербург, Малая Морская улица, 7\\nРубрика: Пекарня\\nОтзывы: Организация занимается выпечкой и продажей кондитерских изделий, а также предлагает завтраки и другие блюда. Отзывы преимущественно положительные: хвалят вкус еды и напитков, атмосферу и обслуживание, но критикуют высокие цены и иногда медленную работу персонала. | 1. Критикуют состояние туалета. | 2. Отмечают, что кухня не работала. | 3. Хвалят заведение в общем. | 4. Считают цены высокими. | 5. Восхищаются круасанами.\\nОтвет: NO\\n\\n### Теперь оцени следующий пример:\\nПользовательский запрос: \"пансионаты краснодарского края с собственным пляжем и шведским столом\"\\nОрганизация:\\nНазвание: Парк отель Небуг; Park Hotel Nebug; Парк Отель-Небуг; Парк-отель Небуг; Atelica Nebug; Park HotelNebug; Park-hotel Nebug\\nАдрес: Краснодарский край, Туапсинский муниципальный округ, село Небуг\\nРубрика: Гостиница\\nОтзывы: Организация занимается предоставлением услуг проживания в отеле, имеет большую ухоженную территорию и предлагает питание. Отзывы смешанные: много положительных отзывов о территории, питании и атмосфере, но есть критика номеров, инфраструктуры и отношения персонала. | 1. Хвалят общую атмосферу отеля | 2. Отмечают красоту территории | 3. Говорят о тихом семейном отдыхе | 4. Критикуют отсутствие волейбола на пляже | 5. Рекомендуют отель для отдыха с детьми | 6. Упоминают проблемы с отключением воды | 7. Подчёркивают красоту природы и отеля | 8. Отмечают уют и чистоту отеля | 9. Критикуют состояние номеров и качество обслуживания | 10. Хвалят питание и территорию | 11. Упоминают проблему с плохим Wi-Fi | 12. Отмечают красивый вид и природу | 13. Критикуют спуск к морю и состояние номеров | 14. Хвалят вежливый персонал и питание | 15. Подчёркивают ухоженность территории и возможность отдыха с животными | 16. Критикуют устаревшую инфраструктуру и состояние номеров | 17. Отмечают проблемы с сервисом и дополнительные расходы | 18. Хвалят красивый парк и питание | 19. Упоминают каменистый заход в воду | 20. Критикуют отношение персонала и состояние пляжа | 21. Отмечают живописное место и питание | 22. Подчёркивают удобство и спокойствие | 23. Критикуют грязный город и пляжи | 24. Упоминают ограниченные возможности досуга | 25. Хвалят ландшафтный дизайн и питание\\nОтвет:', 'search_query': 'Парк отель Небуг Гостиница Краснодарский край, Туапсинский муниципальный округ, село Небуг пансионаты краснодарского края с собственным пляжем и шведским столом', 'search_results': 'Пляж довольно чистый, есть душ. Теперь отдельно про столовую. Отель заявляет 3-ех разовое питание, шведский стол. Что по факту. При вместимости отеля 350', 'classification_prompt': '# llm_relevance_agent/agent/prompts/classify_v2.txt\\n# Пункт 4 изменен\\n\\nТы — интеллектуальная система, которая определяет, насколько организация соответствует пользовательскому запросу.\\nОтветь строго одним из двух вариантов: \"RELEVANT_PLUS\" или \"IRRELEVANT\".\\n\\n### Правила оценки:\\n1. RELEVANT_PLUS — если организация явно удовлетворяет запросу.  \\n2. IRRELEVANT — если соответствия нет.  \\n3. В первую очередь анализируй пользовательский запрос и поля \"Рубрика\" и \"Адрес\".  \\n4. Используй отзывы и дополнительную информацию (поле \"Дополнительная информация\"), особенно если они содержат уникальные признаки, указанные в запросе.\\n5. Если в запросе указана **часть адреса** (например, улица, район или город), обязательно сверяй её с адресом организации. Несовпадение = IRRELEVANT.   \\n6. Если в запросе указан **конкретный номер отделения, филиала, школы, офиса и т.п.**, обязательно сверяй его с номером в названии организации. Несовпадение = IRRELEVANT.\\n7. Если в запросе указана **конкретная станция метро**, считай организацию RELEVANT_PLUS только если в адресе или описании явно указана та же станция метро или подтверждена близость к ней. При несоответствии — IRRELEVANT.\\n\\n### Примеры:\\nПользовательский запрос: шугаринг Красноярск  \\nОрганизация:  \\nНазвание: Студия красоты Дарлинг  \\nАдрес: Красноярск, микрорайон Взлётка, улица Весны, 3  \\nРубрика: Салон красоты  \\nОтзывы: Студия красоты «Дарлинг» предоставляет бьюти-услуги и продаёт парфюмерию и косметику.  \\nДополнительная информация: Предоставляет услуги шугаринга, депиляции, маникюра. Работает ежедневно с 9:00 до 21:00. Ответ: RELEVANT_PLUS\\n\\nПользовательский запрос: Шашлычная  \\nОрганизация:  \\nНазвание: Яндекс Лавка  \\nАдрес: Москва, улица Адмирала Макарова, 23, корп. 2  \\nРубрика: Доставка продуктов  \\nОтзывы: Организация занимается доставкой продуктов и еды, работает в формате даркстора.  \\nДополнительная информация: Сервис доставки продуктов на дом, работает через мобильное приложение.  \\nОтвет: IRRELEVANT\\n\\nПользовательский запрос: Отдел полиции № 7 \\nОрганизация:  \\nНазвание: Отдел полиции № 6 УМВД России по городу Уфе  \\nАдрес: Республика Башкортостан, Уфа, улица Лесотехникума, 92/2  \\nРубрика: Отделение полиции \\nОтзывы: Организация занимается обеспечением правопорядка и оказанием соответствующих услуг населению. Тональность отзывов смешанная: есть как положительные, так и отрицательные.  \\nДополнительная информация:   \\nОтвет: IRRELEVANT\\n\\n### Теперь оцени следующий пример:\\nПользовательский запрос: \"пансионаты краснодарского края с собственным пляжем и шведским столом\"  \\nОрганизация:  \\nНазвание: Парк отель Небуг; Park Hotel Nebug; Парк Отель-Небуг; Парк-отель Небуг; Atelica Nebug; Park HotelNebug; Park-hotel Nebug  \\nАдрес: Краснодарский край, Туапсинский муниципальный округ, село Небуг  \\nРубрика: Гостиница  \\nОтзывы: Организация занимается предоставлением услуг проживания в отеле, имеет большую ухоженную территорию и предлагает питание. Отзывы смешанные: много положительных отзывов о территории, питании и атмосфере, но есть критика номеров, инфраструктуры и отношения персонала. | 1. Хвалят общую атмосферу отеля | 2. Отмечают красоту территории | 3. Говорят о тихом семейном отдыхе | 4. Критикуют отсутствие волейбола на пляже | 5. Рекомендуют отель для отдыха с детьми | 6. Упоминают проблемы с отключением воды | 7. Подчёркивают красоту природы и отеля | 8. Отмечают уют и чистоту отеля | 9. Критикуют состояние номеров и качество обслуживания | 10. Хвалят питание и территорию | 11. Упоминают проблему с плохим Wi-Fi | 12. Отмечают красивый вид и природу | 13. Критикуют спуск к морю и состояние номеров | 14. Хвалят вежливый персонал и питание | 15. Подчёркивают ухоженность территории и возможность отдыха с животными | 16. Критикуют устаревшую инфраструктуру и состояние номеров | 17. Отмечают проблемы с сервисом и дополнительные расходы | 18. Хвалят красивый парк и питание | 19. Упоминают каменистый заход в воду | 20. Критикуют отношение персонала и состояние пляжа | 21. Отмечают живописное место и питание | 22. Подчёркивают удобство и спокойствие | 23. Критикуют грязный город и пляжи | 24. Упоминают ограниченные возможности досуга | 25. Хвалят ландшафтный дизайн и питание  \\nДополнительная информация: Пляж довольно чистый, есть душ. Теперь отдельно про столовую. Отель заявляет 3-ех разовое питание, шведский стол. Что по факту. При вместимости отеля 350  \\nОтвет:\"\"\"\\n\\n\\n', 'classification_response': 'RELEVANT_PLUS'}\n",
       "            </pre>\n",
       "        </details>\n",
       "        \n",
       "</div>\n"
      ],
      "text/plain": [
       "<IPython.core.display.HTML object>"
      ]
     },
     "metadata": {},
     "output_type": "display_data"
    }
   ],
   "source": [
    "inspect_row(agent3_consensus_error, idx=26)"
   ]
  },
  {
   "cell_type": "code",
   "execution_count": 77,
   "id": "e2ebf3f9-410f-4c5c-865b-01c51c342641",
   "metadata": {},
   "outputs": [],
   "source": [
    "assessors_errors_consensus.append(int(agent3_consensus_error.loc[27]['permalink']))"
   ]
  },
  {
   "cell_type": "markdown",
   "id": "d9dd1c07-08c9-4626-8ffb-681c120a16fd",
   "metadata": {},
   "source": [
    "Модель учла локацию - ошибка асессора"
   ]
  },
  {
   "cell_type": "code",
   "execution_count": 78,
   "id": "eccc8396-b861-4b4a-bf27-2098e61b6ffb",
   "metadata": {},
   "outputs": [
    {
     "data": {
      "text/html": [
       "\n",
       "<div style=\"border:1px solid #ccc; padding:16px; border-radius:10px;\n",
       "            font-family:sans-serif; background-color:#f9f9f9; margin-bottom:20px\">\n",
       "  <h2>📌 Index: 27</h2>\n",
       "  <p><strong>Запрос:</strong><br>стоматологическая клиника на метро аэропорт</p>\n",
       "  <p><strong>Адрес:</strong><br>Москва, проезд Берёзовой Рощи, 6</p>\n",
       "  <p><strong>Название:</strong><br>РуДента; RuDenta; Стоматологическая клиника РуДента; Стоматологическая клиника на Берёзовой Роще РуДента</p>\n",
       "  <p><strong>ID Организации:</strong><br>1178556448</p>\n",
       "  <p><strong>Рубрика:</strong><br>Стоматологическая клиника</p>\n",
       "  <p><strong>Описание:</strong><br>Стоматологическая клиника «РуДента» предлагает широкий спектр услуг: от консультаций и лечения кариеса до имплантации и ортодонтии, а также профессиональную гигиену и диагностику | консультация по лечению | лечение кариеса | лечение пульпита | удаление зуба | протезирование | имплантация | ортодонтическое лечение | гигиена полости рта | диагностика зубов | седация</p>\n",
       "  <p><strong>Истинная релевантность:</strong> 1.0</p>\n",
       "  <p><strong>Отзывы:</strong><br>Организация занимается стоматологическими услугами, включая лечение детей и взрослых, а также предоставляет услуги логопеда. Отзывы преимущественно положительные: хвалят профессионализм врачей, качество услуг, атмосферу в клинике и подход к детям. Критикуют высокие цены и иногда навязывание дополнительных услуг. | 1. Положительные впечатления от клиники | 2. Хвалят профессионализм и отношение к пациентам | 3. Отличные впечатления от лечения детей | 4. Подчёркивают квалификацию специалистов | 5. Упоминают высокое качество услуг и приятную атмосферу | 6. Отмечают внимательность и профессионализм врачей | 7. Говорят о высоком уровне обслуживания | 8. Подчёркивают комфорт и качество лечения | 9. Критикуют цены, но признают высокое качество услуг | 10. Положительные отзывы о работе с детьми | 11. Отмечают профессионализм и индивидуальный подход | 12. Упоминают о программе кэшбэка, которая не была заранее известна | 13. Хвалят внимательность и подробное объяснение процедур | 14. Положительные впечатления от работы с беременными | 15. Отмечают высокий уровень сервиса и качества лечения | 16. Подчёркивают важность нахождения своего специалиста | 17. Критикуют высокие цены, но признают качество услуг | 18. Положительные отзывы о гигиене полости рта | 19. Хвалят подход к лечению детей и атмосферу в клинике | 20. Отмечают профессиональный подход и комфорт во время лечения</p>\n",
       "  <p><strong>Предсказание модели (pred_relevance):</strong><br>0.0</p>\n",
       "  \n",
       "        <details style=\"margin-top:10px;\">\n",
       "            <summary style=\"cursor:pointer;\"><strong>🧠 Agent log (раскрыть)</strong></summary>\n",
       "            <pre style=\"white-space:pre-wrap; background:#eee; padding:10px; border-radius:6px;\">\n",
       "{'need_search_decision': 'NO', 'search_prompt': '# llm_relevance_agent/agent/prompts/need_search_v2.txt\\n# Убран пункт ### Когда поиск не нужен (NO):\\\\n1. Рубрика явно соответствует или не соответствует запросу.\\n\\nОпредели, нужно ли искать дополнительную информацию об организации, чтобы достоверно определить её релевантность пользовательскому запросу.\\n\\nОтвет строго одним из двух вариантов:\\n- \"YES\" — если информации недостаточно для достоверной оценки.\\n- \"NO\" — если можно точно определить релевантность уже по имеющимся данным.\\n\\n### Когда нужен поиск (YES):\\n1. В запросе есть уточнения (время работы, конкретные услуги, цены, бренды).\\n2. Рубрика слишком общая, а запрос специфичный.\\n3. Неясно, предоставляет ли организация нужную услугу.\\n4. В запросе есть временные или географические ограничения.\\n\\n\\n### Когда поиск не нужен (NO):\\n1. Отзывы подтверждают ключевые требования из запроса — нужные услуги, условия или особенности.\\n2. Запрос общий, а информации достаточно.\\n\\n### Примеры:\\nПользовательский запрос: Шиномонтаж 24\\nОрганизация:\\nНазвание: Шиномонтаж\\nАдрес: Республика Калмыкия, Элиста, улица В.И. Ленина, 7, стр. 8А\\nРубрика: Шиномонтаж\\nОтзывы: Организация занимается шиномонтажом. Отзывы положительные: хвалят высокое качество работы.\\nОтвет: YES\\n\\nПользовательский запрос: где дешево поесть в санкт-петербурге 2017\\nОрганизация:\\nНазвание: Буше; Bushe; БУШЕ пекарня-кондитерская ООО\\nАдрес: Санкт-Петербург, Малая Морская улица, 7\\nРубрика: Пекарня\\nОтзывы: Организация занимается выпечкой и продажей кондитерских изделий, а также предлагает завтраки и другие блюда. Отзывы преимущественно положительные: хвалят вкус еды и напитков, атмосферу и обслуживание, но критикуют высокие цены и иногда медленную работу персонала. | 1. Критикуют состояние туалета. | 2. Отмечают, что кухня не работала. | 3. Хвалят заведение в общем. | 4. Считают цены высокими. | 5. Восхищаются круасанами.\\nОтвет: NO\\n\\n### Теперь оцени следующий пример:\\nПользовательский запрос: \"стоматологическая клиника на метро аэропорт\"\\nОрганизация:\\nНазвание: РуДента; RuDenta; Стоматологическая клиника РуДента; Стоматологическая клиника на Берёзовой Роще РуДента\\nАдрес: Москва, проезд Берёзовой Рощи, 6\\nРубрика: Стоматологическая клиника\\nОтзывы: Организация занимается стоматологическими услугами, включая лечение детей и взрослых, а также предоставляет услуги логопеда. Отзывы преимущественно положительные: хвалят профессионализм врачей, качество услуг, атмосферу в клинике и подход к детям. Критикуют высокие цены и иногда навязывание дополнительных услуг. | 1. Положительные впечатления от клиники | 2. Хвалят профессионализм и отношение к пациентам | 3. Отличные впечатления от лечения детей | 4. Подчёркивают квалификацию специалистов | 5. Упоминают высокое качество услуг и приятную атмосферу | 6. Отмечают внимательность и профессионализм врачей | 7. Говорят о высоком уровне обслуживания | 8. Подчёркивают комфорт и качество лечения | 9. Критикуют цены, но признают высокое качество услуг | 10. Положительные отзывы о работе с детьми | 11. Отмечают профессионализм и индивидуальный подход | 12. Упоминают о программе кэшбэка, которая не была заранее известна | 13. Хвалят внимательность и подробное объяснение процедур | 14. Положительные впечатления от работы с беременными | 15. Отмечают высокий уровень сервиса и качества лечения | 16. Подчёркивают важность нахождения своего специалиста | 17. Критикуют высокие цены, но признают качество услуг | 18. Положительные отзывы о гигиене полости рта | 19. Хвалят подход к лечению детей и атмосферу в клинике | 20. Отмечают профессиональный подход и комфорт во время лечения\\nОтвет:', 'classification_prompt': '# llm_relevance_agent/agent/prompts/classify_v2.txt\\n# Пункт 4 изменен\\n\\nТы — интеллектуальная система, которая определяет, насколько организация соответствует пользовательскому запросу.\\nОтветь строго одним из двух вариантов: \"RELEVANT_PLUS\" или \"IRRELEVANT\".\\n\\n### Правила оценки:\\n1. RELEVANT_PLUS — если организация явно удовлетворяет запросу.  \\n2. IRRELEVANT — если соответствия нет.  \\n3. В первую очередь анализируй пользовательский запрос и поля \"Рубрика\" и \"Адрес\".  \\n4. Используй отзывы и дополнительную информацию (поле \"Дополнительная информация\"), особенно если они содержат уникальные признаки, указанные в запросе.\\n5. Если в запросе указана **часть адреса** (например, улица, район или город), обязательно сверяй её с адресом организации. Несовпадение = IRRELEVANT.   \\n6. Если в запросе указан **конкретный номер отделения, филиала, школы, офиса и т.п.**, обязательно сверяй его с номером в названии организации. Несовпадение = IRRELEVANT.\\n7. Если в запросе указана **конкретная станция метро**, считай организацию RELEVANT_PLUS только если в адресе или описании явно указана та же станция метро или подтверждена близость к ней. При несоответствии — IRRELEVANT.\\n\\n### Примеры:\\nПользовательский запрос: шугаринг Красноярск  \\nОрганизация:  \\nНазвание: Студия красоты Дарлинг  \\nАдрес: Красноярск, микрорайон Взлётка, улица Весны, 3  \\nРубрика: Салон красоты  \\nОтзывы: Студия красоты «Дарлинг» предоставляет бьюти-услуги и продаёт парфюмерию и косметику.  \\nДополнительная информация: Предоставляет услуги шугаринга, депиляции, маникюра. Работает ежедневно с 9:00 до 21:00. Ответ: RELEVANT_PLUS\\n\\nПользовательский запрос: Шашлычная  \\nОрганизация:  \\nНазвание: Яндекс Лавка  \\nАдрес: Москва, улица Адмирала Макарова, 23, корп. 2  \\nРубрика: Доставка продуктов  \\nОтзывы: Организация занимается доставкой продуктов и еды, работает в формате даркстора.  \\nДополнительная информация: Сервис доставки продуктов на дом, работает через мобильное приложение.  \\nОтвет: IRRELEVANT\\n\\nПользовательский запрос: Отдел полиции № 7 \\nОрганизация:  \\nНазвание: Отдел полиции № 6 УМВД России по городу Уфе  \\nАдрес: Республика Башкортостан, Уфа, улица Лесотехникума, 92/2  \\nРубрика: Отделение полиции \\nОтзывы: Организация занимается обеспечением правопорядка и оказанием соответствующих услуг населению. Тональность отзывов смешанная: есть как положительные, так и отрицательные.  \\nДополнительная информация:   \\nОтвет: IRRELEVANT\\n\\n### Теперь оцени следующий пример:\\nПользовательский запрос: \"стоматологическая клиника на метро аэропорт\"  \\nОрганизация:  \\nНазвание: РуДента; RuDenta; Стоматологическая клиника РуДента; Стоматологическая клиника на Берёзовой Роще РуДента  \\nАдрес: Москва, проезд Берёзовой Рощи, 6  \\nРубрика: Стоматологическая клиника  \\nОтзывы: Организация занимается стоматологическими услугами, включая лечение детей и взрослых, а также предоставляет услуги логопеда. Отзывы преимущественно положительные: хвалят профессионализм врачей, качество услуг, атмосферу в клинике и подход к детям. Критикуют высокие цены и иногда навязывание дополнительных услуг. | 1. Положительные впечатления от клиники | 2. Хвалят профессионализм и отношение к пациентам | 3. Отличные впечатления от лечения детей | 4. Подчёркивают квалификацию специалистов | 5. Упоминают высокое качество услуг и приятную атмосферу | 6. Отмечают внимательность и профессионализм врачей | 7. Говорят о высоком уровне обслуживания | 8. Подчёркивают комфорт и качество лечения | 9. Критикуют цены, но признают высокое качество услуг | 10. Положительные отзывы о работе с детьми | 11. Отмечают профессионализм и индивидуальный подход | 12. Упоминают о программе кэшбэка, которая не была заранее известна | 13. Хвалят внимательность и подробное объяснение процедур | 14. Положительные впечатления от работы с беременными | 15. Отмечают высокий уровень сервиса и качества лечения | 16. Подчёркивают важность нахождения своего специалиста | 17. Критикуют высокие цены, но признают качество услуг | 18. Положительные отзывы о гигиене полости рта | 19. Хвалят подход к лечению детей и атмосферу в клинике | 20. Отмечают профессиональный подход и комфорт во время лечения  \\nДополнительная информация: —  \\nОтвет:\"\"\"\\n\\n\\n', 'classification_response': 'IRRELEVANT'}\n",
       "            </pre>\n",
       "        </details>\n",
       "        \n",
       "</div>\n"
      ],
      "text/plain": [
       "<IPython.core.display.HTML object>"
      ]
     },
     "metadata": {},
     "output_type": "display_data"
    }
   ],
   "source": [
    "inspect_row(agent3_consensus_error, idx=27)"
   ]
  },
  {
   "cell_type": "markdown",
   "id": "4f15dedb-6ad2-47cf-ace5-02b6844b18f0",
   "metadata": {},
   "source": [
    "Модель все признаки учла - ошибка асессора"
   ]
  },
  {
   "cell_type": "code",
   "execution_count": 79,
   "id": "c9f1044b-80ca-4a4f-b4db-5603746eedb5",
   "metadata": {},
   "outputs": [],
   "source": [
    "assessors_errors_consensus.append(int(agent3_consensus_error.loc[28]['permalink']))"
   ]
  },
  {
   "cell_type": "code",
   "execution_count": 80,
   "id": "38152801-b238-464b-9bab-b96abb80a103",
   "metadata": {},
   "outputs": [
    {
     "data": {
      "text/html": [
       "\n",
       "<div style=\"border:1px solid #ccc; padding:16px; border-radius:10px;\n",
       "            font-family:sans-serif; background-color:#f9f9f9; margin-bottom:20px\">\n",
       "  <h2>📌 Index: 28</h2>\n",
       "  <p><strong>Запрос:</strong><br>евпатория снять</p>\n",
       "  <p><strong>Адрес:</strong><br>Республика Крым, Евпатория, Симферопольская улица, 94</p>\n",
       "  <p><strong>Название:</strong><br>Аура-Крым; Aura-Krym</p>\n",
       "  <p><strong>ID Организации:</strong><br>57893722473</p>\n",
       "  <p><strong>Рубрика:</strong><br>Гостиница</p>\n",
       "  <p><strong>Описание:</strong><br>Предлагает различные апартаменты для проживания с удобствами, включая мини-кухни, балконы и террасы | улучшенные апартаменты с мини-кухней | комфорт апартаменты с балконом | стандартные апартаменты | делюкс апартаменты с террасой | полулюкс апартаменты с мини-кухней</p>\n",
       "  <p><strong>Истинная релевантность:</strong> 0.0</p>\n",
       "  <p><strong>Отзывы:</strong><br>Гостиница «Аура-Крым» в Евпатории предлагает комфортное размещение с хорошими условиями и удобным расположением рядом с морем. Отзывы преимущественно положительные: хвалят чистоту, сервис, близость к морю и инфраструктуру. | 1. Отличное место для отдыха | 2. Хвалят отель и близость к морю | 3. Удобства для гостей и чистота номеров | 4. Положительный опыт повторных посещений, близость к морю | 5. Чистые номера и хорошее соотношение цены и качества | 6. Всё прекрасно, от номера до персонала | 7. Идеальное соотношение цены и качества, близость к морю | 8. Положительные впечатления, всё понравилось | 9. Превосходные впечатления, продуманный номер | 10. Современный отель с хорошей территорией и персоналом | 11. Впечатления как от турецкого отеля высокого уровня | 12. Отличные номера и вежливый персонал, близость к морю | 13. Удобная гостиница с хорошим сервисом и инфраструктурой | 14. Уютный гостевой дом с хорошими условиями для отдыха | 15. Положительные впечатления от сервиса и расположения | 16. Хороший гостевой дом, удобное расположение и наличие парковки | 17. Чистота и хороший сервис, внимательный персонал | 18. Удобное расположение, но есть проблема с комарами | 19. Повторное посещение, хорошее расположение и сервис | 20. Приятная атмосфера и удобное расположение | 21. Хорошее соотношение цены и качества, удобства для гостей | 22. Удобное расположение и хорошая инфраструктура | 23. Красивый номер и ухоженная территория | 24. Чистота и удобное расположение, нет недостатков | 25. Повторное посещение и положительные впечатления | 26. Уютные номера и внимательный персонал | 27. Удобное расположение к пляжу и магазину, отзывчивый персонал | 28. Комфортные условия и качественная уборка | 29. Отличный сервис и дружелюбная атмосфера | 30. Тихая территория и приятные номера | 31. Удобное расположение и хорошие условия | 32. Уютное место для спокойного отдыха и приветливый персонал | 33. Благодарность за предоставленное жильё, повторные посещения</p>\n",
       "  <p><strong>Предсказание модели (pred_relevance):</strong><br>1.0</p>\n",
       "  \n",
       "        <details style=\"margin-top:10px;\">\n",
       "            <summary style=\"cursor:pointer;\"><strong>🧠 Agent log (раскрыть)</strong></summary>\n",
       "            <pre style=\"white-space:pre-wrap; background:#eee; padding:10px; border-radius:6px;\">\n",
       "{'need_search_decision': 'NO', 'search_prompt': '# llm_relevance_agent/agent/prompts/need_search_v2.txt\\n# Убран пункт ### Когда поиск не нужен (NO):\\\\n1. Рубрика явно соответствует или не соответствует запросу.\\n\\nОпредели, нужно ли искать дополнительную информацию об организации, чтобы достоверно определить её релевантность пользовательскому запросу.\\n\\nОтвет строго одним из двух вариантов:\\n- \"YES\" — если информации недостаточно для достоверной оценки.\\n- \"NO\" — если можно точно определить релевантность уже по имеющимся данным.\\n\\n### Когда нужен поиск (YES):\\n1. В запросе есть уточнения (время работы, конкретные услуги, цены, бренды).\\n2. Рубрика слишком общая, а запрос специфичный.\\n3. Неясно, предоставляет ли организация нужную услугу.\\n4. В запросе есть временные или географические ограничения.\\n\\n\\n### Когда поиск не нужен (NO):\\n1. Отзывы подтверждают ключевые требования из запроса — нужные услуги, условия или особенности.\\n2. Запрос общий, а информации достаточно.\\n\\n### Примеры:\\nПользовательский запрос: Шиномонтаж 24\\nОрганизация:\\nНазвание: Шиномонтаж\\nАдрес: Республика Калмыкия, Элиста, улица В.И. Ленина, 7, стр. 8А\\nРубрика: Шиномонтаж\\nОтзывы: Организация занимается шиномонтажом. Отзывы положительные: хвалят высокое качество работы.\\nОтвет: YES\\n\\nПользовательский запрос: где дешево поесть в санкт-петербурге 2017\\nОрганизация:\\nНазвание: Буше; Bushe; БУШЕ пекарня-кондитерская ООО\\nАдрес: Санкт-Петербург, Малая Морская улица, 7\\nРубрика: Пекарня\\nОтзывы: Организация занимается выпечкой и продажей кондитерских изделий, а также предлагает завтраки и другие блюда. Отзывы преимущественно положительные: хвалят вкус еды и напитков, атмосферу и обслуживание, но критикуют высокие цены и иногда медленную работу персонала. | 1. Критикуют состояние туалета. | 2. Отмечают, что кухня не работала. | 3. Хвалят заведение в общем. | 4. Считают цены высокими. | 5. Восхищаются круасанами.\\nОтвет: NO\\n\\n### Теперь оцени следующий пример:\\nПользовательский запрос: \"евпатория снять\"\\nОрганизация:\\nНазвание: Аура-Крым; Aura-Krym\\nАдрес: Республика Крым, Евпатория, Симферопольская улица, 94\\nРубрика: Гостиница\\nОтзывы: Гостиница «Аура-Крым» в Евпатории предлагает комфортное размещение с хорошими условиями и удобным расположением рядом с морем. Отзывы преимущественно положительные: хвалят чистоту, сервис, близость к морю и инфраструктуру. | 1. Отличное место для отдыха | 2. Хвалят отель и близость к морю | 3. Удобства для гостей и чистота номеров | 4. Положительный опыт повторных посещений, близость к морю | 5. Чистые номера и хорошее соотношение цены и качества | 6. Всё прекрасно, от номера до персонала | 7. Идеальное соотношение цены и качества, близость к морю | 8. Положительные впечатления, всё понравилось | 9. Превосходные впечатления, продуманный номер | 10. Современный отель с хорошей территорией и персоналом | 11. Впечатления как от турецкого отеля высокого уровня | 12. Отличные номера и вежливый персонал, близость к морю | 13. Удобная гостиница с хорошим сервисом и инфраструктурой | 14. Уютный гостевой дом с хорошими условиями для отдыха | 15. Положительные впечатления от сервиса и расположения | 16. Хороший гостевой дом, удобное расположение и наличие парковки | 17. Чистота и хороший сервис, внимательный персонал | 18. Удобное расположение, но есть проблема с комарами | 19. Повторное посещение, хорошее расположение и сервис | 20. Приятная атмосфера и удобное расположение | 21. Хорошее соотношение цены и качества, удобства для гостей | 22. Удобное расположение и хорошая инфраструктура | 23. Красивый номер и ухоженная территория | 24. Чистота и удобное расположение, нет недостатков | 25. Повторное посещение и положительные впечатления | 26. Уютные номера и внимательный персонал | 27. Удобное расположение к пляжу и магазину, отзывчивый персонал | 28. Комфортные условия и качественная уборка | 29. Отличный сервис и дружелюбная атмосфера | 30. Тихая территория и приятные номера | 31. Удобное расположение и хорошие условия | 32. Уютное место для спокойного отдыха и приветливый персонал | 33. Благодарность за предоставленное жильё, повторные посещения\\nОтвет:', 'classification_prompt': '# llm_relevance_agent/agent/prompts/classify_v2.txt\\n# Пункт 4 изменен\\n\\nТы — интеллектуальная система, которая определяет, насколько организация соответствует пользовательскому запросу.\\nОтветь строго одним из двух вариантов: \"RELEVANT_PLUS\" или \"IRRELEVANT\".\\n\\n### Правила оценки:\\n1. RELEVANT_PLUS — если организация явно удовлетворяет запросу.  \\n2. IRRELEVANT — если соответствия нет.  \\n3. В первую очередь анализируй пользовательский запрос и поля \"Рубрика\" и \"Адрес\".  \\n4. Используй отзывы и дополнительную информацию (поле \"Дополнительная информация\"), особенно если они содержат уникальные признаки, указанные в запросе.\\n5. Если в запросе указана **часть адреса** (например, улица, район или город), обязательно сверяй её с адресом организации. Несовпадение = IRRELEVANT.   \\n6. Если в запросе указан **конкретный номер отделения, филиала, школы, офиса и т.п.**, обязательно сверяй его с номером в названии организации. Несовпадение = IRRELEVANT.\\n7. Если в запросе указана **конкретная станция метро**, считай организацию RELEVANT_PLUS только если в адресе или описании явно указана та же станция метро или подтверждена близость к ней. При несоответствии — IRRELEVANT.\\n\\n### Примеры:\\nПользовательский запрос: шугаринг Красноярск  \\nОрганизация:  \\nНазвание: Студия красоты Дарлинг  \\nАдрес: Красноярск, микрорайон Взлётка, улица Весны, 3  \\nРубрика: Салон красоты  \\nОтзывы: Студия красоты «Дарлинг» предоставляет бьюти-услуги и продаёт парфюмерию и косметику.  \\nДополнительная информация: Предоставляет услуги шугаринга, депиляции, маникюра. Работает ежедневно с 9:00 до 21:00. Ответ: RELEVANT_PLUS\\n\\nПользовательский запрос: Шашлычная  \\nОрганизация:  \\nНазвание: Яндекс Лавка  \\nАдрес: Москва, улица Адмирала Макарова, 23, корп. 2  \\nРубрика: Доставка продуктов  \\nОтзывы: Организация занимается доставкой продуктов и еды, работает в формате даркстора.  \\nДополнительная информация: Сервис доставки продуктов на дом, работает через мобильное приложение.  \\nОтвет: IRRELEVANT\\n\\nПользовательский запрос: Отдел полиции № 7 \\nОрганизация:  \\nНазвание: Отдел полиции № 6 УМВД России по городу Уфе  \\nАдрес: Республика Башкортостан, Уфа, улица Лесотехникума, 92/2  \\nРубрика: Отделение полиции \\nОтзывы: Организация занимается обеспечением правопорядка и оказанием соответствующих услуг населению. Тональность отзывов смешанная: есть как положительные, так и отрицательные.  \\nДополнительная информация:   \\nОтвет: IRRELEVANT\\n\\n### Теперь оцени следующий пример:\\nПользовательский запрос: \"евпатория снять\"  \\nОрганизация:  \\nНазвание: Аура-Крым; Aura-Krym  \\nАдрес: Республика Крым, Евпатория, Симферопольская улица, 94  \\nРубрика: Гостиница  \\nОтзывы: Гостиница «Аура-Крым» в Евпатории предлагает комфортное размещение с хорошими условиями и удобным расположением рядом с морем. Отзывы преимущественно положительные: хвалят чистоту, сервис, близость к морю и инфраструктуру. | 1. Отличное место для отдыха | 2. Хвалят отель и близость к морю | 3. Удобства для гостей и чистота номеров | 4. Положительный опыт повторных посещений, близость к морю | 5. Чистые номера и хорошее соотношение цены и качества | 6. Всё прекрасно, от номера до персонала | 7. Идеальное соотношение цены и качества, близость к морю | 8. Положительные впечатления, всё понравилось | 9. Превосходные впечатления, продуманный номер | 10. Современный отель с хорошей территорией и персоналом | 11. Впечатления как от турецкого отеля высокого уровня | 12. Отличные номера и вежливый персонал, близость к морю | 13. Удобная гостиница с хорошим сервисом и инфраструктурой | 14. Уютный гостевой дом с хорошими условиями для отдыха | 15. Положительные впечатления от сервиса и расположения | 16. Хороший гостевой дом, удобное расположение и наличие парковки | 17. Чистота и хороший сервис, внимательный персонал | 18. Удобное расположение, но есть проблема с комарами | 19. Повторное посещение, хорошее расположение и сервис | 20. Приятная атмосфера и удобное расположение | 21. Хорошее соотношение цены и качества, удобства для гостей | 22. Удобное расположение и хорошая инфраструктура | 23. Красивый номер и ухоженная территория | 24. Чистота и удобное расположение, нет недостатков | 25. Повторное посещение и положительные впечатления | 26. Уютные номера и внимательный персонал | 27. Удобное расположение к пляжу и магазину, отзывчивый персонал | 28. Комфортные условия и качественная уборка | 29. Отличный сервис и дружелюбная атмосфера | 30. Тихая территория и приятные номера | 31. Удобное расположение и хорошие условия | 32. Уютное место для спокойного отдыха и приветливый персонал | 33. Благодарность за предоставленное жильё, повторные посещения  \\nДополнительная информация: —  \\nОтвет:\"\"\"\\n\\n\\n', 'classification_response': 'RELEVANT_PLUS'}\n",
       "            </pre>\n",
       "        </details>\n",
       "        \n",
       "</div>\n"
      ],
      "text/plain": [
       "<IPython.core.display.HTML object>"
      ]
     },
     "metadata": {},
     "output_type": "display_data"
    }
   ],
   "source": [
    "inspect_row(agent3_consensus_error, idx=28)"
   ]
  },
  {
   "cell_type": "markdown",
   "id": "d8ff0e29-e1b3-44c7-a3cc-c265a4e9c5ae",
   "metadata": {},
   "source": [
    "### Латентная релевантность раскрыта агентом"
   ]
  },
  {
   "cell_type": "code",
   "execution_count": 81,
   "id": "4a3f27cb-d976-4d1d-bf3d-e2f266fc6c70",
   "metadata": {},
   "outputs": [],
   "source": [
    "assessors_errors_consensus.append(int(agent3_consensus_error.loc[29]['permalink']))"
   ]
  },
  {
   "cell_type": "code",
   "execution_count": 82,
   "id": "aa9fe8f4-1340-4d97-ab70-d56d7ea69686",
   "metadata": {},
   "outputs": [
    {
     "data": {
      "text/html": [
       "\n",
       "<div style=\"border:1px solid #ccc; padding:16px; border-radius:10px;\n",
       "            font-family:sans-serif; background-color:#f9f9f9; margin-bottom:20px\">\n",
       "  <h2>📌 Index: 29</h2>\n",
       "  <p><strong>Запрос:</strong><br>Справка оружие</p>\n",
       "  <p><strong>Адрес:</strong><br>Москва, Борисовский проезд, 32</p>\n",
       "  <p><strong>Название:</strong><br>+Медком; Medicinskij centr +medkom; Мед. центр + медком; Медицинский центр Медком; Медицинский центр плюсМедком; Медком</p>\n",
       "  <p><strong>ID Организации:</strong><br>1188576435</p>\n",
       "  <p><strong>Рубрика:</strong><br>Медицинская комиссия</p>\n",
       "  <p><strong>Описание:</strong><br>Медицинская комиссия, диагностические исследования и анализы, оформление медицинских справок и документов, услуги косметологии | Гистологическое исследование | Цитологическое исследование | УЗИ | Водительская справка | Медицинская справка | Анализ кала | Анализ мочи | ПЦР-тест на COVID-19 | Удаление новообразований | Лазерная эпиляция</p>\n",
       "  <p><strong>Истинная релевантность:</strong> 0.0</p>\n",
       "  <p><strong>Отзывы:</strong><br>Организация занимается проведением медицинских комиссий, оформлением медицинских книжек и справок, а также предоставляет различные медицинские услуги. Тональность отзывов смешанная: много положительных отзывов о быстроте обслуживания и профессионализме сотрудников, но есть и отрицательные отзывы о долгих ожиданиях и некомпетентности персонала. Хвалят: быстрое обслуживание, вежливость и профессионализм сотрудников, чистоту и удобство клиники. Критикуют: долгие ожидания, некомпетентность некоторых сотрудников, устаревшее оборудование и организацию процесса.\n",
       "\n",
       "1. Пользователь доволен организацией.\n",
       "2. Быстро оформили медицинскую книжку.\n",
       "3. Легальная организация, одобренная соответствующими органами.\n",
       "4. Отсутствие очередей и толкотни.\n",
       "5. Быстро помогли при острой боли, всё объяснили.\n",
       "6. Быстро сделали медицинскую книжку.\n",
       "7. Хороший медицинский центр, всё понравилось.\n",
       "8. Быстро прошли врачей для медицинской книжки.\n",
       "9. Порадовало отсутствие очередей, чёткое соблюдение времени.\n",
       "10. Работают в выходные, удобно для получения справки.\n",
       "11. Долгое ожидание, устаревший подход к обслуживанию.\n",
       "12. Некомпетентный персонал, не рекомендуют обращаться.\n",
       "13. Быстро и недорого получили справку.\n",
       "14. Быстро сделали медицинскую книжку.\n",
       "15. Цены средние, очередей почти нет, врачи компетентные.\n",
       "16. Чистое и уютное заведение, быстро оформили документы.\n",
       "17. Быстро и бюджетно, спасибо за услуги.\n",
       "18. Профессионализм и чуткое отношение врача, помогли справиться с проблемой.\n",
       "19. Внимательный врач, быстро выдали результаты УЗИ.\n",
       "20. Долго ждали врача, негативное впечатление от работы центра.\n",
       "21. Грамотные и профессиональные врачи на УЗИ.\n",
       "22. Тёплое отношение и профессионализм врачей, рекомендуют центр.\n",
       "23. Вежливый персонал, быстро сдали анализы.\n",
       "24. Проблематика с качеством вакцины, антитела не повысились.\n",
       "25. Всё сделали на высшем уровне, персонал вежливый.\n",
       "26. Спокойная атмосфера, вежливые врачи, всё объясняют доступно.\n",
       "27. Быстро сделали внутривенную инъекцию, безболезненно.\n",
       "28. Высоко оценили опыт УЗИ, процедура прошла быстро и комфортно.\n",
       "29. Быстро получили справки для замены прав.\n",
       "30. Внимательность врача на УЗИ, комфортное обследование.\n",
       "31. Общительные доктора, всё рассказали и подсказали.\n",
       "32. Негативный опыт сдачи крови, некомпетентность персонала.\n",
       "33. Чистое помещение, вежливый персонал, положительные впечатления.\n",
       "34. Вежливый персонал, приём по записи без задержек.\n",
       "35. Неорганизованность администратора, недовольство обслуживанием.\n",
       "36. Благодарность за профессионализм и индивидуальный подход.\n",
       "37. Приятная атмосфера, вежливые сотрудники.\n",
       "38. Большой выбор анализов перед операцией.\n",
       "39. Профессиональное проведение прививки, без побочных эффектов.\n",
       "40. Рекомендация центра за чистоту и вежливость персонала.</p>\n",
       "  <p><strong>Предсказание модели (pred_relevance):</strong><br>1.0</p>\n",
       "  \n",
       "        <details style=\"margin-top:10px;\">\n",
       "            <summary style=\"cursor:pointer;\"><strong>🧠 Agent log (раскрыть)</strong></summary>\n",
       "            <pre style=\"white-space:pre-wrap; background:#eee; padding:10px; border-radius:6px;\">\n",
       "{'need_search_decision': 'NO', 'search_prompt': '# llm_relevance_agent/agent/prompts/need_search_v2.txt\\n# Убран пункт ### Когда поиск не нужен (NO):\\\\n1. Рубрика явно соответствует или не соответствует запросу.\\n\\nОпредели, нужно ли искать дополнительную информацию об организации, чтобы достоверно определить её релевантность пользовательскому запросу.\\n\\nОтвет строго одним из двух вариантов:\\n- \"YES\" — если информации недостаточно для достоверной оценки.\\n- \"NO\" — если можно точно определить релевантность уже по имеющимся данным.\\n\\n### Когда нужен поиск (YES):\\n1. В запросе есть уточнения (время работы, конкретные услуги, цены, бренды).\\n2. Рубрика слишком общая, а запрос специфичный.\\n3. Неясно, предоставляет ли организация нужную услугу.\\n4. В запросе есть временные или географические ограничения.\\n\\n\\n### Когда поиск не нужен (NO):\\n1. Отзывы подтверждают ключевые требования из запроса — нужные услуги, условия или особенности.\\n2. Запрос общий, а информации достаточно.\\n\\n### Примеры:\\nПользовательский запрос: Шиномонтаж 24\\nОрганизация:\\nНазвание: Шиномонтаж\\nАдрес: Республика Калмыкия, Элиста, улица В.И. Ленина, 7, стр. 8А\\nРубрика: Шиномонтаж\\nОтзывы: Организация занимается шиномонтажом. Отзывы положительные: хвалят высокое качество работы.\\nОтвет: YES\\n\\nПользовательский запрос: где дешево поесть в санкт-петербурге 2017\\nОрганизация:\\nНазвание: Буше; Bushe; БУШЕ пекарня-кондитерская ООО\\nАдрес: Санкт-Петербург, Малая Морская улица, 7\\nРубрика: Пекарня\\nОтзывы: Организация занимается выпечкой и продажей кондитерских изделий, а также предлагает завтраки и другие блюда. Отзывы преимущественно положительные: хвалят вкус еды и напитков, атмосферу и обслуживание, но критикуют высокие цены и иногда медленную работу персонала. | 1. Критикуют состояние туалета. | 2. Отмечают, что кухня не работала. | 3. Хвалят заведение в общем. | 4. Считают цены высокими. | 5. Восхищаются круасанами.\\nОтвет: NO\\n\\n### Теперь оцени следующий пример:\\nПользовательский запрос: \"Справка оружие\"\\nОрганизация:\\nНазвание: +Медком; Medicinskij centr +medkom; Мед. центр + медком; Медицинский центр Медком; Медицинский центр плюсМедком; Медком\\nАдрес: Москва, Борисовский проезд, 32\\nРубрика: Медицинская комиссия\\nОтзывы: Организация занимается проведением медицинских комиссий, оформлением медицинских книжек и справок, а также предоставляет различные медицинские услуги. Тональность отзывов смешанная: много положительных отзывов о быстроте обслуживания и профессионализме сотрудников, но есть и отрицательные отзывы о долгих ожиданиях и некомпетентности персонала. Хвалят: быстрое обслуживание, вежливость и профессионализм сотрудников, чистоту и удобство клиники. Критикуют: долгие ожидания, некомпетентность некоторых сотрудников, устаревшее оборудование и организацию процесса.\\n\\n1. Пользователь доволен организацией.\\n2. Быстро оформили медицинскую книжку.\\n3. Легальная организация, одобренная соответствующими органами.\\n4. Отсутствие очередей и толкотни.\\n5. Быстро помогли при острой боли, всё объяснили.\\n6. Быстро сделали медицинскую книжку.\\n7. Хороший медицинский центр, всё понравилось.\\n8. Быстро прошли врачей для медицинской книжки.\\n9. Порадовало отсутствие очередей, чёткое соблюдение времени.\\n10. Работают в выходные, удобно для получения справки.\\n11. Долгое ожидание, устаревший подход к обслуживанию.\\n12. Некомпетентный персонал, не рекомендуют обращаться.\\n13. Быстро и недорого получили справку.\\n14. Быстро сделали медицинскую книжку.\\n15. Цены средние, очередей почти нет, врачи компетентные.\\n16. Чистое и уютное заведение, быстро оформили документы.\\n17. Быстро и бюджетно, спасибо за услуги.\\n18. Профессионализм и чуткое отношение врача, помогли справиться с проблемой.\\n19. Внимательный врач, быстро выдали результаты УЗИ.\\n20. Долго ждали врача, негативное впечатление от работы центра.\\n21. Грамотные и профессиональные врачи на УЗИ.\\n22. Тёплое отношение и профессионализм врачей, рекомендуют центр.\\n23. Вежливый персонал, быстро сдали анализы.\\n24. Проблематика с качеством вакцины, антитела не повысились.\\n25. Всё сделали на высшем уровне, персонал вежливый.\\n26. Спокойная атмосфера, вежливые врачи, всё объясняют доступно.\\n27. Быстро сделали внутривенную инъекцию, безболезненно.\\n28. Высоко оценили опыт УЗИ, процедура прошла быстро и комфортно.\\n29. Быстро получили справки для замены прав.\\n30. Внимательность врача на УЗИ, комфортное обследование.\\n31. Общительные доктора, всё рассказали и подсказали.\\n32. Негативный опыт сдачи крови, некомпетентность персонала.\\n33. Чистое помещение, вежливый персонал, положительные впечатления.\\n34. Вежливый персонал, приём по записи без задержек.\\n35. Неорганизованность администратора, недовольство обслуживанием.\\n36. Благодарность за профессионализм и индивидуальный подход.\\n37. Приятная атмосфера, вежливые сотрудники.\\n38. Большой выбор анализов перед операцией.\\n39. Профессиональное проведение прививки, без побочных эффектов.\\n40. Рекомендация центра за чистоту и вежливость персонала.\\nОтвет:', 'classification_prompt': '# llm_relevance_agent/agent/prompts/classify_v2.txt\\n# Пункт 4 изменен\\n\\nТы — интеллектуальная система, которая определяет, насколько организация соответствует пользовательскому запросу.\\nОтветь строго одним из двух вариантов: \"RELEVANT_PLUS\" или \"IRRELEVANT\".\\n\\n### Правила оценки:\\n1. RELEVANT_PLUS — если организация явно удовлетворяет запросу.  \\n2. IRRELEVANT — если соответствия нет.  \\n3. В первую очередь анализируй пользовательский запрос и поля \"Рубрика\" и \"Адрес\".  \\n4. Используй отзывы и дополнительную информацию (поле \"Дополнительная информация\"), особенно если они содержат уникальные признаки, указанные в запросе.\\n5. Если в запросе указана **часть адреса** (например, улица, район или город), обязательно сверяй её с адресом организации. Несовпадение = IRRELEVANT.   \\n6. Если в запросе указан **конкретный номер отделения, филиала, школы, офиса и т.п.**, обязательно сверяй его с номером в названии организации. Несовпадение = IRRELEVANT.\\n7. Если в запросе указана **конкретная станция метро**, считай организацию RELEVANT_PLUS только если в адресе или описании явно указана та же станция метро или подтверждена близость к ней. При несоответствии — IRRELEVANT.\\n\\n### Примеры:\\nПользовательский запрос: шугаринг Красноярск  \\nОрганизация:  \\nНазвание: Студия красоты Дарлинг  \\nАдрес: Красноярск, микрорайон Взлётка, улица Весны, 3  \\nРубрика: Салон красоты  \\nОтзывы: Студия красоты «Дарлинг» предоставляет бьюти-услуги и продаёт парфюмерию и косметику.  \\nДополнительная информация: Предоставляет услуги шугаринга, депиляции, маникюра. Работает ежедневно с 9:00 до 21:00. Ответ: RELEVANT_PLUS\\n\\nПользовательский запрос: Шашлычная  \\nОрганизация:  \\nНазвание: Яндекс Лавка  \\nАдрес: Москва, улица Адмирала Макарова, 23, корп. 2  \\nРубрика: Доставка продуктов  \\nОтзывы: Организация занимается доставкой продуктов и еды, работает в формате даркстора.  \\nДополнительная информация: Сервис доставки продуктов на дом, работает через мобильное приложение.  \\nОтвет: IRRELEVANT\\n\\nПользовательский запрос: Отдел полиции № 7 \\nОрганизация:  \\nНазвание: Отдел полиции № 6 УМВД России по городу Уфе  \\nАдрес: Республика Башкортостан, Уфа, улица Лесотехникума, 92/2  \\nРубрика: Отделение полиции \\nОтзывы: Организация занимается обеспечением правопорядка и оказанием соответствующих услуг населению. Тональность отзывов смешанная: есть как положительные, так и отрицательные.  \\nДополнительная информация:   \\nОтвет: IRRELEVANT\\n\\n### Теперь оцени следующий пример:\\nПользовательский запрос: \"Справка оружие\"  \\nОрганизация:  \\nНазвание: +Медком; Medicinskij centr +medkom; Мед. центр + медком; Медицинский центр Медком; Медицинский центр плюсМедком; Медком  \\nАдрес: Москва, Борисовский проезд, 32  \\nРубрика: Медицинская комиссия  \\nОтзывы: Организация занимается проведением медицинских комиссий, оформлением медицинских книжек и справок, а также предоставляет различные медицинские услуги. Тональность отзывов смешанная: много положительных отзывов о быстроте обслуживания и профессионализме сотрудников, но есть и отрицательные отзывы о долгих ожиданиях и некомпетентности персонала. Хвалят: быстрое обслуживание, вежливость и профессионализм сотрудников, чистоту и удобство клиники. Критикуют: долгие ожидания, некомпетентность некоторых сотрудников, устаревшее оборудование и организацию процесса.\\n\\n1. Пользователь доволен организацией.\\n2. Быстро оформили медицинскую книжку.\\n3. Легальная организация, одобренная соответствующими органами.\\n4. Отсутствие очередей и толкотни.\\n5. Быстро помогли при острой боли, всё объяснили.\\n6. Быстро сделали медицинскую книжку.\\n7. Хороший медицинский центр, всё понравилось.\\n8. Быстро прошли врачей для медицинской книжки.\\n9. Порадовало отсутствие очередей, чёткое соблюдение времени.\\n10. Работают в выходные, удобно для получения справки.\\n11. Долгое ожидание, устаревший подход к обслуживанию.\\n12. Некомпетентный персонал, не рекомендуют обращаться.\\n13. Быстро и недорого получили справку.\\n14. Быстро сделали медицинскую книжку.\\n15. Цены средние, очередей почти нет, врачи компетентные.\\n16. Чистое и уютное заведение, быстро оформили документы.\\n17. Быстро и бюджетно, спасибо за услуги.\\n18. Профессионализм и чуткое отношение врача, помогли справиться с проблемой.\\n19. Внимательный врач, быстро выдали результаты УЗИ.\\n20. Долго ждали врача, негативное впечатление от работы центра.\\n21. Грамотные и профессиональные врачи на УЗИ.\\n22. Тёплое отношение и профессионализм врачей, рекомендуют центр.\\n23. Вежливый персонал, быстро сдали анализы.\\n24. Проблематика с качеством вакцины, антитела не повысились.\\n25. Всё сделали на высшем уровне, персонал вежливый.\\n26. Спокойная атмосфера, вежливые врачи, всё объясняют доступно.\\n27. Быстро сделали внутривенную инъекцию, безболезненно.\\n28. Высоко оценили опыт УЗИ, процедура прошла быстро и комфортно.\\n29. Быстро получили справки для замены прав.\\n30. Внимательность врача на УЗИ, комфортное обследование.\\n31. Общительные доктора, всё рассказали и подсказали.\\n32. Негативный опыт сдачи крови, некомпетентность персонала.\\n33. Чистое помещение, вежливый персонал, положительные впечатления.\\n34. Вежливый персонал, приём по записи без задержек.\\n35. Неорганизованность администратора, недовольство обслуживанием.\\n36. Благодарность за профессионализм и индивидуальный подход.\\n37. Приятная атмосфера, вежливые сотрудники.\\n38. Большой выбор анализов перед операцией.\\n39. Профессиональное проведение прививки, без побочных эффектов.\\n40. Рекомендация центра за чистоту и вежливость персонала.  \\nДополнительная информация: —  \\nОтвет:\"\"\"\\n\\n\\n', 'classification_response': 'RELEVANT_PLUS'}\n",
       "            </pre>\n",
       "        </details>\n",
       "        \n",
       "</div>\n"
      ],
      "text/plain": [
       "<IPython.core.display.HTML object>"
      ]
     },
     "metadata": {},
     "output_type": "display_data"
    }
   ],
   "source": [
    "inspect_row(agent3_consensus_error, idx=29)"
   ]
  },
  {
   "cell_type": "markdown",
   "id": "69a08e99-9544-45b6-8dcd-e5fcdcbf8e13",
   "metadata": {},
   "source": [
    "### Латентная релевантность раскрыта агентом"
   ]
  },
  {
   "cell_type": "code",
   "execution_count": 83,
   "id": "7ca79eb7-a78e-4d74-a130-51b7c8f8babb",
   "metadata": {},
   "outputs": [],
   "source": [
    "assessors_errors_consensus.append(int(agent3_consensus_error.loc[30]['permalink']))"
   ]
  },
  {
   "cell_type": "code",
   "execution_count": 84,
   "id": "c18bbb6e-68ae-4d28-bd0b-6838d7029726",
   "metadata": {
    "scrolled": true
   },
   "outputs": [
    {
     "data": {
      "text/html": [
       "\n",
       "<div style=\"border:1px solid #ccc; padding:16px; border-radius:10px;\n",
       "            font-family:sans-serif; background-color:#f9f9f9; margin-bottom:20px\">\n",
       "  <h2>📌 Index: 30</h2>\n",
       "  <p><strong>Запрос:</strong><br>утилизация ртутьсодержащих отходов екатеринбург</p>\n",
       "  <p><strong>Адрес:</strong><br>Свердловская область, Екатеринбург, улица Белинского, 108</p>\n",
       "  <p><strong>Название:</strong><br>Эколайн</p>\n",
       "  <p><strong>ID Организации:</strong><br>169031196114</p>\n",
       "  <p><strong>Рубрика:</strong><br>Утилизация отходов</p>\n",
       "  <p><strong>Описание:</strong><br>—</p>\n",
       "  <p><strong>Истинная релевантность:</strong> 0.0</p>\n",
       "  <p><strong>Отзывы:</strong><br>Организация занимается утилизацией отходов. Отзывы смешанные: один положительный, один отрицательный. Хвалят организацию в целом. Критикуют отсутствие парковки и отношение руководства к работникам, получившим травмы. | 1. В целом довольны, но отмечают отсутствие парковки | 2. Критикуют руководство за плохое отношение к работникам, получившим травмы | 3. Нейтральный отзыв без конкретных деталей</p>\n",
       "  <p><strong>Предсказание модели (pred_relevance):</strong><br>1.0</p>\n",
       "  \n",
       "        <details style=\"margin-top:10px;\">\n",
       "            <summary style=\"cursor:pointer;\"><strong>🧠 Agent log (раскрыть)</strong></summary>\n",
       "            <pre style=\"white-space:pre-wrap; background:#eee; padding:10px; border-radius:6px;\">\n",
       "{'need_search_decision': 'YES', 'search_prompt': '# llm_relevance_agent/agent/prompts/need_search_v2.txt\\n# Убран пункт ### Когда поиск не нужен (NO):\\\\n1. Рубрика явно соответствует или не соответствует запросу.\\n\\nОпредели, нужно ли искать дополнительную информацию об организации, чтобы достоверно определить её релевантность пользовательскому запросу.\\n\\nОтвет строго одним из двух вариантов:\\n- \"YES\" — если информации недостаточно для достоверной оценки.\\n- \"NO\" — если можно точно определить релевантность уже по имеющимся данным.\\n\\n### Когда нужен поиск (YES):\\n1. В запросе есть уточнения (время работы, конкретные услуги, цены, бренды).\\n2. Рубрика слишком общая, а запрос специфичный.\\n3. Неясно, предоставляет ли организация нужную услугу.\\n4. В запросе есть временные или географические ограничения.\\n\\n\\n### Когда поиск не нужен (NO):\\n1. Отзывы подтверждают ключевые требования из запроса — нужные услуги, условия или особенности.\\n2. Запрос общий, а информации достаточно.\\n\\n### Примеры:\\nПользовательский запрос: Шиномонтаж 24\\nОрганизация:\\nНазвание: Шиномонтаж\\nАдрес: Республика Калмыкия, Элиста, улица В.И. Ленина, 7, стр. 8А\\nРубрика: Шиномонтаж\\nОтзывы: Организация занимается шиномонтажом. Отзывы положительные: хвалят высокое качество работы.\\nОтвет: YES\\n\\nПользовательский запрос: где дешево поесть в санкт-петербурге 2017\\nОрганизация:\\nНазвание: Буше; Bushe; БУШЕ пекарня-кондитерская ООО\\nАдрес: Санкт-Петербург, Малая Морская улица, 7\\nРубрика: Пекарня\\nОтзывы: Организация занимается выпечкой и продажей кондитерских изделий, а также предлагает завтраки и другие блюда. Отзывы преимущественно положительные: хвалят вкус еды и напитков, атмосферу и обслуживание, но критикуют высокие цены и иногда медленную работу персонала. | 1. Критикуют состояние туалета. | 2. Отмечают, что кухня не работала. | 3. Хвалят заведение в общем. | 4. Считают цены высокими. | 5. Восхищаются круасанами.\\nОтвет: NO\\n\\n### Теперь оцени следующий пример:\\nПользовательский запрос: \"утилизация ртутьсодержащих отходов екатеринбург\"\\nОрганизация:\\nНазвание: Эколайн\\nАдрес: Свердловская область, Екатеринбург, улица Белинского, 108\\nРубрика: Утилизация отходов\\nОтзывы: Организация занимается утилизацией отходов. Отзывы смешанные: один положительный, один отрицательный. Хвалят организацию в целом. Критикуют отсутствие парковки и отношение руководства к работникам, получившим травмы. | 1. В целом довольны, но отмечают отсутствие парковки | 2. Критикуют руководство за плохое отношение к работникам, получившим травмы | 3. Нейтральный отзыв без конкретных деталей\\nОтвет:', 'search_query': 'Эколайн Утилизация отходов Свердловская область, Екатеринбург, улица Белинского, 108 утилизация ртутьсодержащих отходов екатеринбург', 'search_results': 'ул. Белинского, 108, Екатеринбургподъезд 1, офис 350, этаж 22. Показать входы. Маршрут. Контакты. +7 (343) 288-22-79. Ещё 1. uralecoline.ru. Время работы.\\n\\nул. Белинского, 108, Екатеринбургофис 350, этаж 22. Показать входы. Маршрут. Контакты. +7 (343) 288-22-79. Ещё 1. uralecoline.ru. Время работы.\\n\\nМы — компания «ЭкоЛайн», мы решаем любые проблемы с вывозом и обезвреживанием/уничтожением опасных медицинских отходов. Мы заслужим ваше расположение', 'classification_prompt': '# llm_relevance_agent/agent/prompts/classify_v2.txt\\n# Пункт 4 изменен\\n\\nТы — интеллектуальная система, которая определяет, насколько организация соответствует пользовательскому запросу.\\nОтветь строго одним из двух вариантов: \"RELEVANT_PLUS\" или \"IRRELEVANT\".\\n\\n### Правила оценки:\\n1. RELEVANT_PLUS — если организация явно удовлетворяет запросу.  \\n2. IRRELEVANT — если соответствия нет.  \\n3. В первую очередь анализируй пользовательский запрос и поля \"Рубрика\" и \"Адрес\".  \\n4. Используй отзывы и дополнительную информацию (поле \"Дополнительная информация\"), особенно если они содержат уникальные признаки, указанные в запросе.\\n5. Если в запросе указана **часть адреса** (например, улица, район или город), обязательно сверяй её с адресом организации. Несовпадение = IRRELEVANT.   \\n6. Если в запросе указан **конкретный номер отделения, филиала, школы, офиса и т.п.**, обязательно сверяй его с номером в названии организации. Несовпадение = IRRELEVANT.\\n7. Если в запросе указана **конкретная станция метро**, считай организацию RELEVANT_PLUS только если в адресе или описании явно указана та же станция метро или подтверждена близость к ней. При несоответствии — IRRELEVANT.\\n\\n### Примеры:\\nПользовательский запрос: шугаринг Красноярск  \\nОрганизация:  \\nНазвание: Студия красоты Дарлинг  \\nАдрес: Красноярск, микрорайон Взлётка, улица Весны, 3  \\nРубрика: Салон красоты  \\nОтзывы: Студия красоты «Дарлинг» предоставляет бьюти-услуги и продаёт парфюмерию и косметику.  \\nДополнительная информация: Предоставляет услуги шугаринга, депиляции, маникюра. Работает ежедневно с 9:00 до 21:00. Ответ: RELEVANT_PLUS\\n\\nПользовательский запрос: Шашлычная  \\nОрганизация:  \\nНазвание: Яндекс Лавка  \\nАдрес: Москва, улица Адмирала Макарова, 23, корп. 2  \\nРубрика: Доставка продуктов  \\nОтзывы: Организация занимается доставкой продуктов и еды, работает в формате даркстора.  \\nДополнительная информация: Сервис доставки продуктов на дом, работает через мобильное приложение.  \\nОтвет: IRRELEVANT\\n\\nПользовательский запрос: Отдел полиции № 7 \\nОрганизация:  \\nНазвание: Отдел полиции № 6 УМВД России по городу Уфе  \\nАдрес: Республика Башкортостан, Уфа, улица Лесотехникума, 92/2  \\nРубрика: Отделение полиции \\nОтзывы: Организация занимается обеспечением правопорядка и оказанием соответствующих услуг населению. Тональность отзывов смешанная: есть как положительные, так и отрицательные.  \\nДополнительная информация:   \\nОтвет: IRRELEVANT\\n\\n### Теперь оцени следующий пример:\\nПользовательский запрос: \"утилизация ртутьсодержащих отходов екатеринбург\"  \\nОрганизация:  \\nНазвание: Эколайн  \\nАдрес: Свердловская область, Екатеринбург, улица Белинского, 108  \\nРубрика: Утилизация отходов  \\nОтзывы: Организация занимается утилизацией отходов. Отзывы смешанные: один положительный, один отрицательный. Хвалят организацию в целом. Критикуют отсутствие парковки и отношение руководства к работникам, получившим травмы. | 1. В целом довольны, но отмечают отсутствие парковки | 2. Критикуют руководство за плохое отношение к работникам, получившим травмы | 3. Нейтральный отзыв без конкретных деталей  \\nДополнительная информация: ул. Белинского, 108, Екатеринбургподъезд 1, офис 350, этаж 22. Показать входы. Маршрут. Контакты. +7 (343) 288-22-79. Ещё 1. uralecoline.ru. Время работы.\\n\\nул. Белинского, 108, Екатеринбургофис 350, этаж 22. Показать входы. Маршрут. Контакты. +7 (343) 288-22-79. Ещё 1. uralecoline.ru. Время работы.\\n\\nМы — компания «ЭкоЛайн», мы решаем любые проблемы с вывозом и обезвреживанием/уничтожением опасных медицинских отходов. Мы заслужим ваше расположение  \\nОтвет:\"\"\"\\n\\n\\n', 'classification_response': 'RELEVANT_PLUS'}\n",
       "            </pre>\n",
       "        </details>\n",
       "        \n",
       "</div>\n"
      ],
      "text/plain": [
       "<IPython.core.display.HTML object>"
      ]
     },
     "metadata": {},
     "output_type": "display_data"
    }
   ],
   "source": [
    "inspect_row(agent3_consensus_error, idx=30)"
   ]
  },
  {
   "cell_type": "markdown",
   "id": "19a09fa0-8fc9-4378-8a87-acdc62e61547",
   "metadata": {},
   "source": [
    "Учтена локация в запросе"
   ]
  },
  {
   "cell_type": "code",
   "execution_count": 85,
   "id": "2279a19e-cec6-491f-a3e1-c827e9b3b55a",
   "metadata": {},
   "outputs": [],
   "source": [
    "assessors_errors_consensus.append(int(agent3_consensus_error.loc[31]['permalink']))"
   ]
  },
  {
   "cell_type": "code",
   "execution_count": 86,
   "id": "2f37af62-9659-4a2e-b641-c34015afc3ea",
   "metadata": {
    "scrolled": true
   },
   "outputs": [
    {
     "data": {
      "text/html": [
       "\n",
       "<div style=\"border:1px solid #ccc; padding:16px; border-radius:10px;\n",
       "            font-family:sans-serif; background-color:#f9f9f9; margin-bottom:20px\">\n",
       "  <h2>📌 Index: 31</h2>\n",
       "  <p><strong>Запрос:</strong><br>массаж в жулебино</p>\n",
       "  <p><strong>Адрес:</strong><br>Москва, Жулебинский бульвар, 25</p>\n",
       "  <p><strong>Название:</strong><br>ЭМ-Бэлль; M-Belle; M-Belle Beauty studio; ЭМ-Бэль</p>\n",
       "  <p><strong>ID Организации:</strong><br>44567792437</p>\n",
       "  <p><strong>Рубрика:</strong><br>Салон красоты</p>\n",
       "  <p><strong>Описание:</strong><br>Салон красоты «ЭМ-Бэлль» предоставляет широкий спектр услуг по уходу за волосами, маникюру, массажу и пилингу | массаж спины | маникюр с гель-лаком | наращивание ресниц | чистка лица | пилинг | стрижка женская | окрашивание волос | массаж лица | педикюр | депиляция | мужской уход | кератиновое выпрямление волос.</p>\n",
       "  <p><strong>Истинная релевантность:</strong> 0.0</p>\n",
       "  <p><strong>Отзывы:</strong><br>Организация занимается предоставлением услуг в сфере красоты: маникюр, педикюр, окрашивание, ламинирование ресниц, массаж и другие процедуры. Тональность отзывов преимущественно положительная: многие хвалят профессионализм мастеров, качество услуг и уютную атмосферу. Однако есть и отрицательные отзывы, касающиеся цен и отношения к клиентам.\n",
       "\n",
       "| 1. Хвалят идеальный маникюр | 2. Отмечают профессионализм сотрудников | 3. Клиент доволен и планирует вернуться | 4. Критикуют отношение к клиентам | 5. Жалуются на окрашивание вместе с одеждой | 6. Подчёркивают качество работы | 7. Отмечают креативность салона и атмосферу | 8. Положительно отзываются о мастере и планируют вернуться | 9. Хвалят ламинирование ресниц | 10. Отмечают работу бровиста | 11. Описывают салон как волшебное место | 12. Рекомендуют массаж | 13. Подчёркивают соотношение цены и качества | 14. Хвалят мастера по маникюру | 15. Отмечают чистоту и аккуратность салона | 16. Критикуют неграмотного косметолога | 17. Рекомендуют мастера по ресницам | 18. Подчёркивают общее удовлетворение визитом | 19. Хвалят стрижку и расположение салона | 20. Отмечают качество процедур | 21. Критикуют высокие цены и отношение мастера | 22. Подчёркивают хорошее впечатление от салона | 23. Хвалят профессионализм мастера по маникюру | 24. Рекомендуют салон за уютную атмосферу и качество услуг | 25. Критикуют температурный режим и отношение в салоне | 26. Выражают общее удовлетворение | 27. Хвалят качественный сервис | 28. Отмечают приятные и вежливые мастера | 29. Рекомендуют наращивание ресниц | 30. Подчёркивают профессионализм мастеров | 31. Хвалят педикюр и подолога | 32. Отмечают долгосрочное посещение салона и удовлетворённость | 33. Рекомендуют конкретную мастера за качество работы | 34. Критикуют отсутствие точной суммы за процедуру | 35. Хвалят сложное окрашивание и стрижку | 36. Подчёркивают уютную атмосферу и рациональные цены | 37. Рекомендуют маникюр и профессионализм мастера | 38. Отмечают внимательность мастера и качество процедуры</p>\n",
       "  <p><strong>Предсказание модели (pred_relevance):</strong><br>1.0</p>\n",
       "  \n",
       "        <details style=\"margin-top:10px;\">\n",
       "            <summary style=\"cursor:pointer;\"><strong>🧠 Agent log (раскрыть)</strong></summary>\n",
       "            <pre style=\"white-space:pre-wrap; background:#eee; padding:10px; border-radius:6px;\">\n",
       "{'need_search_decision': 'NO', 'search_prompt': '# llm_relevance_agent/agent/prompts/need_search_v2.txt\\n# Убран пункт ### Когда поиск не нужен (NO):\\\\n1. Рубрика явно соответствует или не соответствует запросу.\\n\\nОпредели, нужно ли искать дополнительную информацию об организации, чтобы достоверно определить её релевантность пользовательскому запросу.\\n\\nОтвет строго одним из двух вариантов:\\n- \"YES\" — если информации недостаточно для достоверной оценки.\\n- \"NO\" — если можно точно определить релевантность уже по имеющимся данным.\\n\\n### Когда нужен поиск (YES):\\n1. В запросе есть уточнения (время работы, конкретные услуги, цены, бренды).\\n2. Рубрика слишком общая, а запрос специфичный.\\n3. Неясно, предоставляет ли организация нужную услугу.\\n4. В запросе есть временные или географические ограничения.\\n\\n\\n### Когда поиск не нужен (NO):\\n1. Отзывы подтверждают ключевые требования из запроса — нужные услуги, условия или особенности.\\n2. Запрос общий, а информации достаточно.\\n\\n### Примеры:\\nПользовательский запрос: Шиномонтаж 24\\nОрганизация:\\nНазвание: Шиномонтаж\\nАдрес: Республика Калмыкия, Элиста, улица В.И. Ленина, 7, стр. 8А\\nРубрика: Шиномонтаж\\nОтзывы: Организация занимается шиномонтажом. Отзывы положительные: хвалят высокое качество работы.\\nОтвет: YES\\n\\nПользовательский запрос: где дешево поесть в санкт-петербурге 2017\\nОрганизация:\\nНазвание: Буше; Bushe; БУШЕ пекарня-кондитерская ООО\\nАдрес: Санкт-Петербург, Малая Морская улица, 7\\nРубрика: Пекарня\\nОтзывы: Организация занимается выпечкой и продажей кондитерских изделий, а также предлагает завтраки и другие блюда. Отзывы преимущественно положительные: хвалят вкус еды и напитков, атмосферу и обслуживание, но критикуют высокие цены и иногда медленную работу персонала. | 1. Критикуют состояние туалета. | 2. Отмечают, что кухня не работала. | 3. Хвалят заведение в общем. | 4. Считают цены высокими. | 5. Восхищаются круасанами.\\nОтвет: NO\\n\\n### Теперь оцени следующий пример:\\nПользовательский запрос: \"массаж в жулебино\"\\nОрганизация:\\nНазвание: ЭМ-Бэлль; M-Belle; M-Belle Beauty studio; ЭМ-Бэль\\nАдрес: Москва, Жулебинский бульвар, 25\\nРубрика: Салон красоты\\nОтзывы: Организация занимается предоставлением услуг в сфере красоты: маникюр, педикюр, окрашивание, ламинирование ресниц, массаж и другие процедуры. Тональность отзывов преимущественно положительная: многие хвалят профессионализм мастеров, качество услуг и уютную атмосферу. Однако есть и отрицательные отзывы, касающиеся цен и отношения к клиентам.\\n\\n| 1. Хвалят идеальный маникюр | 2. Отмечают профессионализм сотрудников | 3. Клиент доволен и планирует вернуться | 4. Критикуют отношение к клиентам | 5. Жалуются на окрашивание вместе с одеждой | 6. Подчёркивают качество работы | 7. Отмечают креативность салона и атмосферу | 8. Положительно отзываются о мастере и планируют вернуться | 9. Хвалят ламинирование ресниц | 10. Отмечают работу бровиста | 11. Описывают салон как волшебное место | 12. Рекомендуют массаж | 13. Подчёркивают соотношение цены и качества | 14. Хвалят мастера по маникюру | 15. Отмечают чистоту и аккуратность салона | 16. Критикуют неграмотного косметолога | 17. Рекомендуют мастера по ресницам | 18. Подчёркивают общее удовлетворение визитом | 19. Хвалят стрижку и расположение салона | 20. Отмечают качество процедур | 21. Критикуют высокие цены и отношение мастера | 22. Подчёркивают хорошее впечатление от салона | 23. Хвалят профессионализм мастера по маникюру | 24. Рекомендуют салон за уютную атмосферу и качество услуг | 25. Критикуют температурный режим и отношение в салоне | 26. Выражают общее удовлетворение | 27. Хвалят качественный сервис | 28. Отмечают приятные и вежливые мастера | 29. Рекомендуют наращивание ресниц | 30. Подчёркивают профессионализм мастеров | 31. Хвалят педикюр и подолога | 32. Отмечают долгосрочное посещение салона и удовлетворённость | 33. Рекомендуют конкретную мастера за качество работы | 34. Критикуют отсутствие точной суммы за процедуру | 35. Хвалят сложное окрашивание и стрижку | 36. Подчёркивают уютную атмосферу и рациональные цены | 37. Рекомендуют маникюр и профессионализм мастера | 38. Отмечают внимательность мастера и качество процедуры\\nОтвет:', 'classification_prompt': '# llm_relevance_agent/agent/prompts/classify_v2.txt\\n# Пункт 4 изменен\\n\\nТы — интеллектуальная система, которая определяет, насколько организация соответствует пользовательскому запросу.\\nОтветь строго одним из двух вариантов: \"RELEVANT_PLUS\" или \"IRRELEVANT\".\\n\\n### Правила оценки:\\n1. RELEVANT_PLUS — если организация явно удовлетворяет запросу.  \\n2. IRRELEVANT — если соответствия нет.  \\n3. В первую очередь анализируй пользовательский запрос и поля \"Рубрика\" и \"Адрес\".  \\n4. Используй отзывы и дополнительную информацию (поле \"Дополнительная информация\"), особенно если они содержат уникальные признаки, указанные в запросе.\\n5. Если в запросе указана **часть адреса** (например, улица, район или город), обязательно сверяй её с адресом организации. Несовпадение = IRRELEVANT.   \\n6. Если в запросе указан **конкретный номер отделения, филиала, школы, офиса и т.п.**, обязательно сверяй его с номером в названии организации. Несовпадение = IRRELEVANT.\\n7. Если в запросе указана **конкретная станция метро**, считай организацию RELEVANT_PLUS только если в адресе или описании явно указана та же станция метро или подтверждена близость к ней. При несоответствии — IRRELEVANT.\\n\\n### Примеры:\\nПользовательский запрос: шугаринг Красноярск  \\nОрганизация:  \\nНазвание: Студия красоты Дарлинг  \\nАдрес: Красноярск, микрорайон Взлётка, улица Весны, 3  \\nРубрика: Салон красоты  \\nОтзывы: Студия красоты «Дарлинг» предоставляет бьюти-услуги и продаёт парфюмерию и косметику.  \\nДополнительная информация: Предоставляет услуги шугаринга, депиляции, маникюра. Работает ежедневно с 9:00 до 21:00. Ответ: RELEVANT_PLUS\\n\\nПользовательский запрос: Шашлычная  \\nОрганизация:  \\nНазвание: Яндекс Лавка  \\nАдрес: Москва, улица Адмирала Макарова, 23, корп. 2  \\nРубрика: Доставка продуктов  \\nОтзывы: Организация занимается доставкой продуктов и еды, работает в формате даркстора.  \\nДополнительная информация: Сервис доставки продуктов на дом, работает через мобильное приложение.  \\nОтвет: IRRELEVANT\\n\\nПользовательский запрос: Отдел полиции № 7 \\nОрганизация:  \\nНазвание: Отдел полиции № 6 УМВД России по городу Уфе  \\nАдрес: Республика Башкортостан, Уфа, улица Лесотехникума, 92/2  \\nРубрика: Отделение полиции \\nОтзывы: Организация занимается обеспечением правопорядка и оказанием соответствующих услуг населению. Тональность отзывов смешанная: есть как положительные, так и отрицательные.  \\nДополнительная информация:   \\nОтвет: IRRELEVANT\\n\\n### Теперь оцени следующий пример:\\nПользовательский запрос: \"массаж в жулебино\"  \\nОрганизация:  \\nНазвание: ЭМ-Бэлль; M-Belle; M-Belle Beauty studio; ЭМ-Бэль  \\nАдрес: Москва, Жулебинский бульвар, 25  \\nРубрика: Салон красоты  \\nОтзывы: Организация занимается предоставлением услуг в сфере красоты: маникюр, педикюр, окрашивание, ламинирование ресниц, массаж и другие процедуры. Тональность отзывов преимущественно положительная: многие хвалят профессионализм мастеров, качество услуг и уютную атмосферу. Однако есть и отрицательные отзывы, касающиеся цен и отношения к клиентам.\\n\\n| 1. Хвалят идеальный маникюр | 2. Отмечают профессионализм сотрудников | 3. Клиент доволен и планирует вернуться | 4. Критикуют отношение к клиентам | 5. Жалуются на окрашивание вместе с одеждой | 6. Подчёркивают качество работы | 7. Отмечают креативность салона и атмосферу | 8. Положительно отзываются о мастере и планируют вернуться | 9. Хвалят ламинирование ресниц | 10. Отмечают работу бровиста | 11. Описывают салон как волшебное место | 12. Рекомендуют массаж | 13. Подчёркивают соотношение цены и качества | 14. Хвалят мастера по маникюру | 15. Отмечают чистоту и аккуратность салона | 16. Критикуют неграмотного косметолога | 17. Рекомендуют мастера по ресницам | 18. Подчёркивают общее удовлетворение визитом | 19. Хвалят стрижку и расположение салона | 20. Отмечают качество процедур | 21. Критикуют высокие цены и отношение мастера | 22. Подчёркивают хорошее впечатление от салона | 23. Хвалят профессионализм мастера по маникюру | 24. Рекомендуют салон за уютную атмосферу и качество услуг | 25. Критикуют температурный режим и отношение в салоне | 26. Выражают общее удовлетворение | 27. Хвалят качественный сервис | 28. Отмечают приятные и вежливые мастера | 29. Рекомендуют наращивание ресниц | 30. Подчёркивают профессионализм мастеров | 31. Хвалят педикюр и подолога | 32. Отмечают долгосрочное посещение салона и удовлетворённость | 33. Рекомендуют конкретную мастера за качество работы | 34. Критикуют отсутствие точной суммы за процедуру | 35. Хвалят сложное окрашивание и стрижку | 36. Подчёркивают уютную атмосферу и рациональные цены | 37. Рекомендуют маникюр и профессионализм мастера | 38. Отмечают внимательность мастера и качество процедуры  \\nДополнительная информация: —  \\nОтвет:\"\"\"\\n\\n\\n', 'classification_response': 'RELEVANT_PLUS'}\n",
       "            </pre>\n",
       "        </details>\n",
       "        \n",
       "</div>\n"
      ],
      "text/plain": [
       "<IPython.core.display.HTML object>"
      ]
     },
     "metadata": {},
     "output_type": "display_data"
    }
   ],
   "source": [
    "inspect_row(agent3_consensus_error, idx=31)"
   ]
  },
  {
   "cell_type": "markdown",
   "id": "3030aa82-d3b7-43e6-bc0c-3f30e4023554",
   "metadata": {},
   "source": [
    "### Модель упустила важный модификатор в запросе"
   ]
  },
  {
   "cell_type": "markdown",
   "id": "639f8ce3-9bba-4c37-815a-44d69f5d232f",
   "metadata": {},
   "source": [
    "указание на часы работы\n",
    "похож на справочный\\агрегирующий вопрос"
   ]
  },
  {
   "cell_type": "code",
   "execution_count": 87,
   "id": "569d4a29-f820-4ae8-8325-2239d59ed78a",
   "metadata": {},
   "outputs": [],
   "source": [
    "model_consensus_errors.append(int(agent3_consensus_error.loc[32]['permalink']))"
   ]
  },
  {
   "cell_type": "code",
   "execution_count": 88,
   "id": "e6eb7cf4-be02-451f-96d0-7d889e9736a9",
   "metadata": {},
   "outputs": [
    {
     "data": {
      "text/html": [
       "\n",
       "<div style=\"border:1px solid #ccc; padding:16px; border-radius:10px;\n",
       "            font-family:sans-serif; background-color:#f9f9f9; margin-bottom:20px\">\n",
       "  <h2>📌 Index: 32</h2>\n",
       "  <p><strong>Запрос:</strong><br>круглосуточные ветеринарные клиники нижнего новгорода</p>\n",
       "  <p><strong>Адрес:</strong><br>Нижний Новгород, проспект Гагарина, 29</p>\n",
       "  <p><strong>Название:</strong><br>Диплодок; Diplodok; Ветклиника Диплодок; Veterinary clinic Diplodok</p>\n",
       "  <p><strong>ID Организации:</strong><br>177828242016</p>\n",
       "  <p><strong>Рубрика:</strong><br>Ветеринарная клиника</p>\n",
       "  <p><strong>Описание:</strong><br>—</p>\n",
       "  <p><strong>Истинная релевантность:</strong> 0.0</p>\n",
       "  <p><strong>Отзывы:</strong><br>Организация занимается ветеринарными услугами, включая лечение, диагностику и стационар. Отзывы смешанные: много положительных отзывов о врачах и качестве услуг, но также есть жалобы на высокие цены и проблемы с записью. Хвалят: профессионализм врачей, внимательность к животным, уровень обслуживания. Критикуют: высокие цены, сложности с дозвоном, некачественное обслуживание в отдельных случаях.\n",
       "\n",
       "1. Хвалят профессионализм врачей.\n",
       "2. Критикуют плохое отношение к клиентам.\n",
       "3. Отмечают высокий класс специалистов.\n",
       "4. Жалуются на безразличие персонала.\n",
       "5. Выражают недовольство качеством услуг и потерей животного.\n",
       "6. Отмечают высокие цены и неудачный опыт лечения.\n",
       "7. Подчёркивают положительные впечатления от клиники.\n",
       "8. Отмечают хорошее отношение и профессионализм.\n",
       "9. Критикуют изменение отношения к животным и нацеленность на заработок.\n",
       "10. Жалуются на сложности с дозвоном и «развод» на деньги.\n",
       "11. Подчёркивают дружелюбную атмосферу и качество услуг.\n",
       "12. Выражают благодарность за спасение питомца.\n",
       "13. Отмечают удобство записи и возможность связи с врачами.\n",
       "14. Критикуют потерю времени и денег из-за некачественного лечения.\n",
       "15. Жалуются на невозможность дозвониться и игнорирование сообщений.\n",
       "16. Подчёркивают внимательность и профессионализм врачей.\n",
       "17. Отмечают быстрое и качественное лечение.\n",
       "18. Критикуют высокие цены и отказы в предоставлении услуг.\n",
       "19. Выражают удовлетворение от посещения клиники.\n",
       "20. Подчёркивают важность поиска второго мнения в сложных случаях.</p>\n",
       "  <p><strong>Предсказание модели (pred_relevance):</strong><br>1.0</p>\n",
       "  \n",
       "        <details style=\"margin-top:10px;\">\n",
       "            <summary style=\"cursor:pointer;\"><strong>🧠 Agent log (раскрыть)</strong></summary>\n",
       "            <pre style=\"white-space:pre-wrap; background:#eee; padding:10px; border-radius:6px;\">\n",
       "{'need_search_decision': 'YES', 'search_prompt': '# llm_relevance_agent/agent/prompts/need_search_v2.txt\\n# Убран пункт ### Когда поиск не нужен (NO):\\\\n1. Рубрика явно соответствует или не соответствует запросу.\\n\\nОпредели, нужно ли искать дополнительную информацию об организации, чтобы достоверно определить её релевантность пользовательскому запросу.\\n\\nОтвет строго одним из двух вариантов:\\n- \"YES\" — если информации недостаточно для достоверной оценки.\\n- \"NO\" — если можно точно определить релевантность уже по имеющимся данным.\\n\\n### Когда нужен поиск (YES):\\n1. В запросе есть уточнения (время работы, конкретные услуги, цены, бренды).\\n2. Рубрика слишком общая, а запрос специфичный.\\n3. Неясно, предоставляет ли организация нужную услугу.\\n4. В запросе есть временные или географические ограничения.\\n\\n\\n### Когда поиск не нужен (NO):\\n1. Отзывы подтверждают ключевые требования из запроса — нужные услуги, условия или особенности.\\n2. Запрос общий, а информации достаточно.\\n\\n### Примеры:\\nПользовательский запрос: Шиномонтаж 24\\nОрганизация:\\nНазвание: Шиномонтаж\\nАдрес: Республика Калмыкия, Элиста, улица В.И. Ленина, 7, стр. 8А\\nРубрика: Шиномонтаж\\nОтзывы: Организация занимается шиномонтажом. Отзывы положительные: хвалят высокое качество работы.\\nОтвет: YES\\n\\nПользовательский запрос: где дешево поесть в санкт-петербурге 2017\\nОрганизация:\\nНазвание: Буше; Bushe; БУШЕ пекарня-кондитерская ООО\\nАдрес: Санкт-Петербург, Малая Морская улица, 7\\nРубрика: Пекарня\\nОтзывы: Организация занимается выпечкой и продажей кондитерских изделий, а также предлагает завтраки и другие блюда. Отзывы преимущественно положительные: хвалят вкус еды и напитков, атмосферу и обслуживание, но критикуют высокие цены и иногда медленную работу персонала. | 1. Критикуют состояние туалета. | 2. Отмечают, что кухня не работала. | 3. Хвалят заведение в общем. | 4. Считают цены высокими. | 5. Восхищаются круасанами.\\nОтвет: NO\\n\\n### Теперь оцени следующий пример:\\nПользовательский запрос: \"круглосуточные ветеринарные клиники нижнего новгорода\"\\nОрганизация:\\nНазвание: Диплодок; Diplodok; Ветклиника Диплодок; Veterinary clinic Diplodok\\nАдрес: Нижний Новгород, проспект Гагарина, 29\\nРубрика: Ветеринарная клиника\\nОтзывы: Организация занимается ветеринарными услугами, включая лечение, диагностику и стационар. Отзывы смешанные: много положительных отзывов о врачах и качестве услуг, но также есть жалобы на высокие цены и проблемы с записью. Хвалят: профессионализм врачей, внимательность к животным, уровень обслуживания. Критикуют: высокие цены, сложности с дозвоном, некачественное обслуживание в отдельных случаях.\\n\\n1. Хвалят профессионализм врачей.\\n2. Критикуют плохое отношение к клиентам.\\n3. Отмечают высокий класс специалистов.\\n4. Жалуются на безразличие персонала.\\n5. Выражают недовольство качеством услуг и потерей животного.\\n6. Отмечают высокие цены и неудачный опыт лечения.\\n7. Подчёркивают положительные впечатления от клиники.\\n8. Отмечают хорошее отношение и профессионализм.\\n9. Критикуют изменение отношения к животным и нацеленность на заработок.\\n10. Жалуются на сложности с дозвоном и «развод» на деньги.\\n11. Подчёркивают дружелюбную атмосферу и качество услуг.\\n12. Выражают благодарность за спасение питомца.\\n13. Отмечают удобство записи и возможность связи с врачами.\\n14. Критикуют потерю времени и денег из-за некачественного лечения.\\n15. Жалуются на невозможность дозвониться и игнорирование сообщений.\\n16. Подчёркивают внимательность и профессионализм врачей.\\n17. Отмечают быстрое и качественное лечение.\\n18. Критикуют высокие цены и отказы в предоставлении услуг.\\n19. Выражают удовлетворение от посещения клиники.\\n20. Подчёркивают важность поиска второго мнения в сложных случаях.\\nОтвет:', 'search_query': 'Диплодок Ветеринарная клиника Нижний Новгород, проспект Гагарина, 29 круглосуточные ветеринарные клиники нижнего новгорода', 'search_results': 'Премия 2ГИС 2025. Диплодок. \\u200bВетеринарная клиника. 4.6. 360 оценок. Контакты · Инфо · Отзывы322 · Фото88. \\u200bПроспект Гагарина, 29\\u200b1 этаж. Советский район, Нижний\\n\\nВетеринарная клиника «Диплодок» по адресу Нижний Новгород, проспект Гагарина, 29, ☎️ +7 831 280 99 89. Читать 697 отзывов, смотреть 144 фото, панорамы,\\n\\nДиплодок — современный, активно развивающийся многопрофильный ветеринарный центр в Нижнем Новгороде. Большая команда узких специалистов и реаниматологов', 'classification_prompt': '# llm_relevance_agent/agent/prompts/classify_v2.txt\\n# Пункт 4 изменен\\n\\nТы — интеллектуальная система, которая определяет, насколько организация соответствует пользовательскому запросу.\\nОтветь строго одним из двух вариантов: \"RELEVANT_PLUS\" или \"IRRELEVANT\".\\n\\n### Правила оценки:\\n1. RELEVANT_PLUS — если организация явно удовлетворяет запросу.  \\n2. IRRELEVANT — если соответствия нет.  \\n3. В первую очередь анализируй пользовательский запрос и поля \"Рубрика\" и \"Адрес\".  \\n4. Используй отзывы и дополнительную информацию (поле \"Дополнительная информация\"), особенно если они содержат уникальные признаки, указанные в запросе.\\n5. Если в запросе указана **часть адреса** (например, улица, район или город), обязательно сверяй её с адресом организации. Несовпадение = IRRELEVANT.   \\n6. Если в запросе указан **конкретный номер отделения, филиала, школы, офиса и т.п.**, обязательно сверяй его с номером в названии организации. Несовпадение = IRRELEVANT.\\n7. Если в запросе указана **конкретная станция метро**, считай организацию RELEVANT_PLUS только если в адресе или описании явно указана та же станция метро или подтверждена близость к ней. При несоответствии — IRRELEVANT.\\n\\n### Примеры:\\nПользовательский запрос: шугаринг Красноярск  \\nОрганизация:  \\nНазвание: Студия красоты Дарлинг  \\nАдрес: Красноярск, микрорайон Взлётка, улица Весны, 3  \\nРубрика: Салон красоты  \\nОтзывы: Студия красоты «Дарлинг» предоставляет бьюти-услуги и продаёт парфюмерию и косметику.  \\nДополнительная информация: Предоставляет услуги шугаринга, депиляции, маникюра. Работает ежедневно с 9:00 до 21:00. Ответ: RELEVANT_PLUS\\n\\nПользовательский запрос: Шашлычная  \\nОрганизация:  \\nНазвание: Яндекс Лавка  \\nАдрес: Москва, улица Адмирала Макарова, 23, корп. 2  \\nРубрика: Доставка продуктов  \\nОтзывы: Организация занимается доставкой продуктов и еды, работает в формате даркстора.  \\nДополнительная информация: Сервис доставки продуктов на дом, работает через мобильное приложение.  \\nОтвет: IRRELEVANT\\n\\nПользовательский запрос: Отдел полиции № 7 \\nОрганизация:  \\nНазвание: Отдел полиции № 6 УМВД России по городу Уфе  \\nАдрес: Республика Башкортостан, Уфа, улица Лесотехникума, 92/2  \\nРубрика: Отделение полиции \\nОтзывы: Организация занимается обеспечением правопорядка и оказанием соответствующих услуг населению. Тональность отзывов смешанная: есть как положительные, так и отрицательные.  \\nДополнительная информация:   \\nОтвет: IRRELEVANT\\n\\n### Теперь оцени следующий пример:\\nПользовательский запрос: \"круглосуточные ветеринарные клиники нижнего новгорода\"  \\nОрганизация:  \\nНазвание: Диплодок; Diplodok; Ветклиника Диплодок; Veterinary clinic Diplodok  \\nАдрес: Нижний Новгород, проспект Гагарина, 29  \\nРубрика: Ветеринарная клиника  \\nОтзывы: Организация занимается ветеринарными услугами, включая лечение, диагностику и стационар. Отзывы смешанные: много положительных отзывов о врачах и качестве услуг, но также есть жалобы на высокие цены и проблемы с записью. Хвалят: профессионализм врачей, внимательность к животным, уровень обслуживания. Критикуют: высокие цены, сложности с дозвоном, некачественное обслуживание в отдельных случаях.\\n\\n1. Хвалят профессионализм врачей.\\n2. Критикуют плохое отношение к клиентам.\\n3. Отмечают высокий класс специалистов.\\n4. Жалуются на безразличие персонала.\\n5. Выражают недовольство качеством услуг и потерей животного.\\n6. Отмечают высокие цены и неудачный опыт лечения.\\n7. Подчёркивают положительные впечатления от клиники.\\n8. Отмечают хорошее отношение и профессионализм.\\n9. Критикуют изменение отношения к животным и нацеленность на заработок.\\n10. Жалуются на сложности с дозвоном и «развод» на деньги.\\n11. Подчёркивают дружелюбную атмосферу и качество услуг.\\n12. Выражают благодарность за спасение питомца.\\n13. Отмечают удобство записи и возможность связи с врачами.\\n14. Критикуют потерю времени и денег из-за некачественного лечения.\\n15. Жалуются на невозможность дозвониться и игнорирование сообщений.\\n16. Подчёркивают внимательность и профессионализм врачей.\\n17. Отмечают быстрое и качественное лечение.\\n18. Критикуют высокие цены и отказы в предоставлении услуг.\\n19. Выражают удовлетворение от посещения клиники.\\n20. Подчёркивают важность поиска второго мнения в сложных случаях.  \\nДополнительная информация: Премия 2ГИС 2025. Диплодок. \\u200bВетеринарная клиника. 4.6. 360 оценок. Контакты · Инфо · Отзывы322 · Фото88. \\u200bПроспект Гагарина, 29\\u200b1 этаж. Советский район, Нижний\\n\\nВетеринарная клиника «Диплодок» по адресу Нижний Новгород, проспект Гагарина, 29, ☎️ +7 831 280 99 89. Читать 697 отзывов, смотреть 144 фото, панорамы,\\n\\nДиплодок — современный, активно развивающийся многопрофильный ветеринарный центр в Нижнем Новгороде. Большая команда узких специалистов и реаниматологов  \\nОтвет:\"\"\"\\n\\n\\n', 'classification_response': 'RELEVANT_PLUS'}\n",
       "            </pre>\n",
       "        </details>\n",
       "        \n",
       "</div>\n"
      ],
      "text/plain": [
       "<IPython.core.display.HTML object>"
      ]
     },
     "metadata": {},
     "output_type": "display_data"
    }
   ],
   "source": [
    "inspect_row(agent3_consensus_error, idx=32)"
   ]
  },
  {
   "cell_type": "markdown",
   "id": "9f765965-d26e-4cec-ba5e-837d3efd38bd",
   "metadata": {},
   "source": [
    "### Обрывок\\неосмысленный запрос"
   ]
  },
  {
   "cell_type": "code",
   "execution_count": 89,
   "id": "599b211b-4e30-4547-aa6e-b5b75b3a68cb",
   "metadata": {},
   "outputs": [],
   "source": [
    "assessors_errors_consensus.append(int(agent3_consensus_error.loc[33]['permalink']))"
   ]
  },
  {
   "cell_type": "code",
   "execution_count": 90,
   "id": "e2234ec0-0b72-48b7-83b3-dcdce64917b4",
   "metadata": {},
   "outputs": [
    {
     "data": {
      "text/html": [
       "\n",
       "<div style=\"border:1px solid #ccc; padding:16px; border-radius:10px;\n",
       "            font-family:sans-serif; background-color:#f9f9f9; margin-bottom:20px\">\n",
       "  <h2>📌 Index: 33</h2>\n",
       "  <p><strong>Запрос:</strong><br>htvjyn dtkjcbgtljd</p>\n",
       "  <p><strong>Адрес:</strong><br>Красноярск, проспект имени Газеты Красноярский Рабочий, 120</p>\n",
       "  <p><strong>Название:</strong><br>Спортмастер; Sportmaster</p>\n",
       "  <p><strong>ID Организации:</strong><br>134150571733</p>\n",
       "  <p><strong>Рубрика:</strong><br>Ремонт спортивного инвентаря</p>\n",
       "  <p><strong>Описание:</strong><br>Спортмастер предоставляет услуги по ремонту и обслуживанию беговых лыж, лыжных ботинок и велосипедов, включая нанесение парафина, установку креплений, формовку ботинок, мелкий и сложный ремонт велосипедов | обработка лыж парафином | установка креплений на лыжи | формовка лыжных ботинок | ремонт велосипедов | замена спиц | регулировка тормозов | ТО велосипеда | обслуживание лыжного инвентаря.</p>\n",
       "  <p><strong>Истинная релевантность:</strong> 1.0</p>\n",
       "  <p><strong>Отзывы:</strong><br>Организация занимается продажей спортивного инвентаря и предоставляет услуги по ремонту, включая заточку коньков. Тональность отзывов смешанная: один отзыв положительный, другой содержит критику. Хвалят: качество заточки коньков и вежливость мастера. Критикуют: отсутствие консультантов в зале. | 1. Критикует отсутствие консультантов в магазине | 2. Хвалят широкий ассортимент товаров, качество заточки коньков и вежливость персонала</p>\n",
       "  <p><strong>Предсказание модели (pred_relevance):</strong><br>0.0</p>\n",
       "  \n",
       "        <details style=\"margin-top:10px;\">\n",
       "            <summary style=\"cursor:pointer;\"><strong>🧠 Agent log (раскрыть)</strong></summary>\n",
       "            <pre style=\"white-space:pre-wrap; background:#eee; padding:10px; border-radius:6px;\">\n",
       "{'need_search_decision': 'YES', 'search_prompt': '# llm_relevance_agent/agent/prompts/need_search_v2.txt\\n# Убран пункт ### Когда поиск не нужен (NO):\\\\n1. Рубрика явно соответствует или не соответствует запросу.\\n\\nОпредели, нужно ли искать дополнительную информацию об организации, чтобы достоверно определить её релевантность пользовательскому запросу.\\n\\nОтвет строго одним из двух вариантов:\\n- \"YES\" — если информации недостаточно для достоверной оценки.\\n- \"NO\" — если можно точно определить релевантность уже по имеющимся данным.\\n\\n### Когда нужен поиск (YES):\\n1. В запросе есть уточнения (время работы, конкретные услуги, цены, бренды).\\n2. Рубрика слишком общая, а запрос специфичный.\\n3. Неясно, предоставляет ли организация нужную услугу.\\n4. В запросе есть временные или географические ограничения.\\n\\n\\n### Когда поиск не нужен (NO):\\n1. Отзывы подтверждают ключевые требования из запроса — нужные услуги, условия или особенности.\\n2. Запрос общий, а информации достаточно.\\n\\n### Примеры:\\nПользовательский запрос: Шиномонтаж 24\\nОрганизация:\\nНазвание: Шиномонтаж\\nАдрес: Республика Калмыкия, Элиста, улица В.И. Ленина, 7, стр. 8А\\nРубрика: Шиномонтаж\\nОтзывы: Организация занимается шиномонтажом. Отзывы положительные: хвалят высокое качество работы.\\nОтвет: YES\\n\\nПользовательский запрос: где дешево поесть в санкт-петербурге 2017\\nОрганизация:\\nНазвание: Буше; Bushe; БУШЕ пекарня-кондитерская ООО\\nАдрес: Санкт-Петербург, Малая Морская улица, 7\\nРубрика: Пекарня\\nОтзывы: Организация занимается выпечкой и продажей кондитерских изделий, а также предлагает завтраки и другие блюда. Отзывы преимущественно положительные: хвалят вкус еды и напитков, атмосферу и обслуживание, но критикуют высокие цены и иногда медленную работу персонала. | 1. Критикуют состояние туалета. | 2. Отмечают, что кухня не работала. | 3. Хвалят заведение в общем. | 4. Считают цены высокими. | 5. Восхищаются круасанами.\\nОтвет: NO\\n\\n### Теперь оцени следующий пример:\\nПользовательский запрос: \"htvjyn dtkjcbgtljd\"\\nОрганизация:\\nНазвание: Спортмастер; Sportmaster\\nАдрес: Красноярск, проспект имени Газеты Красноярский Рабочий, 120\\nРубрика: Ремонт спортивного инвентаря\\nОтзывы: Организация занимается продажей спортивного инвентаря и предоставляет услуги по ремонту, включая заточку коньков. Тональность отзывов смешанная: один отзыв положительный, другой содержит критику. Хвалят: качество заточки коньков и вежливость мастера. Критикуют: отсутствие консультантов в зале. | 1. Критикует отсутствие консультантов в магазине | 2. Хвалят широкий ассортимент товаров, качество заточки коньков и вежливость персонала\\nОтвет:', 'search_query': 'Спортмастер Ремонт спортивного инвентаря Красноярск, проспект имени Газеты Красноярский Рабочий, 120 htvjyn dtkjcbgtljd', 'search_results': '', 'classification_prompt': '# llm_relevance_agent/agent/prompts/classify_v2.txt\\n# Пункт 4 изменен\\n\\nТы — интеллектуальная система, которая определяет, насколько организация соответствует пользовательскому запросу.\\nОтветь строго одним из двух вариантов: \"RELEVANT_PLUS\" или \"IRRELEVANT\".\\n\\n### Правила оценки:\\n1. RELEVANT_PLUS — если организация явно удовлетворяет запросу.  \\n2. IRRELEVANT — если соответствия нет.  \\n3. В первую очередь анализируй пользовательский запрос и поля \"Рубрика\" и \"Адрес\".  \\n4. Используй отзывы и дополнительную информацию (поле \"Дополнительная информация\"), особенно если они содержат уникальные признаки, указанные в запросе.\\n5. Если в запросе указана **часть адреса** (например, улица, район или город), обязательно сверяй её с адресом организации. Несовпадение = IRRELEVANT.   \\n6. Если в запросе указан **конкретный номер отделения, филиала, школы, офиса и т.п.**, обязательно сверяй его с номером в названии организации. Несовпадение = IRRELEVANT.\\n7. Если в запросе указана **конкретная станция метро**, считай организацию RELEVANT_PLUS только если в адресе или описании явно указана та же станция метро или подтверждена близость к ней. При несоответствии — IRRELEVANT.\\n\\n### Примеры:\\nПользовательский запрос: шугаринг Красноярск  \\nОрганизация:  \\nНазвание: Студия красоты Дарлинг  \\nАдрес: Красноярск, микрорайон Взлётка, улица Весны, 3  \\nРубрика: Салон красоты  \\nОтзывы: Студия красоты «Дарлинг» предоставляет бьюти-услуги и продаёт парфюмерию и косметику.  \\nДополнительная информация: Предоставляет услуги шугаринга, депиляции, маникюра. Работает ежедневно с 9:00 до 21:00. Ответ: RELEVANT_PLUS\\n\\nПользовательский запрос: Шашлычная  \\nОрганизация:  \\nНазвание: Яндекс Лавка  \\nАдрес: Москва, улица Адмирала Макарова, 23, корп. 2  \\nРубрика: Доставка продуктов  \\nОтзывы: Организация занимается доставкой продуктов и еды, работает в формате даркстора.  \\nДополнительная информация: Сервис доставки продуктов на дом, работает через мобильное приложение.  \\nОтвет: IRRELEVANT\\n\\nПользовательский запрос: Отдел полиции № 7 \\nОрганизация:  \\nНазвание: Отдел полиции № 6 УМВД России по городу Уфе  \\nАдрес: Республика Башкортостан, Уфа, улица Лесотехникума, 92/2  \\nРубрика: Отделение полиции \\nОтзывы: Организация занимается обеспечением правопорядка и оказанием соответствующих услуг населению. Тональность отзывов смешанная: есть как положительные, так и отрицательные.  \\nДополнительная информация:   \\nОтвет: IRRELEVANT\\n\\n### Теперь оцени следующий пример:\\nПользовательский запрос: \"htvjyn dtkjcbgtljd\"  \\nОрганизация:  \\nНазвание: Спортмастер; Sportmaster  \\nАдрес: Красноярск, проспект имени Газеты Красноярский Рабочий, 120  \\nРубрика: Ремонт спортивного инвентаря  \\nОтзывы: Организация занимается продажей спортивного инвентаря и предоставляет услуги по ремонту, включая заточку коньков. Тональность отзывов смешанная: один отзыв положительный, другой содержит критику. Хвалят: качество заточки коньков и вежливость мастера. Критикуют: отсутствие консультантов в зале. | 1. Критикует отсутствие консультантов в магазине | 2. Хвалят широкий ассортимент товаров, качество заточки коньков и вежливость персонала  \\nДополнительная информация: —  \\nОтвет:\"\"\"\\n\\n\\n', 'classification_response': 'IRRELEVANT'}\n",
       "            </pre>\n",
       "        </details>\n",
       "        \n",
       "</div>\n"
      ],
      "text/plain": [
       "<IPython.core.display.HTML object>"
      ]
     },
     "metadata": {},
     "output_type": "display_data"
    }
   ],
   "source": [
    "inspect_row(agent3_consensus_error, idx=33)"
   ]
  },
  {
   "cell_type": "markdown",
   "id": "ef88d4a6-ec2a-4c80-8453-f6ba42c64b08",
   "metadata": {},
   "source": [
    "Здесь учтены все неоценочные факторы. Точно имеет какую-то релевантность"
   ]
  },
  {
   "cell_type": "code",
   "execution_count": 91,
   "id": "8a0081db-0a02-4fa1-a55d-a166c1156f03",
   "metadata": {},
   "outputs": [],
   "source": [
    "assessors_errors_consensus.append(int(agent3_consensus_error.loc[34]['permalink']))"
   ]
  },
  {
   "cell_type": "code",
   "execution_count": 92,
   "id": "4d76cde4-93ec-4bab-848d-2c4f41f83357",
   "metadata": {},
   "outputs": [
    {
     "data": {
      "text/html": [
       "\n",
       "<div style=\"border:1px solid #ccc; padding:16px; border-radius:10px;\n",
       "            font-family:sans-serif; background-color:#f9f9f9; margin-bottom:20px\">\n",
       "  <h2>📌 Index: 34</h2>\n",
       "  <p><strong>Запрос:</strong><br>лучшие хостел в москве на двоих длительный срок</p>\n",
       "  <p><strong>Адрес:</strong><br>Москва, Кривоколенный переулок, 4с3</p>\n",
       "  <p><strong>Название:</strong><br>Христал Лубянка; Christal Lubyanka</p>\n",
       "  <p><strong>ID Организации:</strong><br>205856228075</p>\n",
       "  <p><strong>Рубрика:</strong><br>Хостел</p>\n",
       "  <p><strong>Описание:</strong><br>Хостел «Христал Лубянка» предлагает различные варианты размещения, включая общие и капсульные номера, а также номера разной вместимости для мужчин и женщин | кровать в 8-местном номере для женщин | кровать в 8-местном номере для мужчин | двухместный общий номер | номер-капсула | четырёхместный номер для женщин | четырёхместный номер для мужчин</p>\n",
       "  <p><strong>Истинная релевантность:</strong> 0.0</p>\n",
       "  <p><strong>Отзывы:</strong><br>Хостел «Христал Лубянка» находится в центре Москвы и предлагает проживание в комфортных условиях. Отзывы смешанные: много положительных, но есть и отрицательные. Хвалят чистоту, удобное расположение, приветливый персонал. Критикуют поведение некоторых сотрудников, проблемы с администраторами, неудобства с душем и выселениями. | 1. Положительный отзыв о хостеле | 2. Отзыв о снижении качества за 2 года | 3. Положительный отзыв, хвалят уют | 4. Хвалят чистоту и персонал | 5. Критикуют неприятный запах в хостеле | 6. Положительный отзыв о персонале и расположении | 7. Положительный отзыв с акцентом на контроль за контингентом | 8. Отрицательный отзыв о поведении администратора и условиях проживания | 9. Положительный отзыв от постоянного гостя | 10. Критика нового администратора | 11. Положительный отзыв о чистоте и удобстве | 12. Положительный отзыв об администраторе и заселении | 13. Отрицательный отзыв о сотруднице на ресепшене | 14. Положительный отзыв и намерение вернуться | 15. Хвалят расположение и чистоту | 16. Положительный отзыв о спокойствии и уюте | 17. Отрицательный отзыв о санитарных условиях | 18. Положительный отзыв о капсульном отеле | 19. Хвалят администратора Надежду | 20. Положительный отзыв о чистоте | 21. Положительный отзыв о возможности хорошо выспаться | 22. Положительный отзыв о людях и обстановке | 23. Отрицательный отзыв об уровне проживания и насекомых | 24. Положительный отзыв о комфорте | 25. Положительный отзыв о месте для ночёвки | 26. Критика системы бронирования | 27. Отрицательный общий отзыв | 28. Положительный отзыв о расположении и условиях | 29. Положительный отзыв о длительном проживании | 30. Критика поведения администратора | 31. Положительный отзыв о вежливом персонале | 32. Критика эмоциональной атмосферы в хостеле | 33. Положительный отзыв о чистоте и расположении | 34. Положительный отзыв о персонале и условиях | 35. Положительный короткий отзыв | 36. Положительный общий отзыв | 37. Хвалят тишину и расположение | 38. Положительный отзыв для культурных людей | 39. Положительный отзыв о чистоте | 40. Положительный отзыв о кратковременном проживании</p>\n",
       "  <p><strong>Предсказание модели (pred_relevance):</strong><br>1.0</p>\n",
       "  \n",
       "        <details style=\"margin-top:10px;\">\n",
       "            <summary style=\"cursor:pointer;\"><strong>🧠 Agent log (раскрыть)</strong></summary>\n",
       "            <pre style=\"white-space:pre-wrap; background:#eee; padding:10px; border-radius:6px;\">\n",
       "{'need_search_decision': 'YES', 'search_prompt': '# llm_relevance_agent/agent/prompts/need_search_v2.txt\\n# Убран пункт ### Когда поиск не нужен (NO):\\\\n1. Рубрика явно соответствует или не соответствует запросу.\\n\\nОпредели, нужно ли искать дополнительную информацию об организации, чтобы достоверно определить её релевантность пользовательскому запросу.\\n\\nОтвет строго одним из двух вариантов:\\n- \"YES\" — если информации недостаточно для достоверной оценки.\\n- \"NO\" — если можно точно определить релевантность уже по имеющимся данным.\\n\\n### Когда нужен поиск (YES):\\n1. В запросе есть уточнения (время работы, конкретные услуги, цены, бренды).\\n2. Рубрика слишком общая, а запрос специфичный.\\n3. Неясно, предоставляет ли организация нужную услугу.\\n4. В запросе есть временные или географические ограничения.\\n\\n\\n### Когда поиск не нужен (NO):\\n1. Отзывы подтверждают ключевые требования из запроса — нужные услуги, условия или особенности.\\n2. Запрос общий, а информации достаточно.\\n\\n### Примеры:\\nПользовательский запрос: Шиномонтаж 24\\nОрганизация:\\nНазвание: Шиномонтаж\\nАдрес: Республика Калмыкия, Элиста, улица В.И. Ленина, 7, стр. 8А\\nРубрика: Шиномонтаж\\nОтзывы: Организация занимается шиномонтажом. Отзывы положительные: хвалят высокое качество работы.\\nОтвет: YES\\n\\nПользовательский запрос: где дешево поесть в санкт-петербурге 2017\\nОрганизация:\\nНазвание: Буше; Bushe; БУШЕ пекарня-кондитерская ООО\\nАдрес: Санкт-Петербург, Малая Морская улица, 7\\nРубрика: Пекарня\\nОтзывы: Организация занимается выпечкой и продажей кондитерских изделий, а также предлагает завтраки и другие блюда. Отзывы преимущественно положительные: хвалят вкус еды и напитков, атмосферу и обслуживание, но критикуют высокие цены и иногда медленную работу персонала. | 1. Критикуют состояние туалета. | 2. Отмечают, что кухня не работала. | 3. Хвалят заведение в общем. | 4. Считают цены высокими. | 5. Восхищаются круасанами.\\nОтвет: NO\\n\\n### Теперь оцени следующий пример:\\nПользовательский запрос: \"лучшие хостел в москве на двоих длительный срок\"\\nОрганизация:\\nНазвание: Христал Лубянка; Christal Lubyanka\\nАдрес: Москва, Кривоколенный переулок, 4с3\\nРубрика: Хостел\\nОтзывы: Хостел «Христал Лубянка» находится в центре Москвы и предлагает проживание в комфортных условиях. Отзывы смешанные: много положительных, но есть и отрицательные. Хвалят чистоту, удобное расположение, приветливый персонал. Критикуют поведение некоторых сотрудников, проблемы с администраторами, неудобства с душем и выселениями. | 1. Положительный отзыв о хостеле | 2. Отзыв о снижении качества за 2 года | 3. Положительный отзыв, хвалят уют | 4. Хвалят чистоту и персонал | 5. Критикуют неприятный запах в хостеле | 6. Положительный отзыв о персонале и расположении | 7. Положительный отзыв с акцентом на контроль за контингентом | 8. Отрицательный отзыв о поведении администратора и условиях проживания | 9. Положительный отзыв от постоянного гостя | 10. Критика нового администратора | 11. Положительный отзыв о чистоте и удобстве | 12. Положительный отзыв об администраторе и заселении | 13. Отрицательный отзыв о сотруднице на ресепшене | 14. Положительный отзыв и намерение вернуться | 15. Хвалят расположение и чистоту | 16. Положительный отзыв о спокойствии и уюте | 17. Отрицательный отзыв о санитарных условиях | 18. Положительный отзыв о капсульном отеле | 19. Хвалят администратора Надежду | 20. Положительный отзыв о чистоте | 21. Положительный отзыв о возможности хорошо выспаться | 22. Положительный отзыв о людях и обстановке | 23. Отрицательный отзыв об уровне проживания и насекомых | 24. Положительный отзыв о комфорте | 25. Положительный отзыв о месте для ночёвки | 26. Критика системы бронирования | 27. Отрицательный общий отзыв | 28. Положительный отзыв о расположении и условиях | 29. Положительный отзыв о длительном проживании | 30. Критика поведения администратора | 31. Положительный отзыв о вежливом персонале | 32. Критика эмоциональной атмосферы в хостеле | 33. Положительный отзыв о чистоте и расположении | 34. Положительный отзыв о персонале и условиях | 35. Положительный короткий отзыв | 36. Положительный общий отзыв | 37. Хвалят тишину и расположение | 38. Положительный отзыв для культурных людей | 39. Положительный отзыв о чистоте | 40. Положительный отзыв о кратковременном проживании\\nОтвет:', 'search_query': 'Христал Лубянка Хостел Москва, Кривоколенный переулок, 4с3 лучшие хостел в москве на двоих длительный срок', 'search_results': 'Христал — это три уютных хостела на м.Лубянка, м.Юго-Западная и м. Савеловская, в которых мы рады видеть гостей со всего мира.\\n\\nЦена от 1000 Р. ... Хостел Христал расположился в 300 м. от метро Лубянка / Кузнецкий мост. 15 комфортных небольших номеров позволят отдохнуть в центре шумной и\\n\\nХостел «Христал Лубянка» работает круглосуточно и находится в 400 м от станции метро «Лубянка». К размещению представлены женские, мужские, двухместные и', 'classification_prompt': '# llm_relevance_agent/agent/prompts/classify_v2.txt\\n# Пункт 4 изменен\\n\\nТы — интеллектуальная система, которая определяет, насколько организация соответствует пользовательскому запросу.\\nОтветь строго одним из двух вариантов: \"RELEVANT_PLUS\" или \"IRRELEVANT\".\\n\\n### Правила оценки:\\n1. RELEVANT_PLUS — если организация явно удовлетворяет запросу.  \\n2. IRRELEVANT — если соответствия нет.  \\n3. В первую очередь анализируй пользовательский запрос и поля \"Рубрика\" и \"Адрес\".  \\n4. Используй отзывы и дополнительную информацию (поле \"Дополнительная информация\"), особенно если они содержат уникальные признаки, указанные в запросе.\\n5. Если в запросе указана **часть адреса** (например, улица, район или город), обязательно сверяй её с адресом организации. Несовпадение = IRRELEVANT.   \\n6. Если в запросе указан **конкретный номер отделения, филиала, школы, офиса и т.п.**, обязательно сверяй его с номером в названии организации. Несовпадение = IRRELEVANT.\\n7. Если в запросе указана **конкретная станция метро**, считай организацию RELEVANT_PLUS только если в адресе или описании явно указана та же станция метро или подтверждена близость к ней. При несоответствии — IRRELEVANT.\\n\\n### Примеры:\\nПользовательский запрос: шугаринг Красноярск  \\nОрганизация:  \\nНазвание: Студия красоты Дарлинг  \\nАдрес: Красноярск, микрорайон Взлётка, улица Весны, 3  \\nРубрика: Салон красоты  \\nОтзывы: Студия красоты «Дарлинг» предоставляет бьюти-услуги и продаёт парфюмерию и косметику.  \\nДополнительная информация: Предоставляет услуги шугаринга, депиляции, маникюра. Работает ежедневно с 9:00 до 21:00. Ответ: RELEVANT_PLUS\\n\\nПользовательский запрос: Шашлычная  \\nОрганизация:  \\nНазвание: Яндекс Лавка  \\nАдрес: Москва, улица Адмирала Макарова, 23, корп. 2  \\nРубрика: Доставка продуктов  \\nОтзывы: Организация занимается доставкой продуктов и еды, работает в формате даркстора.  \\nДополнительная информация: Сервис доставки продуктов на дом, работает через мобильное приложение.  \\nОтвет: IRRELEVANT\\n\\nПользовательский запрос: Отдел полиции № 7 \\nОрганизация:  \\nНазвание: Отдел полиции № 6 УМВД России по городу Уфе  \\nАдрес: Республика Башкортостан, Уфа, улица Лесотехникума, 92/2  \\nРубрика: Отделение полиции \\nОтзывы: Организация занимается обеспечением правопорядка и оказанием соответствующих услуг населению. Тональность отзывов смешанная: есть как положительные, так и отрицательные.  \\nДополнительная информация:   \\nОтвет: IRRELEVANT\\n\\n### Теперь оцени следующий пример:\\nПользовательский запрос: \"лучшие хостел в москве на двоих длительный срок\"  \\nОрганизация:  \\nНазвание: Христал Лубянка; Christal Lubyanka  \\nАдрес: Москва, Кривоколенный переулок, 4с3  \\nРубрика: Хостел  \\nОтзывы: Хостел «Христал Лубянка» находится в центре Москвы и предлагает проживание в комфортных условиях. Отзывы смешанные: много положительных, но есть и отрицательные. Хвалят чистоту, удобное расположение, приветливый персонал. Критикуют поведение некоторых сотрудников, проблемы с администраторами, неудобства с душем и выселениями. | 1. Положительный отзыв о хостеле | 2. Отзыв о снижении качества за 2 года | 3. Положительный отзыв, хвалят уют | 4. Хвалят чистоту и персонал | 5. Критикуют неприятный запах в хостеле | 6. Положительный отзыв о персонале и расположении | 7. Положительный отзыв с акцентом на контроль за контингентом | 8. Отрицательный отзыв о поведении администратора и условиях проживания | 9. Положительный отзыв от постоянного гостя | 10. Критика нового администратора | 11. Положительный отзыв о чистоте и удобстве | 12. Положительный отзыв об администраторе и заселении | 13. Отрицательный отзыв о сотруднице на ресепшене | 14. Положительный отзыв и намерение вернуться | 15. Хвалят расположение и чистоту | 16. Положительный отзыв о спокойствии и уюте | 17. Отрицательный отзыв о санитарных условиях | 18. Положительный отзыв о капсульном отеле | 19. Хвалят администратора Надежду | 20. Положительный отзыв о чистоте | 21. Положительный отзыв о возможности хорошо выспаться | 22. Положительный отзыв о людях и обстановке | 23. Отрицательный отзыв об уровне проживания и насекомых | 24. Положительный отзыв о комфорте | 25. Положительный отзыв о месте для ночёвки | 26. Критика системы бронирования | 27. Отрицательный общий отзыв | 28. Положительный отзыв о расположении и условиях | 29. Положительный отзыв о длительном проживании | 30. Критика поведения администратора | 31. Положительный отзыв о вежливом персонале | 32. Критика эмоциональной атмосферы в хостеле | 33. Положительный отзыв о чистоте и расположении | 34. Положительный отзыв о персонале и условиях | 35. Положительный короткий отзыв | 36. Положительный общий отзыв | 37. Хвалят тишину и расположение | 38. Положительный отзыв для культурных людей | 39. Положительный отзыв о чистоте | 40. Положительный отзыв о кратковременном проживании  \\nДополнительная информация: Христал — это три уютных хостела на м.Лубянка, м.Юго-Западная и м. Савеловская, в которых мы рады видеть гостей со всего мира.\\n\\nЦена от 1000 Р. ... Хостел Христал расположился в 300 м. от метро Лубянка / Кузнецкий мост. 15 комфортных небольших номеров позволят отдохнуть в центре шумной и\\n\\nХостел «Христал Лубянка» работает круглосуточно и находится в 400 м от станции метро «Лубянка». К размещению представлены женские, мужские, двухместные и  \\nОтвет:\"\"\"\\n\\n\\n', 'classification_response': 'RELEVANT_PLUS'}\n",
       "            </pre>\n",
       "        </details>\n",
       "        \n",
       "</div>\n"
      ],
      "text/plain": [
       "<IPython.core.display.HTML object>"
      ]
     },
     "metadata": {},
     "output_type": "display_data"
    }
   ],
   "source": [
    "inspect_row(agent3_consensus_error, idx=34)"
   ]
  },
  {
   "cell_type": "markdown",
   "id": "4851a225-3d61-4836-971b-faf1d353cd8c",
   "metadata": {},
   "source": [
    "Учтены все ключевые факторы"
   ]
  },
  {
   "cell_type": "code",
   "execution_count": 93,
   "id": "eb3ee4d8-941c-495c-8165-4cec5fd6ed35",
   "metadata": {},
   "outputs": [],
   "source": [
    "assessors_errors_consensus.append(int(agent3_consensus_error.loc[35]['permalink']))"
   ]
  },
  {
   "cell_type": "code",
   "execution_count": 94,
   "id": "0a6527a9-d2b3-4be5-96e9-5abfbaab29f0",
   "metadata": {},
   "outputs": [
    {
     "data": {
      "text/html": [
       "\n",
       "<div style=\"border:1px solid #ccc; padding:16px; border-radius:10px;\n",
       "            font-family:sans-serif; background-color:#f9f9f9; margin-bottom:20px\">\n",
       "  <h2>📌 Index: 35</h2>\n",
       "  <p><strong>Запрос:</strong><br>посуда богемия купить в москве </p>\n",
       "  <p><strong>Адрес:</strong><br>Москва, Большая Почтовая улица, 36, стр. 9</p>\n",
       "  <p><strong>Название:</strong><br>Кристал Богемия Рус; Crystal Bohemia Rus</p>\n",
       "  <p><strong>ID Организации:</strong><br>169663923184</p>\n",
       "  <p><strong>Рубрика:</strong><br>Посуда оптом</p>\n",
       "  <p><strong>Описание:</strong><br>—</p>\n",
       "  <p><strong>Истинная релевантность:</strong> 0.0</p>\n",
       "  <p><strong>Отзывы:</strong><br>—</p>\n",
       "  <p><strong>Предсказание модели (pred_relevance):</strong><br>1.0</p>\n",
       "  \n",
       "        <details style=\"margin-top:10px;\">\n",
       "            <summary style=\"cursor:pointer;\"><strong>🧠 Agent log (раскрыть)</strong></summary>\n",
       "            <pre style=\"white-space:pre-wrap; background:#eee; padding:10px; border-radius:6px;\">\n",
       "{'need_search_decision': 'YES', 'search_prompt': '# llm_relevance_agent/agent/prompts/need_search_v2.txt\\n# Убран пункт ### Когда поиск не нужен (NO):\\\\n1. Рубрика явно соответствует или не соответствует запросу.\\n\\nОпредели, нужно ли искать дополнительную информацию об организации, чтобы достоверно определить её релевантность пользовательскому запросу.\\n\\nОтвет строго одним из двух вариантов:\\n- \"YES\" — если информации недостаточно для достоверной оценки.\\n- \"NO\" — если можно точно определить релевантность уже по имеющимся данным.\\n\\n### Когда нужен поиск (YES):\\n1. В запросе есть уточнения (время работы, конкретные услуги, цены, бренды).\\n2. Рубрика слишком общая, а запрос специфичный.\\n3. Неясно, предоставляет ли организация нужную услугу.\\n4. В запросе есть временные или географические ограничения.\\n\\n\\n### Когда поиск не нужен (NO):\\n1. Отзывы подтверждают ключевые требования из запроса — нужные услуги, условия или особенности.\\n2. Запрос общий, а информации достаточно.\\n\\n### Примеры:\\nПользовательский запрос: Шиномонтаж 24\\nОрганизация:\\nНазвание: Шиномонтаж\\nАдрес: Республика Калмыкия, Элиста, улица В.И. Ленина, 7, стр. 8А\\nРубрика: Шиномонтаж\\nОтзывы: Организация занимается шиномонтажом. Отзывы положительные: хвалят высокое качество работы.\\nОтвет: YES\\n\\nПользовательский запрос: где дешево поесть в санкт-петербурге 2017\\nОрганизация:\\nНазвание: Буше; Bushe; БУШЕ пекарня-кондитерская ООО\\nАдрес: Санкт-Петербург, Малая Морская улица, 7\\nРубрика: Пекарня\\nОтзывы: Организация занимается выпечкой и продажей кондитерских изделий, а также предлагает завтраки и другие блюда. Отзывы преимущественно положительные: хвалят вкус еды и напитков, атмосферу и обслуживание, но критикуют высокие цены и иногда медленную работу персонала. | 1. Критикуют состояние туалета. | 2. Отмечают, что кухня не работала. | 3. Хвалят заведение в общем. | 4. Считают цены высокими. | 5. Восхищаются круасанами.\\nОтвет: NO\\n\\n### Теперь оцени следующий пример:\\nПользовательский запрос: \"посуда богемия купить в москве \"\\nОрганизация:\\nНазвание: Кристал Богемия Рус; Crystal Bohemia Rus\\nАдрес: Москва, Большая Почтовая улица, 36, стр. 9\\nРубрика: Посуда оптом\\nОтзывы: —\\nОтвет:', 'search_query': 'Кристал Богемия Рус Посуда оптом Москва, Большая Почтовая улица, 36, стр. 9 посуда богемия купить в москве', 'search_results': 'Большая Почтовая ул., 36, стр. 9, Москваподъезд 15, этаж 2, офис 217. Маршрут. Контакты. +7 (495) 380-30-85 · crystal-bohemia.ru. Время работы.\\n\\nОригинальный богемский хрусталь Crystal Bohemia (Чехия) – бокалы, вазы, наборы для вина, графины и подарочные изделия. Доставка по России. Закажите\\n\\n«Посуда Богемия» интернет-магазин, официальный дилер чешской посуды из фарфора и предметов интерьера в Москве. Большой каталог, доставка по всей России.', 'classification_prompt': '# llm_relevance_agent/agent/prompts/classify_v2.txt\\n# Пункт 4 изменен\\n\\nТы — интеллектуальная система, которая определяет, насколько организация соответствует пользовательскому запросу.\\nОтветь строго одним из двух вариантов: \"RELEVANT_PLUS\" или \"IRRELEVANT\".\\n\\n### Правила оценки:\\n1. RELEVANT_PLUS — если организация явно удовлетворяет запросу.  \\n2. IRRELEVANT — если соответствия нет.  \\n3. В первую очередь анализируй пользовательский запрос и поля \"Рубрика\" и \"Адрес\".  \\n4. Используй отзывы и дополнительную информацию (поле \"Дополнительная информация\"), особенно если они содержат уникальные признаки, указанные в запросе.\\n5. Если в запросе указана **часть адреса** (например, улица, район или город), обязательно сверяй её с адресом организации. Несовпадение = IRRELEVANT.   \\n6. Если в запросе указан **конкретный номер отделения, филиала, школы, офиса и т.п.**, обязательно сверяй его с номером в названии организации. Несовпадение = IRRELEVANT.\\n7. Если в запросе указана **конкретная станция метро**, считай организацию RELEVANT_PLUS только если в адресе или описании явно указана та же станция метро или подтверждена близость к ней. При несоответствии — IRRELEVANT.\\n\\n### Примеры:\\nПользовательский запрос: шугаринг Красноярск  \\nОрганизация:  \\nНазвание: Студия красоты Дарлинг  \\nАдрес: Красноярск, микрорайон Взлётка, улица Весны, 3  \\nРубрика: Салон красоты  \\nОтзывы: Студия красоты «Дарлинг» предоставляет бьюти-услуги и продаёт парфюмерию и косметику.  \\nДополнительная информация: Предоставляет услуги шугаринга, депиляции, маникюра. Работает ежедневно с 9:00 до 21:00. Ответ: RELEVANT_PLUS\\n\\nПользовательский запрос: Шашлычная  \\nОрганизация:  \\nНазвание: Яндекс Лавка  \\nАдрес: Москва, улица Адмирала Макарова, 23, корп. 2  \\nРубрика: Доставка продуктов  \\nОтзывы: Организация занимается доставкой продуктов и еды, работает в формате даркстора.  \\nДополнительная информация: Сервис доставки продуктов на дом, работает через мобильное приложение.  \\nОтвет: IRRELEVANT\\n\\nПользовательский запрос: Отдел полиции № 7 \\nОрганизация:  \\nНазвание: Отдел полиции № 6 УМВД России по городу Уфе  \\nАдрес: Республика Башкортостан, Уфа, улица Лесотехникума, 92/2  \\nРубрика: Отделение полиции \\nОтзывы: Организация занимается обеспечением правопорядка и оказанием соответствующих услуг населению. Тональность отзывов смешанная: есть как положительные, так и отрицательные.  \\nДополнительная информация:   \\nОтвет: IRRELEVANT\\n\\n### Теперь оцени следующий пример:\\nПользовательский запрос: \"посуда богемия купить в москве \"  \\nОрганизация:  \\nНазвание: Кристал Богемия Рус; Crystal Bohemia Rus  \\nАдрес: Москва, Большая Почтовая улица, 36, стр. 9  \\nРубрика: Посуда оптом  \\nОтзывы: —  \\nДополнительная информация: Большая Почтовая ул., 36, стр. 9, Москваподъезд 15, этаж 2, офис 217. Маршрут. Контакты. +7 (495) 380-30-85 · crystal-bohemia.ru. Время работы.\\n\\nОригинальный богемский хрусталь Crystal Bohemia (Чехия) – бокалы, вазы, наборы для вина, графины и подарочные изделия. Доставка по России. Закажите\\n\\n«Посуда Богемия» интернет-магазин, официальный дилер чешской посуды из фарфора и предметов интерьера в Москве. Большой каталог, доставка по всей России.  \\nОтвет:\"\"\"\\n\\n\\n', 'classification_response': 'RELEVANT_PLUS'}\n",
       "            </pre>\n",
       "        </details>\n",
       "        \n",
       "</div>\n"
      ],
      "text/plain": [
       "<IPython.core.display.HTML object>"
      ]
     },
     "metadata": {},
     "output_type": "display_data"
    }
   ],
   "source": [
    "inspect_row(agent3_consensus_error, idx=35)"
   ]
  },
  {
   "cell_type": "markdown",
   "id": "8facbf91-0ce9-4954-b8b7-4fdce212ab0d",
   "metadata": {},
   "source": [
    "### Малоинформативный/общий запрос пользователя"
   ]
  },
  {
   "cell_type": "markdown",
   "id": "c5414b27-32ba-475d-a106-fa563d434a51",
   "metadata": {},
   "source": [
    "С этим типом запросов как правило разметка в сторону 0.0, а модель склонна ставить релевантность. В целом какая-то релевантность таки есть"
   ]
  },
  {
   "cell_type": "code",
   "execution_count": 95,
   "id": "1c8a25e6-7182-4d26-b2e4-f79178098940",
   "metadata": {},
   "outputs": [],
   "source": [
    "assessors_errors_consensus.append(int(agent3_consensus_error.loc[36]['permalink']))"
   ]
  },
  {
   "cell_type": "code",
   "execution_count": 96,
   "id": "10cf1a67-06c8-4a37-90b1-045ece4acce4",
   "metadata": {},
   "outputs": [
    {
     "data": {
      "text/html": [
       "\n",
       "<div style=\"border:1px solid #ccc; padding:16px; border-radius:10px;\n",
       "            font-family:sans-serif; background-color:#f9f9f9; margin-bottom:20px\">\n",
       "  <h2>📌 Index: 36</h2>\n",
       "  <p><strong>Запрос:</strong><br>крым отдых</p>\n",
       "  <p><strong>Адрес:</strong><br>Республика Крым, Сакский район, посёлок городского типа Новофёдоровка, улица Дегтярёва, 1А</p>\n",
       "  <p><strong>Название:</strong><br>Мелисса; Melissa; Гостевой Дом Мелисса; Гостевой дом Мелисса</p>\n",
       "  <p><strong>ID Организации:</strong><br>130468265185</p>\n",
       "  <p><strong>Рубрика:</strong><br>Гостиница</p>\n",
       "  <p><strong>Описание:</strong><br>Гостиница «Мелисса» предоставляет проживание в различных категориях номеров, а также предлагает питание и оздоровительные процедуры, включая массаж и прессотерапию | 1-местный «Стандарт» | 2-местный «Стандарт» | комплексный завтрак | прессотерапия | классический массаж</p>\n",
       "  <p><strong>Истинная релевантность:</strong> 0.0</p>\n",
       "  <p><strong>Отзывы:</strong><br>Гостиница «Мелисса» предлагает уютные номера, качественное обслуживание и вкусную еду. Отзывы преимущественно положительные: хвалят сервис, чистоту, персонал и кулинарные способности повара. Критикуется лишь несколько мелочей, таких как подушки и котлеты. | 1. Хвалят сервис и цены. | 2. Отмечают отличные номера и кухню. | 3. Похвалили вежливый персонал и вкусные завтраки. | 4. Отдыхающие довольны оперативным обслуживанием и качеством питания. | 5. Подчёркивают вкусное питание и уют. | 6. Отмечают уют и приятную атмосферу. | 7. Пользователь впечатлён современным ремонтом и внимательным персоналом. | 8. Советуют место за уют и душевную атмосферу. | 9. Хвалят гостевой дом за комфорт и профессионализм. | 10. Подчёркивают чистоту и приветливый персонал. | 11. Отмечают вежливый персонал и удобное расположение. | 12. Критикуют котлеты, но хвалят обслуживание и чистоту. | 13. Пользователь доволен комфортным отдыхом и вкусной едой. | 14. Хвалят комфортное место и приветливый персонал. | 15. Отмечают превосходную кухню и квалифицированный персонал. | 16. Похвалили уютные чистые номера и кафе при отеле. | 17. Подчёркивают уют, чистоту и прекрасный сервис. | 18. Хвалят организацию празднования дня рождения и внимание персонала. | 19. Отмечают элегантность и внимание к деталям. | 20. Похвалили уютный номер и близкое расположение к морю. | 21. Подчёркивают удобство и близость к морю. | 22. Хвалят атмосферу и приветливую хозяйку. | 23. Отмечают дружелюбный коллектив и чистоту. | 24. Похвалили проведение Нового года и кухню. | 25. Подчёркивают гостеприимство и удобство. | 26. Хвалят комфортные номера и кафе. | 27. Отмечают красивый вид и дружелюбный персонал.</p>\n",
       "  <p><strong>Предсказание модели (pred_relevance):</strong><br>1.0</p>\n",
       "  \n",
       "        <details style=\"margin-top:10px;\">\n",
       "            <summary style=\"cursor:pointer;\"><strong>🧠 Agent log (раскрыть)</strong></summary>\n",
       "            <pre style=\"white-space:pre-wrap; background:#eee; padding:10px; border-radius:6px;\">\n",
       "{'need_search_decision': 'NO', 'search_prompt': '# llm_relevance_agent/agent/prompts/need_search_v2.txt\\n# Убран пункт ### Когда поиск не нужен (NO):\\\\n1. Рубрика явно соответствует или не соответствует запросу.\\n\\nОпредели, нужно ли искать дополнительную информацию об организации, чтобы достоверно определить её релевантность пользовательскому запросу.\\n\\nОтвет строго одним из двух вариантов:\\n- \"YES\" — если информации недостаточно для достоверной оценки.\\n- \"NO\" — если можно точно определить релевантность уже по имеющимся данным.\\n\\n### Когда нужен поиск (YES):\\n1. В запросе есть уточнения (время работы, конкретные услуги, цены, бренды).\\n2. Рубрика слишком общая, а запрос специфичный.\\n3. Неясно, предоставляет ли организация нужную услугу.\\n4. В запросе есть временные или географические ограничения.\\n\\n\\n### Когда поиск не нужен (NO):\\n1. Отзывы подтверждают ключевые требования из запроса — нужные услуги, условия или особенности.\\n2. Запрос общий, а информации достаточно.\\n\\n### Примеры:\\nПользовательский запрос: Шиномонтаж 24\\nОрганизация:\\nНазвание: Шиномонтаж\\nАдрес: Республика Калмыкия, Элиста, улица В.И. Ленина, 7, стр. 8А\\nРубрика: Шиномонтаж\\nОтзывы: Организация занимается шиномонтажом. Отзывы положительные: хвалят высокое качество работы.\\nОтвет: YES\\n\\nПользовательский запрос: где дешево поесть в санкт-петербурге 2017\\nОрганизация:\\nНазвание: Буше; Bushe; БУШЕ пекарня-кондитерская ООО\\nАдрес: Санкт-Петербург, Малая Морская улица, 7\\nРубрика: Пекарня\\nОтзывы: Организация занимается выпечкой и продажей кондитерских изделий, а также предлагает завтраки и другие блюда. Отзывы преимущественно положительные: хвалят вкус еды и напитков, атмосферу и обслуживание, но критикуют высокие цены и иногда медленную работу персонала. | 1. Критикуют состояние туалета. | 2. Отмечают, что кухня не работала. | 3. Хвалят заведение в общем. | 4. Считают цены высокими. | 5. Восхищаются круасанами.\\nОтвет: NO\\n\\n### Теперь оцени следующий пример:\\nПользовательский запрос: \"крым отдых\"\\nОрганизация:\\nНазвание: Мелисса; Melissa; Гостевой Дом Мелисса; Гостевой дом Мелисса\\nАдрес: Республика Крым, Сакский район, посёлок городского типа Новофёдоровка, улица Дегтярёва, 1А\\nРубрика: Гостиница\\nОтзывы: Гостиница «Мелисса» предлагает уютные номера, качественное обслуживание и вкусную еду. Отзывы преимущественно положительные: хвалят сервис, чистоту, персонал и кулинарные способности повара. Критикуется лишь несколько мелочей, таких как подушки и котлеты. | 1. Хвалят сервис и цены. | 2. Отмечают отличные номера и кухню. | 3. Похвалили вежливый персонал и вкусные завтраки. | 4. Отдыхающие довольны оперативным обслуживанием и качеством питания. | 5. Подчёркивают вкусное питание и уют. | 6. Отмечают уют и приятную атмосферу. | 7. Пользователь впечатлён современным ремонтом и внимательным персоналом. | 8. Советуют место за уют и душевную атмосферу. | 9. Хвалят гостевой дом за комфорт и профессионализм. | 10. Подчёркивают чистоту и приветливый персонал. | 11. Отмечают вежливый персонал и удобное расположение. | 12. Критикуют котлеты, но хвалят обслуживание и чистоту. | 13. Пользователь доволен комфортным отдыхом и вкусной едой. | 14. Хвалят комфортное место и приветливый персонал. | 15. Отмечают превосходную кухню и квалифицированный персонал. | 16. Похвалили уютные чистые номера и кафе при отеле. | 17. Подчёркивают уют, чистоту и прекрасный сервис. | 18. Хвалят организацию празднования дня рождения и внимание персонала. | 19. Отмечают элегантность и внимание к деталям. | 20. Похвалили уютный номер и близкое расположение к морю. | 21. Подчёркивают удобство и близость к морю. | 22. Хвалят атмосферу и приветливую хозяйку. | 23. Отмечают дружелюбный коллектив и чистоту. | 24. Похвалили проведение Нового года и кухню. | 25. Подчёркивают гостеприимство и удобство. | 26. Хвалят комфортные номера и кафе. | 27. Отмечают красивый вид и дружелюбный персонал.\\nОтвет:', 'classification_prompt': '# llm_relevance_agent/agent/prompts/classify_v2.txt\\n# Пункт 4 изменен\\n\\nТы — интеллектуальная система, которая определяет, насколько организация соответствует пользовательскому запросу.\\nОтветь строго одним из двух вариантов: \"RELEVANT_PLUS\" или \"IRRELEVANT\".\\n\\n### Правила оценки:\\n1. RELEVANT_PLUS — если организация явно удовлетворяет запросу.  \\n2. IRRELEVANT — если соответствия нет.  \\n3. В первую очередь анализируй пользовательский запрос и поля \"Рубрика\" и \"Адрес\".  \\n4. Используй отзывы и дополнительную информацию (поле \"Дополнительная информация\"), особенно если они содержат уникальные признаки, указанные в запросе.\\n5. Если в запросе указана **часть адреса** (например, улица, район или город), обязательно сверяй её с адресом организации. Несовпадение = IRRELEVANT.   \\n6. Если в запросе указан **конкретный номер отделения, филиала, школы, офиса и т.п.**, обязательно сверяй его с номером в названии организации. Несовпадение = IRRELEVANT.\\n7. Если в запросе указана **конкретная станция метро**, считай организацию RELEVANT_PLUS только если в адресе или описании явно указана та же станция метро или подтверждена близость к ней. При несоответствии — IRRELEVANT.\\n\\n### Примеры:\\nПользовательский запрос: шугаринг Красноярск  \\nОрганизация:  \\nНазвание: Студия красоты Дарлинг  \\nАдрес: Красноярск, микрорайон Взлётка, улица Весны, 3  \\nРубрика: Салон красоты  \\nОтзывы: Студия красоты «Дарлинг» предоставляет бьюти-услуги и продаёт парфюмерию и косметику.  \\nДополнительная информация: Предоставляет услуги шугаринга, депиляции, маникюра. Работает ежедневно с 9:00 до 21:00. Ответ: RELEVANT_PLUS\\n\\nПользовательский запрос: Шашлычная  \\nОрганизация:  \\nНазвание: Яндекс Лавка  \\nАдрес: Москва, улица Адмирала Макарова, 23, корп. 2  \\nРубрика: Доставка продуктов  \\nОтзывы: Организация занимается доставкой продуктов и еды, работает в формате даркстора.  \\nДополнительная информация: Сервис доставки продуктов на дом, работает через мобильное приложение.  \\nОтвет: IRRELEVANT\\n\\nПользовательский запрос: Отдел полиции № 7 \\nОрганизация:  \\nНазвание: Отдел полиции № 6 УМВД России по городу Уфе  \\nАдрес: Республика Башкортостан, Уфа, улица Лесотехникума, 92/2  \\nРубрика: Отделение полиции \\nОтзывы: Организация занимается обеспечением правопорядка и оказанием соответствующих услуг населению. Тональность отзывов смешанная: есть как положительные, так и отрицательные.  \\nДополнительная информация:   \\nОтвет: IRRELEVANT\\n\\n### Теперь оцени следующий пример:\\nПользовательский запрос: \"крым отдых\"  \\nОрганизация:  \\nНазвание: Мелисса; Melissa; Гостевой Дом Мелисса; Гостевой дом Мелисса  \\nАдрес: Республика Крым, Сакский район, посёлок городского типа Новофёдоровка, улица Дегтярёва, 1А  \\nРубрика: Гостиница  \\nОтзывы: Гостиница «Мелисса» предлагает уютные номера, качественное обслуживание и вкусную еду. Отзывы преимущественно положительные: хвалят сервис, чистоту, персонал и кулинарные способности повара. Критикуется лишь несколько мелочей, таких как подушки и котлеты. | 1. Хвалят сервис и цены. | 2. Отмечают отличные номера и кухню. | 3. Похвалили вежливый персонал и вкусные завтраки. | 4. Отдыхающие довольны оперативным обслуживанием и качеством питания. | 5. Подчёркивают вкусное питание и уют. | 6. Отмечают уют и приятную атмосферу. | 7. Пользователь впечатлён современным ремонтом и внимательным персоналом. | 8. Советуют место за уют и душевную атмосферу. | 9. Хвалят гостевой дом за комфорт и профессионализм. | 10. Подчёркивают чистоту и приветливый персонал. | 11. Отмечают вежливый персонал и удобное расположение. | 12. Критикуют котлеты, но хвалят обслуживание и чистоту. | 13. Пользователь доволен комфортным отдыхом и вкусной едой. | 14. Хвалят комфортное место и приветливый персонал. | 15. Отмечают превосходную кухню и квалифицированный персонал. | 16. Похвалили уютные чистые номера и кафе при отеле. | 17. Подчёркивают уют, чистоту и прекрасный сервис. | 18. Хвалят организацию празднования дня рождения и внимание персонала. | 19. Отмечают элегантность и внимание к деталям. | 20. Похвалили уютный номер и близкое расположение к морю. | 21. Подчёркивают удобство и близость к морю. | 22. Хвалят атмосферу и приветливую хозяйку. | 23. Отмечают дружелюбный коллектив и чистоту. | 24. Похвалили проведение Нового года и кухню. | 25. Подчёркивают гостеприимство и удобство. | 26. Хвалят комфортные номера и кафе. | 27. Отмечают красивый вид и дружелюбный персонал.  \\nДополнительная информация: —  \\nОтвет:\"\"\"\\n\\n\\n', 'classification_response': 'RELEVANT_PLUS'}\n",
       "            </pre>\n",
       "        </details>\n",
       "        \n",
       "</div>\n"
      ],
      "text/plain": [
       "<IPython.core.display.HTML object>"
      ]
     },
     "metadata": {},
     "output_type": "display_data"
    }
   ],
   "source": [
    "inspect_row(agent3_consensus_error, idx=36)"
   ]
  },
  {
   "cell_type": "code",
   "execution_count": 97,
   "id": "be619f53-0f34-4f53-8c37-f818ee38c017",
   "metadata": {},
   "outputs": [
    {
     "name": "stdout",
     "output_type": "stream",
     "text": [
      "Отсмотрена половина консенсусных ошибок: 36\n",
      "Из них модельных ошибок: 14 (38.9%)\n",
      "Ошибок аннотаций: 23 (63.9%)\n"
     ]
    }
   ],
   "source": [
    "total_unique = len(agent3_consensus_error[:36])\n",
    "num_model_errors = len(model_consensus_errors)\n",
    "num_assessor_errors = len(assessors_errors_consensus)\n",
    "\n",
    "print(f\"Отсмотрена половина консенсусных ошибок: {total_unique}\")\n",
    "print(f\"Из них модельных ошибок: {num_model_errors} ({num_model_errors / total_unique:.1%})\")\n",
    "print(f\"Ошибок аннотаций: {num_assessor_errors} ({num_assessor_errors / total_unique:.1%})\")\n",
    "\n",
    "# Проверка: пересекаются ли model_errors и assessors_errors (не должно быть)\n",
    "intersection = set(model_consensus_errors) & set(assessors_errors_consensus)\n",
    "if intersection:\n",
    "    print(f\"⚠️ Пересечения в списках model_errors и assessors_errors: {len(intersection)}\")"
   ]
  },
  {
   "cell_type": "markdown",
   "id": "0f2096ac-d889-4ca8-be9d-578a79619de5",
   "metadata": {},
   "source": [
    "# Выводы"
   ]
  },
  {
   "cell_type": "code",
   "execution_count": 98,
   "id": "628e14e8-570c-4224-8af9-50c61d2ac5b3",
   "metadata": {},
   "outputs": [
    {
     "data": {
      "text/html": [
       "<div>\n",
       "<style scoped>\n",
       "    .dataframe tbody tr th:only-of-type {\n",
       "        vertical-align: middle;\n",
       "    }\n",
       "\n",
       "    .dataframe tbody tr th {\n",
       "        vertical-align: top;\n",
       "    }\n",
       "\n",
       "    .dataframe thead th {\n",
       "        text-align: right;\n",
       "    }\n",
       "</style>\n",
       "<table border=\"1\" class=\"dataframe\">\n",
       "  <thead>\n",
       "    <tr style=\"text-align: right;\">\n",
       "      <th></th>\n",
       "      <th>split</th>\n",
       "      <th>model</th>\n",
       "      <th>description</th>\n",
       "      <th>accuracy</th>\n",
       "    </tr>\n",
       "  </thead>\n",
       "  <tbody>\n",
       "    <tr>\n",
       "      <th>0</th>\n",
       "      <td>val</td>\n",
       "      <td>baseline</td>\n",
       "      <td>gpt + few-shot in-context learning prompt</td>\n",
       "      <td>0.6856</td>\n",
       "    </tr>\n",
       "    <tr>\n",
       "      <th>1</th>\n",
       "      <td>val</td>\n",
       "      <td>agent1</td>\n",
       "      <td>агент 1 версия</td>\n",
       "      <td>0.6957</td>\n",
       "    </tr>\n",
       "    <tr>\n",
       "      <th>2</th>\n",
       "      <td>val</td>\n",
       "      <td>agent2</td>\n",
       "      <td>агент 2 версия</td>\n",
       "      <td>0.6221</td>\n",
       "    </tr>\n",
       "    <tr>\n",
       "      <th>3</th>\n",
       "      <td>val</td>\n",
       "      <td>agent3</td>\n",
       "      <td>агент 3 версия</td>\n",
       "      <td>0.6288</td>\n",
       "    </tr>\n",
       "    <tr>\n",
       "      <th>4</th>\n",
       "      <td>test</td>\n",
       "      <td>baseline</td>\n",
       "      <td>gpt + few-shot in-context learning prompt</td>\n",
       "      <td>0.7840</td>\n",
       "    </tr>\n",
       "    <tr>\n",
       "      <th>5</th>\n",
       "      <td>test</td>\n",
       "      <td>agent1</td>\n",
       "      <td>агент 1 версия</td>\n",
       "      <td>0.7640</td>\n",
       "    </tr>\n",
       "    <tr>\n",
       "      <th>6</th>\n",
       "      <td>test</td>\n",
       "      <td>agent2</td>\n",
       "      <td>агент 2 версия</td>\n",
       "      <td>0.7360</td>\n",
       "    </tr>\n",
       "    <tr>\n",
       "      <th>7</th>\n",
       "      <td>test</td>\n",
       "      <td>agent3</td>\n",
       "      <td>агент 3 версия</td>\n",
       "      <td>0.7640</td>\n",
       "    </tr>\n",
       "  </tbody>\n",
       "</table>\n",
       "</div>"
      ],
      "text/plain": [
       "  split     model                                description  accuracy\n",
       "0   val  baseline  gpt + few-shot in-context learning prompt    0.6856\n",
       "1   val    agent1                             агент 1 версия    0.6957\n",
       "2   val    agent2                             агент 2 версия    0.6221\n",
       "3   val    agent3                             агент 3 версия    0.6288\n",
       "4  test  baseline  gpt + few-shot in-context learning prompt    0.7840\n",
       "5  test    agent1                             агент 1 версия    0.7640\n",
       "6  test    agent2                             агент 2 версия    0.7360\n",
       "7  test    agent3                             агент 3 версия    0.7640"
      ]
     },
     "execution_count": 98,
     "metadata": {},
     "output_type": "execute_result"
    }
   ],
   "source": [
    "acc_df"
   ]
  },
  {
   "cell_type": "code",
   "execution_count": 99,
   "id": "97cbadd6-207c-401e-850c-fc341f0ce3c4",
   "metadata": {},
   "outputs": [
    {
     "data": {
      "text/html": [
       "<div>\n",
       "<style scoped>\n",
       "    .dataframe tbody tr th:only-of-type {\n",
       "        vertical-align: middle;\n",
       "    }\n",
       "\n",
       "    .dataframe tbody tr th {\n",
       "        vertical-align: top;\n",
       "    }\n",
       "\n",
       "    .dataframe thead th {\n",
       "        text-align: right;\n",
       "    }\n",
       "</style>\n",
       "<table border=\"1\" class=\"dataframe\">\n",
       "  <thead>\n",
       "    <tr style=\"text-align: right;\">\n",
       "      <th></th>\n",
       "      <th>Всего ошибок</th>\n",
       "      <th>Ошибки агента</th>\n",
       "      <th>% агентных ошибок</th>\n",
       "      <th>Ошибки аннотаций</th>\n",
       "      <th>% аннотационных ошибок</th>\n",
       "      <th>Пересечения</th>\n",
       "    </tr>\n",
       "  </thead>\n",
       "  <tbody>\n",
       "    <tr>\n",
       "      <th>Количество уникальных ошибок агента 3</th>\n",
       "      <td>3</td>\n",
       "      <td>2</td>\n",
       "      <td>66.7%</td>\n",
       "      <td>1</td>\n",
       "      <td>33.3%</td>\n",
       "      <td>0</td>\n",
       "    </tr>\n",
       "    <tr>\n",
       "      <th>Консенсус (36 из 73)</th>\n",
       "      <td>36</td>\n",
       "      <td>14</td>\n",
       "      <td>38.9%</td>\n",
       "      <td>23</td>\n",
       "      <td>63.9%</td>\n",
       "      <td>0</td>\n",
       "    </tr>\n",
       "  </tbody>\n",
       "</table>\n",
       "</div>"
      ],
      "text/plain": [
       "                                       Всего ошибок  Ошибки агента  \\\n",
       "Количество уникальных ошибок агента 3             3              2   \n",
       "Консенсус (36 из 73)                             36             14   \n",
       "\n",
       "                                      % агентных ошибок  Ошибки аннотаций  \\\n",
       "Количество уникальных ошибок агента 3             66.7%                 1   \n",
       "Консенсус (36 из 73)                              38.9%                23   \n",
       "\n",
       "                                      % аннотационных ошибок  Пересечения  \n",
       "Количество уникальных ошибок агента 3                  33.3%            0  \n",
       "Консенсус (36 из 73)                                   63.9%            0  "
      ]
     },
     "execution_count": 99,
     "metadata": {},
     "output_type": "execute_result"
    }
   ],
   "source": [
    "# Общая статистика\n",
    "total_all = len(unique_error_agent3)\n",
    "model_all = len(model_errors_3)\n",
    "annot_all = len(assessors_errors_3)\n",
    "intersect_all = set(model_errors_3) & set(assessors_errors_3)\n",
    "\n",
    "# Консенсусная подвыборка\n",
    "consensus_subset = agent3_consensus_error[:36]\n",
    "total_consensus = len(consensus_subset)\n",
    "model_consensus = len(model_consensus_errors)\n",
    "annot_consensus = len(assessors_errors_consensus)\n",
    "intersect_consensus = set(model_consensus_errors) & set(assessors_errors_consensus)\n",
    "\n",
    "# Сводная таблица\n",
    "df = pd.DataFrame({\n",
    "    \"Всего ошибок\": [total_all, total_consensus],\n",
    "    \"Ошибки агента\": [model_all, model_consensus],\n",
    "    \"% агентных ошибок\": [f\"{model_all / total_all:.1%}\", f\"{model_consensus / total_consensus:.1%}\"],\n",
    "    \"Ошибки аннотаций\": [annot_all, annot_consensus],\n",
    "    \"% аннотационных ошибок\": [f\"{annot_all / total_all:.1%}\", f\"{annot_consensus / total_consensus:.1%}\"],\n",
    "    \"Пересечения\": [len(intersect_all), len(intersect_consensus)]\n",
    "}, index=[\"Количество уникальных ошибок агента 3\", \"Консенсус (36 из 73)\"])\n",
    "df"
   ]
  },
  {
   "cell_type": "code",
   "execution_count": 100,
   "id": "a9a695f9-9791-4984-9a6d-b6bd2e4ed2b6",
   "metadata": {},
   "outputs": [
    {
     "data": {
      "text/html": [
       "<div>\n",
       "<style scoped>\n",
       "    .dataframe tbody tr th:only-of-type {\n",
       "        vertical-align: middle;\n",
       "    }\n",
       "\n",
       "    .dataframe tbody tr th {\n",
       "        vertical-align: top;\n",
       "    }\n",
       "\n",
       "    .dataframe thead th {\n",
       "        text-align: right;\n",
       "    }\n",
       "</style>\n",
       "<table border=\"1\" class=\"dataframe\">\n",
       "  <thead>\n",
       "    <tr style=\"text-align: right;\">\n",
       "      <th>relevance_new</th>\n",
       "      <th>1.0</th>\n",
       "      <th>0.0</th>\n",
       "    </tr>\n",
       "  </thead>\n",
       "  <tbody>\n",
       "    <tr>\n",
       "      <th>распределение таргета на валидации</th>\n",
       "      <td>57.53</td>\n",
       "      <td>42.47</td>\n",
       "    </tr>\n",
       "    <tr>\n",
       "      <th>распределение таргета на тесте</th>\n",
       "      <td>63.40</td>\n",
       "      <td>36.60</td>\n",
       "    </tr>\n",
       "  </tbody>\n",
       "</table>\n",
       "</div>"
      ],
      "text/plain": [
       "relevance_new                         1.0    0.0\n",
       "распределение таргета на валидации  57.53  42.47\n",
       "распределение таргета на тесте      63.40  36.60"
      ]
     },
     "execution_count": 100,
     "metadata": {},
     "output_type": "execute_result"
    }
   ],
   "source": [
    "balance_table"
   ]
  },
  {
   "cell_type": "code",
   "execution_count": 101,
   "id": "6ca6d4b9-5269-412b-97cc-2bbb66eab124",
   "metadata": {},
   "outputs": [
    {
     "data": {
      "text/html": [
       "<div>\n",
       "<style scoped>\n",
       "    .dataframe tbody tr th:only-of-type {\n",
       "        vertical-align: middle;\n",
       "    }\n",
       "\n",
       "    .dataframe tbody tr th {\n",
       "        vertical-align: top;\n",
       "    }\n",
       "\n",
       "    .dataframe thead th {\n",
       "        text-align: right;\n",
       "    }\n",
       "</style>\n",
       "<table border=\"1\" class=\"dataframe\">\n",
       "  <thead>\n",
       "    <tr style=\"text-align: right;\">\n",
       "      <th>pred_relevance</th>\n",
       "      <th>1.0</th>\n",
       "      <th>0.0</th>\n",
       "    </tr>\n",
       "  </thead>\n",
       "  <tbody>\n",
       "    <tr>\n",
       "      <th>распределение таргета на валидации</th>\n",
       "      <td>66.22</td>\n",
       "      <td>33.78</td>\n",
       "    </tr>\n",
       "    <tr>\n",
       "      <th>распределение таргета на тесте</th>\n",
       "      <td>70.20</td>\n",
       "      <td>29.80</td>\n",
       "    </tr>\n",
       "  </tbody>\n",
       "</table>\n",
       "</div>"
      ],
      "text/plain": [
       "pred_relevance                        1.0    0.0\n",
       "распределение таргета на валидации  66.22  33.78\n",
       "распределение таргета на тесте      70.20  29.80"
      ]
     },
     "execution_count": 101,
     "metadata": {},
     "output_type": "execute_result"
    }
   ],
   "source": [
    "pred_balance_table"
   ]
  },
  {
   "cell_type": "code",
   "execution_count": 106,
   "id": "e4ed43a4-7a27-493c-9497-d5e53e2488be",
   "metadata": {},
   "outputs": [
    {
     "data": {
      "text/html": [
       "<div>\n",
       "<style scoped>\n",
       "    .dataframe tbody tr th:only-of-type {\n",
       "        vertical-align: middle;\n",
       "    }\n",
       "\n",
       "    .dataframe tbody tr th {\n",
       "        vertical-align: top;\n",
       "    }\n",
       "\n",
       "    .dataframe thead th {\n",
       "        text-align: right;\n",
       "    }\n",
       "</style>\n",
       "<table border=\"1\" class=\"dataframe\">\n",
       "  <thead>\n",
       "    <tr style=\"text-align: right;\">\n",
       "      <th></th>\n",
       "      <th>False Positives</th>\n",
       "      <th>False Negatives</th>\n",
       "      <th>Всего ошибок</th>\n",
       "      <th>% FP</th>\n",
       "      <th>% FN</th>\n",
       "    </tr>\n",
       "  </thead>\n",
       "  <tbody>\n",
       "    <tr>\n",
       "      <th>Уникальные ошибки Agent3</th>\n",
       "      <td>2</td>\n",
       "      <td>1</td>\n",
       "      <td>3</td>\n",
       "      <td>66.7%</td>\n",
       "      <td>33.3%</td>\n",
       "    </tr>\n",
       "    <tr>\n",
       "      <th>Консенсусные ошибки (36 из 73)</th>\n",
       "      <td>49</td>\n",
       "      <td>23</td>\n",
       "      <td>72</td>\n",
       "      <td>68.1%</td>\n",
       "      <td>31.9%</td>\n",
       "    </tr>\n",
       "  </tbody>\n",
       "</table>\n",
       "</div>"
      ],
      "text/plain": [
       "                                False Positives  False Negatives  \\\n",
       "Уникальные ошибки Agent3                      2                1   \n",
       "Консенсусные ошибки (36 из 73)               49               23   \n",
       "\n",
       "                                Всего ошибок   % FP   % FN  \n",
       "Уникальные ошибки Agent3                   3  66.7%  33.3%  \n",
       "Консенсусные ошибки (36 из 73)            72  68.1%  31.9%  "
      ]
     },
     "execution_count": 106,
     "metadata": {},
     "output_type": "execute_result"
    }
   ],
   "source": [
    "def count_fp_fn(df):\n",
    "    fp = ((df[\"pred_relevance\"] == 1.0) & (df[RELEVANCE_COL] == 0.0)).sum()\n",
    "    fn = ((df[\"pred_relevance\"] == 0.0) & (df[RELEVANCE_COL] == 1.0)).sum()\n",
    "    return fp, fn\n",
    "\n",
    "fp_all, fn_all = count_fp_fn(unique_error_agent3)\n",
    "fp_consensus, fn_consensus = count_fp_fn(agent3_consensus_error)\n",
    "\n",
    "df_fp_fn = pd.DataFrame({\n",
    "    \"False Positives\": [fp_all, fp_consensus],\n",
    "    \"False Negatives\": [fn_all, fn_consensus],\n",
    "    \"Всего ошибок\": [len(unique_error_agent3), len(agent3_consensus_error)]\n",
    "}, index=[\"Уникальные ошибки Agent3\", \"Консенсусные ошибки (36 из 73)\"])\n",
    "\n",
    "df_fp_fn[\"% FP\"] = [f\"{fp / total:.1%}\" for fp, total in zip(df_fp_fn[\"False Positives\"], df_fp_fn[\"Всего ошибок\"])]\n",
    "df_fp_fn[\"% FN\"] = [f\"{fn / total:.1%}\" for fn, total in zip(df_fp_fn[\"False Negatives\"], df_fp_fn[\"Всего ошибок\"])]\n",
    "df_fp_fn"
   ]
  },
  {
   "cell_type": "markdown",
   "id": "857aff94-1480-42c9-b6d3-639ec9f54aa7",
   "metadata": {},
   "source": [
    "Agent1 и Agent3 показывают одинаковую точность на тесте: 76.4%. \n",
    "Agent1 выигрывает на валидации (0.6957 vs 0.6288), но:\n",
    "\n",
    "* Судя по ошибкам, валидация шумная\n",
    "\n",
    "* В консенсусных ошибках (половина отсмотренных кейсов), 63.9% аннотационных — это очень высокий уровень шума, то есть \"реальных\" ошибок меньше.\n",
    "\n",
    "В уникальных ошибках на валидации Agent3 — 1 из 3 точно аннотационная, 1 точно агентная и еще 1 связана с очень широким и малоинформативным запросом. \n",
    "На тесте же уникальных ошибок у агента 3 меньше, чем у агента 1 (5 vs 15). Доверие к приросту от Agent1 по сравнению с Agent3, особенно при небольшой разнице на шумной валидации и с одинаковой точностью на тесте, снижается. Agent3 — не менее перспективный, чем Agent1, и, скорее всего, даже предпочтительнее, учитывая количество уникальных ошибок.\n",
    "\n",
    "Судя по тесту бейзлайн не сильно лучше агента, а чуть выше по цифре (0.7840 vs 0.7640), но это неустойчиво при наличии шума. Уникальные ошибки Agent3 — всего 5. В консенсусных ошибках: >60% — ошибки аннотаций, то есть \"большинство\" ошибок - не вина агента и мы не может утверждать, что агент 3 ошибается сильнее, чем бейзлайн.\n",
    "\n",
    "Данные не подтверждают, что сильный бейзлайн надёжнее — наоборот, агенты ошибаются \"иначе\", но не хуже и способны вскрывать \"скрытую\" релевантность\\нерелевантность при помощи поиска в Интернете, то есть точно есть потенциал быть лучше. Однако \"существенно побить\" бейзлайн в данном проекте мне точно не удалось. Думаю, агент 3 может дать какой-то прирост, но не при текущей разметке — она слишком шумная для точной (более тонкой) оценки.\n",
    "\n",
    "Также отмечу возможные направления для улучшения агента 3: \n",
    "\n",
    "* направлять поиск информации при появлении указания на время работы организации (круглосуточный, 24 часа, \"24/7\"..)\n",
    "* подчеркнуть важность модификаторов формата услуг в запросе типа \"дежурный\", \"на колесах\", \"частный\", \"с выездом\", \"выездной\", \"частный\""
   ]
  }
 ],
 "metadata": {
  "kernelspec": {
   "display_name": "Python 3 (ipykernel)",
   "language": "python",
   "name": "python3"
  },
  "language_info": {
   "codemirror_mode": {
    "name": "ipython",
    "version": 3
   },
   "file_extension": ".py",
   "mimetype": "text/x-python",
   "name": "python",
   "nbconvert_exporter": "python",
   "pygments_lexer": "ipython3",
   "version": "3.12.2"
  }
 },
 "nbformat": 4,
 "nbformat_minor": 5
}
