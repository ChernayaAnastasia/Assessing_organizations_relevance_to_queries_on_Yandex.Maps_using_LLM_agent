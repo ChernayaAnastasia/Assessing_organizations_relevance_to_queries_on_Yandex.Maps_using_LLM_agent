{
 "cells": [
  {
   "cell_type": "markdown",
   "id": "a260aa21-c890-401e-938b-5fc01fa88583",
   "metadata": {},
   "source": [
    "# notebook run_agent_pipeline.ipynb"
   ]
  },
  {
   "cell_type": "code",
   "execution_count": null,
   "id": "f14b0c75-37ce-410f-883a-9b1d4805b968",
   "metadata": {
    "tags": []
   },
   "outputs": [],
   "source": [
    "!pip install -q -r ../../requirements.txt"
   ]
  },
  {
   "cell_type": "code",
   "execution_count": 6,
   "id": "53e649ad-c1f6-44ba-862b-e463b62f8e6f",
   "metadata": {},
   "outputs": [
    {
     "ename": "ModuleNotFoundError",
     "evalue": "No module named 'utils.data_loader'",
     "output_type": "error",
     "traceback": [
      "\u001b[1;31m---------------------------------------------------------------------------\u001b[0m",
      "\u001b[1;31mModuleNotFoundError\u001b[0m                       Traceback (most recent call last)",
      "Cell \u001b[1;32mIn[6], line 4\u001b[0m\n\u001b[0;32m      2\u001b[0m \u001b[38;5;28;01mimport\u001b[39;00m \u001b[38;5;21;01msys\u001b[39;00m\n\u001b[0;32m      3\u001b[0m \u001b[38;5;28;01mfrom\u001b[39;00m \u001b[38;5;21;01mdotenv\u001b[39;00m \u001b[38;5;28;01mimport\u001b[39;00m load_dotenv\n\u001b[1;32m----> 4\u001b[0m \u001b[38;5;28;01mfrom\u001b[39;00m \u001b[38;5;21;01mutils\u001b[39;00m\u001b[38;5;21;01m.\u001b[39;00m\u001b[38;5;21;01mdata_loader\u001b[39;00m \u001b[38;5;28;01mimport\u001b[39;00m load_dataset\n\u001b[0;32m      5\u001b[0m \u001b[38;5;28;01mfrom\u001b[39;00m \u001b[38;5;21;01mutils\u001b[39;00m\u001b[38;5;21;01m.\u001b[39;00m\u001b[38;5;21;01mconfig\u001b[39;00m \u001b[38;5;28;01mimport\u001b[39;00m BASE_DIR, DATA_PATH, AGENT_RESULTS_DIR, ENV_PATH\n\u001b[0;32m      6\u001b[0m \u001b[38;5;28;01mfrom\u001b[39;00m \u001b[38;5;21;01magent\u001b[39;00m\u001b[38;5;21;01m.\u001b[39;00m\u001b[38;5;21;01meval_agent\u001b[39;00m \u001b[38;5;28;01mimport\u001b[39;00m RelevanceAgentEvaluator\n",
      "\u001b[1;31mModuleNotFoundError\u001b[0m: No module named 'utils.data_loader'"
     ]
    }
   ],
   "source": [
    "import os\n",
    "import sys\n",
    "from dotenv import load_dotenv\n",
    "from utils.data_loader import load_dataset\n",
    "from utils.config import BASE_DIR, DATA_PATH, AGENT_RESULTS_DIR, ENV_PATH\n",
    "from agent.eval_agent import RelevanceAgentEvaluator\n",
    "\n",
    "# Текущий каталог\n",
    "try:\n",
    "    CURRENT_DIR = os.path.dirname(os.path.abspath(\"__file__\"))\n",
    "except NameError:\n",
    "    CURRENT_DIR = os.getcwd()\n",
    "\n",
    "BASE_DIR = os.path.abspath(os.path.join(CURRENT_DIR, \"..\", \"..\"))\n",
    "if BASE_DIR not in sys.path:\n",
    "    sys.path.insert(0, BASE_DIR)\n",
    "    \n",
    "# Загрузка переменных окружения\n",
    "load_dotenv(ENV_PATH)\n",
    "\n",
    "# --- 3. Загрузка данных ---\n",
    "if not os.path.exists(DATA_PATH):\n",
    "    raise FileNotFoundError(f\"Файл с данными не найден: {DATA_PATH}\")\n",
    "\n",
    "train_data, val_data, test_data = load_dataset(DATA_PATH, drop_uncertain=True, val_frac=0.01)\n",
    "print(f\"Данные загружены. Train: {len(train_data)}, Val: {len(val_data)}, Test: {len(test_data)}\")\n",
    "\n",
    "agent_evaluator = RelevanceAgentEvaluator(use_cache=True, prompt_version=\"v1\")\n",
    "\n",
    "print(f\"Запуск на валидации, версия промта: {promt_version}...\")\n",
    "val_preds, val_acc = agent_evaluator.run_full_evaluation(val_data.sample(5), batch_size=1)\n",
    "print(f\"Validation accuracy: {val_acc:.4f}\")\n",
    "\n",
    "print(f\"Запуск на тесте, версия промта: {promt_version}...\")\n",
    "test_preds, test_acc = agent_evaluator.run_full_evaluation(test_data.sample(5), batch_size=1)\n",
    "print(f\"Test accuracy: {test_acc:.4f}\")\n",
    "\n",
    "# --- 7. Сохранение результатов ---\n",
    "os.makedirs(AGENT_RESULTS_DIR, exist_ok=True)\n",
    "val_preds.to_csv(os.path.join(AGENT_RESULTS_DIR, \"agent_val_predictions.csv\"), index=False)\n",
    "test_preds.to_csv(os.path.join(AGENT_RESULTS_DIR, \"agent_test_predictions.csv\"), index=False)\n",
    "print(f\"Результаты сохранены в {AGENT_RESULTS_DIR}\")  "
   ]
  },
  {
   "cell_type": "code",
   "execution_count": null,
   "id": "1268132b-055a-4f01-a4d8-7f02c4b799e3",
   "metadata": {},
   "outputs": [],
   "source": [
    "# --- 5. Оценка на валидации ---\n",
    "print(\"Запуск на валидации...\")\n",
    "val_preds, val_acc = agent_evaluator.run_full_evaluation(val_data, batch_size=5)\n",
    "print(f\"Validation accuracy: {val_acc:.4f}\")\n",
    "\n",
    "# --- 6. Оценка на тесте ---\n",
    "print(\"Запуск на тесте...\")\n",
    "test_preds, test_acc = agent_evaluator.run_full_evaluation(test_data, batch_size=5)\n",
    "print(f\"Test accuracy: {test_acc:.4f}\")"
   ]
  },
  {
   "cell_type": "code",
   "execution_count": null,
   "id": "f6e3b6fc-d817-4667-97a6-27c00f1f6988",
   "metadata": {},
   "outputs": [],
   "source": [
    "# --- 1. Импорт ---\n",
    "import os\n",
    "import sys\n",
    "from dotenv import load_dotenv\n",
    "from utils.data_loader import load_dataset\n",
    "from utils.config import BASE_DIR, DATA_PATH, AGENT_RESULTS_DIR, ENV_PATH\n",
    "from agent.eval_agent import RelevanceAgentEvaluator\n",
    "\n",
    "# --- 2. Настройка путей ---\n",
    "try:\n",
    "    CURRENT_DIR = os.path.dirname(os.path.abspath(__file__))\n",
    "except NameError:\n",
    "    CURRENT_DIR = os.getcwd()\n",
    "    \n",
    "BASE_DIR = os.path.abspath(os.path.join(CURRENT_DIR, \"..\"))\n",
    "if BASE_DIR not in sys.path:\n",
    "    sys.path.insert(0, BASE_DIR)\n",
    "load_dotenv(ENV_PATH)\n",
    "\n",
    "# --- 3. Загрузка данных ---\n",
    "train_data, val_data, test_data = load_dataset(DATA_PATH, drop_uncertain=True, val_frac=0.01)\n",
    "print(f\"Train: {len(train_data)}, Val: {len(val_data)}, Test: {len(test_data)}\")\n",
    "\n",
    "# --- 4. Запуск агента ---\n",
    "agent_evaluator = RelevanceAgentEvaluator(use_cache=True, prompt_version=\"v1\")\n",
    "\n",
    "print(\"Запуск на валидации...\")\n",
    "val_preds, val_acc = agent_evaluator.run_full_evaluation(val_data, batch_size=5)\n",
    "\n",
    "print(\"Запуск на тесте...\")\n",
    "test_preds, test_acc = agent_evaluator.run_full_evaluation(test_data, batch_size=5)\n",
    "\n",
    "# --- 5. Сохранение результатов ---\n",
    "os.makedirs(AGENT_RESULTS_DIR, exist_ok=True)\n",
    "val_preds.to_csv(os.path.join(AGENT_RESULTS_DIR, \"agent_val_predictions.csv\"), index=False)\n",
    "test_preds.to_csv(os.path.join(AGENT_RESULTS_DIR, \"agent_test_predictions.csv\"), index=False)\n",
    "print(f\"Результаты сохранены в {AGENT_RESULTS_DIR}\")"
   ]
  }
 ],
 "metadata": {
  "kernelspec": {
   "display_name": "Python 3 (ipykernel)",
   "language": "python",
   "name": "python3"
  },
  "language_info": {
   "codemirror_mode": {
    "name": "ipython",
    "version": 3
   },
   "file_extension": ".py",
   "mimetype": "text/x-python",
   "name": "python",
   "nbconvert_exporter": "python",
   "pygments_lexer": "ipython3",
   "version": "3.11.5"
  }
 },
 "nbformat": 4,
 "nbformat_minor": 5
}
