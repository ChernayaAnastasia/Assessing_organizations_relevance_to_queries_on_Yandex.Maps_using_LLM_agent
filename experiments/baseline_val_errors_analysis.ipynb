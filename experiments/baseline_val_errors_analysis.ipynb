{
 "cells": [
  {
   "cell_type": "markdown",
   "id": "1194db28-825e-4a6d-8474-0a1fb1241f63",
   "metadata": {},
   "source": [
    "# Анализ ошибок бейзлайна"
   ]
  },
  {
   "cell_type": "code",
   "execution_count": 1,
   "id": "16ea1a0b-0cf1-455a-8b42-38cdb6e3cec2",
   "metadata": {},
   "outputs": [],
   "source": [
    "import pandas as pd\n",
    "import sys\n",
    "import os\n",
    "\n",
    "# Добавляем путь к проекту, чтобы можно было импортировать из utils\n",
    "try:\n",
    "    CURRENT_DIR = os.path.dirname(os.path.abspath(__file__))\n",
    "except NameError:\n",
    "    CURRENT_DIR = os.getcwd()\n",
    "    \n",
    "BASE_DIR = os.path.abspath(os.path.join(CURRENT_DIR, \"..\"))\n",
    "if BASE_DIR not in sys.path:\n",
    "    sys.path.insert(0, BASE_DIR)\n",
    "from utils.config import DATA_PATH,EXPERIMENTS_DIR\n",
    "from utils.inspector import inspect_row\n",
    "from utils.data_loader import load_dataset\n",
    "from utils.unify_columns import unify_df"
   ]
  },
  {
   "cell_type": "code",
   "execution_count": 2,
   "id": "3aafea44-bb39-4790-ae0f-94194fb2ddb5",
   "metadata": {
    "tags": []
   },
   "outputs": [
    {
     "data": {
      "text/plain": [
       "(598, 9)"
      ]
     },
     "execution_count": 2,
     "metadata": {},
     "output_type": "execute_result"
    }
   ],
   "source": [
    "df = pd.read_csv(os.path.join(EXPERIMENTS_DIR, \"baseline_val_predictions_old.csv\"))\n",
    "df = unify_df(df)\n",
    "df.shape"
   ]
  },
  {
   "cell_type": "code",
   "execution_count": 3,
   "id": "97749ef8-9640-4edb-bbeb-a5de51b8628c",
   "metadata": {
    "scrolled": true
   },
   "outputs": [
    {
     "data": {
      "text/html": [
       "<div>\n",
       "<style scoped>\n",
       "    .dataframe tbody tr th:only-of-type {\n",
       "        vertical-align: middle;\n",
       "    }\n",
       "\n",
       "    .dataframe tbody tr th {\n",
       "        vertical-align: top;\n",
       "    }\n",
       "\n",
       "    .dataframe thead th {\n",
       "        text-align: right;\n",
       "    }\n",
       "</style>\n",
       "<table border=\"1\" class=\"dataframe\">\n",
       "  <thead>\n",
       "    <tr style=\"text-align: right;\">\n",
       "      <th></th>\n",
       "      <th>text</th>\n",
       "      <th>address</th>\n",
       "      <th>name</th>\n",
       "      <th>normalized_main_rubric_name_ru</th>\n",
       "      <th>permalink</th>\n",
       "      <th>prices_summarized</th>\n",
       "      <th>relevance</th>\n",
       "      <th>reviews_summarized</th>\n",
       "      <th>pred_relevance</th>\n",
       "    </tr>\n",
       "  </thead>\n",
       "  <tbody>\n",
       "    <tr>\n",
       "      <th>0</th>\n",
       "      <td>анализ крови по какому формеру на сифилис</td>\n",
       "      <td>Санкт-Петербург, Ленинский проспект, 121</td>\n",
       "      <td>KDL</td>\n",
       "      <td>Медицинская лаборатория</td>\n",
       "      <td>200967546138</td>\n",
       "      <td>Медицинская лаборатория KDL предоставляет широ...</td>\n",
       "      <td>1.0</td>\n",
       "      <td>Организация занимается проведением анализов и ...</td>\n",
       "      <td>1.0</td>\n",
       "    </tr>\n",
       "    <tr>\n",
       "      <th>1</th>\n",
       "      <td>стретчинг в москве</td>\n",
       "      <td>Москва, Кастанаевская улица, 39</td>\n",
       "      <td>Elasti_city; Elasti city</td>\n",
       "      <td>Фитнес-клуб</td>\n",
       "      <td>147723830462</td>\n",
       "      <td>Фитнес-клуб и студия йоги, предлагающие пробны...</td>\n",
       "      <td>0.0</td>\n",
       "      <td>Организация занимается предоставлением услуг ф...</td>\n",
       "      <td>1.0</td>\n",
       "    </tr>\n",
       "    <tr>\n",
       "      <th>2</th>\n",
       "      <td>стейк ресторан на белорусской</td>\n",
       "      <td>Москва, 2-й Тверской-Ямской переулок, 10</td>\n",
       "      <td>Доктор на крыше; Doktor na kryshe; Доктор; Dok...</td>\n",
       "      <td>Ресторан</td>\n",
       "      <td>1081999210</td>\n",
       "      <td>Ресторан «Доктор на крыше» предлагает разнообр...</td>\n",
       "      <td>0.0</td>\n",
       "      <td>Организация «Доктор на крыше» предлагает услуг...</td>\n",
       "      <td>0.0</td>\n",
       "    </tr>\n",
       "    <tr>\n",
       "      <th>3</th>\n",
       "      <td>дежурная стоматология севастополь</td>\n",
       "      <td>Севастополь, Античный проспект, 8В</td>\n",
       "      <td>Атмосфера; Atmosfera; Стоматология Атмосфера; ...</td>\n",
       "      <td>Стоматологическая клиника</td>\n",
       "      <td>82384383021</td>\n",
       "      <td>Стоматологическая клиника «Атмосфера» предоста...</td>\n",
       "      <td>0.0</td>\n",
       "      <td>Организация занимается стоматологическими услу...</td>\n",
       "      <td>1.0</td>\n",
       "    </tr>\n",
       "    <tr>\n",
       "      <th>4</th>\n",
       "      <td>суши</td>\n",
       "      <td>Московская область, городской округ Пушкинский...</td>\n",
       "      <td>Subway</td>\n",
       "      <td>Быстрое питание</td>\n",
       "      <td>240244902340</td>\n",
       "      <td>Subway предлагает широкий ассортимент сэндвиче...</td>\n",
       "      <td>0.0</td>\n",
       "      <td>Организация занимается быстрым питанием, предо...</td>\n",
       "      <td>0.0</td>\n",
       "    </tr>\n",
       "  </tbody>\n",
       "</table>\n",
       "</div>"
      ],
      "text/plain": [
       "                                        text  \\\n",
       "0  анализ крови по какому формеру на сифилис   \n",
       "1                         стретчинг в москве   \n",
       "2              стейк ресторан на белорусской   \n",
       "3          дежурная стоматология севастополь   \n",
       "4                                       суши   \n",
       "\n",
       "                                             address  \\\n",
       "0           Санкт-Петербург, Ленинский проспект, 121   \n",
       "1                    Москва, Кастанаевская улица, 39   \n",
       "2           Москва, 2-й Тверской-Ямской переулок, 10   \n",
       "3                 Севастополь, Античный проспект, 8В   \n",
       "4  Московская область, городской округ Пушкинский...   \n",
       "\n",
       "                                                name  \\\n",
       "0                                                KDL   \n",
       "1                           Elasti_city; Elasti city   \n",
       "2  Доктор на крыше; Doktor na kryshe; Доктор; Dok...   \n",
       "3  Атмосфера; Atmosfera; Стоматология Атмосфера; ...   \n",
       "4                                             Subway   \n",
       "\n",
       "  normalized_main_rubric_name_ru     permalink  \\\n",
       "0        Медицинская лаборатория  200967546138   \n",
       "1                    Фитнес-клуб  147723830462   \n",
       "2                       Ресторан    1081999210   \n",
       "3      Стоматологическая клиника   82384383021   \n",
       "4                Быстрое питание  240244902340   \n",
       "\n",
       "                                   prices_summarized  relevance  \\\n",
       "0  Медицинская лаборатория KDL предоставляет широ...        1.0   \n",
       "1  Фитнес-клуб и студия йоги, предлагающие пробны...        0.0   \n",
       "2  Ресторан «Доктор на крыше» предлагает разнообр...        0.0   \n",
       "3  Стоматологическая клиника «Атмосфера» предоста...        0.0   \n",
       "4  Subway предлагает широкий ассортимент сэндвиче...        0.0   \n",
       "\n",
       "                                  reviews_summarized  pred_relevance  \n",
       "0  Организация занимается проведением анализов и ...             1.0  \n",
       "1  Организация занимается предоставлением услуг ф...             1.0  \n",
       "2  Организация «Доктор на крыше» предлагает услуг...             0.0  \n",
       "3  Организация занимается стоматологическими услу...             1.0  \n",
       "4  Организация занимается быстрым питанием, предо...             0.0  "
      ]
     },
     "execution_count": 3,
     "metadata": {},
     "output_type": "execute_result"
    }
   ],
   "source": [
    "df.head(5)"
   ]
  },
  {
   "cell_type": "code",
   "execution_count": 4,
   "id": "aed9fbd8-7317-4a06-8455-74787e5e4082",
   "metadata": {
    "tags": []
   },
   "outputs": [],
   "source": [
    "train_data, val_data, test_data = load_dataset(DATA_PATH, drop_uncertain=True, val_frac=0.01)"
   ]
  },
  {
   "cell_type": "code",
   "execution_count": 5,
   "id": "e91e1907-e8a2-4756-85a1-950f29db34d7",
   "metadata": {
    "tags": []
   },
   "outputs": [
    {
     "data": {
      "text/plain": [
       "relevance\n",
       "1.0    335\n",
       "0.0    263\n",
       "Name: count, dtype: int64"
      ]
     },
     "execution_count": 5,
     "metadata": {},
     "output_type": "execute_result"
    }
   ],
   "source": [
    "df.relevance.value_counts()"
   ]
  },
  {
   "cell_type": "code",
   "execution_count": 6,
   "id": "9e0152bd-b03a-4232-8d0d-65d1f42ee207",
   "metadata": {
    "tags": []
   },
   "outputs": [
    {
     "data": {
      "text/plain": [
       "pred_relevance\n",
       "1.0    385\n",
       "0.0    213\n",
       "Name: count, dtype: int64"
      ]
     },
     "execution_count": 6,
     "metadata": {},
     "output_type": "execute_result"
    }
   ],
   "source": [
    "df.pred_relevance.value_counts()"
   ]
  },
  {
   "cell_type": "code",
   "execution_count": 7,
   "id": "e6e8e1f1-e288-4f3e-84f4-35a10e685619",
   "metadata": {
    "tags": []
   },
   "outputs": [
    {
     "name": "stdout",
     "output_type": "stream",
     "text": [
      "Accuracy: 0.6488\n",
      "False Positives: 130\n",
      "False Negatives: 80\n"
     ]
    }
   ],
   "source": [
    "acc = (df[\"relevance\"] == df[\"pred_relevance\"]).mean()\n",
    "print(\"Accuracy:\", round(acc, 4))\n",
    "\n",
    "# 4. Анализ ошибок\n",
    "false_positives = df[(df[\"relevance\"] == 0.0) & (df[\"pred_relevance\"] == 1.0)]\n",
    "false_negatives = df[(df[\"relevance\"] == 1.0) & (df[\"pred_relevance\"] == 0.0)]\n",
    "\n",
    "# 5. Сохранение для ручного анализа\n",
    "false_positives.to_csv(\"false_positives.csv\", index=False)\n",
    "false_negatives.to_csv(\"false_negatives.csv\", index=False)\n",
    "\n",
    "print(f\"False Positives: {len(false_positives)}\")\n",
    "print(f\"False Negatives: {len(false_negatives)}\")"
   ]
  },
  {
   "cell_type": "markdown",
   "id": "d2310e39-41b7-45fc-9596-0d7e916d37d0",
   "metadata": {},
   "source": [
    "Модель склонна переоценивать релевантность — она часто предсказывает RELEVANT_PLUS, даже когда это не так. (130 FP — много ложных позитивов.)"
   ]
  },
  {
   "cell_type": "code",
   "execution_count": 6,
   "id": "f28854c4-f696-4870-95b2-d22358549868",
   "metadata": {
    "tags": []
   },
   "outputs": [],
   "source": [
    "# Создаем метки ошибок\n",
    "df['error_type'] = 'correct'\n",
    "df.loc[(df['relevance'] == 0.0) & (df['gpt_response'] == 'RELEVANT_PLUS'), 'error_type'] = 'false_positive'\n",
    "df.loc[(df['relevance'] == 1.0) & (df['gpt_response'] == 'IRRELEVANT'), 'error_type'] = 'false_negative'\n",
    "\n",
    "df[df['error_type'] == 'false_positive']\n",
    "df[df['error_type'] == 'false_negative']\n",
    "\n",
    "false_pos_df = df[df['error_type'] == 'false_positive']\n",
    "false_neg_df = df[df['error_type'] == 'false_negative']\n",
    "\n",
    "# Сохраняем отдельные ошибки\n",
    "false_pos_df.to_csv(\"baseline_false_positives.csv\", index=False)\n",
    "false_neg_df.to_csv(\"baseline_false_negatives.csv\", index=False)"
   ]
  },
  {
   "cell_type": "code",
   "execution_count": 8,
   "id": "8b6f5495-5933-4daa-b0e7-d5e7190bceac",
   "metadata": {
    "tags": []
   },
   "outputs": [
    {
     "data": {
      "text/plain": [
       "Кафе                                   9\n",
       "Гостиница                              6\n",
       "Медцентр , клиника                     6\n",
       "Ресторан                               6\n",
       "Автосалон                              5\n",
       "Салон красоты                          3\n",
       "Быстрое питание                        3\n",
       "Столовая                               3\n",
       "Магазин автозапчастей и автотоваров    3\n",
       "Детский сад , ясли                     3\n",
       "Name: normalized_main_rubric_name_ru, dtype: int64"
      ]
     },
     "execution_count": 8,
     "metadata": {},
     "output_type": "execute_result"
    }
   ],
   "source": [
    "false_pos_df['normalized_main_rubric_name_ru'].value_counts().head(10)"
   ]
  },
  {
   "cell_type": "code",
   "execution_count": 9,
   "id": "12120d36-4e69-4d9a-8953-75d241e7f471",
   "metadata": {
    "tags": []
   },
   "outputs": [
    {
     "data": {
      "text/html": [
       "<div>\n",
       "<style scoped>\n",
       "    .dataframe tbody tr th:only-of-type {\n",
       "        vertical-align: middle;\n",
       "    }\n",
       "\n",
       "    .dataframe tbody tr th {\n",
       "        vertical-align: top;\n",
       "    }\n",
       "\n",
       "    .dataframe thead th {\n",
       "        text-align: right;\n",
       "    }\n",
       "</style>\n",
       "<table border=\"1\" class=\"dataframe\">\n",
       "  <thead>\n",
       "    <tr style=\"text-align: right;\">\n",
       "      <th></th>\n",
       "      <th>text_length</th>\n",
       "      <th>reviews_length</th>\n",
       "    </tr>\n",
       "  </thead>\n",
       "  <tbody>\n",
       "    <tr>\n",
       "      <th>count</th>\n",
       "      <td>130.000000</td>\n",
       "      <td>125.00000</td>\n",
       "    </tr>\n",
       "    <tr>\n",
       "      <th>mean</th>\n",
       "      <td>27.076923</td>\n",
       "      <td>1615.92800</td>\n",
       "    </tr>\n",
       "    <tr>\n",
       "      <th>std</th>\n",
       "      <td>15.217093</td>\n",
       "      <td>555.41538</td>\n",
       "    </tr>\n",
       "    <tr>\n",
       "      <th>min</th>\n",
       "      <td>3.000000</td>\n",
       "      <td>167.00000</td>\n",
       "    </tr>\n",
       "    <tr>\n",
       "      <th>25%</th>\n",
       "      <td>16.000000</td>\n",
       "      <td>1290.00000</td>\n",
       "    </tr>\n",
       "    <tr>\n",
       "      <th>50%</th>\n",
       "      <td>25.000000</td>\n",
       "      <td>1715.00000</td>\n",
       "    </tr>\n",
       "    <tr>\n",
       "      <th>75%</th>\n",
       "      <td>34.000000</td>\n",
       "      <td>1981.00000</td>\n",
       "    </tr>\n",
       "    <tr>\n",
       "      <th>max</th>\n",
       "      <td>100.000000</td>\n",
       "      <td>2864.00000</td>\n",
       "    </tr>\n",
       "  </tbody>\n",
       "</table>\n",
       "</div>"
      ],
      "text/plain": [
       "       text_length  reviews_length\n",
       "count   130.000000       125.00000\n",
       "mean     27.076923      1615.92800\n",
       "std      15.217093       555.41538\n",
       "min       3.000000       167.00000\n",
       "25%      16.000000      1290.00000\n",
       "50%      25.000000      1715.00000\n",
       "75%      34.000000      1981.00000\n",
       "max     100.000000      2864.00000"
      ]
     },
     "execution_count": 9,
     "metadata": {},
     "output_type": "execute_result"
    }
   ],
   "source": [
    "false_pos_df = false_pos_df.copy()     \n",
    "false_pos_df['text_length'] = false_pos_df['text'].str.len()\n",
    "false_pos_df['reviews_length'] = false_pos_df['reviews_summarized'].str.len()\n",
    "false_pos_df[['text_length', 'reviews_length']].describe()"
   ]
  },
  {
   "cell_type": "code",
   "execution_count": 174,
   "id": "42a327fe-85d2-45f5-b2c8-3d354ac3c5f2",
   "metadata": {
    "tags": []
   },
   "outputs": [
    {
     "data": {
      "text/html": [
       "<div>\n",
       "<style scoped>\n",
       "    .dataframe tbody tr th:only-of-type {\n",
       "        vertical-align: middle;\n",
       "    }\n",
       "\n",
       "    .dataframe tbody tr th {\n",
       "        vertical-align: top;\n",
       "    }\n",
       "\n",
       "    .dataframe thead th {\n",
       "        text-align: right;\n",
       "    }\n",
       "</style>\n",
       "<table border=\"1\" class=\"dataframe\">\n",
       "  <thead>\n",
       "    <tr style=\"text-align: right;\">\n",
       "      <th></th>\n",
       "      <th>text</th>\n",
       "      <th>address</th>\n",
       "      <th>name</th>\n",
       "      <th>normalized_main_rubric_name_ru</th>\n",
       "      <th>permalink</th>\n",
       "      <th>prices_summarized</th>\n",
       "      <th>relevance</th>\n",
       "      <th>reviews_summarized</th>\n",
       "      <th>gpt_response</th>\n",
       "      <th>gpt_pred_relevance</th>\n",
       "      <th>error_type</th>\n",
       "      <th>text_length</th>\n",
       "      <th>reviews_length</th>\n",
       "    </tr>\n",
       "  </thead>\n",
       "  <tbody>\n",
       "    <tr>\n",
       "      <th>477</th>\n",
       "      <td>фгос дошкольники</td>\n",
       "      <td>Москва, Трифоновская улица, 51А, стр. 2</td>\n",
       "      <td>Детский сад РЖД № 5; РЖД детский сад № 5; Детс...</td>\n",
       "      <td>Детский сад , ясли</td>\n",
       "      <td>29451943660</td>\n",
       "      <td>NaN</td>\n",
       "      <td>0.0</td>\n",
       "      <td>Детский сад РЖД № 5 хвалят за профессионализм ...</td>\n",
       "      <td>RELEVANT_PLUS</td>\n",
       "      <td>1.0</td>\n",
       "      <td>false_positive</td>\n",
       "      <td>16</td>\n",
       "      <td>2524.0</td>\n",
       "    </tr>\n",
       "    <tr>\n",
       "      <th>478</th>\n",
       "      <td>клубные рестораны в спб</td>\n",
       "      <td>Санкт-Петербург, проспект Энгельса, 124, корп. 1</td>\n",
       "      <td>Хаус; Haus bar; Hausbar; Караоке бар Хаус; Рес...</td>\n",
       "      <td>Караоке-клуб</td>\n",
       "      <td>1190255856</td>\n",
       "      <td>Хаус предлагает широкий выбор блюд, коктейлей ...</td>\n",
       "      <td>0.0</td>\n",
       "      <td>Организация «Хаус» — это караоке-клуб, ночной ...</td>\n",
       "      <td>RELEVANT_PLUS</td>\n",
       "      <td>1.0</td>\n",
       "      <td>false_positive</td>\n",
       "      <td>23</td>\n",
       "      <td>1092.0</td>\n",
       "    </tr>\n",
       "    <tr>\n",
       "      <th>480</th>\n",
       "      <td>печать наклеек</td>\n",
       "      <td>Ростовская область, Батайск, улица Кирова, 9Б</td>\n",
       "      <td>Панорама; Panorama</td>\n",
       "      <td>Фотоуслуги</td>\n",
       "      <td>242567051243</td>\n",
       "      <td>Организация «Панорама» предоставляет фотоуслуг...</td>\n",
       "      <td>0.0</td>\n",
       "      <td>Организация предоставляет фотоуслуги, широкофо...</td>\n",
       "      <td>RELEVANT_PLUS</td>\n",
       "      <td>1.0</td>\n",
       "      <td>false_positive</td>\n",
       "      <td>14</td>\n",
       "      <td>1727.0</td>\n",
       "    </tr>\n",
       "    <tr>\n",
       "      <th>481</th>\n",
       "      <td>пицца в сургуте</td>\n",
       "      <td>Ханты-Мансийский автономный округ — Югра, Сург...</td>\n",
       "      <td>Точка вкуса; Tochka-vkusa; Точка Вкуса</td>\n",
       "      <td>Доставка еды и обедов</td>\n",
       "      <td>20536000056</td>\n",
       "      <td>«Точка вкуса» предлагает широкий ассортимент с...</td>\n",
       "      <td>0.0</td>\n",
       "      <td>Организация занимается доставкой еды и обедов,...</td>\n",
       "      <td>RELEVANT_PLUS</td>\n",
       "      <td>1.0</td>\n",
       "      <td>false_positive</td>\n",
       "      <td>15</td>\n",
       "      <td>1733.0</td>\n",
       "    </tr>\n",
       "    <tr>\n",
       "      <th>484</th>\n",
       "      <td>френдс суши самара</td>\n",
       "      <td>Самара, Молодогвардейская улица, 135</td>\n",
       "      <td>Фуджи; Fuji; Friend Фуджи Суши; Friends Фуджи ...</td>\n",
       "      <td>Суши-бар</td>\n",
       "      <td>1327093655</td>\n",
       "      <td>Суши-бар и пиццерия «Фуджи» предлагает широкий...</td>\n",
       "      <td>0.0</td>\n",
       "      <td>Организация занимается приготовлением и достав...</td>\n",
       "      <td>RELEVANT_PLUS</td>\n",
       "      <td>1.0</td>\n",
       "      <td>false_positive</td>\n",
       "      <td>18</td>\n",
       "      <td>1769.0</td>\n",
       "    </tr>\n",
       "    <tr>\n",
       "      <th>488</th>\n",
       "      <td>наращивание ресниц</td>\n",
       "      <td>Москва, проспект 60-летия Октября, 16к1</td>\n",
       "      <td>Мэйд Ю Нэйлс; Made Your Nails; MadeY; Мэйд Ю</td>\n",
       "      <td>Ногтевая студия</td>\n",
       "      <td>20834960525</td>\n",
       "      <td>Салон красоты «Мэйд Ю Нэйлс» предоставляет усл...</td>\n",
       "      <td>0.0</td>\n",
       "      <td>Организация занимается ногтевым сервисом и про...</td>\n",
       "      <td>RELEVANT_PLUS</td>\n",
       "      <td>1.0</td>\n",
       "      <td>false_positive</td>\n",
       "      <td>18</td>\n",
       "      <td>1749.0</td>\n",
       "    </tr>\n",
       "    <tr>\n",
       "      <th>491</th>\n",
       "      <td>фарментин 400</td>\n",
       "      <td>Смоленская область, Сафоново, улица Ленина, 39</td>\n",
       "      <td>Максавит; Maksavit; Аптека Максавит</td>\n",
       "      <td>Аптека</td>\n",
       "      <td>14020585155</td>\n",
       "      <td>Аптека «Максавит» предлагает широкий ассортиме...</td>\n",
       "      <td>0.0</td>\n",
       "      <td>Организация занимается продажей лекарственных ...</td>\n",
       "      <td>RELEVANT_PLUS</td>\n",
       "      <td>1.0</td>\n",
       "      <td>false_positive</td>\n",
       "      <td>13</td>\n",
       "      <td>1477.0</td>\n",
       "    </tr>\n",
       "    <tr>\n",
       "      <th>493</th>\n",
       "      <td>суши бар рязань</td>\n",
       "      <td>Рязань, Татарская улица, 95</td>\n",
       "      <td>Автосуши Автопицца; Avtosushi Avtopizza; Автоп...</td>\n",
       "      <td>Суши-бар</td>\n",
       "      <td>171672052301</td>\n",
       "      <td>Автосуши Автопицца предлагает широкий выбор пи...</td>\n",
       "      <td>0.0</td>\n",
       "      <td>Организация занимается приготовлением и достав...</td>\n",
       "      <td>RELEVANT_PLUS</td>\n",
       "      <td>1.0</td>\n",
       "      <td>false_positive</td>\n",
       "      <td>15</td>\n",
       "      <td>1211.0</td>\n",
       "    </tr>\n",
       "    <tr>\n",
       "      <th>504</th>\n",
       "      <td>Аутлет внуково</td>\n",
       "      <td>Москва, Новомосковский административный округ,...</td>\n",
       "      <td>Högl Outlet</td>\n",
       "      <td>Магазин обуви</td>\n",
       "      <td>61183237818</td>\n",
       "      <td>NaN</td>\n",
       "      <td>0.0</td>\n",
       "      <td>NaN</td>\n",
       "      <td>RELEVANT_PLUS</td>\n",
       "      <td>1.0</td>\n",
       "      <td>false_positive</td>\n",
       "      <td>14</td>\n",
       "      <td>NaN</td>\n",
       "    </tr>\n",
       "    <tr>\n",
       "      <th>519</th>\n",
       "      <td>ожоговая больница москва</td>\n",
       "      <td>Москва, Фортунатовская улица, 1, корп. 10</td>\n",
       "      <td>Департамент Здравоохранения, ГКБ им. Ф. И. Ино...</td>\n",
       "      <td>Больница для взрослых</td>\n",
       "      <td>44259489914</td>\n",
       "      <td>NaN</td>\n",
       "      <td>0.0</td>\n",
       "      <td>Организация занимается оказанием медицинской п...</td>\n",
       "      <td>RELEVANT_PLUS</td>\n",
       "      <td>1.0</td>\n",
       "      <td>false_positive</td>\n",
       "      <td>24</td>\n",
       "      <td>1559.0</td>\n",
       "    </tr>\n",
       "    <tr>\n",
       "      <th>520</th>\n",
       "      <td>Нотариус 20:00</td>\n",
       "      <td>Москва, Краснодонская улица, 39</td>\n",
       "      <td>Нотариус Васильева Л. В.; Notarius Vasilyeva L...</td>\n",
       "      <td>Нотариусы</td>\n",
       "      <td>1116426080</td>\n",
       "      <td>NaN</td>\n",
       "      <td>0.0</td>\n",
       "      <td>Организация занимается нотариальными услугами....</td>\n",
       "      <td>RELEVANT_PLUS</td>\n",
       "      <td>1.0</td>\n",
       "      <td>false_positive</td>\n",
       "      <td>14</td>\n",
       "      <td>2197.0</td>\n",
       "    </tr>\n",
       "    <tr>\n",
       "      <th>528</th>\n",
       "      <td>3 д панорама крым</td>\n",
       "      <td>Республика Крым, городской округ Судак, село П...</td>\n",
       "      <td>Панорама; Panorama</td>\n",
       "      <td>Гостиница</td>\n",
       "      <td>175727786459</td>\n",
       "      <td>NaN</td>\n",
       "      <td>0.0</td>\n",
       "      <td>Гостевой дом «Панорама» предлагает уютные доми...</td>\n",
       "      <td>RELEVANT_PLUS</td>\n",
       "      <td>1.0</td>\n",
       "      <td>false_positive</td>\n",
       "      <td>17</td>\n",
       "      <td>1762.0</td>\n",
       "    </tr>\n",
       "    <tr>\n",
       "      <th>529</th>\n",
       "      <td>парк отель</td>\n",
       "      <td>Самара, Московское шоссе, 19-й километр, 8А</td>\n",
       "      <td>Отель19; Hotel 19; Отель 19; Гостиница Hotel 19</td>\n",
       "      <td>Гостиница</td>\n",
       "      <td>1760511775</td>\n",
       "      <td>Предоставляет услуги по размещению гостей, вкл...</td>\n",
       "      <td>0.0</td>\n",
       "      <td>Отель19 — гостиница в Самаре с хорошими услови...</td>\n",
       "      <td>RELEVANT_PLUS</td>\n",
       "      <td>1.0</td>\n",
       "      <td>false_positive</td>\n",
       "      <td>10</td>\n",
       "      <td>2049.0</td>\n",
       "    </tr>\n",
       "    <tr>\n",
       "      <th>534</th>\n",
       "      <td>пластиковые окна калуга</td>\n",
       "      <td>Калуга, улица Ленина, 43</td>\n",
       "      <td>ТЗСК; Tulsky zavod svetoprozrachnykh konstrukt...</td>\n",
       "      <td>Окна</td>\n",
       "      <td>136798024705</td>\n",
       "      <td>NaN</td>\n",
       "      <td>0.0</td>\n",
       "      <td>Организация занимается изготовлением и установ...</td>\n",
       "      <td>RELEVANT_PLUS</td>\n",
       "      <td>1.0</td>\n",
       "      <td>false_positive</td>\n",
       "      <td>23</td>\n",
       "      <td>2465.0</td>\n",
       "    </tr>\n",
       "    <tr>\n",
       "      <th>538</th>\n",
       "      <td>Доставка воды</td>\n",
       "      <td>Московская область, Одинцово, Белорусская улиц...</td>\n",
       "      <td>Водомат Пейте воду; Drink The Water; Пейте вод...</td>\n",
       "      <td>Водомат</td>\n",
       "      <td>156160462228</td>\n",
       "      <td>Организация предлагает питьевую воду в различн...</td>\n",
       "      <td>0.0</td>\n",
       "      <td>Организация занимается продажей питьевой воды ...</td>\n",
       "      <td>RELEVANT_PLUS</td>\n",
       "      <td>1.0</td>\n",
       "      <td>false_positive</td>\n",
       "      <td>13</td>\n",
       "      <td>1846.0</td>\n",
       "    </tr>\n",
       "    <tr>\n",
       "      <th>557</th>\n",
       "      <td>где можно рыбу половить</td>\n",
       "      <td>Санкт-Петербург, Петергоф, Бобыльская дорога, 59</td>\n",
       "      <td>Генеральский пруд</td>\n",
       "      <td>Рыбное хозяйство , рыбоводство</td>\n",
       "      <td>217198452702</td>\n",
       "      <td>NaN</td>\n",
       "      <td>0.0</td>\n",
       "      <td>Организация занимается рыбоводством и обустрой...</td>\n",
       "      <td>RELEVANT_PLUS</td>\n",
       "      <td>1.0</td>\n",
       "      <td>false_positive</td>\n",
       "      <td>23</td>\n",
       "      <td>1084.0</td>\n",
       "    </tr>\n",
       "    <tr>\n",
       "      <th>571</th>\n",
       "      <td>детский психиатр</td>\n",
       "      <td>Москва, Валовая улица, 32/75с1</td>\n",
       "      <td>Медгород; Medgorod; Медгород клиника экспертно...</td>\n",
       "      <td>Медцентр , клиника</td>\n",
       "      <td>160816170825</td>\n",
       "      <td>Медцентр «Медгород» предлагает широкий спектр ...</td>\n",
       "      <td>0.0</td>\n",
       "      <td>Организация занимается медицинскими услугами, ...</td>\n",
       "      <td>RELEVANT_PLUS</td>\n",
       "      <td>1.0</td>\n",
       "      <td>false_positive</td>\n",
       "      <td>16</td>\n",
       "      <td>2164.0</td>\n",
       "    </tr>\n",
       "    <tr>\n",
       "      <th>573</th>\n",
       "      <td>лазерная эпиляция в сочи</td>\n",
       "      <td>Краснодарский край, Сочи, микрорайон Центральн...</td>\n",
       "      <td>Посольство красоты; Ambassade of beauty; BIOLO...</td>\n",
       "      <td>Салон красоты</td>\n",
       "      <td>1848007524</td>\n",
       "      <td>Посольство красоты предлагает широкий спектр к...</td>\n",
       "      <td>0.0</td>\n",
       "      <td>Организация занимается предоставлением услуг в...</td>\n",
       "      <td>RELEVANT_PLUS</td>\n",
       "      <td>1.0</td>\n",
       "      <td>false_positive</td>\n",
       "      <td>24</td>\n",
       "      <td>2444.0</td>\n",
       "    </tr>\n",
       "    <tr>\n",
       "      <th>575</th>\n",
       "      <td>необычные рестораны москвы</td>\n",
       "      <td>Москва, Космодамианская набережная, 52, стр. 6</td>\n",
       "      <td>City Space Bar &amp; Restaurant; City Space; City ...</td>\n",
       "      <td>Ресторан</td>\n",
       "      <td>141571391125</td>\n",
       "      <td>NaN</td>\n",
       "      <td>0.0</td>\n",
       "      <td>Организация занимается ресторанным бизнесом, п...</td>\n",
       "      <td>RELEVANT_PLUS</td>\n",
       "      <td>1.0</td>\n",
       "      <td>false_positive</td>\n",
       "      <td>26</td>\n",
       "      <td>1978.0</td>\n",
       "    </tr>\n",
       "    <tr>\n",
       "      <th>584</th>\n",
       "      <td>Мастерская по ремонту часов</td>\n",
       "      <td>городской округ Воронеж, Ленинский район, площ...</td>\n",
       "      <td>Ремонт часов; Мастерская по ремонту часов</td>\n",
       "      <td>Ремонт часов</td>\n",
       "      <td>152498938720</td>\n",
       "      <td>NaN</td>\n",
       "      <td>0.0</td>\n",
       "      <td>Организация занимается ремонтом часов, включая...</td>\n",
       "      <td>RELEVANT_PLUS</td>\n",
       "      <td>1.0</td>\n",
       "      <td>false_positive</td>\n",
       "      <td>27</td>\n",
       "      <td>705.0</td>\n",
       "    </tr>\n",
       "    <tr>\n",
       "      <th>594</th>\n",
       "      <td>Жилищный адвокат</td>\n",
       "      <td>Санкт-Петербург, Владимирский проспект, 3</td>\n",
       "      <td>Адвокат Максимов М. Н.; Advokat Maksimov M. N....</td>\n",
       "      <td>Адвокаты</td>\n",
       "      <td>1754458414</td>\n",
       "      <td>Адвокат Максимов М. Н. предоставляет широкий с...</td>\n",
       "      <td>0.0</td>\n",
       "      <td>Адвокат Максимов М. Н. оказывает юридические у...</td>\n",
       "      <td>RELEVANT_PLUS</td>\n",
       "      <td>1.0</td>\n",
       "      <td>false_positive</td>\n",
       "      <td>16</td>\n",
       "      <td>1281.0</td>\n",
       "    </tr>\n",
       "  </tbody>\n",
       "</table>\n",
       "</div>"
      ],
      "text/plain": [
       "                            text  \\\n",
       "477             фгос дошкольники   \n",
       "478      клубные рестораны в спб   \n",
       "480               печать наклеек   \n",
       "481              пицца в сургуте   \n",
       "484           френдс суши самара   \n",
       "488           наращивание ресниц   \n",
       "491                фарментин 400   \n",
       "493              суши бар рязань   \n",
       "504               Аутлет внуково   \n",
       "519     ожоговая больница москва   \n",
       "520               Нотариус 20:00   \n",
       "528            3 д панорама крым   \n",
       "529                   парк отель   \n",
       "534      пластиковые окна калуга   \n",
       "538                Доставка воды   \n",
       "557      где можно рыбу половить   \n",
       "571             детский психиатр   \n",
       "573     лазерная эпиляция в сочи   \n",
       "575   необычные рестораны москвы   \n",
       "584  Мастерская по ремонту часов   \n",
       "594             Жилищный адвокат   \n",
       "\n",
       "                                               address  \\\n",
       "477            Москва, Трифоновская улица, 51А, стр. 2   \n",
       "478   Санкт-Петербург, проспект Энгельса, 124, корп. 1   \n",
       "480      Ростовская область, Батайск, улица Кирова, 9Б   \n",
       "481  Ханты-Мансийский автономный округ — Югра, Сург...   \n",
       "484               Самара, Молодогвардейская улица, 135   \n",
       "488            Москва, проспект 60-летия Октября, 16к1   \n",
       "491     Смоленская область, Сафоново, улица Ленина, 39   \n",
       "493                        Рязань, Татарская улица, 95   \n",
       "504  Москва, Новомосковский административный округ,...   \n",
       "519          Москва, Фортунатовская улица, 1, корп. 10   \n",
       "520                    Москва, Краснодонская улица, 39   \n",
       "528  Республика Крым, городской округ Судак, село П...   \n",
       "529        Самара, Московское шоссе, 19-й километр, 8А   \n",
       "534                           Калуга, улица Ленина, 43   \n",
       "538  Московская область, Одинцово, Белорусская улиц...   \n",
       "557   Санкт-Петербург, Петергоф, Бобыльская дорога, 59   \n",
       "571                     Москва, Валовая улица, 32/75с1   \n",
       "573  Краснодарский край, Сочи, микрорайон Центральн...   \n",
       "575     Москва, Космодамианская набережная, 52, стр. 6   \n",
       "584  городской округ Воронеж, Ленинский район, площ...   \n",
       "594          Санкт-Петербург, Владимирский проспект, 3   \n",
       "\n",
       "                                                  name  \\\n",
       "477  Детский сад РЖД № 5; РЖД детский сад № 5; Детс...   \n",
       "478  Хаус; Haus bar; Hausbar; Караоке бар Хаус; Рес...   \n",
       "480                                 Панорама; Panorama   \n",
       "481             Точка вкуса; Tochka-vkusa; Точка Вкуса   \n",
       "484  Фуджи; Fuji; Friend Фуджи Суши; Friends Фуджи ...   \n",
       "488       Мэйд Ю Нэйлс; Made Your Nails; MadeY; Мэйд Ю   \n",
       "491                Максавит; Maksavit; Аптека Максавит   \n",
       "493  Автосуши Автопицца; Avtosushi Avtopizza; Автоп...   \n",
       "504                                        Högl Outlet   \n",
       "519  Департамент Здравоохранения, ГКБ им. Ф. И. Ино...   \n",
       "520  Нотариус Васильева Л. В.; Notarius Vasilyeva L...   \n",
       "528                                 Панорама; Panorama   \n",
       "529    Отель19; Hotel 19; Отель 19; Гостиница Hotel 19   \n",
       "534  ТЗСК; Tulsky zavod svetoprozrachnykh konstrukt...   \n",
       "538  Водомат Пейте воду; Drink The Water; Пейте вод...   \n",
       "557                                  Генеральский пруд   \n",
       "571  Медгород; Medgorod; Медгород клиника экспертно...   \n",
       "573  Посольство красоты; Ambassade of beauty; BIOLO...   \n",
       "575  City Space Bar & Restaurant; City Space; City ...   \n",
       "584          Ремонт часов; Мастерская по ремонту часов   \n",
       "594  Адвокат Максимов М. Н.; Advokat Maksimov M. N....   \n",
       "\n",
       "     normalized_main_rubric_name_ru     permalink  \\\n",
       "477              Детский сад , ясли   29451943660   \n",
       "478                    Караоке-клуб    1190255856   \n",
       "480                      Фотоуслуги  242567051243   \n",
       "481           Доставка еды и обедов   20536000056   \n",
       "484                        Суши-бар    1327093655   \n",
       "488                 Ногтевая студия   20834960525   \n",
       "491                          Аптека   14020585155   \n",
       "493                        Суши-бар  171672052301   \n",
       "504                   Магазин обуви   61183237818   \n",
       "519           Больница для взрослых   44259489914   \n",
       "520                       Нотариусы    1116426080   \n",
       "528                       Гостиница  175727786459   \n",
       "529                       Гостиница    1760511775   \n",
       "534                            Окна  136798024705   \n",
       "538                         Водомат  156160462228   \n",
       "557  Рыбное хозяйство , рыбоводство  217198452702   \n",
       "571              Медцентр , клиника  160816170825   \n",
       "573                   Салон красоты    1848007524   \n",
       "575                        Ресторан  141571391125   \n",
       "584                    Ремонт часов  152498938720   \n",
       "594                        Адвокаты    1754458414   \n",
       "\n",
       "                                     prices_summarized  relevance  \\\n",
       "477                                                NaN        0.0   \n",
       "478  Хаус предлагает широкий выбор блюд, коктейлей ...        0.0   \n",
       "480  Организация «Панорама» предоставляет фотоуслуг...        0.0   \n",
       "481  «Точка вкуса» предлагает широкий ассортимент с...        0.0   \n",
       "484  Суши-бар и пиццерия «Фуджи» предлагает широкий...        0.0   \n",
       "488  Салон красоты «Мэйд Ю Нэйлс» предоставляет усл...        0.0   \n",
       "491  Аптека «Максавит» предлагает широкий ассортиме...        0.0   \n",
       "493  Автосуши Автопицца предлагает широкий выбор пи...        0.0   \n",
       "504                                                NaN        0.0   \n",
       "519                                                NaN        0.0   \n",
       "520                                                NaN        0.0   \n",
       "528                                                NaN        0.0   \n",
       "529  Предоставляет услуги по размещению гостей, вкл...        0.0   \n",
       "534                                                NaN        0.0   \n",
       "538  Организация предлагает питьевую воду в различн...        0.0   \n",
       "557                                                NaN        0.0   \n",
       "571  Медцентр «Медгород» предлагает широкий спектр ...        0.0   \n",
       "573  Посольство красоты предлагает широкий спектр к...        0.0   \n",
       "575                                                NaN        0.0   \n",
       "584                                                NaN        0.0   \n",
       "594  Адвокат Максимов М. Н. предоставляет широкий с...        0.0   \n",
       "\n",
       "                                    reviews_summarized   gpt_response  \\\n",
       "477  Детский сад РЖД № 5 хвалят за профессионализм ...  RELEVANT_PLUS   \n",
       "478  Организация «Хаус» — это караоке-клуб, ночной ...  RELEVANT_PLUS   \n",
       "480  Организация предоставляет фотоуслуги, широкофо...  RELEVANT_PLUS   \n",
       "481  Организация занимается доставкой еды и обедов,...  RELEVANT_PLUS   \n",
       "484  Организация занимается приготовлением и достав...  RELEVANT_PLUS   \n",
       "488  Организация занимается ногтевым сервисом и про...  RELEVANT_PLUS   \n",
       "491  Организация занимается продажей лекарственных ...  RELEVANT_PLUS   \n",
       "493  Организация занимается приготовлением и достав...  RELEVANT_PLUS   \n",
       "504                                                NaN  RELEVANT_PLUS   \n",
       "519  Организация занимается оказанием медицинской п...  RELEVANT_PLUS   \n",
       "520  Организация занимается нотариальными услугами....  RELEVANT_PLUS   \n",
       "528  Гостевой дом «Панорама» предлагает уютные доми...  RELEVANT_PLUS   \n",
       "529  Отель19 — гостиница в Самаре с хорошими услови...  RELEVANT_PLUS   \n",
       "534  Организация занимается изготовлением и установ...  RELEVANT_PLUS   \n",
       "538  Организация занимается продажей питьевой воды ...  RELEVANT_PLUS   \n",
       "557  Организация занимается рыбоводством и обустрой...  RELEVANT_PLUS   \n",
       "571  Организация занимается медицинскими услугами, ...  RELEVANT_PLUS   \n",
       "573  Организация занимается предоставлением услуг в...  RELEVANT_PLUS   \n",
       "575  Организация занимается ресторанным бизнесом, п...  RELEVANT_PLUS   \n",
       "584  Организация занимается ремонтом часов, включая...  RELEVANT_PLUS   \n",
       "594  Адвокат Максимов М. Н. оказывает юридические у...  RELEVANT_PLUS   \n",
       "\n",
       "     gpt_pred_relevance      error_type  text_length  reviews_length  \n",
       "477                 1.0  false_positive           16          2524.0  \n",
       "478                 1.0  false_positive           23          1092.0  \n",
       "480                 1.0  false_positive           14          1727.0  \n",
       "481                 1.0  false_positive           15          1733.0  \n",
       "484                 1.0  false_positive           18          1769.0  \n",
       "488                 1.0  false_positive           18          1749.0  \n",
       "491                 1.0  false_positive           13          1477.0  \n",
       "493                 1.0  false_positive           15          1211.0  \n",
       "504                 1.0  false_positive           14             NaN  \n",
       "519                 1.0  false_positive           24          1559.0  \n",
       "520                 1.0  false_positive           14          2197.0  \n",
       "528                 1.0  false_positive           17          1762.0  \n",
       "529                 1.0  false_positive           10          2049.0  \n",
       "534                 1.0  false_positive           23          2465.0  \n",
       "538                 1.0  false_positive           13          1846.0  \n",
       "557                 1.0  false_positive           23          1084.0  \n",
       "571                 1.0  false_positive           16          2164.0  \n",
       "573                 1.0  false_positive           24          2444.0  \n",
       "575                 1.0  false_positive           26          1978.0  \n",
       "584                 1.0  false_positive           27           705.0  \n",
       "594                 1.0  false_positive           16          1281.0  "
      ]
     },
     "execution_count": 174,
     "metadata": {},
     "output_type": "execute_result"
    }
   ],
   "source": [
    "false_pos_df[false_pos_df.text_length<=27].head(100)[50:80]"
   ]
  },
  {
   "cell_type": "code",
   "execution_count": 11,
   "id": "789e42c7-9b71-4f0f-9dae-e0a9655bb9d0",
   "metadata": {
    "tags": []
   },
   "outputs": [
    {
     "data": {
      "text/html": [
       "<div>\n",
       "<style scoped>\n",
       "    .dataframe tbody tr th:only-of-type {\n",
       "        vertical-align: middle;\n",
       "    }\n",
       "\n",
       "    .dataframe tbody tr th {\n",
       "        vertical-align: top;\n",
       "    }\n",
       "\n",
       "    .dataframe thead th {\n",
       "        text-align: right;\n",
       "    }\n",
       "</style>\n",
       "<table border=\"1\" class=\"dataframe\">\n",
       "  <thead>\n",
       "    <tr style=\"text-align: right;\">\n",
       "      <th></th>\n",
       "      <th>text</th>\n",
       "      <th>address</th>\n",
       "      <th>name</th>\n",
       "      <th>normalized_main_rubric_name_ru</th>\n",
       "      <th>permalink</th>\n",
       "      <th>prices_summarized</th>\n",
       "      <th>relevance</th>\n",
       "      <th>reviews_summarized</th>\n",
       "      <th>gpt_response</th>\n",
       "      <th>gpt_pred_relevance</th>\n",
       "      <th>error_type</th>\n",
       "      <th>text_length</th>\n",
       "      <th>reviews_length</th>\n",
       "    </tr>\n",
       "  </thead>\n",
       "  <tbody>\n",
       "    <tr>\n",
       "      <th>191</th>\n",
       "      <td>FIA07DU010 EUROBUMP Бампер задн лев с катафото...</td>\n",
       "      <td>Москва, Кетчерская улица, 2А</td>\n",
       "      <td>AvtoAll; АвтоАльянс; Автозапчасти в Новогиреев...</td>\n",
       "      <td>Магазин автозапчастей и автотоваров</td>\n",
       "      <td>1197606102</td>\n",
       "      <td>AvtoAll предлагает широкий ассортимент автозап...</td>\n",
       "      <td>0.0</td>\n",
       "      <td>Организация занимается продажей автозапчастей ...</td>\n",
       "      <td>RELEVANT_PLUS</td>\n",
       "      <td>1.0</td>\n",
       "      <td>false_positive</td>\n",
       "      <td>100</td>\n",
       "      <td>922.0</td>\n",
       "    </tr>\n",
       "  </tbody>\n",
       "</table>\n",
       "</div>"
      ],
      "text/plain": [
       "                                                  text  \\\n",
       "191  FIA07DU010 EUROBUMP Бампер задн лев с катафото...   \n",
       "\n",
       "                          address  \\\n",
       "191  Москва, Кетчерская улица, 2А   \n",
       "\n",
       "                                                  name  \\\n",
       "191  AvtoAll; АвтоАльянс; Автозапчасти в Новогиреев...   \n",
       "\n",
       "          normalized_main_rubric_name_ru   permalink  \\\n",
       "191  Магазин автозапчастей и автотоваров  1197606102   \n",
       "\n",
       "                                     prices_summarized  relevance  \\\n",
       "191  AvtoAll предлагает широкий ассортимент автозап...        0.0   \n",
       "\n",
       "                                    reviews_summarized   gpt_response  \\\n",
       "191  Организация занимается продажей автозапчастей ...  RELEVANT_PLUS   \n",
       "\n",
       "     gpt_pred_relevance      error_type  text_length  reviews_length  \n",
       "191                 1.0  false_positive          100           922.0  "
      ]
     },
     "execution_count": 11,
     "metadata": {},
     "output_type": "execute_result"
    }
   ],
   "source": [
    "false_pos_df[false_pos_df.text_length==100]"
   ]
  },
  {
   "cell_type": "code",
   "execution_count": 190,
   "id": "b0807df8-9210-404a-92c5-086f1f943986",
   "metadata": {
    "tags": []
   },
   "outputs": [
    {
     "data": {
      "text/html": [
       "<div>\n",
       "<style scoped>\n",
       "    .dataframe tbody tr th:only-of-type {\n",
       "        vertical-align: middle;\n",
       "    }\n",
       "\n",
       "    .dataframe tbody tr th {\n",
       "        vertical-align: top;\n",
       "    }\n",
       "\n",
       "    .dataframe thead th {\n",
       "        text-align: right;\n",
       "    }\n",
       "</style>\n",
       "<table border=\"1\" class=\"dataframe\">\n",
       "  <thead>\n",
       "    <tr style=\"text-align: right;\">\n",
       "      <th></th>\n",
       "      <th>text</th>\n",
       "      <th>address</th>\n",
       "      <th>name</th>\n",
       "      <th>normalized_main_rubric_name_ru</th>\n",
       "      <th>permalink</th>\n",
       "      <th>prices_summarized</th>\n",
       "      <th>relevance</th>\n",
       "      <th>reviews_summarized</th>\n",
       "    </tr>\n",
       "  </thead>\n",
       "  <tbody>\n",
       "    <tr>\n",
       "      <th>12</th>\n",
       "      <td>наращивание ногтей екатеринбург брилиант</td>\n",
       "      <td>Свердловская область, Екатеринбург, проспект Л...</td>\n",
       "      <td>Лаки; Laku; Lаки</td>\n",
       "      <td>Ногтевая студия</td>\n",
       "      <td>229494192641</td>\n",
       "      <td>Ногтевая студия «Лаки» предлагает широкий спек...</td>\n",
       "      <td>0.0</td>\n",
       "      <td>Организация занимается предоставлением услуг н...</td>\n",
       "    </tr>\n",
       "    <tr>\n",
       "      <th>140</th>\n",
       "      <td>школа наращивание ногтей свао</td>\n",
       "      <td>Москва, Берёзовая аллея, 17, корп. 2</td>\n",
       "      <td>Top Nails</td>\n",
       "      <td>Салон красоты</td>\n",
       "      <td>152528927368</td>\n",
       "      <td>Top Nails предлагает широкий спектр услуг по у...</td>\n",
       "      <td>0.0</td>\n",
       "      <td>Организация занимается предоставлением услуг в...</td>\n",
       "    </tr>\n",
       "    <tr>\n",
       "      <th>2047</th>\n",
       "      <td>наращивание ресниц новокузнецк</td>\n",
       "      <td>Кемеровская область, Новокузнецк, Запорожская ...</td>\n",
       "      <td>Agapova Studio</td>\n",
       "      <td>Салон красоты</td>\n",
       "      <td>171314439639</td>\n",
       "      <td>Agapova Studio предлагает широкий спектр услуг...</td>\n",
       "      <td>0.0</td>\n",
       "      <td>Организация занимается предоставлением услуг в...</td>\n",
       "    </tr>\n",
       "    <tr>\n",
       "      <th>3619</th>\n",
       "      <td>наращивание ресниц на Выхино</td>\n",
       "      <td>Москва, Святоозёрская улица, 26</td>\n",
       "      <td>RMnails</td>\n",
       "      <td>Ногтевая студия</td>\n",
       "      <td>172336696376</td>\n",
       "      <td>RMnails предлагает услуги по уходу за ногтями,...</td>\n",
       "      <td>0.0</td>\n",
       "      <td>Организация занимается ногтевым сервисом, уход...</td>\n",
       "    </tr>\n",
       "    <tr>\n",
       "      <th>3735</th>\n",
       "      <td>наращивание ресниц на Выхино</td>\n",
       "      <td>Москва, Ферганская улица, 14/13</td>\n",
       "      <td>Aishe Nails</td>\n",
       "      <td>Салон красоты</td>\n",
       "      <td>171357307847</td>\n",
       "      <td>Салон красоты Aishe Nails предлагает услуги по...</td>\n",
       "      <td>1.0</td>\n",
       "      <td>Организация занимается предоставлением услуг м...</td>\n",
       "    </tr>\n",
       "    <tr>\n",
       "      <th>3962</th>\n",
       "      <td>наращивание ресниц на Выхино</td>\n",
       "      <td>Москва, Ферганский проезд, 10Б, стр. 2</td>\n",
       "      <td>Леди-Ди; Lady Dee; Салон красоты Леди-Di; Ledi...</td>\n",
       "      <td>Салон красоты</td>\n",
       "      <td>1237530275</td>\n",
       "      <td>Салон красоты «Леди-Ди» предоставляет широкий ...</td>\n",
       "      <td>1.0</td>\n",
       "      <td>Организация занимается предоставлением услуг в...</td>\n",
       "    </tr>\n",
       "    <tr>\n",
       "      <th>5608</th>\n",
       "      <td>наращивание ресниц</td>\n",
       "      <td>Саратов, улица имени Т.Г. Шевченко, 54</td>\n",
       "      <td>Блэк даймонд; Black diamond; Black Diamond</td>\n",
       "      <td>Салон красоты</td>\n",
       "      <td>188721894034</td>\n",
       "      <td>Салон красоты «Блэк даймонд» предлагает широки...</td>\n",
       "      <td>1.0</td>\n",
       "      <td>Организация занимается предоставлением услуг в...</td>\n",
       "    </tr>\n",
       "    <tr>\n",
       "      <th>5758</th>\n",
       "      <td>наращивание ресниц на Выхино</td>\n",
       "      <td>Москва, Вешняковская улица, 18Б</td>\n",
       "      <td>Beauty Lab; Салон красоты</td>\n",
       "      <td>Салон красоты</td>\n",
       "      <td>108417752628</td>\n",
       "      <td>Beauty Lab предлагает услуги стрижки для детей...</td>\n",
       "      <td>1.0</td>\n",
       "      <td>Организация занимается предоставлением услуг в...</td>\n",
       "    </tr>\n",
       "    <tr>\n",
       "      <th>7610</th>\n",
       "      <td>обучение наращивание ресниц челябинск</td>\n",
       "      <td>Челябинск, Комсомольский проспект, 30</td>\n",
       "      <td>Wildberries; Wildberries.ru; Wildberries.ru, п...</td>\n",
       "      <td>Пункт выдачи</td>\n",
       "      <td>80401016904</td>\n",
       "      <td>None</td>\n",
       "      <td>0.0</td>\n",
       "      <td>Организация занимается выдачей заказов интерне...</td>\n",
       "    </tr>\n",
       "    <tr>\n",
       "      <th>8262</th>\n",
       "      <td>наращивание ресниц</td>\n",
       "      <td>Саратов, улица имени И.В. Мичурина, 55/61</td>\n",
       "      <td>Tao Balance</td>\n",
       "      <td>Массажный салон</td>\n",
       "      <td>97839532108</td>\n",
       "      <td>Tao Balance предлагает массажные и спа-процеду...</td>\n",
       "      <td>0.0</td>\n",
       "      <td>Организация занимается предоставлением массажн...</td>\n",
       "    </tr>\n",
       "    <tr>\n",
       "      <th>10855</th>\n",
       "      <td>наращивание ресниц на Выхино</td>\n",
       "      <td>Москва, Зеленодольская улица, 3, корп. 2</td>\n",
       "      <td>On Fleek; Блики; Bliki</td>\n",
       "      <td>Ногтевая студия</td>\n",
       "      <td>144217132733</td>\n",
       "      <td>Ногтевая студия On Fleek предоставляет услуги ...</td>\n",
       "      <td>1.0</td>\n",
       "      <td>Организация занимается маникюром и педикюром, ...</td>\n",
       "    </tr>\n",
       "    <tr>\n",
       "      <th>16158</th>\n",
       "      <td>наращивание ресниц на Выхино</td>\n",
       "      <td>Московская область, Люберцы, улица Юности, 5</td>\n",
       "      <td>Beauty lab; Beauty Lab; Бьюти Лаб</td>\n",
       "      <td>Салон красоты</td>\n",
       "      <td>68770680094</td>\n",
       "      <td>Beauty lab предлагает широкий спектр услуг по ...</td>\n",
       "      <td>1.0</td>\n",
       "      <td>Организация занимается предоставлением услуг в...</td>\n",
       "    </tr>\n",
       "    <tr>\n",
       "      <th>16332</th>\n",
       "      <td>наращивание ресниц на Выхино</td>\n",
       "      <td>Москва, Большая Академическая улица, 39</td>\n",
       "      <td>Lashes_Val; Наращивание ресниц; Ресницы и брови</td>\n",
       "      <td>Салон красоты</td>\n",
       "      <td>32369387865</td>\n",
       "      <td>Салон красоты предлагает услуги по коррекции и...</td>\n",
       "      <td>1.0</td>\n",
       "      <td>Организация занимается услугами по наращиванию...</td>\n",
       "    </tr>\n",
       "    <tr>\n",
       "      <th>16907</th>\n",
       "      <td>обучение наращивание ресниц челябинск</td>\n",
       "      <td>Челябинск, улица Сталеваров, 5А</td>\n",
       "      <td>BeautyRoom</td>\n",
       "      <td>Салон бровей и ресниц</td>\n",
       "      <td>47261845356</td>\n",
       "      <td>BeautyRoom предлагает услуги по наращиванию ре...</td>\n",
       "      <td>0.0</td>\n",
       "      <td>None</td>\n",
       "    </tr>\n",
       "    <tr>\n",
       "      <th>18025</th>\n",
       "      <td>наращивание ресниц на Выхино</td>\n",
       "      <td>Москва, Волгоградский проспект, 183, корп. 2</td>\n",
       "      <td>Сила Красоты; Sila Krasoty</td>\n",
       "      <td>Салон красоты</td>\n",
       "      <td>1164350591</td>\n",
       "      <td>Салон красоты «Сила Красоты» предлагает маникю...</td>\n",
       "      <td>0.0</td>\n",
       "      <td>Организация «Сила Красоты» предоставляет услуг...</td>\n",
       "    </tr>\n",
       "    <tr>\n",
       "      <th>21518</th>\n",
       "      <td>наращивание ногтей екатеринбург брилиант</td>\n",
       "      <td>Свердловская область, Екатеринбург, улица Степ...</td>\n",
       "      <td>Sweet Room</td>\n",
       "      <td>Эпиляция , депиляция</td>\n",
       "      <td>21286279106</td>\n",
       "      <td>Sweet Room предоставляет услуги по эпиляции и ...</td>\n",
       "      <td>0.0</td>\n",
       "      <td>Организация занимается эпиляцией и депиляцией....</td>\n",
       "    </tr>\n",
       "    <tr>\n",
       "      <th>21865</th>\n",
       "      <td>наращивание ресниц</td>\n",
       "      <td>Саратов, Первомайская улица, 47/53</td>\n",
       "      <td>Joli Lux</td>\n",
       "      <td>Салон красоты</td>\n",
       "      <td>80470567566</td>\n",
       "      <td>Салон красоты Joli Lux предлагает услуги по ко...</td>\n",
       "      <td>0.0</td>\n",
       "      <td>Организация занимается предоставлением услуг в...</td>\n",
       "    </tr>\n",
       "    <tr>\n",
       "      <th>22344</th>\n",
       "      <td>наращивание ресниц на пулковском шоссе</td>\n",
       "      <td>Санкт-Петербург, Малая Митрофаньевская улица, ...</td>\n",
       "      <td>Маяк Тату Collective; Mayak Tattoo Collective;...</td>\n",
       "      <td>Тату-салон</td>\n",
       "      <td>36381211019</td>\n",
       "      <td>Маяк Тату Collective предоставляет услуги по н...</td>\n",
       "      <td>0.0</td>\n",
       "      <td>Организация занимается татуировками и пирсинго...</td>\n",
       "    </tr>\n",
       "    <tr>\n",
       "      <th>22715</th>\n",
       "      <td>наращивание ресниц</td>\n",
       "      <td>Москва, Комсомольский проспект, 36</td>\n",
       "      <td>Пальчики; Palchiki; Управляющая Компания Сети ...</td>\n",
       "      <td>Ногтевая студия</td>\n",
       "      <td>1243108682</td>\n",
       "      <td>Ногтевая студия «Пальчики» предоставляет услуг...</td>\n",
       "      <td>0.0</td>\n",
       "      <td>Организация занимается предоставлением услуг в...</td>\n",
       "    </tr>\n",
       "    <tr>\n",
       "      <th>23670</th>\n",
       "      <td>школа наращивание ногтей свао</td>\n",
       "      <td>Москва, улица Плещеева, 8</td>\n",
       "      <td>Студия маникюра Катюша</td>\n",
       "      <td>Ногтевая студия</td>\n",
       "      <td>104447119000</td>\n",
       "      <td>Студия маникюра Катюша предлагает услуги по ма...</td>\n",
       "      <td>0.0</td>\n",
       "      <td>Студия маникюра «Катюша» предоставляет услуги ...</td>\n",
       "    </tr>\n",
       "    <tr>\n",
       "      <th>24507</th>\n",
       "      <td>школа наращивание ногтей свао</td>\n",
       "      <td>Москва, 7-я Кожуховская улица, 15А</td>\n",
       "      <td>Toner-skills; Тонер Скиллс</td>\n",
       "      <td>Тонирование автостёкол</td>\n",
       "      <td>75356072439</td>\n",
       "      <td>Предоставляет услуги по защите и тонировке авт...</td>\n",
       "      <td>0.0</td>\n",
       "      <td>Организация занимается тонировкой автостёкол, ...</td>\n",
       "    </tr>\n",
       "    <tr>\n",
       "      <th>25094</th>\n",
       "      <td>наращивание ресниц на пулковском шоссе</td>\n",
       "      <td>Санкт-Петербург, Пулковское шоссе, 71, корп. 2</td>\n",
       "      <td>Egoista</td>\n",
       "      <td>Салон красоты</td>\n",
       "      <td>151747860213</td>\n",
       "      <td>Салон красоты Egoista предлагает широкий спект...</td>\n",
       "      <td>0.0</td>\n",
       "      <td>Организация занимается предоставлением услуг в...</td>\n",
       "    </tr>\n",
       "    <tr>\n",
       "      <th>25098</th>\n",
       "      <td>наращивание ресниц на Выхино</td>\n",
       "      <td>Москва, Ташкентская улица, 25, корп. 1</td>\n",
       "      <td>Маристел; Maristel'; Beauty salon Maristel'</td>\n",
       "      <td>Салон красоты</td>\n",
       "      <td>1022466007</td>\n",
       "      <td>Салон красоты «Маристел» предоставляет широкий...</td>\n",
       "      <td>0.0</td>\n",
       "      <td>Организация «Маристел» предоставляет услуги са...</td>\n",
       "    </tr>\n",
       "    <tr>\n",
       "      <th>25201</th>\n",
       "      <td>наращивание ресниц новокузнецк</td>\n",
       "      <td>Кемеровская область - Кузбасс, Новокузнецк, ул...</td>\n",
       "      <td>Ветер перемен; Beauty salon Veter peremen; Сал...</td>\n",
       "      <td>Салон красоты</td>\n",
       "      <td>64892933274</td>\n",
       "      <td>None</td>\n",
       "      <td>0.0</td>\n",
       "      <td>Организация занимается предоставлением услуг в...</td>\n",
       "    </tr>\n",
       "    <tr>\n",
       "      <th>25654</th>\n",
       "      <td>мари блинкова наращивание ресниц</td>\n",
       "      <td>Москва, Луговой проезд, 5</td>\n",
       "      <td>World Lashes</td>\n",
       "      <td>Салон бровей и ресниц</td>\n",
       "      <td>48115959075</td>\n",
       "      <td>World Lashes предлагает услуги по уходу за бро...</td>\n",
       "      <td>1.0</td>\n",
       "      <td>Организация занимается услугами по уходу за бр...</td>\n",
       "    </tr>\n",
       "    <tr>\n",
       "      <th>26014</th>\n",
       "      <td>наращивание ресниц</td>\n",
       "      <td>Саратов, улица имени Челюскинцев, 83</td>\n",
       "      <td>Парикмахерская; Parikmakherskaya</td>\n",
       "      <td>Парикмахерская</td>\n",
       "      <td>1744235236</td>\n",
       "      <td>None</td>\n",
       "      <td>1.0</td>\n",
       "      <td>Организация занимается парикмахерскими и маник...</td>\n",
       "    </tr>\n",
       "    <tr>\n",
       "      <th>28408</th>\n",
       "      <td>мари блинкова наращивание ресниц</td>\n",
       "      <td>Московская область, городской округ Люберцы, р...</td>\n",
       "      <td>Арт-Паприка; Art-paprika</td>\n",
       "      <td>Салон красоты</td>\n",
       "      <td>26172976962</td>\n",
       "      <td>Салон красоты «Арт-Паприка» предлагает широкий...</td>\n",
       "      <td>0.0</td>\n",
       "      <td>Организация занимается предоставлением услуг в...</td>\n",
       "    </tr>\n",
       "    <tr>\n",
       "      <th>28638</th>\n",
       "      <td>наращивание ресниц на Выхино</td>\n",
       "      <td>Москва, Лермонтовский проспект, 19, корп. 1</td>\n",
       "      <td>Bvg; Bvg - nail &amp; brow bar</td>\n",
       "      <td>Ногтевая студия</td>\n",
       "      <td>225746251738</td>\n",
       "      <td>Bvg предлагает услуги по маникюру и педикюру, ...</td>\n",
       "      <td>1.0</td>\n",
       "      <td>Организация занимается ногтевым сервисом и усл...</td>\n",
       "    </tr>\n",
       "  </tbody>\n",
       "</table>\n",
       "</div>"
      ],
      "text/plain": [
       "                                           text  \\\n",
       "12     наращивание ногтей екатеринбург брилиант   \n",
       "140               школа наращивание ногтей свао   \n",
       "2047             наращивание ресниц новокузнецк   \n",
       "3619               наращивание ресниц на Выхино   \n",
       "3735               наращивание ресниц на Выхино   \n",
       "3962               наращивание ресниц на Выхино   \n",
       "5608                         наращивание ресниц   \n",
       "5758               наращивание ресниц на Выхино   \n",
       "7610      обучение наращивание ресниц челябинск   \n",
       "8262                         наращивание ресниц   \n",
       "10855              наращивание ресниц на Выхино   \n",
       "16158              наращивание ресниц на Выхино   \n",
       "16332              наращивание ресниц на Выхино   \n",
       "16907     обучение наращивание ресниц челябинск   \n",
       "18025              наращивание ресниц на Выхино   \n",
       "21518  наращивание ногтей екатеринбург брилиант   \n",
       "21865                        наращивание ресниц   \n",
       "22344    наращивание ресниц на пулковском шоссе   \n",
       "22715                        наращивание ресниц   \n",
       "23670             школа наращивание ногтей свао   \n",
       "24507             школа наращивание ногтей свао   \n",
       "25094    наращивание ресниц на пулковском шоссе   \n",
       "25098              наращивание ресниц на Выхино   \n",
       "25201            наращивание ресниц новокузнецк   \n",
       "25654          мари блинкова наращивание ресниц   \n",
       "26014                        наращивание ресниц   \n",
       "28408          мари блинкова наращивание ресниц   \n",
       "28638              наращивание ресниц на Выхино   \n",
       "\n",
       "                                                 address  \\\n",
       "12     Свердловская область, Екатеринбург, проспект Л...   \n",
       "140                 Москва, Берёзовая аллея, 17, корп. 2   \n",
       "2047   Кемеровская область, Новокузнецк, Запорожская ...   \n",
       "3619                     Москва, Святоозёрская улица, 26   \n",
       "3735                     Москва, Ферганская улица, 14/13   \n",
       "3962              Москва, Ферганский проезд, 10Б, стр. 2   \n",
       "5608              Саратов, улица имени Т.Г. Шевченко, 54   \n",
       "5758                     Москва, Вешняковская улица, 18Б   \n",
       "7610               Челябинск, Комсомольский проспект, 30   \n",
       "8262           Саратов, улица имени И.В. Мичурина, 55/61   \n",
       "10855           Москва, Зеленодольская улица, 3, корп. 2   \n",
       "16158       Московская область, Люберцы, улица Юности, 5   \n",
       "16332            Москва, Большая Академическая улица, 39   \n",
       "16907                    Челябинск, улица Сталеваров, 5А   \n",
       "18025       Москва, Волгоградский проспект, 183, корп. 2   \n",
       "21518  Свердловская область, Екатеринбург, улица Степ...   \n",
       "21865                 Саратов, Первомайская улица, 47/53   \n",
       "22344  Санкт-Петербург, Малая Митрофаньевская улица, ...   \n",
       "22715                 Москва, Комсомольский проспект, 36   \n",
       "23670                          Москва, улица Плещеева, 8   \n",
       "24507                 Москва, 7-я Кожуховская улица, 15А   \n",
       "25094     Санкт-Петербург, Пулковское шоссе, 71, корп. 2   \n",
       "25098             Москва, Ташкентская улица, 25, корп. 1   \n",
       "25201  Кемеровская область - Кузбасс, Новокузнецк, ул...   \n",
       "25654                          Москва, Луговой проезд, 5   \n",
       "26014               Саратов, улица имени Челюскинцев, 83   \n",
       "28408  Московская область, городской округ Люберцы, р...   \n",
       "28638        Москва, Лермонтовский проспект, 19, корп. 1   \n",
       "\n",
       "                                                    name  \\\n",
       "12                                      Лаки; Laku; Lаки   \n",
       "140                                            Top Nails   \n",
       "2047                                      Agapova Studio   \n",
       "3619                                             RMnails   \n",
       "3735                                         Aishe Nails   \n",
       "3962   Леди-Ди; Lady Dee; Салон красоты Леди-Di; Ledi...   \n",
       "5608          Блэк даймонд; Black diamond; Black Diamond   \n",
       "5758                           Beauty Lab; Салон красоты   \n",
       "7610   Wildberries; Wildberries.ru; Wildberries.ru, п...   \n",
       "8262                                         Tao Balance   \n",
       "10855                             On Fleek; Блики; Bliki   \n",
       "16158                  Beauty lab; Beauty Lab; Бьюти Лаб   \n",
       "16332    Lashes_Val; Наращивание ресниц; Ресницы и брови   \n",
       "16907                                         BeautyRoom   \n",
       "18025                         Сила Красоты; Sila Krasoty   \n",
       "21518                                         Sweet Room   \n",
       "21865                                           Joli Lux   \n",
       "22344  Маяк Тату Collective; Mayak Tattoo Collective;...   \n",
       "22715  Пальчики; Palchiki; Управляющая Компания Сети ...   \n",
       "23670                             Студия маникюра Катюша   \n",
       "24507                         Toner-skills; Тонер Скиллс   \n",
       "25094                                            Egoista   \n",
       "25098        Маристел; Maristel'; Beauty salon Maristel'   \n",
       "25201  Ветер перемен; Beauty salon Veter peremen; Сал...   \n",
       "25654                                       World Lashes   \n",
       "26014                   Парикмахерская; Parikmakherskaya   \n",
       "28408                           Арт-Паприка; Art-paprika   \n",
       "28638                         Bvg; Bvg - nail & brow bar   \n",
       "\n",
       "      normalized_main_rubric_name_ru     permalink  \\\n",
       "12                   Ногтевая студия  229494192641   \n",
       "140                    Салон красоты  152528927368   \n",
       "2047                   Салон красоты  171314439639   \n",
       "3619                 Ногтевая студия  172336696376   \n",
       "3735                   Салон красоты  171357307847   \n",
       "3962                   Салон красоты    1237530275   \n",
       "5608                   Салон красоты  188721894034   \n",
       "5758                   Салон красоты  108417752628   \n",
       "7610                    Пункт выдачи   80401016904   \n",
       "8262                 Массажный салон   97839532108   \n",
       "10855                Ногтевая студия  144217132733   \n",
       "16158                  Салон красоты   68770680094   \n",
       "16332                  Салон красоты   32369387865   \n",
       "16907          Салон бровей и ресниц   47261845356   \n",
       "18025                  Салон красоты    1164350591   \n",
       "21518           Эпиляция , депиляция   21286279106   \n",
       "21865                  Салон красоты   80470567566   \n",
       "22344                     Тату-салон   36381211019   \n",
       "22715                Ногтевая студия    1243108682   \n",
       "23670                Ногтевая студия  104447119000   \n",
       "24507         Тонирование автостёкол   75356072439   \n",
       "25094                  Салон красоты  151747860213   \n",
       "25098                  Салон красоты    1022466007   \n",
       "25201                  Салон красоты   64892933274   \n",
       "25654          Салон бровей и ресниц   48115959075   \n",
       "26014                 Парикмахерская    1744235236   \n",
       "28408                  Салон красоты   26172976962   \n",
       "28638                Ногтевая студия  225746251738   \n",
       "\n",
       "                                       prices_summarized  relevance  \\\n",
       "12     Ногтевая студия «Лаки» предлагает широкий спек...        0.0   \n",
       "140    Top Nails предлагает широкий спектр услуг по у...        0.0   \n",
       "2047   Agapova Studio предлагает широкий спектр услуг...        0.0   \n",
       "3619   RMnails предлагает услуги по уходу за ногтями,...        0.0   \n",
       "3735   Салон красоты Aishe Nails предлагает услуги по...        1.0   \n",
       "3962   Салон красоты «Леди-Ди» предоставляет широкий ...        1.0   \n",
       "5608   Салон красоты «Блэк даймонд» предлагает широки...        1.0   \n",
       "5758   Beauty Lab предлагает услуги стрижки для детей...        1.0   \n",
       "7610                                                None        0.0   \n",
       "8262   Tao Balance предлагает массажные и спа-процеду...        0.0   \n",
       "10855  Ногтевая студия On Fleek предоставляет услуги ...        1.0   \n",
       "16158  Beauty lab предлагает широкий спектр услуг по ...        1.0   \n",
       "16332  Салон красоты предлагает услуги по коррекции и...        1.0   \n",
       "16907  BeautyRoom предлагает услуги по наращиванию ре...        0.0   \n",
       "18025  Салон красоты «Сила Красоты» предлагает маникю...        0.0   \n",
       "21518  Sweet Room предоставляет услуги по эпиляции и ...        0.0   \n",
       "21865  Салон красоты Joli Lux предлагает услуги по ко...        0.0   \n",
       "22344  Маяк Тату Collective предоставляет услуги по н...        0.0   \n",
       "22715  Ногтевая студия «Пальчики» предоставляет услуг...        0.0   \n",
       "23670  Студия маникюра Катюша предлагает услуги по ма...        0.0   \n",
       "24507  Предоставляет услуги по защите и тонировке авт...        0.0   \n",
       "25094  Салон красоты Egoista предлагает широкий спект...        0.0   \n",
       "25098  Салон красоты «Маристел» предоставляет широкий...        0.0   \n",
       "25201                                               None        0.0   \n",
       "25654  World Lashes предлагает услуги по уходу за бро...        1.0   \n",
       "26014                                               None        1.0   \n",
       "28408  Салон красоты «Арт-Паприка» предлагает широкий...        0.0   \n",
       "28638  Bvg предлагает услуги по маникюру и педикюру, ...        1.0   \n",
       "\n",
       "                                      reviews_summarized  \n",
       "12     Организация занимается предоставлением услуг н...  \n",
       "140    Организация занимается предоставлением услуг в...  \n",
       "2047   Организация занимается предоставлением услуг в...  \n",
       "3619   Организация занимается ногтевым сервисом, уход...  \n",
       "3735   Организация занимается предоставлением услуг м...  \n",
       "3962   Организация занимается предоставлением услуг в...  \n",
       "5608   Организация занимается предоставлением услуг в...  \n",
       "5758   Организация занимается предоставлением услуг в...  \n",
       "7610   Организация занимается выдачей заказов интерне...  \n",
       "8262   Организация занимается предоставлением массажн...  \n",
       "10855  Организация занимается маникюром и педикюром, ...  \n",
       "16158  Организация занимается предоставлением услуг в...  \n",
       "16332  Организация занимается услугами по наращиванию...  \n",
       "16907                                               None  \n",
       "18025  Организация «Сила Красоты» предоставляет услуг...  \n",
       "21518  Организация занимается эпиляцией и депиляцией....  \n",
       "21865  Организация занимается предоставлением услуг в...  \n",
       "22344  Организация занимается татуировками и пирсинго...  \n",
       "22715  Организация занимается предоставлением услуг в...  \n",
       "23670  Студия маникюра «Катюша» предоставляет услуги ...  \n",
       "24507  Организация занимается тонировкой автостёкол, ...  \n",
       "25094  Организация занимается предоставлением услуг в...  \n",
       "25098  Организация «Маристел» предоставляет услуги са...  \n",
       "25201  Организация занимается предоставлением услуг в...  \n",
       "25654  Организация занимается услугами по уходу за бр...  \n",
       "26014  Организация занимается парикмахерскими и маник...  \n",
       "28408  Организация занимается предоставлением услуг в...  \n",
       "28638  Организация занимается ногтевым сервисом и усл...  "
      ]
     },
     "execution_count": 190,
     "metadata": {},
     "output_type": "execute_result"
    }
   ],
   "source": [
    "train_data[train_data.text.str.contains('наращивание')]"
   ]
  },
  {
   "cell_type": "code",
   "execution_count": 8,
   "id": "d16a2c30-a413-472f-b3d0-1aa2f083a5d4",
   "metadata": {
    "tags": []
   },
   "outputs": [
    {
     "data": {
      "text/html": [
       "\n",
       "<div style=\"border:1px solid #ccc; padding:16px; border-radius:10px;\n",
       "            font-family:sans-serif; background-color:#f9f9f9; margin-bottom:20px\">\n",
       "  <h2>📌 Index: 570</h2>\n",
       "  <p><strong>Запрос:</strong><br>наращивание ногтей екатеринбург брилиант</p>\n",
       "  <p><strong>Адрес:</strong><br>Свердловская область, Екатеринбург, улица Анатолия Мехренцева, 46</p>\n",
       "  <p><strong>Название:</strong><br>Cat Beauty; Cat Beauty Studio; The Cat nails & beauty; Ногтевая студия The Cat nails & beauty</p>\n",
       "  <p><strong>ID Организации:</strong><br>1716395006</p>\n",
       "  <p><strong>Рубрика:</strong><br>Ногтевая студия</p>\n",
       "  <p><strong>Описание:</strong><br>Cat Beauty предлагает широкий спектр услуг по уходу за ногтями, бровями и ресницами, а также макияжу и причёскам для взрослых и детей | детский маникюр | наращивание ногтей | педикюр с покрытием | макияж вечерний | свадебный образ | архитектура бровей | ламинирование ресниц | японский маникюр | мужской педикюр | маникюр с покрытием френч</p>\n",
       "  <p><strong>Истинная релевантность:</strong> 1.0</p>\n",
       "  <p><strong>Отзывы:</strong><br>Организация занимается предоставлением услуг ногтевого сервиса, макияжа и ухода за бровями и ресницами. Тональность отзывов преимущественно положительная. Хвалят: профессионализм мастеров, уютную атмосферу, качество услуг, приемлемые цены. Критикуют: проблемы с выполнением обещанных услуг и организацию работы администрации. | 1. Пользователь доволен салоном | 2. Клиент удовлетворён постоянными посещениями и работой мастера Анны | 3. Отмечают уют и высокое качество маникюра | 4. Мастер Анна получает положительные отзывы | 5. Клиенту нравится сервис и мастер Анечка | 6. Уютная атмосфера и высокое качество обслуживания | 7. Мастер Зарина высоко оценивается за профессионализм | 8. Благодарность мастеру Зарине за хорошую работу | 9. Упоминаются адекватные цены и уютная атмосфера | 10. Постоянные клиенты довольны качеством маникюра | 11. Мастер Екатерина получает благодарность за быструю и качественную работу | 12. Мастер Анастасия получает положительные отзывы | 13. Клиент доволен обслуживанием и рекомендует салон | 14. Первый визит в салон оставил положительные впечатления | 15. Персонал и мастера получают высокие оценки | 16. Клиенты довольны услугами по ламинированию бровей и ресниц | 17. Негативный опыт с невыполнением обещанной услуги | 18. Ценник выше среднего, но качество услуг высоко оценивается | 19. Идеальный результат работы мастера Екатерины | 20. Подчёркивается чистота и уют салона | 21. Положительный опыт посещения салона и работы мастера Марины | 22. Педикюр получает высокую оценку | 23. Благодарность за возможность записи на процедуры и работу мастера Армине | 24. Высокий уровень сервиса и тактичный персонал | 25. Разочарование качеством покрытия ногтей | 26. Положительные впечатления от маникюра и массажа рук | 27. Длительное посещение салона и удовлетворённость услугами | 28. Мастер Наталья получает высокие оценки за профессионализм | 29. Уютная атмосфера и вежливый персонал | 30. Мастерство Марины высоко оценивается за работу с волосами и макияжем | 31. Первое посещение салона оставило положительные впечатления | 32. Уютная студия и качественный маникюр | 33. Постоянные клиенты и положительные отзывы о мастерах | 34. Высокая оценка работы мастера Натальи и уюта салона | 35. Негативный опыт взаимодействия с администрацией | 36. Благодарность мастеру Мирабелле за качественный маникюр | 37. Высокая оценка работы мастера Зарины | 38. Нахождение своего мастера и удовлетворение услугами | 39. Долгосрочное посещение студии и рекомендация друзьям | 40. Мастер Зарина получает положительные отзывы за качество и цену услуг</p>\n",
       "  <p><strong>Предсказание модели (pred_relevance):</strong><br>1.0</p>\n",
       "  \n",
       "</div>\n"
      ],
      "text/plain": [
       "<IPython.core.display.HTML object>"
      ]
     },
     "metadata": {},
     "output_type": "display_data"
    }
   ],
   "source": [
    "inspect_row(df, 570, pred_col=\"pred_relevance\", label_col='relevance')"
   ]
  },
  {
   "cell_type": "code",
   "execution_count": 199,
   "id": "fdccf1c6-814e-4280-92f9-8a6b2bdd12fc",
   "metadata": {
    "tags": []
   },
   "outputs": [
    {
     "data": {
      "text/html": [
       "\n",
       "    <div style=\"border:1px solid #ccc; padding:16px; border-radius:10px; font-family:sans-serif; background-color:#f9f9f9\">\n",
       "        <h2>📌 Index: 10855</h2>\n",
       "        <p><strong>Запрос:</strong><br>наращивание ресниц на Выхино</p>\n",
       "        <p><strong>Адрес:</strong><br>Москва, Зеленодольская улица, 3, корп. 2</p>\n",
       "        <p><strong>Название:</strong><br>On Fleek; Блики; Bliki</p>\n",
       "        <p><strong>Рубрика:</strong><br>Ногтевая студия</p>\n",
       "        <p><strong>Описание:</strong><br>Ногтевая студия On Fleek предоставляет услуги маникюра и педикюра, включая аппаратные процедуры, покрытие гель-лаком, укрепление ногтей акриловой пудрой и гелем, а также ремонт и дизайн ногтей. | аппаратный педикюр | педикюр с покрытием гель-лак | маникюр гель-лак | укрепление гелем | снятие покрытия | ремонт ногтя | комбинированный маникюр | френч</p>\n",
       "        <p><strong>Relevance:</strong> 1.0</p>\n",
       "        <p><strong>Отзывы:</strong><br>Организация занимается маникюром и педикюром, имеет мастеров с положительными отзывами о качестве работы. Тональность отзывов преимущественно положительная. Хвалят: качество маникюра и педикюра, профессионализм мастеров, уютную атмосферу в салоне, акции и скидки. Критикуют: один негативный отзыв о быстром повреждении гель-лака. | 1. Пользователь доволен качеством работы мастера Евгении | 2. Гель-лак хорошего качества, клиент планирует повторное посещение | 3. Мастер Евгения высоко оценивается за профессионализм | 4. Клиент доволен акциями и атмосферой салона | 5. Отмечаются аккуратность работы и наличие отдельного кабинета | 6. Пользователь высоко оценивает точность и аккуратность мастера Евгении | 7. Быстрое решение проблемы с треснувшим ногтем | 8. Благодарность мастеру Диане за идеальный педикюр | 9. Ногти крепкие и красивые благодаря работе мастеров | 10. Регулярное посещение мастера Дианы благодаря её аккуратности | 11. Улучшение состояния ногтей после предыдущего салона | 12. Постоянное посещение салона благодаря хорошему качеству работы | 13. Благодарность за профессионализм и качество маникюра | 14. Положительный опыт с мастером Евгенией | 15. Высокое качество маникюра от мастера Евгении | 16. Комфортная атмосфера и отличное качество маникюра | 17. Рекомендация салона за высокое качество работы мастеров | 18. Уютная атмосфера и приятные цены | 19. Идеальное обслуживание и результат у мастера Дианы | 20. Удобное расположение и положительный опыт посещения | 21. Рекомендация за красивые и аккуратные ноготочки | 22. Безупречная работа мастера Дианы по педикюру | 23. Прекрасные впечатления от первого посещения | 24. Долгосрочное посещение салона и удовлетворение качеством | 25. Профессиональный и высококачественный сервис | 26. Отрицательный опыт с записью и ожиданием | 27. Удовлетворение качеством маникюра и длительностью носки | 28. Профессиональная помощь с воспалением от подолога Дианы | 29. Многолетнее посещение салона с высоким удовлетворением | 30. Аккуратный маникюр и удовлетворение работой | 31. Уютная обстановка и качественный маникюр | 32. Внимательность и приятная атмосфера у мастера Евгении | 33. Адекватные цены и приятное оформление интерьера | 34. Расположение рядом с домом и положительное впечатление | 35. Удовлетворение первым посещением и высоким качеством | 36. Покрытие держится долго благодаря мастерству | 37. Доверие к мастеру и высокое качество работы | 38. Уникальные дополнения к дизайну маникюра | 39. Хорошее обслуживание и качество маникюра | 40. Соотношение цены и качества работы удовлетворило клиента</p>\n",
       "        <p><strong>GPT ответ:</strong> N/A<br>\n",
       "           <strong>GPT предсказание:</strong> N/A</p>\n",
       "    </div>\n",
       "    "
      ],
      "text/plain": [
       "<IPython.core.display.HTML object>"
      ]
     },
     "metadata": {},
     "output_type": "display_data"
    }
   ],
   "source": [
    "inspect_row(train_data, 10855)"
   ]
  },
  {
   "cell_type": "markdown",
   "id": "5d48ecc2-0e40-4d94-8515-b3f4f8439e09",
   "metadata": {},
   "source": [
    "# False Positives"
   ]
  },
  {
   "cell_type": "code",
   "execution_count": 142,
   "id": "8dabab0d-3958-461b-8283-e05523ce5a5c",
   "metadata": {
    "tags": []
   },
   "outputs": [],
   "source": [
    "from IPython.display import display, HTML\n",
    "\n",
    "def inspect_row(df, idx):\n",
    "    \"\"\"HTML-вывод ключевых полей строки для анализа ошибок классификации.\"\"\"\n",
    "    row = df.loc[idx]\n",
    "\n",
    "    html = f\"\"\"\n",
    "    <div style=\"border:1px solid #ccc; padding:16px; border-radius:10px; font-family:sans-serif; background-color:#f9f9f9\">\n",
    "        <h2>📌 Index: {idx}</h2>\n",
    "        <p><strong>Запрос:</strong><br>{row['text']}</p>\n",
    "        <p><strong>Адрес:</strong><br>{row['address']}</p>\n",
    "        <p><strong>Название:</strong><br>{row['name']}</p>\n",
    "        <p><strong>Рубрика:</strong><br>{row['normalized_main_rubric_name_ru']}</p>\n",
    "        <p><strong>Описание:</strong><br>{row['prices_summarized']}</p>\n",
    "        <p><strong>Relevance:</strong> {row['relevance']}</p>\n",
    "        <p><strong>Отзывы:</strong><br>{row['reviews_summarized']}</p>\n",
    "        <p><strong>GPT ответ:</strong> {row.get('gpt_response', 'N/A')}<br>\n",
    "           <strong>GPT предсказание:</strong> {row.get('gpt_pred_relevance', 'N/A')}</p>\n",
    "    </div>\n",
    "    \"\"\"\n",
    "\n",
    "    display(HTML(html))"
   ]
  },
  {
   "cell_type": "markdown",
   "id": "5b1eed8a-a3c6-4bd2-b6de-d7aaf31e93b9",
   "metadata": {},
   "source": [
    "## Ошибки асессоров"
   ]
  },
  {
   "cell_type": "markdown",
   "id": "f325d955-7805-415b-a3e2-feb627e4b078",
   "metadata": {},
   "source": [
    "### ?"
   ]
  },
  {
   "cell_type": "code",
   "execution_count": 144,
   "id": "a84a1b84-3882-4e43-9cdc-f5d73e0272a3",
   "metadata": {
    "tags": []
   },
   "outputs": [
    {
     "data": {
      "text/html": [
       "\n",
       "    <div style=\"border:1px solid #ccc; padding:16px; border-radius:10px; font-family:sans-serif; background-color:#f9f9f9\">\n",
       "        <h2>📌 Index: 54</h2>\n",
       "        <p><strong>Запрос:</strong><br>отели керчи с бассейном</p>\n",
       "        <p><strong>Адрес:</strong><br>Республика Крым, Керчь, улица Галины Петровой, 37Г</p>\n",
       "        <p><strong>Название:</strong><br>Дельфиниум; Delfinium</p>\n",
       "        <p><strong>Рубрика:</strong><br>Гостевой дом</p>\n",
       "        <p><strong>Описание:</strong><br>Гостевой дом «Дельфиниум» предлагает различные варианты размещения в гостевых комнатах с удобствами и собственной кухней | 3-х местная гостевая с удобствами | 4-х местная гостевая с удобствами | 4-х и 5-ти местная 2-х комнатная гостевая с удобствами | 4-х местная гостевая с собственной кухней</p>\n",
       "        <p><strong>Relevance:</strong> 0.0</p>\n",
       "        <p><strong>Отзывы:</strong><br>Гостевой дом «Дельфиниум» предлагает проживание в номерах со всеми удобствами, расположен недалеко от моря и имеет собственную территорию с бассейном и столовой. Тональность отзывов преимущественно положительная, но есть и критика. Хвалят: близость к морю, чистоту номеров, приветливый персонал, вкусную еду. Критикуют: проблемы с Wi-Fi, состояние бассейна, необходимость улучшения уборки.\n",
       "\n",
       "| 1. Есть аспекты, требующие улучшения | 2. Всё понравилось, позитивный отзыв | 3. Всё отлично, позитивный отзыв | 4. Критикуется грязный бассейн | 5. Хвалят место для семейного отдыха и близость к пляжу | 6. Положительный отзыв о сервисе и близости к пляжу, рекомендация | 7. Отмечаются проблемы с Wi-Fi из-за большого количества подключённых пользователей | 8. Описание комнат и удобств, близость к пляжу и наличие бассейна для детей | 9. Хвалят отель, столовую и близость к пляжу | 10. Положительный отзыв об уюте, чистоте и вкусной кухне | 11. Критикуются проблемы с сантехникой и ограничениями по времени использования бассейна | 12. Положительный отзыв от постоянных гостей | 13. Хвалят хозяев, наличие столовой и близость к морю | 14. Положительный отзыв о семейном отдыхе и вкусной еде | 15. Смешанный отзыв о хорошем расположении и проблемах с уборкой номера | 16. Положительный отзыв о комфорте и удобствах | 17. Критикуется состояние горничных и чистота | 18. Положительный отзыв о бассейне и вкусной еде | 19. Хвалят персонал и комфортабельные номера | 20. Положительный отзыв о двухкомнатном номере и удобствах для детей | 21. Смешанный отзыв с акцентом на чистоту и удобства, но с критикой состояния бассейна и детской площадки | 22. Описание удобств и инфраструктуры, включая бассейн и столовую | 23. Положительный отзыв о десятилетнем опыте отдыха и вкусной кухне | 24. Положительный отзыв о приёме и удобстве | 25. Положительный отзыв о спокойствии и семейном отдыхе | 26. Положительный отзыв о повторном отдыхе и удобствах для детей | 27. Положительный отзыв о приветливом персонале и чистоте | 28. Положительный отзыв о расположении и вкусной еде | 29. Положительный отзыв о кухне, но с замечанием о персонале | 30. Описание простых номеров и удобства на территории | 31. Положительный отзыв постоянных гостей и вкусной еды | 32. Критика запаха канализации и качества воды | 33. Смешанный отзыв с упоминанием проблем с кондиционером и мутного бассейна | 34. Положительный отзыв о чистоте и удобствах, возможность самостоятельного приготовления пищи | 35. Положительный отзыв о комфорте и чистоте | 36. Положительный отзыв о чистых номерах и удобствах на территории | 37. Положительный отзыв о приятной хозяйке и расположении | 38. Положительный отзыв о близости к морю и возможности размещения большой семьи | 39. Положительный отзыв о доме отдыха и большой ухоженной территории | 40. Положительный отзыв о соотношении цены и качества, наличии парковки |</p>\n",
       "        <p><strong>GPT ответ:</strong> RELEVANT_PLUS<br>\n",
       "           <strong>GPT предсказание:</strong> 1.0</p>\n",
       "    </div>\n",
       "    "
      ],
      "text/plain": [
       "<IPython.core.display.HTML object>"
      ]
     },
     "metadata": {},
     "output_type": "display_data"
    }
   ],
   "source": [
    "inspect_row(false_pos_df, 54)"
   ]
  },
  {
   "cell_type": "code",
   "execution_count": 145,
   "id": "228e2831-2749-4f00-9b0d-e2b17e73b5a0",
   "metadata": {
    "tags": []
   },
   "outputs": [
    {
     "data": {
      "text/html": [
       "\n",
       "    <div style=\"border:1px solid #ccc; padding:16px; border-radius:10px; font-family:sans-serif; background-color:#f9f9f9\">\n",
       "        <h2>📌 Index: 111</h2>\n",
       "        <p><strong>Запрос:</strong><br>Справка оружие</p>\n",
       "        <p><strong>Адрес:</strong><br>Москва, Борисовский проезд, 32</p>\n",
       "        <p><strong>Название:</strong><br>+Медком; Medicinskij centr +medkom; Мед. центр + медком; Медицинский центр Медком; Медицинский центр плюсМедком; Медком</p>\n",
       "        <p><strong>Рубрика:</strong><br>Медицинская комиссия</p>\n",
       "        <p><strong>Описание:</strong><br>Медицинская комиссия, диагностические исследования и анализы, оформление медицинских справок и документов, услуги косметологии | Гистологическое исследование | Цитологическое исследование | УЗИ | Водительская справка | Медицинская справка | Анализ кала | Анализ мочи | ПЦР-тест на COVID-19 | Удаление новообразований | Лазерная эпиляция</p>\n",
       "        <p><strong>Relevance:</strong> 0.0</p>\n",
       "        <p><strong>Отзывы:</strong><br>Организация занимается проведением медицинских комиссий, оформлением медицинских книжек и справок, а также предоставляет различные медицинские услуги. Тональность отзывов смешанная: много положительных отзывов о быстроте обслуживания и профессионализме сотрудников, но есть и отрицательные отзывы о долгих ожиданиях и некомпетентности персонала. Хвалят: быстрое обслуживание, вежливость и профессионализм сотрудников, чистоту и удобство клиники. Критикуют: долгие ожидания, некомпетентность некоторых сотрудников, устаревшее оборудование и организацию процесса.\n",
       "\n",
       "1. Пользователь доволен организацией.\n",
       "2. Быстро оформили медицинскую книжку.\n",
       "3. Легальная организация, одобренная соответствующими органами.\n",
       "4. Отсутствие очередей и толкотни.\n",
       "5. Быстро помогли при острой боли, всё объяснили.\n",
       "6. Быстро сделали медицинскую книжку.\n",
       "7. Хороший медицинский центр, всё понравилось.\n",
       "8. Быстро прошли врачей для медицинской книжки.\n",
       "9. Порадовало отсутствие очередей, чёткое соблюдение времени.\n",
       "10. Работают в выходные, удобно для получения справки.\n",
       "11. Долгое ожидание, устаревший подход к обслуживанию.\n",
       "12. Некомпетентный персонал, не рекомендуют обращаться.\n",
       "13. Быстро и недорого получили справку.\n",
       "14. Быстро сделали медицинскую книжку.\n",
       "15. Цены средние, очередей почти нет, врачи компетентные.\n",
       "16. Чистое и уютное заведение, быстро оформили документы.\n",
       "17. Быстро и бюджетно, спасибо за услуги.\n",
       "18. Профессионализм и чуткое отношение врача, помогли справиться с проблемой.\n",
       "19. Внимательный врач, быстро выдали результаты УЗИ.\n",
       "20. Долго ждали врача, негативное впечатление от работы центра.\n",
       "21. Грамотные и профессиональные врачи на УЗИ.\n",
       "22. Тёплое отношение и профессионализм врачей, рекомендуют центр.\n",
       "23. Вежливый персонал, быстро сдали анализы.\n",
       "24. Проблематика с качеством вакцины, антитела не повысились.\n",
       "25. Всё сделали на высшем уровне, персонал вежливый.\n",
       "26. Спокойная атмосфера, вежливые врачи, всё объясняют доступно.\n",
       "27. Быстро сделали внутривенную инъекцию, безболезненно.\n",
       "28. Высоко оценили опыт УЗИ, процедура прошла быстро и комфортно.\n",
       "29. Быстро получили справки для замены прав.\n",
       "30. Внимательность врача на УЗИ, комфортное обследование.\n",
       "31. Общительные доктора, всё рассказали и подсказали.\n",
       "32. Негативный опыт сдачи крови, некомпетентность персонала.\n",
       "33. Чистое помещение, вежливый персонал, положительные впечатления.\n",
       "34. Вежливый персонал, приём по записи без задержек.\n",
       "35. Неорганизованность администратора, недовольство обслуживанием.\n",
       "36. Благодарность за профессионализм и индивидуальный подход.\n",
       "37. Приятная атмосфера, вежливые сотрудники.\n",
       "38. Большой выбор анализов перед операцией.\n",
       "39. Профессиональное проведение прививки, без побочных эффектов.\n",
       "40. Рекомендация центра за чистоту и вежливость персонала.</p>\n",
       "        <p><strong>GPT ответ:</strong> RELEVANT_PLUS<br>\n",
       "           <strong>GPT предсказание:</strong> 1.0</p>\n",
       "    </div>\n",
       "    "
      ],
      "text/plain": [
       "<IPython.core.display.HTML object>"
      ]
     },
     "metadata": {},
     "output_type": "display_data"
    }
   ],
   "source": [
    "inspect_row(false_pos_df,111)"
   ]
  },
  {
   "cell_type": "code",
   "execution_count": 146,
   "id": "10d708af-a464-4e78-8001-32915c505da4",
   "metadata": {
    "tags": []
   },
   "outputs": [
    {
     "data": {
      "text/html": [
       "\n",
       "    <div style=\"border:1px solid #ccc; padding:16px; border-radius:10px; font-family:sans-serif; background-color:#f9f9f9\">\n",
       "        <h2>📌 Index: 126</h2>\n",
       "        <p><strong>Запрос:</strong><br>массаж в жулебино</p>\n",
       "        <p><strong>Адрес:</strong><br>Москва, Жулебинский бульвар, 25</p>\n",
       "        <p><strong>Название:</strong><br>ЭМ-Бэлль; M-Belle; M-Belle Beauty studio; ЭМ-Бэль</p>\n",
       "        <p><strong>Рубрика:</strong><br>Салон красоты</p>\n",
       "        <p><strong>Описание:</strong><br>Салон красоты «ЭМ-Бэлль» предоставляет широкий спектр услуг по уходу за волосами, маникюру, массажу и пилингу | массаж спины | маникюр с гель-лаком | наращивание ресниц | чистка лица | пилинг | стрижка женская | окрашивание волос | массаж лица | педикюр | депиляция | мужской уход | кератиновое выпрямление волос.</p>\n",
       "        <p><strong>Relevance:</strong> 0.0</p>\n",
       "        <p><strong>Отзывы:</strong><br>Организация занимается предоставлением услуг в сфере красоты: маникюр, педикюр, окрашивание, ламинирование ресниц, массаж и другие процедуры. Тональность отзывов преимущественно положительная: многие хвалят профессионализм мастеров, качество услуг и уютную атмосферу. Однако есть и отрицательные отзывы, касающиеся цен и отношения к клиентам.\n",
       "\n",
       "| 1. Хвалят идеальный маникюр | 2. Отмечают профессионализм сотрудников | 3. Клиент доволен и планирует вернуться | 4. Критикуют отношение к клиентам | 5. Жалуются на окрашивание вместе с одеждой | 6. Подчёркивают качество работы | 7. Отмечают креативность салона и атмосферу | 8. Положительно отзываются о мастере и планируют вернуться | 9. Хвалят ламинирование ресниц | 10. Отмечают работу бровиста | 11. Описывают салон как волшебное место | 12. Рекомендуют массаж | 13. Подчёркивают соотношение цены и качества | 14. Хвалят мастера по маникюру | 15. Отмечают чистоту и аккуратность салона | 16. Критикуют неграмотного косметолога | 17. Рекомендуют мастера по ресницам | 18. Подчёркивают общее удовлетворение визитом | 19. Хвалят стрижку и расположение салона | 20. Отмечают качество процедур | 21. Критикуют высокие цены и отношение мастера | 22. Подчёркивают хорошее впечатление от салона | 23. Хвалят профессионализм мастера по маникюру | 24. Рекомендуют салон за уютную атмосферу и качество услуг | 25. Критикуют температурный режим и отношение в салоне | 26. Выражают общее удовлетворение | 27. Хвалят качественный сервис | 28. Отмечают приятные и вежливые мастера | 29. Рекомендуют наращивание ресниц | 30. Подчёркивают профессионализм мастеров | 31. Хвалят педикюр и подолога | 32. Отмечают долгосрочное посещение салона и удовлетворённость | 33. Рекомендуют конкретную мастера за качество работы | 34. Критикуют отсутствие точной суммы за процедуру | 35. Хвалят сложное окрашивание и стрижку | 36. Подчёркивают уютную атмосферу и рациональные цены | 37. Рекомендуют маникюр и профессионализм мастера | 38. Отмечают внимательность мастера и качество процедуры</p>\n",
       "        <p><strong>GPT ответ:</strong> RELEVANT_PLUS<br>\n",
       "           <strong>GPT предсказание:</strong> 1.0</p>\n",
       "    </div>\n",
       "    "
      ],
      "text/plain": [
       "<IPython.core.display.HTML object>"
      ]
     },
     "metadata": {},
     "output_type": "display_data"
    }
   ],
   "source": [
    "inspect_row(false_pos_df,126)"
   ]
  },
  {
   "cell_type": "code",
   "execution_count": 147,
   "id": "3126849b-4551-419d-b8bb-69c65fb845b5",
   "metadata": {
    "tags": []
   },
   "outputs": [
    {
     "data": {
      "text/html": [
       "\n",
       "    <div style=\"border:1px solid #ccc; padding:16px; border-radius:10px; font-family:sans-serif; background-color:#f9f9f9\">\n",
       "        <h2>📌 Index: 163</h2>\n",
       "        <p><strong>Запрос:</strong><br>Шаверма</p>\n",
       "        <p><strong>Адрес:</strong><br>Санкт-Петербург, проспект Космонавтов, 61к1</p>\n",
       "        <p><strong>Название:</strong><br>Шавермов; Shavermov</p>\n",
       "        <p><strong>Рубрика:</strong><br>Ресторан</p>\n",
       "        <p><strong>Описание:</strong><br>Ресторан предлагает шаверму различных видов, а также сэндвичи и напитки | классическая шаверма | фирменная шаверма | вегетарианская шаверма | сэндвич без мяса | сэндвич с говядиной | сэндвич с индейкой | картофель фри | Lipton Лимон | J7 Яблоко осветлённое | Evervess cola</p>\n",
       "        <p><strong>Relevance:</strong> 0.0</p>\n",
       "        <p><strong>Отзывы:</strong><br>Организация занимается приготовлением и продажей шавермы. Отзывы смешанные: есть как положительные, так и отрицательные. Хвалят вкус шавермы, качество ингредиентов, быстрое обслуживание. Критикуют вкус, качество ингредиентов, проблемы с обслуживанием и несоблюдение графика работы.\n",
       "\n",
       "| 1. Критикуют пресный вкус шавермы | 2. Негативный отзыв о вкусе | 3. Положительно отзываются о ночной смене | 4. Негативный отзыв о невкусной шаверме | 5. Критикуют отсутствие соли в соусе и неполную порцию | 6. Положительный отзыв о месте | 7. Хвалят вкус шавермы | 8. Критикуют сухую шаверму и старый лаваш | 9. Отрицательный отзыв о качестве еды | 10. Положительный отзыв о шаверме | 11. Хвалят мясо и свежие овощи | 12. Критикуют невкусную шаверму | 13. Положительный отзыв о вкусе шавермы и цене | 14. Критикуют нерабочее время, указанное как 24 часа | 15. Критикуют обнаруженные в шаверме полиэтилен и тараканов, а также хамство сотрудников | 16. Хвалят быстрое приготовление шавермы | 17. Критикуют плохой вкус шавермы | 18. Хвалят не жирный соус | 19. Критикуют несоответствие цены и качества | 20. Положительный отзыв о вкусной шаверме | 21. Хвалят шаверму и цены | 22. Критикуют отсутствие двойной порции и высокую цену за добавку мяса | 23. Критикуют изменение рабочего времени | 24. Хвалят нового повара, но критикуют холодную шаверму на доставке | 25. Положительный отзыв об атмосфере и вкусе шавермы | 26. Хвалят свежую шаверму и приветливого шефа | 27. Критикуют ухудшение качества шавермы | 28. Критикуют низкое качество мяса и соуса | 29. Положительный отзыв о хрустящей пите и вкусе шавермы | 30. Хвалят вкусную шаверму и хороший персонал | 31. Положительный отзыв о разнообразии шавермы | 32. Хвалят быстрое и вкусное приготовление | 33. Положительный отзыв о свежей шаверме и вежливом поваре | 34. Положительный отзыв о сочном мясе и сбалансированном соусе | 35. Критикуют низкий уровень вкуса шавермы и некомпетентность персонала | 36. Положительный отзыв о новинке от шефа | 37. Хвалят быструю готовку шавермы | 38. Положительный отзыв о вежливом персонале и наличии латте на кокосовом молоке | 39. Критикуют ухудшение вкуса шавермы из-за смены поваров | 40. Положительный отзыв о необычном вкусе соуса</p>\n",
       "        <p><strong>GPT ответ:</strong> RELEVANT_PLUS<br>\n",
       "           <strong>GPT предсказание:</strong> 1.0</p>\n",
       "    </div>\n",
       "    "
      ],
      "text/plain": [
       "<IPython.core.display.HTML object>"
      ]
     },
     "metadata": {},
     "output_type": "display_data"
    }
   ],
   "source": [
    "inspect_row(false_pos_df,163)"
   ]
  },
  {
   "cell_type": "code",
   "execution_count": 148,
   "id": "3980d997-3d2d-447c-91a5-fa819a0077bb",
   "metadata": {
    "tags": []
   },
   "outputs": [
    {
     "data": {
      "text/html": [
       "\n",
       "    <div style=\"border:1px solid #ccc; padding:16px; border-radius:10px; font-family:sans-serif; background-color:#f9f9f9\">\n",
       "        <h2>📌 Index: 182</h2>\n",
       "        <p><strong>Запрос:</strong><br>сервис Volvo</p>\n",
       "        <p><strong>Адрес:</strong><br>Московская область, городской округ Мытищи, посёлок Вешки, торгово-промышленная зона Алтуфьево, МКАД, 85-й километр, вл5с2</p>\n",
       "        <p><strong>Название:</strong><br>Автодом Volvo Алтуфьево; Автодом Volvo; Genser Infiniti; Genser Infiniti 85 км МКАД; Genser Ауди; Volvo Car; Автодом Volvo Алтуфьево Официальный дилер; Автодом Volvo Алтуфьево, официальный дилер; Автосалон Genser Infiniti; Алтуфьево; Ауди Центр Алтуфьево; Ауди центр Алтуфьево; Audi Tsentr Altufyevo; Audi tsentr Altufyevo; Genser Infiniti 85 km MKAD</p>\n",
       "        <p><strong>Рубрика:</strong><br>Автосалон</p>\n",
       "        <p><strong>Описание:</strong><br>Предоставляет услуги по техническому обслуживанию автомобилей, включая хранение колёс, замену масла и шиномонтаж | хранение колёс | масляный сервис | шиномонтаж</p>\n",
       "        <p><strong>Relevance:</strong> 0.0</p>\n",
       "        <p><strong>Отзывы:</strong><br>Организация занимается продажей и обслуживанием автомобилей Volvo, включая проведение технического обслуживания и ремонт. Отзывы в основном положительные: хвалят качество услуг, профессионализм персонала, особенно мастера Рамиля, и внимательное отношение к клиентам. Критикуют высокие цены и некоторые организационные моменты, такие как длительное ожидание и отсутствие активности персонала при отсутствии клиентов.\n",
       "\n",
       "| 1. Пользователь доволен обслуживанием | 2. Высоко оценивают скорость и качество работы | 3. Обслуживание оценивается как хорошее | 4. ТО проведено достойно | 5. Специалисты хорошо разбираются в Volvo | 6. Ремонтные работы выполнены качественно без лишних предложений | 7. Цены высокие, но соответствуют качеству | 8. Профессиональный кузовной ремонт после ДТП | 9. Работы выполняются быстро и чётко | 10. Сервис Volvo оценивается положительно | 11. Нет ощущения навязывания ненужных услуг | 12. Техническое обслуживание проведено вовремя и без претензий | 13. Благодарность за покупку новой машины XC90 | 14. Квалифицированный персонал и хорошее отношение | 15. Вежливые и квалифицированные сотрудники | 16. Диагностика и ремонт выполнены оперативно | 17. Профессиональный сервис с квалифицированным персоналом | 18. Качественные ремонтные работы | 19. Положительный опыт с сервисом Volvo | 20. Благодарность мастеру Рамилю за компетентность | 21. Высокие оценки профессионализму и качеству работы | 22. Не очень внимательный сервис | 23. Устраивает внимательность и компетентность | 24. Благодарность за оперативное обслуживание | 25. Удобное расположение и вежливый персонал | 26. Постоянное клиентство и благодарность мастеру Рамилю | 27. Отсутствие ответа от сервиса | 28. Положительные условия и обслуживание | 29. Благодарность за качественное обслуживание | 30. Положительные впечатления от посещения салона | 31. Благодарность за помощь в подготовке к путешествию | 32. Недовольство общением с новым мастером | 33. Приятное впечатление от персонала на ресепшен | 34. Высокое качество обслуживания и отношение к клиентам | 35. Благодарность мастеру Рамилю за профессионализм | 36. Отличное выполнение ремонтных работ | 37. Благодарность за быстрое решение проблемы в дороге | 38. Высокая оценка работы мастера Рамиля и его команды | 39. Положительные впечатления от обслуживания | 40. Высокое качество покраски и замены детали |</p>\n",
       "        <p><strong>GPT ответ:</strong> RELEVANT_PLUS<br>\n",
       "           <strong>GPT предсказание:</strong> 1.0</p>\n",
       "    </div>\n",
       "    "
      ],
      "text/plain": [
       "<IPython.core.display.HTML object>"
      ]
     },
     "metadata": {},
     "output_type": "display_data"
    }
   ],
   "source": [
    "inspect_row(false_pos_df,182)"
   ]
  },
  {
   "cell_type": "code",
   "execution_count": 149,
   "id": "6bf9a38d-f8fa-46f8-a0e0-87c99c15bfd6",
   "metadata": {
    "tags": []
   },
   "outputs": [
    {
     "data": {
      "text/html": [
       "\n",
       "    <div style=\"border:1px solid #ccc; padding:16px; border-radius:10px; font-family:sans-serif; background-color:#f9f9f9\">\n",
       "        <h2>📌 Index: 211</h2>\n",
       "        <p><strong>Запрос:</strong><br>Доставка пиццы</p>\n",
       "        <p><strong>Адрес:</strong><br>Омск, проспект Карла Маркса, 4</p>\n",
       "        <p><strong>Название:</strong><br>DonRoll; Don Roll. Dostavka sushi i pitstsy V Omske; Доставка суши и пиццы в Омске Don Roll; Доставка суши и пиццы в Омске Дон Ролл</p>\n",
       "        <p><strong>Рубрика:</strong><br>Доставка еды и обедов</p>\n",
       "        <p><strong>Описание:</strong><br>DonRoll предлагает доставку разнообразных блюд, включая суши, роллы, поке, воки, сеты, пиццу и напитки | Филадельфия премиум | Поке с креветкой | Вок с курицей | Гункан с лососем | Комбо-обед с рисом | Пицца пепперони | Морс облепиха | Сет гунканов | Тигровые креветки с соусом васаби | Чай | Картофель фри | Чизкейк шоколадный | Суши пицца с курицей</p>\n",
       "        <p><strong>Relevance:</strong> 0.0</p>\n",
       "        <p><strong>Отзывы:</strong><br>DonRoll занимается доставкой суши, роллов, пиццы и других блюд. Тональность отзывов смешанная: много положительных оценок вкуса еды и скорости доставки, но есть жалобы на качество обслуживания, проблемы с промокодами и задержки доставки. Хвалят: вкус роллов и пиццы, быструю доставку, вежливые операторы. Критикуют: задержки доставки, проблемы с качеством и состав роллов, ошибки с промокодами.\n",
       "\n",
       "1. Пользователь доволен вкусом еды.\n",
       "2. Отмечают вкус и скорость доставки.\n",
       "3. Пользователь высоко оценивает вкус еды.\n",
       "4. Подчёркивают высокое качество еды.\n",
       "5. Пользователь считает роллы самыми вкусными в городе.\n",
       "6. Клиент доволен вкусом и отмечает проблемы с персоналом.\n",
       "7. Отмечают большие порции роллов и своевременную доставку.\n",
       "8. Пользователь доволен вкусом пиццы.\n",
       "9. Высоко оценивают суши и рекомендуют их.\n",
       "10. Подчёркивают качество роллов и скорость доставки.\n",
       "11. Отмечают быструю доставку и качество еды.\n",
       "12. Пользователь доволен вкусом роллов.\n",
       "13. Рекомендует заведение по совету друзей.\n",
       "14. Отмечают качество роллов и планируют заказывать снова.\n",
       "15. Клиент доволен качеством еды и сервиса.\n",
       "16. Подчёркивают свежесть и вкус суши, а также быструю доставку.\n",
       "17. Пользователь недоволен качеством подарка и вкусом суши.\n",
       "18. Отмечают хорошее качество еды и быструю доставку.\n",
       "19. Клиент недоволен отсутствием парковки.\n",
       "20. Пользователь выражает общее удовлетворение.\n",
       "21. Критикуют качество роллов и проблемы с промокодом.\n",
       "22. Клиент недоволен задержкой доставки и качеством еды.\n",
       "23. Подчёркивают хорошее качество роллов и доставки.</p>\n",
       "        <p><strong>GPT ответ:</strong> RELEVANT_PLUS<br>\n",
       "           <strong>GPT предсказание:</strong> 1.0</p>\n",
       "    </div>\n",
       "    "
      ],
      "text/plain": [
       "<IPython.core.display.HTML object>"
      ]
     },
     "metadata": {},
     "output_type": "display_data"
    }
   ],
   "source": [
    "inspect_row(false_pos_df,211)"
   ]
  },
  {
   "cell_type": "code",
   "execution_count": 150,
   "id": "e1b7ed6a-44b6-4668-abdc-36d340dd1a12",
   "metadata": {
    "tags": []
   },
   "outputs": [
    {
     "data": {
      "text/html": [
       "\n",
       "    <div style=\"border:1px solid #ccc; padding:16px; border-radius:10px; font-family:sans-serif; background-color:#f9f9f9\">\n",
       "        <h2>📌 Index: 271</h2>\n",
       "        <p><strong>Запрос:</strong><br>ремонт глушителей в москве</p>\n",
       "        <p><strong>Адрес:</strong><br>Москва, 7-я Кожуховская улица, вл5Б</p>\n",
       "        <p><strong>Название:</strong><br>Протехник; Protechnic</p>\n",
       "        <p><strong>Рубрика:</strong><br>Автосервис , автотехцентр</p>\n",
       "        <p><strong>Описание:</strong><br>Автосервис «Протехник» предоставляет услуги по ремонту и обслуживанию автомобилей, включая диагностику, замену запчастей и обслуживание систем автомобиля | заправка кондиционера | замена АКБ | ремонт стартера | диагностика генератора | замена ламп | ремонт электропроводки | замена масла | обслуживание системы охлаждения | сход-развал | диагностика электрооборудования</p>\n",
       "        <p><strong>Relevance:</strong> 0.0</p>\n",
       "        <p><strong>Отзывы:</strong><br>Организация занимается автодиагностикой, ремонтом и обслуживанием автомобилей. Отзывы в основном положительные: хвалят качество услуг, профессионализм мастеров, доступные цены и вежливое отношение. Однако есть отдельные жалобы на высокие цены, некачественный ремонт и хамское отношение.\n",
       "\n",
       "| 1. Хвалят качество сервиса | 2. Критикуют отсутствие ответов на звонки | 3. Отмечают профессионализм мастера | 4. Критикуют некачественный ремонт | 5. Предупреждают об опасности некачественного ремонта | 6. Отмечают быстрое и качественное обслуживание | 7. Хвалят точность диагностики и устранения неисправностей | 8. Отмечают высокую скорость и профессионализм при сходе-развале | 9. Хвалят уровень обслуживания и отсутствие накруток | 10. Отмечают чёткость и отсутствие навязывания лишних услуг | 11. Критикуют хамское отношение и высокие цены | 12. Хвалят оперативность и качество ремонта | 13. Критикуют недостаточную квалификацию при диагностике | 14. Отмечают быструю и качественную работу | 15. Хвалят бесплатное обслуживание электросамоката | 16. Подчёркивают профессионализм и клиентоориентированность персонала | 17. Отмечают удобное расположение и адекватные цены | 18. Хвалят качественный ремонт и оригинальные запчасти | 19. Критикуют несоответствие цен на сайте и в сервисе | 20. Критикуют недостаток знаний и навыков у мастеров | 21. Предупреждают о необходимости следить за работой мастеров | 22. Хвалят профессионализм и ответственность мастеров | 23. Критикуют высокие цены | 24. Отмечают высокое качество обслуживания и профессионализм | 25. Хвалят быстрое обслуживание и приемлемые цены | 26. Подчёркивают оперативность и качественный ремонт | 27. Отмечают грамотные и отзывчивые мастера | 28. Хвалят идеальное выполнение работы | 29. Отмечают профессиональный подход и быстрое решение проблем | 30. Подчёркивают вежливость и компетентность сотрудников | 31. Критикуют непрофессионализм и некачественную работу | 32. Хвалят быстрый и качественный ремонт выхлопной системы | 33. Отмечают доступные цены и высокий уровень обслуживания | 34. Подчёркивают опыт и профессионализм слесарей | 35. Хвалят квалифицированных механиков и быструю замену шин | 36. Отмечают оперативное решение проблемы и отсутствие навязывания услуг | 37. Подчёркивают быструю замену деталей в подвеске | 38. Хвалят чёткость и оперативность ремонта | 39. Отмечают опыт мастеров и качество обслуживания | 40. Подчёркивают соответствие цен прейскуранту и оперативность обслуживания</p>\n",
       "        <p><strong>GPT ответ:</strong> RELEVANT_PLUS<br>\n",
       "           <strong>GPT предсказание:</strong> 1.0</p>\n",
       "    </div>\n",
       "    "
      ],
      "text/plain": [
       "<IPython.core.display.HTML object>"
      ]
     },
     "metadata": {},
     "output_type": "display_data"
    }
   ],
   "source": [
    "inspect_row(false_pos_df,271)"
   ]
  },
  {
   "cell_type": "code",
   "execution_count": 151,
   "id": "3a54165d-9641-4b12-8ccb-3ca73cbbdf1d",
   "metadata": {
    "tags": []
   },
   "outputs": [
    {
     "data": {
      "text/html": [
       "\n",
       "    <div style=\"border:1px solid #ccc; padding:16px; border-radius:10px; font-family:sans-serif; background-color:#f9f9f9\">\n",
       "        <h2>📌 Index: 316</h2>\n",
       "        <p><strong>Запрос:</strong><br>батут</p>\n",
       "        <p><strong>Адрес:</strong><br>Москва, Ленинградский проспект, 80, корп. 11</p>\n",
       "        <p><strong>Название:</strong><br>Небо; Nebo; Батутный парк Небо; Бублик; Кафе Небо; Центр Небо</p>\n",
       "        <p><strong>Рубрика:</strong><br>Развлекательный центр</p>\n",
       "        <p><strong>Описание:</strong><br>Развлекательный центр «Небо» предлагает услуги по проведению детских праздников, а также различные тарифные планы для посещения батутного центра и игровой комнаты | сертификат | дни рождения | выпускные | 1 час — будни | безлимит — будни | 1 час — выходные | безлимит — выходные | студенческий безлимит | бодрое утро | активный вечер | безлимит на месяц</p>\n",
       "        <p><strong>Relevance:</strong> 0.0</p>\n",
       "        <p><strong>Отзывы:</strong><br>Организация занимается предоставлением услуг развлекательного центра, включая батутный центр и проведение детских праздников. Отзывы смешанные: много положительных оценок, но есть существенные жалобы на условия и сервис. Хвалят: батуты, дружелюбие персонала, организацию праздников. Критикуют: проблемы с парковкой, вентиляцией, чистотой туалетов, высокие цены.\n",
       "\n",
       "| 1. Отрицательные впечатления | 2. Положительные впечатления | 3. Хвалят батуты | 4. Критикуют персонал | 5. Ребёнку понравилось | 6. Отрицательные впечатления | 7. Детям понравился | 8. Дети остались довольны | 9. Критикуют нехватку места | 10. Положительные впечатления | 11. Положительные впечатления | 12. Критикуют обман | 13. Демократичные цены | 14. Положительные впечатления | 15. Критикуют туалеты | 16. Положительные впечатления | 17. Положительные впечатления о батутном центре | 18. Лучший батутный центр в Москве | 19. Критикуют маленькую площадь и дорогое кафе | 20. Положительные впечатления | 21. Критикуют парковку | 22. Внукам понравилось | 23. Положительные впечатления | 24. Положительные впечатления | 25. Положительные впечатления | 26. Критикуют вентиляцию | 27. Дети были в восторге | 28. Положительные впечатления о персонале | 29. Положительные впечатления | 30. Хвалят конкретного сотрудника | 31. Критикуют навязчивый сервис | 32. Не понравились организация | 33. Положительные впечатления |</p>\n",
       "        <p><strong>GPT ответ:</strong> RELEVANT_PLUS<br>\n",
       "           <strong>GPT предсказание:</strong> 1.0</p>\n",
       "    </div>\n",
       "    "
      ],
      "text/plain": [
       "<IPython.core.display.HTML object>"
      ]
     },
     "metadata": {},
     "output_type": "display_data"
    }
   ],
   "source": [
    "inspect_row(false_pos_df,316)"
   ]
  },
  {
   "cell_type": "code",
   "execution_count": 152,
   "id": "0f9bd1a6-f9c7-44b9-9162-756e21880a9e",
   "metadata": {
    "tags": []
   },
   "outputs": [
    {
     "data": {
      "text/html": [
       "\n",
       "    <div style=\"border:1px solid #ccc; padding:16px; border-radius:10px; font-family:sans-serif; background-color:#f9f9f9\">\n",
       "        <h2>📌 Index: 301</h2>\n",
       "        <p><strong>Запрос:</strong><br>пиво разливное</p>\n",
       "        <p><strong>Адрес:</strong><br>Московская область, Балашиха, микрорайон Железнодорожный, Саввинское шоссе, 4, корп. 2</p>\n",
       "        <p><strong>Название:</strong><br>Фабрика; Fabrika; Fabrik; Фабрика разливных напитков</p>\n",
       "        <p><strong>Рубрика:</strong><br>Магазин пива</p>\n",
       "        <p><strong>Описание:</strong><br>nan</p>\n",
       "        <p><strong>Relevance:</strong> 0.0</p>\n",
       "        <p><strong>Отзывы:</strong><br>Организация занимается продажей пива, морепродуктов и алкогольных напитков. Тональность отзывов смешанная: большинство отзывов положительные, но есть несколько негативных. Хвалят широкий выбор товаров, вежливость персонала, акции и высокое качество продукции. Критикуют обман при продаже, грубое отношение персонала и проблемы с поставками.\n",
       "\n",
       "| 1. Пользователь отмечает широкий выбор напитков | 2. Критикует обман при продаже и хамское отношение персонала | 3. Грубый персонал | 4. Хвалят прекрасный дизайн, большой выбор и приветливый персонал | 5. Критикует обсчёт и отсутствие извинений со стороны персонала | 6. Хвалят большой выбор и вежливого продавца | 7. Критикует ухудшение качества услуг и продукции после ухода сотрудника | 8. Рекомендуют магазин любителям крафта и отмечают наличие вкусных креветок | 9. Критикует хамское отношение и продажу просрочки | 10. Отмечают приятные акции, но критикуют обслуживание | 11. Хвалят качество пива и внимательность персонала | 12. Критикует добавление в чек лишнего и отказ в возврате денег | 13. Хвалят ассортимент пива, работу персонала и атмосферу заведения | 14. Отмечают хорошее обслуживание и акции | 15. Хвалят вежливый персонал, свежее пиво и закуски | 16. Рекомендуют пиво и отмечают хороший выбор | 17. Хвалят разнообразие разливного пива и крафта | 18. Отмечают наличие пива, рыбы и мясных чипсов | 19. Хвалят позитивный настрой продавца | 20. Рекомендуют заведение и отмечают дружелюбный персонал | 21. Отмечают хороший ассортимент | 22. Хвалят магазин | 23. Отмечают отличный выбор пива и нормальные цены | 24. Хвалят продавца Анну за вежливость и внимательность | 25. Отмечают большой ассортимент и приятный магазин | 26. Рекомендуют магазин за большой выбор рыбы и напитков | 27. Хвалят наличие рыбы и пива, приветливый персонал | 28. Отмечают свежее пиво и рыбу, отзывчивый персонал | 29. Хвалят большой выбор и высокое качество | 30. Рекомендуют магазин и пиво</p>\n",
       "        <p><strong>GPT ответ:</strong> RELEVANT_PLUS<br>\n",
       "           <strong>GPT предсказание:</strong> 1.0</p>\n",
       "    </div>\n",
       "    "
      ],
      "text/plain": [
       "<IPython.core.display.HTML object>"
      ]
     },
     "metadata": {},
     "output_type": "display_data"
    }
   ],
   "source": [
    "inspect_row(false_pos_df,301)"
   ]
  },
  {
   "cell_type": "code",
   "execution_count": 153,
   "id": "205975b9-2039-43d8-bcf3-4993b68de5eb",
   "metadata": {
    "tags": []
   },
   "outputs": [
    {
     "data": {
      "text/plain": [
       "1.0    6\n",
       "0.0    2\n",
       "Name: relevance, dtype: int64"
      ]
     },
     "execution_count": 153,
     "metadata": {},
     "output_type": "execute_result"
    }
   ],
   "source": [
    "train_data[((train_data['text'] == 'пиво разливное') | (train_data['text'] == 'разливное пиво')) & \n",
    "     (train_data['reviews_summarized'].str.contains('разливн.+пив', na=False)) & \n",
    "     (train_data['normalized_main_rubric_name_ru'] == 'Магазин пива')]['relevance'].value_counts()"
   ]
  },
  {
   "cell_type": "markdown",
   "id": "0ba341f7-e076-4bc7-8bba-91c49f6147cd",
   "metadata": {},
   "source": [
    "Скорее, ошибка асессора судя по разбросу relevance в обучающих данных. "
   ]
  },
  {
   "cell_type": "code",
   "execution_count": 170,
   "id": "7996ac11-c7b3-4685-b69c-a04c63c129b5",
   "metadata": {
    "tags": []
   },
   "outputs": [
    {
     "data": {
      "text/html": [
       "\n",
       "    <div style=\"border:1px solid #ccc; padding:16px; border-radius:10px; font-family:sans-serif; background-color:#f9f9f9\">\n",
       "        <h2>📌 Index: 459</h2>\n",
       "        <p><strong>Запрос:</strong><br>Педикюр</p>\n",
       "        <p><strong>Адрес:</strong><br>Москва, Волгоградский проспект, 80/2к1</p>\n",
       "        <p><strong>Название:</strong><br>Студия маникюра Елены Фукс</p>\n",
       "        <p><strong>Рубрика:</strong><br>Ногтевая студия</p>\n",
       "        <p><strong>Описание:</strong><br>Студия маникюра Елены Фукс предоставляет широкий спектр услуг по уходу за ногтями, включая маникюр и педикюр для мужчин и женщин, наращивание и укрепление ногтей, различные виды покрытий и полировку | педикюр женский | педикюр мужской | аппаратный педикюр | маникюр мужской | аппаратный маникюр | укрепление гелем | наращивание ногтей | покрытие гель-лак | френч | снятие покрытия | полировка | парафинотерапия</p>\n",
       "        <p><strong>Relevance:</strong> 0.0</p>\n",
       "        <p><strong>Отзывы:</strong><br>Организация занимается маникюром и педикюром, имеет положительные и смешанные отзывы. Хвалят: качество работы мастеров, атмосферу, цены, вежливость персонала. Критикуют: качество услуг у некоторых мастеров, организацию записи, тесноту помещения.\n",
       "| 1. Хвалят профессионализм и аккуратность мастеров | 2. Положительный отзыв без деталей | 3. Критикуют за несоответствие заявленной цены и фактической | 4. Отзыв о смене мастера и потере интереса к другим мастерам | 5. Жалоба на травму во время процедуры и негативное впечатление | 6. Хвалят атмосферу салона | 7. Положительный отзыв о качестве маникюра и сервиса | 8. Критика сервиса и некомфортной ситуации при посещении | 9. Хвалят сервис и цены | 10. Положительный опыт с мастером Юлией | 11. Жалоба на быстрое скалывание покрытия | 12. Хвалят атмосферу и качество маникюра | 13. Положительный опыт посещения и рекомендации мастера Юли | 14. Хвалят квалификацию мастеров и удобство расположения | 15. Положительный отзыв о персонале и качестве услуг | 16. Рекомендация студии и похвалы мастерству | 17. Долголетний клиент хвалит мастеров и качество работы | 18. Положительный отзыв о работе студии и расположении | 19. Хвалят коллектив и мастеров | 20. Долголетний клиент доволен обслуживанием | 21. Положительный отзыв с акцентом на качество и скорость работы | 22. Критика организации записи и качества сервиса | 23. Жалоба на качество услуг и несоответствие ожиданиям | 24. Положительный отзыв от постоянного клиента | 25. Хвалят чистоту и профессионализм мастеров | 26. Положительный отзыв о мужском маникюре | 27. Отзыв о переезде студии и изменении впечатлений | 28. Хвалят расположение, персонал и атмосферу | 29. Положительный отзыв о мастерстве и качестве обслуживания | 30. Критика качества маникюра и его долговечности | 31. Хвалят мастеров и уютную обстановку | 32. Отзыв о ценах и атмосфере | 33. Критика тесноты помещения и отсутствия зоны для педикюра | 34. Положительный отзыв о мастерах и атмосфере | 35. Критика цен при положительных отзывах о мастерах | 36. Хвалят вежливость сотрудников и нормы стерилизации | 37. Положительный отзыв о маникюре и просмотре видео | 38. Хвалят цены и мастеров | 39. Положительный отзыв без подробностей | 40. Жалоба на некачественную работу и разочарование в результате</p>\n",
       "        <p><strong>GPT ответ:</strong> RELEVANT_PLUS<br>\n",
       "           <strong>GPT предсказание:</strong> 1.0</p>\n",
       "    </div>\n",
       "    "
      ],
      "text/plain": [
       "<IPython.core.display.HTML object>"
      ]
     },
     "metadata": {},
     "output_type": "display_data"
    }
   ],
   "source": [
    "inspect_row(false_pos_df,459)"
   ]
  },
  {
   "cell_type": "code",
   "execution_count": 178,
   "id": "5314a7af-638f-4172-b7d9-db1343a9cdb8",
   "metadata": {
    "tags": []
   },
   "outputs": [
    {
     "data": {
      "text/html": [
       "\n",
       "    <div style=\"border:1px solid #ccc; padding:16px; border-radius:10px; font-family:sans-serif; background-color:#f9f9f9\">\n",
       "        <h2>📌 Index: 481</h2>\n",
       "        <p><strong>Запрос:</strong><br>пицца в сургуте</p>\n",
       "        <p><strong>Адрес:</strong><br>Ханты-Мансийский автономный округ — Югра, Сургут, улица Семена Билецкого, 6</p>\n",
       "        <p><strong>Название:</strong><br>Точка вкуса; Tochka-vkusa; Точка Вкуса</p>\n",
       "        <p><strong>Рубрика:</strong><br>Доставка еды и обедов</p>\n",
       "        <p><strong>Описание:</strong><br>«Точка вкуса» предлагает широкий ассортимент суши, роллов, пицц и других блюд, включая воки и гарниры с рисом | авокадо маки | запечённый с куриной | Калифорния | дракон | лава маки | пицца Маргарита | роллы филадельфия | сэндвич с курицей | суши унаги | тортилья с лососем | вок с куриной ветчиной | рис с курицей и овощами</p>\n",
       "        <p><strong>Relevance:</strong> 0.0</p>\n",
       "        <p><strong>Отзывы:</strong><br>Организация занимается доставкой еды и обедов, специализируется на итальянской и японской кухне (пиццы, роллы, суши, блюда WOK). Тональность отзывов преимущественно положительная. Хвалят: вкус еды, быструю доставку, вежливость персонала, разнообразие меню, акции и бонусы. Критикуют: иногда встречаются замечания о качестве рыбы в роллах и скорости приготовления. | 1. Вкусно | 2. Очень вкусно | 3. Вкусные свежие роллы | 4. Вкусная еда | 5. Быстро и вкусно, но есть замечания по качеству | 6. Отличные суши и пицца | 7. Долго готовят, но вкусно | 8. Чудесное заведение | 9. Приличные роллы, быстрая доставка | 10. Роллы разваливаются, нужно поменять су-шефов | 11. Быстрая доставка, вкусная еда | 12. Вкусно и быстро | 13. Вкусная пицца и роллы, быстрая доставка | 14. Быстрая доставка | 15. Холодная еда | 16. Вкусно и быстрая доставка | 17. Отличное качество еды | 18. Вкусная итальянская и японская кухня | 19. Отличная пицца и роллы | 20. Быстрая доставка и вежливые операторы | 21. Вкусные блюда WOK | 22. Разнообразное меню и быстрая доставка | 23. Вкусная еда и быстрая доставка | 24. Вкусно, быстро и приемлемые цены | 25. Вкусная пицца, вежливый персонал | 26. Вкусные суши и быстрая подготовка | 27. Вкусная еда, приятная атмосфера | 28. Быстрая доставка и свежие продукты | 29. Вкусные роллы и пицца | 30. Вкусная еда по доступным ценам | 31. Быстрое обслуживание и разнообразное меню | 32. Вкусная еда и доставка вовремя | 33. Уютная атмосфера и вкусная еда | 34. Быстрая доставка и вежливый персонал | 35. Вкусные блюда и качественная упаковка | 36. Уютный зал и приятная атмосфера | 37. Быстро и вкусно | 38. Вкусная еда и быстрое обслуживание | 39. Вкусные салаты и десерты | 40. Большие порции и быстрое обслуживание</p>\n",
       "        <p><strong>GPT ответ:</strong> RELEVANT_PLUS<br>\n",
       "           <strong>GPT предсказание:</strong> 1.0</p>\n",
       "    </div>\n",
       "    "
      ],
      "text/plain": [
       "<IPython.core.display.HTML object>"
      ]
     },
     "metadata": {},
     "output_type": "display_data"
    }
   ],
   "source": [
    "inspect_row(false_pos_df, 481)"
   ]
  },
  {
   "cell_type": "code",
   "execution_count": 177,
   "id": "dea62660-d56f-4fcd-99c2-566d83a9c29c",
   "metadata": {
    "tags": []
   },
   "outputs": [
    {
     "data": {
      "text/html": [
       "\n",
       "    <div style=\"border:1px solid #ccc; padding:16px; border-radius:10px; font-family:sans-serif; background-color:#f9f9f9\">\n",
       "        <h2>📌 Index: 484</h2>\n",
       "        <p><strong>Запрос:</strong><br>френдс суши самара</p>\n",
       "        <p><strong>Адрес:</strong><br>Самара, Молодогвардейская улица, 135</p>\n",
       "        <p><strong>Название:</strong><br>Фуджи; Fuji; Friend Фуджи Суши; Friends Фуджи Суши; Суши; Фуджи Суши Friends; Fuji Sushi</p>\n",
       "        <p><strong>Рубрика:</strong><br>Суши-бар</p>\n",
       "        <p><strong>Описание:</strong><br>Суши-бар и пиццерия «Фуджи» предлагает широкий выбор сетов, суши, роллов, пицц, а также блюда азиатской кухни и десерты | Сет MAX | Сет Авторский NEW | Пицца Хот Мехико | Ролл «Филадельфия» | Поке на подушке из риса с креветкой | Суп Том ям | Кесадилья с цыпленком | Салат Цезарь с курицей | Десерт Милка | WOK Пад-Тай</p>\n",
       "        <p><strong>Relevance:</strong> 0.0</p>\n",
       "        <p><strong>Отзывы:</strong><br>Организация занимается приготовлением и доставкой суши и пиццы. Отзывы смешанные: много положительных оценок вкуса блюд, но есть жалобы на долгое ожидание и качество сервиса. Хвалят: вкус роллов и пиццы, быструю доставку в некоторых случаях. Критикуют: долгое ожидание, проблемы с качеством доставки и обслуживание клиентов.\n",
       "| 1. Пользователи отмечают, что всё вкусно | 2. Положительная оценка вкуса | 3. Подчёркивается высокое качество роллов | 4. Критикуется невкусная еда | 5. Общее положительное впечатление о ресторане | 6. Жалоба на найденный посторонний предмет в еде | 7. Роллы считаются лучшими | 8. Высшая оценка заведения | 9. Положительные впечатления от роллов | 10. Ожидание открытия заведения из-за любви к роллам | 11. Рекомендация заведения | 12. Высокое качество роллов по соотношению цена — качество | 13. Положительные отзывы о вкусе и скорости доставки | 14. Жалоба на длительное ожидание и пересол | 15. Подтверждение высокого качества роллов | 16. Замечание о лучшем качестве роллов в городе | 17. Жалобы на долгое ожидание | 18. Постоянные клиенты подтверждают высокое качество роллов | 19. Замечания о проблемах с доставкой и качестве сервиса | 20. Негативные впечатления от последнего заказа | 21. Положительные впечатления от посещения заведения | 22. Замечание о высоком качестве роллов | 23. Общее положительное мнение о заведении | 24. Замечание о высоких ценах при хорошем качестве | 25. Негативный опыт с доставкой и качеством еды | 26. Положительные впечатления от доставки суши | 27. Общая положительная оценка | 28. Замечание об отличном качестве роллов и приветливом персонале | 29. Жалоба на долгое время доставки и несоответствие заявленному | 30. Негативный отзыв о качестве пиццы | 31. Замечание о лучшем качестве роллов в городе</p>\n",
       "        <p><strong>GPT ответ:</strong> RELEVANT_PLUS<br>\n",
       "           <strong>GPT предсказание:</strong> 1.0</p>\n",
       "    </div>\n",
       "    "
      ],
      "text/plain": [
       "<IPython.core.display.HTML object>"
      ]
     },
     "metadata": {},
     "output_type": "display_data"
    }
   ],
   "source": [
    "inspect_row(false_pos_df,484)"
   ]
  },
  {
   "cell_type": "markdown",
   "id": "06040882-e2ae-47d6-a2a6-026234bf623d",
   "metadata": {},
   "source": [
    "## Ошибки модели"
   ]
  },
  {
   "cell_type": "markdown",
   "id": "8864f612-b754-4b17-b4ee-78dd726f9570",
   "metadata": {},
   "source": [
    "#### Необходимо искать информацию об организации, в частности о часах работы\n",
    "Вот тут нужно тулз, чтобы сделать запрос в гугл \"адрес название организации часы работы\""
   ]
  },
  {
   "cell_type": "code",
   "execution_count": 168,
   "id": "600caf1a-402f-4a66-af31-795aa4643384",
   "metadata": {
    "tags": []
   },
   "outputs": [
    {
     "data": {
      "text/html": [
       "\n",
       "    <div style=\"border:1px solid #ccc; padding:16px; border-radius:10px; font-family:sans-serif; background-color:#f9f9f9\">\n",
       "        <h2>📌 Index: 454</h2>\n",
       "        <p><strong>Запрос:</strong><br>Шиномонтаж 24</p>\n",
       "        <p><strong>Адрес:</strong><br>Республика Калмыкия, Элиста, улица В.И. Ленина, 7, стр. 8А</p>\n",
       "        <p><strong>Название:</strong><br>Шиномонтаж</p>\n",
       "        <p><strong>Рубрика:</strong><br>Шиномонтаж</p>\n",
       "        <p><strong>Описание:</strong><br>nan</p>\n",
       "        <p><strong>Relevance:</strong> 0.0</p>\n",
       "        <p><strong>Отзывы:</strong><br>Организация занимается шиномонтажом. Отзывы положительные: хвалят высокое качество работы. | 1. Клиент доволен работой, называет её «супер» | 2. Клиент высоко оценивает качество услуг, рекомендует организацию.</p>\n",
       "        <p><strong>GPT ответ:</strong> RELEVANT_PLUS<br>\n",
       "           <strong>GPT предсказание:</strong> 1.0</p>\n",
       "    </div>\n",
       "    "
      ],
      "text/plain": [
       "<IPython.core.display.HTML object>"
      ]
     },
     "metadata": {},
     "output_type": "display_data"
    }
   ],
   "source": [
    "inspect_row(false_pos_df,454)"
   ]
  },
  {
   "cell_type": "code",
   "execution_count": 154,
   "id": "9e1ace2e-2667-4d0a-9e81-f0d7b19d0569",
   "metadata": {
    "tags": []
   },
   "outputs": [
    {
     "data": {
      "text/html": [
       "\n",
       "    <div style=\"border:1px solid #ccc; padding:16px; border-radius:10px; font-family:sans-serif; background-color:#f9f9f9\">\n",
       "        <h2>📌 Index: 37</h2>\n",
       "        <p><strong>Запрос:</strong><br>круглосуточный магазин</p>\n",
       "        <p><strong>Адрес:</strong><br>Москва, 3-я Гражданская улица, 70</p>\n",
       "        <p><strong>Название:</strong><br>Дикси; Diksi; Супермаркет Дикси; Dixi; Dixy</p>\n",
       "        <p><strong>Рубрика:</strong><br>Супермаркет</p>\n",
       "        <p><strong>Описание:</strong><br>Дикси — супермаркет, предлагающий широкий ассортимент продуктов питания и товаров первой необходимости, включая крупы, макаронные изделия, сладости, мясные и рыбные изделия, молочные продукты, а также средства личной гигиены | гречка | макароны | рис | масло подсолнечное | лапша | готовый завтрак | чечевица | туалетная бумага | мыло | молоко | корм для животных | пельмени | креветки | мороженое | наггетсы | смесь замороженная | пицца | кордон блю | конфеты | торт | печенье | говядина тушеная | огурцы маринованные | горошек зеленый | дезодорант | крем для рук | чай | кофе | сливки | сыр | масло сливочное | сметана</p>\n",
       "        <p><strong>Relevance:</strong> 0.0</p>\n",
       "        <p><strong>Отзывы:</strong><br>Организация занимается розничной торговлей, предоставляя широкий ассортимент продуктов и товаров. Отзывы смешанные: много положительных отзывов о расположении, ассортименте и чистоте, но также есть критика касательно цен, качества товаров и поведения персонала. Хвалят: расположение, ассортимент, чистоту, скидки. Критикуют: высокие цены, плохое качество товаров, грубое отношение персонала, проблемы с самообслуживанием и доставкой.\n",
       "\n",
       "1. Критикуют грубое отношение продавщицы.\n",
       "2. Цены не соответствуют качеству товаров.\n",
       "3. Отмечают наличие всех необходимых товаров.\n",
       "4. Положительно оценивают магазин в целом.\n",
       "5. Критикуют отсутствие обслуживания и грубость кассира.\n",
       "6. Жалуются на хамское отношение к покупателям.\n",
       "7. Оценка магазина на 4 из 5.\n",
       "8. Положительно отзываются о магазине.\n",
       "9. Магазин удобен для своей категории.\n",
       "10. Отмечается удобство магазина.\n",
       "11. Жалуются на грубое отношение сотрудников.\n",
       "12. Выражают любовь к магазину.\n",
       "13. Подчёркивают хороший ассортимент.\n",
       "14. Отмечают чистоту и удобное расположение.\n",
       "15. Критикуют некомпетентность продавцов.\n",
       "16. Магазин является любимым местом для покупок.\n",
       "17. Часто посещают магазин, всё нравится.\n",
       "18. Отмечают приветливых работников и удобное расположение.\n",
       "19. Жалуются на постоянные очереди и одну работающую кассу.\n",
       "20. Критикуют запах в магазине и ограниченный выбор.\n",
       "21. Положительный отзыв о качестве продуктов и приветливом персонале.\n",
       "22. Критикуют неадекватное поведение сотрудников.\n",
       "23. Жалуются на проблемы с весами и сервисом самообслуживания.\n",
       "24. Положительный отзыв об общем состоянии магазина.\n",
       "25. Жалуются на неудобное расположение проходов и работу сотрудников.\n",
       "26. Отрицательный опыт с персоналом и условиями в магазине.\n",
       "27. Положительный отзыв от случайного посетителя.\n",
       "28. Общий положительный отзыв о магазине.</p>\n",
       "        <p><strong>GPT ответ:</strong> RELEVANT_PLUS<br>\n",
       "           <strong>GPT предсказание:</strong> 1.0</p>\n",
       "    </div>\n",
       "    "
      ],
      "text/plain": [
       "<IPython.core.display.HTML object>"
      ]
     },
     "metadata": {},
     "output_type": "display_data"
    }
   ],
   "source": [
    "inspect_row(false_pos_df,37)"
   ]
  },
  {
   "cell_type": "code",
   "execution_count": 155,
   "id": "b5233834-37d2-4dfd-ba4b-ac528dc52d1c",
   "metadata": {
    "tags": []
   },
   "outputs": [
    {
     "data": {
      "text/html": [
       "\n",
       "    <div style=\"border:1px solid #ccc; padding:16px; border-radius:10px; font-family:sans-serif; background-color:#f9f9f9\">\n",
       "        <h2>📌 Index: 372</h2>\n",
       "        <p><strong>Запрос:</strong><br>алкоголь 24 часа</p>\n",
       "        <p><strong>Адрес:</strong><br>Санкт-Петербург, Ушаковская набережная, 3, корп. 2</p>\n",
       "        <p><strong>Название:</strong><br>Ароматный мир; Aromatnyj mir; Ароматный Мир</p>\n",
       "        <p><strong>Рубрика:</strong><br>Алкогольные напитки</p>\n",
       "        <p><strong>Описание:</strong><br>Магазин «Ароматный мир» предлагает широкий ассортимент продуктов, включая алкогольные напитки, закуски, посуду для сервировки и сопутствующие товары | чипсы Naitori | бастурма | Coca-Cola | бокалы для вина | наборы бокалов для шампанского | вафельная трубочка | вода минеральная | квас | напитки газированные | бальзам для губ | салфетки | наггетсы | суп замороженный | хлопья овсяные.</p>\n",
       "        <p><strong>Relevance:</strong> 0.0</p>\n",
       "        <p><strong>Отзывы:</strong><br>Организация занимается продажей алкогольных и безалкогольных напитков, имеет широкий ассортимент и вежливых сотрудников. Тональность отзывов преимущественно положительная. Хвалят: обслуживание, большой выбор, доступные цены на некоторые товары. Критикуют: проблемы с разменом, высокие цены на отдельные товары, ограниченный выбор некоторых продуктов.\n",
       "\n",
       "1. Хвалят сотрудников магазина.\n",
       "2. Отмечают прекрасное обслуживание.\n",
       "3. Благодарят за помощь в выборе товаров.\n",
       "4. Говорят о вежливых продавцах.\n",
       "5. Критикуют отсутствие размена, но хвалят персонал.\n",
       "6. Отмечают небольшой поток покупателей и большой выбор.\n",
       "7. Хвалят ассортимент и компетентность персонала.\n",
       "8. Подчёркивают шикарный сервис и большой выбор.\n",
       "9. Сравнивают цены с другими магазинами в пользу «Ароматного мира».\n",
       "10. Отмечают скидки на алкогольные напитки и вежливый персонал.\n",
       "11. Благодарят персонал за приветливость и отзывчивость.\n",
       "12. Упоминают о проблемах с парковкой, но в целом довольны.\n",
       "13. Хвалят новый коллектив и разнообразие выбора.\n",
       "14. Отмечают внимательность сотрудников.\n",
       "15. Жалуются на проблемы с жёлтыми ценниками и отказом в возврате.\n",
       "16. Говорят, что всё соответствует ожиданиям.\n",
       "17. Критикуют ограниченный выбор импортного пива.\n",
       "18. Выражают желание видеть лучший выбор вина.\n",
       "19. Считают цены завышенными.\n",
       "20. Подчёркивают качество магазина.\n",
       "21. Отмечают адекватность цен и широкий ассортимент.\n",
       "22. Говорят о хороших ценах и уверенности в качестве продукции.\n",
       "23. Упоминают информационную поддержку и скидки по карте сети.\n",
       "24. Благодарят за рекомендации вин.\n",
       "25. Хвалят товар и цены.\n",
       "26. Подчёркивают удобство расположения магазина.\n",
       "27. Отмечают наличие парковки.\n",
       "28. Говорят о хорошем качестве и ценах.\n",
       "29. Хвалят сервис, чистоту и ассортимент.\n",
       "30. Считают магазин качественным, хоть и не дешёвым.\n",
       "31. Упоминают широкий ассортимент при несколько завышенных ценах.</p>\n",
       "        <p><strong>GPT ответ:</strong> RELEVANT_PLUS<br>\n",
       "           <strong>GPT предсказание:</strong> 1.0</p>\n",
       "    </div>\n",
       "    "
      ],
      "text/plain": [
       "<IPython.core.display.HTML object>"
      ]
     },
     "metadata": {},
     "output_type": "display_data"
    }
   ],
   "source": [
    "inspect_row(false_pos_df,372)"
   ]
  },
  {
   "cell_type": "code",
   "execution_count": 171,
   "id": "3fc40a3b-7890-442a-9b7e-30087048f7f6",
   "metadata": {
    "tags": []
   },
   "outputs": [
    {
     "data": {
      "text/html": [
       "\n",
       "    <div style=\"border:1px solid #ccc; padding:16px; border-radius:10px; font-family:sans-serif; background-color:#f9f9f9\">\n",
       "        <h2>📌 Index: 468</h2>\n",
       "        <p><strong>Запрос:</strong><br>Нотариус 20:00</p>\n",
       "        <p><strong>Адрес:</strong><br>Москва, улица Бутлерова, 17</p>\n",
       "        <p><strong>Название:</strong><br>Нотариус Гайдуков Д. М.; Нотариус; Нотариус Гайдуков Д.М.</p>\n",
       "        <p><strong>Рубрика:</strong><br>Нотариусы</p>\n",
       "        <p><strong>Описание:</strong><br>nan</p>\n",
       "        <p><strong>Relevance:</strong> 0.0</p>\n",
       "        <p><strong>Отзывы:</strong><br>Организация занимается нотариальными услугами. Тональность отзывов преимущественно положительная: многие хвалят профессионализм нотариуса и оперативность работы, но есть и отрицательные отзывы, касающиеся стоимости услуг и поведения персонала. Хвалят: профессионализм, вежливость, индивидуальный подход, отсутствие очередей. Критикуют: высокую стоимость услуг, непрофессионализм коллектива, хамство.\n",
       "| 1. Пользователь высоко оценивает профессионализм нотариуса | 2. Критикует хамский тон | 3. Отмечает спокойный и невозмутимый характер нотариуса | 4. Критикует непрофессиональный коллектив и недоступность телефона | 5. Критикует медленную работу и хамство | 6. Отмечает отсутствие очередей и быструю работу | 7. Хвалят индивидуальный подход и профессиональное решение задач | 8. Отмечают чёткую работу | 9. Рекомендует нотариуса как профи своего дела | 10. Отмечают профессионализм и вежливость | 11. Отмечают быструю и профессиональную работу | 12. Считают цену завышенной, но отмечают быструю работу | 13. Отмечают быстрое оформление доверенности, но указывают на несоответствие озвученной и фактической стоимости | 14. Хвалят профессионализм и комфортные условия для клиентов | 15. Отмечают чёткую и быструю работу | 16. Подчёркивают важность предварительного звонка и приём по записи | 17. Рекомендуют нотариуса как профессионала | 18. Высоко оценивают профессионализм нотариуса | 19. Отмечают оперативную и качественную работу | 20. Подчёркивают удобство и быстроту обслуживания | 21. Хвалят оперативность и информативность | 22. Отмечают быструю и чёткую работу | 23. Рекомендуют квалифицированного и грамотного нотариуса | 24. Отмечают удобство расположения и быструю работу | 25. Хвалят оперативную работу и наличие парковочного места | 26. Советуют профессионалов | 27. Выражают благодарность | 28. Рекомендуют грамотного специалиста | 29. Отмечают разъяснительную работу нотариуса</p>\n",
       "        <p><strong>GPT ответ:</strong> RELEVANT_PLUS<br>\n",
       "           <strong>GPT предсказание:</strong> 1.0</p>\n",
       "    </div>\n",
       "    "
      ],
      "text/plain": [
       "<IPython.core.display.HTML object>"
      ]
     },
     "metadata": {},
     "output_type": "display_data"
    }
   ],
   "source": [
    "inspect_row(false_pos_df,468)"
   ]
  },
  {
   "cell_type": "code",
   "execution_count": 156,
   "id": "9c63a0ff-36f8-426b-81cf-4f9450c4d15f",
   "metadata": {
    "tags": []
   },
   "outputs": [
    {
     "data": {
      "text/html": [
       "\n",
       "    <div style=\"border:1px solid #ccc; padding:16px; border-radius:10px; font-family:sans-serif; background-color:#f9f9f9\">\n",
       "        <h2>📌 Index: 171</h2>\n",
       "        <p><strong>Запрос:</strong><br>заправка пропаном</p>\n",
       "        <p><strong>Адрес:</strong><br>Москва, Мичуринский проспект, 76А</p>\n",
       "        <p><strong>Название:</strong><br>Роснефть; Rosneft; АЗС Роснефть</p>\n",
       "        <p><strong>Рубрика:</strong><br>АЗС</p>\n",
       "        <p><strong>Описание:</strong><br>nan</p>\n",
       "        <p><strong>Relevance:</strong> 0.0</p>\n",
       "        <p><strong>Отзывы:</strong><br>Организация занимается заправкой транспортных средств, предоставляет услуги автомойки. Отзывы смешанные: есть как положительные, так и отрицательные. Хвалят: удобное расположение, быструю мойку, адекватную цену на бензин. Критикуют: отсутствие заправщиков, очереди, качество топлива, плохое обслуживание. | 1. Критикуют отсутствие заправщика | 2. Положительное мнение о заправке | 3. Удобное расположение | 4. Нормальная заправка | 5. Замечательное впечатление | 6. Жалобы на повышение цен | 7. Отсутствие дополнительных услуг (туалет, магазин) | 8. Долгое ожидание утром | 9. Хорошее обслуживание, но снижение качества топлива | 10. Отличная мойка | 11. Удобна наличие мойки | 12. Недовольство навязчивым персоналом | 13. Проблемы с недоливом и хамством | 14. Негативное впечатление от условий на заправке | 15. Трудности с оплатой через СБП | 16. Частые случаи неработающей АЗС | 17. Плохое обслуживание | 18. Грубое отношение персонала | 19. Хвалят чистоту и удобство заправки | 20. Хорошее качество бензина | 21. Быстро и качественно моют машину | 22. Проблема с недосушкой машины после мойки | 23. Удобное самообслуживание на мойке | 24. Неудобное расположение мойки самообслуживания | 25. Проблемы с качеством топлива | 26. Приятное обслуживание | 27. Очереди на мойку | 28. Негативный опыт с качеством топлива и обслуживанием | 29. Высокое качество дизельного топлива | 30. Проблемы с качеством бензина | 31. Удобная оплата через приложение | 32. Отсутствие очередей | 33. Положительные впечатления от посещения | 34. Современное оборудование для заправки | 35. Отзыв о хорошем расположении и обслуживании | 36. Обычная заправка без особых претензий | 37. Хорошая мойка | 38. Положительные впечатления от заправки | 39. Проблемы с системой скидок в приложении | 40. Низкие цены на бензин</p>\n",
       "        <p><strong>GPT ответ:</strong> RELEVANT_PLUS<br>\n",
       "           <strong>GPT предсказание:</strong> 1.0</p>\n",
       "    </div>\n",
       "    "
      ],
      "text/plain": [
       "<IPython.core.display.HTML object>"
      ]
     },
     "metadata": {},
     "output_type": "display_data"
    }
   ],
   "source": [
    "inspect_row(false_pos_df,171)"
   ]
  },
  {
   "cell_type": "markdown",
   "id": "c412824f-f171-41c6-a38d-b3ece4e5629d",
   "metadata": {},
   "source": [
    "#### Возможно, если указана какая-то конкретная организация или бренд, то нужно искать ее упоминание в предоставленной информации"
   ]
  },
  {
   "cell_type": "code",
   "execution_count": 159,
   "id": "35828eec-2965-4864-ae7a-2bad78cc5611",
   "metadata": {
    "tags": []
   },
   "outputs": [
    {
     "data": {
      "text/html": [
       "\n",
       "    <div style=\"border:1px solid #ccc; padding:16px; border-radius:10px; font-family:sans-serif; background-color:#f9f9f9\">\n",
       "        <h2>📌 Index: 186</h2>\n",
       "        <p><strong>Запрос:</strong><br>досааф</p>\n",
       "        <p><strong>Адрес:</strong><br>Самара, посёлок Управленческий, Ейский переулок, 6</p>\n",
       "        <p><strong>Название:</strong><br>Самарский областной учебный комбинат; Samarskiy oblastnoy uchebnyy kombinat; Avtoshkola Souk; Автошкола Соук; Автошкола Соук, Самарский Областной Учебный комбинат; Комбинат; Samarsky oblastnoy uchebny kombinat</p>\n",
       "        <p><strong>Рубрика:</strong><br>Автошкола</p>\n",
       "        <p><strong>Описание:</strong><br>Обучение на различные категории транспортных средств, включая погрузчики, самосвалы, автобусы, мотоциклы и тракторы, а также специальные пакеты обучения | погрузчик до 40 л.с. ктс В | погрузчик от 40 до 150 л.с. ктс С | водитель погрузчика категории В | водитель погрузчика категории С | машинист экскаватора категории С | пакет «ПОПУЛЯРНЫЙ» | обучение на категорию D автобус | обучение на категорию Е прицеп | обучение на категорию С грузовой | пакет «МАКСИМАЛЬНЫЙ» | пакет «СПЕЦИАЛЬНЫЙ» | ускоренное обучение на категории ВЕ, СЕ, с В на С, с В на D, с C на D.</p>\n",
       "        <p><strong>Relevance:</strong> 0.0</p>\n",
       "        <p><strong>Отзывы:</strong><br>Организация занимается обучением вождению в автошколе, предоставляя разнообразные программы и профессиональные курсы. Тональность отзывов исключительно положительная. Хвалят: профессионализм преподавателей, особенно Татьяны Геннадьевны, индивидуальный подход к ученикам, доступность и понятность объяснений, дружественную атмосферу на занятиях, опытных инструкторов по вождению. | 1. Пользователь доволен автошколой. | 2. Благодарность преподавателям за качественное обучение. | 3. Получение категорий А и С без проблем. | 4. Высоко оценивается работа Татьяны Геннадьевны. | 5. Рекомендация автошколы и благодарность за обучение. | 6. Положительное впечатление от обучения у Татьяны Геннадьевны. | 7. Удовольствие от занятий и рекомендация автошколы. | 8. Грамотный и лаконичный подход к обучению. | 9. Успешное завершение обучения и благодарность Татьяне Геннадьевне и инструктору. | 10. Положительное мнение об автошколе и лёгкости обучения. | 11. Профессиональное обучение и доходчивое объяснение теории. | 12. Высокое качество обучения и индивидуальный подход. | 13. Мотивация и интересное обучение. | 14. Рекомендация и благодарность лектору Татьяне Геннадьевне. | 15. Положительное впечатление и рекомендация друзьям. | 16. Лёгкость и юмор в обучении, комфортная атмосфера. | 17. Благодарность за понятное объяснение и индивидуальный подход. | 18. Профессионализм администрации и инструкторов. | 19. Разнообразие учебных программ и профессионализм коллектива. | 20. Индивидуальный подход и терпение преподавателя. | 21. Рекомендация школы и благодарность инструкторам. | 22. Довольство обучением и ценниками. | 23. Положительные впечатления от обучения и инструкторов. | 24. Благодарность за интересное обучение и помощь в преодолении волнения. | 25. Удовлетворённость практической частью и терпением инструктора.</p>\n",
       "        <p><strong>GPT ответ:</strong> RELEVANT_PLUS<br>\n",
       "           <strong>GPT предсказание:</strong> 1.0</p>\n",
       "    </div>\n",
       "    "
      ],
      "text/plain": [
       "<IPython.core.display.HTML object>"
      ]
     },
     "metadata": {},
     "output_type": "display_data"
    }
   ],
   "source": [
    "inspect_row(false_pos_df,186)"
   ]
  },
  {
   "cell_type": "markdown",
   "id": "23175e6b-b651-4d57-a4d4-9f99a8687619",
   "metadata": {},
   "source": [
    "#### Обращать внимание на нумерацию организаций"
   ]
  },
  {
   "cell_type": "code",
   "execution_count": 167,
   "id": "618f2f46-a2a1-4f44-99c3-954476fdf06b",
   "metadata": {
    "tags": []
   },
   "outputs": [
    {
     "data": {
      "text/html": [
       "\n",
       "    <div style=\"border:1px solid #ccc; padding:16px; border-radius:10px; font-family:sans-serif; background-color:#f9f9f9\">\n",
       "        <h2>📌 Index: 414</h2>\n",
       "        <p><strong>Запрос:</strong><br>Отдел полиции № 7</p>\n",
       "        <p><strong>Адрес:</strong><br>Республика Башкортостан, Уфа, улица Лесотехникума, 92/2</p>\n",
       "        <p><strong>Название:</strong><br>Отдел полиции № 6 УМВД России по городу Уфе; Territorial'nye organy Mvd Rossii; Отдел полиции № 6; Отдел полиции № 6 Октябрьский район; Отдел полиции № 6 УМВД России по г. Уфе; Отдел полиции № 6 Управления МВД России по городу Уфе; Отдел полиции № 6 при УВД; Отделение Октябрьского района г. Уфа филиала ФГУП Охрана МВД России по Республике Башкортостан; Отделение полиции; Полиция; Otdeleniye politsii</p>\n",
       "        <p><strong>Рубрика:</strong><br>Отделение полиции</p>\n",
       "        <p><strong>Описание:</strong><br>nan</p>\n",
       "        <p><strong>Relevance:</strong> 0.0</p>\n",
       "        <p><strong>Отзывы:</strong><br>Организация занимается обеспечением правопорядка и оказанием соответствующих услуг населению. Тональность отзывов смешанная: есть как положительные, так и отрицательные. Хвалят вежливость и профессионализм отдельных сотрудников. Критикуют недоступность по телефону, длительное ожидание и халатность.\n",
       "\n",
       "| 1. Не рекомендуют обращаться в отделение. | 2. Жалуются на невозможность дозвониться. | 3. Пострадавший жалуется на длительное ожидание и неэффективную работу следователей. | 4. Критикуют отсутствие обратной связи и халатность сотрудников. | 5. Положительный отзыв о быстром решении вопроса и внимательном дознавателе. | 6. Жалуются на длительное ожидание для получения номера на машину. | 7. Негативный опыт с долгим ожиданием прибытия полиции. | 8. Благодарность сотруднику за оперативность и отзывчивость. | 9. Положительный отзыв о вежливых и порядочных сотрудниках. | 10. Жалуются на недоступность участкового и невозможность связаться. | 11. Благодарность оперативнику за помощь в возврате средств. | 12. Положительный отзыв о работе старшего лейтенанта и оперуполномоченной. | 13. Жалуются на отсутствие реакции дежурных. | 14. Отрицательный опыт с грубостью и хамством со стороны дежурного. | 15. Жалуются на невозможность дозвониться до дежурной части. | 16. Жалоба на отсутствие информации о задержанном. | 17. Обвинение в мошенничестве и потере заявлений. | 18. Жалоба на необоснованный штраф от патрульной машины. | 19. Общая негативная оценка обращения в отделение. | 20. Повторное упоминание о недоступности номеров. |</p>\n",
       "        <p><strong>GPT ответ:</strong> RELEVANT_PLUS<br>\n",
       "           <strong>GPT предсказание:</strong> 1.0</p>\n",
       "    </div>\n",
       "    "
      ],
      "text/plain": [
       "<IPython.core.display.HTML object>"
      ]
     },
     "metadata": {},
     "output_type": "display_data"
    }
   ],
   "source": [
    "inspect_row(false_pos_df,414)"
   ]
  },
  {
   "cell_type": "markdown",
   "id": "9be241c0-abb1-4ae2-bb7d-8a3cbf49305d",
   "metadata": {},
   "source": [
    "#### Уточнить промт - просить искать в prices_summarized, если поле не пустое. Искать конкретные услуги\\товары в описании, если они есть в запросе?"
   ]
  },
  {
   "cell_type": "code",
   "execution_count": 160,
   "id": "6249930d-0c64-4993-a1b5-61baf5ae7778",
   "metadata": {
    "tags": []
   },
   "outputs": [
    {
     "data": {
      "text/html": [
       "\n",
       "    <div style=\"border:1px solid #ccc; padding:16px; border-radius:10px; font-family:sans-serif; background-color:#f9f9f9\">\n",
       "        <h2>📌 Index: 218</h2>\n",
       "        <p><strong>Запрос:</strong><br>ринопластика в дагестане</p>\n",
       "        <p><strong>Адрес:</strong><br>Республика Дагестан, Махачкала, улица Гайдара Гаджиева, 24Ж</p>\n",
       "        <p><strong>Название:</strong><br>Лекарь; Lekar; Лекарь. ру; Лекарь.ру; Медицинский центр Лекарь</p>\n",
       "        <p><strong>Рубрика:</strong><br>Медцентр , клиника</p>\n",
       "        <p><strong>Описание:</strong><br>Медцентр «Лекарь» предоставляет услуги по диагностике инфекционных заболеваний методом ПЦР и комплексное стоматологическое лечение для детей и взрослых, включая лечение кариеса, установку пломб и коронок, протезирование и гигиеническую чистку. | ПЦР на H1N1 | ПЦР на Streptococcus pyogenes | Лечение кариеса молочного зуба | Установка коронки на молочный зуб | Установка имплантата | Гигиеническая чистка зубов | Первичное стоматологическое обследование</p>\n",
       "        <p><strong>Relevance:</strong> 0.0</p>\n",
       "        <p><strong>Отзывы:</strong><br>Организация занимается предоставлением медицинских услуг, включая диагностику и лечение. Отзывы смешанные: много положительных отзывов о профессионализме врачей и качестве обслуживания, но также есть критика высоких цен и проблем с очередями. Хвалят: профессионализм врачей, чистоту и порядок, вежливость персонала. Критикуют: высокие цены, большие очереди, проблемы с парковкой и качеством некоторых услуг.\n",
       "\n",
       "| 1. Критикуют высокие цены | 2. Хвалят профессионализм специалистов | 3. Отмечают удобство посещения | 4. Критикуют высокую стоимость и роскошь | 5. Выражают только негатив от посещения | 6. Считают клинику лучшей | 7. Критикуют болезненную процедуру ФГДС | 8. Отмечают нереальные очереди | 9. Хвалят профессионализм врачей | 10. Не рекомендуют клинику, если есть другие варианты | 11. Критикуют аппарат МРТ | 12. Отмечают чистоту и аккуратность | 13. Считают, что высокие цены оправдываются скоростью обслуживания | 14. Хвалят быстрые ответы анализов и профессионализм | 15. Рекомендуют клинику | 16. Отмечают вежливость докторов | 17. Подчёркивают высокие цены за приём | 18. Считают место хорошим, но немного дорогим | 19. Хвалят медицинский персонал | 20. Отмечают большие очереди | 21. Рекомендуют конкретного дерматолога | 22. Подчёркивают профессионализм конкретного врача | 23. Критикуют отсутствие специалистов в определённой области | 24. Хвалят клинику в целом | 25. Отмечают положительные изменения по сравнению с прошлым названием клиники | 26. Благодарят за прекрасное обслуживание | 27. Критикуют неправильные ответы анализов | 28. Подчёркивают высокую стоимость консультаций | 29. Рекомендуют конкретного врача | 30. Критикуют высокие цены и необходимость больших расходов | 31. Хвалят внимательность обслуживающего персонала | 32. Выражают недовольство неэффективным лечением | 33. Критикуют отсутствие парковки | 34. Подчёркивают очень высокие цены | 35. Благодарят за хорошее обслуживание | 36. Критикуют некомпетентность врачей | 37. Хвалят грамотность врачей | 38. Подчёркивают положительные впечатления от обслуживания и персонала | 39. Критикуют качество наложения гипса | 40. Считают клинику лучшей в Дагестане</p>\n",
       "        <p><strong>GPT ответ:</strong> RELEVANT_PLUS<br>\n",
       "           <strong>GPT предсказание:</strong> 1.0</p>\n",
       "    </div>\n",
       "    "
      ],
      "text/plain": [
       "<IPython.core.display.HTML object>"
      ]
     },
     "metadata": {},
     "output_type": "display_data"
    }
   ],
   "source": [
    "inspect_row(false_pos_df,218)"
   ]
  },
  {
   "cell_type": "markdown",
   "id": "b81769bb-d5d0-45be-a18d-292df9ed634e",
   "metadata": {},
   "source": [
    "* если запрос - какая-то медицинская процедура, то она в явном виде должна быть указана в описании организации"
   ]
  },
  {
   "cell_type": "code",
   "execution_count": 161,
   "id": "2543c258-50ab-4198-9e90-f696ebbe77a0",
   "metadata": {
    "tags": []
   },
   "outputs": [
    {
     "data": {
      "text/html": [
       "\n",
       "    <div style=\"border:1px solid #ccc; padding:16px; border-radius:10px; font-family:sans-serif; background-color:#f9f9f9\">\n",
       "        <h2>📌 Index: 242</h2>\n",
       "        <p><strong>Запрос:</strong><br>мрт</p>\n",
       "        <p><strong>Адрес:</strong><br>Мурманск, улица Володарского, 18А</p>\n",
       "        <p><strong>Название:</strong><br>Мурманский областной клинический многопрофильный центр; Многопрофильный центр; Городская клиническая больница; МОКМЦ; Мокмц; Мурманская городская клиническая больница скорой медицинской помощи</p>\n",
       "        <p><strong>Рубрика:</strong><br>Больница для взрослых</p>\n",
       "        <p><strong>Описание:</strong><br>nan</p>\n",
       "        <p><strong>Relevance:</strong> 0.0</p>\n",
       "        <p><strong>Отзывы:</strong><br>Общий обзор отзывов: Мурманский областной клинический многопрофильный центр оказывает широкий спектр медицинских услуг. Тональность отзывов смешанная: много положительных отзывов о работе персонала и уровне медицинской помощи, но есть и критические замечания о состоянии помещений и отдельных случаях некачественного обслуживания. Хвалят квалификацию врачей и внимательность персонала. Критикуют состояние инфраструктуры и отдельные случаи грубого отношения.\n",
       "\n",
       "Суммаризация 1: Пользователи хвалят специалистов центра.\n",
       "Суммаризация 2: Общее впечатление положительное, но есть небольшие замечания.\n",
       "Суммаризация 3: Высоко оценивают работу кардиологии и конкретного врача.\n",
       "Суммаризация 4: Критикуют приёмное отделение за переадресацию пациентов.\n",
       "Суммаризация 5: Отмечают внимательность персонала и положительные впечатления от больницы.\n",
       "Суммаризация 6: Быстрое и вежливое обслуживание при КТ.\n",
       "Суммаризация 7: Положительно оценивают питание, но отмечают медлительность.\n",
       "Суммаризация 8: Критикуют отношение офтальмолога к пациентам.\n",
       "Суммаризация 9: Подчёркивают хорошее отношение персонала.\n",
       "Суммаризация 10: Хвалят персонал и быструю помощь.\n",
       "Суммаризация 11: Отмечают нехватку персонала и необходимость ремонта.\n",
       "Суммаризация 12: Полностью положительные впечатления от центра.\n",
       "Суммаризация 13: Положительный отзыв о детском отделении и быстрой помощи.\n",
       "Суммаризация 14: Считают больницу одной из лучших в городе.\n",
       "Суммаризация 15: Указывают на устаревшие условия и квалифицированный персонал.\n",
       "Суммаризация 16: Положительно отзываются о клинике и команде.\n",
       "Суммаризация 17: Нейтральный отзыв с упоминанием скудного питания.\n",
       "Суммаризация 18: Критически отзываются о двух медсестрах в приёмном покое.\n",
       "Суммаризация 19: Быстрое обслуживание в детском травмпункте.\n",
       "Суммаризация 20: Критикуют врача за некачественную помощь.</p>\n",
       "        <p><strong>GPT ответ:</strong> RELEVANT_PLUS<br>\n",
       "           <strong>GPT предсказание:</strong> 1.0</p>\n",
       "    </div>\n",
       "    "
      ],
      "text/plain": [
       "<IPython.core.display.HTML object>"
      ]
     },
     "metadata": {},
     "output_type": "display_data"
    }
   ],
   "source": [
    "inspect_row(false_pos_df,242)"
   ]
  },
  {
   "cell_type": "code",
   "execution_count": 166,
   "id": "cbf34f72-43ba-4f08-be2b-1a91f74b5603",
   "metadata": {
    "tags": []
   },
   "outputs": [
    {
     "data": {
      "text/html": [
       "\n",
       "    <div style=\"border:1px solid #ccc; padding:16px; border-radius:10px; font-family:sans-serif; background-color:#f9f9f9\">\n",
       "        <h2>📌 Index: 403</h2>\n",
       "        <p><strong>Запрос:</strong><br>Ювелирные украшения отДали</p>\n",
       "        <p><strong>Адрес:</strong><br>Москва, Таганская улица, 3</p>\n",
       "        <p><strong>Название:</strong><br>Златоград; ZlatoGrad</p>\n",
       "        <p><strong>Рубрика:</strong><br>Ювелирный магазин</p>\n",
       "        <p><strong>Описание:</strong><br>Ювелирный магазин «Златоград» предлагает широкий ассортимент браслетов и брошей из различных видов золота с драгоценными и полудрагоценными камнями. | брошь из золота с фианитами | брошь из золота с жемчугом | браслет из белого золота с бриллиантами | браслет из жёлтого золота с бриллиантами | колье из золота с бриллиантами и сапфирами | браслет из красного золота с топазами</p>\n",
       "        <p><strong>Relevance:</strong> 0.0</p>\n",
       "        <p><strong>Отзывы:</strong><br>Организация занимается продажей и изготовлением ювелирных украшений, в частности обручальных и помолвочных колец. Отзывы преимущественно положительные: хвалят большой выбор, приятные цены, вежливость и профессионализм персонала. Критикуют отдельные случаи некачественного товара и обслуживания. | 1. Хвалят большой выбор украшений и приятные цены | 2. Отмечают большой выбор обручальных колец | 3. Подчёркивают помощь продавца и бесплатную подгонку кольца | 4. Положительный отзыв о выборе и вежливости продавцов | 5. Благодарность за быструю доставку и качество продукта | 6. Критикуют качество кольца и обслуживание | 7. Положительный опыт заказа и доставки кольца | 8. Хвалят удобство онлайн-заказа и примерку | 9. Положительный отзыв о качестве украшений | 10. Благодарность за удобную поддержку через WhatsApp и помощь в выборе | 11. Подчёркивают большой ассортимент и внимательное отношение | 12. Хвалят профессионализм и желание помочь клиенту | 13. Положительный отзыв о качестве и дизайне колец | 14. Благодарность консультантам за работу и клиентоориентированность | 15. Положительный отзыв о большом выборе и профессионализме | 16. Критикуют навязчивость продавцов и проблемы с заказом | 17. Положительный отзыв о помощи консультантов в выборе подарка | 18. Подчёркивают красоту магазина и приятный персонал | 19. Хвалят широкий выбор и профессионализм консультантов | 20. Критикуют отсутствие понятия сервиса у продавцов | 21. Положительный отзыв о приветливом и грамотном персонале | 22. Благодарность ювелиру за увеличение размера кольца | 23. Хвалят клиентоориентированность и быструю доставку | 24. Положительный опыт покупки и доставки колец | 25. Хвалят уют магазина и доброжелательность продавцов</p>\n",
       "        <p><strong>GPT ответ:</strong> RELEVANT_PLUS<br>\n",
       "           <strong>GPT предсказание:</strong> 1.0</p>\n",
       "    </div>\n",
       "    "
      ],
      "text/plain": [
       "<IPython.core.display.HTML object>"
      ]
     },
     "metadata": {},
     "output_type": "display_data"
    }
   ],
   "source": [
    "inspect_row(false_pos_df,403)"
   ]
  },
  {
   "cell_type": "code",
   "execution_count": 157,
   "id": "e7e44d97-d775-41ac-9b7e-091402873c64",
   "metadata": {
    "tags": []
   },
   "outputs": [
    {
     "data": {
      "text/html": [
       "\n",
       "    <div style=\"border:1px solid #ccc; padding:16px; border-radius:10px; font-family:sans-serif; background-color:#f9f9f9\">\n",
       "        <h2>📌 Index: 317</h2>\n",
       "        <p><strong>Запрос:</strong><br>купить машину ауди 200</p>\n",
       "        <p><strong>Адрес:</strong><br>Московская область, городской округ Мытищи, посёлок Вёшки, торгово-промышленная зона Алтуфьево, МКАД, 85-й километр, вл5с1</p>\n",
       "        <p><strong>Название:</strong><br>Автодом Ауди Алтуфьево; Автодом Ауди; Ауди Центр Алтуфьево; Ауди центр Алтуфьево; Audi Centre Altufievo</p>\n",
       "        <p><strong>Рубрика:</strong><br>Автосалон</p>\n",
       "        <p><strong>Описание:</strong><br>Автосалон и автосервис, предлагающие услуги по обслуживанию и ремонту автомобилей, включая сезонное хранение колёс, кузовной ремонт и техническое обслуживание | сезонное хранение колёс | кузовной ремонт | антибактериальная обработка | замена масла в АКПП/DSG | зимний шиномонтаж</p>\n",
       "        <p><strong>Relevance:</strong> 0.0</p>\n",
       "        <p><strong>Отзывы:</strong><br>Организация занимается продажей и обслуживанием автомобилей Audi, а также предоставляет услуги автосервиса. Тональность отзывов в основном положительная, но есть и критические замечания. Хвалят: качество сервиса, профессионализм персонала, оперативное обслуживание. Критикуют: высокие цены, инертность персонала, уменьшение ассортимента.\n",
       "\n",
       "| 1. Хвалят отличный сервис | 2. Положительный отзыв о сервисе | 3. Удовлетворенность обслуживанием | 4. Отзыв о профессионализме сотрудников | 5. Критикуют инертный персонал | 6. Нейтральный отзыв о месте | 7. Удовлетворенность качеством сервиса | 8. Хвалят персонал и работу | 9. Положительный отзыв об обслуживании | 10. Критикуют завышенные цены | 11. Положительный отзыв о работе сотрудников | 12. Хвалят профессионализм и уровень сервиса | 13. Критикуют персонал | 14. Положительный отзыв об автосалоне | 15. Хвалят обслуживание и цены | 16. Положительный отзыв о сервисном обслуживании | 17. Хвалят отзывчивый персонал | 18. Благодарность менеджеру и центру | 19. Удовлетворенность работой | 20. Положительный отзыв о вежливом персонале | 21. Положительный отзыв о ТО | 22. Критикуют обман со сроками ремонта | 23. Положительный опыт покупки и обслуживания | 24. Хвалят салон | 25. Удовлетворенность сервисом и персоналом | 26. Критикуют уменьшение ассортимента | 27. Критикуют отсутствие внимания со стороны персонала | 28. Положительный отзыв о быстром обслуживании | 29. Хвалят профессионализм сотрудников | 30. Положительный отзыв о мастерстве и качестве работы | 31. Критикуют высокие цены и навязывание кредитов | 32. Положительный опыт с доставкой детали | 33. Критический отзыв о профессионализме и несоответствии данных | 34. Удовлетворенность доступностью сервиса | 35. Положительный отзыв о чистоте и оперативности | 36. Положительный отзыв с оговоркой о ценах | 37. Хвалят конкретного технического сотрудника | 38. Положительный отзыв о сервисе | 39. Критический отзыв о клиентоориентированности | 40. Положительный опыт решения проблемы с подвеской</p>\n",
       "        <p><strong>GPT ответ:</strong> RELEVANT_PLUS<br>\n",
       "           <strong>GPT предсказание:</strong> 1.0</p>\n",
       "    </div>\n",
       "    "
      ],
      "text/plain": [
       "<IPython.core.display.HTML object>"
      ]
     },
     "metadata": {},
     "output_type": "display_data"
    }
   ],
   "source": [
    "inspect_row(false_pos_df,317)"
   ]
  },
  {
   "cell_type": "code",
   "execution_count": 176,
   "id": "21d5dcc2-e80b-4ad5-a3b2-e674d642d2b1",
   "metadata": {
    "tags": []
   },
   "outputs": [
    {
     "data": {
      "text/html": [
       "\n",
       "    <div style=\"border:1px solid #ccc; padding:16px; border-radius:10px; font-family:sans-serif; background-color:#f9f9f9\">\n",
       "        <h2>📌 Index: 480</h2>\n",
       "        <p><strong>Запрос:</strong><br>печать наклеек</p>\n",
       "        <p><strong>Адрес:</strong><br>Ростовская область, Батайск, улица Кирова, 9Б</p>\n",
       "        <p><strong>Название:</strong><br>Панорама; Panorama</p>\n",
       "        <p><strong>Рубрика:</strong><br>Фотоуслуги</p>\n",
       "        <p><strong>Описание:</strong><br>Организация «Панорама» предоставляет фотоуслуги, широкоформатную печать и полиграфические услуги, включая создание визиток и печать фотографий разных форматов, а также ксерокопирование | визитки | фото 10х15 | фото 3х4 | ксерокопия А4</p>\n",
       "        <p><strong>Relevance:</strong> 0.0</p>\n",
       "        <p><strong>Отзывы:</strong><br>Организация предоставляет фотоуслуги, широкоформатную печать и полиграфические услуги. Отзывы смешанные: много положительных отзывов о качестве услуг и скорости работы, но также есть критика грубого отношения персонала и проблем с клиентоориентированностью. Хвалят: быстрое обслуживание, профессионализм, доступные цены. Критикуют: плохое обслуживание, грубость сотрудников, проблемы с коммуникацией.\n",
       "\n",
       "| 1. Хвалят быстрое обслуживание | 2. Отмечают качество и скорость работы | 3. Подчёркивают профессионализм сотрудников | 4. Критикуют грубость в общении | 5. Довольны быстрым изготовлением фото на документы | 6. Жалуются на хамское отношение сотрудника | 7. Критикуют качество печати и длительное ожидание | 8. Выражают недовольство низким уровнем обслуживания и чванством | 9. Подчёркивают хорошее качество услуг | 10. Отмечают приветливость сотрудника и качество фото на паспорт | 11. Жалуются на отсутствие показа электронного варианта фото | 12. Критикуют общение с клиентом | 13. Хвалят профессионализм специалистов | 14. Отмечают помощь с преобразованием файлов и адекватную цену | 15. Подчёркивают качество услуг и удобный сервис | 16. Хвалят профессиональный подход и адекватные цены | 17. Отмечают оперативную печать фото и большой выбор рамок | 18. Подчёркивают качество, скорость и доступные цены | 19. Хвалят профессионализм сотрудников | 20. Отмечают оперативное выполнение заказов и высокое качество печати | 21. Критикуют хамство сотрудника и отсутствие связи внутри помещения | 22. Жалуются на проблемы с печатью документа с телефона и дополнительные расходы | 23. Хвалят качество и быструю работу | 24. Отмечают профессионализм и быстрое выполнение фото | 25. Подчёркивают высокое качество печати и скидки |</p>\n",
       "        <p><strong>GPT ответ:</strong> RELEVANT_PLUS<br>\n",
       "           <strong>GPT предсказание:</strong> 1.0</p>\n",
       "    </div>\n",
       "    "
      ],
      "text/plain": [
       "<IPython.core.display.HTML object>"
      ]
     },
     "metadata": {},
     "output_type": "display_data"
    }
   ],
   "source": [
    "inspect_row(false_pos_df, 480)"
   ]
  },
  {
   "cell_type": "markdown",
   "id": "acad490c-71e4-42ab-bc06-c687bad2f40a",
   "metadata": {},
   "source": [
    "### не игнорировать слово \"частный\""
   ]
  },
  {
   "cell_type": "code",
   "execution_count": 172,
   "id": "fd7080c3-baf2-4d38-8fd3-482e0288bf99",
   "metadata": {
    "tags": []
   },
   "outputs": [
    {
     "data": {
      "text/html": [
       "\n",
       "    <div style=\"border:1px solid #ccc; padding:16px; border-radius:10px; font-family:sans-serif; background-color:#f9f9f9\">\n",
       "        <h2>📌 Index: 467</h2>\n",
       "        <p><strong>Запрос:</strong><br>Частный детский сад</p>\n",
       "        <p><strong>Адрес:</strong><br>Саратовская область, Балаково, улица Свердлова, 5А</p>\n",
       "        <p><strong>Название:</strong><br>Детский сад № 1; MBDOU Detsky sad № 1; Детский сад Компенсирующего Вида № 1; Детский сад № 1 МДОУ; МАДОУ Детский сад № 1; МАДОУ детский сад № 1; Mbdou Detsky sad № 1</p>\n",
       "        <p><strong>Рубрика:</strong><br>Детский сад , ясли</p>\n",
       "        <p><strong>Описание:</strong><br>nan</p>\n",
       "        <p><strong>Relevance:</strong> 0.0</p>\n",
       "        <p><strong>Отзывы:</strong><br>Организация занимается воспитанием и развитием детей. Отзывы преимущественно положительные: пользователи хвалят воспитателей, условия и образовательный процесс. Критикуется необходимость дополнительных взносов на хозяйственные нужды. | 1. Детский сад признан лучшим в городе. | 2. Хвалят тёплое помещение и общую удовлетворённость. | 3. Отмечают профессионализм и любовь воспитателей и логопедов к работе. | 4. Упоминается хороший коллектив и воспитатели. | 5. Подчёркивается доброта воспитателей и удовлетворённость ребёнка. | 6. Описываются светлые и просторные группы, мало детей в группе. | 7. Отмечается профессионализм воспитателей в определённой группе и логопеда. | 8. Отмечаются приятные и профессиональные воспитатели. | 9. Хвалят коллектив и отношение к детям, но упоминается проблема с финансированием гигиены. | 10. Благодарность за хорошую работу. | 11. Положительно оценивается образовательный процесс и оборудование. | 12. Выражается благодарность за счастливое детство и успехи в учёбе. | 13. Ребёнок ходит в детский сад с радостью. | 14. Общий положительный отзыв без деталей. | 15. Упоминается одна незначительная деталь, но в целом сад оценивается положительно. | 16. Отсутствие проблем с воспитателями и заведующей. | 17. Отмечаются отзывчивые воспитатели и интересные мероприятия. | 18. Подчёркивается отзывчивость и доброта коллектива. | 19. Положительный отзыв о вежливом персонале. | 20. Краткий положительный отзыв.</p>\n",
       "        <p><strong>GPT ответ:</strong> RELEVANT_PLUS<br>\n",
       "           <strong>GPT предсказание:</strong> 1.0</p>\n",
       "    </div>\n",
       "    "
      ],
      "text/plain": [
       "<IPython.core.display.HTML object>"
      ]
     },
     "metadata": {},
     "output_type": "display_data"
    }
   ],
   "source": [
    "inspect_row(false_pos_df, 467)"
   ]
  },
  {
   "cell_type": "markdown",
   "id": "ab2dc04a-b67a-4032-a330-8989c6605df8",
   "metadata": {},
   "source": [
    "#### Если в запросе есть части адреса, тщательно проверить адрес организации"
   ]
  },
  {
   "cell_type": "code",
   "execution_count": 162,
   "id": "9b8107b5-19d3-4bf5-a04c-58be4174d533",
   "metadata": {
    "tags": []
   },
   "outputs": [
    {
     "data": {
      "text/html": [
       "\n",
       "    <div style=\"border:1px solid #ccc; padding:16px; border-radius:10px; font-family:sans-serif; background-color:#f9f9f9\">\n",
       "        <h2>📌 Index: 355</h2>\n",
       "        <p><strong>Запрос:</strong><br>салон очков на 8 марта</p>\n",
       "        <p><strong>Адрес:</strong><br>Свердловская область, Екатеринбург, проспект Ленина, 40</p>\n",
       "        <p><strong>Название:</strong><br>Счастливый взгляд; Happy look</p>\n",
       "        <p><strong>Рубрика:</strong><br>Салон оптики</p>\n",
       "        <p><strong>Описание:</strong><br>Салон оптики «Счастливый взгляд» предлагает услуги по проверке и коррекции зрения, лечению различных заболеваний глаз, а также изготовление и ремонт очков и подбор контактных линз | лечение косоглазия | лечение близорукости | подбор ночных линз | проверка зрения | изготовление очков | ремонт очков | подбор контактных линз</p>\n",
       "        <p><strong>Relevance:</strong> 0.0</p>\n",
       "        <p><strong>Отзывы:</strong><br>Организация занимается продажей и ремонтом очков, а также предоставляет услуги по проверке зрения. Тональность отзывов преимущественно положительная: пользователи хвалят персонал, качество обслуживания и ремонта, широкий выбор товаров. Критикуют отдельные аспекты обслуживания, такие как проблемы с телефонной связью и длительное ожидание.\n",
       "\n",
       "| 1. Хвалят вежливый персонал | 2. Положительный отзыв без деталей | 3. Отмечают отличный сервис и довольство услугами | 4. Подчёркивают приятный персонал и качественный ремонт очков | 5. Упоминают хороший выбор товаров | 6. Положительный опыт посещения с упоминанием ожидания и кофе | 7. Отмечают большой выбор и грамотных сотрудников | 8. Общий положительный отзыв о качестве услуг | 9. Критикуют работу персонала | 10. Жалуются на отсутствие добавочного номера и невозможность дозвониться | 11. Хвалят быстрое обслуживание и подбор оправы | 12. Положительный отзыв с акцентом на акции | 13. Положительный отзыв о оптике и ремонте | 14. Критикуют сервис телефонии и отсутствие обратной связи | 15. Положительный опыт обращения в мастерскую | 16. Отмечают большой ассортимент оправ и быстрое обслуживание | 17. Хвалят быстрый ремонт очков бесплатно | 18. Положительный отзыв о вежливом и знающим персонале | 19. Критикуют навязчивость и высокие цены | 20. Подчёркивают дружелюбное и внимательное обслуживание | 21. Положительный опыт наблюдения за ребёнком | 22. Хвалят приятное место и заботу при проверке зрения | 23. Положительный отзыв об обслуживании и быстром ремонте оправы | 24. Положительный опыт выбора очков для ребёнка | 25. Долгосрочное удовлетворение услугами компании и качественный ремонт | 26. Хвалят приветливый персонал и быструю работу мастера | 27. Положительный отзыв о заказе очков и их изготовлении | 28. Подчёркивают быстрое решение проблемы с очками и удобство посещения | 29. Положительный отзыв о салоне оптики и профессиональных консультантах | 30. Критикуют неудобство в зоне ожидания и поведение персонала | 31. Жалуются на низкую клиентоориентированность и отказ в услуге | 32. Положительный опыт ремонта очков и благодарность персоналу |</p>\n",
       "        <p><strong>GPT ответ:</strong> RELEVANT_PLUS<br>\n",
       "           <strong>GPT предсказание:</strong> 1.0</p>\n",
       "    </div>\n",
       "    "
      ],
      "text/plain": [
       "<IPython.core.display.HTML object>"
      ]
     },
     "metadata": {},
     "output_type": "display_data"
    }
   ],
   "source": [
    "inspect_row(false_pos_df,355)"
   ]
  },
  {
   "cell_type": "markdown",
   "id": "e2416e74-a6a2-4c85-94c4-61abbe877fad",
   "metadata": {},
   "source": [
    "#### Малоинформативный запрос. "
   ]
  },
  {
   "cell_type": "markdown",
   "id": "ede6eb39-22b0-48bf-8545-2315ce5ff849",
   "metadata": {},
   "source": [
    "В случае малоинформативного запроса типа \"ремонт\" - предсказывать по умолчанию IRRELEVANT..."
   ]
  },
  {
   "cell_type": "code",
   "execution_count": 163,
   "id": "77f0bccf-c07f-449a-b305-acbda4d276bd",
   "metadata": {
    "tags": []
   },
   "outputs": [
    {
     "data": {
      "text/html": [
       "\n",
       "    <div style=\"border:1px solid #ccc; padding:16px; border-radius:10px; font-family:sans-serif; background-color:#f9f9f9\">\n",
       "        <h2>📌 Index: 124</h2>\n",
       "        <p><strong>Запрос:</strong><br>фас ро</p>\n",
       "        <p><strong>Адрес:</strong><br>Москва, проспект Академика Сахарова, 18</p>\n",
       "        <p><strong>Название:</strong><br>Арбитражный суд Московской области; Court of Arbitration of the Moscow Region; Arbitration Court; Арбитражный суд; Arbitrazhny Sud Moskovskoy oblasti; Арбитражный Суд Московской области; Арбитражный суд МО; Суд; Moscow Oblast Arbitral tribunal</p>\n",
       "        <p><strong>Рубрика:</strong><br>Арбитражный суд</p>\n",
       "        <p><strong>Описание:</strong><br>nan</p>\n",
       "        <p><strong>Relevance:</strong> 0.0</p>\n",
       "        <p><strong>Отзывы:</strong><br>Организация занимается рассмотрением арбитражных дел. Отзывы смешанные: есть положительные оценки работы судей и организации процесса, но также много критики по поводу задержек заседаний, проблем с инфраструктурой и сложностями в коммуникации. | 1. Положительная оценка работы суда | 2. Отмечают справедливость решений | 3. Критикуют задержки в заседаниях | 4. Хвалят удобное расположение | 5. Упоминают необходимость ремонта здания | 6. Отмечают профессионализм судей | 7. Критикуют узкие коридоры и тесноту | 8. Подчёркивают цифровизацию процессов | 9. Жалуются на проблемы с парковкой | 10. Отмечают положительные моменты в организации работы | 11. Критикуют длительные ожидания | 12. Положительно оценивают работу персонала | 13. Отмечают проблемы с доступом к сайту | 14. Подчёркивают справедливость решений | 15. Жалуются на отсутствие электронного табло | 16. Критикуют бюрократические задержки | 17. Положительно оценивают профессионализм судей | 18. Отмечают удобство расположения | 19. Критикуют проблемы с коммуникацией | 20. Подчёркивают положительные моменты в работе столовой | 21. Жалуются на задержки в заседаниях | 22. Критикуют состояние туалетов | 23. Отмечают компетентность судей | 24. Критикуют отсутствие скамеек | 25. Положительно оценивают организацию процесса | 26. Жалуются на трудности с дозвоном | 27. Критикуют нехватку места | 28. Подчёркивают спокойствие атмосферы | 29. Отмечают доступность парковки | 30. Критикуют длительность ожидания решений | 31. Подчёркивают грамотное поведение судей</p>\n",
       "        <p><strong>GPT ответ:</strong> RELEVANT_PLUS<br>\n",
       "           <strong>GPT предсказание:</strong> 1.0</p>\n",
       "    </div>\n",
       "    "
      ],
      "text/plain": [
       "<IPython.core.display.HTML object>"
      ]
     },
     "metadata": {},
     "output_type": "display_data"
    }
   ],
   "source": [
    "inspect_row(false_pos_df,124)"
   ]
  },
  {
   "cell_type": "code",
   "execution_count": 164,
   "id": "8ddb8b93-1aa3-46aa-87a6-f0a40d187603",
   "metadata": {
    "tags": []
   },
   "outputs": [
    {
     "data": {
      "text/html": [
       "\n",
       "    <div style=\"border:1px solid #ccc; padding:16px; border-radius:10px; font-family:sans-serif; background-color:#f9f9f9\">\n",
       "        <h2>📌 Index: 434</h2>\n",
       "        <p><strong>Запрос:</strong><br>ремонт</p>\n",
       "        <p><strong>Адрес:</strong><br>Московская область, Дмитровский городской округ, Яхрома, улица Ленина, 2</p>\n",
       "        <p><strong>Название:</strong><br>АП сервис; Ap servis; Ап сервис</p>\n",
       "        <p><strong>Рубрика:</strong><br>Ремонт телефонов</p>\n",
       "        <p><strong>Описание:</strong><br>АП сервис предлагает услуги по ремонту мобильных устройств и ноутбуков, включая замену компонентов и чистку от пыли | замена аккумулятора | замена дисплея на телефоне | ремонт планшетов | чистка ноутбука | замена разъёма питания | замена дисплея на ноутбуке</p>\n",
       "        <p><strong>Relevance:</strong> 0.0</p>\n",
       "        <p><strong>Отзывы:</strong><br>Организация занимается ремонтом телефонов и компьютеров. Отзывы преимущественно положительные: хвалят качество работы, скорость ремонта и доступные цены. Критикуют отдельные случаи некачественного обслуживания и проблемы после ремонта.\n",
       "\n",
       "| 1. Хвалят отличный сервис. | 2. Отмечают приемлемые цены и качественный ремонт телефона и ноутбука. | 3. Похвалили замену клавиатуры, но отметили проблему со звуком. | 4. Довольны быстрым и недорогим ремонтом двух телефонов. | 5. Критикуют за испорченный телефон при замене стекла. | 6. Отмечают качество и скорость ремонта. | 7. Благодарят за быструю и недорогую помощь. | 8. Рекомендуют мастера Илью. | 9. Отмечают качественный ремонт, но критикуют состояние помещения. | 10. Благодарят за профессиональную работу и быструю замену камеры. | 11. Рекомендуют мастера за быстрый и качественный ремонт. | 12. Хвалят мастера за профессионализм и приятный сервис. | 13. Благодарят Илью за спасение ноутбука. | 14. Отмечают быстрый ремонт дисплея. | 15. Критикуют за некачественный ремонт телефона. | 16. Хвалят качество ремонта. | 17. Довольны ремонтом ноутбука и телефонов. | 18. Благодарят за правильную диагностику и совет по эксплуатации. | 19. Рекомендуют Илью за помощь с переносом информации. | 20. Критикуют за проблемы с ремонтом ноутбука и задержки в обслуживании. | 21. Удовлетворены соотношением цены и качества. | 22. Довольны качеством услуг. | 23. Хвалят за быстрый ремонт матрицы телефона. | 24. Отмечают качественную переклейку плёнки по адекватной цене. | 25. Похвалили за быструю и качественную работу. |</p>\n",
       "        <p><strong>GPT ответ:</strong> RELEVANT_PLUS<br>\n",
       "           <strong>GPT предсказание:</strong> 1.0</p>\n",
       "    </div>\n",
       "    "
      ],
      "text/plain": [
       "<IPython.core.display.HTML object>"
      ]
     },
     "metadata": {},
     "output_type": "display_data"
    }
   ],
   "source": [
    "inspect_row(false_pos_df,434)"
   ]
  },
  {
   "cell_type": "code",
   "execution_count": 175,
   "id": "ea3ac94c-f172-4876-878d-3bfed9c326ca",
   "metadata": {
    "tags": []
   },
   "outputs": [
    {
     "data": {
      "text/html": [
       "\n",
       "    <div style=\"border:1px solid #ccc; padding:16px; border-radius:10px; font-family:sans-serif; background-color:#f9f9f9\">\n",
       "        <h2>📌 Index: 477</h2>\n",
       "        <p><strong>Запрос:</strong><br>фгос дошкольники</p>\n",
       "        <p><strong>Адрес:</strong><br>Москва, Трифоновская улица, 51А, стр. 2</p>\n",
       "        <p><strong>Название:</strong><br>Детский сад РЖД № 5; РЖД детский сад № 5; Детский сад № 37; Детский сад № 37 РЖД; РЖД, ДС № 37; РЖД, ДС №37; Частное дошкольное образовательное учреждение детский сад № 37 Российские Железные Дороги</p>\n",
       "        <p><strong>Рубрика:</strong><br>Детский сад , ясли</p>\n",
       "        <p><strong>Описание:</strong><br>nan</p>\n",
       "        <p><strong>Relevance:</strong> 0.0</p>\n",
       "        <p><strong>Отзывы:</strong><br>Детский сад РЖД № 5 хвалят за профессионализм воспитателей, хорошие условия и разнообразные занятия. Тональность отзывов преимущественно положительная. Хвалят: воспитателей, чистоту, питание, дополнительные занятия, удобное время работы. Критикуют: недружелюбное общение по телефону.\n",
       "\n",
       "| 1. Ребенку нравится детский сад. | 2. Самый лучший детский сад. | 3. Хороший садик, внучка ходила с удовольствием. | 4. Хороший садик, второй ребенок ходит без проблем. | 5. Профессиональные воспитатели, чистота и обновление игрушек. | 6. Были проблемы после смены руководства, упоминаются поборы. | 7. Рекомендую детский сад. | 8. Ребенок быстро привык, доволен занятиями и группой выходного дня. | 9. Сад хороший, за детьми следят, кормят хорошо, есть дополнительные занятия. | 10. Лучший детский сад, благодарны воспитателям и сотрудникам. | 11. Организованная работа с детьми, интересные занятия. | 12. Приличное заведение. | 13. Отличное отношение к детям, потрясающая подготовка к школе. | 14. Ходим в этот сад, старшая дочь давно выпустилась, воспоминания хорошие. | 15. Пожалуй, это лучший сад, индивидуальное отношение к каждому ребенку. | 16. Хороший сад, ребенку нравится. | 17. Уже два года ходим и очень довольны, педсостав на уровне. | 18. Замечательный сад, рекомендую. | 19. Самый лучший садик, отличное питание, работа психолога. | 20. Ребёнку всё нравится, родители довольны. | 21. Всё организовано, дети вкусно накормлены, внимательны к их самочувствию. | 22. Прекрасный сад, ходим уже третий год. | 23. Вожу сюда ребенка, спасибо Екатерине Николаевне и Марине Викторовне. | 24. Лучший садик, отличная работа психологов, логопедов, воспитателей. | 25. Насыщенная жизнь детей, праздники и познавательные дни. | 26. Огороженная охраняемая территория, еду готовят прямо в садике. | 27. Любимый садик, внимательное отношение воспитателей. | 28. Хорошие воспитатели, в группах чисто, много развивающих занятий. | 29. Хороший сад, ребенок ходит с удовольствием, много секций и бассейн. | 30. Отличный детский сад, хорошие воспитатели, удобный график работы. | 31. Недружелюбное общение по телефону. | 32. Очень классный сад, работает до 21:00. | 33. Прекрасные воспитатели, отличный уход за детьми. | 34. Отметил для себя ответственный медицинский персонал, чистота в помещении и на территории. | 35. Самый лучший сад в мире, воспитатели и педагоги профессионалы. | 36. Отличный сад, много развивающих кружков, психолог, бассейн. | 37. Летом жизнь в детском саду насыщенна радостными событиями, экскурсии и выходы в музей. |</p>\n",
       "        <p><strong>GPT ответ:</strong> RELEVANT_PLUS<br>\n",
       "           <strong>GPT предсказание:</strong> 1.0</p>\n",
       "    </div>\n",
       "    "
      ],
      "text/plain": [
       "<IPython.core.display.HTML object>"
      ]
     },
     "metadata": {},
     "output_type": "display_data"
    }
   ],
   "source": [
    "inspect_row(false_pos_df,477)"
   ]
  },
  {
   "cell_type": "markdown",
   "id": "3581eb49-ca10-4bef-a038-20a5a8acb4fb",
   "metadata": {},
   "source": [
    "### не ясно пока"
   ]
  },
  {
   "cell_type": "code",
   "execution_count": 143,
   "id": "395d05e5-056b-40cf-8779-780247d5ef6c",
   "metadata": {
    "tags": []
   },
   "outputs": [
    {
     "data": {
      "text/html": [
       "\n",
       "    <div style=\"border:1px solid #ccc; padding:16px; border-radius:10px; font-family:sans-serif; background-color:#f9f9f9\">\n",
       "        <h2>📌 Index: 15</h2>\n",
       "        <p><strong>Запрос:</strong><br>подкачка колес</p>\n",
       "        <p><strong>Адрес:</strong><br>Москва, Тимирязевская улица, 2/3</p>\n",
       "        <p><strong>Название:</strong><br>Наш монтаж; Nashmontazh 24</p>\n",
       "        <p><strong>Рубрика:</strong><br>Шиномонтаж</p>\n",
       "        <p><strong>Описание:</strong><br>nan</p>\n",
       "        <p><strong>Relevance:</strong> 0.0</p>\n",
       "        <p><strong>Отзывы:</strong><br>Организация занимается шиномонтажем и обслуживанием автокондиционеров. Тональность отзывов смешанная: есть как положительные, так и отрицательные. Хвалят быстрое обслуживание и профессионализм сотрудников. Критикуют высокие цены, несоответствие цен на сайте и в реальности, требование оплаты только наличными, а также недобросовестное обслуживание.\n",
       "\n",
       "| 1. Критикуют высокие цены | 2. Отмечают профессиональное обслуживание, но указывают на ограничение оплаты наличными | 3. Довольны быстрым обслуживанием без навязывания услуг | 4. Считают монтаж обычным | 5. Критикуют несоответствие цен в интернете и реальности | 6. Благодарны за помощь с балансировкой | 7. Считают цены высокими, но отмечают профессионализм мастера | 8. Указывают на ограничение оплаты наличными | 9. Критикуют некачественное обслуживание и старые инструменты | 10. Отмечают доброжелательность работников | 11. Жалуются на некачественную работу | 12. Довольны адекватными ценами и быстрым обслуживанием | 13. Критикуют несоответствие объявленных и фактических цен | 14. Жалуются на отказ в услуге из-за технического нюанса | 15. Отмечают быстрое обслуживание | 16. Критикуют недостоверную информацию о графике работы | 17. Рекомендуют за качественное обслуживание | 18. Жалуются на несоответствие прайса на сайте и реальных цен, а также на ограничение оплаты наличными | 19. Отмечают быструю работу и благодарность мастеру | 20. Довольны быстрым и качественным обслуживанием | 21. Критикуют некорректную информацию о графике работы | 22. Рекомендуют за профессионализм | 23. Жалуются на очереди и недостоверную информацию на сайте | 24. Довольны качеством работы | 25. Критикуют недобросовестное информирование и высокие цены | 26. Жалуются на маркетинговые уловки и обман | 27. Рекомендуют за быстрое и качественное обслуживание | 28. Довольны быстрой работой | 29. Отмечают удобство и быстроту обслуживания | 30. Благодарны за помощь в сложной ситуации | 31. Жалуются на очереди | 32. Довольны честным ценообразованием и качеством работы | 33. Рекомендуют за хорошее обслуживание и круглосуточную работу | 34. Критикуют сервис и состояние мастерской | 35. Довольны профессиональным обслуживанием | 36. Жалуются на отсутствие альтернативных способов оплаты | 37. Рекомендуют за быструю и качественную работу | 38. Критикуют низкое качество обслуживания и хамство персонала | 39. Жалуются на неожиданное объявление об обеде | 40. Рекомендуют за профессионализм и качество работы</p>\n",
       "        <p><strong>GPT ответ:</strong> RELEVANT_PLUS<br>\n",
       "           <strong>GPT предсказание:</strong> 1.0</p>\n",
       "    </div>\n",
       "    "
      ],
      "text/plain": [
       "<IPython.core.display.HTML object>"
      ]
     },
     "metadata": {},
     "output_type": "display_data"
    }
   ],
   "source": [
    "inspect_row(false_pos_df, 15)"
   ]
  },
  {
   "cell_type": "markdown",
   "id": "fd1e33fd-c068-4cd6-aa68-0fe589c309b3",
   "metadata": {},
   "source": [
    "### False Negatives"
   ]
  },
  {
   "cell_type": "markdown",
   "id": "762325dc-667a-43d7-a60b-bcc53208457e",
   "metadata": {},
   "source": [
    "## Ошибки модели"
   ]
  },
  {
   "cell_type": "code",
   "execution_count": 220,
   "id": "a3a8b4eb-7074-44a0-86cf-6434546139e5",
   "metadata": {
    "collapsed": true,
    "jupyter": {
     "outputs_hidden": true
    },
    "tags": []
   },
   "outputs": [
    {
     "data": {
      "text/html": [
       "<div>\n",
       "<style scoped>\n",
       "    .dataframe tbody tr th:only-of-type {\n",
       "        vertical-align: middle;\n",
       "    }\n",
       "\n",
       "    .dataframe tbody tr th {\n",
       "        vertical-align: top;\n",
       "    }\n",
       "\n",
       "    .dataframe thead th {\n",
       "        text-align: right;\n",
       "    }\n",
       "</style>\n",
       "<table border=\"1\" class=\"dataframe\">\n",
       "  <thead>\n",
       "    <tr style=\"text-align: right;\">\n",
       "      <th></th>\n",
       "      <th>text</th>\n",
       "      <th>address</th>\n",
       "      <th>name</th>\n",
       "      <th>normalized_main_rubric_name_ru</th>\n",
       "      <th>permalink</th>\n",
       "      <th>prices_summarized</th>\n",
       "      <th>relevance</th>\n",
       "      <th>reviews_summarized</th>\n",
       "      <th>gpt_response</th>\n",
       "      <th>gpt_pred_relevance</th>\n",
       "      <th>error_type</th>\n",
       "    </tr>\n",
       "  </thead>\n",
       "  <tbody>\n",
       "    <tr>\n",
       "      <th>14</th>\n",
       "      <td>где вкусно и недорого поесть на невском проспе...</td>\n",
       "      <td>Санкт-Петербург, проспект Просвещения, 19</td>\n",
       "      <td>Вкусно — и точка; Vkusno — i tochka; McDonald'...</td>\n",
       "      <td>Быстрое питание</td>\n",
       "      <td>209986321255</td>\n",
       "      <td>«Вкусно — и точка» предлагает широкий ассортим...</td>\n",
       "      <td>1.0</td>\n",
       "      <td>Организация занимается быстрым питанием, анало...</td>\n",
       "      <td>IRRELEVANT</td>\n",
       "      <td>0.0</td>\n",
       "      <td>false_negative</td>\n",
       "    </tr>\n",
       "    <tr>\n",
       "      <th>25</th>\n",
       "      <td>где дешево поесть в санкт-петербурге 2017</td>\n",
       "      <td>Санкт-Петербург, Малая Морская улица, 7</td>\n",
       "      <td>Буше; Bushe; БУШЕ пекарня-кондитерская ООО; Бу...</td>\n",
       "      <td>Пекарня</td>\n",
       "      <td>1023261511</td>\n",
       "      <td>Пекарня «Буше» предлагает широкий ассортимент ...</td>\n",
       "      <td>1.0</td>\n",
       "      <td>Организация занимается выпечкой и продажей кон...</td>\n",
       "      <td>IRRELEVANT</td>\n",
       "      <td>0.0</td>\n",
       "      <td>false_negative</td>\n",
       "    </tr>\n",
       "    <tr>\n",
       "      <th>39</th>\n",
       "      <td>тетеплый плинтус 30мм высота на профиль окна</td>\n",
       "      <td>Воронежская область, Рамонский район, Яменское...</td>\n",
       "      <td>Лемана Про; Lemana Pro; Leroy Merlin; Леруа Ме...</td>\n",
       "      <td>Строительный магазин</td>\n",
       "      <td>1583592856</td>\n",
       "      <td>Лемана Про предлагает широкий ассортимент това...</td>\n",
       "      <td>1.0</td>\n",
       "      <td>Организация «Лемана Про» занимается продажей с...</td>\n",
       "      <td>IRRELEVANT</td>\n",
       "      <td>0.0</td>\n",
       "      <td>false_negative</td>\n",
       "    </tr>\n",
       "    <tr>\n",
       "      <th>43</th>\n",
       "      <td>зал для кроссфита</td>\n",
       "      <td>Республика Башкортостан, Уфа, бульвар Тухвата ...</td>\n",
       "      <td>Лейтай; Leitai</td>\n",
       "      <td>Спортивный клуб , секция</td>\n",
       "      <td>60891450032</td>\n",
       "      <td>Спортивный клуб «Лейтай» предлагает занятия в ...</td>\n",
       "      <td>1.0</td>\n",
       "      <td>Организация «Лейтай» занимается проведением сп...</td>\n",
       "      <td>IRRELEVANT</td>\n",
       "      <td>0.0</td>\n",
       "      <td>false_negative</td>\n",
       "    </tr>\n",
       "    <tr>\n",
       "      <th>64</th>\n",
       "      <td>рестораны в тц океания</td>\n",
       "      <td>Москва, Мироновская улица, 33, стр. 28</td>\n",
       "      <td>Кавказский дворик; Kavkazsky Dvorik</td>\n",
       "      <td>Ресторан</td>\n",
       "      <td>1004953355</td>\n",
       "      <td>Ресторан «Кавказский дворик» предлагает широки...</td>\n",
       "      <td>1.0</td>\n",
       "      <td>Организация занимается предоставлением услуг в...</td>\n",
       "      <td>IRRELEVANT</td>\n",
       "      <td>0.0</td>\n",
       "      <td>false_negative</td>\n",
       "    </tr>\n",
       "    <tr>\n",
       "      <th>65</th>\n",
       "      <td>национальный парк стран мира</td>\n",
       "      <td>Калужская область, Боровский район, сельское п...</td>\n",
       "      <td>Этнографический парк-музей Этномир; Ethnograph...</td>\n",
       "      <td>Парк культуры и отдыха</td>\n",
       "      <td>44152522005</td>\n",
       "      <td>NaN</td>\n",
       "      <td>1.0</td>\n",
       "      <td>Организация занимается этнографическим туризмо...</td>\n",
       "      <td>IRRELEVANT</td>\n",
       "      <td>0.0</td>\n",
       "      <td>false_negative</td>\n",
       "    </tr>\n",
       "    <tr>\n",
       "      <th>69</th>\n",
       "      <td>автосалон лада</td>\n",
       "      <td>Москва, Сормовская улица, 21А</td>\n",
       "      <td>АвтоГЕРМЕС сервис УАЗ; AvtoGERMES Uaz; АвтоГЕР...</td>\n",
       "      <td>Автосервис , автотехцентр</td>\n",
       "      <td>120603898139</td>\n",
       "      <td>АвтоГЕРМЕС сервис УАЗ предоставляет услуги по ...</td>\n",
       "      <td>1.0</td>\n",
       "      <td>АвтоГЕРМЕС сервис УАЗ занимается обслуживанием...</td>\n",
       "      <td>IRRELEVANT</td>\n",
       "      <td>0.0</td>\n",
       "      <td>false_negative</td>\n",
       "    </tr>\n",
       "    <tr>\n",
       "      <th>71</th>\n",
       "      <td>текстиль метро</td>\n",
       "      <td>Москва, шоссе Энтузиастов, 12, корп. 2</td>\n",
       "      <td>Домовой; Domovoj; Домовой Город; Domovoy</td>\n",
       "      <td>Товары для дома</td>\n",
       "      <td>212544904787</td>\n",
       "      <td>Магазин «Домовой» предлагает широкий ассортиме...</td>\n",
       "      <td>1.0</td>\n",
       "      <td>Организация «Домовой» занимается продажей това...</td>\n",
       "      <td>IRRELEVANT</td>\n",
       "      <td>0.0</td>\n",
       "      <td>false_negative</td>\n",
       "    </tr>\n",
       "    <tr>\n",
       "      <th>79</th>\n",
       "      <td>рестораны москва сити</td>\n",
       "      <td>Москва, улица Большая Дмитровка, 7/5с2</td>\n",
       "      <td>Tehnikum; Техникум; Бистро Tehnikum; Ресторан ...</td>\n",
       "      <td>Ресторан</td>\n",
       "      <td>1753926793</td>\n",
       "      <td>Ресторан Tehnikum предлагает широкий выбор блю...</td>\n",
       "      <td>1.0</td>\n",
       "      <td>Организация занимается ресторанным бизнесом в ...</td>\n",
       "      <td>IRRELEVANT</td>\n",
       "      <td>0.0</td>\n",
       "      <td>false_negative</td>\n",
       "    </tr>\n",
       "    <tr>\n",
       "      <th>96</th>\n",
       "      <td>франшиза итальянского ресторана</td>\n",
       "      <td>Москва, улица Большая Полянка, 30</td>\n",
       "      <td>Сиеста вино &amp; паста; Siesta wine &amp; pasta; Кули...</td>\n",
       "      <td>Ресторан</td>\n",
       "      <td>95131072317</td>\n",
       "      <td>Ресторан «Сиеста вино &amp; паста» предлагает широ...</td>\n",
       "      <td>1.0</td>\n",
       "      <td>Организация «Сиеста вино &amp; паста» занимается р...</td>\n",
       "      <td>IRRELEVANT</td>\n",
       "      <td>0.0</td>\n",
       "      <td>false_negative</td>\n",
       "    </tr>\n",
       "    <tr>\n",
       "      <th>104</th>\n",
       "      <td>стоматологическая клиника на метро аэропорт</td>\n",
       "      <td>Москва, проезд Берёзовой Рощи, 6</td>\n",
       "      <td>РуДента; RuDenta; Стоматологическая клиника Ру...</td>\n",
       "      <td>Стоматологическая клиника</td>\n",
       "      <td>1178556448</td>\n",
       "      <td>Стоматологическая клиника «РуДента» предлагает...</td>\n",
       "      <td>1.0</td>\n",
       "      <td>Организация занимается стоматологическими услу...</td>\n",
       "      <td>IRRELEVANT</td>\n",
       "      <td>0.0</td>\n",
       "      <td>false_negative</td>\n",
       "    </tr>\n",
       "    <tr>\n",
       "      <th>128</th>\n",
       "      <td>недорогие интересные кафе москвы</td>\n",
       "      <td>Москва, улица Маросейка, 4/2с3</td>\n",
       "      <td>Мичелада; Michelada</td>\n",
       "      <td>Бар , паб</td>\n",
       "      <td>37098848122</td>\n",
       "      <td>Ресторан «Мичелада» предлагает широкий выбор б...</td>\n",
       "      <td>1.0</td>\n",
       "      <td>Организация занимается подачей мексиканской ку...</td>\n",
       "      <td>IRRELEVANT</td>\n",
       "      <td>0.0</td>\n",
       "      <td>false_negative</td>\n",
       "    </tr>\n",
       "    <tr>\n",
       "      <th>132</th>\n",
       "      <td>семейные обеды по выходным в ресторанах</td>\n",
       "      <td>Москва, Цветной бульвар, 2</td>\n",
       "      <td>Рыба моя; Ryba moya; Рыба моя на Цветном</td>\n",
       "      <td>Ресторан</td>\n",
       "      <td>236844928727</td>\n",
       "      <td>Ресторан «Рыба моя» предлагает широкий выбор с...</td>\n",
       "      <td>1.0</td>\n",
       "      <td>Организация занимается ресторанным бизнесом, с...</td>\n",
       "      <td>IRRELEVANT</td>\n",
       "      <td>0.0</td>\n",
       "      <td>false_negative</td>\n",
       "    </tr>\n",
       "    <tr>\n",
       "      <th>136</th>\n",
       "      <td>htvjyn dtkjcbgtljd</td>\n",
       "      <td>Красноярск, проспект имени Газеты Красноярский...</td>\n",
       "      <td>Спортмастер; Sportmaster</td>\n",
       "      <td>Ремонт спортивного инвентаря</td>\n",
       "      <td>134150571733</td>\n",
       "      <td>Спортмастер предоставляет услуги по ремонту и ...</td>\n",
       "      <td>1.0</td>\n",
       "      <td>Организация занимается продажей спортивного ин...</td>\n",
       "      <td>IRRELEVANT</td>\n",
       "      <td>0.0</td>\n",
       "      <td>false_negative</td>\n",
       "    </tr>\n",
       "    <tr>\n",
       "      <th>149</th>\n",
       "      <td>пивной ресторан на соколе вместо дурдин</td>\n",
       "      <td>Москва, Ленинский проспект, 28</td>\n",
       "      <td>Пивнушка; Pivnushka</td>\n",
       "      <td>Ресторан</td>\n",
       "      <td>1174011111</td>\n",
       "      <td>Ресторан предлагает разнообразные блюда: мясны...</td>\n",
       "      <td>1.0</td>\n",
       "      <td>Организация «Пивнушка» — это легендарное пивно...</td>\n",
       "      <td>IRRELEVANT</td>\n",
       "      <td>0.0</td>\n",
       "      <td>false_negative</td>\n",
       "    </tr>\n",
       "    <tr>\n",
       "      <th>150</th>\n",
       "      <td>где вкусно и недорого поесть в геленджике отзывы</td>\n",
       "      <td>Краснодарский край, Новороссийск, улица Мира, 3</td>\n",
       "      <td>Вкусно — и точка; Vkusno — i tochka; McDonalds...</td>\n",
       "      <td>Быстрое питание</td>\n",
       "      <td>185688365789</td>\n",
       "      <td>Ресторан быстрого питания «Вкусно — и точка» п...</td>\n",
       "      <td>1.0</td>\n",
       "      <td>Организация занимается быстрым питанием, имеет...</td>\n",
       "      <td>IRRELEVANT</td>\n",
       "      <td>0.0</td>\n",
       "      <td>false_negative</td>\n",
       "    </tr>\n",
       "    <tr>\n",
       "      <th>157</th>\n",
       "      <td>итальянский ресторан профсоюзная</td>\n",
       "      <td>Москва, улица Сретенка, 26/1</td>\n",
       "      <td>Maurizio; Маурицио</td>\n",
       "      <td>Ресторан</td>\n",
       "      <td>100806291185</td>\n",
       "      <td>Ресторан Maurizio предлагает широкий выбор блю...</td>\n",
       "      <td>1.0</td>\n",
       "      <td>Организация занимается предоставлением услуг в...</td>\n",
       "      <td>IRRELEVANT</td>\n",
       "      <td>0.0</td>\n",
       "      <td>false_negative</td>\n",
       "    </tr>\n",
       "    <tr>\n",
       "      <th>158</th>\n",
       "      <td>чай</td>\n",
       "      <td>Москва, Люсиновская улица, 2, стр. 1</td>\n",
       "      <td>У Палыча</td>\n",
       "      <td>Кондитерская</td>\n",
       "      <td>31581915410</td>\n",
       "      <td>Кондитерская «У Палыча» предлагает разнообразн...</td>\n",
       "      <td>1.0</td>\n",
       "      <td>Организация «У Палыча» занимается продажей вып...</td>\n",
       "      <td>IRRELEVANT</td>\n",
       "      <td>0.0</td>\n",
       "      <td>false_negative</td>\n",
       "    </tr>\n",
       "    <tr>\n",
       "      <th>169</th>\n",
       "      <td>мрэо сетунский проезд</td>\n",
       "      <td>Москва, Хорошёвское шоссе, 42А</td>\n",
       "      <td>Отделение регистрации МО ГИБДД ТНРЭР № 2 ГУ МВ...</td>\n",
       "      <td>МРЭО</td>\n",
       "      <td>1385767389</td>\n",
       "      <td>NaN</td>\n",
       "      <td>1.0</td>\n",
       "      <td>Организация занимается регистрацией транспортн...</td>\n",
       "      <td>IRRELEVANT</td>\n",
       "      <td>0.0</td>\n",
       "      <td>false_negative</td>\n",
       "    </tr>\n",
       "    <tr>\n",
       "      <th>170</th>\n",
       "      <td>сколько стоит капитальный ремонт двигателя</td>\n",
       "      <td>Ленинградская область, Всеволожский район, Зан...</td>\n",
       "      <td>АвтоЛидер; AvtoLider</td>\n",
       "      <td>Автосервис , автотехцентр</td>\n",
       "      <td>1216115784</td>\n",
       "      <td>АвтоЛидер предоставляет услуги по ремонту и об...</td>\n",
       "      <td>1.0</td>\n",
       "      <td>Организация занимается ремонтом автомобилей, в...</td>\n",
       "      <td>IRRELEVANT</td>\n",
       "      <td>0.0</td>\n",
       "      <td>false_negative</td>\n",
       "    </tr>\n",
       "  </tbody>\n",
       "</table>\n",
       "</div>"
      ],
      "text/plain": [
       "                                                  text  \\\n",
       "14   где вкусно и недорого поесть на невском проспе...   \n",
       "25           где дешево поесть в санкт-петербурге 2017   \n",
       "39        тетеплый плинтус 30мм высота на профиль окна   \n",
       "43                                   зал для кроссфита   \n",
       "64                              рестораны в тц океания   \n",
       "65                        национальный парк стран мира   \n",
       "69                                      автосалон лада   \n",
       "71                                      текстиль метро   \n",
       "79                               рестораны москва сити   \n",
       "96                     франшиза итальянского ресторана   \n",
       "104        стоматологическая клиника на метро аэропорт   \n",
       "128                   недорогие интересные кафе москвы   \n",
       "132            семейные обеды по выходным в ресторанах   \n",
       "136                                 htvjyn dtkjcbgtljd   \n",
       "149            пивной ресторан на соколе вместо дурдин   \n",
       "150   где вкусно и недорого поесть в геленджике отзывы   \n",
       "157                   итальянский ресторан профсоюзная   \n",
       "158                                                чай   \n",
       "169                              мрэо сетунский проезд   \n",
       "170         сколько стоит капитальный ремонт двигателя   \n",
       "\n",
       "                                               address  \\\n",
       "14           Санкт-Петербург, проспект Просвещения, 19   \n",
       "25             Санкт-Петербург, Малая Морская улица, 7   \n",
       "39   Воронежская область, Рамонский район, Яменское...   \n",
       "43   Республика Башкортостан, Уфа, бульвар Тухвата ...   \n",
       "64              Москва, Мироновская улица, 33, стр. 28   \n",
       "65   Калужская область, Боровский район, сельское п...   \n",
       "69                       Москва, Сормовская улица, 21А   \n",
       "71              Москва, шоссе Энтузиастов, 12, корп. 2   \n",
       "79              Москва, улица Большая Дмитровка, 7/5с2   \n",
       "96                   Москва, улица Большая Полянка, 30   \n",
       "104                   Москва, проезд Берёзовой Рощи, 6   \n",
       "128                     Москва, улица Маросейка, 4/2с3   \n",
       "132                         Москва, Цветной бульвар, 2   \n",
       "136  Красноярск, проспект имени Газеты Красноярский...   \n",
       "149                     Москва, Ленинский проспект, 28   \n",
       "150    Краснодарский край, Новороссийск, улица Мира, 3   \n",
       "157                       Москва, улица Сретенка, 26/1   \n",
       "158               Москва, Люсиновская улица, 2, стр. 1   \n",
       "169                     Москва, Хорошёвское шоссе, 42А   \n",
       "170  Ленинградская область, Всеволожский район, Зан...   \n",
       "\n",
       "                                                  name  \\\n",
       "14   Вкусно — и точка; Vkusno — i tochka; McDonald'...   \n",
       "25   Буше; Bushe; БУШЕ пекарня-кондитерская ООО; Бу...   \n",
       "39   Лемана Про; Lemana Pro; Leroy Merlin; Леруа Ме...   \n",
       "43                                      Лейтай; Leitai   \n",
       "64                 Кавказский дворик; Kavkazsky Dvorik   \n",
       "65   Этнографический парк-музей Этномир; Ethnograph...   \n",
       "69   АвтоГЕРМЕС сервис УАЗ; AvtoGERMES Uaz; АвтоГЕР...   \n",
       "71            Домовой; Domovoj; Домовой Город; Domovoy   \n",
       "79   Tehnikum; Техникум; Бистро Tehnikum; Ресторан ...   \n",
       "96   Сиеста вино & паста; Siesta wine & pasta; Кули...   \n",
       "104  РуДента; RuDenta; Стоматологическая клиника Ру...   \n",
       "128                                Мичелада; Michelada   \n",
       "132           Рыба моя; Ryba moya; Рыба моя на Цветном   \n",
       "136                           Спортмастер; Sportmaster   \n",
       "149                                Пивнушка; Pivnushka   \n",
       "150  Вкусно — и точка; Vkusno — i tochka; McDonalds...   \n",
       "157                                 Maurizio; Маурицио   \n",
       "158                                           У Палыча   \n",
       "169  Отделение регистрации МО ГИБДД ТНРЭР № 2 ГУ МВ...   \n",
       "170                               АвтоЛидер; AvtoLider   \n",
       "\n",
       "    normalized_main_rubric_name_ru     permalink  \\\n",
       "14                 Быстрое питание  209986321255   \n",
       "25                         Пекарня    1023261511   \n",
       "39            Строительный магазин    1583592856   \n",
       "43        Спортивный клуб , секция   60891450032   \n",
       "64                        Ресторан    1004953355   \n",
       "65          Парк культуры и отдыха   44152522005   \n",
       "69       Автосервис , автотехцентр  120603898139   \n",
       "71                 Товары для дома  212544904787   \n",
       "79                        Ресторан    1753926793   \n",
       "96                        Ресторан   95131072317   \n",
       "104      Стоматологическая клиника    1178556448   \n",
       "128                      Бар , паб   37098848122   \n",
       "132                       Ресторан  236844928727   \n",
       "136   Ремонт спортивного инвентаря  134150571733   \n",
       "149                       Ресторан    1174011111   \n",
       "150                Быстрое питание  185688365789   \n",
       "157                       Ресторан  100806291185   \n",
       "158                   Кондитерская   31581915410   \n",
       "169                           МРЭО    1385767389   \n",
       "170      Автосервис , автотехцентр    1216115784   \n",
       "\n",
       "                                     prices_summarized  relevance  \\\n",
       "14   «Вкусно — и точка» предлагает широкий ассортим...        1.0   \n",
       "25   Пекарня «Буше» предлагает широкий ассортимент ...        1.0   \n",
       "39   Лемана Про предлагает широкий ассортимент това...        1.0   \n",
       "43   Спортивный клуб «Лейтай» предлагает занятия в ...        1.0   \n",
       "64   Ресторан «Кавказский дворик» предлагает широки...        1.0   \n",
       "65                                                 NaN        1.0   \n",
       "69   АвтоГЕРМЕС сервис УАЗ предоставляет услуги по ...        1.0   \n",
       "71   Магазин «Домовой» предлагает широкий ассортиме...        1.0   \n",
       "79   Ресторан Tehnikum предлагает широкий выбор блю...        1.0   \n",
       "96   Ресторан «Сиеста вино & паста» предлагает широ...        1.0   \n",
       "104  Стоматологическая клиника «РуДента» предлагает...        1.0   \n",
       "128  Ресторан «Мичелада» предлагает широкий выбор б...        1.0   \n",
       "132  Ресторан «Рыба моя» предлагает широкий выбор с...        1.0   \n",
       "136  Спортмастер предоставляет услуги по ремонту и ...        1.0   \n",
       "149  Ресторан предлагает разнообразные блюда: мясны...        1.0   \n",
       "150  Ресторан быстрого питания «Вкусно — и точка» п...        1.0   \n",
       "157  Ресторан Maurizio предлагает широкий выбор блю...        1.0   \n",
       "158  Кондитерская «У Палыча» предлагает разнообразн...        1.0   \n",
       "169                                                NaN        1.0   \n",
       "170  АвтоЛидер предоставляет услуги по ремонту и об...        1.0   \n",
       "\n",
       "                                    reviews_summarized gpt_response  \\\n",
       "14   Организация занимается быстрым питанием, анало...   IRRELEVANT   \n",
       "25   Организация занимается выпечкой и продажей кон...   IRRELEVANT   \n",
       "39   Организация «Лемана Про» занимается продажей с...   IRRELEVANT   \n",
       "43   Организация «Лейтай» занимается проведением сп...   IRRELEVANT   \n",
       "64   Организация занимается предоставлением услуг в...   IRRELEVANT   \n",
       "65   Организация занимается этнографическим туризмо...   IRRELEVANT   \n",
       "69   АвтоГЕРМЕС сервис УАЗ занимается обслуживанием...   IRRELEVANT   \n",
       "71   Организация «Домовой» занимается продажей това...   IRRELEVANT   \n",
       "79   Организация занимается ресторанным бизнесом в ...   IRRELEVANT   \n",
       "96   Организация «Сиеста вино & паста» занимается р...   IRRELEVANT   \n",
       "104  Организация занимается стоматологическими услу...   IRRELEVANT   \n",
       "128  Организация занимается подачей мексиканской ку...   IRRELEVANT   \n",
       "132  Организация занимается ресторанным бизнесом, с...   IRRELEVANT   \n",
       "136  Организация занимается продажей спортивного ин...   IRRELEVANT   \n",
       "149  Организация «Пивнушка» — это легендарное пивно...   IRRELEVANT   \n",
       "150  Организация занимается быстрым питанием, имеет...   IRRELEVANT   \n",
       "157  Организация занимается предоставлением услуг в...   IRRELEVANT   \n",
       "158  Организация «У Палыча» занимается продажей вып...   IRRELEVANT   \n",
       "169  Организация занимается регистрацией транспортн...   IRRELEVANT   \n",
       "170  Организация занимается ремонтом автомобилей, в...   IRRELEVANT   \n",
       "\n",
       "     gpt_pred_relevance      error_type  \n",
       "14                  0.0  false_negative  \n",
       "25                  0.0  false_negative  \n",
       "39                  0.0  false_negative  \n",
       "43                  0.0  false_negative  \n",
       "64                  0.0  false_negative  \n",
       "65                  0.0  false_negative  \n",
       "69                  0.0  false_negative  \n",
       "71                  0.0  false_negative  \n",
       "79                  0.0  false_negative  \n",
       "96                  0.0  false_negative  \n",
       "104                 0.0  false_negative  \n",
       "128                 0.0  false_negative  \n",
       "132                 0.0  false_negative  \n",
       "136                 0.0  false_negative  \n",
       "149                 0.0  false_negative  \n",
       "150                 0.0  false_negative  \n",
       "157                 0.0  false_negative  \n",
       "158                 0.0  false_negative  \n",
       "169                 0.0  false_negative  \n",
       "170                 0.0  false_negative  "
      ]
     },
     "execution_count": 220,
     "metadata": {},
     "output_type": "execute_result"
    }
   ],
   "source": [
    "false_neg_df.head(20)"
   ]
  },
  {
   "cell_type": "markdown",
   "id": "bb1a92d9-f628-4d93-92ca-b5f0abe1ae8f",
   "metadata": {},
   "source": [
    "## Ошибки асессоров"
   ]
  },
  {
   "cell_type": "code",
   "execution_count": 244,
   "id": "b9231d39-b40a-4b7c-bbbe-8ccd0bf2b1a4",
   "metadata": {
    "collapsed": true,
    "jupyter": {
     "outputs_hidden": true
    },
    "tags": []
   },
   "outputs": [
    {
     "data": {
      "text/html": [
       "\n",
       "    <div style=\"border:1px solid #ccc; padding:16px; border-radius:10px; font-family:sans-serif; background-color:#f9f9f9\">\n",
       "        <h2>📌 Index: 136</h2>\n",
       "        <p><strong>Запрос:</strong><br>htvjyn dtkjcbgtljd</p>\n",
       "        <p><strong>Адрес:</strong><br>Красноярск, проспект имени Газеты Красноярский Рабочий, 120</p>\n",
       "        <p><strong>Название:</strong><br>Спортмастер; Sportmaster</p>\n",
       "        <p><strong>Рубрика:</strong><br>Ремонт спортивного инвентаря</p>\n",
       "        <p><strong>Описание:</strong><br>Спортмастер предоставляет услуги по ремонту и обслуживанию беговых лыж, лыжных ботинок и велосипедов, включая нанесение парафина, установку креплений, формовку ботинок, мелкий и сложный ремонт велосипедов | обработка лыж парафином | установка креплений на лыжи | формовка лыжных ботинок | ремонт велосипедов | замена спиц | регулировка тормозов | ТО велосипеда | обслуживание лыжного инвентаря.</p>\n",
       "        <p><strong>Relevance:</strong> 1.0</p>\n",
       "        <p><strong>Отзывы:</strong><br>Организация занимается продажей спортивного инвентаря и предоставляет услуги по ремонту, включая заточку коньков. Тональность отзывов смешанная: один отзыв положительный, другой содержит критику. Хвалят: качество заточки коньков и вежливость мастера. Критикуют: отсутствие консультантов в зале. | 1. Критикует отсутствие консультантов в магазине | 2. Хвалят широкий ассортимент товаров, качество заточки коньков и вежливость персонала</p>\n",
       "        <p><strong>GPT ответ:</strong> IRRELEVANT<br>\n",
       "           <strong>GPT предсказание:</strong> 0.0</p>\n",
       "    </div>\n",
       "    "
      ],
      "text/plain": [
       "<IPython.core.display.HTML object>"
      ]
     },
     "metadata": {},
     "output_type": "display_data"
    }
   ],
   "source": [
    "# запрос htvjyn dtkjcbgtljd\n",
    "inspect_row(false_neg_df, 136)"
   ]
  },
  {
   "cell_type": "markdown",
   "id": "61003456-0e89-4d48-94fb-14b54ee8cdef",
   "metadata": {},
   "source": [
    "Вопрос не к Яндекс.Картам:))"
   ]
  },
  {
   "cell_type": "code",
   "execution_count": 246,
   "id": "0b023e39-c0ea-4812-8b53-8aa9f17d188b",
   "metadata": {
    "tags": []
   },
   "outputs": [
    {
     "data": {
      "text/html": [
       "\n",
       "    <div style=\"border:1px solid #ccc; padding:16px; border-radius:10px; font-family:sans-serif; background-color:#f9f9f9\">\n",
       "        <h2>📌 Index: 170</h2>\n",
       "        <p><strong>Запрос:</strong><br>сколько стоит капитальный ремонт двигателя</p>\n",
       "        <p><strong>Адрес:</strong><br>Ленинградская область, Всеволожский район, Заневское городское поселение, городской посёлок Янино-1, Шоссейная улица, 2</p>\n",
       "        <p><strong>Название:</strong><br>АвтоЛидер; AvtoLider</p>\n",
       "        <p><strong>Рубрика:</strong><br>Автосервис , автотехцентр</p>\n",
       "        <p><strong>Описание:</strong><br>АвтоЛидер предоставляет услуги по ремонту и обслуживанию автомобилей, включая ремонт гидроусилителя руля, замену компонентов подвески, тормозных систем, проведение компьютерной диагностики и развал-схождения | ремонт ГУР | замена шаровых опор | компьютерная диагностика | развал-схождение | замена амортизаторов | замена тормозных дисков | замена рулевых наконечников | замена радиатора</p>\n",
       "        <p><strong>Relevance:</strong> 1.0</p>\n",
       "        <p><strong>Отзывы:</strong><br>Организация занимается ремонтом автомобилей, включая подвеску, АКПП, кузовные работы, а также предоставляет услуги мойки. Отзывы преимущественно положительные: хвалят качество работы, оперативность и адекватные цены. Критикуют отдельные случаи некачественного обслуживания и диагностики. | 1. Хорошо выполнили работу по развалу. | 2. Быстро и качественно выполнили работу. | 3. Положительный опыт обслуживания, рекомендуют автосервис. | 4. Адекватные цены и качественная работа. | 5. Оперативное выполнение работ. | 6. Профессиональный ремонт подвески. | 7. Отличный сервис, быстрая работа. | 8. Высокая оценка работы автосервиса. | 9. Удовлетворенность качеством ремонта. | 10. Негативный опыт с диагностикой и обслуживанием. | 11. Быстрая и качественная замена рессор. | 12. Удовлетворительный опыт с развалом-схождением. | 13. Регулярное обслуживание, высокая оценка. | 14. Широкий спектр услуг, вежливый персонал. | 15. Отсутствие дополнительных трат. | 16. Быстрая замена запчасти. | 17. Профессионализм специалистов. | 18. Благодарность за оперативную помощь. | 19. Разочарование в качестве диагностики. | 20. Положительная оценка работы сервиса. | 21. Удовлетворение от обслуживания. | 22. Компетентность персонала. | 23. Доверие к профессионализму мастеров. | 24. Качественное выполнение ремонтных работ. | 25. Положительные впечатления от сервиса.</p>\n",
       "        <p><strong>GPT ответ:</strong> IRRELEVANT<br>\n",
       "           <strong>GPT предсказание:</strong> 0.0</p>\n",
       "    </div>\n",
       "    "
      ],
      "text/plain": [
       "<IPython.core.display.HTML object>"
      ]
     },
     "metadata": {},
     "output_type": "display_data"
    }
   ],
   "source": [
    "inspect_row(false_neg_df, 170)"
   ]
  },
  {
   "cell_type": "markdown",
   "id": "e917f4e6-58e0-4d8d-a380-bcf1f4f9472a",
   "metadata": {},
   "source": [
    "Пивнушка Дурдин была по другому адресу и это вообще не метро Сокол..."
   ]
  },
  {
   "cell_type": "code",
   "execution_count": 245,
   "id": "04641850-dd99-4176-884a-e98d71a164ba",
   "metadata": {
    "tags": []
   },
   "outputs": [
    {
     "data": {
      "text/html": [
       "\n",
       "    <div style=\"border:1px solid #ccc; padding:16px; border-radius:10px; font-family:sans-serif; background-color:#f9f9f9\">\n",
       "        <h2>📌 Index: 149</h2>\n",
       "        <p><strong>Запрос:</strong><br>пивной ресторан на соколе вместо дурдин</p>\n",
       "        <p><strong>Адрес:</strong><br>Москва, Ленинский проспект, 28</p>\n",
       "        <p><strong>Название:</strong><br>Пивнушка; Pivnushka</p>\n",
       "        <p><strong>Рубрика:</strong><br>Ресторан</p>\n",
       "        <p><strong>Описание:</strong><br>Ресторан предлагает разнообразные блюда: мясные, рыбные, салаты и закуски | бефстроганов | карэ ягненка | свиные рёбрышки | цыплёнок тапака | гуляш | салат Цезарь с креветками | салат из свежих овощей | скумбрия горячего копчения | стейк лосося с овощами | яблочный штрудель</p>\n",
       "        <p><strong>Relevance:</strong> 1.0</p>\n",
       "        <p><strong>Отзывы:</strong><br>Организация «Пивнушка» — это легендарное пивное заведение с историей, где ценят атмосферу и пиво. Отзывы смешанные: много положительных отзывов о пиве и атмосфере, но также есть критика высоких цен и ухудшения качества еды и обслуживания. \n",
       "\n",
       "| 1. Очень положительное мнение без деталей | 2. Подтверждение статуса заведения и высокое качество пива | 3. Высокое качество пива | 4. Нейтральное мнение с негативным оттенком | 5. Воспоминания о старом добром месте | 6. Положительное мнение | 7. Критика заведения | 8. Положительные отзывы о вкусе еды и персонала | 9. Рекомендация пивного ресторана | 10. Упоминание о высоких ценах при сохранении положительного впечатления | 11. Описание душевной атмосферы | 12. Замечание о повышении цен | 13. Критика уменьшения выбора пива и качества | 14. Негативный опыт посещения | 15. Положительные воспоминания о заведении | 16. Замечание о высоких ценах | 17. Подчёркивание высоких цен | 18. Сочетание высоких цен и положительных впечатлений | 19. Критика изменения качества пива и еды | 20. Воспоминания о положительных аспектах посещения | 21. Положительные впечатления от еды и пива | 22. Замечания о высоком уровне цен | 23. Положительные впечатления от атмосферы | 24. Замечание о высоком ценнике | 25. Общее положительное впечатление | 26. Подтверждение качества пива | 27. Положительные впечатления от пива и работы персонала | 28. Высокие оценки пива и общего впечатления | 29. Замечание об отсутствии дегустации пива | 30. Негативные впечатления от последнего посещения | 31. Общая поддержка отрицательных отзывов | 32. Критика высоких цен и качества еды | 33. Замечание о снижении качества еды при сохранении хорошего пива | 34. Положительные впечатления с оговоркой о ценах | 35. Совет посетить заведение для отдыха и дегустации пива | 36. Описание старинного места с вкусной едой | 37. Критика ухудшения состояния заведения | 38. Рекомендация заведения для спокойного отдыха | 39. Негативный опыт использования подарочного сертификата | 40. Замечания о меню и необходимости ремонта |</p>\n",
       "        <p><strong>GPT ответ:</strong> IRRELEVANT<br>\n",
       "           <strong>GPT предсказание:</strong> 0.0</p>\n",
       "    </div>\n",
       "    "
      ],
      "text/plain": [
       "<IPython.core.display.HTML object>"
      ]
     },
     "metadata": {},
     "output_type": "display_data"
    }
   ],
   "source": [
    "inspect_row(false_neg_df, 149)"
   ]
  },
  {
   "cell_type": "code",
   "execution_count": 243,
   "id": "a5b8bcf4-e1e8-45c8-9d13-5381ced918aa",
   "metadata": {
    "tags": []
   },
   "outputs": [
    {
     "data": {
      "text/html": [
       "\n",
       "    <div style=\"border:1px solid #ccc; padding:16px; border-radius:10px; font-family:sans-serif; background-color:#f9f9f9\">\n",
       "        <h2>📌 Index: 104</h2>\n",
       "        <p><strong>Запрос:</strong><br>стоматологическая клиника на метро аэропорт</p>\n",
       "        <p><strong>Адрес:</strong><br>Москва, проезд Берёзовой Рощи, 6</p>\n",
       "        <p><strong>Название:</strong><br>РуДента; RuDenta; Стоматологическая клиника РуДента; Стоматологическая клиника на Берёзовой Роще РуДента</p>\n",
       "        <p><strong>Рубрика:</strong><br>Стоматологическая клиника</p>\n",
       "        <p><strong>Описание:</strong><br>Стоматологическая клиника «РуДента» предлагает широкий спектр услуг: от консультаций и лечения кариеса до имплантации и ортодонтии, а также профессиональную гигиену и диагностику | консультация по лечению | лечение кариеса | лечение пульпита | удаление зуба | протезирование | имплантация | ортодонтическое лечение | гигиена полости рта | диагностика зубов | седация</p>\n",
       "        <p><strong>Relevance:</strong> 1.0</p>\n",
       "        <p><strong>Отзывы:</strong><br>Организация занимается стоматологическими услугами, включая лечение детей и взрослых, а также предоставляет услуги логопеда. Отзывы преимущественно положительные: хвалят профессионализм врачей, качество услуг, атмосферу в клинике и подход к детям. Критикуют высокие цены и иногда навязывание дополнительных услуг. | 1. Положительные впечатления от клиники | 2. Хвалят профессионализм и отношение к пациентам | 3. Отличные впечатления от лечения детей | 4. Подчёркивают квалификацию специалистов | 5. Упоминают высокое качество услуг и приятную атмосферу | 6. Отмечают внимательность и профессионализм врачей | 7. Говорят о высоком уровне обслуживания | 8. Подчёркивают комфорт и качество лечения | 9. Критикуют цены, но признают высокое качество услуг | 10. Положительные отзывы о работе с детьми | 11. Отмечают профессионализм и индивидуальный подход | 12. Упоминают о программе кэшбэка, которая не была заранее известна | 13. Хвалят внимательность и подробное объяснение процедур | 14. Положительные впечатления от работы с беременными | 15. Отмечают высокий уровень сервиса и качества лечения | 16. Подчёркивают важность нахождения своего специалиста | 17. Критикуют высокие цены, но признают качество услуг | 18. Положительные отзывы о гигиене полости рта | 19. Хвалят подход к лечению детей и атмосферу в клинике | 20. Отмечают профессиональный подход и комфорт во время лечения</p>\n",
       "        <p><strong>GPT ответ:</strong> IRRELEVANT<br>\n",
       "           <strong>GPT предсказание:</strong> 0.0</p>\n",
       "    </div>\n",
       "    "
      ],
      "text/plain": [
       "<IPython.core.display.HTML object>"
      ]
     },
     "metadata": {},
     "output_type": "display_data"
    }
   ],
   "source": [
    "inspect_row(false_neg_df, 104)"
   ]
  },
  {
   "cell_type": "code",
   "execution_count": null,
   "id": "28b8065c-a1b6-4261-b8d1-c08689af2683",
   "metadata": {},
   "outputs": [],
   "source": []
  },
  {
   "cell_type": "code",
   "execution_count": 242,
   "id": "e661843c-f5c2-4424-bed9-38baa2d7d7f9",
   "metadata": {
    "tags": []
   },
   "outputs": [
    {
     "data": {
      "text/html": [
       "\n",
       "    <div style=\"border:1px solid #ccc; padding:16px; border-radius:10px; font-family:sans-serif; background-color:#f9f9f9\">\n",
       "        <h2>📌 Index: 64</h2>\n",
       "        <p><strong>Запрос:</strong><br>рестораны в тц океания</p>\n",
       "        <p><strong>Адрес:</strong><br>Москва, Мироновская улица, 33, стр. 28</p>\n",
       "        <p><strong>Название:</strong><br>Кавказский дворик; Kavkazsky Dvorik</p>\n",
       "        <p><strong>Рубрика:</strong><br>Ресторан</p>\n",
       "        <p><strong>Описание:</strong><br>Ресторан «Кавказский дворик» предлагает широкий выбор блюд кавказской и европейской кухни, включая шашлыки, люля-кебабы, супы, хачапури, манты, хинкали, салаты и десерты | шашлык из осетрины | люля-кебаб из баранины | суп-пюре из чечевицы | хачапури по-аджарски | плов «Чайханский» | салат «Цезарь» с семгой | десерты (наполеон, медовик) | шашлык из курицы | хинкали по-грузински | манты</p>\n",
       "        <p><strong>Relevance:</strong> 1.0</p>\n",
       "        <p><strong>Отзывы:</strong><br>Организация занимается предоставлением услуг в сфере общественного питания, специализируясь на кавказской кухне. Тональность отзывов преимущественно положительная: множество похвал в адрес кухни и атмосферы, однако есть замечания по поводу цен и уровня шума. Хвалят: вкусную еду, атмосферу, вежливый персонал. Критикуют: высокие цены, шум.\n",
       "\n",
       "1. Пользователь доволен местом.\n",
       "2. Пользователь отмечает всё отлично.\n",
       "3. Пользователь хвалит кухню.\n",
       "4. Пользователь недоволен вкусом еды.\n",
       "5. Пользователь считает место приятным.\n",
       "6. Пользователь упоминает о разборках в заведении.\n",
       "7. Пользователь называет ресторан шикарным.\n",
       "8. Пользователь хвалит вкусную кухню.\n",
       "9. Пользователь остался доволен всем.\n",
       "10. Пользователь считает кухню неплохой.\n",
       "11. Пользователь высоко оценивает вкус кухни.\n",
       "12. Пользователь доволен кухней.\n",
       "13. Пользователь отмечает высокие цены в чайхане.\n",
       "14. Пользователь хвалит весёлую атмосферу и вкусную еду.\n",
       "15. Пользователь восхищается заведением.\n",
       "16. Пользователь отмечает вкусную еду и весёлую атмосферу.\n",
       "17. Пользователь доволен всем.\n",
       "18. Пользователь хвалит атмосферу.\n",
       "19. Пользователь рекомендует заведение для людей старше 40 лет.\n",
       "20. Пользователь отмечает наличие живой музыки и вкусных шашлыков.\n",
       "21. Пользователь жалуется на то, что блюда стали слишком солёными.\n",
       "22. Пользователь хвалит красоту и вкус заведения.\n",
       "23. Пользователь доволен приготовленной едой.\n",
       "24. Пользователь рекомендует кухню.\n",
       "25. Пользователь хвалит приготовление барашка и вкус помидоров.\n",
       "26. Пользователь всегда доволен вкусом еды.</p>\n",
       "        <p><strong>GPT ответ:</strong> IRRELEVANT<br>\n",
       "           <strong>GPT предсказание:</strong> 0.0</p>\n",
       "    </div>\n",
       "    "
      ],
      "text/plain": [
       "<IPython.core.display.HTML object>"
      ]
     },
     "metadata": {},
     "output_type": "display_data"
    }
   ],
   "source": [
    "inspect_row(false_neg_df, 64)"
   ]
  },
  {
   "cell_type": "code",
   "execution_count": 241,
   "id": "53da5d51-d115-4ded-84c0-1956de1598a6",
   "metadata": {
    "collapsed": true,
    "jupyter": {
     "outputs_hidden": true
    },
    "tags": []
   },
   "outputs": [
    {
     "data": {
      "text/html": [
       "\n",
       "    <div style=\"border:1px solid #ccc; padding:16px; border-radius:10px; font-family:sans-serif; background-color:#f9f9f9\">\n",
       "        <h2>📌 Index: 43</h2>\n",
       "        <p><strong>Запрос:</strong><br>зал для кроссфита</p>\n",
       "        <p><strong>Адрес:</strong><br>Республика Башкортостан, Уфа, бульвар Тухвата Янаби, 47</p>\n",
       "        <p><strong>Название:</strong><br>Лейтай; Leitai</p>\n",
       "        <p><strong>Рубрика:</strong><br>Спортивный клуб , секция</p>\n",
       "        <p><strong>Описание:</strong><br>Спортивный клуб «Лейтай» предлагает занятия в спортивной школе и школе танцев, включая персональные тренировки | персональная тренировка</p>\n",
       "        <p><strong>Relevance:</strong> 1.0</p>\n",
       "        <p><strong>Отзывы:</strong><br>Организация «Лейтай» занимается проведением спортивных занятий, включая тайский бокс и ушу. Отзывы смешанные: несколько положительных и отрицательных. Хвалят: тренеров, отношение к детям, результаты соревнований. Критикуют: вытягивание дополнительных денег, неорганизованность занятий, проблемы с расписанием.\n",
       "| 1. Рекомендует клуб | 2. Положительный отзыв о клубе | 3. Критикует вытягивание денег и организацию занятий | 4. Жалоба на вынужденное приобретение карты и невыдачу денег | 5. Разочарование из-за плохой организации и отсутствия внимания тренера | 6. Положительный отзыв о тренере и результатах, защита платного обучения | 7. Хороший клуб, хвалит тренера и чистоту | 8. Благодарность за результативные тренировки и поддержку | 9. Хороший спортклуб, хвалит профессионального тренера | 10. Положительный отзыв о добром тренере | 11. Хвалят соляную пещеру и тренировки по ушу | 12. Хороший клуб с удобным графиком | 13. Хвалит добрых и отзывчивых тренеров | 14. Проблема с дозвоном по телефону</p>\n",
       "        <p><strong>GPT ответ:</strong> IRRELEVANT<br>\n",
       "           <strong>GPT предсказание:</strong> 0.0</p>\n",
       "    </div>\n",
       "    "
      ],
      "text/plain": [
       "<IPython.core.display.HTML object>"
      ]
     },
     "metadata": {},
     "output_type": "display_data"
    }
   ],
   "source": [
    "inspect_row(false_neg_df, 43)"
   ]
  },
  {
   "cell_type": "code",
   "execution_count": 219,
   "id": "3f63fb50-2714-4779-8c6b-86a4b9725bd7",
   "metadata": {
    "tags": []
   },
   "outputs": [
    {
     "data": {
      "text/html": [
       "\n",
       "    <div style=\"border:1px solid #ccc; padding:16px; border-radius:10px; font-family:sans-serif; background-color:#f9f9f9\">\n",
       "        <h2>📌 Index: 14</h2>\n",
       "        <p><strong>Запрос:</strong><br>где вкусно и недорого поесть на невском проспекте в санкт-петербурге</p>\n",
       "        <p><strong>Адрес:</strong><br>Санкт-Петербург, проспект Просвещения, 19</p>\n",
       "        <p><strong>Название:</strong><br>Вкусно — и точка; Vkusno — i tochka; McDonald's; McDonalds; Мак; МакДак; Макавто; Макдак; Макдоналдс; Макдональдс</p>\n",
       "        <p><strong>Рубрика:</strong><br>Быстрое питание</p>\n",
       "        <p><strong>Описание:</strong><br>«Вкусно — и точка» предлагает широкий ассортимент блюд быстрого питания, включая бургеры, стрипсы, картофель фри и различные напитки. | Биг Спешиал | Биг Хит | Чикен Премьер | Картофель Фри | Стрипсы | Капучино | Чай Липтон | Яблочный Шорли | Гамбургер | Чизбургер</p>\n",
       "        <p><strong>Relevance:</strong> 1.0</p>\n",
       "        <p><strong>Отзывы:</strong><br>Организация занимается быстрым питанием, аналогично Макдоналдсу. Отзывы смешанные: много критики по поводу долгого ожидания и качества обслуживания, но также есть положительные отзывы о вкусе еды. Хвалят: вкус блюд. Критикуют: очереди, медленное обслуживание, ошибки в заказах, некомпетентность персонала.\n",
       "| 1. Критикуют неудобные стаканчики | 2. Пользователь доволен | 3. Положительное мнение, считают место крутым | 4. Сравнивают с обычным «Макдоналдсом» | 5. Жалуются на долгое ожидание (20 минут) | 6. Отмечают долгое ожидание | 7. Критикуют малое количество посадочных мест | 8. Жалуются на холодную и сухую еду | 9. Пользователь отравился | 10. Жалуются на невкусную картошку и долгое ожидание (30 минут) | 11. Положительное мнение с замечанием о высоких ценах | 12. Пользователю понравилось | 13. Жалуются на длительное время приготовления чизбургеров | 14. Предупреждают о длительном ожидании заказа | 15. Положительное мнение | 16. Хвалят манговый коктейль | 17. Положительное мнение | 18. Хвалят обслуживание и вкус | 19. Критикуют работу доставки | 20. Критикуют охранника за выгон посетителя | 21. Жалуются на медленное обслуживание при доставке | 22. Жалуются на качество еды и ошибки в заказе | 23. Критикуют огромные очереди и медленное обслуживание | 24. Положительное мнение о вкусе | 25. Критикуют ошибку в заказе и отсутствие коктейля из-за сдачи | 26. Отрицательное мнение о качестве еды и обслуживании | 27. Жалуются на очереди и нехватку мест | 28. Критикуют длительное ожидание рожка и отсутствие мест | 29. Положительное мнение о вкусе, но критикуют отношение к клиентам и грязные подносы | 30. Жалуются на длительное ожидание наггетсов | 31. Друг пользователя отравился | 32. Критикуют качество приготовления и обслуживание | 33. Положительное мнение о скорости и качестве обслуживания | 34. Жалуются на высокие цены и качество еды | 35. Критикуют персонал и длительное ожидание | 36. Критикуют персонал и медленное обслуживание | 37. Ставят оценку 3 звезды за длительное ожидание |</p>\n",
       "        <p><strong>GPT ответ:</strong> IRRELEVANT<br>\n",
       "           <strong>GPT предсказание:</strong> 0.0</p>\n",
       "    </div>\n",
       "    "
      ],
      "text/plain": [
       "<IPython.core.display.HTML object>"
      ]
     },
     "metadata": {},
     "output_type": "display_data"
    }
   ],
   "source": [
    "inspect_row(false_neg_df, 14)"
   ]
  },
  {
   "cell_type": "markdown",
   "id": "cdada681-3653-490c-8c9f-e37b886a0839",
   "metadata": {},
   "source": [
    "В отзыве четко описано \"Считают цены высокими\"!"
   ]
  },
  {
   "cell_type": "code",
   "execution_count": 221,
   "id": "0f4aa299-4952-488d-bb76-52ad8d945cb9",
   "metadata": {
    "tags": []
   },
   "outputs": [
    {
     "data": {
      "text/html": [
       "\n",
       "    <div style=\"border:1px solid #ccc; padding:16px; border-radius:10px; font-family:sans-serif; background-color:#f9f9f9\">\n",
       "        <h2>📌 Index: 25</h2>\n",
       "        <p><strong>Запрос:</strong><br>где дешево поесть в санкт-петербурге 2017</p>\n",
       "        <p><strong>Адрес:</strong><br>Санкт-Петербург, Малая Морская улица, 7</p>\n",
       "        <p><strong>Название:</strong><br>Буше; Bushe; БУШЕ пекарня-кондитерская ООО; Буше пекарня-кондитерская; Bush</p>\n",
       "        <p><strong>Рубрика:</strong><br>Пекарня</p>\n",
       "        <p><strong>Описание:</strong><br>Пекарня «Буше» предлагает широкий ассортимент выпечки, десертов, сэндвичей и горячих блюд, а также различные виды кофе и чая | пирожное Баваруа | пирожное Мильфёй | торт Ле Сантье | круассан буше | сэндвич с лососем | омлет с форелью | сырники с ягодами | бриошь с беконом | суп сливочный с лососем | паста Казаречче с креветками | хлеб ржаной | кофе американо | чай Матча Латте</p>\n",
       "        <p><strong>Relevance:</strong> 1.0</p>\n",
       "        <p><strong>Отзывы:</strong><br>Организация занимается выпечкой и продажей кондитерских изделий, а также предлагает завтраки и другие блюда. Отзывы преимущественно положительные: хвалят вкус еды и напитков, атмосферу и обслуживание, но критикуют высокие цены и иногда медленную работу персонала. | 1. Критикуют состояние туалета. | 2. Отмечают, что кухня не работала. | 3. Хвалят заведение в общем. | 4. Считают цены высокими. | 5. Восхищаются круасанами. | 6. Говорят, что всё вкусно. | 7. Выражают общее недовольство. | 8. Критикуют грязь и холодный кофе. | 9. Отмечают вкусные пирожные. | 10. Рекомендуют кафе. | 11. Подчёркивают вкусную еду и высокие цены. | 12. Отмечают пыль и чистоту. | 13. Хвалят завтраки. | 14. Высоко оценивают капучино. | 15. Рекомендуют кофе. | 16. Считают соотношение цены и качества соответствующим. | 17. Подчёркивают вкусный завтрак. | 18. Отмечают работу персонала и близость к транспорту. | 19. Отмечают высокие цены, но подтверждают вкус еды. | 20. Выражают общее удовлетворение.</p>\n",
       "        <p><strong>GPT ответ:</strong> IRRELEVANT<br>\n",
       "           <strong>GPT предсказание:</strong> 0.0</p>\n",
       "    </div>\n",
       "    "
      ],
      "text/plain": [
       "<IPython.core.display.HTML object>"
      ]
     },
     "metadata": {},
     "output_type": "display_data"
    }
   ],
   "source": [
    "inspect_row(false_neg_df, 25)"
   ]
  },
  {
   "cell_type": "code",
   "execution_count": 222,
   "id": "3f7c4815-1578-4727-b642-cc6b29ed7d65",
   "metadata": {
    "tags": []
   },
   "outputs": [
    {
     "data": {
      "text/html": [
       "\n",
       "    <div style=\"border:1px solid #ccc; padding:16px; border-radius:10px; font-family:sans-serif; background-color:#f9f9f9\">\n",
       "        <h2>📌 Index: 39</h2>\n",
       "        <p><strong>Запрос:</strong><br>тетеплый плинтус 30мм высота на профиль окна</p>\n",
       "        <p><strong>Адрес:</strong><br>Воронежская область, Рамонский район, Яменское сельское поселение, посёлок Солнечный, Парковая улица, 5</p>\n",
       "        <p><strong>Название:</strong><br>Лемана Про; Lemana Pro; Leroy Merlin; Леруа Мерлен</p>\n",
       "        <p><strong>Рубрика:</strong><br>Строительный магазин</p>\n",
       "        <p><strong>Описание:</strong><br>Лемана Про предлагает широкий ассортимент товаров для строительства, ремонта и обустройства дома, включая строительные материалы, отделочные изделия, мебель и инструменты | ванна | гипсокартон | обои | профиль | качели садовые | клей для обоев | малярная лента | краска для потолков | краска для стен | каркас напольный | ламинат | подстолье | лист рифлёный | наличник | зеркало | плита ОСП | перфоратор | ящик | инсталляция с унитазом | труба полипропиленовая | полотенцесушитель | радиатор | стеллаж | панель светодиодная | светильник | унитаз | клей для плитки | шкаф распашной | штукатурка гипсовая | водонагреватель | пылесос строительный.</p>\n",
       "        <p><strong>Relevance:</strong> 1.0</p>\n",
       "        <p><strong>Отзывы:</strong><br>Организация «Лемана Про» занимается продажей строительных материалов, товаров для дома и сада. Отзывы в основном положительные: пользователи хвалят большой ассортимент и удобство магазина, но критикуют высокие цены и некоторые организационные моменты. | 1. Хвалят общий положительный опыт посещения магазина | 2. Отмечают удобную доставку | 3. Выражают общее удовлетворение магазином | 4. Критикуют состояние туалета | 5. Выражают любовь к магазину | 6. Подчёркивают большой размер магазина | 7. Считают, что раньше было лучше | 8. Критикуют равнодушие сотрудников | 9. Подчёркивают широкий ассортимент | 10. Подтверждают наличие всего необходимого | 11. Отмечают неплохую общую оценку магазина | 12. Выражают восторг от магазина | 13. Подчёркивают компетентность и отзывчивость сотрудников | 14. Отмечают хорошее обслуживание юридических лиц | 15. Критикуют повышение цен после ребрендинга | 16. Хвалят удобное расположение и большую парковку | 17. Критикуют завышенные цены на многие позиции | 18. Отмечают достаточное количество товаров по нормальным ценам | 19. Подчёркивают огромный выбор товаров | 20. Критикуют нехватку кассиров и большие очереди | 21. Отмечают, что не всё всегда в наличии | 22. Хвалят приветливый персонал | 23. Критикуют отсутствие ценового преимущества | 24. Подчёркивают современный формат магазина | 25. Отмечают возможность найти всё необходимое | 26. Критикуют длительность погрузки | 27. Подчёркивают широкий ассортимент продукции | 28. Критикуют высокие цены | 29. Критикуют отсутствие некоторых товаров | 30. Подчёркивают удобство магазина | 31. Критикуют сложности с доступом к разгрузке | 32. Подчёркивают наличие всего в магазине</p>\n",
       "        <p><strong>GPT ответ:</strong> IRRELEVANT<br>\n",
       "           <strong>GPT предсказание:</strong> 0.0</p>\n",
       "    </div>\n",
       "    "
      ],
      "text/plain": [
       "<IPython.core.display.HTML object>"
      ]
     },
     "metadata": {},
     "output_type": "display_data"
    }
   ],
   "source": [
    "inspect_row(false_neg_df, 39)"
   ]
  },
  {
   "cell_type": "code",
   "execution_count": 249,
   "id": "c9d43a09-c3c5-4e4b-8f42-9b393a361b7b",
   "metadata": {
    "tags": []
   },
   "outputs": [],
   "source": [
    "train_data, val_data, test_data = load_dataset(DATA_PATH, drop_uncertain=True, val_frac=0.01)"
   ]
  },
  {
   "cell_type": "code",
   "execution_count": 252,
   "id": "f0fde325-9c0b-423a-97b5-fc8fe6797863",
   "metadata": {
    "tags": []
   },
   "outputs": [
    {
     "data": {
      "text/plain": [
       "text                                0\n",
       "address                             0\n",
       "name                                0\n",
       "normalized_main_rubric_name_ru      0\n",
       "permalink                           0\n",
       "prices_summarized                 207\n",
       "relevance                           0\n",
       "reviews_summarized                 15\n",
       "dtype: int64"
      ]
     },
     "execution_count": 252,
     "metadata": {},
     "output_type": "execute_result"
    }
   ],
   "source": [
    "test_data.isnull().sum()"
   ]
  },
  {
   "cell_type": "code",
   "execution_count": 29,
   "id": "33bfd6c1-ffd1-4902-906a-548862d72764",
   "metadata": {
    "collapsed": true,
    "jupyter": {
     "outputs_hidden": true
    }
   },
   "outputs": [
    {
     "data": {
      "text/html": [
       "<div>\n",
       "<style scoped>\n",
       "    .dataframe tbody tr th:only-of-type {\n",
       "        vertical-align: middle;\n",
       "    }\n",
       "\n",
       "    .dataframe tbody tr th {\n",
       "        vertical-align: top;\n",
       "    }\n",
       "\n",
       "    .dataframe thead th {\n",
       "        text-align: right;\n",
       "    }\n",
       "</style>\n",
       "<table border=\"1\" class=\"dataframe\">\n",
       "  <thead>\n",
       "    <tr style=\"text-align: right;\">\n",
       "      <th></th>\n",
       "      <th>text</th>\n",
       "      <th>address</th>\n",
       "      <th>name</th>\n",
       "      <th>normalized_main_rubric_name_ru</th>\n",
       "      <th>permalink</th>\n",
       "      <th>prices_summarized</th>\n",
       "      <th>relevance</th>\n",
       "      <th>reviews_summarized</th>\n",
       "      <th>relevance_new</th>\n",
       "    </tr>\n",
       "  </thead>\n",
       "  <tbody>\n",
       "    <tr>\n",
       "      <th>9</th>\n",
       "      <td>новостройки москвы с отделкой от застройщика р...</td>\n",
       "      <td>Москва, Ленинградский проспект, 80к16, подъезд 3</td>\n",
       "      <td>Миэль; Miel; МИЭЛЬ; Офис на Соколе</td>\n",
       "      <td>Агентство недвижимости</td>\n",
       "      <td>1227767207</td>\n",
       "      <td>None</td>\n",
       "      <td>0.0</td>\n",
       "      <td>Организация занимается сделками с недвижимость...</td>\n",
       "      <td>0.0</td>\n",
       "    </tr>\n",
       "    <tr>\n",
       "      <th>53</th>\n",
       "      <td>расположение станций метро в новой москве на к...</td>\n",
       "      <td>Москва, Московское центральное кольцо, станция...</td>\n",
       "      <td>Крымская; Krymskaya; Кримська; Метро Крымская;...</td>\n",
       "      <td>Станция метро</td>\n",
       "      <td>121441159673</td>\n",
       "      <td>None</td>\n",
       "      <td>1.0</td>\n",
       "      <td>Организация представляет собой станцию метро М...</td>\n",
       "      <td>1.0</td>\n",
       "    </tr>\n",
       "    <tr>\n",
       "      <th>103</th>\n",
       "      <td>Ремонт глюкометров томск</td>\n",
       "      <td>Томск, проспект Фрунзе, 232</td>\n",
       "      <td>Дельрус</td>\n",
       "      <td>Медицинское оборудование , медтехника</td>\n",
       "      <td>76170150859</td>\n",
       "      <td>None</td>\n",
       "      <td>0.0</td>\n",
       "      <td>None</td>\n",
       "      <td>0.0</td>\n",
       "    </tr>\n",
       "    <tr>\n",
       "      <th>238</th>\n",
       "      <td>мрт в метро</td>\n",
       "      <td>Москва, Ленинградское шоссе, 47</td>\n",
       "      <td>Медскан; Medical Center Medskan; Medscan; Диаг...</td>\n",
       "      <td>Медцентр , клиника</td>\n",
       "      <td>1715217562</td>\n",
       "      <td>Медскан предоставляет широкий спектр физиотера...</td>\n",
       "      <td>1.0</td>\n",
       "      <td>Организация занимается медицинскими обследован...</td>\n",
       "      <td>1.0</td>\n",
       "    </tr>\n",
       "    <tr>\n",
       "      <th>886</th>\n",
       "      <td>суточный квартиры метро шелепиха</td>\n",
       "      <td>Москва, Новомосковский административный округ,...</td>\n",
       "      <td>Суточная квартира; Apartments; Сутачная Кватэр...</td>\n",
       "      <td>Жильё посуточно</td>\n",
       "      <td>242854723031</td>\n",
       "      <td>Предлагает аренду однокомнатной квартиры посут...</td>\n",
       "      <td>1.0</td>\n",
       "      <td>Организация предоставляет жильё посуточно. Отз...</td>\n",
       "      <td>1.0</td>\n",
       "    </tr>\n",
       "    <tr>\n",
       "      <th>...</th>\n",
       "      <td>...</td>\n",
       "      <td>...</td>\n",
       "      <td>...</td>\n",
       "      <td>...</td>\n",
       "      <td>...</td>\n",
       "      <td>...</td>\n",
       "      <td>...</td>\n",
       "      <td>...</td>\n",
       "      <td>...</td>\n",
       "    </tr>\n",
       "    <tr>\n",
       "      <th>27834</th>\n",
       "      <td>сервисный центр and в москве ремонт тонометров...</td>\n",
       "      <td>Москва, Вересковая улица, 16</td>\n",
       "      <td>Ремсервисбыт; Remservisbyut; Remservisbyt; Сти...</td>\n",
       "      <td>Ремонт бытовой техники</td>\n",
       "      <td>235281450820</td>\n",
       "      <td>Ремонт бытовой техники, включая стиральные, су...</td>\n",
       "      <td>0.0</td>\n",
       "      <td>Организация занимается ремонтом бытовой техник...</td>\n",
       "      <td>0.0</td>\n",
       "    </tr>\n",
       "    <tr>\n",
       "      <th>28180</th>\n",
       "      <td>Фото на документы метро академическая</td>\n",
       "      <td>Санкт-Петербург, улица Бабушкина, 12</td>\n",
       "      <td>Фотосет; FotoSet; Фото Сет; Фото копи центр; Ф...</td>\n",
       "      <td>Фотоуслуги</td>\n",
       "      <td>1178912561</td>\n",
       "      <td>Предоставляет фотоуслуги, услуги печати и копи...</td>\n",
       "      <td>0.0</td>\n",
       "      <td>Организация предоставляет фотоуслуги, печать и...</td>\n",
       "      <td>0.0</td>\n",
       "    </tr>\n",
       "    <tr>\n",
       "      <th>29133</th>\n",
       "      <td>Москва станция метро Парк Победы отели поблизости</td>\n",
       "      <td>Тульская область, Щёкинский район, сельское по...</td>\n",
       "      <td>Слобода; Sloboda; База отдыха Слобода</td>\n",
       "      <td>Гостевой дом</td>\n",
       "      <td>153146857059</td>\n",
       "      <td>Гостевой дом «Слобода» предлагает различные ва...</td>\n",
       "      <td>1.0</td>\n",
       "      <td>Гостевой дом «Слобода» предлагает проживание в...</td>\n",
       "      <td>1.0</td>\n",
       "    </tr>\n",
       "    <tr>\n",
       "      <th>29160</th>\n",
       "      <td>недорогое кафе в москве рядом с метро</td>\n",
       "      <td>Москва, Яузский бульвар, 14/8</td>\n",
       "      <td>47+Жöн; Lozhechka; Ложечка; +47; Ложка; Lozhka</td>\n",
       "      <td>Ресторан</td>\n",
       "      <td>20652000034</td>\n",
       "      <td>None</td>\n",
       "      <td>0.0</td>\n",
       "      <td>Организация занимается предоставлением услуг р...</td>\n",
       "      <td>0.0</td>\n",
       "    </tr>\n",
       "    <tr>\n",
       "      <th>29343</th>\n",
       "      <td>итальянский ресторан метро третьяковская</td>\n",
       "      <td>Москва, Благовещенский переулок, 10с2</td>\n",
       "      <td>Unica; Ресторан Unica; Restaurant Unica</td>\n",
       "      <td>Ресторан</td>\n",
       "      <td>198020325457</td>\n",
       "      <td>Ресторан Unica предлагает разнообразные блюда ...</td>\n",
       "      <td>1.0</td>\n",
       "      <td>Организация занимается ресторанным бизнесом, п...</td>\n",
       "      <td>1.0</td>\n",
       "    </tr>\n",
       "  </tbody>\n",
       "</table>\n",
       "<p>158 rows × 9 columns</p>\n",
       "</div>"
      ],
      "text/plain": [
       "                                                    text  \\\n",
       "9      новостройки москвы с отделкой от застройщика р...   \n",
       "53     расположение станций метро в новой москве на к...   \n",
       "103                             Ремонт глюкометров томск   \n",
       "238                                          мрт в метро   \n",
       "886                     суточный квартиры метро шелепиха   \n",
       "...                                                  ...   \n",
       "27834  сервисный центр and в москве ремонт тонометров...   \n",
       "28180              Фото на документы метро академическая   \n",
       "29133  Москва станция метро Парк Победы отели поблизости   \n",
       "29160              недорогое кафе в москве рядом с метро   \n",
       "29343           итальянский ресторан метро третьяковская   \n",
       "\n",
       "                                                 address  \\\n",
       "9       Москва, Ленинградский проспект, 80к16, подъезд 3   \n",
       "53     Москва, Московское центральное кольцо, станция...   \n",
       "103                          Томск, проспект Фрунзе, 232   \n",
       "238                      Москва, Ленинградское шоссе, 47   \n",
       "886    Москва, Новомосковский административный округ,...   \n",
       "...                                                  ...   \n",
       "27834                       Москва, Вересковая улица, 16   \n",
       "28180               Санкт-Петербург, улица Бабушкина, 12   \n",
       "29133  Тульская область, Щёкинский район, сельское по...   \n",
       "29160                      Москва, Яузский бульвар, 14/8   \n",
       "29343              Москва, Благовещенский переулок, 10с2   \n",
       "\n",
       "                                                    name  \\\n",
       "9                     Миэль; Miel; МИЭЛЬ; Офис на Соколе   \n",
       "53     Крымская; Krymskaya; Кримська; Метро Крымская;...   \n",
       "103                                              Дельрус   \n",
       "238    Медскан; Medical Center Medskan; Medscan; Диаг...   \n",
       "886    Суточная квартира; Apartments; Сутачная Кватэр...   \n",
       "...                                                  ...   \n",
       "27834  Ремсервисбыт; Remservisbyut; Remservisbyt; Сти...   \n",
       "28180  Фотосет; FotoSet; Фото Сет; Фото копи центр; Ф...   \n",
       "29133              Слобода; Sloboda; База отдыха Слобода   \n",
       "29160     47+Жöн; Lozhechka; Ложечка; +47; Ложка; Lozhka   \n",
       "29343            Unica; Ресторан Unica; Restaurant Unica   \n",
       "\n",
       "              normalized_main_rubric_name_ru     permalink  \\\n",
       "9                     Агентство недвижимости    1227767207   \n",
       "53                             Станция метро  121441159673   \n",
       "103    Медицинское оборудование , медтехника   76170150859   \n",
       "238                       Медцентр , клиника    1715217562   \n",
       "886                          Жильё посуточно  242854723031   \n",
       "...                                      ...           ...   \n",
       "27834                 Ремонт бытовой техники  235281450820   \n",
       "28180                             Фотоуслуги    1178912561   \n",
       "29133                           Гостевой дом  153146857059   \n",
       "29160                               Ресторан   20652000034   \n",
       "29343                               Ресторан  198020325457   \n",
       "\n",
       "                                       prices_summarized  relevance  \\\n",
       "9                                                   None        0.0   \n",
       "53                                                  None        1.0   \n",
       "103                                                 None        0.0   \n",
       "238    Медскан предоставляет широкий спектр физиотера...        1.0   \n",
       "886    Предлагает аренду однокомнатной квартиры посут...        1.0   \n",
       "...                                                  ...        ...   \n",
       "27834  Ремонт бытовой техники, включая стиральные, су...        0.0   \n",
       "28180  Предоставляет фотоуслуги, услуги печати и копи...        0.0   \n",
       "29133  Гостевой дом «Слобода» предлагает различные ва...        1.0   \n",
       "29160                                               None        0.0   \n",
       "29343  Ресторан Unica предлагает разнообразные блюда ...        1.0   \n",
       "\n",
       "                                      reviews_summarized  relevance_new  \n",
       "9      Организация занимается сделками с недвижимость...            0.0  \n",
       "53     Организация представляет собой станцию метро М...            1.0  \n",
       "103                                                 None            0.0  \n",
       "238    Организация занимается медицинскими обследован...            1.0  \n",
       "886    Организация предоставляет жильё посуточно. Отз...            1.0  \n",
       "...                                                  ...            ...  \n",
       "27834  Организация занимается ремонтом бытовой техник...            0.0  \n",
       "28180  Организация предоставляет фотоуслуги, печать и...            0.0  \n",
       "29133  Гостевой дом «Слобода» предлагает проживание в...            1.0  \n",
       "29160  Организация занимается предоставлением услуг р...            0.0  \n",
       "29343  Организация занимается ресторанным бизнесом, п...            1.0  \n",
       "\n",
       "[158 rows x 9 columns]"
      ]
     },
     "execution_count": 29,
     "metadata": {},
     "output_type": "execute_result"
    }
   ],
   "source": [
    "train_data[train_data.text.str.contains(r'метро')]"
   ]
  },
  {
   "cell_type": "code",
   "execution_count": 31,
   "id": "5033f491-1a36-4df6-8a18-48fa65df51c4",
   "metadata": {},
   "outputs": [
    {
     "data": {
      "text/plain": [
       "text                                               суточный квартиры метро шелепиха\n",
       "address                           Москва, Новомосковский административный округ,...\n",
       "name                              Суточная квартира; Apartments; Сутачная Кватэр...\n",
       "normalized_main_rubric_name_ru                                      Жильё посуточно\n",
       "permalink                                                              242854723031\n",
       "prices_summarized                 Предлагает аренду однокомнатной квартиры посут...\n",
       "relevance                                                                       1.0\n",
       "reviews_summarized                Организация предоставляет жильё посуточно. Отз...\n",
       "relevance_new                                                                   1.0\n",
       "Name: 886, dtype: object"
      ]
     },
     "execution_count": 31,
     "metadata": {},
     "output_type": "execute_result"
    }
   ],
   "source": [
    "train_data.loc[886]"
   ]
  },
  {
   "cell_type": "code",
   "execution_count": 32,
   "id": "f1ad9fbe-f746-449f-9515-191f6c8365cf",
   "metadata": {},
   "outputs": [
    {
     "data": {
      "text/plain": [
       "'Москва, Новомосковский административный округ, посёлок Коммунарка, улица Потаповская Роща, 7, корп. 1'"
      ]
     },
     "execution_count": 32,
     "metadata": {},
     "output_type": "execute_result"
    }
   ],
   "source": [
    "train_data.loc[886]['address']"
   ]
  },
  {
   "cell_type": "code",
   "execution_count": null,
   "id": "fd9fec7c-3ecd-4d4b-88eb-cb27406a4ca6",
   "metadata": {},
   "outputs": [],
   "source": []
  }
 ],
 "metadata": {
  "kernelspec": {
   "display_name": "Python (ds-project)",
   "language": "python",
   "name": "ds-project"
  },
  "language_info": {
   "codemirror_mode": {
    "name": "ipython",
    "version": 3
   },
   "file_extension": ".py",
   "mimetype": "text/x-python",
   "name": "python",
   "nbconvert_exporter": "python",
   "pygments_lexer": "ipython3",
   "version": "3.12.2"
  }
 },
 "nbformat": 4,
 "nbformat_minor": 5
}
